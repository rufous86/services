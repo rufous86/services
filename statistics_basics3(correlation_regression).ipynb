{
 "cells": [
  {
   "cell_type": "markdown",
   "metadata": {},
   "source": [
    "# Корреляция (correlation)"
   ]
  },
  {
   "cell_type": "code",
   "execution_count": 49,
   "metadata": {},
   "outputs": [
    {
     "name": "stdout",
     "output_type": "stream",
     "text": [
      "covariance=-0.89\n",
      "correlaion=-0.33\n"
     ]
    },
    {
     "data": {
      "image/png": "[encoded data removed]",
      "text/plain": [
       "<Figure size 432x288 with 1 Axes>"
      ]
     },
     "metadata": {
      "needs_background": "light"
     },
     "output_type": "display_data"
    },
    {
     "name": "stdout",
     "output_type": "stream",
     "text": [
      "          expr       age\n",
      "expr  1.000000 -0.330694\n",
      "age  -0.330694  1.000000\n",
      "determination=0.11\n"
     ]
    }
   ],
   "source": [
    "import pandas as pd\n",
    "import matplotlib.pyplot as plt\n",
    "\n",
    "data = pd.read_csv(\"data/atherosclerosis.csv\")\n",
    "X = data[\"age\"]\n",
    "y = data[\"expr\"]\n",
    "n = data.shape[0]\n",
    "\n",
    "# coef of covariance\n",
    "cov = sum((X - X.mean()) * (y - y.mean())) / (n - 1)\n",
    "print(f\"covariance={cov:.02f}\")\n",
    "\n",
    "# coef of correlation (Pirson's)\n",
    "r_xy = cov / (X.std() * y.std())\n",
    "print(f\"correlaion={r_xy:.02f}\")\n",
    "\n",
    "plt.scatter(X, y)\n",
    "plt.show()\n",
    "\n",
    "print(data.corr())\n",
    "\n",
    "# coef of determination (shared variance) R^2\n",
    "# показывает, в какой степени дисперсия одной переменной обусловлена \"влиянием\" другой переменной\n",
    "r_2 = r_xy**2\n",
    "print(f\"determination={r_2:.2f}\")"
   ]
  },
  {
   "cell_type": "markdown",
   "metadata": {},
   "source": [
    "**Student's t-test**"
   ]
  },
  {
   "cell_type": "code",
   "execution_count": 50,
   "metadata": {},
   "outputs": [
    {
     "name": "stdout",
     "output_type": "stream",
     "text": [
      "Ttest_indResult(statistic=-151.59873967999542, pvalue=1.812036289423844e-144)\n",
      "H0 can be rejected, means aren't statistically equal, factor impacts\n"
     ]
    },
    {
     "data": {
      "image/png": "[encoded data removed]",
      "text/plain": [
       "<Figure size 432x288 with 1 Axes>"
      ]
     },
     "metadata": {
      "needs_background": "light"
     },
     "output_type": "display_data"
    }
   ],
   "source": [
    "from scipy import stats\n",
    "\n",
    "res = stats.ttest_ind(X, y)\n",
    "print(res)\n",
    "if res[1] >= 0.05:\n",
    "    print(\"H0 can't be rejected, means are statistically equal, no factor impact\")\n",
    "else:\n",
    "    print(\"H0 can be rejected, means aren't statistically equal, factor impacts\")\n",
    "\n",
    "plt.boxplot([X, y], showmeans=True, whis=True)\n",
    "plt.show()"
   ]
  },
  {
   "cell_type": "code",
   "execution_count": 54,
   "metadata": {},
   "outputs": [
    {
     "data": {
      "text/html": [
       "<div>\n",
       "<style scoped>\n",
       "    .dataframe tbody tr th:only-of-type {\n",
       "        vertical-align: middle;\n",
       "    }\n",
       "\n",
       "    .dataframe tbody tr th {\n",
       "        vertical-align: top;\n",
       "    }\n",
       "\n",
       "    .dataframe thead th {\n",
       "        text-align: right;\n",
       "    }\n",
       "</style>\n",
       "<table border=\"1\" class=\"dataframe\">\n",
       "  <thead>\n",
       "    <tr style=\"text-align: right;\">\n",
       "      <th></th>\n",
       "      <th>X</th>\n",
       "      <th>y</th>\n",
       "    </tr>\n",
       "  </thead>\n",
       "  <tbody>\n",
       "    <tr>\n",
       "      <th>X</th>\n",
       "      <td>1.0</td>\n",
       "      <td>-1.0</td>\n",
       "    </tr>\n",
       "    <tr>\n",
       "      <th>y</th>\n",
       "      <td>-1.0</td>\n",
       "      <td>1.0</td>\n",
       "    </tr>\n",
       "  </tbody>\n",
       "</table>\n",
       "</div>"
      ],
      "text/plain": [
       "     X    y\n",
       "X  1.0 -1.0\n",
       "y -1.0  1.0"
      ]
     },
     "execution_count": 54,
     "metadata": {},
     "output_type": "execute_result"
    }
   ],
   "source": [
    "data = pd.DataFrame({\"X\":[4, 5, 2, 3, 1], \"y\":[2, 1, 4, 3, 5]})\n",
    "data.corr()"
   ]
  }
 ],
 "metadata": {
  "kernelspec": {
   "display_name": "Python 3.9.12 ('base')",
   "language": "python",
   "name": "python3"
  },
  "language_info": {
   "codemirror_mode": {
    "name": "ipython",
    "version": 3
   },
   "file_extension": ".py",
   "mimetype": "text/x-python",
   "name": "python",
   "nbconvert_exporter": "python",
   "pygments_lexer": "ipython3",
   "version": "3.9.12"
  },
  "orig_nbformat": 4,
  "vscode": {
   "interpreter": {
    "hash": "c9f85a49a774e89aef9a12c10c27d86197139bab5c2fb9d43c737ab52e1d2267"
   }
  }
 },
 "nbformat": 4,
 "nbformat_minor": 2
}
