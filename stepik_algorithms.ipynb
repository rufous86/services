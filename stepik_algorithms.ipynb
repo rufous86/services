{
  "cells": [
    {
      "cell_type": "markdown",
      "id": "62WaqRElil_C",
      "metadata": {
        "id": "62WaqRElil_C"
      },
      "source": [
        "# Жадные алгоритмы"
      ]
    },
    {
      "cell_type": "markdown",
      "id": "f081e225",
      "metadata": {
        "heading_collapsed": true,
        "id": "f081e225"
      },
      "source": [
        "## покрыть отрезки точками"
      ]
    },
    {
      "cell_type": "markdown",
      "id": "_9euQzxwF1hj",
      "metadata": {
        "hidden": true,
        "id": "_9euQzxwF1hj"
      },
      "source": [
        "По данным nn отрезкам необходимо найти множество точек минимального размера, для которого каждый из отрезков содержит хотя бы одну из точек.\n",
        "\n",
        "В первой строке дано число 1 \\le n \\le 1001≤n≤100 отрезков. Каждая из последующих nn строк содержит по два числа 0 \\le l \\le r \\le 10^90≤l≤r≤10 \n",
        "9\n",
        " , задающих начало и конец отрезка. Выведите оптимальное число mm точек и сами mm точек. Если таких множеств точек несколько, выведите любое из них."
      ]
    },
    {
      "cell_type": "code",
      "execution_count": null,
      "id": "fe716f5a",
      "metadata": {
        "colab": {
          "base_uri": "https://localhost:8080/"
        },
        "hidden": true,
        "id": "fe716f5a",
        "outputId": "9514963b-3220-46f2-f02f-deaffd753aa8"
      },
      "outputs": [
        {
          "name": "stdout",
          "output_type": "stream",
          "text": [
            "3\n",
            "1 3\n",
            "2 5\n",
            "3 6\n",
            "1\n",
            "3\n"
          ]
        }
      ],
      "source": [
        "s =[]\n",
        "n = int(input())\n",
        "for line in range(n):\n",
        "    s.append([int(x) for x in input().split()])\n",
        "s = sorted(s, key=lambda x:x[1])\n",
        "\n",
        "m = []\n",
        "for seg in s:\n",
        "    if not m:\n",
        "        m.append(seg)\n",
        "    if m[-1][-1] < seg[0]:\n",
        "        m.append(seg)\n",
        "print(len(m))\n",
        "print(*[x[1] for x in m])"
      ]
    },
    {
      "cell_type": "markdown",
      "id": "ZSvThEwFGMAy",
      "metadata": {
        "heading_collapsed": true,
        "id": "ZSvThEwFGMAy"
      },
      "source": [
        "## непрерывный рюкзак"
      ]
    },
    {
      "cell_type": "markdown",
      "id": "cac25ace",
      "metadata": {
        "hidden": true,
        "id": "cac25ace"
      },
      "source": [
        "![image.png](attachment:image.png)"
      ]
    },
    {
      "cell_type": "markdown",
      "id": "04e65a95",
      "metadata": {
        "hidden": true,
        "id": "04e65a95"
      },
      "source": [
        "![image.png](attachment:image.png)"
      ]
    },
    {
      "cell_type": "code",
      "execution_count": null,
      "id": "2fa7f44f",
      "metadata": {
        "hidden": true,
        "id": "2fa7f44f",
        "outputId": "8bad7eb5-e9ad-4670-eb99-bdc1e1096de9"
      },
      "outputs": [
        {
          "name": "stdout",
          "output_type": "stream",
          "text": [
            "3 50\n",
            "60 20\n",
            "100 50\n",
            "120 30\n"
          ]
        }
      ],
      "source": [
        "n, w = [int(x) for x in input().split()]\n",
        "c_w = []\n",
        "for i in range(n):\n",
        "    c_w.append([int(x) for x in input().split()])\n",
        "    \n",
        "c = 0\n",
        "\n",
        "c_w = sorted(c_w, key=lambda x: x[0] / x[1], reverse=True)\n",
        "\n",
        "for c_w_curr in c_w:\n",
        "    koef = w / c_w_curr[1]\n",
        "    if koef > 1:\n",
        "        koef = 1\n",
        "    w -= c_w_curr[1] * koef\n",
        "    c += c_w_curr[0] * koef\n",
        "    if w <= 0:\n",
        "        break\n",
        "print(round(c, 3))"
      ]
    },
    {
      "cell_type": "markdown",
      "id": "7DHw7VSiiwMN",
      "metadata": {
        "heading_collapsed": true,
        "id": "7DHw7VSiiwMN"
      },
      "source": [
        "## различные слагаемые (different summaries)"
      ]
    },
    {
      "cell_type": "markdown",
      "id": "yUs6MD07i0Gg",
      "metadata": {
        "hidden": true,
        "id": "yUs6MD07i0Gg"
      },
      "source": [
        "По данному числу n найдите максимальное число k, для которого n можно представить как сумму k различных натуральных слагаемых. Выведите в первой строке число k, во второй — k слагаемых."
      ]
    },
    {
      "cell_type": "code",
      "execution_count": null,
      "id": "0EXlLjPEjwbp",
      "metadata": {
        "hidden": true,
        "id": "0EXlLjPEjwbp",
        "scrolled": false
      },
      "outputs": [],
      "source": [
        "n = int(input())\n",
        "\n",
        "k = []\n",
        "k_sum = 0\n",
        "for i in range(1, n+1):\n",
        "    if (k_sum + i) <= n:\n",
        "        k.append(i)\n",
        "        k_sum += i\n",
        "    else:\n",
        "        k[-1] += (n - k_sum)\n",
        "        break\n",
        "print(len(k))\n",
        "print(*k)"
      ]
    },
    {
      "cell_type": "markdown",
      "id": "ffa8c5fe",
      "metadata": {
        "id": "ffa8c5fe"
      },
      "source": [
        "## huffman_encoding"
      ]
    },
    {
      "cell_type": "markdown",
      "id": "b952ee01",
      "metadata": {
        "id": "b952ee01"
      },
      "source": [
        "![image.png](attachment:image.png)"
      ]
    },
    {
      "cell_type": "markdown",
      "id": "2ceec787",
      "metadata": {
        "id": "2ceec787"
      },
      "source": [
        "![image.png](attachment:image.png)"
      ]
    },
    {
      "cell_type": "code",
      "execution_count": null,
      "id": "92a225ad",
      "metadata": {
        "id": "92a225ad"
      },
      "outputs": [],
      "source": [
        "def huffman_encode(s):\n",
        "    return {ch: ch for ch in s}"
      ]
    },
    {
      "cell_type": "code",
      "execution_count": null,
      "id": "3369b32f",
      "metadata": {
        "id": "3369b32f",
        "outputId": "04bb15a8-6d9c-4f33-a6a4-854aa165161f"
      },
      "outputs": [
        {
          "name": "stdout",
          "output_type": "stream",
          "text": [
            "abcdba\n",
            "4 6\n",
            "a: a\n",
            "b: b\n",
            "c: c\n",
            "d: d\n",
            "abcdba\n"
          ]
        }
      ],
      "source": [
        "s = input()\n",
        "code = huffman_encode(s)\n",
        "encoded = ''.join(code[ch] for ch in s)\n",
        "print(len(code), len(encoded))\n",
        "for ch in sorted(code):\n",
        "    print(f'{ch}: {code[ch]}')\n",
        "print(encoded)"
      ]
    },
    {
      "cell_type": "markdown",
      "source": [
        "# Разделяй и властвуй"
      ],
      "metadata": {
        "id": "_gYmQcxI4qmq"
      },
      "id": "_gYmQcxI4qmq"
    },
    {
      "cell_type": "markdown",
      "source": [
        "## двоичный поиск(binary search)"
      ],
      "metadata": {
        "id": "oE-ssxHg4t9J"
      },
      "id": "oE-ssxHg4t9J"
    },
    {
      "cell_type": "code",
      "source": [
        ""
      ],
      "metadata": {
        "id": "ZCyW0i4y415j"
      },
      "id": "ZCyW0i4y415j",
      "execution_count": null,
      "outputs": []
    }
  ],
  "metadata": {
    "colab": {
      "name": "stepik_algorithms.ipynb",
      "provenance": []
    },
    "kernelspec": {
      "display_name": "Python 3 (ipykernel)",
      "language": "python",
      "name": "python3"
    },
    "language_info": {
      "codemirror_mode": {
        "name": "ipython",
        "version": 3
      },
      "file_extension": ".py",
      "mimetype": "text/x-python",
      "name": "python",
      "nbconvert_exporter": "python",
      "pygments_lexer": "ipython3",
      "version": "3.9.12"
    }
  },
  "nbformat": 4,
  "nbformat_minor": 5
}