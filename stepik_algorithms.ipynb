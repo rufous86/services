{
 "cells": [
  {
   "cell_type": "markdown",
   "id": "f081e225",
   "metadata": {},
   "source": [
    "# покрыть отрезки точками"
   ]
  },
  {
   "cell_type": "code",
   "execution_count": 26,
   "id": "fe716f5a",
   "metadata": {},
   "outputs": [
    {
     "name": "stdout",
     "output_type": "stream",
     "text": [
      "5\n",
      "1 2\n",
      "2 3\n",
      "3 4\n",
      "4 5\n",
      "5 6\n",
      "4\n",
      "2 3 4 5\n"
     ]
    }
   ],
   "source": [
    "s =[]\n",
    "n = int(input())\n",
    "for line in range(n):\n",
    "    s.append([int(x) for x in input().split()])\n",
    "s = sorted(s, key=lambda x:x[1])\n",
    "\n",
    "m = []\n",
    "for seg in s:\n",
    "    if not m:\n",
    "        m.append(seg)\n",
    "    if m[-1][-1] <= seg[0] and seg[-1] != s[-1][-1]:\n",
    "        m.append(seg)\n",
    "print(len(m))\n",
    "print(*[x[1] for x in m])"
   ]
  },
  {
   "cell_type": "code",
   "execution_count": null,
   "id": "7121f254",
   "metadata": {},
   "outputs": [],
   "source": []
  }
 ],
 "metadata": {
  "kernelspec": {
   "display_name": "Python 3 (ipykernel)",
   "language": "python",
   "name": "python3"
  },
  "language_info": {
   "codemirror_mode": {
    "name": "ipython",
    "version": 3
   },
   "file_extension": ".py",
   "mimetype": "text/x-python",
   "name": "python",
   "nbconvert_exporter": "python",
   "pygments_lexer": "ipython3",
   "version": "3.9.12"
  }
 },
 "nbformat": 4,
 "nbformat_minor": 5
}
