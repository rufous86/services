{
  "cells": [
    {
      "cell_type": "markdown",
      "id": "f081e225",
      "metadata": {
        "id": "f081e225"
      },
      "source": [
        "# покрыть отрезки точками"
      ]
    },
    {
      "cell_type": "markdown",
      "source": [
        "По данным nn отрезкам необходимо найти множество точек минимального размера, для которого каждый из отрезков содержит хотя бы одну из точек.\n",
        "\n",
        "В первой строке дано число 1 \\le n \\le 1001≤n≤100 отрезков. Каждая из последующих nn строк содержит по два числа 0 \\le l \\le r \\le 10^90≤l≤r≤10 \n",
        "9\n",
        " , задающих начало и конец отрезка. Выведите оптимальное число mm точек и сами mm точек. Если таких множеств точек несколько, выведите любое из них."
      ],
      "metadata": {
        "id": "_9euQzxwF1hj"
      },
      "id": "_9euQzxwF1hj"
    },
    {
      "cell_type": "code",
      "execution_count": 1,
      "id": "fe716f5a",
      "metadata": {
        "id": "fe716f5a",
        "outputId": "9514963b-3220-46f2-f02f-deaffd753aa8",
        "colab": {
          "base_uri": "https://localhost:8080/"
        }
      },
      "outputs": [
        {
          "output_type": "stream",
          "name": "stdout",
          "text": [
            "3\n",
            "1 3\n",
            "2 5\n",
            "3 6\n",
            "1\n",
            "3\n"
          ]
        }
      ],
      "source": [
        "s =[]\n",
        "n = int(input())\n",
        "for line in range(n):\n",
        "    s.append([int(x) for x in input().split()])\n",
        "s = sorted(s, key=lambda x:x[1])\n",
        "\n",
        "m = []\n",
        "for seg in s:\n",
        "    if not m:\n",
        "        m.append(seg)\n",
        "    if m[-1][-1] < seg[0]:\n",
        "        m.append(seg)\n",
        "print(len(m))\n",
        "print(*[x[1] for x in m])"
      ]
    }
  ],
  "metadata": {
    "kernelspec": {
      "display_name": "Python 3 (ipykernel)",
      "language": "python",
      "name": "python3"
    },
    "language_info": {
      "codemirror_mode": {
        "name": "ipython",
        "version": 3
      },
      "file_extension": ".py",
      "mimetype": "text/x-python",
      "name": "python",
      "nbconvert_exporter": "python",
      "pygments_lexer": "ipython3",
      "version": "3.9.12"
    },
    "colab": {
      "name": "stepik_algorithms.ipynb",
      "provenance": []
    }
  },
  "nbformat": 4,
  "nbformat_minor": 5
}