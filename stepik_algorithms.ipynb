{
  "cells": [
    {
      "cell_type": "markdown",
      "id": "62WaqRElil_C",
      "metadata": {
        "heading_collapsed": true,
        "id": "62WaqRElil_C"
      },
      "source": [
        "# Жадные алгоритмы"
      ]
    },
    {
      "cell_type": "markdown",
      "id": "f081e225",
      "metadata": {
        "heading_collapsed": true,
        "hidden": true,
        "id": "f081e225"
      },
      "source": [
        "## покрыть отрезки точками"
      ]
    },
    {
      "cell_type": "markdown",
      "id": "_9euQzxwF1hj",
      "metadata": {
        "hidden": true,
        "id": "_9euQzxwF1hj"
      },
      "source": [
        "По данным nn отрезкам необходимо найти множество точек минимального размера, для которого каждый из отрезков содержит хотя бы одну из точек.\n",
        "\n",
        "В первой строке дано число 1 \\le n \\le 1001≤n≤100 отрезков. Каждая из последующих nn строк содержит по два числа 0 \\le l \\le r \\le 10^90≤l≤r≤10 \n",
        "9\n",
        " , задающих начало и конец отрезка. Выведите оптимальное число mm точек и сами mm точек. Если таких множеств точек несколько, выведите любое из них."
      ]
    },
    {
      "cell_type": "code",
      "execution_count": null,
      "id": "fe716f5a",
      "metadata": {
        "colab": {
          "base_uri": "https://localhost:8080/"
        },
        "hidden": true,
        "id": "fe716f5a",
        "outputId": "9514963b-3220-46f2-f02f-deaffd753aa8"
      },
      "outputs": [
        {
          "name": "stdout",
          "output_type": "stream",
          "text": [
            "3\n",
            "1 3\n",
            "2 5\n",
            "3 6\n",
            "1\n",
            "3\n"
          ]
        }
      ],
      "source": [
        "s =[]\n",
        "n = int(input())\n",
        "for line in range(n):\n",
        "    s.append([int(x) for x in input().split()])\n",
        "s = sorted(s, key=lambda x:x[1])\n",
        "\n",
        "m = []\n",
        "for seg in s:\n",
        "    if not m:\n",
        "        m.append(seg)\n",
        "    if m[-1][-1] < seg[0]:\n",
        "        m.append(seg)\n",
        "print(len(m))\n",
        "print(*[x[1] for x in m])"
      ]
    },
    {
      "cell_type": "markdown",
      "id": "ZSvThEwFGMAy",
      "metadata": {
        "heading_collapsed": true,
        "hidden": true,
        "id": "ZSvThEwFGMAy"
      },
      "source": [
        "## непрерывный рюкзак"
      ]
    },
    {
      "cell_type": "markdown",
      "id": "cac25ace",
      "metadata": {
        "hidden": true,
        "id": "cac25ace"
      },
      "source": [
        "![image.png](attachment:image.png)"
      ]
    },
    {
      "cell_type": "markdown",
      "id": "04e65a95",
      "metadata": {
        "hidden": true,
        "id": "04e65a95"
      },
      "source": [
        "![image.png](attachment:image.png)"
      ]
    },
    {
      "cell_type": "code",
      "execution_count": null,
      "id": "2fa7f44f",
      "metadata": {
        "hidden": true,
        "id": "2fa7f44f",
        "outputId": "8bad7eb5-e9ad-4670-eb99-bdc1e1096de9"
      },
      "outputs": [
        {
          "name": "stdout",
          "output_type": "stream",
          "text": [
            "3 50\n",
            "60 20\n",
            "100 50\n",
            "120 30\n"
          ]
        }
      ],
      "source": [
        "n, w = [int(x) for x in input().split()]\n",
        "c_w = []\n",
        "for i in range(n):\n",
        "    c_w.append([int(x) for x in input().split()])\n",
        "    \n",
        "c = 0\n",
        "\n",
        "c_w = sorted(c_w, key=lambda x: x[0] / x[1], reverse=True)\n",
        "\n",
        "for c_w_curr in c_w:\n",
        "    koef = w / c_w_curr[1]\n",
        "    if koef > 1:\n",
        "        koef = 1\n",
        "    w -= c_w_curr[1] * koef\n",
        "    c += c_w_curr[0] * koef\n",
        "    if w <= 0:\n",
        "        break\n",
        "print(round(c, 3))"
      ]
    },
    {
      "cell_type": "markdown",
      "id": "7DHw7VSiiwMN",
      "metadata": {
        "heading_collapsed": true,
        "hidden": true,
        "id": "7DHw7VSiiwMN"
      },
      "source": [
        "## различные слагаемые (different summaries)"
      ]
    },
    {
      "cell_type": "markdown",
      "id": "yUs6MD07i0Gg",
      "metadata": {
        "hidden": true,
        "id": "yUs6MD07i0Gg"
      },
      "source": [
        "По данному числу n найдите максимальное число k, для которого n можно представить как сумму k различных натуральных слагаемых. Выведите в первой строке число k, во второй — k слагаемых."
      ]
    },
    {
      "cell_type": "code",
      "execution_count": null,
      "id": "0EXlLjPEjwbp",
      "metadata": {
        "hidden": true,
        "id": "0EXlLjPEjwbp",
        "scrolled": false
      },
      "outputs": [],
      "source": [
        "n = int(input())\n",
        "\n",
        "k = []\n",
        "k_sum = 0\n",
        "for i in range(1, n+1):\n",
        "    if (k_sum + i) <= n:\n",
        "        k.append(i)\n",
        "        k_sum += i\n",
        "    else:\n",
        "        k[-1] += (n - k_sum)\n",
        "        break\n",
        "print(len(k))\n",
        "print(*k)"
      ]
    },
    {
      "cell_type": "markdown",
      "id": "ffa8c5fe",
      "metadata": {
        "heading_collapsed": true,
        "hidden": true,
        "id": "ffa8c5fe"
      },
      "source": [
        "## huffman_encoding"
      ]
    },
    {
      "cell_type": "markdown",
      "id": "b952ee01",
      "metadata": {
        "hidden": true,
        "id": "b952ee01"
      },
      "source": [
        "![image.png](attachment:image.png)"
      ]
    },
    {
      "cell_type": "markdown",
      "id": "2ceec787",
      "metadata": {
        "hidden": true,
        "id": "2ceec787"
      },
      "source": [
        "![image.png](attachment:image.png)"
      ]
    },
    {
      "cell_type": "code",
      "execution_count": null,
      "id": "92a225ad",
      "metadata": {
        "hidden": true,
        "id": "92a225ad"
      },
      "outputs": [],
      "source": [
        "def huffman_encode(s):\n",
        "    return {ch: ch for ch in s}"
      ]
    },
    {
      "cell_type": "code",
      "execution_count": null,
      "id": "3369b32f",
      "metadata": {
        "hidden": true,
        "id": "3369b32f",
        "outputId": "04bb15a8-6d9c-4f33-a6a4-854aa165161f"
      },
      "outputs": [
        {
          "name": "stdout",
          "output_type": "stream",
          "text": [
            "abcdba\n",
            "4 6\n",
            "a: a\n",
            "b: b\n",
            "c: c\n",
            "d: d\n",
            "abcdba\n"
          ]
        }
      ],
      "source": [
        "s = input()\n",
        "code = huffman_encode(s)\n",
        "encoded = ''.join(code[ch] for ch in s)\n",
        "print(len(code), len(encoded))\n",
        "for ch in sorted(code):\n",
        "    print(f'{ch}: {code[ch]}')\n",
        "print(encoded)"
      ]
    },
    {
      "cell_type": "markdown",
      "id": "9oOHgTkIOdNl",
      "metadata": {
        "heading_collapsed": true,
        "hidden": true,
        "id": "9oOHgTkIOdNl"
      },
      "source": [
        "## очередь с приоритетами (stek with priorities)"
      ]
    },
    {
      "cell_type": "code",
      "execution_count": null,
      "id": "iCgDu9K0OuvH",
      "metadata": {
        "hidden": true,
        "id": "iCgDu9K0OuvH"
      },
      "outputs": [],
      "source": [
        ""
      ]
    },
    {
      "cell_type": "markdown",
      "id": "_gYmQcxI4qmq",
      "metadata": {
        "id": "_gYmQcxI4qmq"
      },
      "source": [
        "# Разделяй и властвуй"
      ]
    },
    {
      "cell_type": "markdown",
      "id": "oE-ssxHg4t9J",
      "metadata": {
        "heading_collapsed": true,
        "id": "oE-ssxHg4t9J"
      },
      "source": [
        "## двоичный поиск (binary search)"
      ]
    },
    {
      "cell_type": "code",
      "execution_count": null,
      "id": "ZCyW0i4y415j",
      "metadata": {
        "hidden": true,
        "id": "ZCyW0i4y415j"
      },
      "outputs": [],
      "source": [
        "def binary_search(a, k):\n",
        "    l, r = 0, len(a)-1\n",
        "    while l <= r:\n",
        "        m = (l + r) // 2\n",
        "        if a[m] == k:\n",
        "            return m + 1\n",
        "        elif a[m] > k:\n",
        "            r = m - 1\n",
        "        else:\n",
        "            l = m + 1\n",
        "    return -1\n",
        "\n",
        "a = [int(x) for x in input().split()][1:]\n",
        "k = [int(x) for x in input().split()][1:]\n",
        "answer = []\n",
        "for k_i in k:\n",
        "    answer.append(binary_search(a, k_i))\n",
        "print(*answer)"
      ]
    },
    {
      "cell_type": "code",
      "execution_count": null,
      "id": "5wkZ-ZPRHjGk",
      "metadata": {
        "hidden": true,
        "id": "5wkZ-ZPRHjGk"
      },
      "outputs": [],
      "source": [
        ""
      ]
    },
    {
      "cell_type": "markdown",
      "id": "F2ByfZ8ZGbn5",
      "metadata": {
        "id": "F2ByfZ8ZGbn5"
      },
      "source": [
        "## интеративная сортировка слиянием (itarative_merge_sort)"
      ]
    },
    {
      "cell_type": "markdown",
      "id": "yP5huYQhG2sT",
      "metadata": {
        "id": "yP5huYQhG2sT"
      },
      "source": [
        "![image.png](attachment:image.png)\n"
      ]
    },
    {
      "cell_type": "code",
      "execution_count": null,
      "id": "tdFccDfhHDJM",
      "metadata": {
        "id": "tdFccDfhHDJM",
        "outputId": "66c747cb-3260-448b-fb78-694ab7e06c0b",
        "colab": {
          "base_uri": "https://localhost:8080/"
        }
      },
      "outputs": [
        {
          "output_type": "stream",
          "name": "stdout",
          "text": [
            "2\n"
          ]
        }
      ],
      "source": [
        "num_rev = 0\n",
        "\n",
        "def merge(left, right):\n",
        "    if not len(left) or not len(right):\n",
        "        return left or right\n",
        "\n",
        "    result = []\n",
        "    i, j = 0, 0\n",
        "    while (len(result) < len(left) + len(right)):\n",
        "        if left[i] <= right[j]:\n",
        "            result.append(left[i])\n",
        "            i+= 1\n",
        "        else:\n",
        "            result.append(right[j])\n",
        "            j+= 1\n",
        "            global num_rev\n",
        "            num_rev += 1\n",
        "        if i == len(left) or j == len(right):\n",
        "            result.extend(left[i:] or right[j:])\n",
        "            break\n",
        "\n",
        "    return result\n",
        "\n",
        "def mergesort(list):\n",
        "    if len(list) < 2:\n",
        "        return list\n",
        "\n",
        "    middle = int(len(list)/2)\n",
        "    left = mergesort(list[:middle])\n",
        "    right = mergesort(list[middle:])\n",
        "\n",
        "    return merge(left, right)\n",
        "  \n",
        "n = input()\n",
        "a = [int(x) for x in input().split()]\n",
        "a_sorted = mergesort(a)\n",
        "print(num_rev)"
      ]
    }
  ],
  "metadata": {
    "colab": {
      "name": "stepik_algorithms.ipynb",
      "provenance": []
    },
    "kernelspec": {
      "display_name": "Python 3 (ipykernel)",
      "language": "python",
      "name": "python3"
    },
    "language_info": {
      "codemirror_mode": {
        "name": "ipython",
        "version": 3
      },
      "file_extension": ".py",
      "mimetype": "text/x-python",
      "name": "python",
      "nbconvert_exporter": "python",
      "pygments_lexer": "ipython3",
      "version": "3.9.12"
    }
  },
  "nbformat": 4,
  "nbformat_minor": 5
}