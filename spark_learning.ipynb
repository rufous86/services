{
  "cells": [
    {
      "cell_type": "markdown",
      "metadata": {
        "id": "view-in-github",
        "colab_type": "text"
      },
      "source": [
        "<a href=\"https://colab.research.google.com/github/rufous86/studies/blob/main/spark_learning.ipynb\" target=\"_parent\"><img src=\"https://colab.research.google.com/assets/colab-badge.svg\" alt=\"Open In Colab\"/></a>"
      ]
    },
    {
      "cell_type": "markdown",
      "metadata": {
        "id": "KZCvfUeWBJhR"
      },
      "source": [
        "Скачаем необходимые наборы данных с kaggle  \n",
        "инструкция по скачиванию данных в colab напрямую с kaggle ниже:  \n",
        "https://www.kaggle.com/general/74235"
      ]
    },
    {
      "cell_type": "code",
      "execution_count": 1,
      "metadata": {
        "colab": {
          "base_uri": "https://localhost:8080/"
        },
        "id": "BblzxVX7l-xW",
        "outputId": "b9f6cd43-b6a8-47db-db92-076bee07ab09"
      },
      "outputs": [
        {
          "output_type": "stream",
          "name": "stdout",
          "text": [
            "Mounted at /content/drive\n",
            "Downloading riiid-test-answer-prediction.zip to /content\n",
            " 99% 1.28G/1.29G [00:08<00:00, 165MB/s]\n",
            "100% 1.29G/1.29G [00:09<00:00, 152MB/s]\n",
            "Archive:  riiid-test-answer-prediction.zip\n",
            "  inflating: data/example_sample_submission.csv  \n",
            "  inflating: data/example_test.csv   \n",
            "  inflating: data/lectures.csv       \n",
            "  inflating: data/questions.csv      \n",
            "  inflating: data/riiideducation/__init__.py  \n",
            "  inflating: data/riiideducation/competition.cpython-37m-x86_64-linux-gnu.so  \n",
            "  inflating: data/train.csv          \n"
          ]
        }
      ],
      "source": [
        "! pip install -q kaggle\n",
        "from google.colab import drive\n",
        "drive.mount('/content/drive')\n",
        "! mkdir ~/.kaggle\n",
        "! cp '/content/drive/MyDrive/Colab Notebooks/kaggle.json' ~/.kaggle/\n",
        "! chmod 600 ~/.kaggle/kaggle.json\n",
        "! kaggle competitions download -c 'riiid-test-answer-prediction'\n",
        "! mkdir data\n",
        "! unzip riiid-test-answer-prediction.zip -d data"
      ]
    },
    {
      "cell_type": "code",
      "execution_count": 2,
      "metadata": {
        "colab": {
          "base_uri": "https://localhost:8080/"
        },
        "id": "Xw_xvyKFqM6y",
        "outputId": "e07e2e9f-10d2-471c-bc99-be73b4b3d8e9"
      },
      "outputs": [
        {
          "output_type": "stream",
          "name": "stdout",
          "text": [
            "Looking in indexes: https://pypi.org/simple, https://us-python.pkg.dev/colab-wheels/public/simple/\n",
            "Collecting pyspark\n",
            "  Downloading pyspark-3.3.1.tar.gz (281.4 MB)\n",
            "\u001b[K     |████████████████████████████████| 281.4 MB 45 kB/s \n",
            "\u001b[?25hCollecting py4j==0.10.9.5\n",
            "  Downloading py4j-0.10.9.5-py2.py3-none-any.whl (199 kB)\n",
            "\u001b[K     |████████████████████████████████| 199 kB 56.7 MB/s \n",
            "\u001b[?25hBuilding wheels for collected packages: pyspark\n",
            "  Building wheel for pyspark (setup.py) ... \u001b[?25l\u001b[?25hdone\n",
            "  Created wheel for pyspark: filename=pyspark-3.3.1-py2.py3-none-any.whl size=281845512 sha256=4d1087bd9f28940d9c94e74bc82bf705d97ee0beffe78d6b0dcc39a51ec87440\n",
            "  Stored in directory: /root/.cache/pip/wheels/43/dc/11/ec201cd671da62fa9c5cc77078235e40722170ceba231d7598\n",
            "Successfully built pyspark\n",
            "Installing collected packages: py4j, pyspark\n",
            "Successfully installed py4j-0.10.9.5 pyspark-3.3.1\n"
          ]
        }
      ],
      "source": [
        "! pip install pyspark"
      ]
    },
    {
      "cell_type": "code",
      "execution_count": 3,
      "metadata": {
        "colab": {
          "base_uri": "https://localhost:8080/",
          "height": 219
        },
        "id": "atOtPlI4qPjK",
        "outputId": "1838437d-ed19-4f64-de8f-1d91f482af45"
      },
      "outputs": [
        {
          "output_type": "execute_result",
          "data": {
            "text/plain": [
              "<pyspark.sql.session.SparkSession at 0x7fe20dcde550>"
            ],
            "text/html": [
              "\n",
              "            <div>\n",
              "                <p><b>SparkSession - in-memory</b></p>\n",
              "                \n",
              "        <div>\n",
              "            <p><b>SparkContext</b></p>\n",
              "\n",
              "            <p><a href=\"http://c0a884aa156e:4040\">Spark UI</a></p>\n",
              "\n",
              "            <dl>\n",
              "              <dt>Version</dt>\n",
              "                <dd><code>v3.3.1</code></dd>\n",
              "              <dt>Master</dt>\n",
              "                <dd><code>local[*]</code></dd>\n",
              "              <dt>AppName</dt>\n",
              "                <dd><code>pyspark-shell</code></dd>\n",
              "            </dl>\n",
              "        </div>\n",
              "        \n",
              "            </div>\n",
              "        "
            ]
          },
          "metadata": {},
          "execution_count": 3
        }
      ],
      "source": [
        "from pyspark.sql import SparkSession\n",
        "\n",
        "spark = SparkSession.builder.getOrCreate()\n",
        "spark"
      ]
    },
    {
      "cell_type": "code",
      "execution_count": 9,
      "metadata": {
        "id": "kGuOBQaEq0fx"
      },
      "outputs": [],
      "source": [
        "df = spark.read.csv('data/train.csv', header=True, inferSchema=True)"
      ]
    },
    {
      "cell_type": "code",
      "source": [
        "df.printSchema()"
      ],
      "metadata": {
        "id": "9bze0lILu2bc",
        "outputId": "5c358d7a-f8b5-410f-dbce-6b74128decc6",
        "colab": {
          "base_uri": "https://localhost:8080/"
        }
      },
      "execution_count": 10,
      "outputs": [
        {
          "output_type": "stream",
          "name": "stdout",
          "text": [
            "root\n",
            " |-- row_id: integer (nullable = true)\n",
            " |-- timestamp: long (nullable = true)\n",
            " |-- user_id: integer (nullable = true)\n",
            " |-- content_id: integer (nullable = true)\n",
            " |-- content_type_id: integer (nullable = true)\n",
            " |-- task_container_id: integer (nullable = true)\n",
            " |-- user_answer: integer (nullable = true)\n",
            " |-- answered_correctly: integer (nullable = true)\n",
            " |-- prior_question_elapsed_time: double (nullable = true)\n",
            " |-- prior_question_had_explanation: boolean (nullable = true)\n",
            "\n"
          ]
        }
      ]
    },
    {
      "cell_type": "code",
      "execution_count": 11,
      "metadata": {
        "colab": {
          "base_uri": "https://localhost:8080/"
        },
        "id": "4YDNZfPbrnWJ",
        "outputId": "444c8582-8665-4f6d-a751-2b41e262fcee"
      },
      "outputs": [
        {
          "output_type": "stream",
          "name": "stdout",
          "text": [
            "+------+---------+-------+----------+---------------+-----------------+-----------+------------------+---------------------------+------------------------------+\n",
            "|row_id|timestamp|user_id|content_id|content_type_id|task_container_id|user_answer|answered_correctly|prior_question_elapsed_time|prior_question_had_explanation|\n",
            "+------+---------+-------+----------+---------------+-----------------+-----------+------------------+---------------------------+------------------------------+\n",
            "|     0|        0|    115|      5692|              0|                1|          3|                 1|                       null|                          null|\n",
            "|     1|    56943|    115|      5716|              0|                2|          2|                 1|                    37000.0|                         false|\n",
            "|     2|   118363|    115|       128|              0|                0|          0|                 1|                    55000.0|                         false|\n",
            "|     3|   131167|    115|      7860|              0|                3|          0|                 1|                    19000.0|                         false|\n",
            "|     4|   137965|    115|      7922|              0|                4|          1|                 1|                    11000.0|                         false|\n",
            "|     5|   157063|    115|       156|              0|                5|          2|                 1|                     5000.0|                         false|\n",
            "|     6|   176092|    115|        51|              0|                6|          0|                 1|                    17000.0|                         false|\n",
            "|     7|   194190|    115|        50|              0|                7|          3|                 1|                    17000.0|                         false|\n",
            "|     8|   212463|    115|      7896|              0|                8|          2|                 1|                    16000.0|                         false|\n",
            "|     9|   230983|    115|      7863|              0|                9|          0|                 1|                    16000.0|                         false|\n",
            "|    10|   255381|    115|       152|              0|               10|          2|                 0|                    17000.0|                         false|\n",
            "|    11|   280033|    115|       104|              0|               11|          1|                 0|                    22000.0|                         false|\n",
            "|    12|   302994|    115|       108|              0|               12|          1|                 0|                    23000.0|                         false|\n",
            "|    13|   328686|    115|      7900|              0|               13|          0|                 1|                    21000.0|                         false|\n",
            "|    14|   352686|    115|      7901|              0|               14|          1|                 1|                    24000.0|                         false|\n",
            "|    15|   376162|    115|      7971|              0|               15|          2|                 1|                    22000.0|                         false|\n",
            "|    16|   398020|    115|        25|              0|               16|          1|                 1|                    21000.0|                         false|\n",
            "|    17|   418008|    115|       183|              0|               17|          0|                 0|                    20000.0|                         false|\n",
            "|    18|   437272|    115|      7926|              0|               18|          1|                 1|                    18000.0|                         false|\n",
            "|    19|   468511|    115|      7927|              0|               19|          3|                 1|                    17000.0|                         false|\n",
            "+------+---------+-------+----------+---------------+-----------------+-----------+------------------+---------------------------+------------------------------+\n",
            "only showing top 20 rows\n",
            "\n"
          ]
        }
      ],
      "source": [
        "df.show()"
      ]
    },
    {
      "cell_type": "code",
      "source": [
        "df.to_pandas_on_spark().isna().sum()"
      ],
      "metadata": {
        "id": "Sn9BLCdNDyWo",
        "outputId": "99825573-65b3-451a-bfaa-c652d7ff262b",
        "colab": {
          "base_uri": "https://localhost:8080/"
        }
      },
      "execution_count": 53,
      "outputs": [
        {
          "output_type": "execute_result",
          "data": {
            "text/plain": [
              "row_id                                  0\n",
              "timestamp                               0\n",
              "user_id                                 0\n",
              "content_id                              0\n",
              "content_type_id                         0\n",
              "task_container_id                       0\n",
              "user_answer                             0\n",
              "answered_correctly                      0\n",
              "prior_question_elapsed_time       2351538\n",
              "prior_question_had_explanation     392506\n",
              "dtype: int64"
            ]
          },
          "metadata": {},
          "execution_count": 53
        }
      ]
    },
    {
      "cell_type": "markdown",
      "metadata": {
        "id": "2vM_nqUGQdN2"
      },
      "source": [
        "Посмотрим, сколько в нашей таблице пустых значений"
      ]
    },
    {
      "cell_type": "code",
      "execution_count": 63,
      "metadata": {
        "id": "MVzT4DxZKRKp",
        "outputId": "6c944a14-8b48-41c6-a510-6e3feb76572a",
        "colab": {
          "base_uri": "https://localhost:8080/"
        }
      },
      "outputs": [
        {
          "output_type": "execute_result",
          "data": {
            "text/plain": [
              "row_id                            0\n",
              "timestamp                         0\n",
              "user_id                           0\n",
              "content_id                        0\n",
              "content_type_id                   0\n",
              "task_container_id                 0\n",
              "user_answer                       0\n",
              "answered_correctly                0\n",
              "prior_question_elapsed_time       0\n",
              "prior_question_had_explanation    0\n",
              "dtype: int64"
            ]
          },
          "metadata": {},
          "execution_count": 63
        }
      ],
      "source": [
        "df = df.dropna()\n",
        "df.pandas_api().isna().sum()"
      ]
    },
    {
      "cell_type": "markdown",
      "metadata": {
        "id": "MEIPfZX3WbXI"
      },
      "source": [
        "В таблице преобладают данные численного типа. Исключение составляет столбец prior_question_had_explanation.  \n",
        "Посмотрим, какие уникальные значения составляют этот столбец. Также глянем на баланс этих значений"
      ]
    },
    {
      "cell_type": "code",
      "execution_count": null,
      "metadata": {
        "colab": {
          "base_uri": "https://localhost:8080/"
        },
        "id": "aWXxgugxLmqB",
        "outputId": "79495c8e-f94e-4123-d9ac-34aa96f22152"
      },
      "outputs": [
        {
          "data": {
            "text/plain": [
              "True    0.885955\n",
              "0       0.114045\n",
              "Name: prior_question_had_explanation, dtype: float64"
            ]
          },
          "execution_count": 6,
          "metadata": {},
          "output_type": "execute_result"
        }
      ],
      "source": [
        "df_train['prior_question_had_explanation'].value_counts(True)"
      ]
    },
    {
      "cell_type": "markdown",
      "metadata": {
        "id": "6J1EPb68YCAg"
      },
      "source": [
        "Видим, что в столбце присутствуют два значения True и 0 (часть из них до применения функции fillna была False, часть была NaN). Приведём столбец prior_question_had_explanation к целочисленному типу"
      ]
    },
    {
      "cell_type": "code",
      "execution_count": null,
      "metadata": {
        "id": "NSNUdQYXICmZ"
      },
      "outputs": [],
      "source": [
        "df_train['prior_question_had_explanation'] = df_train['prior_question_had_explanation'].astype('int8')"
      ]
    },
    {
      "cell_type": "code",
      "execution_count": null,
      "metadata": {
        "colab": {
          "base_uri": "https://localhost:8080/"
        },
        "id": "8fQh1wvFUXX2",
        "outputId": "e9f24660-7111-48b0-c2f6-4b2b70bf2238"
      },
      "outputs": [
        {
          "data": {
            "text/plain": [
              "row_id                            0\n",
              "timestamp                         0\n",
              "user_id                           0\n",
              "content_id                        0\n",
              "content_type_id                   0\n",
              "task_container_id                 0\n",
              "user_answer                       0\n",
              "answered_correctly                0\n",
              "prior_question_elapsed_time       0\n",
              "prior_question_had_explanation    0\n",
              "dtype: int64"
            ]
          },
          "execution_count": 8,
          "metadata": {},
          "output_type": "execute_result"
        }
      ],
      "source": [
        "df_train.isna().sum()"
      ]
    },
    {
      "cell_type": "markdown",
      "metadata": {
        "id": "uy4FJxqiUcwe"
      },
      "source": [
        "Проанализируем характеристики, влияющие на успеваемость студентов. Так как фактически данные об успеваемости у нас отсутствуют, условно за успеваемость будут выступать правильно данные ответы.      \n",
        "Сначала сохраним колонку answered_correctly в переменную target. Это будет наша целевая переменная  \n",
        "Затем рассчитаем коэффициент корреляции целевой переменной с каждой из остальных характеристик"
      ]
    },
    {
      "cell_type": "code",
      "execution_count": null,
      "metadata": {
        "colab": {
          "base_uri": "https://localhost:8080/"
        },
        "id": "hDrgpagjW4hM",
        "outputId": "d42718ca-01ec-4276-ed58-39a2aef2c9ea"
      },
      "outputs": [
        {
          "data": {
            "text/plain": [
              "row_id                           -0.000530\n",
              "timestamp                         0.023392\n",
              "user_id                          -0.000533\n",
              "content_id                       -0.197708\n",
              "content_type_id                  -0.437686\n",
              "task_container_id                 0.060067\n",
              "user_answer                       0.126696\n",
              "prior_question_elapsed_time       0.068712\n",
              "prior_question_had_explanation    0.257143\n",
              "dtype: float64"
            ]
          },
          "execution_count": 9,
          "metadata": {},
          "output_type": "execute_result"
        }
      ],
      "source": [
        "target = df_train.pop('answered_correctly')\n",
        "df_train.corrwith(target)"
      ]
    },
    {
      "cell_type": "code",
      "source": [],
      "metadata": {
        "id": "sY5-xhbG9b6J"
      },
      "execution_count": null,
      "outputs": []
    },
    {
      "cell_type": "code",
      "source": [],
      "metadata": {
        "id": "cD4-3y3m9b_h"
      },
      "execution_count": null,
      "outputs": []
    },
    {
      "cell_type": "code",
      "source": [],
      "metadata": {
        "id": "aCrVyZfn9cFu"
      },
      "execution_count": null,
      "outputs": []
    }
  ],
  "metadata": {
    "colab": {
      "provenance": [],
      "include_colab_link": true
    },
    "kernelspec": {
      "display_name": "Python 3 (ipykernel)",
      "language": "python",
      "name": "python3"
    },
    "language_info": {
      "codemirror_mode": {
        "name": "ipython",
        "version": 3
      },
      "file_extension": ".py",
      "mimetype": "text/x-python",
      "name": "python",
      "nbconvert_exporter": "python",
      "pygments_lexer": "ipython3",
      "version": "3.9.12"
    },
    "varInspector": {
      "cols": {
        "lenName": 16,
        "lenType": 16,
        "lenVar": 40
      },
      "kernels_config": {
        "python": {
          "delete_cmd_postfix": "",
          "delete_cmd_prefix": "del ",
          "library": "var_list.py",
          "varRefreshCmd": "print(var_dic_list())"
        },
        "r": {
          "delete_cmd_postfix": ") ",
          "delete_cmd_prefix": "rm(",
          "library": "var_list.r",
          "varRefreshCmd": "cat(var_dic_list()) "
        }
      },
      "types_to_exclude": [
        "module",
        "function",
        "builtin_function_or_method",
        "instance",
        "_Feature"
      ],
      "window_display": false
    }
  },
  "nbformat": 4,
  "nbformat_minor": 0
}
