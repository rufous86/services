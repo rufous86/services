{
  "cells": [
    {
      "cell_type": "markdown",
      "metadata": {
        "id": "view-in-github",
        "colab_type": "text"
      },
      "source": [
        "<a href=\"https://colab.research.google.com/github/rufous86/studies/blob/main/spark_learning.ipynb\" target=\"_parent\"><img src=\"https://colab.research.google.com/assets/colab-badge.svg\" alt=\"Open In Colab\"/></a>"
      ]
    },
    {
      "cell_type": "markdown",
      "metadata": {
        "id": "KZCvfUeWBJhR"
      },
      "source": [
        "Скачаем необходимые наборы данных с kaggle  \n",
        "инструкция по скачиванию данных в colab напрямую с kaggle ниже:  \n",
        "https://www.kaggle.com/general/74235"
      ]
    },
    {
      "cell_type": "code",
      "execution_count": 1,
      "metadata": {
        "colab": {
          "base_uri": "https://localhost:8080/"
        },
        "id": "BblzxVX7l-xW",
        "outputId": "db68e872-2742-49d1-c712-87a1f2972db6"
      },
      "outputs": [
        {
          "output_type": "stream",
          "name": "stdout",
          "text": [
            "Mounted at /content/drive\n",
            "Downloading riiid-test-answer-prediction.zip to /content\n",
            " 99% 1.28G/1.29G [00:08<00:00, 169MB/s]\n",
            "100% 1.29G/1.29G [00:08<00:00, 157MB/s]\n",
            "Archive:  riiid-test-answer-prediction.zip\n",
            "  inflating: data/example_sample_submission.csv  \n",
            "  inflating: data/example_test.csv   \n",
            "  inflating: data/lectures.csv       \n",
            "  inflating: data/questions.csv      \n",
            "  inflating: data/riiideducation/__init__.py  \n",
            "  inflating: data/riiideducation/competition.cpython-37m-x86_64-linux-gnu.so  \n",
            "  inflating: data/train.csv          \n"
          ]
        }
      ],
      "source": [
        "! pip install -q kaggle\n",
        "from google.colab import drive\n",
        "drive.mount('/content/drive')\n",
        "! mkdir ~/.kaggle\n",
        "! cp '/content/drive/MyDrive/Colab Notebooks/kaggle.json' ~/.kaggle/\n",
        "! chmod 600 ~/.kaggle/kaggle.json\n",
        "! kaggle competitions download -c 'riiid-test-answer-prediction'\n",
        "! mkdir data\n",
        "! unzip riiid-test-answer-prediction.zip -d data"
      ]
    },
    {
      "cell_type": "code",
      "execution_count": 2,
      "metadata": {
        "colab": {
          "base_uri": "https://localhost:8080/"
        },
        "id": "Xw_xvyKFqM6y",
        "outputId": "bcbafa1b-8715-443c-d0a3-5dedf2ea3ca2"
      },
      "outputs": [
        {
          "output_type": "stream",
          "name": "stdout",
          "text": [
            "Looking in indexes: https://pypi.org/simple, https://us-python.pkg.dev/colab-wheels/public/simple/\n",
            "Collecting pyspark\n",
            "  Downloading pyspark-3.3.1.tar.gz (281.4 MB)\n",
            "\u001b[K     |████████████████████████████████| 281.4 MB 41 kB/s \n",
            "\u001b[?25hCollecting py4j==0.10.9.5\n",
            "  Downloading py4j-0.10.9.5-py2.py3-none-any.whl (199 kB)\n",
            "\u001b[K     |████████████████████████████████| 199 kB 55.6 MB/s \n",
            "\u001b[?25hBuilding wheels for collected packages: pyspark\n",
            "  Building wheel for pyspark (setup.py) ... \u001b[?25l\u001b[?25hdone\n",
            "  Created wheel for pyspark: filename=pyspark-3.3.1-py2.py3-none-any.whl size=281845512 sha256=b6dc268655ba01b6a209950b01ccffc304826cdf4a20445a86354541e03b0679\n",
            "  Stored in directory: /root/.cache/pip/wheels/43/dc/11/ec201cd671da62fa9c5cc77078235e40722170ceba231d7598\n",
            "Successfully built pyspark\n",
            "Installing collected packages: py4j, pyspark\n",
            "Successfully installed py4j-0.10.9.5 pyspark-3.3.1\n",
            "Looking in indexes: https://pypi.org/simple, https://us-python.pkg.dev/colab-wheels/public/simple/\n",
            "Requirement already satisfied: pyarrow in /usr/local/lib/python3.8/dist-packages (9.0.0)\n",
            "Requirement already satisfied: numpy>=1.16.6 in /usr/local/lib/python3.8/dist-packages (from pyarrow) (1.21.6)\n"
          ]
        }
      ],
      "source": [
        "! pip install pyspark\n",
        "! pip install pyarrow"
      ]
    },
    {
      "cell_type": "code",
      "execution_count": 3,
      "metadata": {
        "colab": {
          "base_uri": "https://localhost:8080/",
          "height": 219
        },
        "id": "atOtPlI4qPjK",
        "outputId": "4c7545fe-4429-45d6-e980-e22d872d3ea8"
      },
      "outputs": [
        {
          "output_type": "execute_result",
          "data": {
            "text/plain": [
              "<pyspark.sql.session.SparkSession at 0x7f3113f88730>"
            ],
            "text/html": [
              "\n",
              "            <div>\n",
              "                <p><b>SparkSession - in-memory</b></p>\n",
              "                \n",
              "        <div>\n",
              "            <p><b>SparkContext</b></p>\n",
              "\n",
              "            <p><a href=\"http://29bd024e6934:4040\">Spark UI</a></p>\n",
              "\n",
              "            <dl>\n",
              "              <dt>Version</dt>\n",
              "                <dd><code>v3.3.1</code></dd>\n",
              "              <dt>Master</dt>\n",
              "                <dd><code>local[*]</code></dd>\n",
              "              <dt>AppName</dt>\n",
              "                <dd><code>pyspark-shell</code></dd>\n",
              "            </dl>\n",
              "        </div>\n",
              "        \n",
              "            </div>\n",
              "        "
            ]
          },
          "metadata": {},
          "execution_count": 3
        }
      ],
      "source": [
        "from pyspark.sql import SparkSession\n",
        "\n",
        "spark = SparkSession.builder.getOrCreate()\n",
        "spark.conf.set(\"spark.sql.execution.arrow.pyspark.enabled\", \"true\")\n",
        "spark"
      ]
    },
    {
      "cell_type": "code",
      "source": [
        "import os\n",
        "os.environ[\"PYARROW_IGNORE_TIMEZONE\"] = \"1\""
      ],
      "metadata": {
        "id": "JJKPDF0oc3IS"
      },
      "execution_count": 9,
      "outputs": []
    },
    {
      "cell_type": "code",
      "execution_count": 49,
      "metadata": {
        "id": "kGuOBQaEq0fx"
      },
      "outputs": [],
      "source": [
        "df = spark.read.csv('data/train.csv', header=True, inferSchema=True)"
      ]
    },
    {
      "cell_type": "code",
      "source": [
        "df.printSchema()"
      ],
      "metadata": {
        "id": "9bze0lILu2bc",
        "outputId": "861a8ce6-89ad-4d2f-a2a5-406b511c3b86",
        "colab": {
          "base_uri": "https://localhost:8080/"
        }
      },
      "execution_count": 50,
      "outputs": [
        {
          "output_type": "stream",
          "name": "stdout",
          "text": [
            "root\n",
            " |-- row_id: integer (nullable = true)\n",
            " |-- timestamp: long (nullable = true)\n",
            " |-- user_id: integer (nullable = true)\n",
            " |-- content_id: integer (nullable = true)\n",
            " |-- content_type_id: integer (nullable = true)\n",
            " |-- task_container_id: integer (nullable = true)\n",
            " |-- user_answer: integer (nullable = true)\n",
            " |-- answered_correctly: integer (nullable = true)\n",
            " |-- prior_question_elapsed_time: double (nullable = true)\n",
            " |-- prior_question_had_explanation: boolean (nullable = true)\n",
            "\n"
          ]
        }
      ]
    },
    {
      "cell_type": "code",
      "execution_count": 51,
      "metadata": {
        "colab": {
          "base_uri": "https://localhost:8080/"
        },
        "id": "4YDNZfPbrnWJ",
        "outputId": "d17d6ee1-bce6-4e54-cf78-7f06d5d4cb32"
      },
      "outputs": [
        {
          "output_type": "stream",
          "name": "stdout",
          "text": [
            "+------+---------+-------+----------+---------------+-----------------+-----------+------------------+---------------------------+------------------------------+\n",
            "|row_id|timestamp|user_id|content_id|content_type_id|task_container_id|user_answer|answered_correctly|prior_question_elapsed_time|prior_question_had_explanation|\n",
            "+------+---------+-------+----------+---------------+-----------------+-----------+------------------+---------------------------+------------------------------+\n",
            "|     0|        0|    115|      5692|              0|                1|          3|                 1|                       null|                          null|\n",
            "|     1|    56943|    115|      5716|              0|                2|          2|                 1|                    37000.0|                         false|\n",
            "|     2|   118363|    115|       128|              0|                0|          0|                 1|                    55000.0|                         false|\n",
            "|     3|   131167|    115|      7860|              0|                3|          0|                 1|                    19000.0|                         false|\n",
            "|     4|   137965|    115|      7922|              0|                4|          1|                 1|                    11000.0|                         false|\n",
            "|     5|   157063|    115|       156|              0|                5|          2|                 1|                     5000.0|                         false|\n",
            "|     6|   176092|    115|        51|              0|                6|          0|                 1|                    17000.0|                         false|\n",
            "|     7|   194190|    115|        50|              0|                7|          3|                 1|                    17000.0|                         false|\n",
            "|     8|   212463|    115|      7896|              0|                8|          2|                 1|                    16000.0|                         false|\n",
            "|     9|   230983|    115|      7863|              0|                9|          0|                 1|                    16000.0|                         false|\n",
            "|    10|   255381|    115|       152|              0|               10|          2|                 0|                    17000.0|                         false|\n",
            "|    11|   280033|    115|       104|              0|               11|          1|                 0|                    22000.0|                         false|\n",
            "|    12|   302994|    115|       108|              0|               12|          1|                 0|                    23000.0|                         false|\n",
            "|    13|   328686|    115|      7900|              0|               13|          0|                 1|                    21000.0|                         false|\n",
            "|    14|   352686|    115|      7901|              0|               14|          1|                 1|                    24000.0|                         false|\n",
            "|    15|   376162|    115|      7971|              0|               15|          2|                 1|                    22000.0|                         false|\n",
            "|    16|   398020|    115|        25|              0|               16|          1|                 1|                    21000.0|                         false|\n",
            "|    17|   418008|    115|       183|              0|               17|          0|                 0|                    20000.0|                         false|\n",
            "|    18|   437272|    115|      7926|              0|               18|          1|                 1|                    18000.0|                         false|\n",
            "|    19|   468511|    115|      7927|              0|               19|          3|                 1|                    17000.0|                         false|\n",
            "+------+---------+-------+----------+---------------+-----------------+-----------+------------------+---------------------------+------------------------------+\n",
            "only showing top 20 rows\n",
            "\n"
          ]
        }
      ],
      "source": [
        "df.show()"
      ]
    },
    {
      "cell_type": "code",
      "source": [
        "from pyspark.sql.types import IntegerType\n",
        "\n",
        "df = df.withColumn('prior_question_had_explanation', df['prior_question_had_explanation'].cast(IntegerType()))\n",
        "df.show()\n",
        "df.printSchema()"
      ],
      "metadata": {
        "id": "EAni5dyJeJDW",
        "outputId": "defa9c00-27c5-4af8-aa3e-c8551ed5e3b2",
        "colab": {
          "base_uri": "https://localhost:8080/"
        }
      },
      "execution_count": 52,
      "outputs": [
        {
          "output_type": "stream",
          "name": "stdout",
          "text": [
            "+------+---------+-------+----------+---------------+-----------------+-----------+------------------+---------------------------+------------------------------+\n",
            "|row_id|timestamp|user_id|content_id|content_type_id|task_container_id|user_answer|answered_correctly|prior_question_elapsed_time|prior_question_had_explanation|\n",
            "+------+---------+-------+----------+---------------+-----------------+-----------+------------------+---------------------------+------------------------------+\n",
            "|     0|        0|    115|      5692|              0|                1|          3|                 1|                       null|                          null|\n",
            "|     1|    56943|    115|      5716|              0|                2|          2|                 1|                    37000.0|                             0|\n",
            "|     2|   118363|    115|       128|              0|                0|          0|                 1|                    55000.0|                             0|\n",
            "|     3|   131167|    115|      7860|              0|                3|          0|                 1|                    19000.0|                             0|\n",
            "|     4|   137965|    115|      7922|              0|                4|          1|                 1|                    11000.0|                             0|\n",
            "|     5|   157063|    115|       156|              0|                5|          2|                 1|                     5000.0|                             0|\n",
            "|     6|   176092|    115|        51|              0|                6|          0|                 1|                    17000.0|                             0|\n",
            "|     7|   194190|    115|        50|              0|                7|          3|                 1|                    17000.0|                             0|\n",
            "|     8|   212463|    115|      7896|              0|                8|          2|                 1|                    16000.0|                             0|\n",
            "|     9|   230983|    115|      7863|              0|                9|          0|                 1|                    16000.0|                             0|\n",
            "|    10|   255381|    115|       152|              0|               10|          2|                 0|                    17000.0|                             0|\n",
            "|    11|   280033|    115|       104|              0|               11|          1|                 0|                    22000.0|                             0|\n",
            "|    12|   302994|    115|       108|              0|               12|          1|                 0|                    23000.0|                             0|\n",
            "|    13|   328686|    115|      7900|              0|               13|          0|                 1|                    21000.0|                             0|\n",
            "|    14|   352686|    115|      7901|              0|               14|          1|                 1|                    24000.0|                             0|\n",
            "|    15|   376162|    115|      7971|              0|               15|          2|                 1|                    22000.0|                             0|\n",
            "|    16|   398020|    115|        25|              0|               16|          1|                 1|                    21000.0|                             0|\n",
            "|    17|   418008|    115|       183|              0|               17|          0|                 0|                    20000.0|                             0|\n",
            "|    18|   437272|    115|      7926|              0|               18|          1|                 1|                    18000.0|                             0|\n",
            "|    19|   468511|    115|      7927|              0|               19|          3|                 1|                    17000.0|                             0|\n",
            "+------+---------+-------+----------+---------------+-----------------+-----------+------------------+---------------------------+------------------------------+\n",
            "only showing top 20 rows\n",
            "\n",
            "root\n",
            " |-- row_id: integer (nullable = true)\n",
            " |-- timestamp: long (nullable = true)\n",
            " |-- user_id: integer (nullable = true)\n",
            " |-- content_id: integer (nullable = true)\n",
            " |-- content_type_id: integer (nullable = true)\n",
            " |-- task_container_id: integer (nullable = true)\n",
            " |-- user_answer: integer (nullable = true)\n",
            " |-- answered_correctly: integer (nullable = true)\n",
            " |-- prior_question_elapsed_time: double (nullable = true)\n",
            " |-- prior_question_had_explanation: integer (nullable = true)\n",
            "\n"
          ]
        }
      ]
    },
    {
      "cell_type": "code",
      "source": [
        "df.pandas_api().isna().sum()"
      ],
      "metadata": {
        "id": "Sn9BLCdNDyWo",
        "outputId": "68f18473-be29-4ed7-90a8-67c223b3a80d",
        "colab": {
          "base_uri": "https://localhost:8080/"
        }
      },
      "execution_count": 53,
      "outputs": [
        {
          "output_type": "execute_result",
          "data": {
            "text/plain": [
              "row_id                                  0\n",
              "timestamp                               0\n",
              "user_id                                 0\n",
              "content_id                              0\n",
              "content_type_id                         0\n",
              "task_container_id                       0\n",
              "user_answer                             0\n",
              "answered_correctly                      0\n",
              "prior_question_elapsed_time       2351538\n",
              "prior_question_had_explanation     392506\n",
              "dtype: int64"
            ]
          },
          "metadata": {},
          "execution_count": 53
        }
      ]
    },
    {
      "cell_type": "markdown",
      "metadata": {
        "id": "2vM_nqUGQdN2"
      },
      "source": [
        "Посмотрим, сколько в нашей таблице пустых значений"
      ]
    },
    {
      "cell_type": "code",
      "execution_count": 54,
      "metadata": {
        "id": "MVzT4DxZKRKp",
        "outputId": "0efa3c3f-bda5-468c-f810-5d0b404d8157",
        "colab": {
          "base_uri": "https://localhost:8080/"
        }
      },
      "outputs": [
        {
          "output_type": "execute_result",
          "data": {
            "text/plain": [
              "row_id                            0\n",
              "timestamp                         0\n",
              "user_id                           0\n",
              "content_id                        0\n",
              "content_type_id                   0\n",
              "task_container_id                 0\n",
              "user_answer                       0\n",
              "answered_correctly                0\n",
              "prior_question_elapsed_time       0\n",
              "prior_question_had_explanation    0\n",
              "dtype: int64"
            ]
          },
          "metadata": {},
          "execution_count": 54
        }
      ],
      "source": [
        "df = df.dropna()\n",
        "df.pandas_api().isna().sum()"
      ]
    },
    {
      "cell_type": "markdown",
      "metadata": {
        "id": "uy4FJxqiUcwe"
      },
      "source": [
        "Проанализируем характеристики, влияющие на успеваемость студентов. Так как фактически данные об успеваемости у нас отсутствуют, условно за успеваемость будут выступать правильно данные ответы.      \n",
        "Сначала сохраним колонку answered_correctly в переменную target. Это будет наша целевая переменная  \n",
        "Затем рассчитаем коэффициент корреляции целевой переменной с каждой из остальных характеристик"
      ]
    },
    {
      "cell_type": "code",
      "source": [
        "from pyspark.ml.stat import Correlation\n",
        "from pyspark.ml.feature import VectorAssembler\n",
        "\n",
        "# convert to vector column first\n",
        "vector_col = \"corr_features\"\n",
        "assembler = VectorAssembler(inputCols=df.columns, outputCol=vector_col)\n",
        "df_vector = assembler.transform(df).select(vector_col)\n",
        "\n",
        "# get correlation matrix\n",
        "matrix = Correlation.corr(df_vector, vector_col)"
      ],
      "metadata": {
        "id": "cD4-3y3m9b_h"
      },
      "execution_count": 58,
      "outputs": []
    },
    {
      "cell_type": "code",
      "source": [
        "cor_np = matrix.collect()[0][matrix.columns[0]].toArray()"
      ],
      "metadata": {
        "id": "VysXkhXc9TyN"
      },
      "execution_count": 60,
      "outputs": []
    },
    {
      "cell_type": "code",
      "source": [
        "cor_np"
      ],
      "metadata": {
        "id": "aCrVyZfn9cFu",
        "outputId": "9ca782ad-eed5-4d3b-cdb0-089e9e9a4687",
        "colab": {
          "base_uri": "https://localhost:8080/"
        }
      },
      "execution_count": 61,
      "outputs": [
        {
          "output_type": "execute_result",
          "data": {
            "text/plain": [
              "array([[ 1.00000000e+00, -8.26003560e-06,  9.99989501e-01,\n",
              "         1.10690729e-03,             nan,  1.45050124e-03,\n",
              "         1.28763250e-04, -4.18789084e-04,  2.94137394e-04,\n",
              "        -1.18176233e-03],\n",
              "       [-8.26003560e-06,  1.00000000e+00, -3.89713656e-05,\n",
              "         6.36708325e-02,             nan,  4.33860128e-01,\n",
              "        -3.24998575e-05,  2.92539852e-02,  1.39338573e-02,\n",
              "         1.64842921e-01],\n",
              "       [ 9.99989501e-01, -3.89713656e-05,  1.00000000e+00,\n",
              "         1.10863528e-03,             nan,  1.45660792e-03,\n",
              "         1.27630134e-04, -4.23014075e-04,  3.07933859e-04,\n",
              "        -1.17888601e-03],\n",
              "       [ 1.10690729e-03,  6.36708325e-02,  1.10863528e-03,\n",
              "         1.00000000e+00,             nan,  6.54618189e-02,\n",
              "         1.26430775e-02, -2.11886773e-02,  1.51660538e-01,\n",
              "         3.82540992e-02],\n",
              "       [            nan,             nan,             nan,\n",
              "                    nan,  1.00000000e+00,             nan,\n",
              "                    nan,             nan,             nan,\n",
              "                    nan],\n",
              "       [ 1.45050124e-03,  4.33860128e-01,  1.45660792e-03,\n",
              "         6.54618189e-02,             nan,  1.00000000e+00,\n",
              "         2.10104147e-03,  5.89928171e-02, -1.34122615e-02,\n",
              "         1.67697072e-01],\n",
              "       [ 1.28763250e-04, -3.24998575e-05,  1.27630134e-04,\n",
              "         1.26430775e-02,             nan,  2.10104147e-03,\n",
              "         1.00000000e+00,  6.22665086e-03,  1.45699301e-02,\n",
              "        -1.13671343e-02],\n",
              "       [-4.18789084e-04,  2.92539852e-02, -4.23014075e-04,\n",
              "        -2.11886773e-02,             nan,  5.89928171e-02,\n",
              "         6.22665086e-03,  1.00000000e+00, -7.90023979e-03,\n",
              "         1.05571183e-01],\n",
              "       [ 2.94137394e-04,  1.39338573e-02,  3.07933859e-04,\n",
              "         1.51660538e-01,             nan, -1.34122615e-02,\n",
              "         1.45699301e-02, -7.90023979e-03,  1.00000000e+00,\n",
              "        -2.71724744e-03],\n",
              "       [-1.18176233e-03,  1.64842921e-01, -1.17888601e-03,\n",
              "         3.82540992e-02,             nan,  1.67697072e-01,\n",
              "        -1.13671343e-02,  1.05571183e-01, -2.71724744e-03,\n",
              "         1.00000000e+00]])"
            ]
          },
          "metadata": {},
          "execution_count": 61
        }
      ]
    }
  ],
  "metadata": {
    "colab": {
      "provenance": [],
      "include_colab_link": true
    },
    "kernelspec": {
      "display_name": "Python 3 (ipykernel)",
      "language": "python",
      "name": "python3"
    },
    "language_info": {
      "codemirror_mode": {
        "name": "ipython",
        "version": 3
      },
      "file_extension": ".py",
      "mimetype": "text/x-python",
      "name": "python",
      "nbconvert_exporter": "python",
      "pygments_lexer": "ipython3",
      "version": "3.9.12"
    },
    "varInspector": {
      "cols": {
        "lenName": 16,
        "lenType": 16,
        "lenVar": 40
      },
      "kernels_config": {
        "python": {
          "delete_cmd_postfix": "",
          "delete_cmd_prefix": "del ",
          "library": "var_list.py",
          "varRefreshCmd": "print(var_dic_list())"
        },
        "r": {
          "delete_cmd_postfix": ") ",
          "delete_cmd_prefix": "rm(",
          "library": "var_list.r",
          "varRefreshCmd": "cat(var_dic_list()) "
        }
      },
      "types_to_exclude": [
        "module",
        "function",
        "builtin_function_or_method",
        "instance",
        "_Feature"
      ],
      "window_display": false
    }
  },
  "nbformat": 4,
  "nbformat_minor": 0
}