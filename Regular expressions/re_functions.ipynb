{
 "cells": [
  {
   "cell_type": "markdown",
   "metadata": {},
   "source": [
    "# re.match"
   ]
  },
  {
   "cell_type": "markdown",
   "metadata": {},
   "source": [
    "## Получаем информацию"
   ]
  },
  {
   "cell_type": "markdown",
   "metadata": {},
   "source": [
    "В переменной match записан объект Match. Выведите на экран:\n",
    "\n",
    "- Его нулевую группу\n",
    "- Начало вхождения нулевой группы\n",
    "- Конец вхождения нулевой группы\n",
    "- Атрибут pos\n",
    "- Атрибут endpos\n",
    "- Атрибут re\n",
    "- Атрибут string\n",
    "\n",
    "На входные данные и функцию re.match() не обращайте внимания.\n",
    "\n",
    "\n",
    ">Sample Input 1:\n",
    "\n",
    "```\n",
    "I\n",
    "I love regex!\n",
    "```\n",
    "\n",
    ">Sample Output 1:\n",
    "\n",
    "```\n",
    "I\n",
    "0\n",
    "1\n",
    "0\n",
    "13\n",
    "re.compile('I')\n",
    "I love regex!\n",
    "```\n",
    "\n",
    ">Sample Input 2:\n",
    "\n",
    "```\n",
    "\\b[А-Яа-я]+\\b\n",
    "Второй тест\n",
    "\n",
    "```\n",
    ">Sample Output 2:\n",
    "\n",
    "```\n",
    "Второй\n",
    "0\n",
    "6\n",
    "0\n",
    "11\n",
    "re.compile('\\\\b[А-Яа-я]+\\\\b')\n",
    "Второй тест\n",
    "```\n",
    "\n",
    ">Напишите программу. Тестируется через stdin → stdout\n",
    "```python\n",
    "import re\n",
    "\n",
    "match = re.match(input(), input())\n",
    "# Код писать сюда \\(❤‿❤)/\n",
    "```"
   ]
  },
  {
   "cell_type": "code",
   "execution_count": 19,
   "metadata": {},
   "outputs": [
    {
     "name": "stdout",
     "output_type": "stream",
     "text": [
      "input: I I love regex!\n",
      "result:\n",
      "I\n",
      "0\n",
      "1\n",
      "0\n",
      "13\n",
      "re.compile('I')\n",
      "I love regex!\n",
      "---\n",
      "input: \\b[А-Яа-я]+\\b Второй тест\n",
      "result:\n",
      "Второй\n",
      "0\n",
      "6\n",
      "0\n",
      "11\n",
      "re.compile('\\\\b[А-Яа-я]+\\\\b')\n",
      "Второй тест\n",
      "---\n"
     ]
    }
   ],
   "source": [
    "import re\n",
    "\n",
    "# match = re.match(input(), input())\n",
    "for pattern, text in ((r'I', 'I love regex!'),\n",
    "                      (r'\\b[А-Яа-я]+\\b', 'Второй тест')):\n",
    "    match = re.match(pattern, text)\n",
    "    print('input:', pattern, text)\n",
    "    print('result:')\n",
    "\n",
    "    print(match[0])\n",
    "    print(match.start())\n",
    "    print(match.end())\n",
    "    print(match.pos)\n",
    "    print(match.endpos)\n",
    "    print(match.re)\n",
    "    print(match.string)\n",
    "    print('---')"
   ]
  },
  {
   "cell_type": "markdown",
   "metadata": {},
   "source": [
    "## None"
   ]
  },
  {
   "cell_type": "markdown",
   "metadata": {},
   "source": [
    "Многие функции возвращают None в результате своей работы, если ничего не было найдено.\n",
    "\n",
    "Попробуйте вывести нулевую группу в Match-объекте, если совпадение было найдено. Если его нет - ничего не выводите.\n",
    "\n",
    ">Sample Input 1:\n",
    "\n",
    "```\n",
    "123\n",
    "123123\n",
    "```\n",
    "\n",
    ">Sample Output 1:\n",
    "\n",
    "```\n",
    "123\n",
    "```\n",
    "\n",
    ">Sample Input 2:\n",
    "\n",
    "```\n",
    "123\n",
    "456789\n",
    "```\n",
    "\n",
    ">Sample Output 2:\n",
    "\n",
    "\n",
    ">Напишите программу. Тестируется через stdin → stdout\n",
    "\n",
    "```python\n",
    "import re\n",
    "\n",
    "match = re.match(input(), input())\n",
    "# Код писать сюда \\(❤‿❤)/\n",
    "```"
   ]
  },
  {
   "cell_type": "code",
   "execution_count": 18,
   "metadata": {},
   "outputs": [
    {
     "name": "stdout",
     "output_type": "stream",
     "text": [
      "input: 123 123123\n",
      "result:\n",
      "123\n",
      "---\n",
      "input: 123 456789\n",
      "result:\n",
      "---\n"
     ]
    }
   ],
   "source": [
    "for pattern, text in (\n",
    "    ('123', '123123'),\n",
    "    ('123', '456789')\n",
    "    ):\n",
    "    print('input:', pattern, text)\n",
    "    print('result:')\n",
    "\n",
    "    match = re.match(pattern, text)\n",
    "    if match:\n",
    "        print(match[0])\n",
    "    print('---')"
   ]
  },
  {
   "cell_type": "markdown",
   "metadata": {},
   "source": [
    "# re.search"
   ]
  },
  {
   "cell_type": "markdown",
   "metadata": {},
   "source": [
    "## #hashtag"
   ]
  },
  {
   "cell_type": "markdown",
   "metadata": {},
   "source": [
    ">Условие:\n",
    "Напишите программу, которая найдёт первый хештег в тексте и выведет его в консоль.\n",
    "\n",
    ">Что нужно сделать:\n",
    " Нужно найти первый хештег в тексте:\n",
    "\n",
    "- Начинается с символа #\n",
    "- После # стоит последовательность из латинских букв нижнего регистра\n",
    "\n",
    ">Тестовые данные:\n",
    ">Входные данные:\n",
    "- На вход программе подаётся 1 строка.\n",
    "\n",
    ">Выходные данные:\n",
    "- Выведите в консоль первый найденный хештег. Если его нет - ничего выводить не нужно.\n",
    "\n",
    ">Sample Input 1:\n",
    "\n",
    "```\n",
    "#traveler #traveller #traveltheworld #travelblog #traveladdict #mytravelgram #travels #travelphoto #traveldiaries #travellife #travelawesome #travelpics #natgeotravel #travelholic #travelbug #travelstoke #traveldeeper #travelgirl #luxurytravel #worldtraveler #travelers #solotravel #travelpic #travelmore #travellingthroughtheworld #traveldiary #ilovetravel\n",
    "```\n",
    "\n",
    ">Sample Output 1:\n",
    "\n",
    "```\n",
    "#traveler\n",
    "```\n",
    "\n",
    ">Sample Input 2:\n",
    "\n",
    "```\n",
    "Some #hashtags for you\n",
    "```\n",
    "\n",
    ">Sample Output 2:\n",
    "\n",
    "```\n",
    "#hashtags\n",
    "```\n",
    "\n",
    ">Sample Input 3:\n",
    "\n",
    "```\n",
    "There are no hashtags :(\n",
    "```\n",
    "\n",
    ">Sample Output 3:\n"
   ]
  },
  {
   "cell_type": "code",
   "execution_count": null,
   "metadata": {},
   "outputs": [],
   "source": []
  }
 ],
 "metadata": {
  "kernelspec": {
   "display_name": "base",
   "language": "python",
   "name": "python3"
  },
  "language_info": {
   "codemirror_mode": {
    "name": "ipython",
    "version": 3
   },
   "file_extension": ".py",
   "mimetype": "text/x-python",
   "name": "python",
   "nbconvert_exporter": "python",
   "pygments_lexer": "ipython3",
   "version": "3.11.5"
  }
 },
 "nbformat": 4,
 "nbformat_minor": 2
}
