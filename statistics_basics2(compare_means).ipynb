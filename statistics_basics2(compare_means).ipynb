{
  "cells": [
    {
      "cell_type": "markdown",
      "metadata": {
        "id": "ggYnrFJOCDmu"
      },
      "source": [
        "# Сравнение средних"
      ]
    },
    {
      "cell_type": "markdown",
      "metadata": {
        "id": "Roh8CJZaatsT"
      },
      "source": [
        "---\n",
        "**ВАЖНАЯ ЗАМЕТКА:**\n",
        "\n",
        "Если число наблюдений меньше 30, \n",
        "z-преобразование заменяется на t-преобразование.\n",
        "Чем выше число наблюдений, тем ближе форма t-распределения к нормальному\n",
        "\n",
        "---"
      ]
    },
    {
      "cell_type": "markdown",
      "metadata": {
        "id": "ygx_72IsCTHu"
      },
      "source": [
        "## сравнение двух средних, t-критерий Стьюдента (Student's t-test)"
      ]
    },
    {
      "cell_type": "markdown",
      "metadata": {
        "id": "oGoeKsrzCdoj"
      },
      "source": [
        "Процесс денатурации ДНК представляет разрушение водородных связей между двумя цепями этой молекулы и очень сильно зависит от воздействующей на них температуры.\n",
        "\n",
        "При сравнении двух видов были получены следующие значения температуры плавления образца:"
      ]
    },
    {
      "cell_type": "code",
      "execution_count": null,
      "metadata": {
        "id": "L8nALA2VD2cQ"
      },
      "outputs": [],
      "source": [
        "mu_1, std_1, n_1 = 89.9, 11.3, 20\n",
        "mu_2, std_2, n_2 = 80.7, 11.7, 20"
      ]
    },
    {
      "cell_type": "markdown",
      "metadata": {
        "id": "2Hj_i7zsZa5Q"
      },
      "source": [
        "Предположим 2 гипотезы:\n",
        "\n",
        "H0 - М1=М2, оба вида принадлежат одной генеральной совокупности\n",
        "\n",
        "H1 - М1!=М2, оба вида принадлежат разным генеральным совокупностям\n",
        "\n",
        "Проверяем H0: разница M0-M1 должна распределиться нормально с средним в нуле\n",
        "\n",
        "Определим на сколько сигма отклоняется разница наших выборочных средних от разницы средних генеральных совокупностей (0):"
      ]
    },
    {
      "cell_type": "code",
      "execution_count": null,
      "metadata": {
        "colab": {
          "base_uri": "https://localhost:8080/"
        },
        "id": "54mij_xUaqEg",
        "outputId": "8176f354-860b-46b4-c046-0c0f29f48481"
      },
      "outputs": [
        {
          "name": "stdout",
          "output_type": "stream",
          "text": [
            "se = 3.6\n",
            "t = 2.5\n",
            "Degrees of freedom=38\n"
          ]
        }
      ],
      "source": [
        "from math import sqrt\n",
        "\n",
        "se = sqrt((std_1**2) / n_1 + (std_2**2) / n_2)\n",
        "print(f'se = {se:.01f}')\n",
        "\n",
        "t = (mu_1 - mu_2) / se\n",
        "print(f't = {t:.01f}')\n",
        "print(f'Degrees of freedom={n_1 + n_2 - 2}')"
      ]
    },
    {
      "cell_type": "markdown",
      "metadata": {
        "id": "jHVdYDknj4fk"
      },
      "source": [
        "Воспользовавшись сервисом https://gallery.shinyapps.io/dist_calc/ выбрав t-распределение и установив Degrees of freedom=38, both tails: a = -2.5, b = 2.5\n",
        "\n",
        "получим p-value: P(X < -2.5 or X > 2.5) = 0.0169, что меньше 0,05"
      ]
    },
    {
      "cell_type": "code",
      "execution_count": null,
      "metadata": {
        "colab": {
          "base_uri": "https://localhost:8080/",
          "height": 300
        },
        "id": "B9Qgjim_lH0O",
        "outputId": "e4416a14-979a-4ae3-d62f-56ef31cebd1e"
      },
      "outputs": [
        {
          "name": "stdout",
          "output_type": "stream",
          "text": [
            "Ttest_indResult(statistic=6.04781958789892, pvalue=4.894702897415829e-07)\n",
            "H0 can be rejected, means aren't statistically equal, factor impacts\n"
          ]
        },
        {
          "data": {
            "image/png": "[encoded data removed]",
            "text/plain": [
              "<Figure size 432x288 with 1 Axes>"
            ]
          },
          "metadata": {
            "needs_background": "light"
          },
          "output_type": "display_data"
        }
      ],
      "source": [
        "# вариант с помощью scipy\n",
        "from scipy import stats\n",
        "import matplotlib.pyplot as plt\n",
        "\n",
        "sample_1 = [84.7, 105, 98.9, 97.9, 108.7, 81.3, 99.4, 89.4 , 93, 119.3, 99.2, 99.4, 97.1, 112.4, 99.8, 94.7, 114, 95.1, 115.5, 111.5]\n",
        "sample_2 = [57.2, 68.6, 104.4, 95.1, 89.9, 70.8, 83.5, 60.1, 75.7, 102, 69, 79.6, 68.9, 98.6, 76, 74.8, 56, 55.6, 69.4, 59.5]\n",
        "\n",
        "res = stats.ttest_ind(sample_1, sample_2)\n",
        "print(res)\n",
        "if res[1] >= 0.05:\n",
        "    print(\"H0 can't be rejected, means are statistically equal, no factor impact\")\n",
        "else:\n",
        "    print(\"H0 can be rejected, means aren't statistically equal, factor impacts\")\n",
        "\n",
        "plt.boxplot([sample_1, sample_2], showmeans=True, whis=True)\n",
        "plt.show()"
      ]
    },
    {
      "cell_type": "markdown",
      "metadata": {
        "id": "8_PNCS9RYCQD"
      },
      "source": [
        "## Confidence interval and Student's t-test (2.2 step 12)"
      ]
    },
    {
      "cell_type": "markdown",
      "metadata": {
        "id": "z1n0rSczYSe8"
      },
      "source": [
        "Знание t-распределения поможет нам корректно рассчитать границы доверительного интервала, особенно в тех случаях, если число наблюдений меньше 30. Ранее при расчете 95% доверительного интервала мы использовали формулу mu +- 1.96 * std / sqrt(n)\n",
        "\n",
        "Однако 95% всех наблюдений в случае t-распределения могут лежать в более широком диапазоне. \n",
        "\n",
        "Рассчитайте доверительный интервал основываясь на знании t - распределения для среднего значения температуры плавления ДНК у первого вида:\n",
        "\n",
        "mu=89,9 sd=11,3 n=20 \n",
        "\n",
        "Для этого определите, в каком диапазоне находится 95 % наблюдений у соответствующего t - распределения (df = n -1) и используйте это значение вместо коэффициента 1,96. \n",
        "\n",
        "Давайте воспользуемся таблицей критических значений для t - распределения для нахождения нужного t - значения ﻿:\n",
        "\n",
        "http://www.medcalc.org/manual/t-distribution.php\n",
        "\n",
        "В этой таблице нас интересует столбец, где A=0,95 (область под кривой). На пересечении этого столбца и строки с нужным числом степеней свободы и находится интересующее нас значение.\n",
        "\n",
        "В соответствии с таблицей это число 2.093"
      ]
    },
    {
      "cell_type": "code",
      "execution_count": null,
      "metadata": {
        "colab": {
          "base_uri": "https://localhost:8080/"
        },
        "id": "MoDEbCzeYo5d",
        "outputId": "5bd5b1b4-a059-4b87-d4bf-3166276f55cb"
      },
      "outputs": [
        {
          "name": "stdout",
          "output_type": "stream",
          "text": [
            "se=2.53\n",
            "95%-ный доверительный интервал=[84.61; 95.19]\n"
          ]
        }
      ],
      "source": [
        "from math import sqrt\n",
        "\n",
        "mu, std, n = 89.9, 11.3, 20\n",
        "t = 2.093\n",
        "\n",
        "se = std /  sqrt(n)\n",
        "print(f'se={se:.2f}')\n",
        "print(f'95%-ный доверительный интервал=[{mu - t * se:.2f}; {mu + t * se:.2f}]')"
      ]
    },
    {
      "cell_type": "markdown",
      "metadata": {
        "id": "7z4p1Kl1grOT"
      },
      "source": [
        "## QQ-Plot"
      ]
    },
    {
      "cell_type": "code",
      "execution_count": null,
      "metadata": {
        "id": "noQu36-5gzJq",
        "outputId": "8d7a7d49-455f-4c55-a968-28233fbf5021"
      },
      "outputs": [
        {
          "data": {
            "image/png": "[encoded data removed]",
            "text/plain": [
              "<Figure size 432x288 with 1 Axes>"
            ]
          },
          "metadata": {
            "needs_background": "light"
          },
          "output_type": "display_data"
        },
        {
          "data": {
            "image/png": "[encoded data removed]",
            "text/plain": [
              "<Figure size 432x288 with 1 Axes>"
            ]
          },
          "metadata": {
            "needs_background": "light"
          },
          "output_type": "display_data"
        },
        {
          "data": {
            "image/png": "[encoded data removed]",
            "text/plain": [
              "<Figure size 432x288 with 1 Axes>"
            ]
          },
          "metadata": {
            "needs_background": "light"
          },
          "output_type": "display_data"
        },
        {
          "data": {
            "image/png": "[encoded data removed]",
            "text/plain": [
              "<Figure size 432x288 with 1 Axes>"
            ]
          },
          "metadata": {
            "needs_background": "light"
          },
          "output_type": "display_data"
        }
      ],
      "source": [
        "import statsmodels.api as sm\n",
        "import matplotlib.pyplot as plt\n",
        "import numpy as np\n",
        "\n",
        "sample_1 = np.array([84.7, 105, 98.9, 97.9, 108.7, 81.3, 99.4, 89.4 , 93, 119.3, 99.2, 99.4, 97.1, 112.4, 99.8, 94.7, 114, 95.1, 115.5, 111.5])\n",
        "sample_2 = np.array([57.2, 68.6, 104.4, 95.1, 89.9, 70.8, 83.5, 60.1, 75.7, 102, 69, 79.6, 68.9, 98.6, 76, 74.8, 56, 55.6, 69.4, 59.5])\n",
        "\n",
        "for data in (sample_1, sample_2):\n",
        "    data = (data - np.mean(data)) / np.std(data) # don't forget about standartization!!!\n",
        "    plt.hist(data)\n",
        "    fig = sm.qqplot(data, line='45')\n",
        "    plt.show()"
      ]
    },
    {
      "cell_type": "markdown",
      "metadata": {
        "id": "unFA2TUqMyDd"
      },
      "source": [
        "## Однофакторный дисперсионный анализ (One-way analysis of variance)"
      ]
    },
    {
      "cell_type": "markdown",
      "metadata": {
        "id": "a_osyvBMM6Ab"
      },
      "source": [
        "Возьмем 3 наблюдения\n",
        "Определим 2 гипотезы:\n",
        "\n",
        "H0: M1=M2=M3\n",
        "\n",
        "H1: M1!=M2 or M2!=M3 or M1!=M3"
      ]
    },
    {
      "cell_type": "code",
      "execution_count": 3,
      "metadata": {
        "id": "Xgu0U848M1z4"
      },
      "outputs": [],
      "source": [
        "import numpy as np\n",
        "\n",
        "sample_1 = np.array([3, 1, 2])\n",
        "sample_2 = np.array([5, 3, 4])\n",
        "sample_3 = np.array([7, 6, 5])"
      ]
    },
    {
      "cell_type": "code",
      "execution_count": 4,
      "metadata": {
        "colab": {
          "base_uri": "https://localhost:8080/"
        },
        "id": "40m0lpRXOKcz",
        "outputId": "119e99d8-1c7f-4665-ec3b-ed6fbc5048f9"
      },
      "outputs": [
        {
          "name": "stdout",
          "output_type": "stream",
          "text": [
            "mean_all=4.0\n",
            "SST=30.0\n",
            "df=8\n"
          ]
        }
      ],
      "source": [
        "# Рассчитаем среднее по всем выборкам\n",
        "all_samples = np.append(sample_1, np.append(sample_2, sample_3))\n",
        "n = len(all_samples)\n",
        "m = 3 #num of groups\n",
        "mean_all = np.mean(all_samples)\n",
        "print(f\"mean_all={mean_all}\")\n",
        "\n",
        "# SST - Total Sum of Squares (общая сумма квадратов): базовое понятие дисперсионного анализа\n",
        "# Показывает, насколько высока изменчивость наших данных без учета разделения их на группы\n",
        "SST = sum((all_samples-mean_all)**2)\n",
        "print(f\"SST={SST}\")\n",
        "\n",
        "# Число степеней свободы\n",
        "df = n - 1\n",
        "print(f\"df={df}\")"
      ]
    },
    {
      "cell_type": "code",
      "execution_count": 5,
      "metadata": {
        "colab": {
          "base_uri": "https://localhost:8080/"
        },
        "id": "MvwzP5VjWHoo",
        "outputId": "5448a56c-3226-4352-f5b3-33dcbd109b02"
      },
      "outputs": [
        {
          "name": "stdout",
          "output_type": "stream",
          "text": [
            "SSW=6.0\n",
            "df=6\n",
            "SSB=24.0\n",
            "df=2\n"
          ]
        }
      ],
      "source": [
        "\"\"\"\n",
        " На SST влияют два параметра:\n",
        " 1. SSB (sum of squares between groups)\n",
        " 2. SSW (sum of squares within group)\n",
        "\"\"\"\n",
        "def SSW_in_group(sample):\n",
        "    return sum((sample - np.mean(sample))**2)\n",
        "\n",
        "SSW = SSW_in_group(sample_1) + SSW_in_group(sample_2) + SSW_in_group(sample_3)\n",
        "print(f\"SSW={SSW}\")\n",
        "df = n - m\n",
        "print(f\"df={df}\")\n",
        "\n",
        "n_1, n_2, n_3 = len(sample_1), len(sample_2), len(sample_3)\n",
        "SSB = n_1*(np.mean(sample_1) - mean_all)**2 + n_2*(np.mean(sample_2) - mean_all)**2 + n_3*(np.mean(sample_3) - mean_all)**2\n",
        "print(f\"SSB={SSB}\")\n",
        "df = m - 1\n",
        "print(f\"df={df}\")"
      ]
    },
    {
      "cell_type": "markdown",
      "metadata": {
        "id": "QTiUK0piuq2h"
      },
      "source": [
        "Получаем\n",
        "\n",
        "SST = 30\n",
        "\n",
        "SSB = 24\n",
        "\n",
        "SSW = 6\n",
        "\n",
        "Вывод: если большая часть нашей общей изменчивости обеспечивается именно благодаря сумме квадратов междугрпповых, это означает, что наши группы значительно различаются между собой\n",
        "\n",
        "Рассчитает основной статистический показатель дисперсионного анализа, F-значение"
      ]
    },
    {
      "cell_type": "code",
      "execution_count": 6,
      "metadata": {
        "colab": {
          "base_uri": "https://localhost:8080/"
        },
        "id": "_AuBqMakvDeU",
        "outputId": "3d57a60d-1357-405c-a683-18efb71a3c16"
      },
      "outputs": [
        {
          "name": "stdout",
          "output_type": "stream",
          "text": [
            "f_value=12.0\n",
            "f_value=F_onewayResult(statistic=12.0, pvalue=0.008000000000000002)\n"
          ]
        }
      ],
      "source": [
        "from scipy import stats\n",
        "\n",
        "f_value = (SSB / (m-1)) / (SSW / (n-m))\n",
        "print(f\"f_value={f_value}\")\n",
        "print(f\"f_value={stats.f_oneway(sample_1, sample_2, sample_3)}\")"
      ]
    },
    {
      "cell_type": "markdown",
      "metadata": {
        "id": "H07EeEMtxd40"
      },
      "source": [
        "Воспользовавшись сайтом https://gallery.shinyapps.io/dist_calc/ выясняем(выбераем F distribution, Degrees of freedom=2, Degrees of freedom (2)=6, a=12), что вероятность получить такие или более выраженные различия равны (p-уровень значимости) P(X > 12) = 0.008"
      ]
    },
    {
      "cell_type": "markdown",
      "metadata": {},
      "source": [
        "### Пример"
      ]
    },
    {
      "cell_type": "code",
      "execution_count": 2,
      "metadata": {},
      "outputs": [
        {
          "name": "stdout",
          "output_type": "stream",
          "text": [
            "F_onewayResult(statistic=8.03730248114399, pvalue=0.00015249722895229536)\n"
          ]
        },
        {
          "data": {
            "image/png": "[encoded data removed]",
            "text/plain": [
              "<Figure size 432x288 with 1 Axes>"
            ]
          },
          "metadata": {
            "needs_background": "light"
          },
          "output_type": "display_data"
        }
      ],
      "source": [
        "from scipy import stats\n",
        "import pandas as pd\n",
        "import matplotlib.pyplot as plt\n",
        "\n",
        "data = pd.read_csv(\"genetherapy.csv\")\n",
        "\n",
        "data_1 = data.loc[lambda df: df[\"Therapy\"] == \"A\"][\"expr\"]\n",
        "data_2 = data.loc[lambda df: df[\"Therapy\"] == \"B\"][\"expr\"]\n",
        "data_3 = data.loc[lambda df: df[\"Therapy\"] == \"C\"][\"expr\"]\n",
        "data_4 = data.loc[lambda df: df[\"Therapy\"] == \"D\"][\"expr\"]\n",
        "\n",
        "f_value = stats.f_oneway(data_1, data_2, data_3, data_4)\n",
        "print(f_value)\n",
        "\n",
        "plt.boxplot([data_1, data_2, data_3, data_4], showmeans=True, whis=True, \n",
        "    labels=[\"A\", \"B\", \"C\", \"D\"])\n",
        "plt.show()"
      ]
    }
  ],
  "metadata": {
    "colab": {
      "name": "statistics_basics(stepik).ipynb",
      "provenance": []
    },
    "kernelspec": {
      "display_name": "Python 3.9.12 ('base')",
      "language": "python",
      "name": "python3"
    },
    "language_info": {
      "codemirror_mode": {
        "name": "ipython",
        "version": 3
      },
      "file_extension": ".py",
      "mimetype": "text/x-python",
      "name": "python",
      "nbconvert_exporter": "python",
      "pygments_lexer": "ipython3",
      "version": "3.9.12"
    },
    "vscode": {
      "interpreter": {
        "hash": "c9f85a49a774e89aef9a12c10c27d86197139bab5c2fb9d43c737ab52e1d2267"
      }
    }
  },
  "nbformat": 4,
  "nbformat_minor": 0
}
