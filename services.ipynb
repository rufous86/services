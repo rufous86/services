{
  "cells": [
    {
      "cell_type": "markdown",
      "metadata": {
        "id": "4839acf6-c527-44c0-8734-dbe89ac92c2a"
      },
      "source": [
        "## Формула Байеса"
      ],
      "id": "4839acf6-c527-44c0-8734-dbe89ac92c2a"
    },
    {
      "cell_type": "markdown",
      "metadata": {
        "id": "7dd96ccd-37fa-4446-b90f-7913e0f388b7"
      },
      "source": [
        "Пример применения формулы Байеса\n",
        "Допустим, в некоторой контрольной группе из 10000 человек в среднем 1 имеет приобретенный иммунодефицит. Пациент сдает тест, достоверность которого составляет 99%. Допустим, пришел положительный результат теста. Можно задать вопрос: стоит ли паниковать? Другими словами: с каким уровнем доверия имеет место гипотеза “у пациента ВИЧ”?\n",
        "\n",
        "Ответ на этот вопрос может дать формула Байеса. До того, как пациент узнал результаты анализов, априорная вероятность заболевания у него составляла 1/10000. Однако положительный тест вносит поправку в достоверность гипотезы о заболевании. \n",
        "\n",
        "В наших обозначениях H= \"пациент болен ВИЧ\", A= \"пришел положительный тест\". Мы должны вычислить уровень достоверности гипотезы H при условии A. Итак, априорная вероятность есть P(H)=1/10000; достоверность теста есть P(A|H)=0,99.  Положительный тест может прийти как в случае, если пациент действительно болен (за это отвечает первое слагаемое в знаменателе, P(A|H)⋅P(H)=0,99⋅0,0001), так и в случае, если тест оказался ложно-положительным (второе слагаемое, P(A|H¯)⋅(1−P(H))=0,01−0,9999). Применяя формулу Байеса, найдем апостериорную вероятность инфекции:"
      ],
      "id": "7dd96ccd-37fa-4446-b90f-7913e0f388b7"
    },
    {
      "cell_type": "code",
      "execution_count": null,
      "metadata": {
        "id": "0fbc9e49-c5ce-48ca-a9fb-3634996ae3e2"
      },
      "outputs": [],
      "source": [
        "p_A_if_H = 0.99\n",
        "p_H = 1. / 10000\n",
        "p_A_if_NOT_H = 1 - p_A_if_H\n",
        "p_NOT_H = 1 - p_H"
      ],
      "id": "0fbc9e49-c5ce-48ca-a9fb-3634996ae3e2"
    },
    {
      "cell_type": "code",
      "execution_count": null,
      "metadata": {
        "id": "88772f4e-17f9-4431-a5ab-90df01ae76fa",
        "outputId": "bdc45128-828b-43c6-d6ef-56c661fa67e9"
      },
      "outputs": [
        {
          "data": {
            "text/plain": [
              "0.009803921568627442"
            ]
          },
          "execution_count": 38,
          "metadata": {},
          "output_type": "execute_result"
        }
      ],
      "source": [
        "p_H_if_A = p_A_if_H * p_H / (p_A_if_H * p_H + p_A_if_NOT_H * (p_NOT_H))\n",
        "p_H_if_A"
      ],
      "id": "88772f4e-17f9-4431-a5ab-90df01ae76fa"
    },
    {
      "cell_type": "markdown",
      "metadata": {
        "id": "WTEO02eOyzb_"
      },
      "source": [
        "## Вопрос 3 (Студ группа)"
      ],
      "id": "WTEO02eOyzb_"
    },
    {
      "cell_type": "markdown",
      "metadata": {
        "id": "0375c803-3aea-41d1-9584-d7fc49c1f9ff"
      },
      "source": [
        "В студенческой группе 10 девушек и 15 юношей. На конференцию выбирают 5 делегатов. Найдите вероятность того, что в числе делегатов окажется хотя бы один юноша. Ответ округлите до тысячных."
      ],
      "id": "0375c803-3aea-41d1-9584-d7fc49c1f9ff"
    },
    {
      "cell_type": "code",
      "execution_count": null,
      "metadata": {
        "id": "8078eb11-270f-4c28-8ab1-8918ffe8cfab"
      },
      "outputs": [],
      "source": [
        "from math import factorial as fac"
      ],
      "id": "8078eb11-270f-4c28-8ab1-8918ffe8cfab"
    },
    {
      "cell_type": "code",
      "execution_count": null,
      "metadata": {
        "id": "f54c24d1-9101-4b70-a1b8-e8269fbc0d08",
        "outputId": "039c65d6-ab74-4fd4-962b-743cd13017b7"
      },
      "outputs": [
        {
          "data": {
            "text/plain": [
              "0.9952569169960476"
            ]
          },
          "execution_count": 62,
          "metadata": {},
          "output_type": "execute_result"
        }
      ],
      "source": [
        "c_1_15 = fac(15) / (fac(1) * fac(14))\n",
        "c_2_15 = fac(15) / (fac(2) * fac(13))\n",
        "c_3_15 = fac(15) / (fac(3) * fac(12))\n",
        "c_4_15 = fac(15) / (fac(4) * fac(11))\n",
        "c_5_15 = fac(15) / (fac(5) * fac(10))\n",
        "\n",
        "c_4_10 = fac(10) / (fac(4) * fac(6))\n",
        "c_3_10 = fac(10) / (fac(3) * fac(7))\n",
        "c_2_10 = fac(10) / (fac(2) * fac(8))\n",
        "c_1_10 = fac(10) / (fac(1) * fac(9))\n",
        "\n",
        "c_5_25 = fac(25) / (fac(5) * fac(20))\n",
        "\n",
        "p1 = c_1_15 * c_4_10 / c_5_25\n",
        "p2 = c_2_15 * c_3_10 / c_5_25\n",
        "p3 = c_3_15 * c_2_10 / c_5_25\n",
        "p4 = c_4_15 * c_1_10 / c_5_25\n",
        "p5 = c_5_15 / c_5_25\n",
        "p = sum([p1, p2, p3, p4, p5])\n",
        "p"
      ],
      "id": "f54c24d1-9101-4b70-a1b8-e8269fbc0d08"
    },
    {
      "cell_type": "markdown",
      "metadata": {
        "id": "k4XG9blWy-Vl"
      },
      "source": [
        "## Вопрос 4 (пирамидка с винтовками)"
      ],
      "id": "k4XG9blWy-Vl"
    },
    {
      "cell_type": "markdown",
      "metadata": {
        "id": "zXf7vYJGyYqR"
      },
      "source": [
        "В пирамидке стоят 5 винтовок, 3 из которых снабжены оптическим прицелом. Вероятность того, что стрелок поразит мишень при выстреле из винтовки с оптическим прицелом, равна 0,9; для винтовки без оптического прицела эта вероятность равна 0,6. Найдите вероятность того, что мишень будет поражена, если стрелок произведет выстрел из наудачу взятой винтовки."
      ],
      "id": "zXf7vYJGyYqR"
    },
    {
      "cell_type": "code",
      "execution_count": null,
      "metadata": {
        "id": "RKcLT8bxyZUg"
      },
      "outputs": [],
      "source": [
        "ruf_num = 2\n",
        "opt_ruf_num = 3\n",
        "p_ruf = 0.6\n",
        "p_opt_ruf = 0.9"
      ],
      "id": "RKcLT8bxyZUg"
    },
    {
      "cell_type": "code",
      "execution_count": null,
      "metadata": {
        "colab": {
          "base_uri": "https://localhost:8080/"
        },
        "id": "dtQwY2DR0QNU",
        "outputId": "08c186ee-d7ce-4817-9400-7f2a378022ec"
      },
      "outputs": [
        {
          "data": {
            "text/plain": [
              "0.78"
            ]
          },
          "execution_count": 4,
          "metadata": {},
          "output_type": "execute_result"
        }
      ],
      "source": [
        "all_ruf_num = ruf_num + opt_ruf_num\n",
        "p = p_opt_ruf * opt_ruf_num / all_ruf_num + p_ruf * ruf_num / all_ruf_num\n",
        "p"
      ],
      "id": "dtQwY2DR0QNU"
    },
    {
      "cell_type": "markdown",
      "source": [
        ""
      ],
      "metadata": {
        "id": "tlZL4MmCUh6E"
      },
      "id": "tlZL4MmCUh6E"
    },
    {
      "cell_type": "markdown",
      "metadata": {
        "id": "eqz0MhV41Idk"
      },
      "source": [
        "## Вопрос 5 (про случайно встреченных блондинов)"
      ],
      "id": "eqz0MhV41Idk"
    },
    {
      "cell_type": "markdown",
      "metadata": {
        "id": "-QP5cvSr1SuB"
      },
      "source": [
        "Случайно встреченное лицо с вероятностью 0,3 может оказаться блондином. Найдите вероятность того, что среди пяти случайно встреченных лиц будет не менее четырех блондинов. Ответ округлите до сотых."
      ],
      "id": "-QP5cvSr1SuB"
    },
    {
      "cell_type": "code",
      "execution_count": null,
      "metadata": {
        "colab": {
          "base_uri": "https://localhost:8080/"
        },
        "id": "qR2vfkG11Tly",
        "outputId": "4a5ff0b9-b534-4ebf-b91c-0ab2dd690743"
      },
      "outputs": [
        {
          "data": {
            "text/plain": [
              "0.03078"
            ]
          },
          "execution_count": 17,
          "metadata": {},
          "output_type": "execute_result"
        }
      ],
      "source": [
        "p1 = 0.3 # встречен блондин\n",
        "p2 = 1 - p1 # встречен не блондин\n",
        "p = 5 * ((p1**4)*p2) + p1**5\n",
        "p"
      ],
      "id": "qR2vfkG11Tly"
    },
    {
      "cell_type": "markdown",
      "metadata": {
        "id": "wBTe6pLayfyA"
      },
      "source": [
        "## Вопрос 6 (спартакиада)"
      ],
      "id": "wBTe6pLayfyA"
    },
    {
      "cell_type": "markdown",
      "metadata": {
        "id": "ebb27c10-4ec7-44fc-8269-59f15809719f"
      },
      "source": [
        "В спартакиаде участвуют из первой группы 4 студента, из второй – 6, из третьей – 5. Студент из первой группы попадает в сборную института с вероятность 0,9, второй – 0,7, третьей – 0,8. Наудачу выбранный студент попал в сборную. Какова вероятность того, что это студент из второй группы? Ответ округлите до тысячных."
      ],
      "id": "ebb27c10-4ec7-44fc-8269-59f15809719f"
    },
    {
      "cell_type": "markdown",
      "metadata": {
        "id": "ef62cd9c-9eb8-4279-adf7-e6e8a0fa00c0"
      },
      "source": [
        "событие А – 'студент в итоге соревнования попал в сборную.''\n",
        "\n",
        "гипотезу H1 – ''студент из первой группы''\n",
        "\n",
        "гипотезу H2 – ''студент из второй группы''\n",
        "\n",
        "гипотезу H3 – ''студент из третьей группы''\n",
        "\n",
        "k1, k2, k3 - число студентов в соответствующей группе"
      ],
      "id": "ef62cd9c-9eb8-4279-adf7-e6e8a0fa00c0"
    },
    {
      "cell_type": "code",
      "execution_count": null,
      "metadata": {
        "id": "be86b28e-690a-4ab9-9779-959417d6f4de"
      },
      "outputs": [],
      "source": [
        "k1, k2, k3 = 4, 6, 5\n",
        "p_A_H1, p_A_H2, p_A_H3 = 0.9, 0.7, 0.8\n",
        "k_all = sum([k1, k2, k3])"
      ],
      "id": "be86b28e-690a-4ab9-9779-959417d6f4de"
    },
    {
      "cell_type": "code",
      "execution_count": null,
      "metadata": {
        "id": "bb1f4585-9bbe-4dd8-8937-df2d163078b5",
        "outputId": "10064f8c-cc03-417a-acd7-9064ec374cdf"
      },
      "outputs": [
        {
          "data": {
            "text/plain": [
              "(0.3050847457627119, 0.3559322033898305, 0.33898305084745767)"
            ]
          },
          "execution_count": 46,
          "metadata": {},
          "output_type": "execute_result"
        }
      ],
      "source": [
        "p_H1 = k1 / k_all\n",
        "p_H2 = k2 / k_all\n",
        "p_H3 = k3 / k_all\n",
        "\n",
        "p_A = p_H1*p_A_H1 + p_H2*p_A_H2 + p_H3*p_A_H3\n",
        "\n",
        "p_H1_A = p_H1 * p_A_H1 / p_A\n",
        "p_H2_A = p_H2 * p_A_H2 / p_A\n",
        "p_H3_A = p_H3 * p_A_H3 / p_A\n",
        "\n",
        "(p_H1_A, p_H2_A, p_H3_A)"
      ],
      "id": "bb1f4585-9bbe-4dd8-8937-df2d163078b5"
    },
    {
      "cell_type": "markdown",
      "source": [
        "## Вопрос 8 (ранг матрицы)"
      ],
      "metadata": {
        "id": "G_O5b3i5U3fN"
      },
      "id": "G_O5b3i5U3fN"
    },
    {
      "cell_type": "markdown",
      "source": [
        "![image.png](data:image/png;base64,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)"
      ],
      "metadata": {
        "id": "cvn-4HzlU6mc"
      },
      "id": "cvn-4HzlU6mc"
    },
    {
      "cell_type": "code",
      "source": [
        "import numpy as np\n",
        "from math import sqrt\n",
        "from numpy.linalg import matrix_rank\n",
        "\n",
        "i = 1\n",
        "\n",
        "m = np.array([\n",
        "              [1 + i*sqrt(2), 1 - sqrt(2), 1],\n",
        "              [1 + i*sqrt(3), 1 - sqrt(3), 1],\n",
        "              [1 + i*sqrt(4), 1 - sqrt(4), 1],\n",
        "])\n",
        "\n",
        "rk = matrix_rank(m)\n",
        "print(rk)"
      ],
      "metadata": {
        "id": "sWm24wOpU4Av",
        "outputId": "cda7e391-70be-41fd-8d9a-bf21792910ce",
        "colab": {
          "base_uri": "https://localhost:8080/"
        }
      },
      "id": "sWm24wOpU4Av",
      "execution_count": 5,
      "outputs": [
        {
          "output_type": "stream",
          "name": "stdout",
          "text": [
            "2\n"
          ]
        }
      ]
    },
    {
      "cell_type": "markdown",
      "metadata": {
        "id": "Kj3d37sDI3E-"
      },
      "source": [
        "## Вопрос 17 (Квадратный стенд)"
      ],
      "id": "Kj3d37sDI3E-"
    },
    {
      "cell_type": "markdown",
      "metadata": {
        "id": "WHTNuD19I_JV"
      },
      "source": [
        "Перебирая свои школьные архивы, Елпидифор вспомнил, что его школьные годы прошли плодотворно и он получил очень много грамот за примерное поведение, успехи в рисовании, математические олимпиады - и ещё много за что.\n",
        "\n",
        "Оказалось, что все грамоты имеют один и тот же размер W⋅H и текст на всех из них располагается в одной и той же ориентации. Память есть память, и ему захотелось, чтобы все эти грамоты были на виду. У него имеется возможность заказать квадратный стенд в лаборатории прототипирования «Сириуса», где работает его одноклассник. Фабрика имеет возможность изготавливать такие стенды с любой стороной квадрата, лишь бы она могла быть выражена целым числом. Так как цена заказа зависит от размера стенда, хотелось бы заплатить сумму поменьше.\n",
        "\n",
        "\n",
        "\n",
        "Входные данные\n",
        "\n",
        "Входные данные содержат три числа: 1⩽W,H,N⩽109.\n",
        "\n",
        "\n",
        "Выходные данные \n",
        "\n",
        "Одно целое число — минимальная сторона квадратного стенда, на котором могут разместиться все грамоты. Грамоты могут касаться сторонами, но не пересекаться."
      ],
      "id": "WHTNuD19I_JV"
    },
    {
      "cell_type": "code",
      "execution_count": null,
      "metadata": {
        "cellView": "code",
        "id": "cNOFUcnidBLW"
      },
      "outputs": [],
      "source": [
        "import math\n",
        "w, h, num = [int(x) for x in str.split(input(), sep=' ')]\n",
        "s_max = max(w, h)\n",
        "s_min = min(w, h)\n",
        "stand_w = w * h * num\n",
        "for n in range(1, num+1):\n",
        "    temp = max(s_max * n, math.ceil(num / n) * s_min)\n",
        "    if temp >= stand_w:\n",
        "        break\n",
        "    stand_w = temp\n",
        "print(stand_w)"
      ],
      "id": "cNOFUcnidBLW"
    },
    {
      "cell_type": "markdown",
      "metadata": {
        "id": "NinewDKy2DOB"
      },
      "source": [
        "## Вопрос 18 (Сортировка)"
      ],
      "id": "NinewDKy2DOB"
    },
    {
      "cell_type": "markdown",
      "metadata": {
        "id": "4oMcGhOc2DmA"
      },
      "source": [
        "Китайский фермер Мат Рос Кин встроил в каждую корову на ферме по видеокарте RX1080 и решил майнить криптовалюту \"байтугрики\". По прошествии месяца для каждой коровы Мат Рос Кин определил доходность каждой коровы в байтугриках вещественное число, по модулю не превышающее 3⋅104. Так как питаться чем-то всё равно надо, Мат Рос Кин решил отсортировать коров по возрастанию доходности (и тем самым сформировать очередь на мясо). Но так как все вычислительные ресурсы ушли на майнинг, Мат Рос Кин просит вас составить этот список.\n",
        "\n",
        "Входные данные\n",
        "Первая строка входа содержит одно целое число N(0≤N≤1000)- количество коров.\n",
        "\n",
        "Вторая строка содержит N чисел с плавающей точкой, по модулю не превышающих 3⋅104 - доходность каждой коровы в байтугриках.\n",
        "\n",
        "\n",
        "Выходные данные\n",
        "\n",
        "Выведите список, отсортированный по возрастанию доходности. Числа в списке не должны отличаться от исходных данных более, чем на 10−6.\n",
        "\n"
      ],
      "id": "4oMcGhOc2DmA"
    },
    {
      "cell_type": "code",
      "execution_count": null,
      "metadata": {
        "colab": {
          "base_uri": "https://localhost:8080/"
        },
        "id": "-1WUiapa2JeP",
        "outputId": "315d204c-e5de-4b50-ee7a-e49e8777f2e0"
      },
      "outputs": [
        {
          "name": "stdout",
          "output_type": "stream",
          "text": [
            "5\n",
            "2.3 17.7 17.8 -4.12 35.0\n",
            "-4.12 2.3 17.7 17.8 35.0 "
          ]
        }
      ],
      "source": [
        "n = int(input())\n",
        "profit = [float(x) for x in str.split(input(), sep=' ')]\n",
        "profit_sorted = sorted(profit)\n",
        "for i in profit_sorted:\n",
        "    print(i, end=' ')"
      ],
      "id": "-1WUiapa2JeP"
    },
    {
      "cell_type": "markdown",
      "metadata": {
        "id": "lCihJ4hLL4cD"
      },
      "source": [
        "## Вопрос 19 (n-тый член последовательности)"
      ],
      "id": "lCihJ4hLL4cD"
    },
    {
      "cell_type": "markdown",
      "metadata": {
        "id": "-83z_RVOMARR"
      },
      "source": [
        "n -тый член последовательности задан как F(n)=F(n−1)+F(n−2)+F(n−3),F(0)=F(1)=F(2)=1. Найти n-тый член последовательности.\n",
        "\n",
        "\n",
        "**Входные данные**\n",
        "\n",
        "Натуральное число 0<n≤30.\n",
        "\n",
        "Выходные данные\n",
        "\n",
        "n-тый член последовательности."
      ],
      "id": "-83z_RVOMARR"
    },
    {
      "cell_type": "code",
      "execution_count": null,
      "metadata": {
        "colab": {
          "base_uri": "https://localhost:8080/"
        },
        "id": "RYQX0ThIfbgt",
        "outputId": "763ed83b-1966-42f5-ac8b-eef7eed06905"
      },
      "outputs": [
        {
          "name": "stdout",
          "output_type": "stream",
          "text": [
            "6\n",
            "17\n"
          ]
        }
      ],
      "source": [
        "n = int(input())\n",
        "fib1 = fib2 = fib3 = 1\n",
        " \n",
        "for i in range(3, n+1):\n",
        "    fib1, fib2, fib3 = fib2, fib3, fib1 + fib2 + fib3\n",
        "print(fib3)"
      ],
      "id": "RYQX0ThIfbgt"
    },
    {
      "cell_type": "markdown",
      "metadata": {
        "id": "eVZ_cZYjDiT4"
      },
      "source": [
        "## Вопрос 20 (Эйлеров цикл)"
      ],
      "id": "eVZ_cZYjDiT4"
    },
    {
      "cell_type": "markdown",
      "metadata": {
        "id": "pco745-nDiT4"
      },
      "source": [
        "Мосты города Малининграда заданы в виде неориентированного связного графа, который может содержать петли и кратные рёбра и задан своей симметричной матрицей смежности. В Агентство Социальной Безопасности поступила анонимка, что террорист Эйлер планирует обойти их все и заминировать. Он не хочет подорваться на своей мине, поэтому по каждому мосту собирается проходить ровно по одному разу. Директор Агентства Глеб Жеглов хочет узнать, осуществим ли такой план и верить ли анонимке.\n",
        "\n",
        "\n",
        "Входные данные\n",
        "\n",
        "На первой строке задаётся число N(1≤N≤100)– количество вершин в графе. Следом идёт сама матрица смежности графа в виде N строк, в каждой из которых по N неотрицательных чисел. Считаем, что вершины нумеруются с 0.\n",
        "\n",
        "\n",
        "Выходные данные\n",
        "\n",
        "YES, если данный граф содержит эйлеров цикл, и NO в противном случае."
      ],
      "id": "pco745-nDiT4"
    },
    {
      "cell_type": "code",
      "execution_count": null,
      "metadata": {
        "scrolled": true,
        "id": "TG8G8hDgDiT5"
      },
      "outputs": [],
      "source": [
        "import numpy as np\n",
        "\n",
        "def find_eulerian_tour(graph):\n",
        "    stack = [];\n",
        "    tour = []\n",
        " \n",
        "    stack.append(graph[0][0])\n",
        " \n",
        "    while len(stack) > 0:\n",
        "        v = stack[len(stack) - 1]\n",
        " \n",
        "        degree = get_degree(v, graph)\n",
        " \n",
        "        if degree == 0:\n",
        "            stack.pop()\n",
        "            tour.append(v)\n",
        "        else:\n",
        "            index, edge = get_edge_and_index(v, graph)\n",
        "            graph.pop(index)\n",
        "            stack.append(edge[1] if v == edge[0] else edge[0])\n",
        "    return tour\n",
        " \n",
        " \n",
        "def get_degree(v, graph):\n",
        "    degree = 0\n",
        "    for (x, y) in graph:\n",
        "        if v == x or v == y:\n",
        "            degree += 1\n",
        " \n",
        "    return degree\n",
        " \n",
        " \n",
        "def get_edge_and_index(v, graph):\n",
        "    edge = ();\n",
        "    index = -1\n",
        " \n",
        "    for i in range(len(graph)):\n",
        "        if (v == graph[i][0] or v == graph[i][1]):\n",
        "            edge, index = graph[i], i\n",
        "            break\n",
        " \n",
        "    return index, edge\n",
        "\n",
        "def get_graph(matrix):\n",
        "    g = [int(x) for x in matrix]\n",
        "    g = np.array(g).reshape(n, -1)\n",
        "\n",
        "    a, b = np.where(g != 0)\n",
        "    graph = np.concatenate((a.reshape(-1, 1), b.reshape(-1, 1)), axis=1).tolist()\n",
        "\n",
        "    return graph\n",
        "\n",
        "n = int(input())\n",
        "g = input().split()\n",
        "graph = get_graph(g)\n",
        "\n",
        "tour = find_eulerian_tour(graph)\n",
        "print('YES' if tour[0] == tour[-1] else 'NO')\n",
        "print(tour)"
      ],
      "id": "TG8G8hDgDiT5"
    },
    {
      "cell_type": "code",
      "source": [
        "import numpy as np"
      ],
      "metadata": {
        "id": "gcYK9Gt0GH_j"
      },
      "id": "gcYK9Gt0GH_j",
      "execution_count": null,
      "outputs": []
    },
    {
      "cell_type": "code",
      "source": [
        "n = int(input())\n",
        "g = input().split()\n",
        "graph = get_graph(g)\n",
        "\n",
        "def get_graph(matrix):\n",
        "    g = [int(x) for x in matrix]\n",
        "    g = np.array(g).reshape(n, -1)\n",
        "\n",
        "    a, b = np.where(g != 0)\n",
        "    graph = np.concatenate((a.reshape(-1, 1), b.reshape(-1, 1)), axis=1).tolist()\n",
        "\n",
        "    print(a)\n",
        "    print(b)\n",
        "\n",
        "    return graph, type(graph)\n",
        "\n",
        "print(get_graph(g))\n",
        "\n",
        "# graph = [(0, 1), (1, 5), (1, 7), (4, 5),\n",
        "# (4, 8), (1, 6), (3, 7), (5, 9),\n",
        "# (2, 4), (0, 4), (2, 5), (3, 6), (8, 9)]"
      ],
      "metadata": {
        "colab": {
          "base_uri": "https://localhost:8080/"
        },
        "id": "iLq9t8GXFLSD",
        "outputId": "2ad2da6f-f8cc-4a47-a054-a18af523033e"
      },
      "id": "iLq9t8GXFLSD",
      "execution_count": null,
      "outputs": [
        {
          "output_type": "stream",
          "name": "stdout",
          "text": [
            "6\n",
            "0 2 0 0 1 0 2 0 1 0 1 0 0 1 0 1 0 0 0 0 1 0 1 1 1 1 0 1 0 0 0 0 0 1 0 0\n",
            "[0 0 1 1 1 2 2 3 3 3 4 4 4 5]\n",
            "[1 4 0 2 4 1 3 2 4 5 0 1 3 3]\n",
            "([[0, 1], [0, 4], [1, 0], [1, 2], [1, 4], [2, 1], [2, 3], [3, 2], [3, 4], [3, 5], [4, 0], [4, 1], [4, 3], [5, 3]], <class 'list'>)\n"
          ]
        }
      ]
    },
    {
      "cell_type": "code",
      "source": [
        "import numpy as np\n",
        "\n",
        "# Класс для представления графического объекта\n",
        "class Graph:\n",
        "    def __init__(self, n, edges=[]):\n",
        "        # изменяет размер списка, чтобы он содержал `n` элементов\n",
        "        self.adjList = [[] for _ in range(n)]\n",
        " \n",
        "        # добавляет ребро от источника к месту назначения\n",
        "        for edge in edges:\n",
        "            self.addEdge(edge[0], edge[1])\n",
        " \n",
        "    # Функция добавления ребра (u, v) к графу\n",
        "    def addEdge(self, u, v):\n",
        "        self.adjList[u].append(v)\n",
        "        self.adjList[v].append(u)\n",
        " \n",
        " \n",
        "# Функция для обхода DFS на графике на графике\n",
        "def DFS(graph, v, discovered):\n",
        "    discovered[v] = True        # пометить текущий узел как обнаруженный\n",
        " \n",
        "    # делаем для каждого ребра (v, u)\n",
        "    for u in graph.adjList[v]:\n",
        "        if not discovered[u]:   #, если `u` еще не обнаружен\n",
        "            DFS(graph, u, discovered)\n",
        " \n",
        " \n",
        "# Функция проверки наличия всех вершин с ненулевой степенью в графе\n",
        "# принадлежат одному подключенному компоненту\n",
        "def isConnected(graph, n):\n",
        " \n",
        "    # для отслеживания обнаружена вершина или нет\n",
        "    discovered = [False] * n\n",
        " \n",
        "    # запускает DFS с первой вершины с ненулевой степенью\n",
        "    for i in range(n):\n",
        "        if len(graph.adjList[i]):\n",
        "            DFS(graph, i, discovered)\n",
        "            break\n",
        " \n",
        "    #, если один вызов DFS не может посетить все вершины с ненулевой степенью,\n",
        "    # граф содержит более одной компоненты связности\n",
        "    for i in range(n):\n",
        "        if not discovered[i] and len(graph.adjList[i]):\n",
        "            return False\n",
        " \n",
        "    return True\n",
        " \n",
        " \n",
        "# Вспомогательная функция для возврата общего количества вершин с нечетной степенью\n",
        "# на графике\n",
        "def countOddVertices(graph):\n",
        "    count = 0\n",
        "    for list in graph.adjList:\n",
        "        if len(list) & 1:\n",
        "            count += 1\n",
        "    return count\n",
        "\n",
        "def count_odds(matrix):\n",
        "    g = [1 if int(x) > 1 else int(x) for x in matrix]\n",
        "    g = np.array(g).reshape(n, -1)\n",
        "    odds = [sum(x) for x in g]\n",
        "    odd = [1 if x % 2 > 0 else 0 for x in odds]\n",
        "    return sum(odd)\n",
        " \n",
        "def get_graph(matrix):\n",
        "    g = [int(x) for x in matrix]\n",
        "    g = np.array(g).reshape(n, -1)\n",
        "\n",
        "    a, b = np.where(g != 0)\n",
        "    graph = np.concatenate((a.reshape(-1, 1), b.reshape(-1, 1)), axis=1).tolist()\n",
        "\n",
        "    return graph\n",
        "\n",
        "n = int(input())\n",
        "g = input().split()\n",
        "graph = get_graph(g)\n",
        " \n",
        "if __name__ == '__main__':\n",
        " \n",
        "    # Список ребер графа согласно приведенной выше схеме\n",
        "    # edges = [(0, 1), (0, 3), (1, 2), (1, 3), (1, 4), (2, 3), (3, 4)]\n",
        "    edges = graph\n",
        " \n",
        "    # общее количество узлов в графе (от 0 до 4)\n",
        "    # n = 5\n",
        " \n",
        "    # создает неориентированный граф из заданных ребер\n",
        "    graph = Graph(n, edges)\n",
        " \n",
        "    # проверяет, принадлежат ли все вершины с ненулевой степенью одному\n",
        "    # Подключенный компонент\n",
        "    is_connected = isConnected(graph, n)\n",
        " \n",
        "    # найти общее количество вершин с нечетной степенью\n",
        "    # odd = countOddVertices(graph)\n",
        "    odd = count_odds(g)\n",
        " \n",
        "    # Эйлеров путь существует, если все вершины ненулевой степени соединены,\n",
        "    # и ноль или две вершины имеют нечетную степень\n",
        "    if is_connected and (odd == 0 or odd == 2):\n",
        " \n",
        "        # print('The graph has an Eulerian path')\n",
        " \n",
        "        # Связный граф имеет эйлеров цикл, если каждая вершина имеет\n",
        "        # четный градус\n",
        "        if odd == 0:\n",
        "            # print('The graph has an Eulerian cycle')\n",
        "            print('YES')\n",
        " \n",
        "        # Граф имеет эйлеров путь, но не эйлеров цикл\n",
        "        else:\n",
        "            # print('The Graph is Semi–Eulerian')\n",
        "            print('YES')\n",
        "    else:\n",
        "        print('NO', odd)\n",
        "#     print('The Graph is not Eulerian')"
      ],
      "metadata": {
        "colab": {
          "base_uri": "https://localhost:8080/"
        },
        "id": "8eiWjzWPgfsY",
        "outputId": "2135ff19-cf18-4f3f-860c-dcff88ca60e1"
      },
      "id": "8eiWjzWPgfsY",
      "execution_count": null,
      "outputs": [
        {
          "output_type": "stream",
          "name": "stdout",
          "text": [
            "6\n",
            "0 2 0 0 1 0 2 0 1 0 1 0 0 1 0 1 0 0 0 0 1 0 1 1 1 1 0 1 0 0 0 0 0 1 0 0\n",
            "NO 4\n"
          ]
        }
      ]
    },
    {
      "cell_type": "code",
      "source": [
        "def count_odds(matrix):\n",
        "    g = [1 if int(x) > 1 else int(x) for x in matrix]\n",
        "    g = np.array(g).reshape(n, -1)\n",
        "    odds = [sum(x) for x in g]\n",
        "    odd = [1 if x % 2 > 0 else 0 for x in odds]\n",
        "    return sum(odd)\n",
        "\n",
        "\n",
        "n = int(input())\n",
        "g = input().split()\n",
        "odds = count_odds(g)\n",
        "print(odds)"
      ],
      "metadata": {
        "id": "ByC6ijCVMhJ6",
        "outputId": "9fb23336-49dd-416b-fed2-029e38a1b4af",
        "colab": {
          "base_uri": "https://localhost:8080/"
        }
      },
      "id": "ByC6ijCVMhJ6",
      "execution_count": null,
      "outputs": [
        {
          "output_type": "stream",
          "name": "stdout",
          "text": [
            "6\n",
            "0 2 0 0 1 0 2 0 1 0 1 0 0 1 0 1 0 0 0 0 1 0 1 1 1 1 0 1 0 0 0 0 0 1 0 0\n",
            "4\n"
          ]
        }
      ]
    },
    {
      "cell_type": "markdown",
      "source": [
        "0 2 0 0 1 0\n",
        "2 0 1 0 1 0\n",
        "0 1 0 1 0 0\n",
        "0 0 1 0 1 1\n",
        "1 1 0 1 0 0\n",
        "0 0 0 1 0 0"
      ],
      "metadata": {
        "id": "7xi2CZ_XFfGe"
      },
      "id": "7xi2CZ_XFfGe"
    }
  ],
  "metadata": {
    "colab": {
      "name": "services.ipynb",
      "provenance": []
    },
    "kernelspec": {
      "display_name": "Python 3",
      "language": "python",
      "name": "python3"
    },
    "language_info": {
      "codemirror_mode": {
        "name": "ipython",
        "version": 3
      },
      "file_extension": ".py",
      "mimetype": "text/x-python",
      "name": "python",
      "nbconvert_exporter": "python",
      "pygments_lexer": "ipython3",
      "version": "3.7.4"
    },
    "varInspector": {
      "cols": {
        "lenName": 16,
        "lenType": 16,
        "lenVar": 40
      },
      "kernels_config": {
        "python": {
          "delete_cmd_postfix": "",
          "delete_cmd_prefix": "del ",
          "library": "var_list.py",
          "varRefreshCmd": "print(var_dic_list())"
        },
        "r": {
          "delete_cmd_postfix": ") ",
          "delete_cmd_prefix": "rm(",
          "library": "var_list.r",
          "varRefreshCmd": "cat(var_dic_list()) "
        }
      },
      "types_to_exclude": [
        "module",
        "function",
        "builtin_function_or_method",
        "instance",
        "_Feature"
      ],
      "window_display": false
    }
  },
  "nbformat": 4,
  "nbformat_minor": 5
}