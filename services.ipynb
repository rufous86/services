{
  "cells": [
    {
      "cell_type": "markdown",
      "metadata": {
        "id": "view-in-github",
        "colab_type": "text"
      },
      "source": [
        "<a href=\"https://colab.research.google.com/github/rufous86/services/blob/main/services.ipynb\" target=\"_parent\"><img src=\"https://colab.research.google.com/assets/colab-badge.svg\" alt=\"Open In Colab\"/></a>"
      ]
    },
    {
      "cell_type": "markdown",
      "id": "4839acf6-c527-44c0-8734-dbe89ac92c2a",
      "metadata": {
        "id": "4839acf6-c527-44c0-8734-dbe89ac92c2a"
      },
      "source": [
        "## Формула Байеса"
      ]
    },
    {
      "cell_type": "markdown",
      "id": "7dd96ccd-37fa-4446-b90f-7913e0f388b7",
      "metadata": {
        "id": "7dd96ccd-37fa-4446-b90f-7913e0f388b7"
      },
      "source": [
        "Пример применения формулы Байеса\n",
        "Допустим, в некоторой контрольной группе из 10000 человек в среднем 1 имеет приобретенный иммунодефицит. Пациент сдает тест, достоверность которого составляет 99%. Допустим, пришел положительный результат теста. Можно задать вопрос: стоит ли паниковать? Другими словами: с каким уровнем доверия имеет место гипотеза “у пациента ВИЧ”?\n",
        "\n",
        "Ответ на этот вопрос может дать формула Байеса. До того, как пациент узнал результаты анализов, априорная вероятность заболевания у него составляла 1/10000. Однако положительный тест вносит поправку в достоверность гипотезы о заболевании. \n",
        "\n",
        "В наших обозначениях H= \"пациент болен ВИЧ\", A= \"пришел положительный тест\". Мы должны вычислить уровень достоверности гипотезы H при условии A. Итак, априорная вероятность есть P(H)=1/10000; достоверность теста есть P(A|H)=0,99.  Положительный тест может прийти как в случае, если пациент действительно болен (за это отвечает первое слагаемое в знаменателе, P(A|H)⋅P(H)=0,99⋅0,0001), так и в случае, если тест оказался ложно-положительным (второе слагаемое, P(A|H¯)⋅(1−P(H))=0,01−0,9999). Применяя формулу Байеса, найдем апостериорную вероятность инфекции:"
      ]
    },
    {
      "cell_type": "code",
      "execution_count": null,
      "id": "0fbc9e49-c5ce-48ca-a9fb-3634996ae3e2",
      "metadata": {
        "id": "0fbc9e49-c5ce-48ca-a9fb-3634996ae3e2"
      },
      "outputs": [],
      "source": [
        "p_A_if_H = 0.99\n",
        "p_H = 1. / 10000\n",
        "p_A_if_NOT_H = 1 - p_A_if_H\n",
        "p_NOT_H = 1 - p_H"
      ]
    },
    {
      "cell_type": "code",
      "execution_count": null,
      "id": "88772f4e-17f9-4431-a5ab-90df01ae76fa",
      "metadata": {
        "id": "88772f4e-17f9-4431-a5ab-90df01ae76fa",
        "outputId": "bdc45128-828b-43c6-d6ef-56c661fa67e9"
      },
      "outputs": [
        {
          "data": {
            "text/plain": [
              "0.009803921568627442"
            ]
          },
          "execution_count": 38,
          "metadata": {},
          "output_type": "execute_result"
        }
      ],
      "source": [
        "p_H_if_A = p_A_if_H * p_H / (p_A_if_H * p_H + p_A_if_NOT_H * (p_NOT_H))\n",
        "p_H_if_A"
      ]
    },
    {
      "cell_type": "markdown",
      "source": [
        "## Вопрос 3 (Студ группа)"
      ],
      "metadata": {
        "id": "WTEO02eOyzb_"
      },
      "id": "WTEO02eOyzb_"
    },
    {
      "cell_type": "markdown",
      "id": "0375c803-3aea-41d1-9584-d7fc49c1f9ff",
      "metadata": {
        "id": "0375c803-3aea-41d1-9584-d7fc49c1f9ff"
      },
      "source": [
        "В студенческой группе 10 девушек и 15 юношей. На конференцию выбирают 5 делегатов. Найдите вероятность того, что в числе делегатов окажется хотя бы один юноша. Ответ округлите до тысячных."
      ]
    },
    {
      "cell_type": "code",
      "execution_count": null,
      "id": "8078eb11-270f-4c28-8ab1-8918ffe8cfab",
      "metadata": {
        "id": "8078eb11-270f-4c28-8ab1-8918ffe8cfab"
      },
      "outputs": [],
      "source": [
        "from math import factorial as fac"
      ]
    },
    {
      "cell_type": "code",
      "execution_count": null,
      "id": "f54c24d1-9101-4b70-a1b8-e8269fbc0d08",
      "metadata": {
        "id": "f54c24d1-9101-4b70-a1b8-e8269fbc0d08",
        "outputId": "039c65d6-ab74-4fd4-962b-743cd13017b7"
      },
      "outputs": [
        {
          "data": {
            "text/plain": [
              "0.9952569169960476"
            ]
          },
          "execution_count": 62,
          "metadata": {},
          "output_type": "execute_result"
        }
      ],
      "source": [
        "c_1_15 = fac(15) / (fac(1) * fac(14))\n",
        "c_2_15 = fac(15) / (fac(2) * fac(13))\n",
        "c_3_15 = fac(15) / (fac(3) * fac(12))\n",
        "c_4_15 = fac(15) / (fac(4) * fac(11))\n",
        "c_5_15 = fac(15) / (fac(5) * fac(10))\n",
        "\n",
        "c_4_10 = fac(10) / (fac(4) * fac(6))\n",
        "c_3_10 = fac(10) / (fac(3) * fac(7))\n",
        "c_2_10 = fac(10) / (fac(2) * fac(8))\n",
        "c_1_10 = fac(10) / (fac(1) * fac(9))\n",
        "\n",
        "c_5_25 = fac(25) / (fac(5) * fac(20))\n",
        "\n",
        "p1 = c_1_15 * c_4_10 / c_5_25\n",
        "p2 = c_2_15 * c_3_10 / c_5_25\n",
        "p3 = c_3_15 * c_2_10 / c_5_25\n",
        "p4 = c_4_15 * c_1_10 / c_5_25\n",
        "p5 = c_5_15 / c_5_25\n",
        "p = sum([p1, p2, p3, p4, p5])\n",
        "p"
      ]
    },
    {
      "cell_type": "markdown",
      "source": [
        "## Вопрос 4 (пирамидка с винтовками)"
      ],
      "metadata": {
        "id": "k4XG9blWy-Vl"
      },
      "id": "k4XG9blWy-Vl"
    },
    {
      "cell_type": "markdown",
      "source": [
        "В пирамидке стоят 5 винтовок, 3 из которых снабжены оптическим прицелом. Вероятность того, что стрелок поразит мишень при выстреле из винтовки с оптическим прицелом, равна 0,9; для винтовки без оптического прицела эта вероятность равна 0,6. Найдите вероятность того, что мишень будет поражена, если стрелок произведет выстрел из наудачу взятой винтовки."
      ],
      "metadata": {
        "id": "zXf7vYJGyYqR"
      },
      "id": "zXf7vYJGyYqR"
    },
    {
      "cell_type": "code",
      "source": [
        "ruf_num = 2\n",
        "opt_ruf_num = 3\n",
        "p_ruf = 0.6\n",
        "p_opt_ruf = 0.9"
      ],
      "metadata": {
        "id": "RKcLT8bxyZUg"
      },
      "id": "RKcLT8bxyZUg",
      "execution_count": null,
      "outputs": []
    },
    {
      "cell_type": "code",
      "source": [
        "all_ruf_num = ruf_num + opt_ruf_num\n",
        "p = p_opt_ruf * opt_ruf_num / all_ruf_num + p_ruf * ruf_num / all_ruf_num\n",
        "p"
      ],
      "metadata": {
        "id": "dtQwY2DR0QNU",
        "outputId": "08c186ee-d7ce-4817-9400-7f2a378022ec",
        "colab": {
          "base_uri": "https://localhost:8080/"
        }
      },
      "id": "dtQwY2DR0QNU",
      "execution_count": null,
      "outputs": [
        {
          "output_type": "execute_result",
          "data": {
            "text/plain": [
              "0.78"
            ]
          },
          "metadata": {},
          "execution_count": 4
        }
      ]
    },
    {
      "cell_type": "markdown",
      "source": [
        "## Вопрос 5 (про случайно встреченных блондинов)"
      ],
      "metadata": {
        "id": "eqz0MhV41Idk"
      },
      "id": "eqz0MhV41Idk"
    },
    {
      "cell_type": "markdown",
      "source": [
        "Случайно встреченное лицо с вероятностью 0,3 может оказаться блондином. Найдите вероятность того, что среди пяти случайно встреченных лиц будет не менее четырех блондинов. Ответ округлите до сотых."
      ],
      "metadata": {
        "id": "-QP5cvSr1SuB"
      },
      "id": "-QP5cvSr1SuB"
    },
    {
      "cell_type": "code",
      "source": [
        "p1 = 0.3 # встречен блондин\n",
        "p2 = 1 - p1 # встречен не блондин\n",
        "p = 5 * ((p1**4)*p2) + p1**5\n",
        "p"
      ],
      "metadata": {
        "id": "qR2vfkG11Tly",
        "outputId": "4a5ff0b9-b534-4ebf-b91c-0ab2dd690743",
        "colab": {
          "base_uri": "https://localhost:8080/"
        }
      },
      "id": "qR2vfkG11Tly",
      "execution_count": null,
      "outputs": [
        {
          "output_type": "execute_result",
          "data": {
            "text/plain": [
              "0.03078"
            ]
          },
          "metadata": {},
          "execution_count": 17
        }
      ]
    },
    {
      "cell_type": "markdown",
      "source": [
        "## Вопрос 6 (спартакиада)"
      ],
      "metadata": {
        "id": "wBTe6pLayfyA"
      },
      "id": "wBTe6pLayfyA"
    },
    {
      "cell_type": "markdown",
      "id": "ebb27c10-4ec7-44fc-8269-59f15809719f",
      "metadata": {
        "id": "ebb27c10-4ec7-44fc-8269-59f15809719f"
      },
      "source": [
        "В спартакиаде участвуют из первой группы 4 студента, из второй – 6, из третьей – 5. Студент из первой группы попадает в сборную института с вероятность 0,9, второй – 0,7, третьей – 0,8. Наудачу выбранный студент попал в сборную. Какова вероятность того, что это студент из второй группы? Ответ округлите до тысячных."
      ]
    },
    {
      "cell_type": "markdown",
      "id": "ef62cd9c-9eb8-4279-adf7-e6e8a0fa00c0",
      "metadata": {
        "id": "ef62cd9c-9eb8-4279-adf7-e6e8a0fa00c0"
      },
      "source": [
        "событие А – 'студент в итоге соревнования попал в сборную.''\n",
        "\n",
        "гипотезу H1 – ''студент из первой группы''\n",
        "\n",
        "гипотезу H2 – ''студент из второй группы''\n",
        "\n",
        "гипотезу H3 – ''студент из третьей группы''\n",
        "\n",
        "k1, k2, k3 - число студентов в соответствующей группе"
      ]
    },
    {
      "cell_type": "code",
      "execution_count": null,
      "id": "be86b28e-690a-4ab9-9779-959417d6f4de",
      "metadata": {
        "id": "be86b28e-690a-4ab9-9779-959417d6f4de"
      },
      "outputs": [],
      "source": [
        "k1, k2, k3 = 4, 6, 5\n",
        "p_A_H1, p_A_H2, p_A_H3 = 0.9, 0.7, 0.8\n",
        "k_all = sum([k1, k2, k3])"
      ]
    },
    {
      "cell_type": "code",
      "execution_count": null,
      "id": "bb1f4585-9bbe-4dd8-8937-df2d163078b5",
      "metadata": {
        "id": "bb1f4585-9bbe-4dd8-8937-df2d163078b5",
        "outputId": "10064f8c-cc03-417a-acd7-9064ec374cdf"
      },
      "outputs": [
        {
          "data": {
            "text/plain": [
              "(0.3050847457627119, 0.3559322033898305, 0.33898305084745767)"
            ]
          },
          "execution_count": 46,
          "metadata": {},
          "output_type": "execute_result"
        }
      ],
      "source": [
        "p_H1 = k1 / k_all\n",
        "p_H2 = k2 / k_all\n",
        "p_H3 = k3 / k_all\n",
        "\n",
        "p_A = p_H1*p_A_H1 + p_H2*p_A_H2 + p_H3*p_A_H3\n",
        "\n",
        "p_H1_A = p_H1 * p_A_H1 / p_A\n",
        "p_H2_A = p_H2 * p_A_H2 / p_A\n",
        "p_H3_A = p_H3 * p_A_H3 / p_A\n",
        "\n",
        "(p_H1_A, p_H2_A, p_H3_A)"
      ]
    },
    {
      "cell_type": "markdown",
      "source": [
        "## Вопрос 18 (Сортировка)"
      ],
      "metadata": {
        "id": "NinewDKy2DOB"
      },
      "id": "NinewDKy2DOB"
    },
    {
      "cell_type": "markdown",
      "source": [
        "Китайский фермер Мат Рос Кин встроил в каждую корову на ферме по видеокарте RX1080 и решил майнить криптовалюту \"байтугрики\". По прошествии месяца для каждой коровы Мат Рос Кин определил доходность каждой коровы в байтугриках вещественное число, по модулю не превышающее 3⋅104. Так как питаться чем-то всё равно надо, Мат Рос Кин решил отсортировать коров по возрастанию доходности (и тем самым сформировать очередь на мясо). Но так как все вычислительные ресурсы ушли на майнинг, Мат Рос Кин просит вас составить этот список.\n",
        "\n",
        "Входные данные\n",
        "Первая строка входа содержит одно целое число N(0≤N≤1000)- количество коров.\n",
        "\n",
        "Вторая строка содержит N чисел с плавающей точкой, по модулю не превышающих 3⋅104 - доходность каждой коровы в байтугриках.\n",
        "\n",
        "\n",
        "Выходные данные\n",
        "\n",
        "Выведите список, отсортированный по возрастанию доходности. Числа в списке не должны отличаться от исходных данных более, чем на 10−6.\n",
        "\n"
      ],
      "metadata": {
        "id": "4oMcGhOc2DmA"
      },
      "id": "4oMcGhOc2DmA"
    },
    {
      "cell_type": "code",
      "source": [
        "n = int(input())\n",
        "profit = [float(x) for x in str.split(input(), sep=' ')]\n",
        "profit_sorted = sorted(profit)\n",
        "for i in profit_sorted:\n",
        "    print(i, end=' ')"
      ],
      "metadata": {
        "colab": {
          "base_uri": "https://localhost:8080/"
        },
        "id": "-1WUiapa2JeP",
        "outputId": "315d204c-e5de-4b50-ee7a-e49e8777f2e0"
      },
      "id": "-1WUiapa2JeP",
      "execution_count": 70,
      "outputs": [
        {
          "output_type": "stream",
          "name": "stdout",
          "text": [
            "5\n",
            "2.3 17.7 17.8 -4.12 35.0\n",
            "-4.12 2.3 17.7 17.8 35.0 "
          ]
        }
      ]
    },
    {
      "cell_type": "markdown",
      "source": [
        "## Вопрос 19 (n-тый член последовательности)"
      ],
      "metadata": {
        "id": "lCihJ4hLL4cD"
      },
      "id": "lCihJ4hLL4cD"
    },
    {
      "cell_type": "markdown",
      "source": [
        "n -тый член последовательности задан как F(n)=F(n−1)+F(n−2)+F(n−3),F(0)=F(1)=F(2)=1. Найти n-тый член последовательности.\n",
        "\n",
        "\n",
        "**Входные данные**\n",
        "\n",
        "Натуральное число 0<n≤30.\n",
        "\n",
        "Выходные данные\n",
        "\n",
        "n-тый член последовательности."
      ],
      "metadata": {
        "id": "-83z_RVOMARR"
      },
      "id": "-83z_RVOMARR"
    },
    {
      "cell_type": "code",
      "source": [
        "n = int(input())\n",
        "fib1 = fib2 = fib3 = 1\n",
        " \n",
        "for i in range(3, n+1):\n",
        "    fib1, fib2, fib3 = fib2, fib3, fib1 + fib2 + fib3\n",
        "print(fib3)"
      ],
      "metadata": {
        "colab": {
          "base_uri": "https://localhost:8080/"
        },
        "id": "RYQX0ThIfbgt",
        "outputId": "763ed83b-1966-42f5-ac8b-eef7eed06905"
      },
      "id": "RYQX0ThIfbgt",
      "execution_count": 41,
      "outputs": [
        {
          "output_type": "stream",
          "name": "stdout",
          "text": [
            "6\n",
            "17\n"
          ]
        }
      ]
    },
    {
      "cell_type": "markdown",
      "source": [
        "## Вопрос 17 (Квадратный стенд)"
      ],
      "metadata": {
        "id": "Kj3d37sDI3E-"
      },
      "id": "Kj3d37sDI3E-"
    },
    {
      "cell_type": "markdown",
      "source": [
        "Перебирая свои школьные архивы, Елпидифор вспомнил, что его школьные годы прошли плодотворно и он получил очень много грамот за примерное поведение, успехи в рисовании, математические олимпиады - и ещё много за что.\n",
        "\n",
        "Оказалось, что все грамоты имеют один и тот же размер W⋅H и текст на всех из них располагается в одной и той же ориентации. Память есть память, и ему захотелось, чтобы все эти грамоты были на виду. У него имеется возможность заказать квадратный стенд в лаборатории прототипирования «Сириуса», где работает его одноклассник. Фабрика имеет возможность изготавливать такие стенды с любой стороной квадрата, лишь бы она могла быть выражена целым числом. Так как цена заказа зависит от размера стенда, хотелось бы заплатить сумму поменьше.\n",
        "\n",
        "\n",
        "\n",
        "Входные данные\n",
        "\n",
        "Входные данные содержат три числа: 1⩽W,H,N⩽109.\n",
        "\n",
        "\n",
        "Выходные данные \n",
        "\n",
        "Одно целое число — минимальная сторона квадратного стенда, на котором могут разместиться все грамоты. Грамоты могут касаться сторонами, но не пересекаться."
      ],
      "metadata": {
        "id": "WHTNuD19I_JV"
      },
      "id": "WHTNuD19I_JV"
    },
    {
      "cell_type": "code",
      "source": [
        "import math\n",
        "w, h, num = [int(x) for x in str.split(input(), sep=' ')]\n",
        "stand_w_all = []\n",
        "s = w * h * num\n",
        "for n in range(1, num+1):\n",
        "    stand_w_all.append(max(w * n, math.ceil(s / (w * n))))\n",
        "    print(w * n, math.ceil(s / (w * n)))\n",
        "    stand_w_all.append(max(h * n, math.ceil(s / (h * n))))\n",
        "print(min(stand_w_all))\n",
        "print(stand_w_all)"
      ],
      "metadata": {
        "colab": {
          "base_uri": "https://localhost:8080/"
        },
        "id": "NAGtcKLcI8hC",
        "outputId": "14b23274-3ca0-405c-dbb1-41da71648bae"
      },
      "id": "NAGtcKLcI8hC",
      "execution_count": 97,
      "outputs": [
        {
          "output_type": "stream",
          "name": "stdout",
          "text": [
            "2 6 15\n",
            "2 90\n",
            "4 45\n",
            "6 30\n",
            "8 23\n",
            "10 18\n",
            "12 15\n",
            "14 13\n",
            "16 12\n",
            "18 10\n",
            "20 9\n",
            "22 9\n",
            "24 8\n",
            "26 7\n",
            "28 7\n",
            "30 6\n",
            "14\n",
            "[90, 30, 45, 15, 30, 18, 23, 24, 18, 30, 15, 36, 14, 42, 16, 48, 18, 54, 20, 60, 22, 66, 24, 72, 26, 78, 28, 84, 30, 90]\n"
          ]
        }
      ]
    },
    {
      "cell_type": "code",
      "source": [
        "import math\n",
        "w, h, num = [int(x) for x in str.split(input(), sep=' ')]\n",
        "stand_w_all = []\n",
        "s = w * h * num\n",
        "for n in range(1, num+1):\n",
        "    stand_w_all.append(max(w * n, math.ceil(num / n) * h))\n",
        "    stand_w_all.append(max(h * n, math.ceil(num / n) * w))\n",
        "print(min(stand_w_all))"
      ],
      "metadata": {
        "outputId": "f8333df8-66a6-4b75-a625-4e6159ada555",
        "colab": {
          "base_uri": "https://localhost:8080/",
          "height": 235
        },
        "id": "cNOFUcnidBLW"
      },
      "execution_count": 103,
      "outputs": [
        {
          "name": "stdout",
          "output_type": "stream",
          "text": [
            "126576 1984212 88812374\n"
          ]
        },
        {
          "output_type": "error",
          "ename": "KeyboardInterrupt",
          "evalue": "ignored",
          "traceback": [
            "\u001b[0;31m---------------------------------------------------------------------------\u001b[0m",
            "\u001b[0;31mKeyboardInterrupt\u001b[0m                         Traceback (most recent call last)",
            "\u001b[0;32m<ipython-input-103-19876f9aa35b>\u001b[0m in \u001b[0;36m<module>\u001b[0;34m()\u001b[0m\n\u001b[1;32m      5\u001b[0m \u001b[0;32mfor\u001b[0m \u001b[0mn\u001b[0m \u001b[0;32min\u001b[0m \u001b[0mrange\u001b[0m\u001b[0;34m(\u001b[0m\u001b[0;36m1\u001b[0m\u001b[0;34m,\u001b[0m \u001b[0mnum\u001b[0m\u001b[0;34m+\u001b[0m\u001b[0;36m1\u001b[0m\u001b[0;34m)\u001b[0m\u001b[0;34m:\u001b[0m\u001b[0;34m\u001b[0m\u001b[0;34m\u001b[0m\u001b[0m\n\u001b[1;32m      6\u001b[0m     \u001b[0mstand_w_all\u001b[0m\u001b[0;34m.\u001b[0m\u001b[0mappend\u001b[0m\u001b[0;34m(\u001b[0m\u001b[0mmax\u001b[0m\u001b[0;34m(\u001b[0m\u001b[0mw\u001b[0m \u001b[0;34m*\u001b[0m \u001b[0mn\u001b[0m\u001b[0;34m,\u001b[0m \u001b[0mmath\u001b[0m\u001b[0;34m.\u001b[0m\u001b[0mceil\u001b[0m\u001b[0;34m(\u001b[0m\u001b[0mnum\u001b[0m \u001b[0;34m/\u001b[0m \u001b[0mn\u001b[0m\u001b[0;34m)\u001b[0m \u001b[0;34m*\u001b[0m \u001b[0mh\u001b[0m\u001b[0;34m)\u001b[0m\u001b[0;34m)\u001b[0m\u001b[0;34m\u001b[0m\u001b[0;34m\u001b[0m\u001b[0m\n\u001b[0;32m----> 7\u001b[0;31m     \u001b[0mstand_w_all\u001b[0m\u001b[0;34m.\u001b[0m\u001b[0mappend\u001b[0m\u001b[0;34m(\u001b[0m\u001b[0mmax\u001b[0m\u001b[0;34m(\u001b[0m\u001b[0mh\u001b[0m \u001b[0;34m*\u001b[0m \u001b[0mn\u001b[0m\u001b[0;34m,\u001b[0m \u001b[0mmath\u001b[0m\u001b[0;34m.\u001b[0m\u001b[0mceil\u001b[0m\u001b[0;34m(\u001b[0m\u001b[0mnum\u001b[0m \u001b[0;34m/\u001b[0m \u001b[0mn\u001b[0m\u001b[0;34m)\u001b[0m \u001b[0;34m*\u001b[0m \u001b[0mw\u001b[0m\u001b[0;34m)\u001b[0m\u001b[0;34m)\u001b[0m\u001b[0;34m\u001b[0m\u001b[0;34m\u001b[0m\u001b[0m\n\u001b[0m\u001b[1;32m      8\u001b[0m \u001b[0mprint\u001b[0m\u001b[0;34m(\u001b[0m\u001b[0mmin\u001b[0m\u001b[0;34m(\u001b[0m\u001b[0mstand_w_all\u001b[0m\u001b[0;34m)\u001b[0m\u001b[0;34m)\u001b[0m\u001b[0;34m\u001b[0m\u001b[0;34m\u001b[0m\u001b[0m\n",
            "\u001b[0;31mKeyboardInterrupt\u001b[0m: "
          ]
        }
      ],
      "id": "cNOFUcnidBLW"
    }
  ],
  "metadata": {
    "kernelspec": {
      "display_name": "Python 3 (ipykernel)",
      "language": "python",
      "name": "python3"
    },
    "language_info": {
      "codemirror_mode": {
        "name": "ipython",
        "version": 3
      },
      "file_extension": ".py",
      "mimetype": "text/x-python",
      "name": "python",
      "nbconvert_exporter": "python",
      "pygments_lexer": "ipython3",
      "version": "3.9.12"
    },
    "colab": {
      "name": "services.ipynb",
      "provenance": [],
      "include_colab_link": true
    }
  },
  "nbformat": 4,
  "nbformat_minor": 5
}