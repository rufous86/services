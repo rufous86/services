{
  "cells": [
    {
      "cell_type": "markdown",
      "id": "4839acf6-c527-44c0-8734-dbe89ac92c2a",
      "metadata": {
        "heading_collapsed": true,
        "id": "4839acf6-c527-44c0-8734-dbe89ac92c2a"
      },
      "source": [
        "## Формула Байеса"
      ]
    },
    {
      "cell_type": "markdown",
      "id": "7dd96ccd-37fa-4446-b90f-7913e0f388b7",
      "metadata": {
        "hidden": true,
        "id": "7dd96ccd-37fa-4446-b90f-7913e0f388b7"
      },
      "source": [
        "Пример применения формулы Байеса\n",
        "Допустим, в некоторой контрольной группе из 10000 человек в среднем 1 имеет приобретенный иммунодефицит. Пациент сдает тест, достоверность которого составляет 99%. Допустим, пришел положительный результат теста. Можно задать вопрос: стоит ли паниковать? Другими словами: с каким уровнем доверия имеет место гипотеза “у пациента ВИЧ”?\n",
        "\n",
        "Ответ на этот вопрос может дать формула Байеса. До того, как пациент узнал результаты анализов, априорная вероятность заболевания у него составляла 1/10000. Однако положительный тест вносит поправку в достоверность гипотезы о заболевании. \n",
        "\n",
        "В наших обозначениях H= \"пациент болен ВИЧ\", A= \"пришел положительный тест\". Мы должны вычислить уровень достоверности гипотезы H при условии A. Итак, априорная вероятность есть P(H)=1/10000; достоверность теста есть P(A|H)=0,99.  Положительный тест может прийти как в случае, если пациент действительно болен (за это отвечает первое слагаемое в знаменателе, P(A|H)⋅P(H)=0,99⋅0,0001), так и в случае, если тест оказался ложно-положительным (второе слагаемое, P(A|H¯)⋅(1−P(H))=0,01−0,9999). Применяя формулу Байеса, найдем апостериорную вероятность инфекции:"
      ]
    },
    {
      "cell_type": "code",
      "execution_count": null,
      "id": "0fbc9e49-c5ce-48ca-a9fb-3634996ae3e2",
      "metadata": {
        "hidden": true,
        "id": "0fbc9e49-c5ce-48ca-a9fb-3634996ae3e2"
      },
      "outputs": [],
      "source": [
        "p_A_if_H = 0.99\n",
        "p_H = 1. / 10000\n",
        "p_A_if_NOT_H = 1 - p_A_if_H\n",
        "p_NOT_H = 1 - p_H"
      ]
    },
    {
      "cell_type": "code",
      "execution_count": null,
      "id": "88772f4e-17f9-4431-a5ab-90df01ae76fa",
      "metadata": {
        "hidden": true,
        "id": "88772f4e-17f9-4431-a5ab-90df01ae76fa",
        "outputId": "bdc45128-828b-43c6-d6ef-56c661fa67e9"
      },
      "outputs": [
        {
          "data": {
            "text/plain": [
              "0.009803921568627442"
            ]
          },
          "execution_count": 38,
          "metadata": {},
          "output_type": "execute_result"
        }
      ],
      "source": [
        "p_H_if_A = p_A_if_H * p_H / (p_A_if_H * p_H + p_A_if_NOT_H * (p_NOT_H))\n",
        "p_H_if_A"
      ]
    },
    {
      "cell_type": "markdown",
      "id": "WTEO02eOyzb_",
      "metadata": {
        "heading_collapsed": true,
        "id": "WTEO02eOyzb_"
      },
      "source": [
        "## Вопрос 3 (Студ группа)"
      ]
    },
    {
      "cell_type": "markdown",
      "id": "0375c803-3aea-41d1-9584-d7fc49c1f9ff",
      "metadata": {
        "hidden": true,
        "id": "0375c803-3aea-41d1-9584-d7fc49c1f9ff"
      },
      "source": [
        "В студенческой группе 10 девушек и 15 юношей. На конференцию выбирают 5 делегатов. Найдите вероятность того, что в числе делегатов окажется хотя бы один юноша. Ответ округлите до тысячных."
      ]
    },
    {
      "cell_type": "code",
      "execution_count": null,
      "id": "8078eb11-270f-4c28-8ab1-8918ffe8cfab",
      "metadata": {
        "hidden": true,
        "id": "8078eb11-270f-4c28-8ab1-8918ffe8cfab"
      },
      "outputs": [],
      "source": [
        "from math import factorial as fac"
      ]
    },
    {
      "cell_type": "code",
      "execution_count": null,
      "id": "f54c24d1-9101-4b70-a1b8-e8269fbc0d08",
      "metadata": {
        "hidden": true,
        "id": "f54c24d1-9101-4b70-a1b8-e8269fbc0d08",
        "outputId": "039c65d6-ab74-4fd4-962b-743cd13017b7"
      },
      "outputs": [
        {
          "data": {
            "text/plain": [
              "0.9952569169960476"
            ]
          },
          "execution_count": 62,
          "metadata": {},
          "output_type": "execute_result"
        }
      ],
      "source": [
        "c_1_15 = fac(15) / (fac(1) * fac(14))\n",
        "c_2_15 = fac(15) / (fac(2) * fac(13))\n",
        "c_3_15 = fac(15) / (fac(3) * fac(12))\n",
        "c_4_15 = fac(15) / (fac(4) * fac(11))\n",
        "c_5_15 = fac(15) / (fac(5) * fac(10))\n",
        "\n",
        "c_4_10 = fac(10) / (fac(4) * fac(6))\n",
        "c_3_10 = fac(10) / (fac(3) * fac(7))\n",
        "c_2_10 = fac(10) / (fac(2) * fac(8))\n",
        "c_1_10 = fac(10) / (fac(1) * fac(9))\n",
        "\n",
        "c_5_25 = fac(25) / (fac(5) * fac(20))\n",
        "\n",
        "p1 = c_1_15 * c_4_10 / c_5_25\n",
        "p2 = c_2_15 * c_3_10 / c_5_25\n",
        "p3 = c_3_15 * c_2_10 / c_5_25\n",
        "p4 = c_4_15 * c_1_10 / c_5_25\n",
        "p5 = c_5_15 / c_5_25\n",
        "p = sum([p1, p2, p3, p4, p5])\n",
        "p"
      ]
    },
    {
      "cell_type": "markdown",
      "id": "k4XG9blWy-Vl",
      "metadata": {
        "heading_collapsed": true,
        "id": "k4XG9blWy-Vl"
      },
      "source": [
        "## Вопрос 4 (пирамидка с винтовками)"
      ]
    },
    {
      "cell_type": "markdown",
      "id": "zXf7vYJGyYqR",
      "metadata": {
        "hidden": true,
        "id": "zXf7vYJGyYqR"
      },
      "source": [
        "В пирамидке стоят 5 винтовок, 3 из которых снабжены оптическим прицелом. Вероятность того, что стрелок поразит мишень при выстреле из винтовки с оптическим прицелом, равна 0,9; для винтовки без оптического прицела эта вероятность равна 0,6. Найдите вероятность того, что мишень будет поражена, если стрелок произведет выстрел из наудачу взятой винтовки."
      ]
    },
    {
      "cell_type": "code",
      "execution_count": null,
      "id": "RKcLT8bxyZUg",
      "metadata": {
        "hidden": true,
        "id": "RKcLT8bxyZUg"
      },
      "outputs": [],
      "source": [
        "ruf_num = 2\n",
        "opt_ruf_num = 3\n",
        "p_ruf = 0.6\n",
        "p_opt_ruf = 0.9"
      ]
    },
    {
      "cell_type": "code",
      "execution_count": null,
      "id": "dtQwY2DR0QNU",
      "metadata": {
        "colab": {
          "base_uri": "https://localhost:8080/"
        },
        "hidden": true,
        "id": "dtQwY2DR0QNU",
        "outputId": "08c186ee-d7ce-4817-9400-7f2a378022ec"
      },
      "outputs": [
        {
          "data": {
            "text/plain": [
              "0.78"
            ]
          },
          "execution_count": 4,
          "metadata": {},
          "output_type": "execute_result"
        }
      ],
      "source": [
        "all_ruf_num = ruf_num + opt_ruf_num\n",
        "p = p_opt_ruf * opt_ruf_num / all_ruf_num + p_ruf * ruf_num / all_ruf_num\n",
        "p"
      ]
    },
    {
      "cell_type": "markdown",
      "id": "tlZL4MmCUh6E",
      "metadata": {
        "hidden": true,
        "id": "tlZL4MmCUh6E"
      },
      "source": [
        ""
      ]
    },
    {
      "cell_type": "markdown",
      "id": "eqz0MhV41Idk",
      "metadata": {
        "heading_collapsed": true,
        "id": "eqz0MhV41Idk"
      },
      "source": [
        "## Вопрос 5 (про случайно встреченных блондинов)"
      ]
    },
    {
      "cell_type": "markdown",
      "id": "-QP5cvSr1SuB",
      "metadata": {
        "hidden": true,
        "id": "-QP5cvSr1SuB"
      },
      "source": [
        "Случайно встреченное лицо с вероятностью 0,3 может оказаться блондином. Найдите вероятность того, что среди пяти случайно встреченных лиц будет не менее четырех блондинов. Ответ округлите до сотых."
      ]
    },
    {
      "cell_type": "code",
      "execution_count": null,
      "id": "qR2vfkG11Tly",
      "metadata": {
        "colab": {
          "base_uri": "https://localhost:8080/"
        },
        "hidden": true,
        "id": "qR2vfkG11Tly",
        "outputId": "4a5ff0b9-b534-4ebf-b91c-0ab2dd690743"
      },
      "outputs": [
        {
          "data": {
            "text/plain": [
              "0.03078"
            ]
          },
          "execution_count": 17,
          "metadata": {},
          "output_type": "execute_result"
        }
      ],
      "source": [
        "p1 = 0.3 # встречен блондин\n",
        "p2 = 1 - p1 # встречен не блондин\n",
        "p = 5 * ((p1**4)*p2) + p1**5\n",
        "p"
      ]
    },
    {
      "cell_type": "markdown",
      "id": "wBTe6pLayfyA",
      "metadata": {
        "heading_collapsed": true,
        "id": "wBTe6pLayfyA"
      },
      "source": [
        "## Вопрос 6 (спартакиада)"
      ]
    },
    {
      "cell_type": "markdown",
      "id": "ebb27c10-4ec7-44fc-8269-59f15809719f",
      "metadata": {
        "hidden": true,
        "id": "ebb27c10-4ec7-44fc-8269-59f15809719f"
      },
      "source": [
        "В спартакиаде участвуют из первой группы 4 студента, из второй – 6, из третьей – 5. Студент из первой группы попадает в сборную института с вероятность 0,9, второй – 0,7, третьей – 0,8. Наудачу выбранный студент попал в сборную. Какова вероятность того, что это студент из второй группы? Ответ округлите до тысячных."
      ]
    },
    {
      "cell_type": "markdown",
      "id": "ef62cd9c-9eb8-4279-adf7-e6e8a0fa00c0",
      "metadata": {
        "hidden": true,
        "id": "ef62cd9c-9eb8-4279-adf7-e6e8a0fa00c0"
      },
      "source": [
        "событие А – 'студент в итоге соревнования попал в сборную.''\n",
        "\n",
        "гипотезу H1 – ''студент из первой группы''\n",
        "\n",
        "гипотезу H2 – ''студент из второй группы''\n",
        "\n",
        "гипотезу H3 – ''студент из третьей группы''\n",
        "\n",
        "k1, k2, k3 - число студентов в соответствующей группе"
      ]
    },
    {
      "cell_type": "code",
      "execution_count": null,
      "id": "be86b28e-690a-4ab9-9779-959417d6f4de",
      "metadata": {
        "hidden": true,
        "id": "be86b28e-690a-4ab9-9779-959417d6f4de"
      },
      "outputs": [],
      "source": [
        "k1, k2, k3 = 4, 6, 5\n",
        "p_A_H1, p_A_H2, p_A_H3 = 0.9, 0.7, 0.8\n",
        "k_all = sum([k1, k2, k3])"
      ]
    },
    {
      "cell_type": "code",
      "execution_count": null,
      "id": "bb1f4585-9bbe-4dd8-8937-df2d163078b5",
      "metadata": {
        "hidden": true,
        "id": "bb1f4585-9bbe-4dd8-8937-df2d163078b5",
        "outputId": "10064f8c-cc03-417a-acd7-9064ec374cdf"
      },
      "outputs": [
        {
          "data": {
            "text/plain": [
              "(0.3050847457627119, 0.3559322033898305, 0.33898305084745767)"
            ]
          },
          "execution_count": 46,
          "metadata": {},
          "output_type": "execute_result"
        }
      ],
      "source": [
        "p_H1 = k1 / k_all\n",
        "p_H2 = k2 / k_all\n",
        "p_H3 = k3 / k_all\n",
        "\n",
        "p_A = p_H1*p_A_H1 + p_H2*p_A_H2 + p_H3*p_A_H3\n",
        "\n",
        "p_H1_A = p_H1 * p_A_H1 / p_A\n",
        "p_H2_A = p_H2 * p_A_H2 / p_A\n",
        "p_H3_A = p_H3 * p_A_H3 / p_A\n",
        "\n",
        "(p_H1_A, p_H2_A, p_H3_A)"
      ]
    },
    {
      "cell_type": "markdown",
      "id": "FVc0TKrcuAbM",
      "metadata": {
        "heading_collapsed": true,
        "id": "FVc0TKrcuAbM"
      },
      "source": [
        "## Вопрос 7 (неравенство Чебышева)"
      ]
    },
    {
      "cell_type": "markdown",
      "id": "9kblfllYuLEL",
      "metadata": {
        "hidden": true,
        "id": "9kblfllYuLEL"
      },
      "source": [
        "![image.png](data:image/png;base64,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)"
      ]
    },
    {
      "cell_type": "code",
      "execution_count": 5,
      "id": "LmCzS1R5uL4o",
      "metadata": {
        "colab": {
          "base_uri": "https://localhost:8080/"
        },
        "hidden": true,
        "id": "LmCzS1R5uL4o",
        "outputId": "f26caae2-421f-47e3-f243-0133845a3ed6"
      },
      "outputs": [
        {
          "output_type": "stream",
          "name": "stdout",
          "text": [
            "ksi_mean=5.0\n"
          ]
        },
        {
          "output_type": "execute_result",
          "data": {
            "text/plain": [
              "0.8333333333333334"
            ]
          },
          "metadata": {},
          "execution_count": 5
        }
      ],
      "source": [
        "import numpy as np\n",
        "\n",
        "ksi = np.array([2., 3., 6., 9.])\n",
        "p = np.array([0.1, 0.4, 0.3, 0.2])\n",
        "a = 3\n",
        "\n",
        "ksi_mean = sum(ksi * p)\n",
        "#ksi_mean = 6\n",
        "print(f'ksi_mean={ksi_mean}')\n",
        "\n",
        "D = sum((ksi - ksi_mean)**2) / len(ksi)\n",
        "D / a**2"
      ]
    },
    {
      "cell_type": "markdown",
      "id": "G_O5b3i5U3fN",
      "metadata": {
        "heading_collapsed": true,
        "id": "G_O5b3i5U3fN"
      },
      "source": [
        "## Вопрос 8 (ранг матрицы)"
      ]
    },
    {
      "cell_type": "markdown",
      "id": "cvn-4HzlU6mc",
      "metadata": {
        "hidden": true,
        "id": "cvn-4HzlU6mc"
      },
      "source": [
        "![image.png](data:image/png;base64,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)"
      ]
    },
    {
      "cell_type": "code",
      "execution_count": null,
      "id": "sWm24wOpU4Av",
      "metadata": {
        "colab": {
          "base_uri": "https://localhost:8080/"
        },
        "hidden": true,
        "id": "sWm24wOpU4Av",
        "outputId": "cda7e391-70be-41fd-8d9a-bf21792910ce"
      },
      "outputs": [
        {
          "name": "stdout",
          "output_type": "stream",
          "text": [
            "2\n"
          ]
        }
      ],
      "source": [
        "import numpy as np\n",
        "from math import sqrt\n",
        "from numpy.linalg import matrix_rank\n",
        "\n",
        "i = 1\n",
        "\n",
        "m = np.array([\n",
        "              [1 + i*sqrt(2), 1 - sqrt(2), 1],\n",
        "              [1 + i*sqrt(3), 1 - sqrt(3), 1],\n",
        "              [1 + i*sqrt(4), 1 - sqrt(4), 1],\n",
        "])\n",
        "\n",
        "rk = matrix_rank(m)\n",
        "print(rk)"
      ]
    },
    {
      "cell_type": "markdown",
      "id": "fIsTQjNbZRah",
      "metadata": {
        "heading_collapsed": true,
        "id": "fIsTQjNbZRah"
      },
      "source": [
        "## Вопрос 9 (решение линейных уравнений)"
      ]
    },
    {
      "cell_type": "markdown",
      "id": "Ol_Rlte3ZUtG",
      "metadata": {
        "hidden": true,
        "id": "Ol_Rlte3ZUtG"
      },
      "source": [
        "![image.png](data:image/png;base64,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)"
      ]
    },
    {
      "cell_type": "code",
      "execution_count": null,
      "id": "7dMYatvHYsiC",
      "metadata": {
        "colab": {
          "base_uri": "https://localhost:8080/"
        },
        "hidden": true,
        "id": "7dMYatvHYsiC",
        "outputId": "a38600fe-bc12-4d3d-bc98-dded9f4f8a8c"
      },
      "outputs": [
        {
          "name": "stdout",
          "output_type": "stream",
          "text": [
            "Исходная система:\n",
            "(\t      1.00 \t      2.00 \t      3.00 \t) * (\tX1) = (\t     -4.00)\n",
            "(\t      2.00 \t      3.00 \t      4.00 \t) * (\tX2) = (\t      1.00)\n",
            "(\t      3.00 \t      4.00 \t      5.00 \t) * (\tX3) = (\t      6.00)\n",
            "Решаем:\n",
            "Ищем максимальный по модулю элемент в 1-м столбце:\n",
            "(\t      1.00 \t      2.00 \t      3.00 \t) * (\tX1) = (\t     -4.00)\n",
            "(\t      2.00 \t      3.00 \t      4.00 \t) * (\tX2) = (\t      1.00)\n",
            "(\t      3.00*\t      4.00 \t      5.00 \t) * (\tX3) = (\t      6.00)\n",
            "Переставляем строку с найденным элементом повыше:\n",
            "(\t      3.00*\t      4.00 \t      5.00 \t) * (\tX1) = (\t      6.00)\n",
            "(\t      2.00 \t      3.00 \t      4.00 \t) * (\tX2) = (\t      1.00)\n",
            "(\t      1.00 \t      2.00 \t      3.00 \t) * (\tX3) = (\t     -4.00)\n",
            "Нормализуем строку с найденным элементом:\n",
            "(\t      1.00*\t      1.33 \t      1.67 \t) * (\tX1) = (\t      2.00)\n",
            "(\t      2.00 \t      3.00 \t      4.00 \t) * (\tX2) = (\t      1.00)\n",
            "(\t      1.00 \t      2.00 \t      3.00 \t) * (\tX3) = (\t     -4.00)\n",
            "Обрабатываем нижележащие строки:\n",
            "(\t      1.00*\t      1.33 \t      1.67 \t) * (\tX1) = (\t      2.00)\n",
            "(\t      0.00 \t      0.33 \t      0.67 \t) * (\tX2) = (\t     -3.00)\n",
            "(\t      0.00 \t      0.67 \t      1.33 \t) * (\tX3) = (\t     -6.00)\n",
            "Ищем максимальный по модулю элемент в 2-м столбце:\n",
            "(\t      1.00 \t      1.33 \t      1.67 \t) * (\tX1) = (\t      2.00)\n",
            "(\t      0.00 \t      0.33 \t      0.67 \t) * (\tX2) = (\t     -3.00)\n",
            "(\t      0.00 \t      0.67*\t      1.33 \t) * (\tX3) = (\t     -6.00)\n",
            "Переставляем строку с найденным элементом повыше:\n",
            "(\t      1.00 \t      1.33 \t      1.67 \t) * (\tX1) = (\t      2.00)\n",
            "(\t      0.00 \t      0.67*\t      1.33 \t) * (\tX2) = (\t     -6.00)\n",
            "(\t      0.00 \t      0.33 \t      0.67 \t) * (\tX3) = (\t     -3.00)\n",
            "Нормализуем строку с найденным элементом:\n",
            "(\t      1.00 \t      1.33 \t      1.67 \t) * (\tX1) = (\t      2.00)\n",
            "(\t      0.00 \t      1.00*\t      2.00 \t) * (\tX2) = (\t     -9.00)\n",
            "(\t      0.00 \t      0.33 \t      0.67 \t) * (\tX3) = (\t     -3.00)\n",
            "Обрабатываем нижележащие строки:\n",
            "(\t      1.00 \t      1.33 \t      1.67 \t) * (\tX1) = (\t      2.00)\n",
            "(\t      0.00 \t      1.00*\t      2.00 \t) * (\tX2) = (\t     -9.00)\n",
            "(\t      0.00 \t      0.00 \t     -0.00 \t) * (\tX3) = (\t      0.00)\n",
            "Ищем максимальный по модулю элемент в 3-м столбце:\n",
            "(\t      1.00 \t      1.33 \t      1.67 \t) * (\tX1) = (\t      2.00)\n",
            "(\t      0.00 \t      1.00 \t      2.00 \t) * (\tX2) = (\t     -9.00)\n",
            "(\t      0.00 \t      0.00 \t     -0.00*\t) * (\tX3) = (\t      0.00)\n",
            "Нормализуем строку с найденным элементом:\n",
            "(\t      1.00 \t      1.33 \t      1.67 \t) * (\tX1) = (\t      2.00)\n",
            "(\t      0.00 \t      1.00 \t      2.00 \t) * (\tX2) = (\t     -9.00)\n",
            "(\t     -0.00 \t     -0.00 \t      1.00*\t) * (\tX3) = (\t     -2.67)\n",
            "Обрабатываем нижележащие строки:\n",
            "(\t      1.00 \t      1.33 \t      1.67 \t) * (\tX1) = (\t      2.00)\n",
            "(\t      0.00 \t      1.00 \t      2.00 \t) * (\tX2) = (\t     -9.00)\n",
            "(\t     -0.00 \t     -0.00 \t      1.00*\t) * (\tX3) = (\t     -2.67)\n",
            "Матрица приведена к треугольному виду, считаем решение\n",
            "Получили ответ:\n",
            "X1 =\t     11.33\n",
            "X2 =\t     -3.67\n",
            "X3 =\t     -2.67\n"
          ]
        },
        {
          "data": {
            "text/plain": [
              "[11.333333333333332, -3.666666666666666, -2.6666666666666665]"
            ]
          },
          "execution_count": 9,
          "metadata": {},
          "output_type": "execute_result"
        }
      ],
      "source": [
        "# myA=[\n",
        "#  [1.0, -2.0, 3.0, -4.0],\n",
        "#  [3.0, 3.0, -5.0, -1.0],\n",
        "#  [3.0, 0.0, 3.0, -10.0],\n",
        "#  [-2.0, 1.0, 2.0, -3.0]\n",
        "# ]\n",
        "\n",
        "# myB = [\n",
        "#  2.0,\n",
        "#  -3.0,\n",
        "#  8.0,\n",
        "#  5.0]\n",
        "\n",
        "myA=[\n",
        " [1., 2., 3.],\n",
        " [2., 3., 4.],\n",
        " [3., 4., 5.]\n",
        "]\n",
        "\n",
        "myB = [\n",
        " -4.,\n",
        " 1.,\n",
        " 6.]\n",
        "# --- end of исходные данные\n",
        "\n",
        "# --- вывод системы на экран\n",
        "def FancyPrint(A, B, selected):\n",
        "    for row in range(len(B)):\n",
        "        print(\"(\", end='')\n",
        "        for col in range(len(A[row])):\n",
        "             print(\"\\t{1:10.2f}{0}\".format(\" \" if (selected is None\n",
        "or selected != (row, col)) else \"*\", A[row][col]), end='')\n",
        "        print(\"\\t) * (\\tX{0}) = (\\t{1:10.2f})\".format(row + 1, B[row]))\n",
        "# --- end of вывод системы на экран\n",
        "\n",
        "# --- перемена местами двух строк системы\n",
        "def SwapRows(A, B, row1, row2):\n",
        "    A[row1], A[row2] = A[row2], A[row1]\n",
        "    B[row1], B[row2] = B[row2], B[row1]\n",
        "# --- end of перемена местами двух строк системы\n",
        "\n",
        "# --- деление строки системы на число\n",
        "def DivideRow(A, B, row, divider):\n",
        "    A[row] = [a / divider for a in A[row]]\n",
        "    B[row] /= divider\n",
        "# --- end of деление строки системы на число\n",
        "\n",
        "# --- сложение строки системы с другой строкой, умноженной на число\n",
        "def CombineRows(A, B, row, source_row, weight):\n",
        "    A[row] = [(a + k * weight) for a, k in zip(A[row], A[source_row])]\n",
        "    B[row] += B[source_row] * weight\n",
        "# --- end of сложение строки системы с другой строкой, умноженной начисло\n",
        "\n",
        "# --- решение системы методом Гаусса (приведением к треугольному виду)\n",
        "def Gauss(A, B):\n",
        "    column = 0\n",
        "    while (column < len(B)):\n",
        "        print(\"Ищем максимальный по модулю элемент в {0}-м столбце:\".format(column + 1))\n",
        "        current_row = None\n",
        "        for r in range(column, len(A)):\n",
        "            if current_row is None or abs(A[r][column]) > abs(A[current_row][column]):\n",
        "                 current_row = r\n",
        "        if current_row is None:\n",
        "            print(\"решений нет\")\n",
        "            return None\n",
        "        FancyPrint(A, B, (current_row, column))\n",
        "        if current_row != column:\n",
        "            print(\"Переставляем строку с найденным элементом повыше:\")\n",
        "            SwapRows(A, B, current_row, column)\n",
        "            FancyPrint(A, B, (column, column))\n",
        "        print(\"Нормализуем строку с найденным элементом:\")\n",
        "        DivideRow(A, B, column, A[column][column])\n",
        "        FancyPrint(A, B, (column, column))\n",
        "        print(\"Обрабатываем нижележащие строки:\")\n",
        "        for r in range(column + 1, len(A)):\n",
        "            CombineRows(A, B, r, column, -A[r][column])\n",
        "        FancyPrint(A, B, (column, column))\n",
        "        column += 1\n",
        "    print(\"Матрица приведена к треугольному виду, считаем решение\")\n",
        "    X = [0 for b in B]\n",
        "    for i in range(len(B) - 1, -1, -1):\n",
        "        X[i] = B[i] - sum(x * a for x, a in zip(X[(i + 1):], A[i][(i + 1):]))\n",
        "    print(\"Получили ответ:\")\n",
        "    print(\"\\n\".join(\"X{0} =\\t{1:10.2f}\".format(i + 1, x) for i, x in\n",
        "enumerate(X)))\n",
        "    return X\n",
        "# --- end of решение системы методом Гаусса (приведением к треугольному виду)\n",
        "print(\"Исходная система:\")\n",
        "FancyPrint(myA, myB, None)\n",
        "print(\"Решаем:\")\n",
        "Gauss(myA, myB)"
      ]
    },
    {
      "cell_type": "markdown",
      "id": "Kj3d37sDI3E-",
      "metadata": {
        "heading_collapsed": true,
        "id": "Kj3d37sDI3E-"
      },
      "source": [
        "## Вопрос 17 (Квадратный стенд)"
      ]
    },
    {
      "cell_type": "markdown",
      "id": "WHTNuD19I_JV",
      "metadata": {
        "hidden": true,
        "id": "WHTNuD19I_JV"
      },
      "source": [
        "Перебирая свои школьные архивы, Елпидифор вспомнил, что его школьные годы прошли плодотворно и он получил очень много грамот за примерное поведение, успехи в рисовании, математические олимпиады - и ещё много за что.\n",
        "\n",
        "Оказалось, что все грамоты имеют один и тот же размер W⋅H и текст на всех из них располагается в одной и той же ориентации. Память есть память, и ему захотелось, чтобы все эти грамоты были на виду. У него имеется возможность заказать квадратный стенд в лаборатории прототипирования «Сириуса», где работает его одноклассник. Фабрика имеет возможность изготавливать такие стенды с любой стороной квадрата, лишь бы она могла быть выражена целым числом. Так как цена заказа зависит от размера стенда, хотелось бы заплатить сумму поменьше.\n",
        "\n",
        "\n",
        "\n",
        "Входные данные\n",
        "\n",
        "Входные данные содержат три числа: 1⩽W,H,N⩽109.\n",
        "\n",
        "\n",
        "Выходные данные \n",
        "\n",
        "Одно целое число — минимальная сторона квадратного стенда, на котором могут разместиться все грамоты. Грамоты могут касаться сторонами, но не пересекаться."
      ]
    },
    {
      "cell_type": "code",
      "execution_count": null,
      "id": "cNOFUcnidBLW",
      "metadata": {
        "cellView": "code",
        "hidden": true,
        "id": "cNOFUcnidBLW"
      },
      "outputs": [],
      "source": [
        "import math\n",
        "w, h, num = [int(x) for x in str.split(input(), sep=' ')]\n",
        "s_max = max(w, h)\n",
        "s_min = min(w, h)\n",
        "stand_w = w * h * num\n",
        "for n in range(1, num+1):\n",
        "    temp = max(s_max * n, math.ceil(num / n) * s_min)\n",
        "    if temp >= stand_w:\n",
        "        break\n",
        "    stand_w = temp\n",
        "print(stand_w)"
      ]
    },
    {
      "cell_type": "markdown",
      "id": "NinewDKy2DOB",
      "metadata": {
        "heading_collapsed": true,
        "id": "NinewDKy2DOB"
      },
      "source": [
        "## Вопрос 18 (Сортировка)"
      ]
    },
    {
      "cell_type": "markdown",
      "id": "4oMcGhOc2DmA",
      "metadata": {
        "hidden": true,
        "id": "4oMcGhOc2DmA"
      },
      "source": [
        "Китайский фермер Мат Рос Кин встроил в каждую корову на ферме по видеокарте RX1080 и решил майнить криптовалюту \"байтугрики\". По прошествии месяца для каждой коровы Мат Рос Кин определил доходность каждой коровы в байтугриках вещественное число, по модулю не превышающее 3⋅104. Так как питаться чем-то всё равно надо, Мат Рос Кин решил отсортировать коров по возрастанию доходности (и тем самым сформировать очередь на мясо). Но так как все вычислительные ресурсы ушли на майнинг, Мат Рос Кин просит вас составить этот список.\n",
        "\n",
        "Входные данные\n",
        "Первая строка входа содержит одно целое число N(0≤N≤1000)- количество коров.\n",
        "\n",
        "Вторая строка содержит N чисел с плавающей точкой, по модулю не превышающих 3⋅104 - доходность каждой коровы в байтугриках.\n",
        "\n",
        "\n",
        "Выходные данные\n",
        "\n",
        "Выведите список, отсортированный по возрастанию доходности. Числа в списке не должны отличаться от исходных данных более, чем на 10−6.\n",
        "\n"
      ]
    },
    {
      "cell_type": "code",
      "execution_count": null,
      "id": "-1WUiapa2JeP",
      "metadata": {
        "colab": {
          "base_uri": "https://localhost:8080/"
        },
        "hidden": true,
        "id": "-1WUiapa2JeP",
        "outputId": "315d204c-e5de-4b50-ee7a-e49e8777f2e0"
      },
      "outputs": [
        {
          "name": "stdout",
          "output_type": "stream",
          "text": [
            "5\n",
            "2.3 17.7 17.8 -4.12 35.0\n",
            "-4.12 2.3 17.7 17.8 35.0 "
          ]
        }
      ],
      "source": [
        "n = int(input())\n",
        "profit = [float(x) for x in str.split(input(), sep=' ')]\n",
        "profit_sorted = sorted(profit)\n",
        "for i in profit_sorted:\n",
        "    print(i, end=' ')"
      ]
    },
    {
      "cell_type": "markdown",
      "id": "lCihJ4hLL4cD",
      "metadata": {
        "heading_collapsed": true,
        "id": "lCihJ4hLL4cD"
      },
      "source": [
        "## Вопрос 19 (n-тый член последовательности)"
      ]
    },
    {
      "cell_type": "markdown",
      "id": "-83z_RVOMARR",
      "metadata": {
        "hidden": true,
        "id": "-83z_RVOMARR"
      },
      "source": [
        "n -тый член последовательности задан как F(n)=F(n−1)+F(n−2)+F(n−3),F(0)=F(1)=F(2)=1. Найти n-тый член последовательности.\n",
        "\n",
        "\n",
        "**Входные данные**\n",
        "\n",
        "Натуральное число 0<n≤30.\n",
        "\n",
        "Выходные данные\n",
        "\n",
        "n-тый член последовательности."
      ]
    },
    {
      "cell_type": "code",
      "execution_count": null,
      "id": "RYQX0ThIfbgt",
      "metadata": {
        "colab": {
          "base_uri": "https://localhost:8080/"
        },
        "hidden": true,
        "id": "RYQX0ThIfbgt",
        "outputId": "763ed83b-1966-42f5-ac8b-eef7eed06905"
      },
      "outputs": [
        {
          "name": "stdout",
          "output_type": "stream",
          "text": [
            "6\n",
            "17\n"
          ]
        }
      ],
      "source": [
        "n = int(input())\n",
        "fib1 = fib2 = fib3 = 1\n",
        " \n",
        "for i in range(3, n+1):\n",
        "    fib1, fib2, fib3 = fib2, fib3, fib1 + fib2 + fib3\n",
        "print(fib3)"
      ]
    },
    {
      "cell_type": "markdown",
      "id": "eVZ_cZYjDiT4",
      "metadata": {
        "heading_collapsed": true,
        "id": "eVZ_cZYjDiT4"
      },
      "source": [
        "## Вопрос 20 (Эйлеров цикл)"
      ]
    },
    {
      "cell_type": "markdown",
      "id": "pco745-nDiT4",
      "metadata": {
        "hidden": true,
        "id": "pco745-nDiT4"
      },
      "source": [
        "Мосты города Малининграда заданы в виде неориентированного связного графа, который может содержать петли и кратные рёбра и задан своей симметричной матрицей смежности. В Агентство Социальной Безопасности поступила анонимка, что террорист Эйлер планирует обойти их все и заминировать. Он не хочет подорваться на своей мине, поэтому по каждому мосту собирается проходить ровно по одному разу. Директор Агентства Глеб Жеглов хочет узнать, осуществим ли такой план и верить ли анонимке.\n",
        "\n",
        "\n",
        "Входные данные\n",
        "\n",
        "На первой строке задаётся число N(1≤N≤100)– количество вершин в графе. Следом идёт сама матрица смежности графа в виде N строк, в каждой из которых по N неотрицательных чисел. Считаем, что вершины нумеруются с 0.\n",
        "\n",
        "\n",
        "Выходные данные\n",
        "\n",
        "YES, если данный граф содержит эйлеров цикл, и NO в противном случае."
      ]
    },
    {
      "cell_type": "code",
      "execution_count": null,
      "id": "TG8G8hDgDiT5",
      "metadata": {
        "hidden": true,
        "id": "TG8G8hDgDiT5",
        "scrolled": true
      },
      "outputs": [],
      "source": [
        "import numpy as np\n",
        "\n",
        "def find_eulerian_tour(graph):\n",
        "    stack = [];\n",
        "    tour = []\n",
        " \n",
        "    stack.append(graph[0][0])\n",
        " \n",
        "    while len(stack) > 0:\n",
        "        v = stack[len(stack) - 1]\n",
        " \n",
        "        degree = get_degree(v, graph)\n",
        " \n",
        "        if degree == 0:\n",
        "            stack.pop()\n",
        "            tour.append(v)\n",
        "        else:\n",
        "            index, edge = get_edge_and_index(v, graph)\n",
        "            graph.pop(index)\n",
        "            stack.append(edge[1] if v == edge[0] else edge[0])\n",
        "    return tour\n",
        " \n",
        " \n",
        "def get_degree(v, graph):\n",
        "    degree = 0\n",
        "    for (x, y) in graph:\n",
        "        if v == x or v == y:\n",
        "            degree += 1\n",
        " \n",
        "    return degree\n",
        " \n",
        " \n",
        "def get_edge_and_index(v, graph):\n",
        "    edge = ();\n",
        "    index = -1\n",
        " \n",
        "    for i in range(len(graph)):\n",
        "        if (v == graph[i][0] or v == graph[i][1]):\n",
        "            edge, index = graph[i], i\n",
        "            break\n",
        " \n",
        "    return index, edge\n",
        "\n",
        "def get_graph(matrix):\n",
        "    g = [int(x) for x in matrix]\n",
        "    g = np.array(g).reshape(n, -1)\n",
        "\n",
        "    a, b = np.where(g != 0)\n",
        "    graph = np.concatenate((a.reshape(-1, 1), b.reshape(-1, 1)), axis=1).tolist()\n",
        "\n",
        "    return graph\n",
        "\n",
        "n = int(input())\n",
        "g = input().split()\n",
        "graph = get_graph(g)\n",
        "\n",
        "tour = find_eulerian_tour(graph)\n",
        "print('YES' if tour[0] == tour[-1] else 'NO')\n",
        "print(tour)"
      ]
    },
    {
      "cell_type": "code",
      "execution_count": null,
      "id": "gcYK9Gt0GH_j",
      "metadata": {
        "hidden": true,
        "id": "gcYK9Gt0GH_j"
      },
      "outputs": [],
      "source": [
        "import numpy as np"
      ]
    },
    {
      "cell_type": "code",
      "execution_count": null,
      "id": "iLq9t8GXFLSD",
      "metadata": {
        "colab": {
          "base_uri": "https://localhost:8080/"
        },
        "hidden": true,
        "id": "iLq9t8GXFLSD",
        "outputId": "2ad2da6f-f8cc-4a47-a054-a18af523033e"
      },
      "outputs": [
        {
          "name": "stdout",
          "output_type": "stream",
          "text": [
            "6\n",
            "0 2 0 0 1 0 2 0 1 0 1 0 0 1 0 1 0 0 0 0 1 0 1 1 1 1 0 1 0 0 0 0 0 1 0 0\n",
            "[0 0 1 1 1 2 2 3 3 3 4 4 4 5]\n",
            "[1 4 0 2 4 1 3 2 4 5 0 1 3 3]\n",
            "([[0, 1], [0, 4], [1, 0], [1, 2], [1, 4], [2, 1], [2, 3], [3, 2], [3, 4], [3, 5], [4, 0], [4, 1], [4, 3], [5, 3]], <class 'list'>)\n"
          ]
        }
      ],
      "source": [
        "n = int(input())\n",
        "g = input().split()\n",
        "graph = get_graph(g)\n",
        "\n",
        "def get_graph(matrix):\n",
        "    g = [int(x) for x in matrix]\n",
        "    g = np.array(g).reshape(n, -1)\n",
        "\n",
        "    a, b = np.where(g != 0)\n",
        "    graph = np.concatenate((a.reshape(-1, 1), b.reshape(-1, 1)), axis=1).tolist()\n",
        "\n",
        "    print(a)\n",
        "    print(b)\n",
        "\n",
        "    return graph, type(graph)\n",
        "\n",
        "print(get_graph(g))\n",
        "\n",
        "# graph = [(0, 1), (1, 5), (1, 7), (4, 5),\n",
        "# (4, 8), (1, 6), (3, 7), (5, 9),\n",
        "# (2, 4), (0, 4), (2, 5), (3, 6), (8, 9)]"
      ]
    },
    {
      "cell_type": "code",
      "execution_count": null,
      "id": "8eiWjzWPgfsY",
      "metadata": {
        "colab": {
          "base_uri": "https://localhost:8080/"
        },
        "hidden": true,
        "id": "8eiWjzWPgfsY",
        "outputId": "2135ff19-cf18-4f3f-860c-dcff88ca60e1"
      },
      "outputs": [
        {
          "name": "stdout",
          "output_type": "stream",
          "text": [
            "6\n",
            "0 2 0 0 1 0 2 0 1 0 1 0 0 1 0 1 0 0 0 0 1 0 1 1 1 1 0 1 0 0 0 0 0 1 0 0\n",
            "NO 4\n"
          ]
        }
      ],
      "source": [
        "import numpy as np\n",
        "\n",
        "# Класс для представления графического объекта\n",
        "class Graph:\n",
        "    def __init__(self, n, edges=[]):\n",
        "        # изменяет размер списка, чтобы он содержал `n` элементов\n",
        "        self.adjList = [[] for _ in range(n)]\n",
        " \n",
        "        # добавляет ребро от источника к месту назначения\n",
        "        for edge in edges:\n",
        "            self.addEdge(edge[0], edge[1])\n",
        " \n",
        "    # Функция добавления ребра (u, v) к графу\n",
        "    def addEdge(self, u, v):\n",
        "        self.adjList[u].append(v)\n",
        "        self.adjList[v].append(u)\n",
        " \n",
        " \n",
        "# Функция для обхода DFS на графике на графике\n",
        "def DFS(graph, v, discovered):\n",
        "    discovered[v] = True        # пометить текущий узел как обнаруженный\n",
        " \n",
        "    # делаем для каждого ребра (v, u)\n",
        "    for u in graph.adjList[v]:\n",
        "        if not discovered[u]:   #, если `u` еще не обнаружен\n",
        "            DFS(graph, u, discovered)\n",
        " \n",
        " \n",
        "# Функция проверки наличия всех вершин с ненулевой степенью в графе\n",
        "# принадлежат одному подключенному компоненту\n",
        "def isConnected(graph, n):\n",
        " \n",
        "    # для отслеживания обнаружена вершина или нет\n",
        "    discovered = [False] * n\n",
        " \n",
        "    # запускает DFS с первой вершины с ненулевой степенью\n",
        "    for i in range(n):\n",
        "        if len(graph.adjList[i]):\n",
        "            DFS(graph, i, discovered)\n",
        "            break\n",
        " \n",
        "    #, если один вызов DFS не может посетить все вершины с ненулевой степенью,\n",
        "    # граф содержит более одной компоненты связности\n",
        "    for i in range(n):\n",
        "        if not discovered[i] and len(graph.adjList[i]):\n",
        "            return False\n",
        " \n",
        "    return True\n",
        " \n",
        " \n",
        "# Вспомогательная функция для возврата общего количества вершин с нечетной степенью\n",
        "# на графике\n",
        "def countOddVertices(graph):\n",
        "    count = 0\n",
        "    for list in graph.adjList:\n",
        "        if len(list) & 1:\n",
        "            count += 1\n",
        "    return count\n",
        "\n",
        "def count_odds(matrix):\n",
        "    g = [1 if int(x) > 1 else int(x) for x in matrix]\n",
        "    g = np.array(g).reshape(n, -1)\n",
        "    odds = [sum(x) for x in g]\n",
        "    odd = [1 if x % 2 > 0 else 0 for x in odds]\n",
        "    return sum(odd)\n",
        " \n",
        "def get_graph(matrix):\n",
        "    g = [int(x) for x in matrix]\n",
        "    g = np.array(g).reshape(n, -1)\n",
        "\n",
        "    a, b = np.where(g != 0)\n",
        "    graph = np.concatenate((a.reshape(-1, 1), b.reshape(-1, 1)), axis=1).tolist()\n",
        "\n",
        "    return graph\n",
        "\n",
        "n = int(input())\n",
        "g = input().split()\n",
        "graph = get_graph(g)\n",
        " \n",
        "if __name__ == '__main__':\n",
        " \n",
        "    # Список ребер графа согласно приведенной выше схеме\n",
        "    # edges = [(0, 1), (0, 3), (1, 2), (1, 3), (1, 4), (2, 3), (3, 4)]\n",
        "    edges = graph\n",
        " \n",
        "    # общее количество узлов в графе (от 0 до 4)\n",
        "    # n = 5\n",
        " \n",
        "    # создает неориентированный граф из заданных ребер\n",
        "    graph = Graph(n, edges)\n",
        " \n",
        "    # проверяет, принадлежат ли все вершины с ненулевой степенью одному\n",
        "    # Подключенный компонент\n",
        "    is_connected = isConnected(graph, n)\n",
        " \n",
        "    # найти общее количество вершин с нечетной степенью\n",
        "    # odd = countOddVertices(graph)\n",
        "    odd = count_odds(g)\n",
        " \n",
        "    # Эйлеров путь существует, если все вершины ненулевой степени соединены,\n",
        "    # и ноль или две вершины имеют нечетную степень\n",
        "    if is_connected and (odd == 0 or odd == 2):\n",
        " \n",
        "        # print('The graph has an Eulerian path')\n",
        " \n",
        "        # Связный граф имеет эйлеров цикл, если каждая вершина имеет\n",
        "        # четный градус\n",
        "        if odd == 0:\n",
        "            # print('The graph has an Eulerian cycle')\n",
        "            print('YES')\n",
        " \n",
        "        # Граф имеет эйлеров путь, но не эйлеров цикл\n",
        "        else:\n",
        "            # print('The Graph is Semi–Eulerian')\n",
        "            print('YES')\n",
        "    else:\n",
        "        print('NO')\n",
        "#     print('The Graph is not Eulerian')"
      ]
    },
    {
      "cell_type": "code",
      "execution_count": null,
      "id": "ByC6ijCVMhJ6",
      "metadata": {
        "colab": {
          "base_uri": "https://localhost:8080/"
        },
        "hidden": true,
        "id": "ByC6ijCVMhJ6",
        "outputId": "9fb23336-49dd-416b-fed2-029e38a1b4af"
      },
      "outputs": [
        {
          "name": "stdout",
          "output_type": "stream",
          "text": [
            "6\n",
            "0 2 0 0 1 0 2 0 1 0 1 0 0 1 0 1 0 0 0 0 1 0 1 1 1 1 0 1 0 0 0 0 0 1 0 0\n",
            "4\n"
          ]
        }
      ],
      "source": [
        "def count_odds(matrix):\n",
        "    g = [1 if int(x) > 1 else int(x) for x in matrix]\n",
        "    g = np.array(g).reshape(n, -1)\n",
        "    odds = [sum(x) for x in g]\n",
        "    odd = [1 if x % 2 > 0 else 0 for x in odds]\n",
        "    return sum(odd)\n",
        "\n",
        "\n",
        "n = int(input())\n",
        "g = input().split()\n",
        "odds = count_odds(g)\n",
        "print(odds)"
      ]
    },
    {
      "cell_type": "markdown",
      "id": "7xi2CZ_XFfGe",
      "metadata": {
        "hidden": true,
        "id": "7xi2CZ_XFfGe"
      },
      "source": [
        "0 2 0 0 1 0\n",
        "2 0 1 0 1 0\n",
        "0 1 0 1 0 0\n",
        "0 0 1 0 1 1\n",
        "1 1 0 1 0 0\n",
        "0 0 0 1 0 0"
      ]
    }
  ],
  "metadata": {
    "colab": {
      "name": "services.ipynb",
      "provenance": []
    },
    "kernelspec": {
      "display_name": "Python 3 (ipykernel)",
      "language": "python",
      "name": "python3"
    },
    "language_info": {
      "codemirror_mode": {
        "name": "ipython",
        "version": 3
      },
      "file_extension": ".py",
      "mimetype": "text/x-python",
      "name": "python",
      "nbconvert_exporter": "python",
      "pygments_lexer": "ipython3",
      "version": "3.9.12"
    },
    "varInspector": {
      "cols": {
        "lenName": 16,
        "lenType": 16,
        "lenVar": 40
      },
      "kernels_config": {
        "python": {
          "delete_cmd_postfix": "",
          "delete_cmd_prefix": "del ",
          "library": "var_list.py",
          "varRefreshCmd": "print(var_dic_list())"
        },
        "r": {
          "delete_cmd_postfix": ") ",
          "delete_cmd_prefix": "rm(",
          "library": "var_list.r",
          "varRefreshCmd": "cat(var_dic_list()) "
        }
      },
      "types_to_exclude": [
        "module",
        "function",
        "builtin_function_or_method",
        "instance",
        "_Feature"
      ],
      "window_display": false
    }
  },
  "nbformat": 4,
  "nbformat_minor": 5
}