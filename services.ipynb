{
  "cells": [
    {
      "cell_type": "markdown",
      "metadata": {
        "id": "4839acf6-c527-44c0-8734-dbe89ac92c2a"
      },
      "source": [
        "## Формула Байеса"
      ],
      "id": "4839acf6-c527-44c0-8734-dbe89ac92c2a"
    },
    {
      "cell_type": "markdown",
      "metadata": {
        "id": "7dd96ccd-37fa-4446-b90f-7913e0f388b7"
      },
      "source": [
        "Пример применения формулы Байеса\n",
        "Допустим, в некоторой контрольной группе из 10000 человек в среднем 1 имеет приобретенный иммунодефицит. Пациент сдает тест, достоверность которого составляет 99%. Допустим, пришел положительный результат теста. Можно задать вопрос: стоит ли паниковать? Другими словами: с каким уровнем доверия имеет место гипотеза “у пациента ВИЧ”?\n",
        "\n",
        "Ответ на этот вопрос может дать формула Байеса. До того, как пациент узнал результаты анализов, априорная вероятность заболевания у него составляла 1/10000. Однако положительный тест вносит поправку в достоверность гипотезы о заболевании. \n",
        "\n",
        "В наших обозначениях H= \"пациент болен ВИЧ\", A= \"пришел положительный тест\". Мы должны вычислить уровень достоверности гипотезы H при условии A. Итак, априорная вероятность есть P(H)=1/10000; достоверность теста есть P(A|H)=0,99.  Положительный тест может прийти как в случае, если пациент действительно болен (за это отвечает первое слагаемое в знаменателе, P(A|H)⋅P(H)=0,99⋅0,0001), так и в случае, если тест оказался ложно-положительным (второе слагаемое, P(A|H¯)⋅(1−P(H))=0,01−0,9999). Применяя формулу Байеса, найдем апостериорную вероятность инфекции:"
      ],
      "id": "7dd96ccd-37fa-4446-b90f-7913e0f388b7"
    },
    {
      "cell_type": "code",
      "execution_count": null,
      "metadata": {
        "id": "0fbc9e49-c5ce-48ca-a9fb-3634996ae3e2"
      },
      "outputs": [],
      "source": [
        "p_A_if_H = 0.99\n",
        "p_H = 1. / 10000\n",
        "p_A_if_NOT_H = 1 - p_A_if_H\n",
        "p_NOT_H = 1 - p_H"
      ],
      "id": "0fbc9e49-c5ce-48ca-a9fb-3634996ae3e2"
    },
    {
      "cell_type": "code",
      "execution_count": null,
      "metadata": {
        "id": "88772f4e-17f9-4431-a5ab-90df01ae76fa",
        "outputId": "bdc45128-828b-43c6-d6ef-56c661fa67e9"
      },
      "outputs": [
        {
          "data": {
            "text/plain": [
              "0.009803921568627442"
            ]
          },
          "execution_count": 38,
          "metadata": {},
          "output_type": "execute_result"
        }
      ],
      "source": [
        "p_H_if_A = p_A_if_H * p_H / (p_A_if_H * p_H + p_A_if_NOT_H * (p_NOT_H))\n",
        "p_H_if_A"
      ],
      "id": "88772f4e-17f9-4431-a5ab-90df01ae76fa"
    },
    {
      "cell_type": "markdown",
      "metadata": {
        "id": "WTEO02eOyzb_"
      },
      "source": [
        "## Вопрос 3 (Студ группа)"
      ],
      "id": "WTEO02eOyzb_"
    },
    {
      "cell_type": "markdown",
      "metadata": {
        "id": "0375c803-3aea-41d1-9584-d7fc49c1f9ff"
      },
      "source": [
        "В студенческой группе 10 девушек и 15 юношей. На конференцию выбирают 5 делегатов. Найдите вероятность того, что в числе делегатов окажется хотя бы один юноша. Ответ округлите до тысячных."
      ],
      "id": "0375c803-3aea-41d1-9584-d7fc49c1f9ff"
    },
    {
      "cell_type": "code",
      "execution_count": null,
      "metadata": {
        "id": "8078eb11-270f-4c28-8ab1-8918ffe8cfab"
      },
      "outputs": [],
      "source": [
        "from math import factorial as fac"
      ],
      "id": "8078eb11-270f-4c28-8ab1-8918ffe8cfab"
    },
    {
      "cell_type": "code",
      "execution_count": null,
      "metadata": {
        "id": "f54c24d1-9101-4b70-a1b8-e8269fbc0d08",
        "outputId": "039c65d6-ab74-4fd4-962b-743cd13017b7"
      },
      "outputs": [
        {
          "data": {
            "text/plain": [
              "0.9952569169960476"
            ]
          },
          "execution_count": 62,
          "metadata": {},
          "output_type": "execute_result"
        }
      ],
      "source": [
        "c_1_15 = fac(15) / (fac(1) * fac(14))\n",
        "c_2_15 = fac(15) / (fac(2) * fac(13))\n",
        "c_3_15 = fac(15) / (fac(3) * fac(12))\n",
        "c_4_15 = fac(15) / (fac(4) * fac(11))\n",
        "c_5_15 = fac(15) / (fac(5) * fac(10))\n",
        "\n",
        "c_4_10 = fac(10) / (fac(4) * fac(6))\n",
        "c_3_10 = fac(10) / (fac(3) * fac(7))\n",
        "c_2_10 = fac(10) / (fac(2) * fac(8))\n",
        "c_1_10 = fac(10) / (fac(1) * fac(9))\n",
        "\n",
        "c_5_25 = fac(25) / (fac(5) * fac(20))\n",
        "\n",
        "p1 = c_1_15 * c_4_10 / c_5_25\n",
        "p2 = c_2_15 * c_3_10 / c_5_25\n",
        "p3 = c_3_15 * c_2_10 / c_5_25\n",
        "p4 = c_4_15 * c_1_10 / c_5_25\n",
        "p5 = c_5_15 / c_5_25\n",
        "p = sum([p1, p2, p3, p4, p5])\n",
        "p"
      ],
      "id": "f54c24d1-9101-4b70-a1b8-e8269fbc0d08"
    },
    {
      "cell_type": "markdown",
      "metadata": {
        "id": "k4XG9blWy-Vl"
      },
      "source": [
        "## Вопрос 4 (пирамидка с винтовками)"
      ],
      "id": "k4XG9blWy-Vl"
    },
    {
      "cell_type": "markdown",
      "metadata": {
        "id": "zXf7vYJGyYqR"
      },
      "source": [
        "В пирамидке стоят 5 винтовок, 3 из которых снабжены оптическим прицелом. Вероятность того, что стрелок поразит мишень при выстреле из винтовки с оптическим прицелом, равна 0,9; для винтовки без оптического прицела эта вероятность равна 0,6. Найдите вероятность того, что мишень будет поражена, если стрелок произведет выстрел из наудачу взятой винтовки."
      ],
      "id": "zXf7vYJGyYqR"
    },
    {
      "cell_type": "code",
      "execution_count": null,
      "metadata": {
        "id": "RKcLT8bxyZUg"
      },
      "outputs": [],
      "source": [
        "ruf_num = 2\n",
        "opt_ruf_num = 3\n",
        "p_ruf = 0.6\n",
        "p_opt_ruf = 0.9"
      ],
      "id": "RKcLT8bxyZUg"
    },
    {
      "cell_type": "code",
      "execution_count": null,
      "metadata": {
        "colab": {
          "base_uri": "https://localhost:8080/"
        },
        "id": "dtQwY2DR0QNU",
        "outputId": "08c186ee-d7ce-4817-9400-7f2a378022ec"
      },
      "outputs": [
        {
          "data": {
            "text/plain": [
              "0.78"
            ]
          },
          "execution_count": 4,
          "metadata": {},
          "output_type": "execute_result"
        }
      ],
      "source": [
        "all_ruf_num = ruf_num + opt_ruf_num\n",
        "p = p_opt_ruf * opt_ruf_num / all_ruf_num + p_ruf * ruf_num / all_ruf_num\n",
        "p"
      ],
      "id": "dtQwY2DR0QNU"
    },
    {
      "cell_type": "markdown",
      "metadata": {
        "id": "eqz0MhV41Idk"
      },
      "source": [
        "## Вопрос 5 (про случайно встреченных блондинов)"
      ],
      "id": "eqz0MhV41Idk"
    },
    {
      "cell_type": "markdown",
      "metadata": {
        "id": "-QP5cvSr1SuB"
      },
      "source": [
        "Случайно встреченное лицо с вероятностью 0,3 может оказаться блондином. Найдите вероятность того, что среди пяти случайно встреченных лиц будет не менее четырех блондинов. Ответ округлите до сотых."
      ],
      "id": "-QP5cvSr1SuB"
    },
    {
      "cell_type": "code",
      "execution_count": null,
      "metadata": {
        "colab": {
          "base_uri": "https://localhost:8080/"
        },
        "id": "qR2vfkG11Tly",
        "outputId": "4a5ff0b9-b534-4ebf-b91c-0ab2dd690743"
      },
      "outputs": [
        {
          "data": {
            "text/plain": [
              "0.03078"
            ]
          },
          "execution_count": 17,
          "metadata": {},
          "output_type": "execute_result"
        }
      ],
      "source": [
        "p1 = 0.3 # встречен блондин\n",
        "p2 = 1 - p1 # встречен не блондин\n",
        "p = 5 * ((p1**4)*p2) + p1**5\n",
        "p"
      ],
      "id": "qR2vfkG11Tly"
    },
    {
      "cell_type": "markdown",
      "metadata": {
        "id": "wBTe6pLayfyA"
      },
      "source": [
        "## Вопрос 6 (спартакиада)"
      ],
      "id": "wBTe6pLayfyA"
    },
    {
      "cell_type": "markdown",
      "metadata": {
        "id": "ebb27c10-4ec7-44fc-8269-59f15809719f"
      },
      "source": [
        "В спартакиаде участвуют из первой группы 4 студента, из второй – 6, из третьей – 5. Студент из первой группы попадает в сборную института с вероятность 0,9, второй – 0,7, третьей – 0,8. Наудачу выбранный студент попал в сборную. Какова вероятность того, что это студент из второй группы? Ответ округлите до тысячных."
      ],
      "id": "ebb27c10-4ec7-44fc-8269-59f15809719f"
    },
    {
      "cell_type": "markdown",
      "metadata": {
        "id": "ef62cd9c-9eb8-4279-adf7-e6e8a0fa00c0"
      },
      "source": [
        "событие А – 'студент в итоге соревнования попал в сборную.''\n",
        "\n",
        "гипотезу H1 – ''студент из первой группы''\n",
        "\n",
        "гипотезу H2 – ''студент из второй группы''\n",
        "\n",
        "гипотезу H3 – ''студент из третьей группы''\n",
        "\n",
        "k1, k2, k3 - число студентов в соответствующей группе"
      ],
      "id": "ef62cd9c-9eb8-4279-adf7-e6e8a0fa00c0"
    },
    {
      "cell_type": "code",
      "execution_count": null,
      "metadata": {
        "id": "be86b28e-690a-4ab9-9779-959417d6f4de"
      },
      "outputs": [],
      "source": [
        "k1, k2, k3 = 4, 6, 5\n",
        "p_A_H1, p_A_H2, p_A_H3 = 0.9, 0.7, 0.8\n",
        "k_all = sum([k1, k2, k3])"
      ],
      "id": "be86b28e-690a-4ab9-9779-959417d6f4de"
    },
    {
      "cell_type": "code",
      "execution_count": null,
      "metadata": {
        "id": "bb1f4585-9bbe-4dd8-8937-df2d163078b5",
        "outputId": "10064f8c-cc03-417a-acd7-9064ec374cdf"
      },
      "outputs": [
        {
          "data": {
            "text/plain": [
              "(0.3050847457627119, 0.3559322033898305, 0.33898305084745767)"
            ]
          },
          "execution_count": 46,
          "metadata": {},
          "output_type": "execute_result"
        }
      ],
      "source": [
        "p_H1 = k1 / k_all\n",
        "p_H2 = k2 / k_all\n",
        "p_H3 = k3 / k_all\n",
        "\n",
        "p_A = p_H1*p_A_H1 + p_H2*p_A_H2 + p_H3*p_A_H3\n",
        "\n",
        "p_H1_A = p_H1 * p_A_H1 / p_A\n",
        "p_H2_A = p_H2 * p_A_H2 / p_A\n",
        "p_H3_A = p_H3 * p_A_H3 / p_A\n",
        "\n",
        "(p_H1_A, p_H2_A, p_H3_A)"
      ],
      "id": "bb1f4585-9bbe-4dd8-8937-df2d163078b5"
    },
    {
      "cell_type": "markdown",
      "metadata": {
        "id": "Kj3d37sDI3E-"
      },
      "source": [
        "## Вопрос 17 (Квадратный стенд)"
      ],
      "id": "Kj3d37sDI3E-"
    },
    {
      "cell_type": "markdown",
      "metadata": {
        "id": "WHTNuD19I_JV"
      },
      "source": [
        "Перебирая свои школьные архивы, Елпидифор вспомнил, что его школьные годы прошли плодотворно и он получил очень много грамот за примерное поведение, успехи в рисовании, математические олимпиады - и ещё много за что.\n",
        "\n",
        "Оказалось, что все грамоты имеют один и тот же размер W⋅H и текст на всех из них располагается в одной и той же ориентации. Память есть память, и ему захотелось, чтобы все эти грамоты были на виду. У него имеется возможность заказать квадратный стенд в лаборатории прототипирования «Сириуса», где работает его одноклассник. Фабрика имеет возможность изготавливать такие стенды с любой стороной квадрата, лишь бы она могла быть выражена целым числом. Так как цена заказа зависит от размера стенда, хотелось бы заплатить сумму поменьше.\n",
        "\n",
        "\n",
        "\n",
        "Входные данные\n",
        "\n",
        "Входные данные содержат три числа: 1⩽W,H,N⩽109.\n",
        "\n",
        "\n",
        "Выходные данные \n",
        "\n",
        "Одно целое число — минимальная сторона квадратного стенда, на котором могут разместиться все грамоты. Грамоты могут касаться сторонами, но не пересекаться."
      ],
      "id": "WHTNuD19I_JV"
    },
    {
      "cell_type": "code",
      "execution_count": null,
      "metadata": {
        "id": "cNOFUcnidBLW",
        "cellView": "code"
      },
      "outputs": [],
      "source": [
        "import math\n",
        "w, h, num = [int(x) for x in str.split(input(), sep=' ')]\n",
        "s_max = max(w, h)\n",
        "s_min = min(w, h)\n",
        "stand_w = w * h * num\n",
        "for n in range(1, num+1):\n",
        "    temp = max(s_max * n, math.ceil(num / n) * s_min)\n",
        "    if temp >= stand_w:\n",
        "        break\n",
        "    stand_w = temp\n",
        "print(stand_w)"
      ],
      "id": "cNOFUcnidBLW"
    },
    {
      "cell_type": "markdown",
      "metadata": {
        "id": "NinewDKy2DOB"
      },
      "source": [
        "## Вопрос 18 (Сортировка)"
      ],
      "id": "NinewDKy2DOB"
    },
    {
      "cell_type": "markdown",
      "metadata": {
        "id": "4oMcGhOc2DmA"
      },
      "source": [
        "Китайский фермер Мат Рос Кин встроил в каждую корову на ферме по видеокарте RX1080 и решил майнить криптовалюту \"байтугрики\". По прошествии месяца для каждой коровы Мат Рос Кин определил доходность каждой коровы в байтугриках вещественное число, по модулю не превышающее 3⋅104. Так как питаться чем-то всё равно надо, Мат Рос Кин решил отсортировать коров по возрастанию доходности (и тем самым сформировать очередь на мясо). Но так как все вычислительные ресурсы ушли на майнинг, Мат Рос Кин просит вас составить этот список.\n",
        "\n",
        "Входные данные\n",
        "Первая строка входа содержит одно целое число N(0≤N≤1000)- количество коров.\n",
        "\n",
        "Вторая строка содержит N чисел с плавающей точкой, по модулю не превышающих 3⋅104 - доходность каждой коровы в байтугриках.\n",
        "\n",
        "\n",
        "Выходные данные\n",
        "\n",
        "Выведите список, отсортированный по возрастанию доходности. Числа в списке не должны отличаться от исходных данных более, чем на 10−6.\n",
        "\n"
      ],
      "id": "4oMcGhOc2DmA"
    },
    {
      "cell_type": "code",
      "execution_count": null,
      "metadata": {
        "colab": {
          "base_uri": "https://localhost:8080/"
        },
        "id": "-1WUiapa2JeP",
        "outputId": "315d204c-e5de-4b50-ee7a-e49e8777f2e0"
      },
      "outputs": [
        {
          "name": "stdout",
          "output_type": "stream",
          "text": [
            "5\n",
            "2.3 17.7 17.8 -4.12 35.0\n",
            "-4.12 2.3 17.7 17.8 35.0 "
          ]
        }
      ],
      "source": [
        "n = int(input())\n",
        "profit = [float(x) for x in str.split(input(), sep=' ')]\n",
        "profit_sorted = sorted(profit)\n",
        "for i in profit_sorted:\n",
        "    print(i, end=' ')"
      ],
      "id": "-1WUiapa2JeP"
    },
    {
      "cell_type": "markdown",
      "metadata": {
        "id": "lCihJ4hLL4cD"
      },
      "source": [
        "## Вопрос 19 (n-тый член последовательности)"
      ],
      "id": "lCihJ4hLL4cD"
    },
    {
      "cell_type": "markdown",
      "metadata": {
        "id": "-83z_RVOMARR"
      },
      "source": [
        "n -тый член последовательности задан как F(n)=F(n−1)+F(n−2)+F(n−3),F(0)=F(1)=F(2)=1. Найти n-тый член последовательности.\n",
        "\n",
        "\n",
        "**Входные данные**\n",
        "\n",
        "Натуральное число 0<n≤30.\n",
        "\n",
        "Выходные данные\n",
        "\n",
        "n-тый член последовательности."
      ],
      "id": "-83z_RVOMARR"
    },
    {
      "cell_type": "code",
      "execution_count": null,
      "metadata": {
        "colab": {
          "base_uri": "https://localhost:8080/"
        },
        "id": "RYQX0ThIfbgt",
        "outputId": "763ed83b-1966-42f5-ac8b-eef7eed06905"
      },
      "outputs": [
        {
          "name": "stdout",
          "output_type": "stream",
          "text": [
            "6\n",
            "17\n"
          ]
        }
      ],
      "source": [
        "n = int(input())\n",
        "fib1 = fib2 = fib3 = 1\n",
        " \n",
        "for i in range(3, n+1):\n",
        "    fib1, fib2, fib3 = fib2, fib3, fib1 + fib2 + fib3\n",
        "print(fib3)"
      ],
      "id": "RYQX0ThIfbgt"
    }
  ],
  "metadata": {
    "colab": {
      "name": "services.ipynb",
      "provenance": []
    },
    "kernelspec": {
      "display_name": "Python 3",
      "language": "python",
      "name": "python3"
    },
    "language_info": {
      "codemirror_mode": {
        "name": "ipython",
        "version": 3
      },
      "file_extension": ".py",
      "mimetype": "text/x-python",
      "name": "python",
      "nbconvert_exporter": "python",
      "pygments_lexer": "ipython3",
      "version": "3.7.4"
    },
    "varInspector": {
      "cols": {
        "lenName": 16,
        "lenType": 16,
        "lenVar": 40
      },
      "kernels_config": {
        "python": {
          "delete_cmd_postfix": "",
          "delete_cmd_prefix": "del ",
          "library": "var_list.py",
          "varRefreshCmd": "print(var_dic_list())"
        },
        "r": {
          "delete_cmd_postfix": ") ",
          "delete_cmd_prefix": "rm(",
          "library": "var_list.r",
          "varRefreshCmd": "cat(var_dic_list()) "
        }
      },
      "types_to_exclude": [
        "module",
        "function",
        "builtin_function_or_method",
        "instance",
        "_Feature"
      ],
      "window_display": false
    }
  },
  "nbformat": 4,
  "nbformat_minor": 5
}