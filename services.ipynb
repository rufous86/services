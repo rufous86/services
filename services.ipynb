{
  "cells": [
    {
      "cell_type": "markdown",
      "metadata": {
        "id": "view-in-github",
        "colab_type": "text"
      },
      "source": [
        "<a href=\"https://colab.research.google.com/github/rufous86/services/blob/main/services.ipynb\" target=\"_parent\"><img src=\"https://colab.research.google.com/assets/colab-badge.svg\" alt=\"Open In Colab\"/></a>"
      ]
    },
    {
      "cell_type": "markdown",
      "id": "4839acf6-c527-44c0-8734-dbe89ac92c2a",
      "metadata": {
        "id": "4839acf6-c527-44c0-8734-dbe89ac92c2a"
      },
      "source": [
        "## Формула Байеса"
      ]
    },
    {
      "cell_type": "markdown",
      "id": "7dd96ccd-37fa-4446-b90f-7913e0f388b7",
      "metadata": {
        "id": "7dd96ccd-37fa-4446-b90f-7913e0f388b7"
      },
      "source": [
        "Пример применения формулы Байеса\n",
        "Допустим, в некоторой контрольной группе из 10000 человек в среднем 1 имеет приобретенный иммунодефицит. Пациент сдает тест, достоверность которого составляет 99%. Допустим, пришел положительный результат теста. Можно задать вопрос: стоит ли паниковать? Другими словами: с каким уровнем доверия имеет место гипотеза “у пациента ВИЧ”?\n",
        "\n",
        "Ответ на этот вопрос может дать формула Байеса. До того, как пациент узнал результаты анализов, априорная вероятность заболевания у него составляла 1/10000. Однако положительный тест вносит поправку в достоверность гипотезы о заболевании. \n",
        "\n",
        "В наших обозначениях H= \"пациент болен ВИЧ\", A= \"пришел положительный тест\". Мы должны вычислить уровень достоверности гипотезы H при условии A. Итак, априорная вероятность есть P(H)=1/10000; достоверность теста есть P(A|H)=0,99.  Положительный тест может прийти как в случае, если пациент действительно болен (за это отвечает первое слагаемое в знаменателе, P(A|H)⋅P(H)=0,99⋅0,0001), так и в случае, если тест оказался ложно-положительным (второе слагаемое, P(A|H¯)⋅(1−P(H))=0,01−0,9999). Применяя формулу Байеса, найдем апостериорную вероятность инфекции:"
      ]
    },
    {
      "cell_type": "code",
      "execution_count": null,
      "id": "0fbc9e49-c5ce-48ca-a9fb-3634996ae3e2",
      "metadata": {
        "id": "0fbc9e49-c5ce-48ca-a9fb-3634996ae3e2"
      },
      "outputs": [],
      "source": [
        "p_A_if_H = 0.99\n",
        "p_H = 1. / 10000\n",
        "p_A_if_NOT_H = 1 - p_A_if_H\n",
        "p_NOT_H = 1 - p_H"
      ]
    },
    {
      "cell_type": "code",
      "execution_count": null,
      "id": "88772f4e-17f9-4431-a5ab-90df01ae76fa",
      "metadata": {
        "id": "88772f4e-17f9-4431-a5ab-90df01ae76fa",
        "outputId": "bdc45128-828b-43c6-d6ef-56c661fa67e9"
      },
      "outputs": [
        {
          "data": {
            "text/plain": [
              "0.009803921568627442"
            ]
          },
          "execution_count": 38,
          "metadata": {},
          "output_type": "execute_result"
        }
      ],
      "source": [
        "p_H_if_A = p_A_if_H * p_H / (p_A_if_H * p_H + p_A_if_NOT_H * (p_NOT_H))\n",
        "p_H_if_A"
      ]
    },
    {
      "cell_type": "markdown",
      "source": [
        "## Вопрос 3 (Студ группа)"
      ],
      "metadata": {
        "id": "WTEO02eOyzb_"
      },
      "id": "WTEO02eOyzb_"
    },
    {
      "cell_type": "markdown",
      "id": "0375c803-3aea-41d1-9584-d7fc49c1f9ff",
      "metadata": {
        "id": "0375c803-3aea-41d1-9584-d7fc49c1f9ff"
      },
      "source": [
        "В студенческой группе 10 девушек и 15 юношей. На конференцию выбирают 5 делегатов. Найдите вероятность того, что в числе делегатов окажется хотя бы один юноша. Ответ округлите до тысячных."
      ]
    },
    {
      "cell_type": "code",
      "execution_count": null,
      "id": "8078eb11-270f-4c28-8ab1-8918ffe8cfab",
      "metadata": {
        "id": "8078eb11-270f-4c28-8ab1-8918ffe8cfab"
      },
      "outputs": [],
      "source": [
        "from math import factorial as fac"
      ]
    },
    {
      "cell_type": "code",
      "execution_count": null,
      "id": "f54c24d1-9101-4b70-a1b8-e8269fbc0d08",
      "metadata": {
        "id": "f54c24d1-9101-4b70-a1b8-e8269fbc0d08",
        "outputId": "039c65d6-ab74-4fd4-962b-743cd13017b7"
      },
      "outputs": [
        {
          "data": {
            "text/plain": [
              "0.9952569169960476"
            ]
          },
          "execution_count": 62,
          "metadata": {},
          "output_type": "execute_result"
        }
      ],
      "source": [
        "c_1_15 = fac(15) / (fac(1) * fac(14))\n",
        "c_2_15 = fac(15) / (fac(2) * fac(13))\n",
        "c_3_15 = fac(15) / (fac(3) * fac(12))\n",
        "c_4_15 = fac(15) / (fac(4) * fac(11))\n",
        "c_5_15 = fac(15) / (fac(5) * fac(10))\n",
        "\n",
        "c_4_10 = fac(10) / (fac(4) * fac(6))\n",
        "c_3_10 = fac(10) / (fac(3) * fac(7))\n",
        "c_2_10 = fac(10) / (fac(2) * fac(8))\n",
        "c_1_10 = fac(10) / (fac(1) * fac(9))\n",
        "\n",
        "c_5_25 = fac(25) / (fac(5) * fac(20))\n",
        "\n",
        "p1 = c_1_15 * c_4_10 / c_5_25\n",
        "p2 = c_2_15 * c_3_10 / c_5_25\n",
        "p3 = c_3_15 * c_2_10 / c_5_25\n",
        "p4 = c_4_15 * c_1_10 / c_5_25\n",
        "p5 = c_5_15 / c_5_25\n",
        "p = sum([p1, p2, p3, p4, p5])\n",
        "p"
      ]
    },
    {
      "cell_type": "markdown",
      "source": [
        "## Вопрос 4 (пирамидка с винтовками)"
      ],
      "metadata": {
        "id": "k4XG9blWy-Vl"
      },
      "id": "k4XG9blWy-Vl"
    },
    {
      "cell_type": "markdown",
      "source": [
        "В пирамидке стоят 5 винтовок, 3 из которых снабжены оптическим прицелом. Вероятность того, что стрелок поразит мишень при выстреле из винтовки с оптическим прицелом, равна 0,9; для винтовки без оптического прицела эта вероятность равна 0,6. Найдите вероятность того, что мишень будет поражена, если стрелок произведет выстрел из наудачу взятой винтовки."
      ],
      "metadata": {
        "id": "zXf7vYJGyYqR"
      },
      "id": "zXf7vYJGyYqR"
    },
    {
      "cell_type": "code",
      "source": [
        "ruf_num = 2\n",
        "opt_ruf_num = 3\n",
        "p_ruf = 0.6\n",
        "p_opt_ruf = 0.9"
      ],
      "metadata": {
        "id": "RKcLT8bxyZUg"
      },
      "id": "RKcLT8bxyZUg",
      "execution_count": 3,
      "outputs": []
    },
    {
      "cell_type": "code",
      "source": [
        "all_ruf_num = ruf_num + opt_ruf_num\n",
        "p = p_opt_ruf * opt_ruf_num / all_ruf_num + p_ruf * ruf_num / all_ruf_num\n",
        "p"
      ],
      "metadata": {
        "id": "dtQwY2DR0QNU",
        "outputId": "08c186ee-d7ce-4817-9400-7f2a378022ec",
        "colab": {
          "base_uri": "https://localhost:8080/"
        }
      },
      "id": "dtQwY2DR0QNU",
      "execution_count": 4,
      "outputs": [
        {
          "output_type": "execute_result",
          "data": {
            "text/plain": [
              "0.78"
            ]
          },
          "metadata": {},
          "execution_count": 4
        }
      ]
    },
    {
      "cell_type": "markdown",
      "source": [
        "## Вопрос 5 (про случайно встреченных блондинов)"
      ],
      "metadata": {
        "id": "eqz0MhV41Idk"
      },
      "id": "eqz0MhV41Idk"
    },
    {
      "cell_type": "markdown",
      "source": [
        "Случайно встреченное лицо с вероятностью 0,3 может оказаться блондином. Найдите вероятность того, что среди пяти случайно встреченных лиц будет не менее четырех блондинов. Ответ округлите до сотых."
      ],
      "metadata": {
        "id": "-QP5cvSr1SuB"
      },
      "id": "-QP5cvSr1SuB"
    },
    {
      "cell_type": "code",
      "source": [
        "p1 = 0.3 # встречен блондин\n",
        "p2 = 1 - p1 # встречен не блондин\n",
        "p = 5 * ((p1**4)*p2) + p1**5\n",
        "p"
      ],
      "metadata": {
        "id": "qR2vfkG11Tly",
        "outputId": "4a5ff0b9-b534-4ebf-b91c-0ab2dd690743",
        "colab": {
          "base_uri": "https://localhost:8080/"
        }
      },
      "id": "qR2vfkG11Tly",
      "execution_count": 17,
      "outputs": [
        {
          "output_type": "execute_result",
          "data": {
            "text/plain": [
              "0.03078"
            ]
          },
          "metadata": {},
          "execution_count": 17
        }
      ]
    },
    {
      "cell_type": "markdown",
      "source": [
        "## Вопрос 6 (спартакиада)"
      ],
      "metadata": {
        "id": "wBTe6pLayfyA"
      },
      "id": "wBTe6pLayfyA"
    },
    {
      "cell_type": "markdown",
      "id": "ebb27c10-4ec7-44fc-8269-59f15809719f",
      "metadata": {
        "id": "ebb27c10-4ec7-44fc-8269-59f15809719f"
      },
      "source": [
        "В спартакиаде участвуют из первой группы 4 студента, из второй – 6, из третьей – 5. Студент из первой группы попадает в сборную института с вероятность 0,9, второй – 0,7, третьей – 0,8. Наудачу выбранный студент попал в сборную. Какова вероятность того, что это студент из второй группы? Ответ округлите до тысячных."
      ]
    },
    {
      "cell_type": "markdown",
      "id": "ef62cd9c-9eb8-4279-adf7-e6e8a0fa00c0",
      "metadata": {
        "id": "ef62cd9c-9eb8-4279-adf7-e6e8a0fa00c0"
      },
      "source": [
        "событие А – 'студент в итоге соревнования попал в сборную.''\n",
        "\n",
        "гипотезу H1 – ''студент из первой группы''\n",
        "\n",
        "гипотезу H2 – ''студент из второй группы''\n",
        "\n",
        "гипотезу H3 – ''студент из третьей группы''\n",
        "\n",
        "k1, k2, k3 - число студентов в соответствующей группе"
      ]
    },
    {
      "cell_type": "code",
      "execution_count": null,
      "id": "be86b28e-690a-4ab9-9779-959417d6f4de",
      "metadata": {
        "id": "be86b28e-690a-4ab9-9779-959417d6f4de"
      },
      "outputs": [],
      "source": [
        "k1, k2, k3 = 4, 6, 5\n",
        "p_A_H1, p_A_H2, p_A_H3 = 0.9, 0.7, 0.8\n",
        "k_all = sum([k1, k2, k3])"
      ]
    },
    {
      "cell_type": "code",
      "execution_count": null,
      "id": "bb1f4585-9bbe-4dd8-8937-df2d163078b5",
      "metadata": {
        "id": "bb1f4585-9bbe-4dd8-8937-df2d163078b5",
        "outputId": "10064f8c-cc03-417a-acd7-9064ec374cdf"
      },
      "outputs": [
        {
          "data": {
            "text/plain": [
              "(0.3050847457627119, 0.3559322033898305, 0.33898305084745767)"
            ]
          },
          "execution_count": 46,
          "metadata": {},
          "output_type": "execute_result"
        }
      ],
      "source": [
        "p_H1 = k1 / k_all\n",
        "p_H2 = k2 / k_all\n",
        "p_H3 = k3 / k_all\n",
        "\n",
        "p_A = p_H1*p_A_H1 + p_H2*p_A_H2 + p_H3*p_A_H3\n",
        "\n",
        "p_H1_A = p_H1 * p_A_H1 / p_A\n",
        "p_H2_A = p_H2 * p_A_H2 / p_A\n",
        "p_H3_A = p_H3 * p_A_H3 / p_A\n",
        "\n",
        "(p_H1_A, p_H2_A, p_H3_A)"
      ]
    }
  ],
  "metadata": {
    "kernelspec": {
      "display_name": "Python 3 (ipykernel)",
      "language": "python",
      "name": "python3"
    },
    "language_info": {
      "codemirror_mode": {
        "name": "ipython",
        "version": 3
      },
      "file_extension": ".py",
      "mimetype": "text/x-python",
      "name": "python",
      "nbconvert_exporter": "python",
      "pygments_lexer": "ipython3",
      "version": "3.9.12"
    },
    "colab": {
      "name": "services.ipynb",
      "provenance": [],
      "include_colab_link": true
    }
  },
  "nbformat": 4,
  "nbformat_minor": 5
}