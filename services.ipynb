{
  "cells": [
    {
      "cell_type": "markdown",
      "metadata": {
        "id": "view-in-github",
        "colab_type": "text"
      },
      "source": [
        "<a href=\"https://colab.research.google.com/github/rufous86/services/blob/main/services.ipynb\" target=\"_parent\"><img src=\"https://colab.research.google.com/assets/colab-badge.svg\" alt=\"Open In Colab\"/></a>"
      ]
    },
    {
      "cell_type": "markdown",
      "id": "4839acf6-c527-44c0-8734-dbe89ac92c2a",
      "metadata": {
        "id": "4839acf6-c527-44c0-8734-dbe89ac92c2a"
      },
      "source": [
        "## Формула Байеса"
      ]
    },
    {
      "cell_type": "markdown",
      "id": "7dd96ccd-37fa-4446-b90f-7913e0f388b7",
      "metadata": {
        "id": "7dd96ccd-37fa-4446-b90f-7913e0f388b7"
      },
      "source": [
        "Пример применения формулы Байеса\n",
        "Допустим, в некоторой контрольной группе из 10000 человек в среднем 1 имеет приобретенный иммунодефицит. Пациент сдает тест, достоверность которого составляет 99%. Допустим, пришел положительный результат теста. Можно задать вопрос: стоит ли паниковать? Другими словами: с каким уровнем доверия имеет место гипотеза “у пациента ВИЧ”?\n",
        "\n",
        "Ответ на этот вопрос может дать формула Байеса. До того, как пациент узнал результаты анализов, априорная вероятность заболевания у него составляла 1/10000. Однако положительный тест вносит поправку в достоверность гипотезы о заболевании. \n",
        "\n",
        "В наших обозначениях H= \"пациент болен ВИЧ\", A= \"пришел положительный тест\". Мы должны вычислить уровень достоверности гипотезы H при условии A. Итак, априорная вероятность есть P(H)=1/10000; достоверность теста есть P(A|H)=0,99.  Положительный тест может прийти как в случае, если пациент действительно болен (за это отвечает первое слагаемое в знаменателе, P(A|H)⋅P(H)=0,99⋅0,0001), так и в случае, если тест оказался ложно-положительным (второе слагаемое, P(A|H¯)⋅(1−P(H))=0,01−0,9999). Применяя формулу Байеса, найдем апостериорную вероятность инфекции:"
      ]
    },
    {
      "cell_type": "code",
      "execution_count": null,
      "id": "0fbc9e49-c5ce-48ca-a9fb-3634996ae3e2",
      "metadata": {
        "id": "0fbc9e49-c5ce-48ca-a9fb-3634996ae3e2"
      },
      "outputs": [],
      "source": [
        "p_A_if_H = 0.99\n",
        "p_H = 1. / 10000\n",
        "p_A_if_NOT_H = 1 - p_A_if_H\n",
        "p_NOT_H = 1 - p_H"
      ]
    },
    {
      "cell_type": "code",
      "execution_count": null,
      "id": "88772f4e-17f9-4431-a5ab-90df01ae76fa",
      "metadata": {
        "id": "88772f4e-17f9-4431-a5ab-90df01ae76fa",
        "outputId": "7c6011cc-01f0-40fd-f500-a34b5930303e"
      },
      "outputs": [
        {
          "data": {
            "text/plain": [
              "0.009803921568627442"
            ]
          },
          "execution_count": 38,
          "metadata": {},
          "output_type": "execute_result"
        }
      ],
      "source": [
        "p_H_if_A = p_A_if_H * p_H / (p_A_if_H * p_H + p_A_if_NOT_H * (p_NOT_H))\n",
        "p_H_if_A"
      ]
    },
    {
      "cell_type": "markdown",
      "id": "ebb27c10-4ec7-44fc-8269-59f15809719f",
      "metadata": {
        "id": "ebb27c10-4ec7-44fc-8269-59f15809719f"
      },
      "source": [
        "В спартакиаде участвуют из первой группы 4 студента, из второй – 6, из третьей – 5. Студент из первой группы попадает в сборную института с вероятность 0,9, второй – 0,7, третьей – 0,8. Наудачу выбранный студент попал в сборную. Какова вероятность того, что это студент из второй группы? Ответ округлите до тысячных."
      ]
    },
    {
      "cell_type": "markdown",
      "id": "ef62cd9c-9eb8-4279-adf7-e6e8a0fa00c0",
      "metadata": {
        "id": "ef62cd9c-9eb8-4279-adf7-e6e8a0fa00c0"
      },
      "source": [
        "событие А – 'студент в итоге соревнования попал в сборную.''\n",
        "\n",
        "гипотезу H1 – ''студент из первой группы''\n",
        "\n",
        "гипотезу H2 – ''студент из второй группы''\n",
        "\n",
        "гипотезу H3 – ''студент из третьей группы''\n",
        "\n",
        "k1, k2, k3 - число студентов в соответствующей группе"
      ]
    },
    {
      "cell_type": "code",
      "execution_count": null,
      "id": "be86b28e-690a-4ab9-9779-959417d6f4de",
      "metadata": {
        "id": "be86b28e-690a-4ab9-9779-959417d6f4de"
      },
      "outputs": [],
      "source": [
        "k1, k2, k3 = 4, 6, 5\n",
        "p_A_H1, p_A_H2, p_A_H3 = 0.9, 0.7, 0.8\n",
        "k_all = sum([k1, k2, k3])"
      ]
    },
    {
      "cell_type": "code",
      "execution_count": null,
      "id": "bb1f4585-9bbe-4dd8-8937-df2d163078b5",
      "metadata": {
        "id": "bb1f4585-9bbe-4dd8-8937-df2d163078b5",
        "outputId": "2e56b504-d8c0-4a3b-b71b-970fe7a18b45"
      },
      "outputs": [
        {
          "data": {
            "text/plain": [
              "(0.3050847457627119, 0.3559322033898305, 0.33898305084745767)"
            ]
          },
          "execution_count": 46,
          "metadata": {},
          "output_type": "execute_result"
        }
      ],
      "source": [
        "p_H1 = k1 / k_all\n",
        "p_H2 = k2 / k_all\n",
        "p_H3 = k3 / k_all\n",
        "\n",
        "p_A = p_H1*p_A_H1 + p_H2*p_A_H2 + p_H3*p_A_H3\n",
        "\n",
        "p_H1_A = p_H1 * p_A_H1 / p_A\n",
        "p_H2_A = p_H2 * p_A_H2 / p_A\n",
        "p_H3_A = p_H3 * p_A_H3 / p_A\n",
        "\n",
        "(p_H1_A, p_H2_A, p_H3_A)"
      ]
    },
    {
      "cell_type": "markdown",
      "id": "0375c803-3aea-41d1-9584-d7fc49c1f9ff",
      "metadata": {
        "id": "0375c803-3aea-41d1-9584-d7fc49c1f9ff"
      },
      "source": [
        "В студенческой группе 10 девушек и 15 юношей. На конференцию выбирают 5 делегатов. Найдите вероятность того, что в числе делегатов окажется хотя бы один юноша. Ответ округлите до тысячных."
      ]
    },
    {
      "cell_type": "code",
      "execution_count": null,
      "id": "8078eb11-270f-4c28-8ab1-8918ffe8cfab",
      "metadata": {
        "id": "8078eb11-270f-4c28-8ab1-8918ffe8cfab"
      },
      "outputs": [],
      "source": [
        "from math import factorial as fac"
      ]
    },
    {
      "cell_type": "code",
      "execution_count": null,
      "id": "f54c24d1-9101-4b70-a1b8-e8269fbc0d08",
      "metadata": {
        "id": "f54c24d1-9101-4b70-a1b8-e8269fbc0d08",
        "outputId": "35673bcc-326c-4f29-e858-8c45ce10245a"
      },
      "outputs": [
        {
          "data": {
            "text/plain": [
              "0.9952569169960476"
            ]
          },
          "execution_count": 62,
          "metadata": {},
          "output_type": "execute_result"
        }
      ],
      "source": [
        "c_1_15 = fac(15) / (fac(1) * fac(14))\n",
        "c_2_15 = fac(15) / (fac(2) * fac(13))\n",
        "c_3_15 = fac(15) / (fac(3) * fac(12))\n",
        "c_4_15 = fac(15) / (fac(4) * fac(11))\n",
        "c_5_15 = fac(15) / (fac(5) * fac(10))\n",
        "\n",
        "c_4_10 = fac(10) / (fac(4) * fac(6))\n",
        "c_3_10 = fac(10) / (fac(3) * fac(7))\n",
        "c_2_10 = fac(10) / (fac(2) * fac(8))\n",
        "c_1_10 = fac(10) / (fac(1) * fac(9))\n",
        "\n",
        "c_5_25 = fac(25) / (fac(5) * fac(20))\n",
        "\n",
        "p1 = c_1_15 * c_4_10 / c_5_25\n",
        "p2 = c_2_15 * c_3_10 / c_5_25\n",
        "p3 = c_3_15 * c_2_10 / c_5_25\n",
        "p4 = c_4_15 * c_1_10 / c_5_25\n",
        "p5 = c_5_15 / c_5_25\n",
        "p = sum([p1, p2, p3, p4, p5])\n",
        "p"
      ]
    },
    {
      "cell_type": "code",
      "execution_count": null,
      "id": "ea08d195-3c7f-4ff0-824e-1f57d740a1b3",
      "metadata": {
        "id": "ea08d195-3c7f-4ff0-824e-1f57d740a1b3",
        "outputId": "b52e8c57-76a3-43c5-f312-05d2dc21c4d0"
      },
      "outputs": [
        {
          "data": {
            "text/plain": [
              "0.4945054945054945"
            ]
          },
          "execution_count": 57,
          "metadata": {},
          "output_type": "execute_result"
        }
      ],
      "source": [
        "c_1_5 = fac(5) / (fac(1) * fac(4))\n",
        "c_2_10 = fac(10) / (fac(2) * fac(8))\n",
        "c_3_15 = fac(15) / (fac(3) * fac(12))\n",
        "\n",
        "p = c_1_5 * c_2_10 / c_3_15\n",
        "p"
      ]
    },
    {
      "cell_type": "code",
      "execution_count": null,
      "id": "4e35c6d3-d61a-4ed5-961d-42f081b1eab4",
      "metadata": {
        "id": "4e35c6d3-d61a-4ed5-961d-42f081b1eab4"
      },
      "outputs": [],
      "source": [
        "FOR TEST"
      ]
    }
  ],
  "metadata": {
    "kernelspec": {
      "display_name": "Python 3 (ipykernel)",
      "language": "python",
      "name": "python3"
    },
    "language_info": {
      "codemirror_mode": {
        "name": "ipython",
        "version": 3
      },
      "file_extension": ".py",
      "mimetype": "text/x-python",
      "name": "python",
      "nbconvert_exporter": "python",
      "pygments_lexer": "ipython3",
      "version": "3.9.12"
    },
    "colab": {
      "name": "services.ipynb",
      "provenance": [],
      "include_colab_link": true
    }
  },
  "nbformat": 4,
  "nbformat_minor": 5
}