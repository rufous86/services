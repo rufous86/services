{
  "nbformat": 4,
  "nbformat_minor": 0,
  "metadata": {
    "colab": {
      "provenance": [],
      "authorship_tag": "ABX9TyPchju3JUMI7epBBKq4SQAg",
      "include_colab_link": true
    },
    "kernelspec": {
      "name": "python3",
      "display_name": "Python 3"
    },
    "language_info": {
      "name": "python"
    }
  },
  "cells": [
    {
      "cell_type": "markdown",
      "metadata": {
        "id": "view-in-github",
        "colab_type": "text"
      },
      "source": [
        "<a href=\"https://colab.research.google.com/github/rufous86/studies/blob/main/sqlite_chinook.ipynb\" target=\"_parent\"><img src=\"https://colab.research.google.com/assets/colab-badge.svg\" alt=\"Open In Colab\"/></a>"
      ]
    },
    {
      "cell_type": "markdown",
      "source": [
        "> **Python: Работа с базой данных, часть 1/2: Используем DB-API**\n",
        "\n",
        "\n"
      ],
      "metadata": {
        "id": "8ZMwblZxXIk6"
      }
    },
    {
      "cell_type": "markdown",
      "source": [
        "https://habr.com/ru/post/321510/\n",
        "\n",
        "Python DB-API – это не конкретная библиотека, а набор правил, которым подчиняются отдельные модули, реализующие работу с конкретными базами данных. Отдельные нюансы реализации для разных баз могут отличаться, но общие принципы позволяют использовать один и тот же подход при работе с разными базами данных.\n",
        "\n",
        "[![](https://habrastorage.org/r/w1560/files/38a/503/ff2/38a503ff27b846e4aac2411fb0fdf614.png 'python db-api')]"
      ],
      "metadata": {
        "id": "k3_9b9OpXTeg"
      }
    },
    {
      "cell_type": "markdown",
      "source": [
        "В статье рассмотрены основные методы DB-API, позволяющие полноценно работать с базой данных. Полный список можете найти по ссылкам в конец статьи.\n",
        "\n",
        "Требуемый уровень подготовки: базовое понимание синтаксиса SQL и Python.\n",
        "\n",
        "Готовим инвентарь для дальнейшей комфортной работы\n",
        "\n",
        "Python имеет встроенную поддержку SQLite базы данных, для этого вам не надо ничего дополнительно устанавливать, достаточно в скрипте указать импорт стандартной библиотеки\n",
        "\n",
        "    import sqlite3\n",
        "\n",
        "Скачаем тестовую базу данных, с которой будем работать. В данной статье будет использоваться открытая (MIT лицензия) тестовая база данных “Chinook”. Скачать ее можно с репозитория:\n",
        "\n",
        "github.com/lerocha/chinook-database\n",
        "Нам нужен для работы только бинарный файл “Chinook_Sqlite.sqlite”:\n",
        "\n",
        "`github.com/lerocha/chinook-database/blob/master/ChinookDatabase/DataSources/Chinook_Sqlite.sqlite`\n",
        "\n",
        "Для удобства работы с базой (просмотр, редактирование) нам нужна программа браузер баз данных, поддерживающая SQLite. В статье работа с браузером не рассматривается, но он поможет Вам наглядно видеть что происходит с базой в процессе наших экспериментов.\n",
        "\n",
        "Примечание: внося изменения в базу не забудьте их применить, так как база с непримененными изменениями остается залоченной.\n",
        "\n",
        "Вы можете использовать (последние два варианта кросс-платформенные и бесплатные):\n",
        "\n",
        "Привычную вам утилиту для работы с базой в составе вашей IDE;\n",
        "\n",
        "- SQLite Database Browser\n",
        "- SQLiteStudio\n"
      ],
      "metadata": {
        "id": "8wJHe_YMYVjq"
      }
    },
    {
      "cell_type": "code",
      "execution_count": null,
      "metadata": {
        "colab": {
          "base_uri": "https://localhost:8080/"
        },
        "id": "9zveVMRgWoj-",
        "outputId": "db0b06fc-62f7-4823-ce9b-aeacc88c5345"
      },
      "outputs": [
        {
          "output_type": "stream",
          "name": "stdout",
          "text": [
            "--2022-10-09 06:07:36--  https://github.com/lerocha/chinook-database/raw/master/ChinookDatabase/DataSources/Chinook_Sqlite.sqlite\n",
            "Resolving github.com (github.com)... 192.30.255.113\n",
            "Connecting to github.com (github.com)|192.30.255.113|:443... connected.\n",
            "HTTP request sent, awaiting response... 302 Found\n",
            "Location: https://raw.githubusercontent.com/lerocha/chinook-database/master/ChinookDatabase/DataSources/Chinook_Sqlite.sqlite [following]\n",
            "--2022-10-09 06:07:37--  https://raw.githubusercontent.com/lerocha/chinook-database/master/ChinookDatabase/DataSources/Chinook_Sqlite.sqlite\n",
            "Resolving raw.githubusercontent.com (raw.githubusercontent.com)... 185.199.111.133, 185.199.109.133, 185.199.108.133, ...\n",
            "Connecting to raw.githubusercontent.com (raw.githubusercontent.com)|185.199.111.133|:443... connected.\n",
            "HTTP request sent, awaiting response... 200 OK\n",
            "Length: 1067008 (1.0M) [application/octet-stream]\n",
            "Saving to: ‘Chinook_Sqlite.sqlite’\n",
            "\n",
            "Chinook_Sqlite.sqli 100%[===================>]   1.02M  --.-KB/s    in 0.04s   \n",
            "\n",
            "2022-10-09 06:07:37 (27.5 MB/s) - ‘Chinook_Sqlite.sqlite’ saved [1067008/1067008]\n",
            "\n"
          ]
        }
      ],
      "source": [
        "! wget https://github.com/lerocha/chinook-database/raw/master/ChinookDatabase/DataSources/Chinook_Sqlite.sqlite"
      ]
    },
    {
      "cell_type": "markdown",
      "source": [
        "Соединение с базой, получение курсора\n",
        "\n",
        "Для начала рассмотрим самый базовый шаблон DB-API, который будем использовать во всех дальнейших примерах:"
      ],
      "metadata": {
        "id": "SuIFbfHBYyHC"
      }
    },
    {
      "cell_type": "markdown",
      "source": [
        "#Чтение из базы"
      ],
      "metadata": {
        "id": "6Cxj7L3vY9Ul"
      }
    },
    {
      "cell_type": "code",
      "source": [
        "# Импортируем библиотеку, соответствующую типу нашей базы данных \n",
        "import sqlite3\n",
        "\n",
        "# Создаем соединение с нашей базой данных\n",
        "# В нашем примере у нас это просто файл базы\n",
        "conn = sqlite3.connect('Chinook_Sqlite.sqlite')\n",
        "\n",
        "# Создаем курсор - это специальный объект который делает запросы и получает их результаты\n",
        "cursor = conn.cursor()\n",
        "\n",
        "# ТУТ БУДЕТ НАШ КОД РАБОТЫ С БАЗОЙ ДАННЫХ\n",
        "# КОД ДАЛЬНЕЙШИХ ПРИМЕРОВ ВСТАВЛЯТЬ В ЭТО МЕСТО\n",
        "\n",
        "# Делаем SELECT запрос к базе данных, используя обычный SQL-синтаксис\n",
        "cursor.execute(\"SELECT Name FROM Artist ORDER BY Name LIMIT 3\")\n",
        "\n",
        "# Получаем результат сделанного запроса\n",
        "results = cursor.fetchall()\n",
        "results2 =  cursor.fetchall()\n",
        "\n",
        "print(results)   # [('A Cor Do Som',), ('Aaron Copland & London Symphony Orchestra',), ('Aaron Goldberg',)]\n",
        "print(results2)  # []\n",
        "\n",
        "# Не забываем закрыть соединение с базой данных\n",
        "conn.close()"
      ],
      "metadata": {
        "colab": {
          "base_uri": "https://localhost:8080/"
        },
        "id": "3opbU2BiWyIt",
        "outputId": "f6c23254-5aea-4aa9-e995-070e1b3546c6"
      },
      "execution_count": null,
      "outputs": [
        {
          "output_type": "stream",
          "name": "stdout",
          "text": [
            "[('A Cor Do Som',), ('AC/DC',), ('Aaron Copland & London Symphony Orchestra',)]\n",
            "[]\n"
          ]
        }
      ]
    },
    {
      "cell_type": "markdown",
      "source": [
        "Обратите внимание: После получения результата из курсора, второй раз без повторения самого запроса его получить нельзя — вернется пустой результат!"
      ],
      "metadata": {
        "id": "gdr684-9W4Rq"
      }
    },
    {
      "cell_type": "markdown",
      "source": [
        "#Запись в базу"
      ],
      "metadata": {
        "id": "YnAcbHcjZHEO"
      }
    },
    {
      "cell_type": "code",
      "source": [
        "conn = sqlite3.connect('Chinook_Sqlite.sqlite')\n",
        "cursor = conn.cursor()\n",
        "# Делаем INSERT запрос к базе данных, используя обычный SQL-синтаксис\n",
        "cursor.execute(\"insert into Artist values (Null, 'A Aagrh!') \")\n",
        "\n",
        "# Если мы не просто читаем, но и вносим изменения в базу данных - необходимо сохранить транзакцию\n",
        "conn.commit()\n",
        "\n",
        "# Проверяем результат\n",
        "cursor.execute(\"SELECT Name FROM Artist ORDER BY Name LIMIT 3\")\n",
        "results = cursor.fetchall()\n",
        "print(results)  # [('A Aagrh!',), ('A Cor Do Som',), ('Aaron Copland & London Symphony Orchestra',)]"
      ],
      "metadata": {
        "colab": {
          "base_uri": "https://localhost:8080/"
        },
        "id": "d5PQlJLiZJtm",
        "outputId": "c7d3a437-bf1f-405b-8354-f9d46c6cd160"
      },
      "execution_count": null,
      "outputs": [
        {
          "output_type": "stream",
          "name": "stdout",
          "text": [
            "[('A Aagrh!',), ('A Cor Do Som',), ('AC/DC',)]\n"
          ]
        }
      ]
    },
    {
      "cell_type": "markdown",
      "source": [
        "Примечание: Если к базе установлено несколько соединений и одно из них осуществляет модификацю базы, то база SQLite залочивается до завершения (метод соединения .commit()) или отмены (метод соединения .rollback()) транзакции."
      ],
      "metadata": {
        "id": "1YJKpQzsZlTX"
      }
    },
    {
      "cell_type": "markdown",
      "source": [
        "#Разбиваем запрос на несколько строк в тройных кавычках\n",
        "\n",
        "Длинные запросы можно разбивать на несколько строк в произвольном порядке, если они заключены в тройные кавычки — одинарные ('''…''') или двойные (\"\"\"...\"\"\")\n",
        "\n",
        "    cursor.execute(\"\"\"\n",
        "    SELECT name\n",
        "    FROM Artist\n",
        "    ORDER BY Name LIMIT 3\n",
        "    \"\"\")\n",
        "\n",
        "Конечно в таком простом примере разбивка не имеет смысла, но на сложных длинных запросах она может кардинально повышать читаемость кода.\n"
      ],
      "metadata": {
        "id": "KZDtpK8bZlo5"
      }
    },
    {
      "cell_type": "markdown",
      "source": [
        "#Объединяем запросы к базе данных в один вызов метода\n",
        "Метод курсора `.execute()` позволяет делать только один запрос за раз, при попытке сделать несколько через точку с запятой будет ошибка.\n",
        "\n",
        "Для решения такой задачи можно либо несколько раз вызывать метод курсора `.execute()`\n",
        "\n",
        "    cursor.execute(\"\"\"insert into Artist values (Null, 'A Aagrh!');\"\"\")\n",
        "    cursor.execute(\"\"\"insert into Artist values (Null, 'A Aagrh-2!');\"\"\")\n",
        "\n",
        "Либо использовать метод курсора `.executescript()`\n",
        "\n",
        "    cursor.executescript(\"\"\"\n",
        "    insert into Artist values (Null, 'A Aagrh!');\n",
        "    insert into Artist values (Null, 'A Aagrh-2!');\n",
        "    \"\"\")"
      ],
      "metadata": {
        "id": "aubWAjdpZrVM"
      }
    },
    {
      "cell_type": "markdown",
      "source": [
        "Данный метод также удобен, когда у нас запросы сохранены в отдельной переменной или даже в файле и нам его надо применить такой запрос к базе."
      ],
      "metadata": {
        "id": "SVsMAN8OZ6MM"
      }
    },
    {
      "cell_type": "markdown",
      "source": [
        "#Делаем подстановку значения в запрос\n",
        "\n",
        "**Важно!** Никогда, ни при каких условиях, не используйте конкатенацию строк (+) или интерполяцию параметра в строке (%) для передачи переменных в SQL запрос. Такое формирование запроса, при возможности попадания в него пользовательских данных – это ворота для SQL-инъекций!\n",
        "\n",
        "Правильный способ – использование второго аргумента метода .execute()\n",
        "\n",
        "Возможны два варианта:\n",
        "\n",
        "- C подставновкой по порядку на места знаков вопросов:\n",
        "\n",
        "    `cursor.execute(\"SELECT Name FROM Artist ORDER BY Name LIMIT ?\", ('2'))`\n",
        "\n",
        "- И с использованием именнованных замен:\n",
        "\n",
        "    `cursor.execute(\"SELECT Name from Artist ORDER BY Name LIMIT :limit\", {\"limit\": 3})`\n",
        "\n",
        "Примечание 1: В PostgreSQL (UPD: и в MySQL) вместо знака '?' для подстановки используется: %s\n",
        "\n",
        "Примечание 2: Таким способом не получится заменять имена таблиц, одно из возможных решений в таком случае рассматривается тут: stackoverflow.com/questions/3247183/variable-table-name-in-sqlite/3247553#3247553\n",
        "\n",
        "UPD: Примечание 3: Благодарю Igelko за упоминание параметра paramstyle — он определяет какой именно стиль используется для подстановки переменных в данном модуле.\n",
        "Вот ссылка с полезным приемом для работы с разными стилями подстановок.\n"
      ],
      "metadata": {
        "id": "ELO9s0W5aAI1"
      }
    },
    {
      "cell_type": "markdown",
      "source": [
        "## Делаем множественную вставку строк проходя по коллекции с помощью метода курсора `.executemany()`\n",
        "Обратите внимание, даже передавая одно значение - его нужно передавать кортежем!\n",
        "Именно по этому тут используется запятая в скобках!"
      ],
      "metadata": {
        "id": "iJ1EFfmcaXeN"
      }
    },
    {
      "cell_type": "code",
      "source": [
        "new_artists = [\n",
        "    ('A Aagrh!',),\n",
        "    ('A Aagrh!-2',),\n",
        "    ('A Aagrh!-3',),\n",
        "]\n",
        "cursor.executemany(\"insert into Artist values (Null, ?);\", new_artists)\n"
      ],
      "metadata": {
        "colab": {
          "base_uri": "https://localhost:8080/"
        },
        "id": "e3oJ9y2HajAk",
        "outputId": "c829a3b4-990c-44f9-8803-68f16355dfca"
      },
      "execution_count": null,
      "outputs": [
        {
          "output_type": "execute_result",
          "data": {
            "text/plain": [
              "<sqlite3.Cursor at 0x7fa7f1e45960>"
            ]
          },
          "metadata": {},
          "execution_count": 8
        }
      ]
    },
    {
      "cell_type": "code",
      "source": [
        "from pprint import pprint\n",
        "pprint(cursor.execute(\"SELECT Name FROM Artist ORDER BY Name LIMIT 10\")\n",
        "            .fetchall())"
      ],
      "metadata": {
        "colab": {
          "base_uri": "https://localhost:8080/"
        },
        "id": "jq60t6GOazaz",
        "outputId": "a44f632f-5aca-486b-eb7a-94f17975a024"
      },
      "execution_count": null,
      "outputs": [
        {
          "output_type": "stream",
          "name": "stdout",
          "text": [
            "[('A Aagrh!',),\n",
            " ('A Aagrh!',),\n",
            " ('A Aagrh!-2',),\n",
            " ('A Aagrh!-3',),\n",
            " ('A Cor Do Som',),\n",
            " ('AC/DC',),\n",
            " ('Aaron Copland & London Symphony Orchestra',),\n",
            " ('Aaron Goldberg',),\n",
            " ('Academy of St. Martin in the Fields & Sir Neville Marriner',),\n",
            " ('Academy of St. Martin in the Fields Chamber Ensemble & Sir Neville '\n",
            "  'Marriner',)]\n"
          ]
        }
      ]
    },
    {
      "cell_type": "markdown",
      "source": [
        "#Получаем результаты по одному, используя метод курсора .fetchone()\n",
        "\n",
        "Он всегда возвращает кортеж или None. если запрос пустой."
      ],
      "metadata": {
        "id": "kiPNauG3bYoS"
      }
    },
    {
      "cell_type": "code",
      "source": [
        "cursor.execute(\"SELECT Name FROM Artist ORDER BY Name LIMIT 3\")\n",
        "print(cursor.fetchone())    # ('A Cor Do Som',)\n",
        "print(cursor.fetchone())    # ('Aaron Copland & London Symphony Orchestra',)\n",
        "print(cursor.fetchone())    # ('Aaron Goldberg',)\n",
        "print(cursor.fetchone())    # None"
      ],
      "metadata": {
        "colab": {
          "base_uri": "https://localhost:8080/"
        },
        "id": "yxC9RHVBbZpe",
        "outputId": "ad990f43-fe86-406b-8c96-cb9c9674f8ed"
      },
      "execution_count": null,
      "outputs": [
        {
          "output_type": "stream",
          "name": "stdout",
          "text": [
            "('A Aagrh!',)\n",
            "('A Aagrh!',)\n",
            "('A Aagrh!-2',)\n",
            "None\n"
          ]
        }
      ]
    },
    {
      "cell_type": "markdown",
      "source": [
        "**Важно!** Стандартный курсор забирает все данные с сервера сразу, не зависимо от того, используем мы .fetchall() или .fetchone()"
      ],
      "metadata": {
        "id": "x5o_3MpGbe_u"
      }
    },
    {
      "cell_type": "markdown",
      "source": [
        "#Курсор как итератор"
      ],
      "metadata": {
        "id": "Ee18daczbhdg"
      }
    },
    {
      "cell_type": "code",
      "source": [
        "# Использование курсора как итератора\n",
        "for row in cursor.execute('SELECT Name from Artist ORDER BY Name LIMIT 3'):\n",
        "        print(row)\n",
        "# ('A Cor Do Som',)\n",
        "# ('Aaron Copland & London Symphony Orchestra',)\n",
        "# ('Aaron Goldberg',)"
      ],
      "metadata": {
        "colab": {
          "base_uri": "https://localhost:8080/"
        },
        "id": "NwDGBYAobkW8",
        "outputId": "45930185-06e3-4406-ff7d-5b180502fdbe"
      },
      "execution_count": null,
      "outputs": [
        {
          "output_type": "stream",
          "name": "stdout",
          "text": [
            "('A Aagrh!',)\n",
            "('A Aagrh!',)\n",
            "('A Aagrh!-2',)\n"
          ]
        }
      ]
    },
    {
      "cell_type": "markdown",
      "source": [
        "#UPD: Повышаем устойчивость кода\n",
        "Благодарю paratagas за ценное дополнение:\n",
        "Для большей устойчивости программы (особенно при операциях записи) можно оборачивать инструкции обращения к БД в блоки «try-except-else» и использовать встроенный в sqlite3 «родной» объект ошибок, например, так:\n",
        "\n",
        "    try:\n",
        "        cursor.execute(sql_statement)\n",
        "        result = cursor.fetchall()\n",
        "    except sqlite3.DatabaseError as err:       \n",
        "        print(\"Error: \", err)\n",
        "    else:\n",
        "        conn.commit()"
      ],
      "metadata": {
        "id": "9A3hRCLkbqBz"
      }
    }
  ]
}