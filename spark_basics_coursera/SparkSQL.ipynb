{
  "cells": [
    {
      "cell_type": "markdown",
      "metadata": {
        "id": "612133b5-8012-4ef6-ae9f-feede78ec2c2"
      },
      "source": [
        "# **Introduction to SparkSQL**\n"
      ]
    },
    {
      "cell_type": "markdown",
      "metadata": {
        "id": "c0798504-6766-43eb-97e9-a42ef131b594"
      },
      "source": [
        "Estimated time needed: **15** minutes\n"
      ]
    },
    {
      "cell_type": "markdown",
      "metadata": {
        "id": "99bac7b7-5e94-46eb-981f-af1356f34dee"
      },
      "source": [
        "This lab goes over the basic operations of Apache SparkSQL.\n"
      ]
    },
    {
      "cell_type": "markdown",
      "metadata": {
        "id": "8f6b84fa-f41c-4852-a117-bd0bb80c2b33"
      },
      "source": [
        "![](http://spark.apache.org/images/spark-logo.png)\n"
      ]
    },
    {
      "cell_type": "markdown",
      "metadata": {
        "id": "581c3b21-82a5-4c42-be13-d2fcf4dd3cf6"
      },
      "source": [
        "## Objectives\n"
      ]
    },
    {
      "cell_type": "markdown",
      "metadata": {
        "id": "41f0d339-b2d1-4686-940b-4ca3cafcb732"
      },
      "source": [
        "Spark SQL is a Spark module for structured data processing. It is sed to query structured data inside Spark programs, using either SQL or a familiar DataFrame API.\n",
        "\n",
        "After completing this lab you will be able to:\n"
      ]
    },
    {
      "cell_type": "markdown",
      "metadata": {
        "id": "ed329471-25d4-421b-b4c4-764abf2d8722"
      },
      "source": [
        "* Load a data file into a dataframe\n",
        "* Create a Table View for the dataframe\n",
        "* Run basic SQL queries and aggregate data on the table view\n",
        "* Create a Pandas UDF to perform columnar operations\n"
      ]
    },
    {
      "cell_type": "markdown",
      "metadata": {
        "id": "ae783693-af1c-41dd-886c-a0cc4a8c7497"
      },
      "source": [
        "----\n"
      ]
    },
    {
      "cell_type": "markdown",
      "metadata": {
        "id": "b30976a2-8e57-4ec6-9d81-32c0f7950137"
      },
      "source": [
        "## Setup\n"
      ]
    },
    {
      "cell_type": "markdown",
      "metadata": {
        "id": "4065a3ff-f5c0-4772-8b45-4055e0c3c70c"
      },
      "source": [
        "For this lab, we are going to be using Python and Spark (PySpark). These libraries should be installed in your lab environment or in SN Labs. Pandas is a popular data science package for Python. In this lab, we use Pandas to load a CSV file from disc to a pandas dataframe in memory. PySpark is the Spark API for Python. In this lab, we use PySpark to initialize the spark context.\n"
      ]
    },
    {
      "cell_type": "code",
      "metadata": {
        "id": "af392e79-7e25-4bd5-984a-56685e9e1192"
      },
      "outputs": [],
      "source": [
        "# Installing required packages\n",
        "!pip install pyspark\n",
        "!pip install findspark\n",
        "!pip install pyarrow==0.14.1\n",
        "!pip install pandas\n",
        "!pip install numpy==1.19.5"
      ],
      "execution_count": null
    },
    {
      "cell_type": "code",
      "metadata": {
        "id": "4217f800-61b4-4527-935d-0c3e103124ce"
      },
      "outputs": [],
      "source": [
        "import findspark\n",
        "findspark.init()"
      ],
      "execution_count": null
    },
    {
      "cell_type": "code",
      "metadata": {
        "id": "497d508e-7f4e-42fe-abc9-5eae2a8e1010"
      },
      "outputs": [],
      "source": [
        "import pandas as pd\n",
        "from pyspark import SparkContext, SparkConf\n",
        "from pyspark.sql import SparkSession"
      ],
      "execution_count": null
    },
    {
      "cell_type": "markdown",
      "metadata": {
        "id": "22b7708a-28f6-497d-97e4-d0bd9ee05bdd"
      },
      "source": [
        "## Exercise 1 -  Spark session\n"
      ]
    },
    {
      "cell_type": "markdown",
      "metadata": {
        "id": "9f59b3aa-28fc-4974-8794-0426b03b47e0"
      },
      "source": [
        "Create and initialize the Spark session needed to load the data frames and operate on it\n"
      ]
    },
    {
      "cell_type": "markdown",
      "metadata": {
        "id": "52b097e0-c421-4a94-a862-d4e21709471b"
      },
      "source": [
        "#### Task 1: Creating the spark session and context\n"
      ]
    },
    {
      "cell_type": "code",
      "metadata": {
        "id": "2ee4116c-d061-4cd7-9ba0-fa26db590352"
      },
      "outputs": [],
      "source": [
        "# Creating a spark context class\n",
        "sc = SparkContext()\n",
        "\n",
        "# Creating a spark session\n",
        "spark = SparkSession \\\n",
        "    .builder \\\n",
        "    .appName(\"Python Spark DataFrames basic example\") \\\n",
        "    .config(\"spark.some.config.option\", \"some-value\") \\\n",
        "    .getOrCreate()"
      ],
      "execution_count": null
    },
    {
      "cell_type": "markdown",
      "metadata": {
        "id": "c66250d8-5eab-4f2c-9b3f-016e5559dcdc"
      },
      "source": [
        "#### Task 2: Initialize Spark session\n",
        "To work with dataframes we just need to verify that the spark session instance has been created.\n"
      ]
    },
    {
      "cell_type": "code",
      "metadata": {
        "id": "69d5f8d4-e691-45ff-a9c8-a44169cb3483"
      },
      "outputs": [],
      "source": [
        "spark"
      ],
      "execution_count": null
    },
    {
      "cell_type": "markdown",
      "metadata": {
        "id": "5b6725da-5526-4ad6-a4a7-0aa7de371411"
      },
      "source": [
        "## Exercise 2 - Loading the Data and creating a table view\n"
      ]
    },
    {
      "cell_type": "markdown",
      "metadata": {
        "id": "dc0d4508-b216-43b1-bc41-3c35a6d07c6d"
      },
      "source": [
        "In this section, you will first read the CSV file into a Pandas Dataframe and then read it into a Spark Dataframe\n",
        "Pandas is a library used for data manipulation and analysis. The Pandas library offers data structures and operations for creating and manipulating Data Series and DataFrame objects. Data can be imported from various data sources, e.g., Numpy arrays, Python dictionaries, and CSV files. Pandas allows you to manipulate, organize and display the data.\n",
        "\n",
        "To create a Spark DataFrame we load an external DataFrame, called `mtcars`. This DataFrame includes 32 observations on 11 variables:\n",
        "\n",
        "| colIndex | colName | units/description |\n",
        "| :---: | :--- | :--- |\n",
        "|[, 1] | mpg |Miles per gallon  |\n",
        "|[, 2] | cyl | Number of cylinders  |\n",
        "|[, 3] | disp | Displacement (cu.in.) |  \n",
        "|[, 4] | hp  | Gross horsepower  |\n",
        "|[, 5] | drat | Rear axle ratio  |\n",
        "|[, 6] | wt | Weight (lb/1000)  |\n",
        "|[, 7] | qsec | 1/4 mile time  |\n",
        "|[, 8] | vs  | V/S  |\n",
        "|[, 9] | am | Transmission (0 = automatic, 1 = manual)  |\n",
        "|[,10] | gear | Number of forward gears  |\n",
        "|[,11] | carb | Number of carburetors |\n"
      ]
    },
    {
      "cell_type": "markdown",
      "metadata": {
        "id": "146e88ee-cd16-40ae-a09f-f35dbc662c1e"
      },
      "source": [
        "#### Task 1: Load data into a Pandas DataFrame.\n",
        "\n",
        "Pandas has a convenient function to load CSV data from a URL directly into a pandas dataframe.\n"
      ]
    },
    {
      "cell_type": "code",
      "metadata": {
        "id": "523a2c58-2e9a-4482-ac46-91d2e3ae523a"
      },
      "outputs": [],
      "source": [
        "# Read the file using `read_csv` function in pandas\n",
        "mtcars = pd.read_csv('https://cf-courses-data.s3.us.cloud-object-storage.appdomain.cloud/IBM-BD0225EN-SkillsNetwork/labs/data/mtcars.csv')"
      ],
      "execution_count": null
    },
    {
      "cell_type": "code",
      "metadata": {
        "id": "a8190689-ba1b-4bb0-82a3-304bb55ede46"
      },
      "outputs": [],
      "source": [
        "# Preview a few records\n",
        "mtcars.head()"
      ],
      "execution_count": null
    },
    {
      "cell_type": "code",
      "metadata": {
        "id": "ed46e456-bffe-451f-8f1d-be5e228bc7fa"
      },
      "outputs": [],
      "source": [
        "mtcars.rename( columns={'Unnamed: 0':'name'}, inplace=True )"
      ],
      "execution_count": null
    },
    {
      "cell_type": "markdown",
      "metadata": {
        "id": "3d85630c-bbaf-4554-b107-4cde7a8895cb"
      },
      "source": [
        "#### Task 2: Loading data into a Spark DataFrame\n"
      ]
    },
    {
      "cell_type": "markdown",
      "metadata": {
        "id": "211f620a-17b0-4839-8fbd-071b13c7c1e8"
      },
      "source": [
        "We use the `createDataFrame` function to load the data into a spark dataframe\n"
      ]
    },
    {
      "cell_type": "code",
      "metadata": {
        "id": "2a1fe610-587c-414a-8b91-b03e624f957c"
      },
      "outputs": [],
      "source": [
        "sdf = spark.createDataFrame(mtcars)"
      ],
      "execution_count": null
    },
    {
      "cell_type": "markdown",
      "metadata": {
        "id": "dcf5b29d-72ff-4893-9fe4-0adeed426d66"
      },
      "source": [
        "Let us look at the schema of the loaded spark dataframe\n"
      ]
    },
    {
      "cell_type": "code",
      "metadata": {
        "id": "e630a5be-6dbf-49c9-b907-f76e8d02e0b3"
      },
      "outputs": [],
      "source": [
        "sdf.printSchema()"
      ],
      "execution_count": null
    },
    {
      "cell_type": "markdown",
      "metadata": {
        "id": "f4f78ed8-9906-4ff4-82e2-8179ab5973ed"
      },
      "source": [
        "#### Task 3: Create a Table View\n",
        "Creating a table view in Spark SQL is required to run SQL queries programmatically on a DataFrame. A view is a temporary table to run SQL queries. A Temporary view provides local scope within the current Spark session. In this example we create a temporary view using the `createTempView()` function\n"
      ]
    },
    {
      "cell_type": "code",
      "metadata": {
        "id": "04d6c16f-19c7-43f9-aa66-5ac40a722fde"
      },
      "outputs": [],
      "source": [
        "sdf.createTempView(\"cars\")"
      ],
      "execution_count": null
    },
    {
      "cell_type": "markdown",
      "metadata": {
        "id": "e457371d-0a42-4973-87d4-3932803d843c"
      },
      "source": [
        "## Exercise 3 - Running SQL queries and aggregating data\n"
      ]
    },
    {
      "cell_type": "markdown",
      "metadata": {
        "id": "d7cb9c20-4d30-4d1e-b5ac-a9bf064c23b5"
      },
      "source": [
        "Once we have a table view, we can run queries similar to querying a SQL table. We perform similar operations to the ones in the DataFrames notebook. Note the difference here however is that we use the SQL queries directly.\n"
      ]
    },
    {
      "cell_type": "code",
      "metadata": {
        "id": "b6eee5b3-65da-480d-aedb-87f696133743"
      },
      "outputs": [],
      "source": [
        "# Showing the whole table\n",
        "spark.sql(\"SELECT * FROM cars\").show()"
      ],
      "execution_count": null
    },
    {
      "cell_type": "code",
      "metadata": {
        "id": "2fb852af-fc02-4d9a-98ed-f94b345e969b"
      },
      "outputs": [],
      "source": [
        "# Showing a specific column\n",
        "spark.sql(\"SELECT mpg FROM cars\").show(5)"
      ],
      "execution_count": null
    },
    {
      "cell_type": "code",
      "metadata": {
        "id": "a15b111d-aceb-44e5-8fdb-741640ff38a6"
      },
      "outputs": [],
      "source": [
        "# Basic filtering query to determine cars that have a high mileage and low cylinder count\n",
        "spark.sql(\"SELECT * FROM cars where mpg>20 AND cyl < 6\").show(5)"
      ],
      "execution_count": null
    },
    {
      "cell_type": "code",
      "metadata": {
        "id": "6f654af1-a0d1-452c-bec3-1c7f3b7d2ca8"
      },
      "outputs": [],
      "source": [
        "# Aggregating data and grouping by cylinders\n",
        "spark.sql(\"SELECT count(*), cyl from cars GROUP BY cyl\").show()"
      ],
      "execution_count": null
    },
    {
      "cell_type": "markdown",
      "metadata": {
        "id": "364f2b5c-b892-4b99-9362-b155263e36e4"
      },
      "source": [
        "## Exercise 4 - Create a Pandas UDF to apply a columnar operation\n",
        "Apache Spark has become the de-facto standard in processing big data. To enable data scientists to leverage the value of big data, Spark added a Python API in version 0.7, with support for user-defined functions (UDF). These user-defined functions operate one-row-at-a-time, and thus suffer from high serialization and invocation overhead. As a result, many data pipelines define UDFs in Java and Scala and then invoke them from Python.\n",
        "\n",
        "Pandas UDFs built on top of Apache Arrow bring you the _best of both worlds_—the ability to define low-overhead, high-performance UDFs entirely in Python. In this simple example, we will build a Scalar Pandas UDF to convert the wT column from imperial units (1000-lbs) to metric units (metric tons).\n",
        "\n",
        "In addition, UDFs can be registered and invoked in SQL out of the box by registering a regular python function using the `@pandas_udf()` decorator. We can then apply this UDF to our `wt` column.\n"
      ]
    },
    {
      "cell_type": "markdown",
      "metadata": {
        "id": "ac737104-11df-47a9-b1b2-987a234e743a"
      },
      "source": [
        "#### Task 1: Importing libraries and registering a UDF\n"
      ]
    },
    {
      "cell_type": "code",
      "metadata": {
        "id": "aa976510-7de8-462d-8bcb-c6e1c1d4d238"
      },
      "outputs": [],
      "source": [
        "# import the Pandas UDF function\n",
        "from pyspark.sql.functions import pandas_udf, PandasUDFType"
      ],
      "execution_count": null
    },
    {
      "cell_type": "code",
      "metadata": {
        "id": "52f11fa4-fa61-4856-ab94-12889477f0bb"
      },
      "outputs": [],
      "source": [
        "@pandas_udf(\"float\")\n",
        "def convert_wt(s: pd.Series) -> pd.Series:\n",
        "    # The formula for converting from imperial to metric tons\n",
        "    return s * 0.45\n",
        "\n",
        "spark.udf.register(\"convert_weight\", convert_wt)"
      ],
      "execution_count": null
    },
    {
      "cell_type": "markdown",
      "metadata": {
        "id": "6ff9fcd5-bab2-4de2-84ad-b5f6bcdf1911"
      },
      "source": [
        "#### Task 2: Applying the UDF to the tableview\n",
        "\n",
        "We can now apply the `convert_weight` user-defined-function to our `wt` column from the `cars` table view. This is done very simply using the SQL query shown below. In this example below we show both the original weight (in ton-lbs) and converted weight (in metric tons).\n"
      ]
    },
    {
      "cell_type": "code",
      "metadata": {
        "id": "5ca39ad8-769e-4031-b13b-1ec4ce262ec1"
      },
      "outputs": [],
      "source": [
        "spark.sql(\"SELECT *, wt AS weight_imperial, convert_weight(wt) as weight_metric FROM cars\").show()"
      ],
      "execution_count": null
    },
    {
      "cell_type": "markdown",
      "metadata": {
        "id": "54df0d10-382c-42ce-8616-547b46c4e44c"
      },
      "source": [
        "### Practice Questions\n"
      ]
    },
    {
      "cell_type": "markdown",
      "metadata": {
        "id": "faa44f0e-171b-4081-800a-0b74e7662319"
      },
      "source": [
        "### Question 1 - Basic SQL operations\n"
      ]
    },
    {
      "cell_type": "markdown",
      "metadata": {
        "id": "7c2adc5d-9424-4c7a-941b-6459c82027ba"
      },
      "source": [
        "Display all Mercedez car rows from the `cars` table view we created earlier. The Mercedez cars have the prefix \"Merc\" in the car name column.\n"
      ]
    },
    {
      "cell_type": "code",
      "metadata": {
        "id": "62a91092-b2dc-493e-8ae5-91f0e1345a4b"
      },
      "outputs": [],
      "source": [
        "# Code block for learners to answer"
      ],
      "execution_count": null
    },
    {
      "cell_type": "markdown",
      "metadata": {
        "id": "c8ced3c0-7904-4e38-9939-2ce33e9209de"
      },
      "source": [
        "Double-click **here** for a hint.\n",
        "\n",
        "<!-- The hint is below:\n",
        "\n",
        "The SQL query word `like` is used to identify patterns.\n",
        "\n",
        "-->\n"
      ]
    },
    {
      "cell_type": "markdown",
      "metadata": {
        "id": "3ce8965f-e816-4914-bcf2-67a5251975cf"
      },
      "source": [
        "Double-click **here** for the solution.\n",
        "\n",
        "<!-- The answer is below:\n",
        "\n",
        "spark.sql(\"SELECT * FROM cars where name like 'Merc%'\").show()\n",
        "\n",
        "-->\n"
      ]
    },
    {
      "cell_type": "markdown",
      "metadata": {
        "id": "748b4a32-d018-4e09-824a-e60ea12b00af"
      },
      "source": [
        "### Question 2 - User Defined Functions\n"
      ]
    },
    {
      "cell_type": "markdown",
      "metadata": {
        "id": "787bbec4-35ed-4be0-8ebd-f33e2fc45722"
      },
      "source": [
        "In this notebook, we created a UDF to convert weight from imperial to metric units. Now for this exercise, please create a pandas UDF to convert the `mpg` column to `kmpl` (kilometers per liter). You can use the conversion factor of 0.425.\n"
      ]
    },
    {
      "cell_type": "code",
      "metadata": {
        "id": "fedcb2a1-7d76-4d00-84b2-798243d6f1d6"
      },
      "outputs": [],
      "source": [
        "# Code block for learners to answer"
      ],
      "execution_count": null
    },
    {
      "cell_type": "markdown",
      "metadata": {
        "id": "d76922bf-f844-4617-b347-c07f401f062f"
      },
      "source": [
        "Double-click **here** for the solution.\n",
        "\n",
        "<!-- The answer is below:\n",
        "\n",
        "@pandas_udf(\"float\")\n",
        "def convert_mileage(s: pd.Series) -> pd.Series:\n",
        "    # The formula for converting from imperial to metric tons\n",
        "    return s * 0.425\n",
        "\n",
        "spark.udf.register(\"convert_mileage\", convert_mileage)\n",
        "\n",
        "spark.sql(\"SELECT *, mpg AS mpg, convert_weight(mpg) as kmpl FROM cars\").show()\n",
        "-->\n"
      ]
    }
  ],
  "metadata": {
    "kernelspec": {
      "display_name": "Python",
      "language": "python",
      "name": "conda-env-python-py"
    },
    "language_info": {
      "name": ""
    },
    "colab": {
      "provenance": []
    }
  },
  "nbformat": 4,
  "nbformat_minor": 0
}