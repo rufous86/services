{
  "cells": [
    {
      "cell_type": "markdown",
      "metadata": {
        "id": "zCG2LPBGKqfo"
      },
      "source": [
        "[colab](https://colab.research.google.com/github/rufous86/studies/blob/main/DLS_NLP/02_hw_embedding_based_word_ranking/solution_simple_embeddings.ipynb)"
      ]
    },
    {
      "cell_type": "markdown",
      "metadata": {
        "id": "Ot3c4fjZwC4T"
      },
      "source": [
        "<img src=\"https://s8.hostingkartinok.com/uploads/images/2018/08/308b49fcfbc619d629fe4604bceb67ac.jpg\" width=500, height=450>\n",
        "<h3 style=\"text-align: center;\"><b>Физтех-Школа Прикладной математики и информатики (ФПМИ) МФТИ</b></h3>"
      ]
    },
    {
      "cell_type": "markdown",
      "metadata": {
        "id": "P2JdzEXmwRU5"
      },
      "source": [
        "---"
      ]
    },
    {
      "cell_type": "markdown",
      "metadata": {
        "id": "Fc8iHXIVwDwj"
      },
      "source": [
        "***Some parts of the notebook are almost the copy of [ mmta-team course](https://github.com/mmta-team/mmta_fall_2020). Special thanks to mmta-team for making them publicly available. [Original notebook](https://github.com/mmta-team/mmta_fall_2020/blob/master/tasks/01_word_embeddings/task_word_embeddings.ipynb).***"
      ]
    },
    {
      "cell_type": "markdown",
      "metadata": {
        "id": "7D0wm5jt6j0U"
      },
      "source": [
        "<b> Прочитайте семинар, пожалуйста, для успешного выполнения домашнего задания. В конце ноутка напишите свой вывод. Работа без вывода оценивается ниже."
      ]
    },
    {
      "cell_type": "markdown",
      "metadata": {
        "id": "BIWqBuEa6j0b"
      },
      "source": [
        "## Задача поиска схожих по смыслу предложений"
      ]
    },
    {
      "cell_type": "markdown",
      "metadata": {
        "id": "NUkwMPLA6j0g"
      },
      "source": [
        "Мы будем ранжировать вопросы [StackOverflow](https://stackoverflow.com) на основе семантического векторного представления "
      ]
    },
    {
      "cell_type": "markdown",
      "metadata": {
        "id": "dNRXIEfu5a3Q"
      },
      "source": [
        "До этого в курсе не было речи про задачу ранжировния, поэтому введем математическую формулировку"
      ]
    },
    {
      "cell_type": "markdown",
      "metadata": {
        "id": "uS9FwWNd5a3S"
      },
      "source": [
        "## Задача ранжирования(Learning to Rank)"
      ]
    },
    {
      "cell_type": "markdown",
      "metadata": {
        "id": "wdwY9-f75a3T"
      },
      "source": [
        "* $X$ - множество объектов\n",
        "* $X^l = \\{x_1, x_2, ..., x_l\\}$ - обучающая выборка\n",
        "<br>На обучающей выборке задан порядок между некоторыми элементами, то есть нам известно, что некий объект выборки более релевантный для нас, чем другой:\n",
        "* $i \\prec j$ - порядок пары индексов объектов на выборке $X^l$ c индексами $i$ и $j$\n",
        "### Задача:\n",
        "построить ранжирующую функцию $a$ : $X \\rightarrow R$ такую, что\n",
        "$$i \\prec j \\Rightarrow a(x_i) < a(x_j)$$"
      ]
    },
    {
      "cell_type": "markdown",
      "metadata": {
        "id": "WG2IGBsh5a3U"
      },
      "source": [
        "<img src=\"https://d25skit2l41vkl.cloudfront.net/wp-content/uploads/2016/12/Featured-Image.jpg\" width=500, height=450>"
      ]
    },
    {
      "cell_type": "markdown",
      "metadata": {
        "id": "MQk_rolFwT_h"
      },
      "source": [
        "### Embeddings"
      ]
    },
    {
      "cell_type": "markdown",
      "metadata": {
        "id": "xUe1PGXn6j0l"
      },
      "source": [
        "Будем использовать предобученные векторные представления слов на постах Stack Overflow.<br>\n",
        "[A word2vec model trained on Stack Overflow posts](https://github.com/vefstathiou/SO_word2vec)"
      ]
    },
    {
      "cell_type": "code",
      "execution_count": 60,
      "metadata": {
        "colab": {
          "base_uri": "https://localhost:8080/"
        },
        "id": "mYkI54Y-rk7a",
        "outputId": "9b1179b3-21f5-4291-b6d4-5aa30e897b1e"
      },
      "outputs": [
        {
          "output_type": "stream",
          "name": "stdout",
          "text": [
            "--2023-05-16 07:39:16--  https://zenodo.org/record/1199620/files/SO_vectors_200.bin?download=1\n",
            "Resolving zenodo.org (zenodo.org)... 188.185.124.72\n",
            "Connecting to zenodo.org (zenodo.org)|188.185.124.72|:443... connected.\n",
            "HTTP request sent, awaiting response... 200 OK\n",
            "Length: 1453905423 (1.4G) [application/octet-stream]\n",
            "Saving to: ‘SO_vectors_200.bin?download=1’\n",
            "\n",
            "SO_vectors_200.bin? 100%[===================>]   1.35G  2.57MB/s    in 10m 12s \n",
            "\n",
            "2023-05-16 07:49:33 (2.27 MB/s) - ‘SO_vectors_200.bin?download=1’ saved [1453905423/1453905423]\n",
            "\n"
          ]
        }
      ],
      "source": [
        "!wget https://zenodo.org/record/1199620/files/SO_vectors_200.bin?download=1"
      ]
    },
    {
      "cell_type": "code",
      "execution_count": 61,
      "metadata": {
        "id": "O8YJTOYv6j0s"
      },
      "outputs": [],
      "source": [
        "from gensim.models.keyedvectors import KeyedVectors\n",
        "wv_embeddings = KeyedVectors.load_word2vec_format(\"SO_vectors_200.bin?download=1\", binary=True)"
      ]
    },
    {
      "cell_type": "markdown",
      "metadata": {
        "id": "aIcT_g-C6j1E"
      },
      "source": [
        "#### Как пользоваться этими векторами?"
      ]
    },
    {
      "cell_type": "markdown",
      "metadata": {
        "id": "DWO5SPDY6j1G"
      },
      "source": [
        "Посмотрим на примере одного слова, что из себя представляет embedding"
      ]
    },
    {
      "cell_type": "code",
      "execution_count": 62,
      "metadata": {
        "colab": {
          "base_uri": "https://localhost:8080/"
        },
        "id": "KeSBlQfk6j1J",
        "outputId": "cb17763b-301f-4492-811a-5c5f30feb17b",
        "scrolled": true
      },
      "outputs": [
        {
          "output_type": "stream",
          "name": "stdout",
          "text": [
            "float32 (200,)\n"
          ]
        }
      ],
      "source": [
        "word = 'dog'\n",
        "if word in wv_embeddings:\n",
        "    print(wv_embeddings[word].dtype, wv_embeddings[word].shape)"
      ]
    },
    {
      "cell_type": "code",
      "execution_count": 63,
      "metadata": {
        "colab": {
          "base_uri": "https://localhost:8080/"
        },
        "id": "T4Eq-D1qxpMJ",
        "outputId": "9e2502ce-97b1-4309-a2ea-bff48d7e4ea2"
      },
      "outputs": [
        {
          "output_type": "stream",
          "name": "stdout",
          "text": [
            "Num of words: 1787145\n"
          ]
        }
      ],
      "source": [
        "print(f\"Num of words: {len(wv_embeddings.index_to_key)}\")"
      ]
    },
    {
      "cell_type": "markdown",
      "metadata": {
        "id": "ZT6NTCys6j1Q"
      },
      "source": [
        "Найдем наиболее близкие слова к слову `dog`:"
      ]
    },
    {
      "cell_type": "markdown",
      "metadata": {
        "id": "n08z2PjMwC5o"
      },
      "source": [
        "#### Вопрос 1:\n",
        "* Входит ли слов `cat` топ-5 близких слов к слову `dog`? Какое место? "
      ]
    },
    {
      "cell_type": "code",
      "execution_count": 64,
      "metadata": {
        "colab": {
          "base_uri": "https://localhost:8080/",
          "height": 206
        },
        "id": "nYwVz0xG6j1U",
        "outputId": "b0fdc454-4c0d-42cd-cf5a-6b6bdf582253",
        "scrolled": true
      },
      "outputs": [
        {
          "output_type": "execute_result",
          "data": {
            "text/plain": [
              "     index    cosine\n",
              "1   animal  0.856418\n",
              "2     dogs  0.788087\n",
              "3   mammal  0.762380\n",
              "4     cats  0.762125\n",
              "5  animals  0.760794"
            ],
            "text/html": [
              "\n",
              "  <div id=\"df-8c87ab8f-64f3-4ad7-94bc-8723eb5a5837\">\n",
              "    <div class=\"colab-df-container\">\n",
              "      <div>\n",
              "<style scoped>\n",
              "    .dataframe tbody tr th:only-of-type {\n",
              "        vertical-align: middle;\n",
              "    }\n",
              "\n",
              "    .dataframe tbody tr th {\n",
              "        vertical-align: top;\n",
              "    }\n",
              "\n",
              "    .dataframe thead th {\n",
              "        text-align: right;\n",
              "    }\n",
              "</style>\n",
              "<table border=\"1\" class=\"dataframe\">\n",
              "  <thead>\n",
              "    <tr style=\"text-align: right;\">\n",
              "      <th></th>\n",
              "      <th>index</th>\n",
              "      <th>cosine</th>\n",
              "    </tr>\n",
              "  </thead>\n",
              "  <tbody>\n",
              "    <tr>\n",
              "      <th>1</th>\n",
              "      <td>animal</td>\n",
              "      <td>0.856418</td>\n",
              "    </tr>\n",
              "    <tr>\n",
              "      <th>2</th>\n",
              "      <td>dogs</td>\n",
              "      <td>0.788087</td>\n",
              "    </tr>\n",
              "    <tr>\n",
              "      <th>3</th>\n",
              "      <td>mammal</td>\n",
              "      <td>0.762380</td>\n",
              "    </tr>\n",
              "    <tr>\n",
              "      <th>4</th>\n",
              "      <td>cats</td>\n",
              "      <td>0.762125</td>\n",
              "    </tr>\n",
              "    <tr>\n",
              "      <th>5</th>\n",
              "      <td>animals</td>\n",
              "      <td>0.760794</td>\n",
              "    </tr>\n",
              "  </tbody>\n",
              "</table>\n",
              "</div>\n",
              "      <button class=\"colab-df-convert\" onclick=\"convertToInteractive('df-8c87ab8f-64f3-4ad7-94bc-8723eb5a5837')\"\n",
              "              title=\"Convert this dataframe to an interactive table.\"\n",
              "              style=\"display:none;\">\n",
              "        \n",
              "  <svg xmlns=\"http://www.w3.org/2000/svg\" height=\"24px\"viewBox=\"0 0 24 24\"\n",
              "       width=\"24px\">\n",
              "    <path d=\"M0 0h24v24H0V0z\" fill=\"none\"/>\n",
              "    <path d=\"M18.56 5.44l.94 2.06.94-2.06 2.06-.94-2.06-.94-.94-2.06-.94 2.06-2.06.94zm-11 1L8.5 8.5l.94-2.06 2.06-.94-2.06-.94L8.5 2.5l-.94 2.06-2.06.94zm10 10l.94 2.06.94-2.06 2.06-.94-2.06-.94-.94-2.06-.94 2.06-2.06.94z\"/><path d=\"M17.41 7.96l-1.37-1.37c-.4-.4-.92-.59-1.43-.59-.52 0-1.04.2-1.43.59L10.3 9.45l-7.72 7.72c-.78.78-.78 2.05 0 2.83L4 21.41c.39.39.9.59 1.41.59.51 0 1.02-.2 1.41-.59l7.78-7.78 2.81-2.81c.8-.78.8-2.07 0-2.86zM5.41 20L4 18.59l7.72-7.72 1.47 1.35L5.41 20z\"/>\n",
              "  </svg>\n",
              "      </button>\n",
              "      \n",
              "  <style>\n",
              "    .colab-df-container {\n",
              "      display:flex;\n",
              "      flex-wrap:wrap;\n",
              "      gap: 12px;\n",
              "    }\n",
              "\n",
              "    .colab-df-convert {\n",
              "      background-color: #E8F0FE;\n",
              "      border: none;\n",
              "      border-radius: 50%;\n",
              "      cursor: pointer;\n",
              "      display: none;\n",
              "      fill: #1967D2;\n",
              "      height: 32px;\n",
              "      padding: 0 0 0 0;\n",
              "      width: 32px;\n",
              "    }\n",
              "\n",
              "    .colab-df-convert:hover {\n",
              "      background-color: #E2EBFA;\n",
              "      box-shadow: 0px 1px 2px rgba(60, 64, 67, 0.3), 0px 1px 3px 1px rgba(60, 64, 67, 0.15);\n",
              "      fill: #174EA6;\n",
              "    }\n",
              "\n",
              "    [theme=dark] .colab-df-convert {\n",
              "      background-color: #3B4455;\n",
              "      fill: #D2E3FC;\n",
              "    }\n",
              "\n",
              "    [theme=dark] .colab-df-convert:hover {\n",
              "      background-color: #434B5C;\n",
              "      box-shadow: 0px 1px 3px 1px rgba(0, 0, 0, 0.15);\n",
              "      filter: drop-shadow(0px 1px 2px rgba(0, 0, 0, 0.3));\n",
              "      fill: #FFFFFF;\n",
              "    }\n",
              "  </style>\n",
              "\n",
              "      <script>\n",
              "        const buttonEl =\n",
              "          document.querySelector('#df-8c87ab8f-64f3-4ad7-94bc-8723eb5a5837 button.colab-df-convert');\n",
              "        buttonEl.style.display =\n",
              "          google.colab.kernel.accessAllowed ? 'block' : 'none';\n",
              "\n",
              "        async function convertToInteractive(key) {\n",
              "          const element = document.querySelector('#df-8c87ab8f-64f3-4ad7-94bc-8723eb5a5837');\n",
              "          const dataTable =\n",
              "            await google.colab.kernel.invokeFunction('convertToInteractive',\n",
              "                                                     [key], {});\n",
              "          if (!dataTable) return;\n",
              "\n",
              "          const docLinkHtml = 'Like what you see? Visit the ' +\n",
              "            '<a target=\"_blank\" href=https://colab.research.google.com/notebooks/data_table.ipynb>data table notebook</a>'\n",
              "            + ' to learn more about interactive tables.';\n",
              "          element.innerHTML = '';\n",
              "          dataTable['output_type'] = 'display_data';\n",
              "          await google.colab.output.renderOutput(dataTable, element);\n",
              "          const docLink = document.createElement('div');\n",
              "          docLink.innerHTML = docLinkHtml;\n",
              "          element.appendChild(docLink);\n",
              "        }\n",
              "      </script>\n",
              "    </div>\n",
              "  </div>\n",
              "  "
            ]
          },
          "metadata": {},
          "execution_count": 64
        }
      ],
      "source": [
        "# method most_simmilar\n",
        "'''your code'''\n",
        "import numpy as np\n",
        "import pandas as pd\n",
        "\n",
        "dog_embedding = wv_embeddings['dog']\n",
        "cosine_with_dog = {}\n",
        "for word in wv_embeddings.index_to_key:\n",
        "    cosine = np.dot(dog_embedding, wv_embeddings[word]).T/(np.linalg.norm(dog_embedding)*np.linalg.norm(wv_embeddings[word]))\n",
        "    cosine_with_dog[word] = cosine\n",
        "\n",
        "cosine_with_dog_df = pd.DataFrame(cosine_with_dog, index=['cosine']).T.sort_values(by='cosine', ascending=False).reset_index()\n",
        "cosine_with_dog_df.iloc[1:6, :]"
      ]
    },
    {
      "cell_type": "code",
      "execution_count": 65,
      "metadata": {
        "colab": {
          "base_uri": "https://localhost:8080/",
          "height": 81
        },
        "id": "OhhFZr95Y65K",
        "outputId": "5bd78b65-1f04-4a75-d062-11e6d6cfd346"
      },
      "outputs": [
        {
          "output_type": "execute_result",
          "data": {
            "text/plain": [
              "   index    cosine\n",
              "26   cat  0.685234"
            ],
            "text/html": [
              "\n",
              "  <div id=\"df-4b921380-e682-4416-a359-fc783dbac9d7\">\n",
              "    <div class=\"colab-df-container\">\n",
              "      <div>\n",
              "<style scoped>\n",
              "    .dataframe tbody tr th:only-of-type {\n",
              "        vertical-align: middle;\n",
              "    }\n",
              "\n",
              "    .dataframe tbody tr th {\n",
              "        vertical-align: top;\n",
              "    }\n",
              "\n",
              "    .dataframe thead th {\n",
              "        text-align: right;\n",
              "    }\n",
              "</style>\n",
              "<table border=\"1\" class=\"dataframe\">\n",
              "  <thead>\n",
              "    <tr style=\"text-align: right;\">\n",
              "      <th></th>\n",
              "      <th>index</th>\n",
              "      <th>cosine</th>\n",
              "    </tr>\n",
              "  </thead>\n",
              "  <tbody>\n",
              "    <tr>\n",
              "      <th>26</th>\n",
              "      <td>cat</td>\n",
              "      <td>0.685234</td>\n",
              "    </tr>\n",
              "  </tbody>\n",
              "</table>\n",
              "</div>\n",
              "      <button class=\"colab-df-convert\" onclick=\"convertToInteractive('df-4b921380-e682-4416-a359-fc783dbac9d7')\"\n",
              "              title=\"Convert this dataframe to an interactive table.\"\n",
              "              style=\"display:none;\">\n",
              "        \n",
              "  <svg xmlns=\"http://www.w3.org/2000/svg\" height=\"24px\"viewBox=\"0 0 24 24\"\n",
              "       width=\"24px\">\n",
              "    <path d=\"M0 0h24v24H0V0z\" fill=\"none\"/>\n",
              "    <path d=\"M18.56 5.44l.94 2.06.94-2.06 2.06-.94-2.06-.94-.94-2.06-.94 2.06-2.06.94zm-11 1L8.5 8.5l.94-2.06 2.06-.94-2.06-.94L8.5 2.5l-.94 2.06-2.06.94zm10 10l.94 2.06.94-2.06 2.06-.94-2.06-.94-.94-2.06-.94 2.06-2.06.94z\"/><path d=\"M17.41 7.96l-1.37-1.37c-.4-.4-.92-.59-1.43-.59-.52 0-1.04.2-1.43.59L10.3 9.45l-7.72 7.72c-.78.78-.78 2.05 0 2.83L4 21.41c.39.39.9.59 1.41.59.51 0 1.02-.2 1.41-.59l7.78-7.78 2.81-2.81c.8-.78.8-2.07 0-2.86zM5.41 20L4 18.59l7.72-7.72 1.47 1.35L5.41 20z\"/>\n",
              "  </svg>\n",
              "      </button>\n",
              "      \n",
              "  <style>\n",
              "    .colab-df-container {\n",
              "      display:flex;\n",
              "      flex-wrap:wrap;\n",
              "      gap: 12px;\n",
              "    }\n",
              "\n",
              "    .colab-df-convert {\n",
              "      background-color: #E8F0FE;\n",
              "      border: none;\n",
              "      border-radius: 50%;\n",
              "      cursor: pointer;\n",
              "      display: none;\n",
              "      fill: #1967D2;\n",
              "      height: 32px;\n",
              "      padding: 0 0 0 0;\n",
              "      width: 32px;\n",
              "    }\n",
              "\n",
              "    .colab-df-convert:hover {\n",
              "      background-color: #E2EBFA;\n",
              "      box-shadow: 0px 1px 2px rgba(60, 64, 67, 0.3), 0px 1px 3px 1px rgba(60, 64, 67, 0.15);\n",
              "      fill: #174EA6;\n",
              "    }\n",
              "\n",
              "    [theme=dark] .colab-df-convert {\n",
              "      background-color: #3B4455;\n",
              "      fill: #D2E3FC;\n",
              "    }\n",
              "\n",
              "    [theme=dark] .colab-df-convert:hover {\n",
              "      background-color: #434B5C;\n",
              "      box-shadow: 0px 1px 3px 1px rgba(0, 0, 0, 0.15);\n",
              "      filter: drop-shadow(0px 1px 2px rgba(0, 0, 0, 0.3));\n",
              "      fill: #FFFFFF;\n",
              "    }\n",
              "  </style>\n",
              "\n",
              "      <script>\n",
              "        const buttonEl =\n",
              "          document.querySelector('#df-4b921380-e682-4416-a359-fc783dbac9d7 button.colab-df-convert');\n",
              "        buttonEl.style.display =\n",
              "          google.colab.kernel.accessAllowed ? 'block' : 'none';\n",
              "\n",
              "        async function convertToInteractive(key) {\n",
              "          const element = document.querySelector('#df-4b921380-e682-4416-a359-fc783dbac9d7');\n",
              "          const dataTable =\n",
              "            await google.colab.kernel.invokeFunction('convertToInteractive',\n",
              "                                                     [key], {});\n",
              "          if (!dataTable) return;\n",
              "\n",
              "          const docLinkHtml = 'Like what you see? Visit the ' +\n",
              "            '<a target=\"_blank\" href=https://colab.research.google.com/notebooks/data_table.ipynb>data table notebook</a>'\n",
              "            + ' to learn more about interactive tables.';\n",
              "          element.innerHTML = '';\n",
              "          dataTable['output_type'] = 'display_data';\n",
              "          await google.colab.output.renderOutput(dataTable, element);\n",
              "          const docLink = document.createElement('div');\n",
              "          docLink.innerHTML = docLinkHtml;\n",
              "          element.appendChild(docLink);\n",
              "        }\n",
              "      </script>\n",
              "    </div>\n",
              "  </div>\n",
              "  "
            ]
          },
          "metadata": {},
          "execution_count": 65
        }
      ],
      "source": [
        "cosine_with_dog_df.loc[cosine_with_dog_df['index'] == 'cat', :]"
      ]
    },
    {
      "cell_type": "markdown",
      "metadata": {
        "id": "VvAINzuvbYMg"
      },
      "source": [
        "Слово слов `cat` не входит в топ-5 близких слов к слову `dog`. Оно находится на 26-м месте"
      ]
    },
    {
      "cell_type": "markdown",
      "metadata": {
        "id": "ai48-5vv6j1d"
      },
      "source": [
        "### Векторные представления текста\n",
        "\n",
        "Перейдем от векторных представлений отдельных слов к векторным представлениям вопросов, как к **среднему** векторов всех слов в вопросе. Если для какого-то слова нет предобученного вектора, то его нужно пропустить. Если вопрос не содержит ни одного известного слова, то нужно вернуть нулевой вектор."
      ]
    },
    {
      "cell_type": "code",
      "execution_count": 66,
      "metadata": {
        "id": "EhNuxBJd6j1f"
      },
      "outputs": [],
      "source": [
        "import numpy as np\n",
        "import re\n",
        "# you can use your tokenizer\n",
        "# for example, from nltk.tokenize import WordPunctTokenizer\n",
        "class MyTokenizer:\n",
        "    def __init__(self):\n",
        "        pass\n",
        "    def tokenize(self, text):\n",
        "        return re.findall('\\w+', text)\n",
        "tokenizer = MyTokenizer()"
      ]
    },
    {
      "cell_type": "code",
      "execution_count": 67,
      "metadata": {
        "id": "YHcvu6186j1m"
      },
      "outputs": [],
      "source": [
        "def question_to_vec(question, embeddings, tokenizer, dim=200):\n",
        "    \"\"\"\n",
        "        question: строка\n",
        "        embeddings: наше векторное представление\n",
        "        dim: размер любого вектора в нашем представлении\n",
        "        \n",
        "        return: векторное представление для вопроса\n",
        "    \"\"\"\n",
        "    \n",
        "    '''your code'''\n",
        "    tokens = tokenizer().tokenize(question)\n",
        "    words_in_question = []\n",
        "    for token in tokens:\n",
        "        if token in embeddings:\n",
        "            words_in_question.append(embeddings[token])\n",
        "    if not words_in_question:\n",
        "        return np.zeros((dim,))\n",
        "    return np.mean(words_in_question, axis=0)"
      ]
    },
    {
      "cell_type": "markdown",
      "metadata": {
        "id": "u5Q_4j7r6j1u"
      },
      "source": [
        "Теперь у нас есть метод для создания векторного представления любого предложения."
      ]
    },
    {
      "cell_type": "markdown",
      "metadata": {
        "id": "EsJSNkhm6j1y"
      },
      "source": [
        "#### Вопрос 2:\n",
        "* Какая третья(с индексом 2) компонента вектора предложения `I love neural networks` (округлите до 2 знаков после запятой)?"
      ]
    },
    {
      "cell_type": "code",
      "execution_count": 103,
      "metadata": {
        "colab": {
          "base_uri": "https://localhost:8080/"
        },
        "id": "a62r11cT6j10",
        "outputId": "c4a92bde-274a-4eb6-8edb-a9c3c2475b8d",
        "scrolled": true
      },
      "outputs": [
        {
          "output_type": "execute_result",
          "data": {
            "text/plain": [
              "-1.29"
            ]
          },
          "metadata": {},
          "execution_count": 103
        }
      ],
      "source": [
        "'''your code'''\n",
        "from nltk.tokenize import WordPunctTokenizer\n",
        "\n",
        "question_to_vec('I love neural networks', \n",
        "                wv_embeddings,\n",
        "                WordPunctTokenizer).round(2)[2]"
      ]
    },
    {
      "cell_type": "markdown",
      "metadata": {
        "id": "Y60z4t6W6j16"
      },
      "source": [
        "### Оценка близости текстов\n",
        "\n",
        "Представим, что мы используем идеальные векторные представления слов. Тогда косинусное расстояние между дублирующими предложениями должно быть меньше, чем между случайно взятыми предложениями. \n",
        "\n",
        "Сгенерируем для каждого из $N$ вопросов $R$ случайных отрицательных примеров и примешаем к ним также настоящие дубликаты. Для каждого вопроса будем ранжировать с помощью нашей модели $R + 1$ примеров и смотреть на позицию дубликата. Мы хотим, чтобы дубликат был первым в ранжированном списке.\n",
        "\n",
        "#### Hits@K\n",
        "Первой простой метрикой будет количество корректных попаданий для какого-то $K$:\n",
        "$$ \\text{Hits@K} = \\frac{1}{N}\\sum_{i=1}^N \\, [rank\\_q_i^{'} \\le K],$$\n",
        "* $\\begin{equation*}\n",
        "[x < 0 ] \\equiv \n",
        " \\begin{cases}\n",
        "   1, &x < 0\\\\\n",
        "   0, &x \\geq 0\n",
        " \\end{cases}\n",
        "\\end{equation*}$ - индикаторная функция\n",
        "* $q_i$ - $i$-ый вопрос\n",
        "* $q_i^{'}$ - его дубликат\n",
        "* $rank\\_q_i^{'}$ - позиция дубликата в ранжированном списке ближайших предложений для вопроса $q_i$.\n",
        "\n",
        "#### DCG@K\n",
        "Второй метрикой будет упрощенная DCG метрика, учитывающая порядок элементов в списке путем домножения релевантности элемента на вес равный обратному логарифму номера позиции::\n",
        "$$ \\text{DCG@K} = \\frac{1}{N} \\sum_{i=1}^N\\frac{1}{\\log_2(1+rank\\_q_i^{'})}\\cdot[rank\\_q_i^{'} \\le K],$$\n",
        "С такой метрикой модель штрафуется за большой ранк корректного ответа"
      ]
    },
    {
      "cell_type": "markdown",
      "metadata": {
        "id": "eHCnH-jw6j18"
      },
      "source": [
        "#### Вопрос 3:\n",
        "* Максимум `Hits@47 - DCG@1`?"
      ]
    },
    {
      "cell_type": "markdown",
      "metadata": {
        "id": "T9ahvQhxmX9P"
      },
      "source": [
        "Ответ: Максимум (`Hits@47 - DCG@1`) = максимум `Hits@47` - минимум `DCG@1` = 1 - 0 = 1"
      ]
    },
    {
      "cell_type": "markdown",
      "metadata": {
        "id": "_tFemBkP6j1-"
      },
      "source": [
        "<img src='https://hsto.org/files/1c5/edf/dee/1c5edfdeebce4b71a86bdf986d9f88f2.jpg' width=400, height=200>"
      ]
    },
    {
      "cell_type": "markdown",
      "metadata": {
        "id": "0sUSxk866j1_"
      },
      "source": [
        "#### Пример оценок\n",
        "\n",
        "Вычислим описанные выше метрики для игрушечного примера. \n",
        "Пусть\n",
        "* $N = 1$, $R = 3$\n",
        "* <font color='green'>\"Что такое python?\"</font> - вопрос $q_1$\n",
        "* <font color='red'>\"Что такое язык python?\"</font> - его дубликат $q_i^{'}$\n",
        "\n",
        "Пусть модель выдала следующий ранжированный список кандидатов:\n",
        "\n",
        "1. \"Как изучить с++?\"\n",
        "2. <font color='red'>\"Что такое язык python?\"</font>\n",
        "3. \"Хочу учить Java\"\n",
        "4. \"Не понимаю Tensorflow\"\n",
        "\n",
        "$\\Rightarrow rank\\_q_i^{'} = 2$\n",
        "\n",
        "Вычислим метрику *Hits@K* для *K = 1, 4*:\n",
        "\n",
        "- [K = 1] $\\text{Hits@1} =  [rank\\_q_i^{'} \\le 1)] = 0$\n",
        "- [K = 4] $\\text{Hits@4} =  [rank\\_q_i^{'} \\le 4] = 1$\n",
        "\n",
        "Вычислим метрику *DCG@K* для *K = 1, 4*:\n",
        "- [K = 1] $\\text{DCG@1} = \\frac{1}{\\log_2(1+2)}\\cdot[2 \\le 1] = 0$\n",
        "- [K = 4] $\\text{DCG@4} = \\frac{1}{\\log_2(1+2)}\\cdot[2 \\le 4] = \\frac{1}{\\log_2{3}}$"
      ]
    },
    {
      "cell_type": "markdown",
      "metadata": {
        "id": "B4L6HJJC6j2B"
      },
      "source": [
        "#### Вопрос 4:\n",
        "* Вычислите `DCG@10`, если $rank\\_q_i^{'} = 9$(округлите до одного знака после запятой)"
      ]
    },
    {
      "cell_type": "code",
      "execution_count": 69,
      "metadata": {
        "colab": {
          "base_uri": "https://localhost:8080/"
        },
        "id": "CkIfuZmAmuD-",
        "outputId": "1965af4b-f394-4fb5-8bb3-24b758c030ab"
      },
      "outputs": [
        {
          "output_type": "execute_result",
          "data": {
            "text/plain": [
              "0.3"
            ]
          },
          "metadata": {},
          "execution_count": 69
        }
      ],
      "source": [
        "import math\n",
        "\n",
        "round(1 / math.log2(9+1), 1)"
      ]
    },
    {
      "cell_type": "markdown",
      "metadata": {
        "id": "J5xWOORI6j2F"
      },
      "source": [
        "### HITS\\_COUNT и DCG\\_SCORE"
      ]
    },
    {
      "cell_type": "markdown",
      "metadata": {
        "id": "I1q9WQOx6j2H"
      },
      "source": [
        "Каждая функция имеет два аргумента: $dup\\_ranks$ и $k$. $dup\\_ranks$ является списком, который содержит рейтинги дубликатов(их позиции в ранжированном списке). Например, $dup\\_ranks = [2]$ для примера, описанного выше."
      ]
    },
    {
      "cell_type": "code",
      "execution_count": 70,
      "metadata": {
        "id": "F5VwySUB6j2J"
      },
      "outputs": [],
      "source": [
        "from math import log2\n",
        "\n",
        "def hits_count(dup_ranks, k):\n",
        "    \"\"\"\n",
        "        dup_ranks: list индексов дубликатов\n",
        "        result: вернуть  Hits@k\n",
        "    \"\"\"\n",
        "    '''your code'''\n",
        "    hits_value = [int(dup_rank<=k) for dup_rank in dup_ranks]\n",
        "    return sum(hits_value) / len(hits_value)"
      ]
    },
    {
      "cell_type": "code",
      "execution_count": 71,
      "metadata": {
        "id": "82hQaxCH6j2R"
      },
      "outputs": [],
      "source": [
        "def dcg_score(dup_ranks, k): \n",
        "    \"\"\"\n",
        "        dup_ranks: list индексов дубликатов\n",
        "        result: вернуть DCG@k\n",
        "    \"\"\"\n",
        "    '''your code'''\n",
        "    \n",
        "    dcg_value = [(1 / log2(dup_rank+1)*int(dup_rank<=k)) for dup_rank in dup_ranks]\n",
        "    return sum(dcg_value) / len(dcg_value)"
      ]
    },
    {
      "cell_type": "markdown",
      "metadata": {
        "id": "PcwHeXN26j2Y"
      },
      "source": [
        "Протестируем функции. Пусть $N = 1$, то есть один эксперимент. Будем искать копию вопроса и оценивать метрики."
      ]
    },
    {
      "cell_type": "code",
      "execution_count": 72,
      "metadata": {
        "id": "fjISmOEW6j2h"
      },
      "outputs": [],
      "source": [
        "import pandas as pd\n",
        "import numpy as np"
      ]
    },
    {
      "cell_type": "code",
      "execution_count": 73,
      "metadata": {
        "id": "gLa_Wqfh6j2m",
        "colab": {
          "base_uri": "https://localhost:8080/"
        },
        "outputId": "cb20744c-e489-4a8b-a043-e53c8c2a2a6f"
      },
      "outputs": [
        {
          "output_type": "stream",
          "name": "stdout",
          "text": [
            "Ваш ответ HIT: [0.0, 1.0, 1.0, 1.0]\n",
            "Ваш ответ DCG: [0.0, 0.63093, 0.63093, 0.63093]\n"
          ]
        }
      ],
      "source": [
        "copy_answers = [\"How does the catch keyword determine the type of exception that was thrown\",]\n",
        "\n",
        "# наги кандидаты\n",
        "candidates_ranking = [[\"How Can I Make These Links Rotate in PHP\",\n",
        "                       \"How does the catch keyword determine the type of exception that was thrown\",\n",
        "                       \"NSLog array description not memory address\",\n",
        "                       \"PECL_HTTP not recognised php ubuntu\"],]\n",
        "# dup_ranks — позиции наших копий, так как эксперимент один, то этот массив длины 1\n",
        "dup_ranks = [2]\n",
        "\n",
        "# вычисляем метрику для разных k\n",
        "print('Ваш ответ HIT:', [hits_count(dup_ranks, k) for k in range(1, 5)])\n",
        "print('Ваш ответ DCG:', [round(dcg_score(dup_ranks, k), 5) for k in range(1, 5)])"
      ]
    },
    {
      "cell_type": "markdown",
      "metadata": {
        "id": "MoHC3YoQ6j2t"
      },
      "source": [
        "У вас должно получиться"
      ]
    },
    {
      "cell_type": "code",
      "execution_count": 74,
      "metadata": {
        "id": "B0NFWq4f6j2u",
        "scrolled": true,
        "colab": {
          "base_uri": "https://localhost:8080/",
          "height": 112
        },
        "outputId": "6368d249-29ba-4253-8d8a-ccde3862092f"
      },
      "outputs": [
        {
          "output_type": "execute_result",
          "data": {
            "text/plain": [
              "      1        2        3        4\n",
              "HITS  0  1.00000  1.00000  1.00000\n",
              "DCG   0  0.63093  0.63093  0.63093"
            ],
            "text/html": [
              "\n",
              "  <div id=\"df-c5a004b2-1e82-453e-9119-a05ee7c8532b\">\n",
              "    <div class=\"colab-df-container\">\n",
              "      <div>\n",
              "<style scoped>\n",
              "    .dataframe tbody tr th:only-of-type {\n",
              "        vertical-align: middle;\n",
              "    }\n",
              "\n",
              "    .dataframe tbody tr th {\n",
              "        vertical-align: top;\n",
              "    }\n",
              "\n",
              "    .dataframe thead th {\n",
              "        text-align: right;\n",
              "    }\n",
              "</style>\n",
              "<table border=\"1\" class=\"dataframe\">\n",
              "  <thead>\n",
              "    <tr style=\"text-align: right;\">\n",
              "      <th></th>\n",
              "      <th>1</th>\n",
              "      <th>2</th>\n",
              "      <th>3</th>\n",
              "      <th>4</th>\n",
              "    </tr>\n",
              "  </thead>\n",
              "  <tbody>\n",
              "    <tr>\n",
              "      <th>HITS</th>\n",
              "      <td>0</td>\n",
              "      <td>1.00000</td>\n",
              "      <td>1.00000</td>\n",
              "      <td>1.00000</td>\n",
              "    </tr>\n",
              "    <tr>\n",
              "      <th>DCG</th>\n",
              "      <td>0</td>\n",
              "      <td>0.63093</td>\n",
              "      <td>0.63093</td>\n",
              "      <td>0.63093</td>\n",
              "    </tr>\n",
              "  </tbody>\n",
              "</table>\n",
              "</div>\n",
              "      <button class=\"colab-df-convert\" onclick=\"convertToInteractive('df-c5a004b2-1e82-453e-9119-a05ee7c8532b')\"\n",
              "              title=\"Convert this dataframe to an interactive table.\"\n",
              "              style=\"display:none;\">\n",
              "        \n",
              "  <svg xmlns=\"http://www.w3.org/2000/svg\" height=\"24px\"viewBox=\"0 0 24 24\"\n",
              "       width=\"24px\">\n",
              "    <path d=\"M0 0h24v24H0V0z\" fill=\"none\"/>\n",
              "    <path d=\"M18.56 5.44l.94 2.06.94-2.06 2.06-.94-2.06-.94-.94-2.06-.94 2.06-2.06.94zm-11 1L8.5 8.5l.94-2.06 2.06-.94-2.06-.94L8.5 2.5l-.94 2.06-2.06.94zm10 10l.94 2.06.94-2.06 2.06-.94-2.06-.94-.94-2.06-.94 2.06-2.06.94z\"/><path d=\"M17.41 7.96l-1.37-1.37c-.4-.4-.92-.59-1.43-.59-.52 0-1.04.2-1.43.59L10.3 9.45l-7.72 7.72c-.78.78-.78 2.05 0 2.83L4 21.41c.39.39.9.59 1.41.59.51 0 1.02-.2 1.41-.59l7.78-7.78 2.81-2.81c.8-.78.8-2.07 0-2.86zM5.41 20L4 18.59l7.72-7.72 1.47 1.35L5.41 20z\"/>\n",
              "  </svg>\n",
              "      </button>\n",
              "      \n",
              "  <style>\n",
              "    .colab-df-container {\n",
              "      display:flex;\n",
              "      flex-wrap:wrap;\n",
              "      gap: 12px;\n",
              "    }\n",
              "\n",
              "    .colab-df-convert {\n",
              "      background-color: #E8F0FE;\n",
              "      border: none;\n",
              "      border-radius: 50%;\n",
              "      cursor: pointer;\n",
              "      display: none;\n",
              "      fill: #1967D2;\n",
              "      height: 32px;\n",
              "      padding: 0 0 0 0;\n",
              "      width: 32px;\n",
              "    }\n",
              "\n",
              "    .colab-df-convert:hover {\n",
              "      background-color: #E2EBFA;\n",
              "      box-shadow: 0px 1px 2px rgba(60, 64, 67, 0.3), 0px 1px 3px 1px rgba(60, 64, 67, 0.15);\n",
              "      fill: #174EA6;\n",
              "    }\n",
              "\n",
              "    [theme=dark] .colab-df-convert {\n",
              "      background-color: #3B4455;\n",
              "      fill: #D2E3FC;\n",
              "    }\n",
              "\n",
              "    [theme=dark] .colab-df-convert:hover {\n",
              "      background-color: #434B5C;\n",
              "      box-shadow: 0px 1px 3px 1px rgba(0, 0, 0, 0.15);\n",
              "      filter: drop-shadow(0px 1px 2px rgba(0, 0, 0, 0.3));\n",
              "      fill: #FFFFFF;\n",
              "    }\n",
              "  </style>\n",
              "\n",
              "      <script>\n",
              "        const buttonEl =\n",
              "          document.querySelector('#df-c5a004b2-1e82-453e-9119-a05ee7c8532b button.colab-df-convert');\n",
              "        buttonEl.style.display =\n",
              "          google.colab.kernel.accessAllowed ? 'block' : 'none';\n",
              "\n",
              "        async function convertToInteractive(key) {\n",
              "          const element = document.querySelector('#df-c5a004b2-1e82-453e-9119-a05ee7c8532b');\n",
              "          const dataTable =\n",
              "            await google.colab.kernel.invokeFunction('convertToInteractive',\n",
              "                                                     [key], {});\n",
              "          if (!dataTable) return;\n",
              "\n",
              "          const docLinkHtml = 'Like what you see? Visit the ' +\n",
              "            '<a target=\"_blank\" href=https://colab.research.google.com/notebooks/data_table.ipynb>data table notebook</a>'\n",
              "            + ' to learn more about interactive tables.';\n",
              "          element.innerHTML = '';\n",
              "          dataTable['output_type'] = 'display_data';\n",
              "          await google.colab.output.renderOutput(dataTable, element);\n",
              "          const docLink = document.createElement('div');\n",
              "          docLink.innerHTML = docLinkHtml;\n",
              "          element.appendChild(docLink);\n",
              "        }\n",
              "      </script>\n",
              "    </div>\n",
              "  </div>\n",
              "  "
            ]
          },
          "metadata": {},
          "execution_count": 74
        }
      ],
      "source": [
        "# correct_answers - метрика для разных k\n",
        "correct_answers = pd.DataFrame([[0, 1, 1, 1], [0, 1 / (np.log2(3)), 1 / (np.log2(3)), 1 / (np.log2(3))]],\n",
        "                               index=['HITS', 'DCG'], columns=range(1,5))\n",
        "correct_answers"
      ]
    },
    {
      "cell_type": "markdown",
      "metadata": {
        "id": "tHZqgDTo6j0i"
      },
      "source": [
        "### Данные\n",
        "[arxiv link](https://drive.google.com/file/d/1QqT4D0EoqJTy7v9VrNCYD-m964XZFR7_/edit)\n",
        "\n",
        "`train.tsv` - выборка для обучения.<br> В каждой строке через табуляцию записаны: **<вопрос>, <похожий вопрос>**\n",
        "\n",
        "`validation.tsv` - тестовая выборка.<br> В каждой строке через табуляцию записаны: **<вопрос>, <похожий вопрос>, <отрицательный пример 1>, <отрицательный пример 2>, ...**"
      ]
    },
    {
      "cell_type": "code",
      "execution_count": 75,
      "metadata": {
        "colab": {
          "base_uri": "https://localhost:8080/"
        },
        "id": "uisHOas5RO8z",
        "outputId": "4994f7a5-a5ec-4c20-91f0-a194017dbea1"
      },
      "outputs": [
        {
          "output_type": "stream",
          "name": "stdout",
          "text": [
            "Drive already mounted at /content/drive; to attempt to forcibly remount, call drive.mount(\"/content/drive\", force_remount=True).\n"
          ]
        }
      ],
      "source": [
        "from google.colab import drive\n",
        "drive.mount('/content/drive')\n",
        "! cp '/content/drive/MyDrive/Study/courses/DLS - NLP/2. [HW] Ранжирование слов на основе эмбедингов/stackoverflow_similar_questions.zip' ."
      ]
    },
    {
      "cell_type": "code",
      "execution_count": 76,
      "metadata": {
        "colab": {
          "base_uri": "https://localhost:8080/"
        },
        "id": "jKVK2lDGvrIe",
        "outputId": "229b2ed2-a0c3-45da-8737-73f8b81b1770"
      },
      "outputs": [
        {
          "output_type": "stream",
          "name": "stdout",
          "text": [
            "Archive:  stackoverflow_similar_questions.zip\n",
            "replace data/.DS_Store? [y]es, [n]o, [A]ll, [N]one, [r]ename: "
          ]
        }
      ],
      "source": [
        "!unzip stackoverflow_similar_questions.zip"
      ]
    },
    {
      "cell_type": "markdown",
      "metadata": {
        "id": "hil2UsUG6j22"
      },
      "source": [
        "Считайте данные."
      ]
    },
    {
      "cell_type": "code",
      "execution_count": 77,
      "metadata": {
        "id": "B4EBho8s6j26"
      },
      "outputs": [],
      "source": [
        "def read_corpus(filename):\n",
        "    data = []\n",
        "    for line in open(filename, encoding='utf-8'):\n",
        "        '''your code'''\n",
        "        data.append(line)\n",
        "    return data"
      ]
    },
    {
      "cell_type": "markdown",
      "metadata": {
        "id": "kkTxY3Mk9_nG"
      },
      "source": [
        "Нам понадобиться только файл validation."
      ]
    },
    {
      "cell_type": "code",
      "execution_count": 78,
      "metadata": {
        "id": "PTVB9Tnp6j29"
      },
      "outputs": [],
      "source": [
        "validation_data = read_corpus('./data/validation.tsv')"
      ]
    },
    {
      "cell_type": "markdown",
      "metadata": {
        "id": "bTHfL-9y6j3F"
      },
      "source": [
        "Кол-во строк"
      ]
    },
    {
      "cell_type": "code",
      "execution_count": 79,
      "metadata": {
        "id": "z6ubXhIe6j3H",
        "scrolled": false,
        "colab": {
          "base_uri": "https://localhost:8080/"
        },
        "outputId": "f9614d94-4c2a-4cef-a484-741506f08183"
      },
      "outputs": [
        {
          "output_type": "execute_result",
          "data": {
            "text/plain": [
              "3760"
            ]
          },
          "metadata": {},
          "execution_count": 79
        }
      ],
      "source": [
        "len(validation_data)"
      ]
    },
    {
      "cell_type": "markdown",
      "metadata": {
        "id": "kaOQblBy6j3M"
      },
      "source": [
        "Размер нескольких первых строк"
      ]
    },
    {
      "cell_type": "code",
      "execution_count": 80,
      "metadata": {
        "id": "yRx6e-Pe6j3M",
        "colab": {
          "base_uri": "https://localhost:8080/"
        },
        "outputId": "4d2415b5-369b-42e5-a4fd-2913af7abfce"
      },
      "outputs": [
        {
          "output_type": "stream",
          "name": "stdout",
          "text": [
            "1 54517\n",
            "2 52818\n",
            "3 54464\n",
            "4 53724\n",
            "5 52297\n"
          ]
        }
      ],
      "source": [
        "for i in range(5):\n",
        "    print(i + 1, len(validation_data[i]))"
      ]
    },
    {
      "cell_type": "markdown",
      "metadata": {
        "id": "ySQQp0oQt1Ep"
      },
      "source": [
        "### Ранжирование без обучения"
      ]
    },
    {
      "cell_type": "markdown",
      "metadata": {
        "id": "iElEDhj-6j3R"
      },
      "source": [
        "Реализуйте функцию ранжирования кандидатов на основе косинусного расстояния. Функция должна по списку кандидатов вернуть отсортированный список пар (позиция в исходном списке кандидатов, кандидат). При этом позиция кандидата в полученном списке является его рейтингом (первый - лучший). Например, если исходный список кандидатов был [a, b, c], и самый похожий на исходный вопрос среди них - c, затем a, и в конце b, то функция должна вернуть список **[(2, c), (0, a), (1, b)]**."
      ]
    },
    {
      "cell_type": "code",
      "source": [
        "a = np.array([1, 2, 3]).reshape(1, -1)\n",
        "b = np.array([1, 2, 3]).reshape(1, -1)\n",
        "# cosine_similarity(a, b)[0][0]\n",
        "# d = {}\n",
        "# d[cosine_similarity(a, b)[0][0]] = (a, b)"
      ],
      "metadata": {
        "id": "kviNmvmGTp57"
      },
      "execution_count": 81,
      "outputs": []
    },
    {
      "cell_type": "code",
      "source": [
        "d[cosine_similarity(a, b)[0][0]] = (a, b)\n",
        "d"
      ],
      "metadata": {
        "colab": {
          "base_uri": "https://localhost:8080/"
        },
        "id": "1_M2mz3sYizK",
        "outputId": "22346282-f642-46af-b01e-89a2fa67ac57"
      },
      "execution_count": 82,
      "outputs": [
        {
          "output_type": "execute_result",
          "data": {
            "text/plain": [
              "{0.8976906560180993: (array([[1, 2, 3]]), array([[ 1,  2, 12]])),\n",
              " 0.8728715609439697: (array([[1, 2, 3]]), array([[1, 2, 1]])),\n",
              " 1.0: (array([[1, 2, 3]]), array([[1, 2, 3]]))}"
            ]
          },
          "metadata": {},
          "execution_count": 82
        }
      ]
    },
    {
      "cell_type": "code",
      "source": [
        "(np.array((sorted(d.items())))[:,1]).tolist()"
      ],
      "metadata": {
        "colab": {
          "base_uri": "https://localhost:8080/"
        },
        "id": "YyNTxepaYuOM",
        "outputId": "e9a52ecc-1cd2-4052-a490-2bed74832511"
      },
      "execution_count": 83,
      "outputs": [
        {
          "output_type": "stream",
          "name": "stderr",
          "text": [
            "<ipython-input-83-9450950a5c5e>:1: VisibleDeprecationWarning: Creating an ndarray from ragged nested sequences (which is a list-or-tuple of lists-or-tuples-or ndarrays with different lengths or shapes) is deprecated. If you meant to do this, you must specify 'dtype=object' when creating the ndarray.\n",
            "  (np.array((sorted(d.items())))[:,1]).tolist()\n"
          ]
        },
        {
          "output_type": "execute_result",
          "data": {
            "text/plain": [
              "[(array([[1, 2, 3]]), array([[1, 2, 1]])),\n",
              " (array([[1, 2, 3]]), array([[ 1,  2, 12]])),\n",
              " (array([[1, 2, 3]]), array([[1, 2, 3]]))]"
            ]
          },
          "metadata": {},
          "execution_count": 83
        }
      ]
    },
    {
      "cell_type": "code",
      "execution_count": 84,
      "metadata": {
        "id": "K02JARKr6j3T"
      },
      "outputs": [],
      "source": [
        "from sklearn.metrics.pairwise import cosine_similarity\n",
        "from copy import deepcopy"
      ]
    },
    {
      "cell_type": "code",
      "execution_count": 127,
      "metadata": {
        "id": "1yP8wJWj6j3X"
      },
      "outputs": [],
      "source": [
        "np.warnings.filterwarnings('ignore', category=np.VisibleDeprecationWarning)\n",
        "\n",
        "def rank_candidates(question, candidates, embeddings, tokenizer, dim=200):\n",
        "    \"\"\"\n",
        "        question: строка\n",
        "        candidates: массив строк(кандидатов) [a, b, c]\n",
        "        result: пары (начальная позиция, кандидат) [(2, c), (0, a), (1, b)]\n",
        "    \"\"\"\n",
        "    '''your code'''\n",
        "    q_vec = question_to_vec(question, embeddings, tokenizer, dim)\n",
        "    cand_vecs = []\n",
        "    for candidate in candidates:\n",
        "        cand_vecs.append(question_to_vec(candidate, embeddings, tokenizer, dim))\n",
        "\n",
        "    cand_dict = {}\n",
        "    for i, cand_vec in enumerate(cand_vecs):\n",
        "        cand_dict[cosine_similarity(q_vec.reshape(1, -1), cand_vec.reshape(1, -1))[0][0]] = (i, candidates[i])\n",
        "    return [(np.array((sorted(cand_dict.items(), reverse=True)))[:,1]).tolist()]"
      ]
    },
    {
      "cell_type": "markdown",
      "metadata": {
        "id": "TnBszTb76j3c"
      },
      "source": [
        "Протестируйте работу функции на примерах ниже. Пусть $N=2$, то есть два эксперимента"
      ]
    },
    {
      "cell_type": "code",
      "execution_count": 111,
      "metadata": {
        "id": "xvQgtP176j3h"
      },
      "outputs": [],
      "source": [
        "questions = ['converting string to list', 'Sending array via Ajax fails'] \n",
        "\n",
        "candidates = [['Convert Google results object (pure js) to Python object', # первый эксперимент\n",
        "               'C# create cookie from string and send it',\n",
        "               'How to use jQuery AJAX for an outside domain?'],\n",
        "              \n",
        "              ['Getting all list items of an unordered list in PHP',      # второй эксперимент\n",
        "               'WPF- How to update the changes in list item of a list',\n",
        "               'select2 not displaying search results']]"
      ]
    },
    {
      "cell_type": "code",
      "execution_count": 128,
      "metadata": {
        "id": "bPj1JGFi6j3m",
        "colab": {
          "base_uri": "https://localhost:8080/"
        },
        "outputId": "0c64537a-0af4-4397-ef89-ac261e798bba"
      },
      "outputs": [
        {
          "output_type": "stream",
          "name": "stdout",
          "text": [
            "[[(1, 'C# create cookie from string and send it'), (0, 'Convert Google results object (pure js) to Python object'), (2, 'How to use jQuery AJAX for an outside domain?')]]\n",
            "\n",
            "[[(1, 'WPF- How to update the changes in list item of a list'), (0, 'Getting all list items of an unordered list in PHP'), (2, 'select2 not displaying search results')]]\n",
            "\n"
          ]
        }
      ],
      "source": [
        "tokenizer = WordPunctTokenizer\n",
        "for question, q_candidates in zip(questions, candidates):\n",
        "        ranks = rank_candidates(question, q_candidates, wv_embeddings, tokenizer)\n",
        "        print(ranks)\n",
        "        print()"
      ]
    },
    {
      "cell_type": "markdown",
      "metadata": {
        "id": "jm4cidj56j3q"
      },
      "source": [
        "Для первого экперимента вы можете полностью сравнить ваши ответы и правильные ответы. Но для второго эксперимента два ответа на кандидаты будут <b>скрыты</b>(*)"
      ]
    },
    {
      "cell_type": "code",
      "execution_count": null,
      "metadata": {
        "id": "0LeKMIsn6j3s"
      },
      "outputs": [],
      "source": [
        "# должно вывести\n",
        "results = [[(1, 'C# create cookie from string and send it'),\n",
        "            (0, 'Convert Google results object (pure js) to Python object'),\n",
        "            (2, 'How to use jQuery AJAX for an outside domain?')],\n",
        "           [(*, 'Getting all list items of an unordered list in PHP'), #скрыт\n",
        "            (*, 'select2 not displaying search results'), #скрыт\n",
        "            (*, 'WPF- How to update the changes in list item of a list')]] #скрыт"
      ]
    },
    {
      "cell_type": "markdown",
      "metadata": {
        "id": "t1ttnIBe6j3x"
      },
      "source": [
        "Последовательность начальных индексов вы должны получить `для эксперимента 1`  1, 0, 2."
      ]
    },
    {
      "cell_type": "markdown",
      "metadata": {
        "id": "5WQgYDWd6j3y"
      },
      "source": [
        "#### Вопрос 5:\n",
        "* Какую последовательность начальных индексов вы получили `для эксперимента 2`(перечисление без запятой и пробелов, например, `102` для первого эксперимента?"
      ]
    },
    {
      "cell_type": "markdown",
      "source": [
        "Ответ: `102`"
      ],
      "metadata": {
        "id": "lORVGiJpnUMP"
      }
    },
    {
      "cell_type": "markdown",
      "metadata": {
        "id": "fPllOY-Y6j30"
      },
      "source": [
        "Теперь мы можем оценить качество нашего метода. Запустите следующие два блока кода для получения результата. Обратите внимание, что вычисление расстояния между векторами занимает некоторое время (примерно 10 минут). Можете взять для validation 1000 примеров."
      ]
    },
    {
      "cell_type": "code",
      "execution_count": 118,
      "metadata": {
        "id": "Z3q9sxddz-yU"
      },
      "outputs": [],
      "source": [
        "from tqdm.notebook import tqdm"
      ]
    },
    {
      "cell_type": "code",
      "execution_count": 133,
      "metadata": {
        "id": "nu7K4mis6j32",
        "colab": {
          "base_uri": "https://localhost:8080/",
          "height": 269,
          "referenced_widgets": [
            "2c01d3e0aa654aaa85bc7e7cf509b985",
            "4a7d5be74ae94620974b516f62b21883",
            "63032e7f111f4ad3be20c523e663629e",
            "d46059c4517a4b7a8c071ddbeab45794",
            "03ab303dcfbc4504be6f3ff2297106e7",
            "72763859a14847f7b1e293c9168af5e8",
            "10043e8411924db0bdaca35504f1dea4",
            "74ff78f7543a482fa4815b9066c5ebaa",
            "80e453d4feba43669295031820988359",
            "1029d4c1f6824012b0ad5bf0f3370025",
            "131ca593e0004b6dbe176e8d452994a3"
          ]
        },
        "outputId": "ce779683-bd02-4898-cbc7-cf5951666815"
      },
      "outputs": [
        {
          "output_type": "display_data",
          "data": {
            "text/plain": [
              "  0%|          | 0/3760 [00:00<?, ?it/s]"
            ],
            "application/vnd.jupyter.widget-view+json": {
              "version_major": 2,
              "version_minor": 0,
              "model_id": "2c01d3e0aa654aaa85bc7e7cf509b985"
            }
          },
          "metadata": {}
        },
        {
          "output_type": "stream",
          "name": "stdout",
          "text": [
            "['o', 'w', ' ', 't', 'o', ' ', 'p', 'r', 'i', 'n', 't', ' ', 'a', ' ', 'b', 'i', 'n', 'a', 'r', 'y', ' ', 'h', 'e', 'a', 'p', ' ', 't', 'r', 'e', 'e', ' ', 'w', 'i', 't', 'h', 'o', 'u', 't', ' ', 'r', 'e', 'c', 'u', 'r', 's', 'i', 'o', 'n', '?', '\\t', 'H', 'o', 'w', ' ', 'd', 'o', ' ', 'y', 'o', 'u', ' ', 'b', 'e', 's', 't', ' ', 'c', 'o', 'n', 'v', 'e', 'r', 't', ' ', 'a', ' ', 'r', 'e', 'c', 'u', 'r', 's', 'i', 'v', 'e', ' ', 'f', 'u', 'n', 'c', 't', 'i', 'o', 'n', ' ', 't', 'o', ' ', 'a', 'n', ' ', 'i', 't', 'e', 'r', 'a', 't', 'i', 'v', 'e', ' ', 'o', 'n', 'e', '?', '\\t', 'H', 'o', 'w', ' ', 'c', 'a', 'n', ' ', 'i', ' ', 'u', 's', 'e', ' ', 'n', 'g', '-', 'm', 'o', 'd', 'e', 'l', ' ', 'w', 'i', 't', 'h', ' ', 'd', 'i', 'r', 'e', 'c', 't', 'i', 'v', 'e', ' ', 'i', 'n', ' ', 'a', 'n', 'g', 'u', 'l', 'a', 'r', ' ', 'j', 's', '\\t', 'f', 'l', 'a', 's', 'h', ':', ' ', 'd', 'r', 'a', 'w', 'i', 'n', 'g', ' ', 'a', 'n', 'd', ' ', 'e', 'r', 'a', 's', 'i', 'n', 'g', '\\t', 't', 'o', 'g', 'g', 'l', 'e', ' ', 'r', 'e', 'a', 'c', 't', ' ', 'c', 'o', 'm', 'p', 'o', 'n', 'e', 'n', 't', ' ', 'u', 's', 'i', 'n', 'g', ' ', 'h', 'i', 'd', 'e', ' ', 's', 'h', 'o', 'w', ' ', 'c', 'l', 'a', 's', 's', 'n', 'a', 'm', 'e', '\\t', 'U', 's', 'e', ' ', 'a', ' ', 'u', 's', 'e', 'r', 'c', 'o', 'n', 't', 'r', 'o', 'l', ' ', 'f', 'r', 'o', 'm', ' ', 'a', 'n', 'o', 't', 'h', 'e', 'r', ' ', 'p', 'r', 'o', 'j', 'e', 'c', 't', ' ', 't', 'o', ' ', 'c', 'u', 'r', 'r', 'e', 'n', 't', ' ', 'w', 'e', 'b', 'p', 'a', 'g', 'e', '\\t', '~', ' ', 'P', 'a', 't', 'h', 's', ' ', 'r', 'e', 's', 'o', 'l', 'v', 'e', 'd', ' ', 'd', 'i', 'f', 'f', 'e', 'r', 'e', 'n', 't', 'l', 'y', ' ', 'a', 'f', 't', 'e', 'r', ' ', 'u', 'p', 'g', 'r', 'a', 'd', 'i', 'n', 'g', ' ', 't', 'o', ' ', 'A', 'S', 'P', '.', 'N', 'E', 'T', ' ', '4', '\\t', 'M', 'a', 't', 'e', 'r', 'i', 'a', 'l', 'i', 'z', 'e', ' ', 'd', 'a', 't', 'e', 'p', 'i', 'c', 'k', 'e', 'r', ' ', '-', ' ', 'R', 'e', 'n', 'd', 'e', 'r', 'i', 'n', 'g', ' ', 'w', 'h', 'e', 'n', ' ', 'a', 'n', ' ', 'i', 'c', 'o', 'n', ' ', 'i', 's', ' ', 'c', 'l', 'i', 'c', 'k', 'e', 'd', '\\t', 'C', 'r', 'e', 'a', 't', 'i', 'n', 'g', ' ', 'P', 'y', 'P', 'i', ' ', 'p', 'a', 'c', 'k', 'a', 'g', 'e', ' ', '-', ' ', 'C', 'o', 'u', 'l', 'd', ' ', 'n', 'o', 't', ' ', 'f', 'i', 'n', 'd', ' ', 'a', ' ', 'v', 'e', 'r', 's', 'i', 'o', 'n', ' ', 't', 'h', 'a', 't', ' ', 's', 'a', 't', 'i', 's', 'f', 'i', 'e', 's', ' ', 't', 'h', 'e', ' ', 'r', 'e', 'q', 'u', 'i', 'r', 'e', 'm', 'e', 'n', 't', ' ', 'i', 's', 'o', '8', '6', '0', '1', '\\t', 'H', 'o', 'w', ' ', 'c', 'a', 'n', ' ', 'I', ' ', 'a', 'n', 'a', 'l', 'y', 'z', 'e', ' ', 'a', ' ', 'c', 'o', 'n', 'f', 'u', 's', 'i', 'o', 'n', ' ', 'm', 'a', 't', 'r', 'i', 'x', '?', '\\t', 'H', 'o', 'w', ' ', 'd', 'o', ' ', 'I', ' ', 'd', 'e', 'c', 'l', 'a', 'r', 'e', ' ', 'a', ' ', 'C', ' ', 'a', 'r', 'r', 'a', 'y', ' ', 'i', 'n', ' ', 'S', 'w', 'i', 'f', 't', '?', '\\t', 'U', 's', 'i', 'n', 'g', ' ', 'r', 'a', 'n', 'd', '(', ')', ' ', 'w', 'h', 'e', 'n', ' ', 'f', 'l', 'i', 'p', 'p', 'i', 'n', 'g', ' ', 'a', ' ', 'c', 'o', 'i', 'n', ' ', 'a', 'n', 'd', ' ', 'r', 'o', 'l', 'l', 'i', 'n', 'g', ' ', 'a', ' ', 'd', 'i', 'e', '\\t', 'H', 'a', 'n', 'd', 'l', 'i', 'n', 'g', ' ', 'a', ' ', 'J', 'S', 'O', 'N', ' ', 'f', 'i', 'e', 'l', 'd', ' ', 'w', 'i', 't', 'h', ' ', 'a', ' ', 's', 'p', 'e', 'c', 'i', 'a', 'l', ' ', 'c', 'h', 'a', 'r', 'a', 'c', 't', 'e', 'r', ' ', 'i', 'n', ' ', 'i', 't', 's', ' ', 'n', 'a', 'm', 'e', ' ', 'i', 'n', ' ', 'J', 'a', 'v', 'a', '\\t', 'R', 'e', 'a', 'c', 't', ' ', 'N', 'a', 't', 'i', 'v', 'e', ' ', 's', 'e', 'l', 'e', 'c', 't', ' ', 'r', 'o', 'w', ' ', 'o', 'n', ' ', 'L', 'i', 's', 't', 'V', 'i', 'e', 'w', ' ', 'w', 'h', 'e', 'n', ' ', 'p', 'u', 's', 'h', ' ', 'i', 't', '\\t', 'G', 'e', 't', ' ', \"'\", 'c', 'r', 'e', 'a', 't', 'i', 'o', 'n', '_', 't', 'i', 'm', 'e', \"'\", ' ', 'o', 'f', ' ', 'v', 'i', 'd', 'e', 'o', ' ', 'u', 's', 'i', 'n', 'g', ' ', 'f', 'f', 'm', 'p', 'e', 'g', ' ', 'a', 'n', 'd', ' ', 'r', 'e', 'g', 'e', 'x', '\\t', 'D', 'o', 'e', 's', ' ', 'r', 'o', 'w', ' ', 'e', 'x', 'i', 's', 't', ' ', 'a', 'n', 'd', ' ', 'm', 'u', 'l', 't', 'i', 'p', 'l', 'e', ' ', 'w', 'h', 'e', 'r', 'e', '\\t', 'H', 'o', 'w', ' ', 't', 'o', ' ', 's', 'p', 'e', 'c', 'i', 'f', 'y', ' ', 'a', ' ', 'c', 'l', 'a', 's', 's', 'i', 'f', 'i', 'e', 'r', ' ', 'i', 'n', ' ', 'a', ' ', 'g', 'r', 'a', 'd', 'l', 'e', ' ', 'd', 'e', 'p', 'e', 'n', 'd', 'e', 'n', 'c', 'y', \"'\", 's', ' ', 'd', 'e', 'p', 'e', 'n', 'd', 'e', 'n', 'c', 'y', '?', '\\t', 'U', 's', 'i', 'n', 'g', ' ', '$', 'u', 'n', 'w', 'i', 'n', 'd', ' ', 'o', 'n', ' ', 'm', 'u', 'l', 't', 'i', 'p', 'l', 'e', ' ', 'd', 'o', 'c', 'u', 'm', 'e', 'n', 't', 's', '\\t', 'V', 'i', 's', 'u', 'a', 'l', ' ', 'S', 't', 'u', 'd', 'i', 'o', ' ', 'C', 'o', 'd', 'e', ':', ' ', 'M', 'i', 's', 's', 'i', 'n', 'g', ' ', 'X', '5', '0', '9', 'C', 'e', 'r', 't', 'i', 'f', 'i', 'c', 'a', 't', 'e', '2', 'U', 'I', '\\t', 'D', 'e', 'v', 'e', 'l', 'o', 'p', 'i', 'n', 'g', ' ', 'C', 'o', 'r', 'd', 'o', 'v', 'a', ' ', 'p', 'l', 'u', 'g', 'i', 'n', 's', ' ', 'f', 'o', 'r', ' ', 'F', 'i', 'r', 'e', 'f', 'o', 'x', ' ', 'O', 'S', '\\t', 'U', 'p', 'd', 'a', 't', 'e', ' ', 'm', 'u', 'l', 't', 'i', 'p', 'l', 'e', ' ', 'r', 'o', 'w', 's', ' ', 'f', 'o', 'r', ' ', '2', ' ', 'c', 'o', 'l', 'u', 'm', 'n', 's', ' ', 'i', 'n', ' ', 'M', 'y', 'S', 'Q', 'L', '\\t', 'A', 'n', 'a', 'l', 'y', 's', 'e', ' ', 'f', 'o', 'r', 'm', 'a', 't', ' ', 'o', 'f', ' ', 'a', 'l', 'p', 'h', 'a', '-', 'n', 'u', 'm', 'e', 'r', 'i', 'c', ' ', 's', 't', 'r', 'i', 'n', 'g', '\\t', 'D', 'e', 'a', 'l', 'i', 'n', 'g', ' ', 'w', 'i', 't', 'h', ' ', 'l', 'a', 'r', 'g', 'e', ' ', 'T', 'I', 'F', 'F', ' ', 'i', 'm', 'a', 'g', 'e', 's', ' ', 'C', '+', '+', '/', 'M', 'a', 'g', 'i', 'c', 'k', '/', 'l', 'i', 'b', 't', 'i', 'f', 'f', '\\t', 'W', 'h', 'a', 't', ' ', 'd', 'o', 'e', 's', ' ', 'E', 'r', 'r', 'o', 'r', ':', ' ', '[', '$', 'i', 'n', 'j', 'e', 'c', 't', 'o', 'r', ':', 'u', 'n', 'p', 'r', ']', ' ', 'U', 'n', 'k', 'n', 'o', 'w', 'n', ' ', 'p', 'r', 'o', 'v', 'i', 'd', 'e', 'r', ':', ' ', 't', 'P', 'r', 'o', 'v', 'i', 'd', 'e', 'r', ' ', '<', '-', ' ', 't', ' ', '<', '-', ' ', 'm', 'y', 'A', 'c', 't', 'i', 'v', 'e', 'L', 'i', 'n', 'k', 'D', 'i', 'r', 'e', 'c', 't', 'i', 'v', 'e', ' ', 'm', 'e', 'a', 'n', '?', '\\t', 'A', 'n', 'g', 'u', 'l', 'a', 'r', 'J', 'S', ' ', '-', ' ', 'A', 'p', 'p', 'l', 'y', ' ', 'd', 'i', 'r', 'e', 'c', 't', 'i', 'v', 'e', ' ', 'i', 'n', 's', 't', 'a', 'n', 't', 'l', 'y', ',', ' ', 'f', 'o', 'r', 'm', 'a', 't', 'i', 'n', 'g', ' ', 'c', 'u', 'r', 'r', 'e', 'n', 'c', 'y', '\\t', 'C', 'a', 'n', ' ', 'I', ' ', 'c', 'h', 'a', 'n', 'g', 'e', ' ', 't', 'h', 'e', ' ', 'f', 'o', 'n', 't', ' ', 'c', 'o', 'l', 'o', 'r', ' ', 'o', 'n', ' ', 'a', ' ', 'p', 'o', 'r', 't', 'i', 'o', 'n', ' ', 'o', 'f', ' ', 'a', ' ', 's', 't', 'r', 'i', 'n', 'g', '?', '\\t', 'S', 'p', 'r', 'i', 'n', 'g', ' ', 'A', 'O', 'P', ' ', 'd', 'o', 'e', 's', ' ', 'n', 'o', 't', ' ', 'i', 'n', 't', 'e', 'r', 'c', 'e', 'p', 't', ' ', 'm', 'e', 't', 'h', 'o', 'd', 's', ' ', 'w', 'i', 't', 'h', 'i', 'n', ' ', 'S', 'p', 'r', 'i', 'n', 'g', \"'\", 's', ' ', 'c', 'o', 'n', 't', 'a', 'i', 'n', 'e', 'r', '\\t', 'H', 'o', 'w', ' ', 't', 'o', ' ', 'r', 'e', 't', 'r', 'i', 'e', 'v', 'e', ' ', 'j', 's', 'o', 'n', ' ', 'i', 'n', ' ', 'o', 'r', 'i', 'g', 'i', 'n', 'a', 'l', ' ', 'n', 'e', 's', 't', 'e', 'd', ' ', 'f', 'o', 'r', 'm', ' ', 'i', 'n', ' ', 'a', 'p', 'a', 'c', 'h', 'e', ' ', 's', 'o', 'l', 'r', '?', '\\t', 'S', 'p', 'a', 't', 'i', 'a', 'l', ' ', 'a', 'u', 't', 'o', 'c', 'o', 'r', 'r', 'e', 'l', 'a', 't', 'i', 'o', 'n', ' ', 'u', 's', 'i', 'n', 'g', ' ', 'M', 'o', 'r', 'a', 'n', \"'\", 's', ' ', 'I', ' ', 'o', 'r', ' ', 'o', 't', 'h', 'e', 'r', ' ', 's', 'p', 'a', 't', 'i', 'a', 'l', ' ', 'o', 'v', 'e', 'r', 'l', 'a', 'p', ' ', 'i', 'n', 'd', 'e', 'x', '\\t', 'h', 'o', 'w', ' ', 't', 'o', ' ', 's', 't', 'o', 'p', ' ', 'm', 'y', ' ', 'p', 'h', 'p', ' ', 'p', 'a', 'g', 'e', ' ', 'f', 'r', 'o', 'm', ' ', 'c', 'o', 'n', 't', 'i', 'n', 'u', 'i', 'n', 'g', ' ', 'w', 'h', 'e', 'n', ' ', 'f', 'i', 'e', 'l', 'd', ' ', 'i', 's', ' ', 'e', 'm', 'p', 't', 'y', '\\t', 'S', 'e', 'l', 'e', 'c', 't', 'i', 'n', 'g', ' ', 'a', 'l', 'l', ' ', 'C', 'h', 'e', 'c', 'k', 'B', 'o', 'x', 'e', 's', ' ', 'i', 'n', ' ', 'L', 'i', 's', 't', 'B', 'o', 'x', ' ', 'n', 'o', 't', ' ', 'd', 'i', 's', 'p', 'l', 'a', 'y', 'e', 'd', ' ', 'p', 'r', 'o', 'p', 'e', 'r', 'l', 'y', '\\t', 'P', 'H', 'P', ' ', 'w', 'a', 'r', 'n', 'i', 'n', 'g', ':', ' ', 'I', 'l', 'l', 'e', 'g', 'a', 'l', ' ', 's', 't', 'r', 'i', 'n', 'g', ' ', 'o', 'f', 'f', 's', 'e', 't', ' ', \"'\", 'f', 'i', 'e', 'l', 'd', \"'\", '\\t', 'W', 'e', 'b', 'B', 'r', 'o', 'w', 's', 'e', 'r', ' ', 'c', 'o', 'n', 't', 'r', 'o', 'l', ' ', 'c', 'r', 'a', 's', 'h', 'e', 's', ' ', 'o', 'n', ' ', 'W', 'i', 'n', 'd', 'o', 'w', 's', ' ', '1', '0', '\\t', 'E', 'r', 'r', 'o', 'r', ' ', 'w', 'h', 'i', 'l', 'e', ' ', 'o', 'p', 'e', 'n', 'i', 'n', 'g', ' ', 'a', ' ', 'm', 'o', 'd', 'a', 'l', ' ', 'i', 'n', ' ', 'a', 'n', 'g', 'u', 'l', 'a', 'r', '\\t', 'P', 'o', 'r', 't', ' ', '2', '5', ' ', 'w', 'o', 'r', 'k', 's', ' ', 'w', 'h', 'e', 'n', ' ', 'e', 'x', 'e', ' ', 'r', 'u', 'n', ' ', 'm', 'a', 'n', 'u', 'a', 'l', 'l', 'y', ' ', 'b', 'u', 't', ' ', 'b', 'l', 'o', 'c', 'k', 'e', 'd', ' ', 'w', 'h', 'e', 'n', ' ', 'r', 'u', 'n', ' ', 'a', 's', ' ', 's', 'e', 'r', 'v', 'i', 'c', 'e', '\\t', 'W', 'h', 'y', ' ', 'd', 'o', 'e', 's', ' ', '6', '.', '0', '0', ' ', '+', ' ', '(', 'p', 'l', 'u', 's', ')', ' ', '5', '.', '0', '0', ' ', '=', ' ', '\"', '5', '.', '0', '0', '6', '.', '0', '0', '\"', '?', '\\t', 'C', 'o', 'u', 'n', 't', ' ', 'n', 'u', 'm', 'b', 'e', 'r', ' ', 'o', 'f', ' ', 'p', 'r', 'o', 'c', 'e', 's', 's', 'e', 's', ' ', 'c', 'r', 'e', 'a', 't', 'e', 'd', ' ', 'u', 's', 'i', 'n', 'g', ' ', 'f', 'o', 'r', 'k', ' ', 'i', 'n', ' ', 'a', ' ', 'f', 'o', 'r', ' ', 'l', 'o', 'o', 'p', '\\t', 'W', 'h', 'e', 'n', ' ', 's', 'h', 'o', 'u', 'l', 'd', ' ', 'I', ' ', 'u', 's', 'e', ' ', 'U', 'I', 'I', 'm', 'a', 'g', 'e', 'P', 'i', 'c', 'k', 'e', 'r', 'C', 'o', 'n', 't', 'r', 'o', 'l', 'l', 'e', 'r', 'S', 'o', 'u', 'r', 'c', 'e', 'T', 'y', 'p', 'e', 'P', 'h', 'o', 't', 'o', 'L', 'i', 'b', 'r', 'a', 'r', 'y', ' ', 'i', 'n', 's', 't', 'e', 'a', 'd', ' ', 'o', 'f', ' ', 'U', 'I', 'I', 'm', 'a', 'g', 'e', 'P', 'i', 'c', 'k', 'e', 'r', 'C', 'o', 'n', 't', 'r', 'o', 'l', 'l', 'e', 'r', 'S', 'o', 'u', 'r', 'c', 'e', 'T', 'y', 'p', 'e', 'S', 'a', 'v', 'e', 'd', 'P', 'h', 'o', 't', 'o', 's', 'A', 'l', 'b', 'u', 'm', '?', '\\t', 'R', 'e', 'a', 'd', ' ', 'F', 'i', 'l', 'e', ' ', 'i', 'n', ' ', 'J', 'a', 'v', 'a', ',', ' ', 'o', 'u', 't', 'p', 'u', 't', ' ', 't', 'h', 'e', ' ', 'f', 'i', 'r', 's', 't', ' ', 'c', 'o', 'm', 'm', 'a', ' ', 'd', 'e', 'l', 'i', 'm', 'i', 't', 'e', 'd', ' ', 'S', 't', 'r', 'i', 'n', 'g', '\\t', 'S', 'i', 'm', 'p', 'l', 'e', ' ', 'r', 'e', 'c', 'u', 'r', 's', 'i', 'v', 'e', ' ', 'm', 'e', 't', 'h', 'o', 'd', '\\t', 'E', 'n', 's', 'u', 'r', 'e', ' ', 'S', 'Q', 'L', 'i', 't', 'e', ' ', 't', 'a', 'b', 'l', 'e', ' ', 'o', 'n', 'l', 'y', ' ', 'h', 'a', 's', ' ', 'o', 'n', 'e', ' ', 'r', 'o', 'w', '\\t', 'W', 'h', 'y', ' ', 'i', 's', ' ', 't', 'h', 'e', 'r', 'e', ' ', 'a', ' ', 'm', 'e', 't', 'h', 'o', 'd', ' ', 'i', 't', 'e', 'r', 'a', 't', 'o', 'r', '(', ')', ' ', 'o', 'n', ' ', 'j', 'a', 'v', 'a', '.', 'u', 't', 'i', 'l', '.', 'C', 'o', 'l', 'l', 'e', 'c', 't', 'i', 'o', 'n', '\\t', 'D', 'e', 'v', 'e', 'l', 'o', 'p', 'm', 'e', 'n', 't', ' ', 'f', 'o', 'r', ' ', 'C', 'l', 'o', 'u', 'd', 'a', 'n', 't', ' ', 'u', 's', 'i', 'n', 'g', ' ', 'l', 'o', 'c', 'a', 'l', ' ', 'C', 'o', 'u', 'c', 'h', 'D', 'B', '\\t', 'R', 'e', 'g', 'e', 'x', ' ', 't', 'o', ' ', 'f', 'i', 'n', 'd', ' ', 'm', 'e', 't', 'h', 'o', 'd', ' ', 'c', 'a', 'l', 'l', 's', '\\t', 'A', 'S', 'P', '.', 'N', 'E', 'T', ' ', 'M', 'e', 'n', 'u', ' ', 'r', 'e', 'n', 'd', 'e', 'r', 'i', 'n', 'g', ' ', 'd', 'i', 'f', 'f', 'e', 'r', 'e', 'n', 't', ' ', 'f', 'r', 'o', 'm', ' ', 'v', 's', '2', '0', '0', '8', ' ', 't', 'o', ' ', 'v', 's', '2', '0', '1', '0', '\\t', 'M', 'a', 'v', 'e', 'n', ' ', '-', ' ', 'C', 'h', 'a', 'n', 'g', 'e', ' ', 'j', 'U', 'n', 'i', 't', ' ', 'V', 'e', 'r', 's', 'i', 'o', 'n', ' ', 'i', 'n', ' ', 'Q', 'u', 'i', 'c', 'k', 's', 't', 'a', 'r', 't', ' ', 'A', 'r', 'c', 'h', 'e', 't', 'y', 'p', 'e', '\\t', 'W', 'r', 'i', 't', 'i', 'n', 'g', ' ', 's', 'u', 'b', 'l', 'i', 's', 't', 's', ' ', 'i', 'n', ' ', 'a', ' ', 'l', 'i', 's', 't', ' ', 'o', 'f', ' ', 'l', 'i', 's', 't', 's', ' ', 't', 'o', ' ', 's', 'e', 'p', 'a', 'r', 'a', 't', 'e', ' ', 't', 'e', 'x', 't', ' ', 'f', 'i', 'l', 'e', 's', '\\t', 'i', 'P', 'a', 'd', ':', ' ', 'p', 'r', 'o', 'b', 'l', 'e', 'm', 's', ' ', 'w', 'i', 't', 'h', ' ', 't', 'a', 'b', 'l', 'e', ' ', 'r', 'o', 'w', 's', ' ', 'i', 'n', ' ', 'p', 'o', 'p', 'o', 'v', 'e', 'r', 'c', 'o', 'n', 't', 'r', 'o', 'l', '\\t', 'R', 'e', 't', 'r', 'i', 'e', 'v', 'e', ' ', 'm', 'u', 'l', 't', 'i', 'p', 'l', 'e', ' ', 'r', 'e', 's', 'u', 'l', 't', 's', ' ', 's', 'e', 't', '\\t', 'p', 'a', 'g', 'i', 'n', 'a', 't', 'i', 'o', 'n', ' ', 'i', 's', ' ', 'n', 'o', 't', ' ', 'w', 'o', 'r', 'k', 'i', 'n', 'g', ' ', 'i', 'n', ' ', 'c', 'o', 'd', 'e', 'i', 'g', 'n', 'i', 't', 'e', 'r', ' ', ':', '(', '\\t', 'A', 'n', 'g', 'u', 'l', 'a', 'r', ' ', 'N', 'V', 'D', '3', ' ', 'C', 'h', 'a', 'n', 'g', 'e', ' ', 'C', 'o', 'l', 'o', 'r', 's', ' ', 'I', 'n', ' ', 'L', 'e', 'g', 'e', 'n', 'd', 's', ' ', 'A', 'l', 's', 'o', '\\t', 'n', 'o', 'd', 'e', '.', 'j', 's', ' ', 's', 'e', 'r', 'v', 'e', 'r', ' ', 'n', 'o', 't', ' ', 'r', 'e', 's', 'p', 'o', 'n', 'd', 'i', 'n', 'g', ' ', 'w', 'h', 'i', 'l', 'e', ' ', 'l', 'a', 'r', 'g', 'e', ' ', 'f', 'i', 'l', 'e', ' ', 'u', 'p', 'l', 'o', 'a', 'd', ' ', 'w', 'i', 't', 'h', ' ', 'e', 'x', 'p', 'r', 'e', 's', 's', ' ', 'a', 'n', 'd', ' ', 'b', 'u', 's', 'b', 'o', 'y', '\\t', 'S', 'e', 'n', 'd', ' ', 'r', 'e', 'q', 'u', 'e', 's', 't', ' ', '&', ' ', 'G', 'e', 't', ' ', 'R', 'e', 's', 'p', 'o', 'n', 's', 'e', ' ', 'i', 'n', ' ', 'W', 'i', 'n', 'd', 'o', 'w', 's', ' ', 'P', 'h', 'o', 'n', 'e', ' ', '8', '.', '1', ' ', 'W', 'i', 'n', 'R', 'T', '\\t', 'w', 'a', 'n', 't', ' ', 't', 'o', ' ', 'd', 'e', 'l', 'e', 't', 'e', ' ', 'o', 'n', 'l', 'y', ' ', 'e', 'm', 'p', 't', 'y', ' ', 'f', 'o', 'l', 'd', 'e', 'r', 's', ' ', 'f', 'r', 'o', 'm', ' ', 'd', 'i', 'r', 'e', 'c', 't', 'o', 'r', 'y', ' ', 'b', 'e', 'f', 'o', 'r', 'e', ' ', 'l', 'a', 's', 't', ' ', '3', '0', ' ', 'd', 'a', 'y', 's', ' ', 'u', 's', 'i', 'n', 'g', ' ', 'b', 'a', 't', 'c', 'h', '\\t', 'C', 'r', 'e', 'a', 't', 'i', 'n', 'g', ' ', 'X', ' ', 'a', 'm', 'o', 'u', 'n', 't', ' ', 'o', 'f', ' ', 't', 'h', 'r', 'e', 'a', 'd', 's', ' ', 't', 'h', 'a', 't', ' ', 'e', 'x', 'e', 'c', 'u', 't', 'e', ' ', 'a', ' ', 't', 'a', 's', 'k', ' ', 'a', 't', ' ', 't', 'h', 'e', ' ', 's', 'a', 'm', 'e', ' ', 't', 'i', 'm', 'e', '\\t', 'A', 'n', 'd', 'r', 'o', 'i', 'd', ' ', 'S', 't', 'u', 'd', 'i', 'o', ' ', '2', '.', '2', ' ', 'u', 'p', 'd', 'a', 't', 'e', ':', ' ', 'a', 'l', 'i', 'g', 'n', 'e', 'd', ' ', 'A', 'P', 'K', ' ', '(', 'z', 'i', 'p', 'A', 'l', 'i', 'g', 'n', ')', ' ', 'n', 'o', 't', ' ', 'g', 'e', 'n', 'e', 'r', 'a', 't', 'e', 'd', ' ', 'u', 's', 'i', 'n', 'g', ' ', 't', 'h', 'e', ' ', 'n', 'e', 'w', ' ', 'G', 'r', 'a', 'd', 'l', 'e', ' ', 'P', 'l', 'u', 'g', 'i', 'n', ' ', '2', '.', '2', '.', '0', '\\t', 'E', 'n', 't', 'i', 't', 'y', ' ', 'F', 'r', 'a', 'm', 'e', 'w', 'o', 'r', 'k', ' ', '-', ' ', 'a', 'd', 'd', 'i', 'n', 'g', ' ', 't', 'h', 'e', ' ', 's', 'a', 'm', 'e', ' ', 'e', 'n', 't', 'i', 't', 'y', ' ', 't', 'w', 'i', 'c', 'e', ' ', 'i', 'n', ' ', 'm', 'a', 'n', 'y', '-', 't', 'o', '-', 'm', 'a', 'n', 'y', ' ', 'r', 'e', 'l', 'a', 't', 'i', 'o', 'n', 's', 'h', 'i', 'p', 's', '\\t', 'J', 'o', 'i', 'n', ' ', 't', 'w', 'o', ' ', 't', 'a', 'b', 'l', 'e', 's', ',', ' ', 'o', 'n', 'l', 'y', ' ', 'd', 'i', 's', 'p', 'l', 'a', 'y', ' ', 'u', 'n', 'i', 'q', 'u', 'e', ' ', 'v', 'a', 'l', 'u', 'e', 's', ' ', 'a', 'n', 'd', ' ', 'm', 'a', 'x', 'i', 'u', 'm', ' ', 'd', 'a', 't', 'e', '\\t', 'H', 'o', 'w', ' ', 't', 'o', ' ', 'u', 's', 'e', ' ', 'a', 'b', 's', 'o', 'l', 'u', 't', 'e', ' ', 'p', 'o', 's', 'i', 't', 'i', 'o', 'n', ' ', 'r', 'e', 'l', 'a', 't', 'i', 'v', 'e', ' ', 't', 'o', ' ', 'p', 'a', 'r', 'e', 'n', 't', ' ', 'e', 'l', 'e', 'm', 'e', 'n', 't', '\\t', 'S', 'e', 'a', 'r', 'c', 'h', ' ', 'r', 'e', 'f', 'i', 'n', 'e', 'm', 'e', 'n', 't', ' ', 'f', 'o', 'r', ' ', 'W', 'e', 'b', 'M', 'a', 't', 'r', 'i', 'x', ' ', 's', 'i', 't', 'e', '\\t', 'M', 'a', 'v', 'e', 'n', ' ', 'p', 'r', 'o', 'j', 'e', 'c', 't', ' ', 'v', 'e', 'r', 's', 'i', 'o', 'n', ' ', 'a', 's', ' ', 'e', 'x', 'p', 'r', 'e', 's', 's', 'i', 'o', 'n', ',', ' ', 'n', 'o', 't', ' ', 'c', 'o', 'n', 's', 't', 'a', 'n', 't', '\\t', 'C', 'a', 'n', ' ', 'I', ' ', 'p', 'r', 'e', 'v', 'e', 'n', 't', ' ', 'A', 'p', 'p', '.', 'g', '.', 'i', '.', 'c', 's', ' ', 't', 'o', ' ', 'b', 'e', ' ', 'g', 'e', 'n', 'e', 'r', 'a', 't', 'e', 'd', '?', '\\t', 'T', 'r', 'o', 'u', 'b', 'l', 'e', 's', ' ', 'c', 'o', 'n', 'v', 'e', 'r', 't', 'i', 'n', 'g', ' ', 'X', 'S', 'D', ' ', 't', 'o', ' ', 'J', 'a', 'v', 'a', ' ', 'u', 's', 'i', 'n', 'g', ' ', 'J', 'A', 'X', 'B', '\\t', 'C', 'a', 'n', 'n', 'o', 't', ' ', 'r', 'u', 'n', ' ', 'a', ' ', 'j', 'a', 'x', ' ', 'r', 's', ' ', 'w', 'e', 'b', ' ', 's', 'e', 'r', 'v', 'i', 'c', 'e', ' ', 'w', 'i', 't', 'h', ' ', 't', 'o', 'm', 'c', 'a', 't', '\\t', 'm', 'a', 'k', 'e', ' ', 'a', ' ', 'p', 'a', 's', 's', 'w', 'o', 'r', 'd', ' ', 'p', 'r', 'o', 't', 'e', 'c', 't', 'e', 'd', ' ', 'b', 'a', 's', 'h', ' ', 's', 'c', 'r', 'i', 'p', 't', ' ', 'r', 'e', 's', 'i', 's', 't', '/', 'r', 'e', 'f', 'u', 's', 'e', ' ', '\"', 'b', 'a', 's', 'h', ' ', '-', 'x', '\"', ' ', 'w', 'h', 'e', 'n', ' ', 't', 'h', 'e', ' ', 'p', 'a', 's', 's', 'w', 'o', 'r', 'd', ' ', 'i', 's', ' ', 'g', 'i', 'v', 'e', 'n', '\\t', 'D', 'o', 'e', 's', ' ', 'y', 'o', 'u', 't', 'u', 'b', 'e', ' ', 'a', 'p', 'i', ' ', 'p', 'l', 'a', 'y', ' ', 'f', 'u', 'n', 'c', 't', 'i', 'o', 'n', ' ', 't', 'r', 'i', 'g', 'g', 'e', 'r', ' ', 'a', ' ', 'v', 'i', 'e', 'w', ' ', 'c', 'o', 'u', 'n', 't', '?', '\\t', 'W', 'h', 'y', ' ', 'i', 's', ' ', 't', 'h', 'i', 's', ' ', 'P', 'e', 'r', 'l', ' ', 'l', 'o', 'o', 'p', ' ', 'o', 'v', 'e', 'r', ' ', 's', 't', 'r', 'i', 'n', 'g', 's', ' ', 't', 'h', 'e', 'n', ' ', 'c', 'h', 'a', 'r', 'a', 'c', 't', 'e', 'r', 's', ' ', 's', 'o', ' ', 's', 'l', 'o', 'w', '?', '\\t', 'H', 'o', 'w', ' ', 'c', 'a', 'n', ' ', 'I', ' ', 'c', 'h', 'a', 'n', 'g', 'e', ' ', 't', 'h', 'e', ' ', 's', 'i', 'z', 'e', ' ', 'o', 'f', ' ', 'r', 'g', 'l', ' ', 'p', 'l', 'o', 't', 's', ' ', 'i', 'n', ' ', 'S', 'h', 'i', 'n', 'y', ' ', 'R', 'M', 'a', 'r', 'k', 'd', 'o', 'w', 'n', '?', '\\t', 'H', 'o', 'w', ' ', 'd', 'o', ' ', 'I', ' ', 'p', 'r', 'o', 'g', 'r', 'a', 'm', 'm', 'a', 't', 'i', 'c', 'a', 'l', 'l', 'y', ' ', 'd', 'i', 's', 'c', 'o', 'n', 'n', 'e', 'c', 't', ' ', 'c', 'l', 'i', 'e', 'n', 't', 's', ' ', 'w', 'h', 'i', 'c', 'h', ' ', 'a', 'r', 'e', ' ', 'c', 'o', 'n', 'n', 'e', 'c', 't', 'e', 'd', ' ', 't', 'o', ' ', 'S', 'o', 'l', 'a', 'c', 'e', ' ', 'a', 'p', 'p', 'l', 'i', 'a', 'n', 'c', 'e', '?', '\\t', 'R', 'a', 'i', 'l', 's', ' ', 'b', 'e', 'f', 'o', 'r', 'e', '_', 'f', 'i', 'l', 't', 'e', 'r', ' ', '(', 'C', 'o', 'r', 'r', 'e', 'c', 't', '_', 'u', 's', 'e', 'r', ' ', 'O', 'R', ' ', 'A', 'd', 'm', 'i', 'n', ')', '\\t', 'H', 'o', 'w', ' ', 't', 'o', ' ', 'g', 'i', 't', 'i', 'g', 'n', 'o', 'r', 'e', ' ', 'e', 'v', 'e', 'r', 'y', 't', 'h', 'i', 'n', 'g', ' ', 'e', 'x', 'c', 'e', 'p', 't', ' ', 'h', 'i', 'd', 'd', 'e', 'n', ' ', 's', 'u', 'b', 'd', 'i', 'r', '?', '\\t', 'S', 'h', 'o', 'u', 'l', 'd', ' ', 'I', ' ', 'u', 's', 'e', ' ', 'w', 'e', 'a', 'k', 'S', 'e', 'l', 'f', ' ', 'i', 'n', ' ', 'n', 'e', 's', 't', 'e', 'd', ' ', 'b', 'l', 'o', 'c', 'k', 's', '?', '\\t', 'C', 'S', 'S', ' ', 'b', 'a', 'c', 'k', 'g', 'r', 'o', 'u', 'n', 'd', ' ', 'c', 'o', 'l', 'o', 'r', ' ', 'n', 'o', 't', ' ', 'b', 'e', 'h', 'a', 'v', 'i', 'n', 'g', ' ', 'a', 's', ' ', 'e', 'x', 'p', 'e', 'c', 't', 'e', 'd', '\\t', 'A', 'n', 'd', 'r', 'o', 'i', 'd', ' ', 'a', 'p', 'p', ' ', 'L', 'i', 's', 't', 'v', 'i', 'e', 'w', ' ', 'c', 'a', 'n', 'n', 'o', 't', ' ', 'b', 'e', ' ', 's', 'c', 'r', 'o', 'l', 'l', 'e', 'd', ' ', 't', 'o', ' ', 'b', 'o', 't', 't', 'o', 'm', ' ', 't', 'o', ' ', 's', 'e', 'a', 'r', 'c', 'h', ' ', 'a', ' ', 's', 'p', 'e', 'c', 'i', 'f', 'i', 'c', ' ', 'e', 'l', 'e', 'm', 'e', 'n', 't', ' ', 'u', 's', 'i', 'n', 'g', ' ', 'a', 'p', 'p', 'i', 'u', 'm', ' ', 'i', 'n', ' ', 'j', 'a', 'v', 'a', '\\t', 'R', 'a', 'i', 'l', 's', ':', ' ', 'W', 'h', 'y', ' ', '\"', 'h', 'a', 's', '_', 'm', 'a', 'n', 'y', ' ', '.', '.', '.', ',', ' ', ':', 't', 'h', 'r', 'o', 'u', 'g', 'h', ' ', '=', '>', ' ', '.', '.', '.', '\"', ' ', 'a', 's', 's', 'o', 'c', 'i', 'a', 't', 'i', 'o', 'n', ' ', 'r', 'e', 's', 'u', 'l', 't', 's', ' ', 'i', 'n', ' ', '\"', 'N', 'a', 'm', 'e', 'E', 'r', 'r', 'o', 'r', ':', ' ', 'u', 'n', 'i', 'n', 'i', 't', 'i', 'a', 'l', 'i', 'z', 'e', 'd', ' ', 'c', 'o', 'n', 's', 't', 'a', 'n', 't', ' ', '.', '.', '.', '\"', '\\t', 'H', 'o', 'w', ' ', 't', 'o', ' ', 's', 'e', 'n', 'd', ' ', 'd', 'a', 't', 'a', ' ', 'b', 'e', 't', 'w', 'e', 'e', 'n', ' ', 'f', 'r', 'a', 'g', 'm', 'e', 'n', 't', 's', ' ', 'w', 'h', 'e', 'n', ' ', 's', 'w', 'i', 'p', 'i', 'n', 'g', ' ', 't', 'a', 'b', 's', ' ', 'i', 'n', ' ', 'V', 'i', 'e', 'w', 'P', 'a', 'g', 'e', 'r', '\\t', 'W', 'o', 'r', 'd', 'p', 'r', 'e', 's', 's', ' ', 's', 't', 'a', 't', 'i', 'c', ' ', 'p', 'a', 'g', 'e', 's', ':', ' ', 'h', 'o', 'w', ' ', 't', 'o', ' ', 'e', 'm', 'b', 'e', 'd', ' ', 'c', 'o', 'n', 't', 'e', 'n', 't', ' ', 'i', 'n', 't', 'o', ' ', 't', 'e', 'm', 'p', 'l', 'a', 't', 'e', 's', '?', '\\t', 'T', 'r', 'o', 'u', 'b', 'l', 'e', 's', ' ', 'w', 'i', 't', 'h', ' ', 'i', 'm', 'p', 'o', 'r', 't', 'i', 'n', 'g', ' ', 'c', 'l', 'a', 's', 's', 'e', 's', ' ', 'f', 'r', 'o', 'm', ' ', 'A', 'n', 'g', 'u', 'l', 'a', 'r', ' ', '2', ' ', 'm', 'o', 'd', 'u', 'l', 'e', 's', ' ', 'w', 'i', 't', 'h', ' ', 'T', 'y', 'p', 'e', 's', 'c', 'r', 'i', 'p', 't', ' ', '1', '.', '7', '\\t', 'i', ' ', 'a', 'm', ' ', 'n', 'o', 't', ' ', 'a', 'b', 'l', 'e', ' ', 't', 'o', ' ', 'g', 'e', 't', ' ', 't', 'h', 'e', ' ', 'i', 'm', 'a', 'g', 'e', 's', ' ', 'r', 'e', 'a', 'd', ' ', 'i', 'n', ' ', 'j', 'a', 'v', 'a', ' ', 'f', 'o', 'r', ' ', 'e', 'x', 'p', 'o', 'r', 't', 'i', 'n', 'g', ' ', 'i', 't', ' ', 'a', 's', ' ', 'J', 'A', 'R', '\\t', 'H', 'o', 'w', ' ', 'd', 'o', ' ', 'I', ' ', 'c', 'r', 'e', 'a', 't', 'e', ' ', 'a', ' ', 'r', 'e', 's', 'o', 'u', 'r', 'c', 'e', ' ', 'd', 'l', 'l', '\\t', 'e', 'r', 'r', 'o', 'r', ':', ' ', 'l', 'i', 'n', 'k', 'e', 'r', ' ', 'c', 'o', 'm', 'm', 'a', 'n', 'd', ' ', 'f', 'a', 'i', 'l', 'e', 'd', ':', ' ', 'l', 'd', ':', ' ', 'd', 'u', 'p', 'l', 'i', 'c', 'a', 't', 'e', ' ', 's', 'y', 'm', 'b', 'o', 'l', ' ', '_', 'm', 'a', 'i', 'n', '\\t', 's', 'q', 'l', ' ', 't', 'o', ' ', 'f', 'i', 'n', 'd', ' ', 'n', 'o', 'n', '-', 'p', 'r', 'i', 'n', 't', 'a', 'b', 'l', 'e', ' ', 'c', 'h', 'a', 'r', 'a', 'c', 't', 'e', 'r', 's', ' ', 'i', 'n', ' ', 'a', ' ', 's', 't', 'r', 'i', 'n', 'g', '\\t', 'i', ' ', 'w', 'a', 'n', 't', ' ', 't', 'o', ' ', 'g', 'e', 'n', 'e', 'r', 'a', 't', 'e', ' ', 'p', 'a', 'y', 'p', 'e', 'r', 'i', 'o', 'd', ' ', 'f', 'o', 'r', ' ', 'e', 'a', 'c', 'h', ' ', 'm', 'o', 'n', 't', 'h', '\\t', 'I', 'n', 't', 'e', 'r', 'a', 'c', 't', 'i', 'v', 'e', 'l', 'y', ' ', 'e', 'n', 't', 'e', 'r', ' ', 'h', 'e', 'a', 'd', 'l', 'i', 'n', 'e', ' ', 'u', 'n', 'd', 'e', 'r', ' ', 'w', 'h', 'i', 'c', 'h', ' ', 't', 'o', ' ', 'p', 'l', 'a', 'c', 'e', ' ', 'a', 'n', ' ', 'e', 'n', 't', 'r', 'y', ' ', 'u', 's', 'i', 'n', 'g', ' ', 'c', 'a', 'p', 't', 'u', 'r', 'e', '\\t', 'Q', 'u', 'e', 'r', 'y', 'i', 'n', 'g', ' ', 't', 'h', 'e', ' ', 'D', 'N', 'S', ' ', 's', 'e', 'r', 'v', 'i', 'c', 'e', ' ', 'r', 'e', 'c', 'o', 'r', 'd', 's', ' ', 't', 'o', ' ', 'f', 'i', 'n', 'd', ' ', 't', 'h', 'e', ' ', 'h', 'o', 's', 't', 'n', 'a', 'm', 'e', ' ', 'a', 'n', 'd', ' ', 'T', 'C', 'P', '/', 'I', 'P', '\\t', 'C', 'a', 'n', ' ', 'I', ' ', 'u', 's', 'e', ' ', 's', 'e', 't', 'C', 'o', 'n', 't', 'e', 'n', 't', 'V', 'i', 'e', 'w', ' ', 'o', 'u', 't', 's', 'i', 'd', 'e', ' ', 't', 'h', 'e', ' ', 'o', 'n', 'c', 'r', 'e', 'a', 't', 'e', ' ', 'm', 'e', 't', 'h', 'o', 'd', '?', '\\t', 'C', 'o', 'n', 's', 'o', 'l', 'i', 't', 'a', 't', 'e', ' ', 'd', 'a', 't', 'a', ' ', 'f', 'r', 'o', 'm', ' ', 'm', 'u', 'l', 't', 'i', 'b', 'l', 'e', ' ', 's', 'h', 'e', 'e', 't', 's', ' ', ',', 'r', 'e', '-', 'a', 'r', 'r', 'a', 'n', 'g', 'e', ' ', 't', 'h', 'e', ' ', 'd', 'a', 't', 'a', ' ', 'a', 's', ' ', 'p', 'e', 'r', ' ', 't', 'h', 'e', ' ', 'c', 'o', 'l', 'u', 'm', 'n', ' ', 'n', 'a', 'm', 'e', '\\t', 'W', 'h', 'y', ' ', 'i', 's', ' ', 'm', 'y', ' ', \"'\", 't', 'r', 'a', 'n', 's', 'p', 'a', 'r', 'e', 'n', 't', \"'\", ' ', 'o', 'v', 'e', 'r', 'l', 'a', 'y', ' ', 'v', 'i', 'e', 'w', ' ', 'o', 'p', 'a', 'q', 'u', 'e', '?', '\\t', 'h', 'o', 'w', ' ', 'c', 'a', 'n', ' ', 'I', ' ', 'r', 'u', 'n', ' ', 'p', 'l', 'a', 'y', ' ', 'f', 'r', 'a', 'm', 'e', 'w', 'o', 'r', 'k', ' ', 'w', 'i', 't', 'h', ' ', 'p', 'o', 'r', 't', '=', '9', '0', '0', '1', ' ', 'u', 'n', 'd', 'e', 'r', ' ', 'w', 'i', 'n', 'd', 'o', 'w', 's', ' ', 'c', 'm', 'd', ' ', 'n', 'o', 't', ' ', 'u', 'n', 'd', 'e', 'r', ' ', 'p', 'l', 'a', 'y', ' ', 'c', 'o', 'n', 's', 'o', 'l', 'e', '?', '\\t', 'R', 'a', 'i', 'l', 's', ' ', '3', ' ', '-', ' ', 'A', 'j', 'a', 'x', ' ', 'P', 'O', 'S', 'T', 'S', ' ', 'f', 'r', 'o', 'm', ' ', 'a', ' ', 'l', 'i', 'n', 'k', ' ', 'c', 'l', 'i', 'c', 'k', '\\t', 'A', 'd', 'd', ' ', 'h', 't', 'm', 'l', ' ', 'c', 'o', 'n', 't', 'e', 'n', 't', ' ', 't', 'o', ' ', 'm', 'y', 's', 'q', 'l', ' ', 'd', 'i', 'e', ' ', 'e', 'r', 'r', 'o', 'r', '?', '\\t', 'B', 'e', 's', 't', ' ', 'w', 'a', 'y', ' ', 't', 'o', ' ', 'r', 'u', 'n', ' ', 'a', ' ', 'P', 'l', 'a', 'c', 'k', ' ', 'P', 'S', 'G', 'I', ' ', 'P', 'e', 'r', 'l', ' ', 'a', 'p', 'p', 'l', 'i', 'c', 'a', 't', 'i', 'o', 'n', ' ', 'o', 'u', 't', 's', 'i', 'd', 'e', ' ', 'o', 'f', ' ', 'A', 'p', 'a', 'c', 'h', 'e', ' ', 'u', 's', 'i', 'n', 'g', ' ', 'F', 'a', 's', 't', 'C', 'G', 'I', '?', '\\t', 'H', 'o', 'w', ' ', 't', 'o', ' ', 'C', 'a', 'l', 'l', ' ', 'N', 'S', 'U', 's', 'e', 'r', 'D', 'e', 'f', 'a', 'u', 'l', 't', ' ', 'V', 'a', 'l', 'u', 'e', ' ', 'T', 'o', ' ', 'A', 'n', 'o', 't', 'h', 'e', 'r', ' ', 'V', 'i', 'e', 'w', ' ', 'C', 'o', 'n', 't', 'r', 'o', 'l', 'l', 'e', 'r', '?', '\\t', 'D', 'o', 'e', 's', ' ', 'Q', 't', ' ', 'h', 'a', 'v', 'e', ' ', 'a', ' ', 'w', 'a', 'y', ' ', 't', 'o', ' ', 'g', 'e', 't', ' ', 't', 'h', 'e', ' ', 'f', 'o', 'n', 't', ' ', 't', 'h', 'a', 't', ' ', 't', 'h', 'e', ' ', 'p', 'a', 'r', 't', 'i', 'c', 'u', 'l', 'a', 'r', ' ', 'c', 's', 's', ' ', 'r', 'e', 's', 'o', 'l', 'v', 'e', 's', ' ', 't', 'o', '?', '\\t', 'H', 'o', 'w', ' ', 't', 'o', ' ', 'u', 'p', 'd', 'a', 't', 'e', ' ', 'P', 'a', 'r', 'e', 'n', 't', ' ', 'c', 'o', 'm', 'p', 'o', 'n', 'e', 'n', 't', ' ', 'a', 'b', 'o', 'u', 't', ' ', 't', 'h', 'e', ' ', 'd', 'a', 't', 'a', ' ', 't', 'h', 'a', 't', ' ', 'c', 'h', 'i', 'l', 'd', ' ', 'c', 'o', 'm', 'p', 'o', 'n', 'e', 'n', 't', ' ', 'm', 'o', 'd', 'i', 'f', 'i', 'e', 'd', '(', 'a', 'n', 'g', 'u', 'l', 'a', 'r', ' ', '1', '.', '5', ')', '\\t', '2', 'd', ' ', 'a', 'r', 'r', 'a', 'y', ',', ' ', 'p', 'u', 's', 'h', 'i', 'n', 'g', ' ', 't', 'o', ' ', 'o', 'n', 'e', ' ', 'a', 'r', 'r', 'a', 'y', ' ', 's', 'h', 'o', 'w', 's', ' ', 'u', 'p', ' ', 'i', 'n', ' ', 'a', 'l', 'l', ' ', 'a', 'r', 'r', 'a', 'y', 's', '?', '\\t', 'G', 'e', 't', ' ', 'N', 'S', 'D', 'a', 't', 'a', ' ', 'f', 'r', 'o', 'm', ' ', 'a', 's', 's', 'e', 't', 's', '-', 'l', 'i', 'b', 'r', 'a', 'r', 'y', ' ', 'U', 'R', 'L', '\\t', 'H', 'o', 'w', ' ', 't', 'o', ' ', 's', 'p', 'e', 'c', 'i', 'f', 'y', ' ', 'i', 'm', 'a', 'g', 'e', ' ', 's', 'i', 'z', 'e', ' ', 'i', 'n', ' ', 'H', 'T', 'M', 'L', ' ', 'D', 'o', 'x', 'y', 'g', 'e', 'n', '?', '\\t', 'N', 'S', 'F', 'e', 't', 'c', 'h', 'e', 'd', 'R', 'e', 's', 'u', 'l', 't', 's', 'C', 'o', 'n', 't', 'r', 'o', 'l', 'l', 'e', 'r', 'D', 'e', 'l', 'e', 'g', 'a', 't', 'e', ' ', 'i', 'n', ' ', 'a', ' ', 's', 'e', 'c', 'o', 'n', 'd', ' ', 'v', 'i', 'e', 'w', ' ', 'c', 'o', 'n', 't', 'r', 'o', 'l', 'l', 'e', 'r', ' ', '(', 'n', 'o', 't', ' ', 'f', 'i', 'r', 'i', 'n', 'g', '?', ')', '\\t', 'D', 'r', 'a', 'g', 'g', 'a', 'b', 'l', 'e', ' ', 'd', 'i', 'v', 's', ' ', 'g', 'e', 't', 't', 'i', 'n', 'g', ' ', 'm', 'i', 'x', 'e', 'd', ' ', 'w', 'i', 't', 'h', ' ', 'a', 'n', 'o', 't', 'h', 'e', 'r', ' ', 'd', 'i', 'v', 's', '\\t', 'c', 'r', 'e', 'a', 't', 'i', 'n', 'g', ' ', 'M', 'L', 'P', ' ', 'i', 'n', ' ', 'p', 'y', 't', 'h', 'o', 'n', ' ', 's', 'h', 'o', 'w', 'i', 'n', 'g', ' ', 'e', 'r', 'r', 'o', 'r', '\\t', 'C', 'r', 'e', 'a', 't', 'e', ' ', 'S', 'h', 'a', 'r', 'e', 'P', 'o', 'i', 'n', 't', ' ', '2', '0', '1', '0', ' ', 'r', 'i', 'b', 'b', 'o', 'n', ' ', 'b', 'u', 't', 't', 'o', 'n', ' ', 'p', 'r', 'o', 'g', 'r', 'a', 'm', 'm', 'a', 't', 'i', 'c', 'a', 'l', 'l', 'y', ' ', 'w', '/', 'o', ' ', 'f', 'e', 'a', 't', 'u', 'r', 'e', ' ', 'X', 'M', 'L', '\\t', 'h', 'o', 'w', ' ', 'c', 'a', 'n', ' ', 'I', ' ', 'u', 's', 'e', ' ', 'p', 'y', 'g', 'l', 'e', 't', ' ', 'w', 'r', 'i', 't', 'e', ' ', 'a', ' ', 'm', 'u', 's', 'i', 'c', ' ', 'p', 'l', 'a', 'y', 'e', 'r', ' ', 'c', 'a', 'n', ' ', 'p', 'l', 'a', 'y', ' ', 'a', ' ', 'm', 'u', 's', 'i', 'c', ' ', 'l', 'i', 's', 't', '\\t', 'H', 'o', 'w', ' ', 'c', 'a', 'n', ' ', 'I', ' ', 'e', 'f', 'f', 'i', 'c', 'i', 'e', 'n', 't', 'l', 'y', ' ', 'd', 'e', 'b', 'u', 'g', ' ', 'l', 'o', 'o', 'p', 's', ' ', 'c', 'o', 'n', 's', 'i', 's', 't', 'i', 'n', 'g', ' ', 'o', 'f', ' ', 'a', ' ', 'l', 'a', 'r', 'g', 'e', ' ', 'n', 'u', 'm', 'b', 'e', 'r', ' ', 'o', 'f', ' ', 'i', 't', 'e', 'r', 'a', 't', 'i', 'o', 'n', 's', ' ', 'o', 'n', ' ', 'E', 'c', 'l', 'i', 'p', 's', 'e', '?', '\\t', 'P', 'a', 's', 's', 'i', 'n', 'g', ' ', 'a', ' ', 'm', 'o', 'd', 'e', 'l', ' ', 'o', 'b', 'j', 'e', 'c', 't', ' ', 't', 'o', ' ', 'a', ' ', 'R', 'e', 'd', 'i', 'r', 'e', 'c', 't', 'T', 'o', 'A', 'c', 't', 'i', 'o', 'n', ' ', 'w', 'i', 't', 'h', 'o', 'u', 't', ' ', 'p', 'o', 'l', 'l', 'u', 't', 'i', 'n', 'g', ' ', 't', 'h', 'e', ' ', 'U', 'R', 'L', '?', '\\t', 'A', 'u', 't', 'o', 'm', 'a', 't', 'i', 'c', 'a', 'l', 'l', 'y', ' ', 'r', 'e', 'c', 'e', 'i', 'v', 'i', 'n', 'g', ' ', 'm', 'o', 'b', 'i', 'l', 'e', ' ', 'p', 'h', 'o', 'n', 'e', \"'\", 's', ' ', 'S', 'M', 'S', ' ', 't', 'o', ' ', 'h', 'y', 'p', 'e', 'r', 't', 'e', 'r', 'm', 'i', 'n', 'a', 'l', '\\t', 'O', 'u', 't', 'p', 'u', 't', ' ', '\"', 'S', 'y', 's', 't', 'e', 'm', '.', 'o', 'u', 't', '.', 'p', 'r', 'i', 'n', 't', 'l', 'n', '\"', ' ', 'i', 'n', 't', 'o', ' ', 'E', 'm', 'a', 'c', 's', ' ', 'C', 'i', 'd', 'e', 'r', \"'\", 's', ' ', 'R', 'E', 'P', 'L', ' ', '(', 'o', 'r', ' ', 'o', 't', 'h', 'e', 'r', ' ', 'b', 'u', 'f', 'f', 'e', 'r', ')', '\\t', 'S', 'c', 'o', 'r', 'i', 'n', 'g', ' ', 'r', 'e', 'g', 'r', 'e', 's', 's', 'i', 'o', 'n', ' ', 'm', 'o', 'd', 'e', 'l', ' ', 'u', 's', 'i', 'n', 'g', ' ', 'P', 'M', 'M', 'L', ' ', 'w', 'i', 't', 'h', ' ', 'A', 'u', 'g', 'u', 's', 't', 'u', 's', ' ', 'i', 'n', ' ', 'P', 'y', 't', 'h', 'o', 'n', '\\t', 'S', 'a', 'f', 'a', 'r', 'i', ' ', 'V', 'i', 'e', 'w', ' ', 'C', 'o', 'n', 't', 'r', 'o', 'l', 'l', 'e', 'r', ' ', '-', ' ', 's', 'e', 'n', 'd', ' ', 'd', 'a', 't', 'a', ' ', 'b', 'a', 'c', 'k', ' ', 't', 'o', ' ', 'a', 'p', 'p', '\\t', 'S', 'i', 'g', 'n', 'a', 'l', 'l', 'i', 'n', 'g', ' ', 'a', ' ', 'b', 'a', 's', 'h', ' ', 's', 'c', 'r', 'i', 'p', 't', ' ', 'r', 'u', 'n', 'n', 'i', 'n', 'g', ' ', 'i', 'n', ' ', 't', 'h', 'e', ' ', 'b', 'a', 'c', 'k', 'g', 'r', 'o', 'u', 'n', 'd', ' ', 'i', 'n', ' ', 'a', 'n', ' ', 'i', 'n', 'f', 'i', 'n', 'i', 't', 'e', ' ', 'l', 'o', 'o', 'p', '\\t', 'H', 'o', 'w', ' ', 'd', 'o', ' ', 'I', ' ', 'a', 'd', 'd', ' ', 'i', 'n', '-', 'a', 'p', 'p', ' ', 'p', 'u', 'r', 'c', 'h', 'a', 's', 'e', ' ', 't', 'o', ' ', 'a', ' ', 'p', 'u', 'b', 'l', 'i', 's', 'h', 'e', 'd', ' ', 'a', 'p', 'p', ' ', 'i', 'n', ' ', 'p', 'l', 'a', 'y', ' ', 's', 't', 'o', 'r', 'e', ' ', 'a', 'n', 'd', ' ', 't', 'e', 's', 't', ' ', 'i', 't', ' ', 'b', 'e', 'f', 'o', 'r', 'e', ' ', 'g', 'o', 'i', 'n', 'g', ' ', 'i', 'n', 't', 'o', ' ', 'p', 'r', 'o', 'd', 'u', 'c', 't', 'i', 'o', 'n', '?', '\\t', 'F', 'i', 'l', 'e', 'N', 'o', 't', 'F', 'o', 'u', 'n', 'd', 'E', 'x', 'c', 'e', 'p', 't', 'i', 'o', 'n', ' ', 'i', 'n', ' ', 'W', 'i', 'n', 'd', 'o', 'w', 's', ' ', '1', '0', ' ', 'U', 'n', 'i', 'v', 'e', 'r', 's', 'a', 'l', ' ', 'A', 'p', 'p', ' ', '(', 'U', 'A', 'P', ')', '\\t', 'H', 'o', 'w', ' ', 't', 'o', ' ', 'm', 'a', 'p', ' ', 'o', 'n', 'e', ' ', 'c', 'o', 'l', 'u', 'm', 'n', ' ', 'w', 'i', 't', 'h', ' ', 'o', 't', 'h', 'e', 'r', ' ', 'c', 'o', 'l', 'u', 'm', 'n', 's', ' ', 'i', 'n', ' ', 'a', 'n', ' ', 'a', 'v', 'r', 'o', ' ', 'f', 'i', 'l', 'e', '?', '\\t', 'R', 'e', 't', 'r', 'i', 'e', 'v', 'i', 'n', 'g', ' ', 'a', 'l', 'l', ' ', 't', 'h', 'e', ' ', 'c', 'e', 'l', 'l', ' ', 'd', 'a', 't', 'a', ' ', 'f', 'r', 'o', 'm', ' ', 'a', ' ', 'j', 'Q', 'u', 'e', 'r', 'y', ' ', 'd', 'a', 't', 'a', 't', 'a', 'b', 'l', 'e', ' ', 'o', 'n', ' ', 'p', 'o', 's', 't', '\\t', 'I', 'n', ' ', 'P', 'l', 'a', 'y', '!', ' ', 'F', 'r', 'a', 'm', 'e', ' ', 'w', 'o', 'r', 'k', ' ', 'C', 'a', 'n', ' ', 'I', ' ', 'M', 'a', 'k', 'e', ' ', 'c', 'l', 'a', 's', 's', 'e', 's', ' ', 'I', 'n', ' ', 'm', 'o', 'd', 'e', 'l', 's', ' ', 'p', 'a', 'c', 'k', 'a', 'g', 'e', ' ', 'S', 'i', 'n', 'g', 'l', 'e', 't', 'o', 'n', '?', '\\t', 'B', 'i', 'n', 'd', 'i', 'n', 'g', ' ', 'e', 'v', 'e', 'n', 't', 's', ' ', 'w', 'i', 't', 'h', ' ', 'H', 'a', 'm', 'm', 'e', 'r', '.', 'j', 's', ' ', 'a', 'n', 'd', ' ', '.', 'o', 'n', '(', ')', '\\t', 'y', 'i', 'i', ' ', 'm', 'a', 'k', 'i', 'n', 'g', ' ', 'u', 's', 'e', 'r', ' ', 'a', 'u', 't', 'o', ' ', 'l', 'o', 'g', 'g', 'e', 'd', ' ', 'i', 'n', ' ', 'o', 'n', ' ', 's', 'i', 'g', 'n', 'u', 'p', ' ', 'e', 'n', 'd', ' ', '(', 'a', 'u', 't', 'o', ' ', 'a', 'u', 't', 'h', 'e', 'n', 't', 'i', 'c', 'a', 't', 'i', 'o', 'n', ' ', 'a', 'f', 't', 'e', 'r', ' ', 's', 'i', 'g', 'n', 'u', 'p', ')', '\\t', 'U', 'n', 'r', 'e', 'a', 'l', ' ', 'E', 'n', 'g', 'i', 'n', 'e', ' ', '4', ':', ' ', 's', 'a', 'v', 'e', ' ', 'r', 'e', 'n', 'd', 'e', 'r', 'e', 'd', ' ', 'f', 'r', 'a', 'm', 'e', ' ', 't', 'o', ' ', 'm', 'e', 'm', 'o', 'r', 'y', '\\t', 'B', 'u', 'i', 'l', 'd', 'i', 'n', 'g', ' ', 'H', 'e', 'l', 'l', 'o', 'W', 'o', 'r', 'l', 'd', ' ', 'C', '+', '+', ' ', 'P', 'r', 'o', 'g', 'r', 'a', 'm', ' ', 'i', 'n', ' ', 'L', 'i', 'n', 'u', 'x', ' ', 'w', 'i', 't', 'h', ' ', 'n', 'c', 'u', 'r', 's', 'e', 's', '\\t', 'G', 'e', 'n', 'e', 'r', 'a', 't', 'i', 'n', 'g', ' ', 'C', 'h', 'e', 'c', 'k', 'b', 'o', 'x', ' ', 'L', 'i', 's', 't', 's', ' ', 'w', 'i', 't', 'h', ' ', 'M', 'V', 'C', '3', ' ', 'u', 's', 'i', 'n', 'g', ' ', 'a', ' ', 'c', 'o', 'm', 'p', 'l', 'e', 'x', ' ', 'v', 'i', 'e', 'w', 'm', 'o', 'd', 'e', 'l', ' ', 'a', 'n', 'd', ' ', 'a', ' ', 'c', 'r', 'o', 's', 's', ' ', 't', 'a', 'b', 'l', 'e', ' ', 'w', 'i', 't', 'h', ' ', 'L', 'i', 'n', 'q', ' ', 't', 'o', ' ', 'S', 'Q', 'L', '\\t', 'C', 'o', 'r', 'd', 'o', 'v', 'a', 'W', 'e', 'b', 'V', 'i', 'e', 'w', ':', ' ', 'T', 'I', 'M', 'E', 'O', 'U', 'T', ' ', 'E', 'R', 'R', 'O', 'R', '\\t', 'W', 'h', 'a', 't', 's', ' ', 'w', 'r', 'o', 'n', 'g', ' ', 'i', 'n', ' ', 'm', 'y', ' ', 'x', 's', 'd', ' ', 's', 'c', 'h', 'e', 'm', 'a', ' ', '?', ' ', 'I', 't', ' ', 'g', 'i', 'v', 'e', 's', ' ', 't', 'y', 'p', 'e', ' ', 'e', 'l', 'e', 'm', 'e', 'n', 't', ' ', 'i', 's', ' ', 'n', 'o', 't', ' ', 'd', 'e', 'c', 'l', 'a', 'r', 'e', 'd', ' ', 'o', 'n', ' ', 'i', 'n', 'c', 'l', 'u', 'd', 'e', ' ', 'o', 'f', ' ', 'a', 'n', 'o', 't', 'h', 'e', 'r', ' ', 'x', 's', 'd', ' ', 'f', 'i', 'l', 'e', '\\t', 'A', 'n', 'g', 'u', 'l', 'a', 'r', ' ', 'a', 'n', 'd', ' ', 'p', 'a', 'p', 'a', 'P', 'a', 'r', 's', 'e', ' ', 'I', 'n', 't', 'e', 'g', 'r', 'a', 't', 'i', 'o', 'n', '\\t', 'S', 'e', 't', 'u', 'p', ' ', 'a', ' ', 'g', 'r', 'a', 'y', 'l', 'o', 'g', '2', ' ', 's', 'e', 'r', 'v', 'e', 'r', ' ', 'w', 'i', 't', 'h', ' ', 'e', 'l', 'a', 's', 't', 'i', 'c', 's', 'e', 'a', 'r', 'c', 'h', ' ', 'i', 'n', ' ', 'a', ' ', 'v', 'a', 'g', 'r', 'a', 'n', 't', ' ', 'm', 'a', 'c', 'h', 'i', 'n', 'e', '\\t', '(', 'S', 'o', 'l', 'v', 'e', 'd', '-', 'S', 'e', 'e', ' ', 'm', 'y', ' ', 'c', 'o', 'm', 'm', 'e', 'n', 't', ')', 'H', 'o', 'w', ' ', 't', 'o', ' ', 'm', 'a', 'k', 'e', ' ', 'a', ' ', 'p', 'a', 's', 's', 'w', 'o', 'r', 'd', ' ', 'f', 'o', 'r', 'm', ' ', 'o', 'n', ' ', 't', 'u', 'm', 'b', 'l', 'r', '?', '\\t', 'J', 'a', 'v', 'a', 's', 'c', 'r', 'i', 'p', 't', ':', ' ', 'C', 'a', 'l', 'l', ' ', 'a', ' ', 'm', 'e', 't', 'h', 'o', 'd', ' ', 'i', 'n', 's', 'i', 'd', 'e', ' ', 'a', 'n', 'o', 't', 'h', 'e', 'r', ' ', 'm', 'e', 't', 'h', 'o', 'd', '\\t', 'a', 'w', 's', ' ', 'a', 'p', 'i', ' ', 'g', 'a', 't', 'e', 'w', 'a', 'y', ' ', 'c', 'l', 'i', 'e', 'n', 't', '-', 's', 'i', 'd', 'e', ' ', 's', 's', 'l', ' ', 'c', 'e', 'r', 't', 'i', 'f', 'i', 'c', 'a', 't', 'e', ' ', 'v', 'e', 'r', 'i', 'f', 'i', 'c', 'a', 't', 'i', 'o', 'n', ' ', 'w', 'i', 't', 'h', ' ', 'n', 'g', 'i', 'n', 'x', '\\t', 'K', 'e', 'n', 'd', 'o', ' ', 'U', 'I', ' ', 'd', 'r', 'o', 'p', ' ', 'd', 'o', 'w', 'n', 's', ' ', 'p', 'o', 's', 't', 'i', 'n', 'g', ' ', 'a', 'r', 'r', 'a', 'y', 's', '\\t', 'S', 'e', 'r', 'v', 'i', 'c', 'e', 'S', 't', 'a', 'c', 'k', ' ', 'I', 'd', 'e', 'n', 't', 'i', 't', 'y', ' ', 'o', 'n', ' ', 'f', 'i', 'e', 'l', 'd', ' ', 'o', 't', 'h', 'e', 'r', ' ', 't', 'h', 'a', 'n', ' ', 'P', 'K', ' ', '-', ' ', 'I', 'n', 's', 'e', 'r', 't', ' ', 'f', 'a', 'i', 'l', 's', '\\t', 'R', 'e', 'd', 'i', 'r', 'e', 'c', 't', 'i', 'o', 'n', ' ', 'w', 'h', 'e', 'n', ' ', 'r', 'e', 'n', 'd', 'e', 'r', 'i', 'n', 'g', ' ', 'c', 'o', 'n', 't', 'r', 'o', 'l', 'l', 'e', 'r', ' ', 'i', 'n', ' ', 't', 'w', 'i', 'g', ' ', 'S', 'Y', 'M', 'F', 'O', 'N', 'Y', ' ', '3', '0', '2', '\\t', 'C', 'S', 'S', ' ', 'S', 'p', 'r', 'i', 't', 'e', 's', ' ', 'B', 'o', 't', 't', 'o', 'm', ' ', 'r', 'e', 'p', 'e', 'a', 't', 'i', 'n', 'g', '\\t', 'H', 'o', 'w', ' ', 'c', 'a', 'n', ' ', 'I', ' ', 's', 'o', 'r', 't', ' ', 'a', ' ', 't', 'a', 'b', 'l', 'e', ' ', 'o', 'f', ' ', 'L', 'a', 'r', 'a', 'v', 'e', 'l', ' ', 'E', 'l', 'o', 'q', 'u', 'e', 'n', 't', ' ', 'o', 'b', 'j', 'e', 'c', 't', 's', ' ', 'b', 'y', ' ', 'a', ' ', 'c', 'u', 's', 't', 'o', 'm', ' ', 'a', 't', 't', 'r', 'i', 'b', 'u', 't', 'e', '?', '\\t', 'C', 'o', 'm', 'p', 'a', 'r', 'i', 'n', 'g', ' ', 'e', 'l', 'e', 'm', 'e', 'n', 't', 's', ' ', 'i', 'n', ' ', 'a', ' ', 'g', 'e', 'n', 'e', 'r', 'i', 'c', ' ', 'l', 'i', 's', 't', '\\t', 'S', 'e', 't', ' ', 'm', 'i', 'n', 'D', 'a', 't', 'e', ' ', 'f', 'o', 'r', ' ', 'B', 'o', 'o', 't', 's', 't', 'r', 'a', 'p', ' ', 'D', 'a', 't', 'e', 'T', 'i', 'm', 'e', 'P', 'i', 'c', 'k', 'e', 'r', ' ', 'f', 'r', 'o', 'm', ' ', 'a', 'n', 'o', 't', 'h', 'e', 'r', '\\t', 'W', 'h', 'a', 't', ' ', 'i', 's', ' ', 't', 'h', 'e', ' ', 'd', 'i', 'f', 'f', 'e', 'r', 'e', 'n', 'c', 'e', ' ', 'b', 'e', 't', 'w', 'e', 'e', 'n', ' ', ':', 'g', ' ', 'a', 'n', 'd', ' ', ':', '%', 's', ' ', 'c', 'o', 'm', 'm', 'a', 'n', 'd', 's', ' ', 'i', 'n', ' ', 'v', 'i', 'm', '\\t', 'J', 'a', 'v', 'a', ':', ' ', 'c', 'r', 'e', 'a', 't', 'i', 'n', 'g', ' ', 's', 'e', 'l', 'f', ' ', 'e', 'x', 't', 'r', 'a', 'c', 't', 'i', 'n', 'g', ' ', 'j', 'a', 'r', ' ', 't', 'h', 'a', 't', ' ', 'c', 'a', 'n', ' ', 'e', 'x', 't', 'r', 'a', 'c', 't', ' ', 'p', 'a', 'r', 't', 's', ' ', 'o', 'f', ' ', 'i', 't', 's', 'e', 'l', 'f', ' ', 'o', 'u', 't', ' ', 'o', 'f', ' ', 't', 'h', 'e', ' ', 'a', 'r', 'c', 'h', 'i', 'v', 'e', '?', '\\t', 's', 'e', 't', ' ', 'h', 't', 'm', 'l', ' ', 't', 'e', 'x', 't', ' ', 'c', 'o', 'l', 'o', 'r', ' ', 'a', 'n', 'd', ' ', 's', 'i', 'z', 'e', ' ', 'u', 's', 'i', 'n', 'g', ' ', 'j', 'a', 'v', 'a', 's', 'c', 'r', 'i', 'p', 't', '\\t', 'Q', 'u', 'e', 'u', 'e', ' ', 'u', 's', 'i', 'n', 'g', ' ', 'A', 'r', 'r', 'a', 'y', 's', '\\t', 'f', 'o', 'r', 'e', 'a', 'c', 'h', ' ', 'l', 'o', 'o', 'p', ' ', 'w', 'h', 'e', 'n', ' ', 'u', 's', 'i', 'n', 'g', ' ', 'X', 'm', 'l', '.', 'X', 'm', 'l', 'E', 'l', 'e', 'm', 'e', 'n', 't', ' ', 'i', 'n', ' ', 'r', 'e', 'm', 'o', 't', 'e', ' ', 's', 'c', 'r', 'i', 'p', 't', 'b', 'l', 'o', 'c', 'k', '\\t', 'H', 'o', 'w', ' ', 't', 'o', ' ', 'p', 'r', 'i', 'n', 't', ' ', 'l', 'i', 's', 't', ' ', 'o', 'f', ' ', 'c', 'a', 't', 'e', 'g', 'o', 'r', 'i', 'e', 's', ' ', 'a', 'n', 'd', ' ', 'c', 'l', 'i', 'c', 'k', ' ', 'o', 'n', ' ', 'e', 'a', 'c', 'h', ' ', 'c', 'a', 't', 'e', 'g', 'o', 'r', 'y', ' ', 'o', 'n', 'e', ' ', 'b', 'y', ' ', 'o', 'n', 'e', ' ', 'i', 'n', ' ', 's', 'e', 'l', 'e', 'n', 'i', 'u', 'm', '/', 'a', 'p', 'p', 'i', 'u', 'm', '?', '\\t', 'E', 'v', 'e', 'r', 'y', ' ', 'n', 'o', 'w', ' ', 'a', 'n', 'd', ' ', 't', 'h', 'e', 'n', ',', ' ', 'A', 'B', 'C', 'p', 'd', 'f', ' ', 'r', 'u', 'n', 's', ' ', 'o', 'u', 't', ' ', 'o', 'f', ' ', 'm', 'e', 'm', 'o', 'r', 'y', '\\t', 'I', 'n', ' ', 'S', 'p', 'r', 'i', 'n', 'g', ' ', 'O', 'A', 'u', 't', 'h', '2', ',', ' ', 'w', 'h', 'y', ' ', 'i', 's', ' ', 'm', 'y', ' ', 'r', 'e', 's', 'o', 'u', 'r', 'c', 'e', ' ', 's', 't', 'i', 'l', 'l', ' ', 'u', 'n', 'p', 'r', 'o', 't', 'e', 'c', 't', 'e', 'd', ' ', 'e', 'v', 'e', 'n', ' ', 't', 'h', 'o', 'u', 'g', 'h', ' ', 'I', ' ', 'h', 'a', 'v', 'e', ' ', 'm', 'a', 'r', 'k', 'e', 'd', ' ', 'i', 't', ' ', 'i', 'n', ' ', 'm', 'y', ' ', 'r', 'e', 's', 'o', 'u', 'r', 'c', 'e', ' ', 's', 'e', 'r', 'v', 'e', 'r', '?', '\\t', 'h', 'o', 'w', ' ', 't', 'o', ' ', 'r', 'e', 's', 't', 'a', 'r', 't', ' ', 'n', 'o', 'd', 'e', ' ', 'a', 'p', 'p', 'l', 'i', 'c', 'a', 't', 'i', 'o', 'n', ' ', 'a', 'u', 't', 'o', 'm', 'a', 't', 'i', 'c', 'a', 'l', 'l', 'y', ' ', 'o', 'n', ' ', 'a', 'w', 's', ' ', 'e', 'l', 'a', 's', 't', 'i', 'c', '-', 'b', 'e', 'a', 'n', 's', 't', 'a', 'l', 'k', '\\t', 'U', 'n', 'r', 'e', 's', 'o', 'l', 'v', 'e', 'd', ' ', 'e', 'x', 't', 'e', 'r', 'n', 'a', 'l', ' ', 's', 'y', 'm', 'b', 'o', 'l', ' ', 'L', 'N', 'K', '2', '0', '1', '9', '\\t', 'C', 'e', 'l', 'l', 't', 'e', 'm', 'p', 'l', 'a', 't', 'e', ' ', 'i', 'n', ' ', 'a', 'n', 'g', 'u', 'l', 'a', 'r', '-', 'u', 'i', '-', 'g', 'r', 'i', 'd', ' ', 'i', 's', ' ', 'n', 'o', 't', ' ', 'w', 'o', 'r', 'k', 'i', 'n', 'g', ' ', 'p', 'r', 'o', 'p', 'e', 'r', 'l', 'y', '\\t', 'E', 's', 'c', 'a', 'p', 'i', 'n', 'g', ' ', 'b', 'a', 'c', 'k', 's', 'l', 'a', 's', 'h', 'e', 's', ' ', 'i', 'n', ' ', 'm', 'e', 't', 'h', 'o', 'd', ' ', 'c', 'a', 'l', 'l', ' ', 's', 't', 'r', 'i', 'n', 'g', 'B', 'y', 'R', 'e', 'p', 'l', 'a', 'c', 'i', 'n', 'g', 'O', 'c', 'c', 'u', 'r', 'r', 'e', 'n', 'c', 'e', 's', 'O', 'f', 'S', 't', 'r', 'i', 'n', 'g', ' ', 'D', 'o', 'e', 's', ' ', 'n', 'o', 't', ' ', 'w', 'o', 'r', 'k', ' ', 'i', 'n', ' ', 'O', 'b', 'j', 'e', 'c', 't', 'i', 'v', 'e', ' ', 'C', '\\t', 'A', 'P', 'E', 'X', ' ', 'D', 'a', 't', 'a', ' ', 'L', 'o', 'a', 'd', 'i', 'n', 'g', ' ', '-', ' ', 'A', 'd', 'd', ' ', 'a', ' ', 'c', 'o', 'l', 'u', 'm', 'n', ' ', 'p', 'r', 'o', 'g', 'r', 'a', 'm', 'a', 't', 'i', 'c', 'a', 'l', 'l', 'y', '\\t', 'M', 'y', 'S', 'Q', 'L', ' ', '/', ' ', 'M', 'a', 'r', 'i', 'a', 'D', 'B', ' ', 's', 'h', 'u', 't', 's', ' ', 'd', 'o', 'w', 'n', ' ', 'a', 'f', 't', 'e', 'r', ' ', 'e', 'x', 'a', 'c', 't', 'l', 'y', ' ', '1', ' ', 'm', 'i', 'n', 'u', 't', 'e', ' ', '4', '2', ' ', 's', 'e', 'c', 'o', 'n', 'd', 's', '\\t', 'M', 'o', 'u', 's', 'e', ' ', 'm', 'o', 'v', 'e', 'm', 'e', 'n', 't', ' ', '/', ' ', 'm', 'o', 'u', 's', 'e', 'o', 'v', 'e', 'r', ' ', 'a', 'n', 'd', ' ', 'J', 'a', 'v', 'a', 'S', 'c', 'r', 'i', 'p', 't', ' ', 'e', 'v', 'a', 'l', 'u', 'a', 't', 'i', 'o', 'n', ' ', 'i', 'n', ' ', 'w', 'a', 't', 'i', 'r', '\\t', 'R', 'e', 'm', 'o', 'v', 'i', 'n', 'g', ' ', 'b', 'a', 'c', 'k', 's', 'l', 'a', 's', 'h', 'e', 's', ' ', 'f', 'r', 'o', 'm', ' ', 'a', ' ', 's', 't', 'r', 'i', 'n', 'g', ' ', 'i', 'n', ' ', 'P', 'y', 't', 'h', 'o', 'n', '\\t', 'A', 'r', 'r', 'a', 'y', ' ', 'm', 'a', 'n', 'i', 'p', 'u', 'l', 'a', 't', 'i', 'o', 'n', ' ', '(', 'a', 'c', 'c', 'e', 's', 's', 'i', 'n', 'g', ' ', 's', 'p', 'e', 'c', 'i', 'f', 'i', 'c', ' ', 'b', 'y', 't', 'e', 's', ')', '\\t', 'R', 'a', 'i', 'l', 's', ':', ' ', 'D', 'o', 'e', 's', ' ', 'A', 'p', 'p', 'l', 'i', 'c', 'a', 't', 'i', 'o', 'n', '.', 'c', 's', 's', ' ', 'l', 'o', 'a', 'd', ' ', 'a', 'l', 'l', ' ', 'c', 's', 's', '.', 's', 'c', 's', 's', ' ', 'f', 'i', 'l', 'e', 's', '?', '\\t', 'L', 'o', 'n', 'g', 'L', 'i', 's', 't', 'S', 'e', 'l', 'e', 'c', 't', 'o', 'r', ' ', 'c', 'a', 'n', 'n', 'o', 't', ' ', 'c', 'h', 'a', 'n', 'g', 'e', ' ', 'I', 't', 'e', 'm', 's', 'S', 'o', 'u', 'r', 'c', 'e', '\\t', 'C', '#', ' ', 'D', 'a', 't', 'e', 'T', 'i', 'm', 'e', ' ', 'n', 'o', 't', ' ', 'r', 'e', 'c', 'o', 'g', 'n', 'i', 's', 'i', 'n', 'g', ' ', 't', 'i', 'm', 'e', 'z', 'o', 'n', 'e', ' ', 'c', 'h', 'a', 'n', 'g', 'e', ' ', '(', 'B', 'S', 'T', ')', '\\t', 'd', 'e', 'i', 'n', 'i', 't', ' ', 'i', 'n', ' ', 'c', 'h', 'i', 'l', 'd', ' ', 'v', 'i', 'e', 'w', ' ', 'c', 'o', 'n', 't', 'r', 'o', 'l', 'l', 'e', 'r', 's', '\\t', 'H', 'o', 'w', ' ', 't', 'o', ' ', 's', 'e', 'n', 'd', ' ', 'b', 'a', 'c', 'k', ' ', 't', 'o', ' ', 'c', 'u', 's', 't', 'o', 'm', ' ', 'c', 'l', 'a', 's', 's', ' ', 'w', 'h', 'i', 'c', 'h', ' ', 'o', 'b', 'j', 'e', 'c', 't', ' ', 'o', 'f', ' ', 't', 'h', 'a', 't', ' ', 'c', 'l', 'a', 's', 's', ' ', 'w', 'a', 's', ' ', 'c', 'l', 'i', 'c', 'k', 'e', 'd', '\\t', 'd', 'e', 'l', 'e', 't', 'e', ' ', 'f', 'r', 'o', 'm', ' ', 'a', 'r', 'r', 'a', 'y', ' ', 'r', 'e', 't', 'u', 'r', 'n', 'i', 'n', 'g', ' ', 's', 'e', 'l', 'f', '\\t', 'M', 'S', ' ', 'A', 'c', 'c', 'e', 's', 's', ' ', 'P', 'r', 'o', 'p', 'e', 'r', 't', 'i', 'e', 's', '\\t', 'U', 'I', 'W', 'e', 'b', 'V', 'i', 'e', 'w', ' ', 'a', 'l', 'w', 'a', 'y', 's', ' ', 'a', 'd', 'd', ' ', 'a', ' ', 'p', 'a', 'r', 'a', 'm', 'e', 't', 'e', 'r', ' ', 'i', 'n', ' ', 'u', 'r', 'l', ' ', 'i', 's', 's', 'u', 'e', '\\t', 'c', 'o', 'm', 'p', 'a', 'r', 'i', 'n', 'g', ' ', 't', 'w', 'o', ' ', 's', 'p', 'a', 'n', 'n', 'e', 'd', ' ', 's', 't', 'r', 'i', 'n', 'g', 's', ' ', 'i', 'n', ' ', 'e', 'd', 'i', 't', 't', 'e', 'x', 't', ' ', 'i', 'n', ' ', 'a', 'n', 'd', 'r', 'o', 'i', 'd', '\\t', 'A', 'd', 'd', ' ', 'p', 'r', 'e', 'f', 'i', 'x', ' ', 't', 'o', ' ', 'c', 'o', 'n', 't', 'r', 'o', 'l', ' ', 'i', 'd', ' ', 'a', 'n', 'd', ' ', 's', 't', 'i', 'l', 'l', ' ', 'h', 'a', 'v', 'e', ' ', 'i', 't', ' ', 'b', 'i', 'n', 'd', ' ', 'M', 'V', 'C', ' ', 'R', 'a', 'z', 'o', 'r', '\\t', 'E', 'X', 'C', '_', 'B', 'A', 'D', '_', 'A', 'C', 'C', 'E', 'S', 'S', ' ', 'w', 'h', 'e', 'n', ' ', 's', 'e', 't', 't', 'i', 'n', 'g', ' ', 'I', 'n', 't', 'e', 'g', 'e', 'r', ' ', 't', 'o', ' ', 'a', 'n', 'y', 't', 'h', 'i', 'n', 'g', ' ', 'e', 'l', 's', 'e', ' ', 't', 'h', 'a', 'n', ' ', 'z', 'e', 'r', 'o', '\\t', ':', 'h', 'o', 'v', 'e', 'r', ' ', 'C', 'S', 'S', ' ', 'i', 's', ' ', 'n', 'o', 't', ' ', 'w', 'o', 'r', 'k', 'i', 'n', 'g', '?', '\\t', 'B', 'l', 'o', 'w', 'f', 'i', 's', 'h', ' ', 'l', 'a', 's', 't', ' ', 'b', 'l', 'o', 'c', 'k', ' ', 'i', 'n', 'c', 'o', 'm', 'p', 'l', 'e', 't', 'e', ' ', 'i', 'n', ' ', 'd', 'e', 'c', 'r', 'y', 'p', 't', 'i', 'o', 'n', '\\t', 'R', 'e', 'a', 'd', 'i', 'n', 'g', ' ', 'u', 'p', 'l', 'o', 'a', 'd', 'e', 'd', ' ', 'i', 'm', 'a', 'g', 'e', ':', ' ', 'u', 'n', 'd', 'e', 'f', 'i', 'n', 'e', 'd', ' ', 'm', 'e', 't', 'h', 'o', 'd', ' ', '`', 'f', 'i', 'l', 'e', \"'\", ' ', 'f', 'o', 'r', ' ', 'n', 'i', 'l', ':', 'N', 'i', 'l', 'C', 'l', 'a', 's', 's', '\\t', 'H', 'o', 'w', ' ', 'c', 'a', 'n', ' ', 'I', ' ', 'r', 'u', 'n', ' ', 'I', 'n', 't', 'e', 'l', 'l', 'i', 'J', ' ', 'I', 'D', 'E', 'A', ' ', 'o', 'n', ' ', 'a', ' ', 'r', 'e', 'm', 'o', 't', 'e', ' ', 'd', 'e', 's', 'k', 't', 'o', 'p', '\\t', 'H', 'o', 'w', ' ', 't', 'o', ' ', 'g', 'e', 't', ' ', 't', 'h', 'e', ' ', 'J', 'S', 'O', 'N', 'O', 'b', 'j', 'e', 'c', 't', ' ', 's', 'e', 'r', 'v', 'e', 'r', ' ', 'r', 'e', 's', 'p', 'o', 'n', 's', 'e', ' ', 'i', 'n', ' ', 'V', 'o', 'l', 'l', 'e', 'y', '\\t', 'G', 'u', 'i', 'd', 'e', ' ', 'i', 'n', ' ', 'o', 'r', 'g', 'a', 'n', 'i', 'z', 'i', 'n', 'g', ' ', 'l', 'a', 'r', 'g', 'e', ' ', 'D', 'j', 'a', 'n', 'g', 'o', ' ', 'p', 'r', 'o', 'j', 'e', 'c', 't', 's', '\\t', 'h', 'o', 'w', ' ', 't', 'o', ' ', 'p', 'o', 'p', 'u', 'l', 'a', 't', 'e', ' ', 'a', ' ', 'd', 'r', 'o', 'p', 'd', 'o', 'w', 'n', 'l', 'i', 's', 't', ' ', 'b', 'a', 's', 'e', 'd', ' ', 'o', 'n', ' ', 'a', 'n', 'o', 't', 'h', 'e', 'r', ' ', 'd', 'r', 'o', 'p', 'd', 'o', 'w', 'n', 'l', 'i', 's', 't', ' ', 's', 'e', 'l', 'e', 'c', 't', 'e', 'd', ' ', 'v', 'a', 'l', 'u', 'e', ' ', 'i', 'n', ' ', 'm', 'v', 'c', ' ', '4', '?', '\\t', 'A', 'z', 'u', 'r', 'e', ' ', 'S', 'e', 'r', 'v', 'i', 'c', 'e', 'B', 'u', 's', ' ', 'T', 'o', 'k', 'e', 'n', ' ', 'E', 'x', 'p', 'i', 'r', 'e', 'd', '\\t', 'i', 'B', 'a', 't', 'i', 's', ' ', 't', 'o', ' ', 'M', 'y', 'B', 'a', 't', 'i', 's', ' ', 'm', 'i', 'g', 'r', 'a', 't', 'i', 'o', 'n', ' ', 'e', 'f', 'f', 'o', 'r', 't', 's', '?', '\\t', 'W', 'h', 'e', 'r', 'e', ' ', 's', 'h', 'o', 'u', 'l', 'd', ' ', 'I', ' ', 'l', 'o', 'o', 'k', ' ', 'f', 'o', 'r', ' ', 't', 'h', 'e', ' ', 'd', 'o', 'c', 'u', 'm', 'e', 'n', 't', ' ', 'g', 'e', 'n', 'e', 'r', 'a', 't', 'e', 'd', ' ', 'u', 's', 'i', 'n', 'g', ' ', 'h', 't', 'p', ' ', 'p', 'a', 'c', 'k', 'a', 'g', 'e', '\\t', 'T', 'o', 'r', 't', 'o', 'i', 's', 'e', ' ', 'S', 'V', 'N', ' ', 'E', 'r', 'r', 'o', 'r', ' ', 'a', 'f', 't', 'e', 'r', ' ', 'u', 'p', 'd', 'a', 't', 'e', ':', ' ', \"'\", 'T', 'h', 'e', ' ', 's', 'p', 'e', 'c', 'i', 'f', 'i', 'e', 'd', ' ', 'p', 'a', 't', 'h', ' ', 'h', 'a', 's', ' ', 'a', 'n', ' ', 'u', 'n', 'e', 'x', 'p', 'e', 'c', 't', 'e', 'd', ' ', 's', 't', 'a', 't', 'u', 's', \"'\", '\\t', 'E', 'x', 't', 'r', 'a', 'c', 't', ' ', 'h', 't', 'm', 'l', ' ', 'd', 'a', 't', 'a', ' ', 'a', 'f', 't', 'e', 'r', ' ', 'l', 'o', 'g', 'g', 'i', 'n', 'g', ' ', 'i', 'n', 't', 'o', ' ', 'w', 'e', 'b', 's', 'i', 't', 'e', ' ', 'f', 'r', 'o', 'm', ' ', 'a', 'n', 'd', 'r', 'o', 'i', 'd', ' ', 'a', 'p', 'p', '\\t', 'A', 'd', 'd', ' ', 'k', 'e', 'y', ' ', 'v', 'a', 'l', 'u', 'e', ' ', 't', 'o', ' ', 'a', 'r', 'r', 'a', 'y', ' ', 'w', 'i', 't', 'h', 'o', 'u', 't', ' ', 't', 'r', 'i', 'g', 'g', 'e', 'r', 'i', 'n', 'g', ' ', 'a', 'n', ' ', 'a', 'r', 'r', 'a', 'y', '\\t', 'H', 'o', 'w', ' ', 't', 'o', ' ', 'w', 'r', 'i', 't', 'e', ' ', 't', 'h', 'i', 's', ' ', 'm', 'a', 't', 'h', ' ', 'e', 'q', 'u', 'a', 't', 'i', 'o', 'n', ' ', 'i', 'n', 't', 'o', ' ', 'c', '+', '+', '\\t', 'U', 'n', 'd', 'e', 'f', 'i', 'n', 'e', 'd', ' ', 'i', 'n', 'd', 'e', 'x', ' ', 'p', 'h', 'p', ' ', 'm', 'y', 's', 'q', 'l', ' ', 'e', 'r', 'r', 'o', 'r', '\\t', 'w', 'h', 'e', 'n', ' ', 't', 'e', 'x', 't', ' ', 'c', 'h', 'a', 'n', 'g', 'e', 'd', ' ', 'i', 'n', 'p', 'u', 't', 'b', 'o', 'x', ' ', 'a', 'u', 't', 'o', 'm', 'a', 't', 'i', 'c', 'a', 'l', 'l', 'y', ' ', 'u', 'p', 'd', 'a', 't', 'e', 's', ' ', 'n', 'e', 'x', 't', ' ', '6', ' ', 't', 'e', 'x', 't', ' ', 'b', 'o', 'x', 'e', 's', '\\t', 'U', 'n', 'a', 'b', 'l', 'e', ' ', 't', 'o', ' ', 'g', 'e', 't', ' ', 'e', 'm', 'a', 'i', 'l', ' ', 'o', 'f', ' ', 'f', 'a', 'c', 'e', 'b', 'o', 'o', 'k', ' ', 'u', 's', 'e', 'r', '\\t', 'i', 'p', 'h', 'o', 'n', 'e', ':', ' ', 'F', 'a', 'c', 'e', 'b', 'o', 'o', 'k', ' ', 'l', 'o', 'g', 'o', 'u', 't', ' ', 'f', 'e', 'a', 't', 'u', 'r', 'e', ' ', 'i', 's', ' ', 'n', 'o', 't', ' ', 'w', 'o', 'r', 'k', ' ', 'i', 'n', ' ', 'm', 'y', ' ', 'a', 'p', 'p', '\\t', 'h', 'o', 'w', ' ', 't', 'o', ' ', 'f', 'o', 'r', 'c', 'e', ' ', 'm', 'y', ' ', 'a', 'p', 'p', ' ', 'N', 'O', 'T', ' ', 't', 'o', ' ', 'u', 's', 'e', ' ', 't', 'h', 'e', ' ', '3', 'g', ' ', 'd', 'a', 't', 'a', ' ', 'p', 'r', 'o', 'x', 'y', ' ', 's', 'e', 't', 't', 'i', 'n', 'g', '\\t', 'U', 'n', 'i', 't', ' ', 'T', 'e', 's', 't', 'i', 'n', 'g', ' ', '-', ' ', 'W', 'h', 'a', 't', ' ', 'd', 'o', ' ', 'y', 'o', 'u', ' ', 'd', 'o', ' ', 'w', 'h', 'e', 'n', ' ', 'y', 'o', 'u', 'r', ' ', 'c', 'o', 'd', 'e', ' ', 'i', 's', ' ', 'p', 'r', 'e', 't', 't', 'y', ' ', 'm', 'u', 'c', 'h', ' ', 'j', 'u', 's', 't', ' ', 'a', ' ', 'c', 'a', 'l', 'c', 'u', 'l', 'a', 't', 'i', 'o', 'n', ' ', '(', 'G', 'e', 't', 'H', 'a', 's', 'h', 'C', 'o', 'd', 'e', ' ', 'f', 'o', 'r', ' ', 'e', 'x', 'a', 'm', 'p', 'l', 'e', ')', '?', '\\t', 'S', 't', 'a', 't', 'u', 's', ' ', 'o', 'f', ' ', 'C', 'h', 'e', 'c', 'k', 'B', 'o', 'x', ' ', 'c', 'a', 'n', \"'\", 't', ' ', 'b', 'e', ' ', 'd', 'e', 't', 'e', 'c', 't', 'e', 'd', '\\t', 'S', 'o', 'r', 't', ' ', 'a', ' ', 'l', 'i', 's', 't', ' ', 'w', 'i', 't', 'h', ' ', 'm', 'u', 'l', 't', 'i', 'p', 'l', 'e', ' ', 'c', 'o', 'n', 'd', 'i', 't', 'i', 'o', 'n', 's', ' ', 'R', 'u', 'b', 'y', ' ', 'o', 'n', ' ', 'R', 'a', 'i', 'l', 's', '\\t', 'H', 'o', 'w', ' ', 't', 'o', ' ', 's', 'h', 'a', 'r', 'p', ' ', 't', 'h', 'e', ' ', 't', 'e', 'x', 't', ' ', 'i', 'n', ' ', 'c', 's', 's', '3', '?', '\\t', 'H', 'o', 'w', ' ', 't', 'o', ' ', 'c', 'h', 'a', 'n', 'g', 'e', ' ', 't', 'h', 'e', ' ', 'c', 'l', 'a', 's', 's', ' ', 'o', 'f', ' ', 'a', 'n', ' ', 'o', 'b', 'j', 'e', 'c', 't', ' ', 'd', 'y', 'n', 'a', 'm', 'i', 'c', 'a', 'l', 'l', 'y', ' ', 'i', 'n', ' ', 'C', '#', '?', '\\t', 'C', 'r', 'e', 'a', 't', 'i', 'n', 'g', ' ', 'a', 'n', ' ', 'A', 'r', 'r', 'a', 'y', ' ', 'w', 'i', 't', 'h', ' ', 'a', ' ', 'D', 'e', 'f', 'a', 'u', 'l', 't', ' ', 'V', 'a', 'l', 'u', 'e', ',', 'B', 'u', 't', ' ', 't', 'h', 'e', ' ', 'd', 'e', 'f', 'a', 'u', 'l', 't', ' ', 'v', 'a', 'l', 'u', 'e', ' ', 'i', 's', ' ', 'c', 'h', 'a', 'n', 'g', 'e', 'd', '\\t', 'H', 'o', 'w', ' ', 't', 'o', ' ', 'c', 'a', 'l', 'l', ' ', 'a', ' ', 'd', 'e', 'l', 'e', 'g', 'a', 't', 'e', \"'\", 's', ' ', 'f', 'u', 'n', 'c', 't', 'i', 'o', 'n', ' ', 'w', 'i', 't', 'h', 'o', 'u', 't', ' ', 'g', 'e', 't', 't', 'i', 'n', 'g', ' ', 't', 'h', 'e', ' ', '\"', 'i', 'n', 's', 't', 'a', 'n', 'c', 'e', ' ', 'm', 'e', 't', 'h', 'o', 'd', ' ', 'n', 'o', 't', ' ', 'f', 'o', 'u', 'n', 'd', '\"', ' ', 'w', 'a', 'r', 'n', 'i', 'n', 'g', ' ', 'i', 'n', ' ', 'i', 'o', 's', '?', '\\t', 'A', 'n', 'd', 'r', 'o', 'i', 'd', ',', ' ', 'b', 'a', 'c', 'k', 'g', 'r', 'o', 'u', 'n', 'd', ' ', 'd', 'r', 'a', 'w', 'a', 'b', 'l', 'e', ' ', 'a', 'p', 'p', 'e', 'a', 'r', ' ', 'b', 'l', 'a', 'c', 'k', ' ', 'i', 'n', ' ', 'g', 'e', 'n', 'y', 'm', 'o', 't', 'i', 'o', 'n', ' ', 'b', 'u', 't', ' ', 'l', 'o', 'o', 'k', 's', ' ', 'f', 'i', 'n', 'e', ' ', 'i', 'n', ' ', 'i', 'n', 't', 'e', 'l', 'l', 'i', 'j', '\\t', 'T', 'a', 'b', 'l', 'e', ' ', 'h', 'a', 's', ' ', 'n', 'o', ' ', 'c', 'o', 'l', 'u', 'm', 'n', 's', ' ', 'u', 's', 'i', 'n', 'g', ' ', 'g', 'o', 'o', 'g', 'l', 'e', ' ', 'c', 'h', 'a', 'r', 't', 's', '\\t', 'D', 'r', 'o', 'p', 'd', 'o', 'w', 'n', ' ', 'l', 'i', 's', 't', ' ', 'w', 'h', 'e', 'r', 'e', ' ', 'o', 'p', 't', 'i', 'o', 'n', 's', ' ', 'p', 'o', 'p', 'u', 'l', 'a', 't', 'e', ' ', 'a', ' ', 's', 'e', 'c', 'o', 'n', 'd', ' ', 'l', 'i', 's', 't', ' ', 'j', 's', '/', 'p', 'h', 'p', '?', '\\t', 'd', 'i', 'f', 'f', 'e', 'r', 'e', 'n', 'c', 'e', ' ', 'b', 'e', 't', 'w', 'e', 'e', 'n', ' ', '<', '%', ' ', 'a', 'n', 'd', ' ', '<', '%', '=', ' ', 'r', 'u', 'b', 'y', '\\t', 'H', 'o', 'w', ' ', 't', 'o', ' ', 'r', 'e', 'm', 'o', 'v', 'e', ' ', 't', 'h', 'e', ' ', 'f', 'u', 'n', 'c', 't', 'i', 'o', 'n', 'a', 'l', 'i', 't', 'y', ' ', 'o', 'f', ' ', 'c', 'h', 'a', 'n', 'g', 'e', 'l', 'i', 's', 't', ' ', 'f', 'i', 'l', 't', 'e', 'r', ' ', 'a', 'p', 'p', 'e', 'a', 'r', 'i', 'n', 'g', ' ', 'i', 'n', ' ', 'd', 'j', 'a', 'n', 'g', 'o', ' ', 'a', 'd', 'm', 'i', 'n', '?', '\\t', 'h', 'o', 'w', ' ', 't', 'o', ' ', 'u', 'n', 'p', 'a', 'c', 'k', ' ', 's', 't', 'x', 'e', 't', 'x', ' ', 'd', 'a', 't', 'a', ' ', 'i', 'n', ' ', 'p', 'y', 't', 'h', 'o', 'n', '\\t', 'A', 'n', 's', 'i', 'b', 'l', 'e', ':', ' ', 'p', 'l', 'a', 'y', 'b', 'o', 'o', 'k', ' ', 'c', 'a', 'l', 'l', 'i', 'n', 'g', ' ', 'R', 'o', 'l', 'e', ' ', 'i', 'n', ' ', 'a', ' ', 'd', 'i', 'r', 'e', 'c', 't', 'o', 'r', 'y', ' ', 't', 'h', 'a', 't', ' ', 'i', 's', ' ', 'i', 'n', ' ', 't', 'h', 'e', ' ', 'r', 'o', 'l', 'e', 's', ' ', 'd', 'i', 'r', 'e', 'c', 't', 'o', 'r', 'y', '\\t', 'S', 'e', 't', 't', 'i', 'n', 'g', ' ', 'u', 'p', ' ', 'H', 'T', 'T', 'P', 'S', ' ', 'r', 'e', 'd', 'i', 'r', 'e', 'c', 't', 's', ' ', 'o', 'n', ' ', 'H', 'e', 'r', 'o', 'k', 'u', ' ', 'L', 'a', 'r', 'a', 'v', 'e', 'l', ' ', 'I', 'n', 's', 't', 'a', 'n', 'c', 'e', '\\t', 'I', 'n', 'p', 'u', 't', ' ', 'h', 'e', 'l', 'p', 'e', 'r', ' ', 'v', 'a', 'l', 'u', 'e', 'B', 'i', 'n', 'd', 'i', 'n', 'g', ' ', 'i', 's', ' ', 'd', 'e', 'p', 'r', 'e', 'c', 'a', 't', 'e', 'd', ' ', '-', ' ', 'w', 'h', 'a', 't', \"'\", 's', ' ', 't', 'h', 'e', ' ', 'a', 'l', 't', 'e', 'r', 'n', 'a', 't', 'i', 'v', 'e', '?', '\\t', 'U', 's', 'i', 'n', 'g', ' ', 'M', 'y', 'S', 'Q', 'L', '.', 'c', 'o', 'n', 'n', 'e', 'c', 't', 'o', 'r', ' ', 'w', 'i', 't', 'h', ' ', 'T', 'w', 'i', 's', 't', 'e', 'd', ' ', 'P', 'y', 't', 'h', 'o', 'n', ' ', 't', 'o', ' ', 'e', 'x', 'e', 'c', 'u', 't', 'e', ' ', 'm', 'u', 'l', 't', 'i', 'p', 'l', 'e', ' ', 'q', 'u', 'e', 'r', 'i', 'e', 's', '\\t', 'M', 'y', 'S', 'Q', 'L', ' ', '-', ' ', '1', ' ', 'l', 'a', 'r', 'g', 'e', ' ', 't', 'a', 'b', 'l', 'e', ' ', 'w', 'i', 't', 'h', ' ', '1', '0', '0', ' ', 'c', 'o', 'l', 'u', 'm', 'n', 's', ' ', 'O', 'R', ' ', 's', 'p', 'l', 'i', 't', ' ', 'i', 'n', 't', 'o', ' ', '5', ' ', 't', 'a', 'b', 'l', 'e', 's', ' ', 'a', 'n', 'd', ' ', 'J', 'O', 'I', 'N', '\\t', 'n', 'e', 'o', '4', 'j', ' ', 'l', 'o', 'a', 'd', ' ', 'c', 's', 'v', ' ', 'w', 'h', 'e', 'n', ' ', 'f', 'i', 'e', 'l', 'd', ' ', 'n', 'a', 'm', 'e', ' ', 'h', 'a', 's', ' ', 'a', ' ', \"'\", '.', \"'\", ' ', 'i', 'n', ' ', 'i', 't', '\\t', 'M', 'o', 'c', 'h', 'a', ' ', '+', ' ', 'R', 'e', 'a', 'c', 't', ':', ' ', 'n', 'a', 'v', 'i', 'g', 'a', 't', 'o', 'r', ' ', 'i', 's', ' ', 'n', 'o', 't', ' ', 'd', 'e', 'f', 'i', 'n', 'e', 'd', '\\t', 's', 'e', 'm', 'a', 'n', 't', 'i', 'c', ' ', 'u', 'i', ' ', 'g', 'r', 'i', 'd', ' ', '-', ' ', 'd', 'i', 's', 'p', 'l', 'a', 'y', ' ', 'f', 'u', 'l', 'l', ' ', 'w', 'i', 'd', 't', 'h', ' ', 'o', 'f', ' ', 'c', 'o', 'l', 'u', 'm', 'n', ',', ' ', 'a', 'f', 't', 'e', 'r', ' ', '\"', 'c', 'o', 'm', 'p', 'u', 't', 'e', 'r', ' ', 'o', 'n', 'l', 'y', '\"', ' ', 'c', 'o', 'l', 'u', 'm', 'n', 's', ' ', 'i', 's', ' ', 'h', 'i', 'd', 'd', 'e', 'n', '\\t', 'p', 'o', 'p', 'u', 'l', 'a', 't', 'i', 'n', 'g', ' ', 's', 'e', 'l', 'e', 'c', 't', ' ', 'm', 'e', 'n', 'u', ' ', 'o', 'p', 't', 'i', 'o', 'n', 's', ' ', 'u', 's', 'i', 'n', 'g', ' ', 'j', 'a', 'v', 'a', 's', 'c', 'r', 'i', 'p', 't', '\\t', 'S', 'e', 'r', 'i', 'a', 'l', 'i', 'z', 'i', 'n', 'g', ' ', 'M', 'o', 'n', 'g', 'o', 'D', 'B', ' ', 'f', 'i', 'n', 'd', '(', ')', ' ', 'r', 'e', 't', 'u', 'r', 'n', ' ', 'i', 'n', 't', 'o', ' ', 'n', 'o', 'n', '-', 'a', 'n', 'o', 'n', 'y', 'm', 'o', 'u', 's', ' ', 'J', 'S', 'O', 'N', ' ', 'a', 'r', 'r', 'a', 'y', ',', ' ', 'u', 's', 'i', 'n', 'g', ' ', 'P', 'y', 'M', 'o', 'n', 'g', 'o', '\\t', 'G', 'e', 'o', 'm', ' ', 't', 'i', 'l', 'e', ' ', 'w', 'h', 'i', 't', 'e', ' ', 's', 'p', 'a', 'c', 'e', ' ', 'i', 's', 's', 'u', 'e', ' ', 'w', 'h', 'e', 'n', ' ', 't', 'h', 'e', ' ', 'x', ' ', 'v', 'a', 'r', 'i', 'a', 'b', 'l', 'e', ' ', 'i', 's', ' ', 's', 'p', 'r', 'e', 'a', 'd', ' ', 'u', 'n', 'e', 'v', 'e', 'n', 'l', 'y', ' ', 'a', 'c', 'c', 'r', 'o', 's', 's', ' ', 'f', 'a', 'c', 'e', 't', ' ', 'g', 'r', 'i', 'd', 's', '\\t', 'M', 'o', 'v', 'i', 'n', 'g', ' ', 'f', 'i', 'l', 'e', 's', ' ', 'd', 'e', 'p', 'e', 'n', 'd', 'i', 'n', 'g', ' ', 'o', 'n', ' ', 't', 'h', 'e', ' ', 'p', 'r', 'o', 'f', 'i', 'l', 'e', ' ', 'i', 'n', ' ', 'a', ' ', 'W', 'A', 'R', '\\t', 'C', 'h', 'e', 'c', 'k', ' ', 'i', 'f', ' ', 'i', 't', \"'\", 's', ' ', 't', 'h', 'e', ' ', 'l', 'a', 's', 't', ' ', 'r', 'e', 'c', 'o', 'r', 'd', ' ', 'i', 'n', ' ', 's', 'q', 'l', 'd', 'a', 't', 'a', 'r', 'e', 'a', 'd', 'e', 'r', '\\t', 'A', 's', 's', 'i', 'g', 'n', 'i', 'n', 'g', ' ', 't', 'o', ' ', 'c', 'o', 'l', 'u', 'm', 'n', 's', ' ', 'i', 'n', ' ', 'N', 'u', 'm', 'P', 'y', '?', '\\t', 'A', 'n', 'd', 'r', 'o', 'i', 'd', ' ', 'F', 'a', 'c', 'e', 'b', 'o', 'o', 'k', ' ', 'A', 'p', 'i', 'E', 'x', 'c', 'e', 'p', 't', 'i', 'o', 'n', ':', ' ', 'I', 'n', 'v', 'a', 'l', 'i', 'd', ' ', 'A', 'p', 'p', 'l', 'i', 'c', 'a', 't', 'i', 'o', 'n', '\\t', 'D', 'j', 'a', 'n', 'g', 'o', ':', ' ', 'c', 'u', 's', 't', 'o', 'm', 'i', 'z', 'i', 'n', 'g', ' ', 't', 'h', 'e', ' ', 'm', 'e', 's', 's', 'a', 'g', 'e', ' ', 'a', 'f', 't', 'e', 'r', ' ', 'a', ' ', 's', 'u', 'c', 'c', 'e', 's', 's', 'f', 'u', 'l', ' ', 'f', 'o', 'r', 'm', ' ', 's', 'a', 'v', 'e', '\\t', 'C', 'u', 's', 't', 'o', 'm', ' ', 'T', 'e', 'x', 't', 'B', 'o', 'x', ' ', 'w', 'i', 't', 'h', ' ', 'b', 'u', 'i', 'l', 't', '-', 'i', 'n', ' ', 'V', 'a', 'l', 'i', 'd', 'a', 't', 'o', 'r', ':', ' ', 's', 'e', 'r', 'v', 'e', 'r', ' ', 's', 'i', 'd', 'e', ' ', 'v', 'a', 'l', 'i', 'd', 'a', 't', 'i', 'o', 'n', ' ', 'n', 'o', 't', ' ', 'f', 'i', 'r', 'i', 'n', 'g', '\\t', 'H', 'o', 'w', ' ', 't', 'o', ' ', 'e', 'm', 'b', 'e', 'd', ' ', 'm', 'j', 'p', 'e', 'g', ' ', 'f', 'i', 'l', 'e', ' ', 'o', 'n', ' ', 'a', ' ', 'w', 'e', 'b', 'p', 'a', 'g', 'e', '\\t', 'p', 'h', 'p', ' ', 'd', 'e', 'l', 'e', 't', 'e', ' ', 'o', 'n', ' ', 'j', 'Q', 'u', 'e', 'r', 'y', ' ', 'd', 'o', 'e', 's', 'n', 't', ' ', 'w', 'o', 'r', 'k', '\\t', 'A', 'W', 'K', ' ', 'd', 'o', 'e', 's', 'n', \"'\", 't', ' ', 'w', 'o', 'r', 'k', ' ', 'i', 'n', ' ', 'B', 'a', 's', 'h', ' ', 'S', 'c', 'r', 'i', 'p', 't', '\\t', 'L', 'a', 'u', 'n', 'c', 'h', ' ', 's', 'p', 'e', 'c', 'i', 'f', 'i', 'c', ' ', 'a', 'p', 'p', ' ', 'w', 'h', 'e', 'n', ' ', 'e', 'x', 't', 'e', 'r', 'n', 'a', 'l', ' ', 'a', 'c', 'c', 'e', 's', 's', 'o', 'r', 'y', ' ', 'a', 't', 't', 'a', 'c', 'h', 'e', 'd', '\\t', 'T', 'h', 'r', 'e', 'e', ' ', 'I', 'n', 'p', 'u', 't', 's', ' ', 'i', 'n', ' ', 'a', ' ', 'R', 'o', 'w', ' ', '-', ' ', 'B', 'o', 'o', 't', 's', 't', 'r', 'a', 'p', ' ', '3', '\\t', 'H', 'o', 'w', ' ', 'c', 'o', 'm', 'p', 'i', 'l', 'e', 'r', ' ', 'l', 'i', 'k', 'e', ' ', 'G', 'C', 'C', ' ', 'i', 'm', 'p', 'l', 'e', 'm', 'e', 'n', 't', ' ', 'a', 'c', 'q', 'u', 'i', 'r', 'e', '/', 'r', 'e', 'l', 'e', 'a', 's', 'e', ' ', 's', 'e', 'm', 'a', 'n', 't', 'i', 'c', 's', ' ', 'f', 'o', 'r', ' ', 's', 't', 'd', ':', ':', 'm', 'u', 't', 'e', 'x', '\\t', 'F', 'r', 'a', 'm', 'e', 'w', 'o', 'r', 'k', ' ', 's', 'e', 'a', 'r', 'c', 'h', ' ', 'f', 'o', 'r', ' ', 'u', 'p', 'c', 'o', 'm', 'i', 'n', 'g', ' ', 'p', 'r', 'o', 'j', 'e', 'c', 't', '\\t', 'I', 'm', 'p', 'l', 'e', 'm', 'e', 'n', 't', 'i', 'n', 'g', ' ', 'a', ' ', 'W', 'e', 'b', ' ', 'S', 'e', 'r', 'v', 'i', 'c', 'e', ' ', 'S', 'e', 'r', 'v', 'e', 'r', ' ', 'i', 'n', ' ', 'W', 'i', 'n', 'd', 'o', 'w', 's', ' ', 'C', 'E', ' ', '2', '0', '1', '3', '\\t', 'W', 'h', 'y', ' ', 'd', 'o', ' ', 'I', ' ', 'k', 'e', 'e', 'p', ' ', 'g', 'e', 't', 't', 'i', 'n', 'g', ' ', '\"', 'T', 'h', 'e', ' ', 'd', 'i', 'g', 'i', 't', 'a', 'l', ' ', 's', 'i', 'g', 'n', 'a', 't', 'u', 'r', 'e', ' ', 'o', 'f', ' ', 't', 'h', 'e', ' ', 'o', 'b', 'j', 'e', 'c', 't', ' ', 'd', 'i', 'd', ' ', 'n', 'o', 't', ' ', 'v', 'e', 'r', 'i', 'f', 'y', '\"', ' ', 'f', 'o', 'r', ' ', 'W', 'i', 'n', 'd', 'o', 'w', 's', ' ', 'J', 'a', 'v', 'a', 'E', 'E', ' ', 'i', 'n', 's', 't', 'a', 'l', 'l', 'e', 'r', '\\t', 'h', 'i', 'd', 'e', ' ', 'p', 'a', 'g', 'i', 'n', 'g', ' ', 'n', 'u', 'm', 'b', 'e', 'r', 's', ' ', 'i', 'n', ' ', 'g', 'r', 'i', 'd', 'v', 'i', 'e', 'w', '?', '\\t', 'H', 'o', 'w', ' ', 't', 'o', ' ', 'r', 'e', 'm', 'o', 'v', 'e', ' ', 's', 'u', 'b', 'l', 'a', 'y', 'e', 'r', 's', ' ', 'f', 'r', 'o', 'm', ' ', 'a', ' ', 'v', 'i', 'e', 'w', ' ', 'a', 'f', 'e', 'r', ' ', 'a', ' ', 't', 'o', 'u', 'c', 'h', '\\t', 'C', 'U', 'D', 'A', ':', ' ', 'C', 'a', 'n', ' ', 'i', ' ', 'f', 'i', 'n', 'd', ' ', 'o', 'u', 't', ' ', 'i', 'f', ' ', 'i', ' ', 'h', 'a', 'v', 'e', ' ', 'g', 'l', 'o', 'b', 'a', 'l', ' ', 'm', 'e', 'm', 'o', 'r', 'y', ' ', 'c', 'o', 'a', 'l', 'e', 's', 'c', 'e', 'n', 'c', 'e', '?', '\\t', 'H', 'o', 'w', ' ', 't', 'o', ' ', 'r', 'e', 'a', 'd', ' ', 'a', ' ', 'g', 'o', 'o', 'g', 'l', 'e', ' ', 'c', 'h', 'r', 'o', 'm', 'e', ' ', 'c', 'r', 'a', 's', 'h', ' ', 'd', 'u', 'm', 'p', ' ', 'w', 'i', 't', 'h', ' ', 'w', 'i', 'n', 'd', 'b', 'g', '\\t', 'j', 'Q', 'u', 'e', 'r', 'y', ' ', 't', 'a', 'r', 'g', 'e', 't', 'i', 'n', 'g', ' ', 'n', 'e', 's', 't', 'e', 'd', ' ', 'l', 'i', 's', 't', '\\t', 'p', 'a', 's', 's', ' ', 't', 'h', 'e', ' ', 'c', 'o', 'l', 'u', 'm', 'n', ' ', 'v', 'a', 'l', 'u', 'e', ' ', 'w', 'h', 'e', 'n', ' ', 'c', 'h', 'e', 'c', 'k', 'b', 'o', 'x', ' ', 'i', 's', ' ', 'c', 'l', 'i', 'c', 'k', 'e', 'd', ' ', 'i', 'n', ' ', 'w', 'i', 'j', 'm', 'o', 'g', 'r', 'i', 'd', ' ', 'c', 'o', 'l', 'u', 'm', 'n', '\\t', 'H', 'o', 'w', ' ', 't', 'o', ' ', 'n', 'o', 'r', 'm', 'a', 'l', 'i', 'z', 'e', ' ', 'y', 'o', 'u', 'r', ' ', 'd', 'a', 't', 'a', 'b', 'a', 's', 'e', ' ', 'i', 'n', ' ', 'h', 'i', 'b', 'e', 'r', 'n', 'a', 't', 'e', '?', ' ', '(', 'R', 'e', 'p', 'e', 'a', 't', 'i', 'n', 'g', ' ', 'v', 'a', 'l', 'u', 'e', 's', ' ', 'd', 'o', 'n', \"'\", 't', ' ', 'g', 'e', 't', ' ', 's', 'a', 'v', 'e', 'd', ' ', 'a', 'g', 'a', 'i', 'n', ' ', 'a', 'n', 'd', ' ', 'a', 'g', 'a', 'i', 'n', ')', '\\t', 'h', 'o', 'w', ' ', 't', 'o', ' ', 's', 't', 'o', 'p', ' ', 'v', 'a', 'l', 'i', 'd', 'a', 't', 'i', 'o', 'n', ' ', 'o', 'n', ' ', 'a', ' ', 'p', 'a', 'r', 't', 'i', 'c', 'u', 'l', 'a', 'r', ' ', 't', 'e', 'x', 't', 'b', 'o', 'x', ' ', 'a', 'f', 't', 'e', 'r', ' ', 'h', 'i', 'd', 'i', 'n', 'g', ' ', 't', 'h', 'i', 's', ' ', 't', 'e', 'x', 't', 'b', 'o', 'x', ' ', 'u', 's', 'i', 'n', 'g', ' ', 'a', 'n', 'g', 'u', 'l', 'a', 'r', 'j', 's', '\\t', 'o', 'p', 'e', 'n', 'c', 'v', ' ', 'i', 'm', 's', 'h', 'o', 'w', ' ', 'w', 'i', 't', 'h', ' ', 'w', 'a', 'i', 't', 'K', 'e', 'y', ' ', 't', 'o', 'o', ' ', 's', 'l', 'o', 'w', ' ', 'o', 'n', ' ', 'M', 'a', 'c', ' ', 'O', 'S', ' ', 'X', ' ', '1', '0', '.', '1', '0', '.', '2', ' ', '(', 'u', 's', 'i', 'n', 'g', ' ', 'c', '+', '+', ')', '\\t', 'S', 'e', 't', 't', 'i', 'n', 'g', ' ', 'a', 'n', ' ', 'I', 'n', 'p', 'u', 't', ' ', 'B', 'o', 'x', ' ', 'B', 'a', 'c', 'k', 'g', 'r', 'o', 'u', 'n', 'd', '\\t', 'I', 'n', 't', 'e', 'l', 'l', 'i', 'J', ' ', 'I', 'D', 'E', 'A', ':', ' ', '\"', 'E', 'l', 'e', 'm', 'e', 'n', 't', ' ', 'i', 'g', 'n', 'o', 'r', 'e', ' ', 'i', 's', ' ', 'n', 'o', 't', ' ', 'a', 'l', 'l', 'o', 'w', 'e', 'd', ' ', 'h', 'e', 'r', 'e', '\"', '\\t', 'S', 'l', 'i', 'd', 'e', 'r', ' ', 'd', 'o', 'e', 's', ' ', 'n', 'o', 't', ' ', 'w', 'o', 'r', 'k', ' ', 'i', 'n', ' ', 't', 'h', 'e', ' ', 'j', 'Q', 'u', 'e', 'r', 'y', ' ', 'T', 'a', 'b', 's', '\\t', 'C', 'a', 'r', 'r', 'i', 'e', 'r', 'w', 'a', 'v', 'e', ' ', 'g', 'e', 't', 't', 'i', 'n', 'g', ' ', 'i', 'm', 'a', 'g', 'e', ' ', 'w', 'i', 'd', 't', 'h', ' ', 'a', 'n', 'd', ' ', 'h', 'e', 'i', 'g', 'h', 't', ' ', 'a', 'n', 'd', ' ', 's', 't', 'o', 'r', 'i', 'n', 'g', ' ', 'i', 't', ' ', 'i', 'n', ' ', 'a', 'n', ' ', 'h', 's', 't', 'o', 'r', 'e', ' ', 'f', 'i', 'e', 'l', 'd', '\\t', 'O', 'p', 'e', 'n', 'P', 'r', 'o', 'c', 'e', 's', 's', '(', ')', ' ', 's', 'u', 'c', 'c', 'e', 'e', 'd', 's', ',', ' ', 'b', 'u', 't', ' ', 'E', 'n', 'u', 'm', 'P', 'r', 'o', 'c', 'e', 's', 's', 'M', 'o', 'd', 'u', 'l', 'e', 's', '(', ')', ' ', 'f', 'a', 'i', 'l', 's', '\\t', 'D', 'j', 'a', 'n', 'g', 'o', ' ', '+', ' ', 'F', 'o', 'r', 'm', 's', ':', ' ', 'D', 'y', 'n', 'a', 'm', 'i', 'c', ' ', 'c', 'h', 'o', 'i', 'c', 'e', 's', ' ', 'f', 'o', 'r', ' ', 'C', 'h', 'o', 'i', 'c', 'e', 'F', 'i', 'e', 'l', 'd', '\\t', 'u', 's', 'i', 'n', 'g', ' ', 'U', 'r', 'l', '.', 'C', 'o', 'n', 't', 'e', 'n', 't', ' ', 't', 'o', ' ', 'd', 'i', 's', 'p', 'l', 'a', 'y', ' ', 't', 'h', 'e', ' ', 'f', 'i', 'l', 'e', ' ', 'c', 'o', 'n', 't', 'e', 'n', 't', ' ', 'w', 'i', 't', 'h', ' ', '.', 'n', 'e', 't', ' ', 'm', 'v', 'c', '\\t', 'P', 'D', 'O', ' ', 'c', 'a', 'n', 'n', 'o', 't', ' ', 'a', 'b', 'l', 'e', ' ', 't', 'o', ' ', 'f', 'e', 't', 'c', 'h', ' ', 'i', 'm', 'a', 'g', 'e', ' ', 'f', 'r', 'o', 'm', ' ', 'd', 'a', 't', 'a', 'b', 'a', 's', 'e', '\\t', 'e', 'r', 'r', 'o', 'r', ' ', 'i', 'n', ' ', 'a', 'd', 'd', 'i', 'n', 'g', ' ', 'o', 'v', 'e', 'r', 'l', 'a', 'y', ' ', 'i', 'n', ' ', 'c', 'u', 'r', 'r', 'e', 'n', 't', ' ', 'l', 'o', 'c', 'a', 't', 'i', 'o', 'n', '\\t', 'I', 'n', 't', 'e', 'r', 'n', 'a', 'l', ' ', 's', 'e', 'c', 't', 'i', 'o', 'n', ' ', 'l', 'i', 'n', 'k', ' ', 'f', 'a', 'i', 'l', 's', ' ', 'i', 'n', ' ', 'b', 'e', 'a', 'm', 'e', 'r', ' ', 'o', 'u', 't', 'p', 'u', 't', ' ', 'o', 'f', ' ', 'p', 'a', 'n', 'd', 'o', 'c', ' ', 'm', 'a', 'r', 'k', 'd', 'o', 'w', 'n', '\\t', 'A', 'd', 'd', 'i', 'n', 'g', ' ', 'R', 'O', 'W', '_', 'N', 'U', 'M', 'B', 'E', 'R', '(', ')', ' ', 't', 'o', ' ', 'q', 'u', 'e', 'r', 'y', ' ', 'l', 'o', 's', 'e', 's', ' ', 'D', 'I', 'S', 'T', 'I', 'N', 'C', 'T', ',', ' ', 'd', 'e', 'f', 'e', 'a', 't', 's', ' ', 't', 'h', 'e', ' ', 'p', 'u', 'r', 'p', 'o', 's', 'e', ' ', 'o', 'f', ' ', 'p', 'a', 'g', 'e', 'd', ' ', 'r', 'e', 's', 'u', 'l', 't', 's', ' ', 'a', 't', 't', 'e', 'm', 'p', 't', '\\t', 'a', 'n', 'd', 'r', 'o', 'i', 'd', ' ', 's', 't', 'u', 'd', 'i', 'o', ' ', '1', '3', '5', '.', '1', '3', '3', '9', '8', '2', '0', ' ', 'l', 'a', 'u', 'n', 'c', 'h', 'e', 's', ' ', 'w', 'r', 'o', 'n', 'g', ' ', 'j', 'a', 'v', 'a', ' ', 'v', 'e', 'r', 's', 'i', 'o', 'n', ' ', 'o', 'n', ' ', 'o', 'p', 'e', 'n', 'S', 'u', 's', 'e', ' ', '1', '2', '.', '3', '\\t', 'M', 'y', ' ', 'F', 'a', 'c', 'e', 'b', 'o', 'o', 'k', ' ', 'o', 'b', 'j', 'e', 'c', 't', ' ', 'i', 's', ' ', 'e', 'm', 'p', 't', 'y', '\\t', 'J', 'a', 'v', 'a', ' ', 'c', 'o', 'd', 'e', ' ', 'r', 'e', 'a', 'd', 's', ' ', 'U', 'T', 'F', '-', '8', ' ', 't', 'e', 'x', 't', ' ', 'i', 'n', 'c', 'o', 'r', 'r', 'e', 'c', 't', 'l', 'y', '\\t', 'P', 'H', 'P', ' ', 's', 'e', 's', 's', 'i', 'o', 'n', '.', 'c', 'o', 'o', 'k', 'i', 'e', '_', 's', 'e', 'c', 'u', 'r', 'e', ' ', 'd', 'o', 'e', 's', ' ', 'n', 'o', 't', ' ', 'a', 'c', 't', 'u', 'a', 'l', 'l', 'y', ' ', 's', 'e', 't', ' ', 't', 'h', 'e', ' ', 'c', 'o', 'o', 'k', 'i', 'e', ' ', 't', 'o', ' ', 's', 'e', 'c', 'u', 'r', 'e', '\\t', 'U', 's', 'i', 'n', 'g', ' ', 'w', 'e', 'b', 'a', 'p', 'p', '2', ',', ' ', 'h', 'o', 'w', ' ', 'c', 'a', 'n', ' ', 'I', ' ', 'g', 'e', 't', ' ', 't', 'h', 'e', ' ', 'v', 'a', 'l', 'u', 'e', ' ', 'o', 'f', ' ', 'a', ' ', 'f', 'o', 'r', 'm', \"'\", 's', ' ', '\"', 'n', 'a', 'm', 'e', '\"', ' ', 'a', 't', 't', 'r', 'i', 'b', 'u', 't', 'e', ' ', 'd', 'u', 'r', 'i', 'n', 'g', ' ', 'a', ' ', 'P', 'O', 'S', 'T', ' ', 'r', 'e', 'q', 'u', 'e', 's', 't', '?', '\\t', 'F', 'i', 'n', 'd', 'i', 'n', 'g', ' ', 'U', 'p', 'p', 'e', 'r', 'c', 'a', 's', 'e', ' ', 'C', 'h', 'a', 'r', 'a', 'c', 't', 'e', 'r', ' ', 't', 'h', 'e', 'n', ' ', 'A', 'd', 'd', 'i', 'n', 'g', ' ', 'S', 'p', 'a', 'c', 'e', '\\t', 'T', 'a', 'b', 'l', 'e', ' ', 'd', 'a', 't', 'a', ' ', 'p', 'a', 's', 's', ' ', 'i', 'n', 't', 'o', ' ', 's', 't', 'o', 'r', 'e', 'd', ' ', 'p', 'r', 'o', 'c', 'e', 'd', 'u', 'r', 'e', ' ', 'a', 's', ' ', 'p', 'a', 'r', 'a', 'm', ' ', 'a', 'n', 'd', ' ', 'i', 'n', 's', 'e', 'r', 't', ' ', 'i', 'n', 't', 'o', ' ', 'a', 'n', 'o', 't', 'h', 'e', 'r', ' ', 't', 'a', 'b', 'l', 'e', ' ', 'i', 'n', ' ', 'm', 'y', 's', 'q', 'l', '\\t', 'I', 'n', 'j', 'e', 'c', 't', ' ', 'e', 'n', 't', 'r', 'y', ' ', 'p', 'o', 'i', 'n', 't', ' ', 'c', 'l', 'a', 's', 's', ' ', 'i', 'n', ' ', 'G', 'W', 'T', ' ', 'w', 'i', 't', 'h', ' ', 'G', 'I', 'N', '\\t', 'H', 'o', 'w', ' ', 't', 'o', ' ', 'g', 'r', 'o', 'u', 'p', ' ', 'b', 'y', ' ', 'w', 'e', 'e', 'k', ' ', 'o', 'f', ' ', 't', 'h', 'e', ' ', 'y', 'e', 'a', 'r', ' ', 'd', 'a', 't', 'e', 's', ' ', 'o', 'r', ' ', 'd', 'a', 'y', ' ', 'd', 'a', 't', 'e', 's', ' ', 't', 'h', 'a', 't', ' ', 's', 't', 'a', 'r', 't', ' ', 'o', 'n', ' ', 'S', 'u', 'n', 'd', 'a', 'y', 's', ' ', 'i', 'n', ' ', 'o', 'r', 'a', 'c', 'l', 'e', ' ', '1', '0', '?', '\\t', 'W', 'h', 'a', 't', ' ', 'a', 'r', 'e', ' ', 't', 'h', 'e', ' ', 'o', 'p', 't', 'i', 'o', 'n', 's', ' ', 'S', 'o', 'm', 'e', ' ', 'a', 'n', 'd', ' ', 'N', 'o', 'n', 'e', ' ', 'S', 'M', 'L', '?', '\\t', 'R', 'e', 'v', 'e', 'r', 's', 'i', 'n', 'g', ' ', 'a', ' ', '.', 'm', 'p', '3', ' ', 'p', 'r', 'o', 'g', 'r', 'a', 'm', 'm', 'a', 't', 'i', 'c', 'a', 'l', 'l', 'y', '\\t', 'C', 'o', 'n', 'v', 'e', 'r', 't', ' ', 'A', 's', 's', 'o', 'c', 'i', 'a', 't', 'i', 'v', 'e', ' ', 'A', 'r', 'r', 'a', 'y', ' ', 'i', 'n', ' ', 'P', 'H', 'P', ' ', 'a', 'n', 'd', ' ', 'i', 'n', 's', 'e', 'r', 't', ' ', 'i', 't', ' ', 't', 'o', ' ', 'd', 'a', 't', 'a', 'b', 'a', 's', 'e', '\\t', 'W', 'h', 'y', ' ', 'i', 's', ' ', 't', 'h', 'e', ' ', '\"', 'm', 'a', 'p', '\"', ' ', 'v', 'e', 'r', 's', 'i', 'o', 'n', ' ', 'o', 'f', ' ', 'T', 'h', 'r', 'e', 'e', 'S', 'u', 'm', ' ', 's', 'o', ' ', 's', 'l', 'o', 'w', '?', '\\t', 'a', 'n', 't', ' ', 'k', 'e', 'e', 'p', 's', ' ', 'r', 'e', 'c', 'o', 'm', 'p', 'i', 'l', 'i', 'n', 'g', '\\t', 'H', 't', 't', 'p', 'C', 'o', 'n', 't', 'e', 'x', 't', '.', 'C', 'u', 'r', 'r', 'e', 'n', 't', '.', 'U', 's', 'e', 'r', '.', 'I', 'd', 'e', 'n', 't', 'i', 't', 'y', '.', 'N', 'a', 'm', 'e', ' ', 'r', 'e', 't', 'u', 'r', 'n', 's', ' ', 'b', 'l', 'a', 'n', 'k', '\\t', 'U', 'I', 'W', 'e', 'b', 'V', 'i', 'e', 'w', ' ', 'J', 'a', 'v', 'a', 's', 'c', 'r', 'i', 'p', 't', ' ', 'W', 'i', 'n', 'd', 'o', 'w', ' ', 't', 'o', ' ', 'W', 'i', 'n', 'd', 'o', 'w', ' ', 'C', 'o', 'm', 'm', 'u', 'n', 'i', 'c', 'a', 't', 'i', 'o', 'n', '\\t', 'F', 'l', 'u', 'e', 'n', 't', ' ', 'N', 'H', 'i', 'b', 'e', 'r', 'n', 'a', 't', 'e', ' ', 'E', 'x', 'c', 'e', 'p', 't', 'i', 'o', 'n', ':', ' ', 'A', 'n', ' ', 'a', 's', 's', 'o', 'c', 'i', 'a', 't', 'i', 'o', 'n', ' ', 'f', 'r', 'o', 'm', ' ', 't', 'h', 'e', ' ', 't', 'a', 'b', 'l', 'e', ' ', 'X', ' ', 'r', 'e', 'f', 'e', 'r', 's', ' ', 't', 'o', ' ', 'a', 'n', ' ', 'u', 'n', 'm', 'a', 'p', 'p', 'e', 'd', ' ', 'c', 'l', 'a', 's', 's', ':', ' ', 'S', 'y', 's', 't', 'e', 'm', '.', 'S', 't', 'r', 'i', 'n', 'g', '\\t', 'A', 'r', 'e', ' ', '.', 'N', 'E', 'T', ' ', 'm', 'e', 'm', 'c', 'a', 'c', 'h', 'e', ' ', 'l', 'i', 'b', 'r', 'a', 'r', 'i', 'e', 's', ' ', 'p', 'r', 'o', 'd', 'u', 'c', 't', 'i', 'o', 'n', ' ', 'r', 'e', 'a', 'd', 'y', '?', '\\t', 'D', 'B', '2', ' ', 'C', 'a', 'n', \"'\", 't', ' ', 'c', 'o', 'n', 'n', 'e', 'c', 't', ' ', 't', 'o', ' ', 'd', 'b', ' ', 'w', 'i', 't', 'h', ' ', 'n', 'e', 'w', ' ', 'u', 's', 'e', 'r', '\\t', 'D', 'j', 'a', 'n', 'g', 'o', ' ', 'f', 'l', 'a', 't', 'p', 'a', 'g', 'e', 's', ' ', 'b', 'a', 'c', 'k', 'u', 'p', '?', '\\t', 'T', 'r', 'o', 'u', 'b', 'l', 'e', ' ', 'w', 'i', 't', 'h', ' ', 'C', 'r', 'e', 'a', 't', 'i', 'n', 'g', ' ', 'O', 'n', 'e', '-', 'T', 'i', 'm', 'e', ' ', 'C', 'a', 'l', 'e', 'n', 'd', 'a', 'r', ' ', 'E', 'v', 'e', 'n', 't', ' ', 'f', 'r', 'o', 'm', ' ', 'G', 'o', 'o', 'g', 'l', 'e', ' ', 'S', 'h', 'e', 'e', 't', ' ', 'r', 'o', 'w', '\\t', 'T', 'h', 'e', ' ', 'c', 'o', 'l', 'o', 'r', 'e', 'd', ' ', 'i', 'm', 'a', 'g', 'e', ' ', 't', 'u', 'r', 'n', 'e', 'd', ' ', 't', 'o', ' ', 'h', 'a', 'v', 'e', ' ', 'n', 'o', ' ', 'c', 'o', 'l', 'o', 'r', ' ', 'a', 'n', 'd', ' ', 'j', 'u', 's', 't', ' ', 'a', ' ', 'g', 'r', 'e', 'y', ' ', 'v', 'e', 'c', 't', 'o', 'r', ' ', 'i', 'n', ' ', 'd', 'r', 'a', 'w', 'a', 'b', 'l', 'e', '?', '\\t', 'h', 'o', 'w', ' ', 't', 'o', ' ', 's', 'h', 'o', 'w', ' ', 'p', 'a', 't', 't', 'e', 'r', 'n', ' ', 'i', 'n', ' ', 'a', 's', 'p', '-', 'R', 'e', 'p', 'e', 'a', 't', 'e', 'r', ' ', 'i', 't', 'e', 'm', ' ', 't', 'e', 'm', 'p', 'l', 'a', 't', 'e', '?', '\\t', 'F', 'a', 's', 't', 'e', 's', 't', ' ', 's', 'c', 'r', 'i', 'p', 't', 'i', 'n', 'g', ' ', 'l', 'a', 'n', 'g', 'u', 'a', 'g', 'e', ' ', 'f', 'o', 'r', ' ', 'J', 'a', 'v', 'a', '?', '\\t', 'T', 'r', 'i', 'e', 'd', ' ', 't', 'o', ' ', 'r', 'e', 'v', 'e', 'r', 's', 'e', ' ', 'e', 'n', 'g', 'i', 'n', 'e', 'e', 'r', ' ', 'm', 'y', ' ', 'a', 'p', 'p', ',', ' ', 'b', 'u', 't', ' ', 'g', 'o', 't', ' ', 's', 'o', 'm', 'e', ' ', 'w', 'e', 'i', 'r', 'd', '-', 'l', 'o', 'o', 'k', 'i', 'n', 'g', ' ', 'f', 'i', 'l', 'e', ' ', 't', 'r', 'e', 'e', '\\t', 'S', 't', 'a', 'r', 't', 'u', 'p', ' ', 'f', 'o', 'r', ' ', 'b', 'u', 'n', 'd', 'l', 'e', 's', ' ', 'p', 'l', 'a', 'c', 'e', 'd', ' ', 'i', 'n', ' ', 't', 'h', 'e', ' ', 'd', 'e', 'p', 'l', 'o', 'y', ' ', 'f', 'o', 'l', 'd', 'e', 'r', ' ', 'o', 'f', ' ', 'K', 'a', 'r', 'a', 'f', '\\t', 'd', '3', 'j', 's', ' ', 'f', 'o', 'r', 'c', 'e', ' ', 'l', 'a', 'y', 'o', 'u', 't', ' ', 'w', 'i', 't', 'h', ' ', 'h', 'i', 'd', 'e', '/', 'u', 'n', 'h', 'i', 'd', 'e', ' ', 'o', 'n', ' ', 'n', 'o', 'd', 'e', ' ', 'c', 'l', 'i', 'c', 'k', ' ', 'm', 'i', 's', 'p', 'l', 'a', 'c', 'e', 's', ' ', 'n', 'o', 'd', 'e', 's', ' ', 'a', 'f', 't', 'e', 'r', ' ', 'e', 'x', 'p', 'a', 'n', 'd', 'i', 'n', 'g', '\\t', 'U', 'n', 'i', 'q', 'u', 'e', ' ', 'c', 'o', 'l', 'u', 'm', 'n', ' ', 'd', 'e', 'f', 'i', 'n', 'i', 't', 'i', 'o', 'n', ' ', 'i', 'n', ' ', 'S', 'Q', 'L', '\\t', 'H', 'a', 's', 'h', ' ', 'o', 'f', ' ', 'a', ' ', 'c', 'e', 'l', 'l', ' ', 't', 'e', 'x', 't', ' ', 'i', 'n', ' ', 'G', 'o', 'o', 'g', 'l', 'e', ' ', 'S', 'p', 'r', 'e', 'a', 'd', 's', 'h', 'e', 'e', 't', '\\t', 'H', 'o', 'w', ' ', 't', 'o', ' ', 'p', 'i', 'n', '/', 'u', 'n', 'p', 'i', 'n', ' ', 'M', 'i', 'c', 'r', 'o', 's', 'o', 'f', 't', ' ', 'E', 'd', 'g', 'e', ' ', 'd', 'e', 'v', 'e', 'l', 'o', 'p', 'e', 'r', ' ', 't', 'o', 'o', 'l', 's', ' ', 'i', 'n', ' ', 'W', 'i', 'n', 'd', 'o', 'w', 's', ' ', '1', '0', '\\t', 'W', 'h', 'i', 'c', 'h', ' ', 'e', 'd', 'i', 't', 'o', 'r', ' ', 'c', 'a', 'n', ' ', 'a', 'l', 'i', 'g', 'n', ' ', 't', 'a', 'b', 'l', 'e', 's', ' ', 'i', 'n', ' ', 'r', 'e', 'S', 't', 'r', 'u', 'c', 't', 'u', 'r', 'e', 'd', 'T', 'e', 'x', 't', ' ', 'f', 'o', 'r', ' ', 'S', 'p', 'h', 'i', 'n', 'x', '?', '\\t', 'H', 'o', 'w', ' ', 't', 'o', ' ', 'w', 'a', 'l', 'k', ' ', 't', 'h', 'r', 'o', 'u', 'g', 'h', ' ', 'a', ' ', 'd', 'i', 'r', 'e', 'c', 't', 'o', 'r', 'y', ' ', 'i', 'n', ' ', 'c', ' ', 'a', 'n', 'd', ' ', 'p', 'r', 'i', 'n', 't', ' ', 'a', 'l', 'l', ' ', 'f', 'i', 'l', 'e', 's', ' ', 'n', 'a', 'm', 'e', ' ', 'a', 'n', 'd', ' ', 'p', 'e', 'r', 'm', 'i', 's', 's', 'i', 'o', 'n', 's', '\\t', 'i', 'O', 'S', ' ', 'K', 'V', 'C', ' ', 'D', 'R', 'Y', ' ', 'm', 'u', 't', 'a', 't', 'i', 'o', 'n', '\\t', 'I', 'B', 'M', ' ', 'M', 'o', 'b', 'i', 'l', 'e', 'F', 'i', 'r', 's', 't', ' ', 'P', 'l', 'a', 't', 'f', 'o', 'r', 'm', ' ', 'i', 'F', 'i', 'x', ' ', 'd', 'o', 'e', 's', 'n', \"'\", 't', ' ', 'u', 'p', 'd', 'a', 't', 'e', ' ', 't', 'h', 'e', ' ', 'v', 'e', 'r', 's', 'i', 'o', 'n', ' ', 'd', 'i', 's', 'p', 'l', 'a', 'y', 'e', 'd', ' ', 'i', 'n', ' ', 'O', 'p', 'e', 'r', 'a', 't', 'i', 'o', 'n', 's', ' ', 'C', 'o', 'n', 's', 'o', 'l', 'e', '\\t', 'r', 'e', 'l', 'a', 't', 'i', 'v', 'e', ' ', 'l', 'a', 'y', 'o', 'u', 't', ' ', 'a', 'l', 'i', 'g', 'n', 'i', 'n', 'g', ' ', 'i', 'm', 'a', 'g', 'e', 's', ' ', 'a', 'b', 'o', 'u', 't', ' ', 'r', 'i', 'g', 'h', 't', ' ', 'b', 'o', 't', 't', 'o', 'm', ' ', 'c', 'o', 'r', 'n', 'e', 'r', '\\t', 'H', 'o', 'w', ' ', 't', 'o', ' ', 'r', 'e', 't', 'r', 'i', 'e', 'v', 'e', ' ', 'a', ' ', 'P', 'D', 'F', '(', 'd', 'o', 'c', 'u', 'm', 'e', 'n', 't', ')', ' ', 'f', 'r', 'o', 'm', ' ', 't', 'h', 'e', ' ', 'T', 'r', 'i', 'd', 'i', 'o', 'n', ' ', 'F', 'i', 'l', 'e', ' ', 'S', 'y', 's', 't', 'e', 'm', ' ', 'a', 'n', 'd', ' ', 'c', 'r', 'e', 'a', 't', 'e', ' ', 'a', ' ', 'm', 'u', 'l', 't', 'i', 'm', 'e', 'd', 'i', 'a', ' ', 'c', 'o', 'm', 'p', 'o', 'n', 'e', 'n', 't', ' ', 'o', 'u', 't', ' ', 'o', 'f', ' ', 'i', 't', '\\t', 'H', 'T', 'M', 'L', ' ', 's', 'e', 'n', 'd', 's', ' ', 'x', ' ', 'y', ' ', 'P', 'O', 'S', 'T', ' ', 'd', 'a', 't', 'a', ' ', 'w', 'i', 't', 'h', ' ', 'n', 'o', ' ', 'i', 'n', 'p', 'u', 't', 's', ' ', '-', ' ', 'h', 'o', 'w', ' ', 'i', 's', ' ', 't', 'h', 'i', 's', ' ', 'p', 'o', 's', 's', 'i', 'b', 'l', 'e', '?', '\\t', 'H', 'o', 'w', ' ', 'c', 'a', 'n', ' ', 'I', ' ', 'v', 'i', 'e', 'w', ' ', 'A', 'z', 'u', 'r', 'e', ' ', 'l', 'o', 'g', 'f', 'i', 'l', 'e', 's', ' ', 'w', 'h', 'e', 'n', ' ', 'r', 'u', 'n', 'n', 'i', 'n', 'g', ' ', 'l', 'o', 'c', 'a', 'l', 'l', 'y', '?', '\\t', 'i', 's', ' ', 't', 'h', 'e', 'r', 'e', ' ', 'a', ' ', 'w', 'e', 'b', ' ', 's', 'e', 'r', 'v', 'i', 'c', 'e', ' ', 'c', 'l', 'i', 'e', 'n', 't', ' ', 'c', 'o', 'd', 'e', ' ', 'g', 'e', 'n', 'e', 'r', 'a', 't', 'o', 'r', ' ', 'o', 'n', ' ', 'i', 'O', 'S', '?', '\\t', 'G', 'e', 't', ' ', 's', 'm', 'a', 'l', 'l', 'e', 's', 't', ' ', 't', 'y', 'p', 'e', ' ', 't', 'o', ' ', 'i', 'n', 'c', 'l', 'u', 'd', 'e', ' ', 'd', 'a', 't', 'a', ' ', 'r', 'a', 'n', 'g', 'e', '\\t', 'G', 'e', 't', ' ', 'd', 'a', 't', 'e', 's', ' ', 'a', 's', ' ', 'c', 'h', 'e', 'c', 'k', ' ', 'i', 'f', ' ', 'i', 't', ' ', 'i', 's', ' ', 'e', 'n', 'd', 'i', 'n', 'g', '\\t', 'C', 'o', 'r', 'd', 'o', 'v', 'a', ' ', 'b', 'r', 'i', 'g', 'h', 't', 'n', 'e', 's', 's', ' ', 's', 't', 'i', 'l', 'l', ' ', 'r', 'e', 't', 'u', 'r', 'n', 's', ' ', '-', '1', '\\t', 'H', 'o', 'w', ' ', 't', 'o', ' ', 'd', 'e', 't', 'e', 'c', 't', ' ', '3', ' ', 'k', 'e', 'y', 'b', 'o', 'a', 'r', 'd', ' ', 'b', 'u', 't', 't', 'o', 'n', 's', ' ', 'i', 'n', ' ', 'S', 'w', 'i', 'n', 'g', '?', '\\t', 'P', 'y', 't', 'h', 'o', 'n', ' ', 'c', 'a', 'l', 'c', 'u', 'l', 'a', 't', 'i', 'o', 'n', 's', ' ', 'i', 'n', ' ', 't', 'w', 'o', ' ', 'g', 'r', 'o', 'u', 'p', 's', '\\t', 'c', 'r', 'e', 'a', 't', 'e', ' ', 'a', 'r', 'r', 'a', 'y', ' ', 'f', 'r', 'o', 'm', ' ', 'm', 'y', 's', 'q', 'l', ' ', 'q', 'u', 'e', 'r', 'y', ' ', 'p', 'h', 'p', '\\t', 'T', 'D', 'D', ' ', 'v', 's', ' ', 'D', 'e', 'f', 'e', 'n', 's', 'i', 'v', 'e', ' ', 'P', 'r', 'o', 'g', 'r', 'a', 'm', 'm', 'i', 'n', 'g', '\\t', 'D', 'i', 's', 'p', 'l', 'a', 'y', ' ', 'l', 'o', 'g', 'o', ' ', 'o', 'r', ' ', 'i', 'm', 'a', 'g', 'e', ' ', 'i', 'n', ' ', 't', 'h', 'e', ' ', 'R', 'i', 'b', 'b', 'o', 'n', ' ', 'u', 's', 'i', 'n', 'g', ' ', 'V', 'S', 'T', 'O', '\\t', 'H', 'o', 'w', ' ', 'c', 'a', 'n', ' ', 'I', ' ', 'g', 'e', 't', ' ', 'a', ' ', 'm', 'e', 'a', 'n', 'i', 'n', 'g', ' ', 'o', 'f', ' ', 'a', ' ', 'j', 's', 'p', ' ', 'v', 'a', 'r', 'i', 'a', 'b', 'l', 'e', ' ', 'i', 'n', ' ', 'j', 'a', 'v', 'a', ' ', 'c', 'o', 'd', 'e', ' ', 'o', 'n', ' ', 't', 'h', 'e', ' ', 's', 'a', 'm', 'e', ' ', 'p', 'a', 'g', 'e', '?', '\\t', 'C', 'o', 'n', 'v', 'e', 'r', 's', 'i', 'o', 'n', ' ', 'o', 'f', ' ', 'c', 'l', 'o', 'u', 'd', ' ', 'd', 'a', 't', 'a', ' ', 'i', 'n', 't', 'o', ' ', '2', 'd', ' ', 'i', 'm', 'a', 'g', 'e', ' ', 'u', 's', 'i', 'n', 'g', ' ', 'O', 'p', 'e', 'n', 'C', 'V', '\\t', '[', 'p', 'y', 't', 'h', 'o', 'n', '-', 's', 'u', 'd', 's', ']', 'B', 'u', 'g', '?', ' ', 'O', 'n', 'e', ' ', 'a', 'd', 'd', 'i', 't', 'i', 'o', 'n', 'a', 'l', ' ', 'e', 'l', 'e', 'm', 'e', 'n', 't', ' ', 'i', 's', ' ', 'c', 'r', 'e', 'a', 't', 'e', 'd', ' ', 'w', 'h', 'e', 'n', ' ', 'u', 's', 'i', 'n', 'g', ' ', 'F', 'a', 'c', 't', 'o', 'r', 'y', '\\t', 'U', 's', 'i', 'n', 'g', ' ', 'c', 'l', 'a', 'n', 'g', ' ', 't', 'o', ' ', 'a', 'n', 'a', 'l', 'y', 'z', 'e', ' ', 'C', '+', '+', ' ', 'c', 'o', 'd', 'e', '\\t', 'L', 'o', 'g', 'i', 'n', ' ', 'w', 'i', 't', 'h', ' ', 'e', 'm', 'a', 'i', 'l', ' ', 'a', 'n', 'd', ' ', 'p', 'a', 's', 's', 'w', 'o', 'r', 'd', ' ', 'c', 'o', 'n', 't', 'r', 'o', 'l', ' ', 'n', 'o', 't', ' ', 'w', 'o', 'r', 'k', 'i', 'n', 'g', '\\t', 'a', 'n', 's', 'i', 'b', 'l', 'e', ':', ' ', 'u', 's', 'e', ' ', 'd', 'i', 'f', 'f', 'e', 'r', 'e', 'n', 't', ' ', 'l', 'o', 'g', 'g', 'i', 'n', 'g', ' ', 'l', 'e', 'v', 'e', 'l', ' ', 'f', 'o', 'r', ' ', 't', 'e', 'r', 'm', 'i', 'n', 'a', 'l', ' ', 'a', 'n', 'd', ' ', 'l', 'o', 'g', ' ', 'f', 'i', 'l', 'e', '\\t', 'D', 'r', 'a', 'g', 'g', 'a', 'b', 'l', 'e', ' ', 'w', 'i', 'n', 'd', 'o', 'w', ' ', 'w', 'i', 't', 'h', ' ', 'p', 'y', 'q', 't', '4', '\\t', 'd', 'y', 'n', 'a', 'm', 'i', 'c', 'a', 'l', 'l', 'y', ' ', 'a', 'd', 'd', 'i', 'n', 'g', ' ', 'e', 'd', 'i', 't', 't', 'e', 'x', 't', ' ', 'd', 'e', 'p', 'e', 'n', 'd', 'i', 'n', 'g', ' ', 'o', 'n', ' ', 't', 'h', 'e', ' ', 'e', 'l', 'e', 'm', 'e', 'n', 't', 's', ' ', 'o', 'f', ' ', 'j', 's', 'o', 'n', ' ', 'a', 'r', 'r', 'a', 'y', '\\t', 'H', 'o', 'w', ' ', 't', 'o', ' ', 'c', 'o', 'n', 'v', 'e', 'r', 't', ' ', 'f', 't', 'p', '.', 'g', 'e', 't', 'M', 'o', 'd', 'i', 'f', 'i', 'c', 'a', 't', 'i', 'o', 'n', 'T', 'i', 'm', 'e', '(', 'f', 'i', 'l', 'e', ')', ' ', 't', 'o', ' ', 'r', 'e', 'a', 'd', 'a', 'b', 'l', 'e', ' ', 'f', 'o', 'r', 'm', 'a', 't', '\\t', 'P', 'H', 'P', ' ', 'L', 'o', 'g', 'i', 'n', ' ', 'F', 'o', 'r', 'm', ' ', 'u', 's', 'i', 'n', 'g', ' ', 'D', 'a', 's', 'h', 'D', 'B', '\\t', 'B', 'u', 'i', 'l', 'd', 'i', 'n', 'g', ' ', 'a', ' ', 'p', 'r', 'o', 'p', 'e', 'r', 't', 'i', 'e', 's', ' ', 'f', 'i', 'l', 'e', ' ', 't', 'o', ' ', 't', 'h', 'e', ' ', 't', 'o', 'p', ' ', 'l', 'e', 'v', 'e', 'l', ' ', 'o', 'f', ' ', 'a', ' ', 'W', 'A', 'R', ' ', 'f', 'i', 'l', 'e', ',', ' ', 'S', 'p', 'r', 'i', 'n', 'g', '-', 'M', 'V', 'C', '/', 'M', 'a', 'v', 'e', 'n', '\\t', 'E', 'n', 'a', 'b', 'l', 'i', 'n', 'g', ' ', 'b', 'r', 'e', 'a', 'k', 'p', 'o', 'i', 'n', 't', 's', ' ', 'i', 'n', ' ', 'g', 'o', 'c', 'l', 'i', 'p', 's', 'e', '\\t', 'e', 'r', 'r', 'o', 'r', ' ', 'w', 'h', 'i', 'l', 'e', ' ', 'i', 'n', 'c', 'l', 'u', 'd', 'i', 'n', 'g', ' ', 'e', 'x', 't', 'e', 'r', 'n', 'a', 'l', ' ', 'J', 'A', 'R', 's', ' ', 'i', 'n', ' ', 'a', 'n', 't', ' ', 's', 'c', 'r', 'i', 'p', 't', '\\t', 'C', 'o', 'm', 'p', 'a', 'r', 'i', 's', 'o', 'n', ' ', 'o', 'f', ' ', 'w', 'e', 'b', ' ', 'w', 'i', 'd', 'g', 'e', 't', 's', ' ', 'i', 'n', ' ', 'f', 'l', 'a', 's', 'h', ' ', 'a', 'n', 'd', ' ', 'j', 'a', 'v', 'a', 's', 'c', 'r', 'i', 'p', 't', '\\t', 'W', 'h', 'y', ' ', 'm', 'u', 's', 't', ' ', 'I', ' ', 'f', 'r', 'e', 'e', ' ', 't', 'h', 'i', 's', ' ', 'd', 'a', 't', 'a', '?', ' ', 'A', 'm', ' ', 'I', ' ', 't', 'h', 'e', ' ', 'o', 'w', 'n', 'e', 'r', '?', '\\t', 'O', 'p', 't', 'i', 'm', 'i', 'z', 'i', 'n', 'g', ' ', 'a', ' ', 'v', 'e', 'r', 'y', ' ', 'h', 'u', 'g', 'e', ' ', 'm', 'y', 's', 'q', 'l', ' ', 't', 'a', 'b', 'l', 'e', ' ', '(', 'q', 'u', 'e', 'r', 'y', ' ', 'o', 'r', ' ', 'm', 'y', 's', 'q', 'l', ')', '\\t', 't', 'l', 'b', 'e', 'x', 'p', '.', 'e', 'x', 'e', ' ', 'o', 'u', 't', 'p', 'u', 't', 's', ' ', 'd', 'i', 'f', 'f', 'e', 'r', 'e', 'n', 't', ' ', 't', 'l', 'b', ' ', 'i', 'n', 'f', 'o', 'r', 'm', 'a', 't', 'i', 'o', 'n', ' ', 'o', 'n', ' ', '2', '0', '1', '2', ' ', 'v', 'e', 'r', 's', 'u', 's', ' ', '2', '0', '1', '0', '\\t', 'H', 'o', 'w', ' ', 't', 'o', ' ', 'c', 'r', 'e', 'a', 't', 'e', ' ', 'a', ' ', 'F', 'a', 'c', 'e', 'b', 'o', 'o', 'k', ' ', 'L', 'i', 'k', 'e', ' ', 'w', 'i', 't', 'h', ' ', 'a', ' ', 'p', 'o', 's', 't', '/', 'c', 'o', 'm', 'm', 'e', 'n', 't', ' ', 'b', 'o', 'x', '\\t', 'C', 'o', 'd', 'e', 'i', 'g', 'n', 'i', 't', 'e', 'r', ' ', 'P', 'D', 'O', ' ', 'i', 'n', 't', 'e', 'g', 'r', 'a', 't', 'i', 'o', 'n', '\\t', 'p', 'a', 's', 's', ' ', 's', 't', 'r', 'i', 'n', 'g', ' ', 'a', 'r', 'r', 'a', 'y', ' ', 'a', 's', ' ', 'p', 'a', 'r', 'a', 'm', 'e', 't', 'e', 'r', ' ', 't', 'o', ' ', 'a', 's', 'p', '.', 'n', 'e', 't', ' ', 'm', 'v', 'c', ' ', 'w', 'e', 'b', 'a', 'p', 'i', ' ', 'm', 'e', 't', 'h', 'o', 'd', '\\t', 'R', 'e', 'm', 'o', 'v', 'i', 'n', 'g', ' ', 's', 'p', 'a', 'c', 'e', ' ', 'i', 'n', ' ', 'd', 'a', 't', 'a', 'f', 'r', 'a', 'm', 'e', ' ', 'p', 'y', 't', 'h', 'o', 'n', '\\t', 'H', 'o', 'w', ' ', 't', 'o', ' ', 's', 'e', 't', ' ', 'a', 'p', 'p', 'l', 'i', 'c', 'a', 't', 'i', 'o', 'n', ' ', 'i', 'd', 'e', 'n', 't', 'i', 't', 'y', ' ', 'o', 'f', ' ', 'a', 'n', ' ', 'a', 'p', 'p', 'l', 'i', 'c', 'a', 't', 'i', 'o', 'n', ' ', 'p', 'o', 'o', 'l', ' ', 'u', 's', 'i', 'n', 'g', ' ', 'w', 'e', 'b', ' ', 'a', 'd', 'm', 'i', 'n', 'i', 's', 't', 'r', 'a', 't', 'i', 'o', 'n', ' ', 'm', 'o', 'd', 'u', 'l', 'e', ' ', 'i', 'n', ' ', 'p', 'o', 'w', 'e', 'r', 's', 'h', 'e', 'l', 'l', '?', '\\t', 'h', 'o', 'w', ' ', 't', 'o', ' ', 'h', 'a', 'n', 'd', 'l', 'e', ' ', 'p', 'l', 'a', 'y', ' ', 'd', 'a', 't', 'a', 'b', 'a', 's', 'e', ' ', 'c', 'o', 'n', 'n', 'e', 'c', 't', 'i', 'o', 'n', ' ', 'e', 'x', 'c', 'e', 'p', 't', 'i', 'o', 'n', 's', '\\t', 'q', 'u', 'e', 'r', 'y', 'd', 's', 'l', ' ', '3', '.', '3', '.', '0', ' ', '-', ' ', 'u', 's', 'i', 'n', 'g', ' ', 'c', 'o', 'l', 'l', 'e', 'c', 't', 'i', 'o', 'n', '.', 'a', 'n', 'y', '(', ')', ' ', 'w', 'i', 't', 'h', ' ', 'e', 'l', 'e', 'm', 'e', 'n', 't', 'c', 'o', 'l', 'l', 'e', 'c', 't', 'i', 'o', 'n', 's', ' ', 'i', 'n', ' ', 'a', ' ', 'q', 'u', 'e', 'r', 'y', ' ', 'w', 'i', 't', 'h', ' ', 'N', ' ', 'b', 'o', 'o', 'l', 'e', 'a', 'n', ' ', 'a', 'r', 'g', 'u', 'm', 'e', 'n', 't', 's', ' ', 'g', 'e', 'n', 'e', 'r', 'a', 't', 'e', 's', ' ', 'N', ' ', '\"', 'e', 'x', 'i', 's', 't', 's', '\"', ' ', 's', 'u', 'b', '-', 'q', 'u', 'e', 'r', 'i', 'e', 's', '\\t', 'G', 's', 'o', 'n', ':', ' ', 'C', 'h', 'a', 'n', 'g', 'e', ' ', 't', 'h', 'e', ' ', 'w', 'a', 'y', ' ', 'M', 'a', 'p', '-', 'K', 'e', 'y', 's', ' ', 'a', 'r', 'e', ' ', 'b', 'e', 'i', 'n', 'g', ' ', 's', 'e', 'r', 'i', 'a', 'l', 'i', 'z', 'e', 'd', '\\t', 'I', 'm', 'p', 'r', 'o', 'v', 'i', 'n', 'g', ' ', 'g', 'n', 'u', 'p', 'l', 'o', 't', ' ', '3', 'd', ' ', 'p', 'l', 'o', 't', 's', ' ', 'f', 'r', 'o', 'm', ' ', 'd', 'a', 't', 'a', ' ', 'f', 'i', 'l', 'e', 's', ' ', 'w', 'i', 't', 'h', ' ', 'p', 'm', '3', 'd', '\\t', 'D', 'i', 'v', 'i', 'd', 'e', ' ', 'p', 'r', 'o', 'b', 'l', 'e', 'm', '\\t', 'Y', 'i', 'i', '2', ':', ' ', 'U', 's', 'i', 'n', 'g', ' ', 'K', 'a', 'r', 't', 'i', 'k', ' ', 'D', 'e', 'p', 'd', 'r', 'o', 'p', ' ', 'W', 'i', 'd', 'g', 'e', 't', '?', '\\t', 'C', 'a', 'n', ' ', 'a', 'n', 'y', 'o', 'n', 'e', ' ', 'p', 'o', 's', 't', ' ', 'a', 'n', ' ', 'e', 'x', 'a', 'm', 'p', 'l', 'e', ' ', 'o', 'f', ' ', 'h', 'o', 'w', ' ', 't', 'o', ' ', 'e', 'n', 'a', 'b', 'l', 'e', ' ', 'S', 'S', 'L', ' ', 'i', 'n', ' ', 'T', 's', 'u', 'n', 'g', '?', '\\t', 'M', 'P', 'I', '_', 'I', 's', 'e', 'n', 'd', ' ', 'a', 'n', 'd', ' ', 'M', 'P', 'I', '_', 'I', 'r', 'e', 'c', 'v', ' ', 's', 'e', 'e', 'm', ' ', 't', 'o', ' ', 'b', 'e', ' ', 'c', 'a', 'u', 's', 'i', 'n', 'g', ' ', 'a', ' ', 'd', 'e', 'a', 'd', 'l', 'o', 'c', 'k', '\\t', 'V', 'i', 'r', 't', 'u', 'a', 'l', ' ', 'B', 'o', 'x', ' ', 'p', 'o', 'r', 't', ' ', 'f', 'o', 'r', 'w', 'a', 'r', 'd', 'i', 'n', 'g', ' ', 'm', 'i', 's', 'e', 'r', 'y', ' ', 'w', 'i', 't', 'h', ' ', 'R', 'u', 'b', 'y', ' ', 'S', 'i', 'n', 'a', 't', 'r', 'a', ':', '4', '5', '6', '7', ' ', '/', ' ', 'S', 'h', 'o', 't', 'g', 'u', 'n', ':', '9', '2', '9', '2', '\\t', 'E', 'n', 'h', 'a', 'n', 'c', 'i', 'n', 'g', ' ', 'r', 'e', 'g', 'e', 'x', ' ', 't', 'o', ' ', 'm', 'a', 't', 'c', 'h', ' ', 'm', 'o', 'r', 'e', ' ', 'U', 'R', 'L', 's', '\\t', 'J', 'a', 'v', 'a', 'S', 'c', 'r', 'i', 'p', 't', ' ', 'c', 'l', 'a', 's', 's', 'l', 'i', 's', 't', ' ', 's', 'e', 'l', 'e', 'c', 't', 'o', 'r', ' ', 'e', 'r', 'r', 'o', 'r', '\\t', 'M', 'y', ' ', 'I', 'n', 't', 'e', 'l', 'l', 'i', 'J', ' ', 'I', 'D', 'E', 'A', ' ', '1', '1', '.', '1', '.', '5', ' ', 'l', 'o', 's', 't', ' ', 't', 'h', 'e', ' ', 'a', 'b', 'i', 'l', 'i', 't', 'y', ' ', 't', 'o', ' ', 'd', 'e', 'b', 'u', 'g', ' ', 'n', 'o', 'd', 'e', '.', 'j', 's', ' ', 'a', 'p', 'p', 'l', 'i', 'c', 'a', 't', 'i', 'o', 'n', 's', ' ', 'a', 'f', 't', 'e', 'r', ' ', 'u', 'p', 'g', 'r', 'a', 'd', 'i', 'n', 'g', ' ', 't', 'o', ' ', 'w', 'i', 'n', 'd', 'o', 'w', 's', ' ', '8', '.', '1', '\\t', 'S', 'c', 'i', 'e', 'n', 't', 'i', 'f', 'i', 'c', ' ', 'n', 'o', 't', 'a', 't', 'i', 'o', 'n', ' ', 'a', 'n', 'd', 'r', 'o', 'i', 'd', ' ', 'j', 'a', 'v', 'a', '\\t', 'H', 'o', 'w', ' ', 't', 'o', ' ', 'm', 'a', 'k', 'e', ' ', 'a', ' ', 'J', 'S', 'O', 'N', ' ', 'a', 'r', 'r', 'a', 'y', ' ', 'c', 'a', 's', 'e', ' ', 'i', 'n', 's', 'e', 'n', 's', 'i', 't', 'i', 'v', 'e', ' ', 'f', 'o', 'r', ' ', 'T', 'w', 'i', 't', 't', 'e', 'r', ' ', 'T', 'y', 'p', 'e', 'a', 'h', 'e', 'a', 'd', '?', '\\t', 'M', 'e', 'm', 'b', 'a', 's', 'e', ' ', 'c', 'a', 'n', ' ', 's', 'o', 'm', 'e', 'o', 'n', 'e', ' ', 'e', 'x', 'p', 'l', 'a', 'i', 'n', ' ', 't', 'h', 'e', ' ', 'i', 'd', 'e', 'a', ' ', 'b', 'e', 'h', 'i', 'n', 'd', ' ', 't', 'h', 'e', 'i', 'r', ' ', 't', 'e', 'c', 'h', 'n', 'o', 'l', 'o', 'g', 'y', '\\t', 'S', 't', 'r', 'u', 't', 's', ' ', '2', ' ', '+', ' ', 'D', 'o', 'j', 'o', ' ', '+', ' ', 'D', 'a', 't', 'e', 't', 'i', 'm', 'e', 'p', 'i', 'c', 'k', 'e', 'r', '\\t', 'C', 'a', 'n', 'n', 'o', 't', ' ', 'r', 'e', 't', 'r', 'i', 'e', 'v', 'e', ' ', 'd', 'a', 't', 'a', ' ', 'f', 'r', 'o', 'm', ' ', 'f', 'i', 'n', 'd', ' ', 'q', 'u', 'e', 'r', 'y', '\\t', 'H', 'o', 'w', ' ', 'l', 'o', 'n', 'g', ' ', 'a', 'r', 'e', ' ', 'r', 'e', 's', 'o', 'u', 'r', 'c', 'e', 's', ' ', 'u', 's', 'e', 'd', ' ', '(', 'f', 'i', 'l', 'e', ' ', 'd', 'e', 's', 'c', 'r', 'i', 'p', 't', 'o', 'r', ' ', 'a', 'n', 'd', ' ', 'm', 'e', 'm', 'o', 'r', 'y', ')', ' ', 'f', 'o', 'r', ' ', 'J', 'a', 'v', 'a', ' ', 't', 'e', 'm', 'p', 'o', 'r', 'a', 'r', 'y', ' ', 'f', 'i', 'l', 'e', 's', ' ', '(', 'j', 'a', 'r', '_', 'c', 'a', 'c', 'h', 'e', '#', '#', '#', '#', '.', 't', 'm', 'p', ')', '?', '\\t', 'h', 'o', 'w', ' ', 't', 'o', ' ', 'p', 'a', 's', 's', ' ', 'a', ' ', 'v', 'a', 'r', 'i', 'a', 'b', 'l', 'e', ' ', 'i', 'n', ' ', 'W', 'H', 'E', 'R', 'E', ' ', 'I', 'N', ' ', 'c', 'l', 'a', 'u', 's', 'e', ' ', 'o', 'f', ' ', 'o', 'r', 'a', 'c', 'l', 'e', ' ', 's', 'q', 'l', '?', '\\t', 'H', 'o', 'w', ' ', 'c', 'a', 'n', ' ', 'I', ' ', 't', 'r', 'a', 'n', 's', 'f', 'o', 'r', 'm', ' ', 't', 'h', 'e', ' ', 'c', 'o', 'o', 'r', 'd', 'i', 'n', 'a', 't', 'e', 's', ' ', 'o', 'f', ' ', 'a', ' ', 'S', 'h', 'a', 'p', 'e', 'f', 'i', 'l', 'e', '?', '\\t', 'M', 'a', 'p', 'p', 'i', 'n', 'g', ' ', 'r', 'e', 's', 'u', 'l', 't', ' ', 'o', 'f', ' ', 'a', 'g', 'g', 'r', 'e', 'g', 'a', 't', 'e', ' ', 'q', 'u', 'e', 'r', 'y', ' ', 't', 'o', ' ', 'h', 'i', 'b', 'e', 'r', 'n', 'a', 't', 'e', ' ', 'o', 'b', 'j', 'e', 'c', 't', '\\t', 'D', 'r', 'a', 'w', 'i', 'n', 'g', ' ', 'A', 'p', 'p', 'l', 'i', 'c', 'a', 't', 'i', 'o', 'n', ' ', 'h', 'o', 'w', ' ', 't', 'o', ' ', 's', 'a', 'v', 'e', ' ', 'd', 'r', 'a', 'w', 'i', 'n', 'g', ' ', 'i', 'n', ' ', 'a', 'n', 'd', 'r', 'o', 'i', 'd', ' ', 'p', 'h', 'o', 'n', 'e', ' ', 'm', 'e', 'm', 'o', 'r', 'y', '\\t', 'E', 'r', 'r', 'o', 'r', ' ', 'w', 'h', 'i', 'l', 'e', ' ', 'u', 's', 'i', 'n', 'g', ' ', 'n', 'p', 'm', ' ', 'i', 'n', 's', 't', 'a', 'l', 'l', ' ', '-', 'g', ' ', 'g', 'e', 'n', 'e', 'r', 'a', 't', 'o', 'r', '-', 'j', 'h', 'i', 'p', 's', 't', 'e', 'r', '\\t', 'G', 'e', 't', ' ', 'a', 'b', 's', ' ', 'p', 'a', 't', 'h', ' ', 'f', 'r', 'o', 'm', ' ', 't', 'h', 'e', ' ', 'c', 'u', 'r', 'r', 'e', 'n', 't', 'l', 'y', ' ', 'e', 'd', 'i', 't', 'e', 'd', ' ', 'f', 'i', 'l', 'e', ' ', 'i', 'n', ' ', 'E', 'c', 'l', 'i', 'p', 's', 'e', '\\t', 'P', 'o', 's', 't', ' ', 'f', 'o', 'r', 'm', ' ', 'd', 'a', 't', 'a', ' ', 't', 'o', ' ', 'f', 'o', 'r', 'e', 'i', 'g', 'n', ' ', 'a', 's', 'p', 'x', ' ', 'f', 'o', 'r', 'm', '\\t', 'L', 'o', 'g', 'g', 'i', 'n', 'g', ' ', 'i', 'n', ' ', 'A', 'z', 'u', 'r', 'e', ' ', 'w', 'e', 'b', ' ', 'j', 'o', 'b', 's', '\\t', 'M', 'T', 'M', ' ', 'w', 'i', 't', 'h', ' ', '(', 'a', 'u', 't', 'o', 'm', 'a', 't', 'e', 'd', ')', ' ', 'C', 'o', 'd', 'e', 'd', 'U', 'I', 'T', 'e', 's', 't', ' ', 't', 'e', 's', 't', '-', 'c', 'a', 's', 'e', 's', ' ', 'd', 'e', 'v', 'e', 'l', 'o', 'p', 'e', 'd', ' ', 'i', 'n', ' ', 'V', 'S', '2', '0', '1', '3', ' ', 'i', 's', 's', 'u', 'e', 's', '\\t', 'H', 'o', 'w', ' ', 't', 'o', ' ', 'p', 'r', 'i', 'n', 't', ' ', 'c', 'o', 'n', 't', 'e', 'n', 't', 's', ' ', 'o', 'f', ' ', 'a', 'n', ' ', 'H', 'T', 'M', 'L', ' ', 'e', 'l', 'e', 'm', 'e', 'n', 't', ' ', 'i', 'n', ' ', 'M', 'a', 'c', 'G', 'a', 'p', '?', '\\t', 'A', 'S', 'P', '.', 'N', 'E', 'T', ' ', 'C', 'o', 'n', 't', 'r', 'o', 'l', ' ', 'n', 'o', 't', ' ', 'a', 'v', 'a', 'i', 'l', 'a', 'b', 'l', 'e', ' ', 'i', 'n', ' ', 'C', 'o', 'd', 'e', 'B', 'e', 'h', 'i', 'n', 'd', '\\t', 'H', 'o', 'w', ' ', 'c', 'a', 'n', ' ', 'I', ' ', 'd', 'i', 's', 'a', 'b', 'l', 'e', ' ', 't', 'h', 'e', ' ', 'I', 'I', 'V', 'i', 'e', 'w', 'D', 'e', 'c', 'k', ' ', 'f', 'u', 'n', 'c', 't', 'i', 'o', 'n', 'a', 'l', 'i', 't', 'y', ' ', 'm', 'o', 'm', 'e', 'n', 't', 'a', 'r', 'i', 'l', 'y', '?', '\\t', 'W', 'h', 'y', ' ', 'w', 'o', 'u', 'l', 'd', ' ', 'I', ' ', 'c', 'r', 'e', 'a', 't', 'e', ' ', 'a', ' ', 's', 't', 'r', 'u', 'c', 't', ' ', 'w', 'i', 't', 'h', ' ', 'o', 'n', 'l', 'y', ' ', 'a', ' ', '`', 'P', 'h', 'a', 'n', 't', 'o', 'm', 'D', 'a', 't', 'a', '<', '(', ')', '>', '`', ' ', 'm', 'e', 'm', 'b', 'e', 'r', '?', '\\t', 'A', 'c', 'c', 'e', 's', 's', 'i', 'n', 'g', ' ', 'm', 'a', 's', 't', 'e', 'r', 'p', 'a', 'g', 'e', ' ', 'p', 'r', 'o', 'p', 'e', 'r', 't', 'i', 'e', 's', ' ', 'f', 'r', 'o', 'm', ' ', 'c', 'h', 'i', 'l', 'd', ' ', 'p', 'a', 'g', 'e', 's', ' ', 'i', 'n', ' ', 'A', 'S', 'P', '.', 'n', 'e', 't', ' ', 'V', 'B', '\\t', 'B', 'a', 's', 'h', ' ', 'r', 'e', 'a', 'd', ' ', 'i', 'n', 's', 'i', 'd', 'e', ' ', 'a', ' ', 'l', 'o', 'o', 'p', ' ', 'r', 'e', 'a', 'd', 'i', 'n', 'g', ' ', 'a', ' ', 'f', 'i', 'l', 'e', '\\t', 'R', 'a', 'n', 'd', 'o', 'm', ' ', 'n', 'u', 'm', 'b', 'e', 'r', ' ', 'b', 'e', 't', 'w', 'e', 'e', 'n', ' ', '1', ' ', 'a', 'n', 'd', ' ', '2', '0', ' ', 'e', 'x', 'c', 'l', 'u', 'd', 'i', 'n', 'g', ' ', 'n', 'u', 'm', 'b', 'e', 'r', 's', ' ', 'a', 'l', 'r', 'e', 'a', 'd', 'y', ' ', 'p', 'i', 'c', 'k', 'e', 'd', '\\t', 'W', 'o', 'r', 'd', 'p', 'r', 'e', 's', 's', ' ', 'N', 'a', 'v', 'i', 'g', 'a', 't', 'i', 'o', 'n', ' ', 'L', 'a', 'b', 'e', 'l', ' ', 'i', 'n', ' ', 'B', 'r', 'o', 'w', 's', 'e', 'r', ' ', 't', 'a', 'b', '\\t', 'T', 'a', 'k', 'i', 'n', 'g', ' ', 'c', 'o', 'n', 't', 'r', 'o', 'l', ' ', 'o', 'f', ' ', 't', 'h', 'e', ' ', 's', 'o', 'u', 'n', 'd', 'C', 'a', 'r', 'd', ' ', 'w', 'i', 't', 'h', ' ', 'J', 'A', 'V', 'A', '\\t', 'S', 'T', 'L', ' ', 'c', 'o', 'n', 't', 'a', 'i', 'n', 'e', 'r', 's', ' ', 'a', 'n', 'd', ' ', 'l', 'a', 'r', 'g', 'e', ' ', 'a', 'm', 'o', 'u', 'n', 't', 's', ' ', 'o', 'f', ' ', 'd', 'a', 't', 'a', '\\t', 'C', 'o', 'l', 'o', 'u', 'r', ' ', 'i', 'n', ' ', 'B', 'a', 'c', 'k', 'o', 'r', 'd', 'e', 'r', ' ', 'P', 'r', 'o', 'd', 'u', 'c', 't', 's', ' ', 'd', 'r', 'o', 'p', 'd', 'o', 'w', 'n', ' ', 'b', 'a', 's', 'e', 'd', ' ', 'o', 'n', ' ', 's', 't', 'o', 'c', 'k', ' ', 'i', 'n', ' ', 'W', 'o', 'o', 'C', 'o', 'm', 'm', 'e', 'r', 'c', 'e', '\\t', 'R', 'i', 'c', 'h', 'f', 'a', 'c', 'e', 's', ' ', '-', ' ', '<', 'r', 'i', 'c', 'h', ':', 'a', 'u', 't', 'o', 'c', 'o', 'm', 'p', 'l', 'e', 't', 'e', '>', ' ', 'n', 'o', 't', ' ', 's', 'h', 'o', 'w', 'i', 'n', 'g', ' ', 's', 'u', 'g', 'g', 'e', 's', 't', 'i', 'o', 'n', 's', '\\t', 'H', 'o', 'w', ' ', 't', 'o', ' ', 's', 'e', 'l', 'e', 'c', 't', ' ', 'a', 'n', 'd', ' ', 'e', 'n', 'l', 'a', 'r', 'g', 'e', ' ', 'a', ' ', 'M', 'a', 's', 't', 'e', 'r', 'p', 'a', 'n', 'e', ' ', 'i', 'n', ' ', 'Z', 'e', 'd', 'g', 'r', 'a', 'p', 'h', '\\t', 'r', 'e', 'a', 'c', 't', '-', 'n', 'a', 't', 'i', 'v', 'e', ' ', 'a', 'n', 'd', 'r', 'o', 'i', 'd', ' ', 'p', 'u', 'b', 'l', 'i', 's', 'h', 'i', 'n', 'g', ' ', 'k', 'e', 'y', 's', 't', 'o', 'r', 'e', '\\t', 'W', 'h', 'a', 't', ' ', 'i', 's', ' ', 'a', ' ', 'g', 'o', 'o', 'd', ' ', 'w', 'a', 'y', ' ', 't', 'o', ' ', 'f', 'i', 'n', 'd', ' ', 'a', ' ', 's', 'p', 'e', 'c', 'i', 'f', 'i', 'c', ' ', 'v', 'a', 'l', 'u', 'e', ' ', 'i', 'n', ' ', 'a', 'n', ' ', 'X', 'M', 'L', ' ', 'd', 'o', 'c', 'u', 'm', 'e', 'n', 't', ' ', 'u', 's', 'i', 'n', 'g', ' ', 'C', '#', '?', '\\t', 'C', 'a', 'n', ' ', 'i', ' ', 'm', 'a', 'k', 'e', ' ', 'm', 'y', ' ', 'o', 'w', 'n', ' ', 'S', 'i', 'n', 'g', 'l', 'e', 't', 'o', 'n', ' ', 'S', 't', 'a', 't', 'e', 'l', 'e', 's', 's', ' ', 'B', 'e', 'a', 'n', ' ', 'w', 'i', 't', 'h', ' ', 'E', 'J', 'B', ' ', '3', '.', '0', '?', '\\t', 'H', 'o', 'w', ' ', 'd', 'o', 'e', 's', ' ', 'G', 'o', 'o', 'g', 'l', 'e', ' ', 'A', 'p', 'p', ' ', 'E', 'n', 'g', 'i', 'n', 'e', ' ', 'p', 'r', 'e', 'c', 'o', 'm', 'p', 'i', 'l', 'e', ' ', 'J', 'a', 'v', 'a', '?', '\\t', 'U', 's', 'i', 'n', 'g', ' ', 'd', 'i', 's', 'p', 'o', 's', 'e', '(', ')', ' ', 'm', 'e', 't', 'h', 'o', 'd', ' ', 'i', 'n', 's', 't', 'e', 'a', 'd', ' ', 'o', 'f', ' ', 'c', 'l', 'o', 's', 'e', '(', ')', ' ', 'm', 'e', 't', 'h', 'o', 'd', ' ', 't', 'o', ' ', 'a', ' ', 'f', 'o', 'r', 'm', '\\t', 'S', 'p', 'r', 'i', 'n', 'g', ' ', 'O', 'a', 'u', 't', 'h', '2', ' ', '\"', 'F', 'u', 'l', 'l', ' ', 'a', 'u', 't', 'h', 'e', 'n', 't', 'i', 'c', 'a', 't', 'i', 'o', 'n', ' ', 'i', 's', ' ', 'r', 'e', 'q', 'u', 'i', 'r', 'e', 'd', ' ', 't', 'o', ' ', 'a', 'c', 'c', 'e', 's', 's', ' ', 't', 'h', 'i', 's', ' ', 'r', 'e', 's', 'o', 'u', 'r', 'c', 'e', '\"', ' ', 'w', 'i', 't', 'h', ' ', 'v', 'a', 'l', 'i', 'd', ' ', 'a', 'c', 'c', 'e', 's', 's', ' ', 't', 'o', 'k', 'e', 'n', '\\t', 'W', 'h', 'y', ' ', 'i', 's', ' ', 'm', 'y', ' ', 'c', 'o', 'd', 'e', ' ', 'o', 'n', 'l', 'y', ' ', 'd', 'i', 's', 'p', 'l', 'a', 'y', 'i', 'n', 'g', ' ', 'i', 'n', 'c', 'o', 'r', 'r', 'e', 'c', 't', ' ', 'e', 'v', 'e', 'n', ' ', 'i', 'f', ' ', 'I', ' ', 'h', 'a', 'v', 'e', ' ', 't', 'h', 'e', ' ', 'r', 'i', 'g', 'h', 't', ' ', 'a', 'n', 's', 'w', 'e', 'r', '?', '\\t', 'F', 'o', 'r', 'c', 'i', 'n', 'g', ' ', 'f', 'u', 'n', 'c', 't', 'i', 'o', 'n', ' ', 'i', 'n', ' ', 'O', 'D', 'E', '\\t', 'G', 'e', 't', ' ', 's', 'u', 'm', ' ', 'o', 'f', ' ', 'c', 'o', 'l', 'u', 'm', 'n', ' ', 'o', 'n', ' ', 'l', 'a', 's', 't', ' ', 'r', 'o', 'w', ',', ' ', 'g', 'o', 'o', 'd', ' ', 'p', 'r', 'a', 'c', 't', 'i', 'c', 'e', '?', '\\t', 'S', 'i', 'm', 'p', 'l', 'e', ' ', 'K', 'a', 'r', 'm', 'a', ' ', '+', ' ', 'T', 'y', 'p', 'e', 's', 'c', 'r', 'i', 'p', 't', ' ', 'c', 'o', 'n', 'f', 'i', 'g', 'u', 'r', 'a', 't', 'i', 'o', 'n', ' ', '-', ' ', 'R', 'e', 'f', 'e', 'r', 'e', 'n', 'c', 'e', ' ', 'E', 'r', 'r', 'o', 'r', ':', ' ', 'x', ' ', 'i', 's', ' ', 'n', 'o', 't', ' ', 'd', 'e', 'f', 'i', 'n', 'e', 'd', '\\t', 'E', 'r', 'r', 'o', 'r', ' ', 'b', 'u', 'i', 'l', 'd', 'i', 'n', 'g', ' ', 'P', 'l', 'a', 'y', 'e', 'r', ' ', 'b', 'e', 'c', 'a', 'u', 's', 'e', ' ', 's', 'c', 'r', 'i', 'p', 't', 's', ' ', 'h', 'a', 'v', 'e', ' ', 'c', 'o', 'm', 'p', 'i', 'l', 'e', ' ', 'e', 'r', 'r', 'o', 'r', 's', ' ', 'i', 'n', ' ', 't', 'h', 'e', ' ', 'e', 'd', 'i', 't', 'o', 'r', '\\t', 'P', 'r', 'o', 'p', 'e', 'r', 't', 'y', ' ', 'T', 'e', 's', 't', 'e', 'r', 's', ' ', 'd', 'o', ' ', 'n', 'o', 't', ' ', 'l', 'o', 'a', 'd', ' ', 'd', 'e', 's', 'p', 'i', 't', 'e', ' ', 'f', 'o', 'r', 'c', 'e', 'P', 'l', 'u', 'g', 'i', 'n', 'A', 'c', 't', 'i', 'v', 'a', 't', 'i', 'o', 'n', '.', ' ', 'F', 'o', 'r', ' ', 'p', 'o', 'p', 'u', 'p', ' ', 'm', 'e', 'n', 'u', ' ', 'e', 'n', 'a', 'b', 'l', 'e', 'm', 'e', 'n', 't', '\\t', 'J', 'a', 'v', 'a', 's', 'c', 'r', 'i', 'p', 't', ' ', 'r', 'e', 'g', 'e', 'x', ' ', 't', 'o', ' ', 'm', 'a', 't', 'c', 'h', ' ', 'l', 'a', 's', 't', ' ', 'w', 'o', 'r', 'd', ' ', 'r', 'e', 'g', 'a', 'r', 'd', 'l', 'e', 's', 's', ' ', 'o', 'f', ' ', 's', 'p', 'e', 'c', 'i', 'a', 'l', 's', ' ', 'c', 'h', 'a', 'r', 'a', 'c', 't', 'e', 'r', 's', '\\t', 'D', 'e', 'v', 'e', 'l', 'o', 'p', ' ', 'm', 'u', 'l', 't', 'i', 'l', 'a', 'n', 'g', 'u', 'a', 'l', ' ', 's', 'y', 's', 't', 'e', 'm', '\\t', 'a', 'n', 'g', 'u', 'l', 'a', 'r', '-', 'm', 'o', 'c', 'k', ' ', 't', 'e', 's', 't', 'i', 'n', 'g', ' ', 'i', 'n', ' ', 'K', 'a', 'r', 'm', 'a', '+', 'M', 'o', 'c', 'h', 'a', ' ', 'c', 'a', 'n', \"'\", 't', ' ', 'f', 'i', 'n', 'd', ' ', 'm', 'o', 'd', 'u', 'l', 'e', '\\t', 'H', 'o', 'w', ' ', 't', 'o', ' ', 'a', 'p', 'p', 'e', 'n', 'd', ' ', 'a', 'n', ' ', 'e', 'l', 'e', 'm', 'e', 'n', 't', ' ', 'i', 'n', 's', 'i', 'd', 'e', ' ', 'o', 'b', 'j', 'e', 'c', 't', ' ', 'u', 's', 'i', 'n', 'g', ' ', 'a', ' ', 'c', 'o', 'm', 'm', 'o', 'n', ' ', 'w', 'a', 'y', '\\t', 'G', 'e', 'n', 'e', 'r', 'a', 't', 'e', ' ', 'r', 'a', 'n', 'd', 'o', 'm', ' ', '\"', 'd', 'a', 'r', 'k', '\"', ' ', 'c', 'o', 'l', 'o', 'u', 'r', 's', ' ', 'o', 'n', 'l', 'y', ' ', 'i', 'n', ' ', 'J', 'a', 'v', 'a', '\\t', 'A', 'c', 'c', 'e', 's', 's', ' ', 'e', 'l', 'e', 'm', 'e', 'n', 't', ' ', 'i', 'n', ' ', 'l', 'i', 's', 't', ' ', 'u', 's', 'i', 'n', 'g', ' ', 'i', 'n', 'd', 'e', 'x', 'e', 's', ' ', 's', 't', 'o', 'r', 'e', 'd', ' ', 'i', 'n', ' ', 'a', 'n', 'o', 't', 'h', 'e', 'r', ' ', 'l', 'i', 's', 't', '\\t', 'H', 'o', 'w', ' ', 't', 'o', ' ', 'c', 'o', 'r', 'r', 'e', 'c', 't', 'l', 'y', ' ', 'u', 's', 'e', ' ', 's', 'e', 't', 'q', ' ', 'i', 'n', ' ', 'e', 'l', 'i', 's', 'p', '?', '\\t', 'i', 'O', 'S', ' ', '-', ' ', 'T', 'o', 'd', 'a', 'y', ' ', 'E', 'x', 't', 'e', 'n', 's', 'i', 'o', 'n', ' ', \"'\", 's', 'h', 'o', 'w', ' ', 'm', 'o', 'r', 'e', \"'\", ' ', '&', ' ', \"'\", 's', 'h', 'o', 'w', ' ', 'l', 'e', 's', 's', \"'\", ' ', 's', 't', 'a', 't', 'e', ' ', 'i', 'n', 'c', 'o', 'r', 'r', 'e', 'c', 't', '.', ' ', 'C', 'o', 'l', 'l', 'a', 'p', 's', 'e', 'd', ' ', 's', 'a', 'y', 's', ' ', \"'\", 's', 'h', 'o', 'w', ' ', 'l', 'e', 's', 's', \"'\", ' ', '-', ' ', 'r', 'e', 'q', 'u', 'i', 'r', 'i', 'n', 'g', ' ', 'm', 'u', 'l', 't', 'i', 'p', 'u', 'l', 'e', ' ', 'p', 'r', 'e', 's', 's', 'e', 's', ' ', 't', 'o', ' ', 'f', 'i', 'x', '\\t', 'h', 'o', 'w', ' ', 't', 'o', ' ', 'g', 'e', 't', ' ', 't', 'h', 'e', ' ', 'p', 'o', 's', 'i', 't', 'i', 'o', 'n', ' ', 'o', 'f', ' ', 't', 'h', 'e', ' ', 'c', 'u', 'r', 's', 'o', 'r', ' ', 'i', 'n', ' ', 'a', 'n', ' ', 'e', 'd', 'i', 't', 'a', 'b', 'l', 'e', ' ', 'd', 'i', 'v', '\\t', 'f', 'l', 'i', 'c', 'k', 'e', 'r', 'i', 'n', 'g', ' ', 'o', 'f', ' ', 'i', 'm', 'a', 'g', 'e', ' ', 'i', 'n', ' ', 'S', 'W', 'T', '\\t', 'C', 'o', 'm', 'p', 'l', 'e', 't', 'e', 'l', 'y', ' ', 'r', 'a', 'n', 'd', 'o', 'm', ' ', 'i', 'd', 'e', 'n', 't', 'i', 'f', 'i', 'e', 'r', ' ', 'o', 'f', ' ', 'a', ' ', 'g', 'i', 'v', 'e', 'n', ' ', 'l', 'e', 'n', 'g', 't', 'h', '\\t', 'A', 'n', 'g', 'u', 'l', 'a', 'r', ' ', '2', ' ', 'R', 'e', 'n', 'd', 'e', 'r', ' ', 'F', 'l', 'a', 't', ' ', 'L', 'i', 's', 't', ' ', 'f', 'r', 'o', 'm', ' ', 'H', 'i', 'e', 'r', 'a', 'r', 'c', 'h', 'a', 'l', ' ', 'D', 'a', 't', 'a', '\\t', 'J', 'a', 'v', 'a', ' ', 'R', 'M', 'I', ' ', 't', 'h', 'r', 'e', 'a', 'd', 's', ' ', 'o', 'n', ' ', 'c', 'l', 'i', 'e', 'n', 't', '-', 's', 'i', 'd', 'e', ' ', 'a', 'r', 'e', ' ', 'e', 'x', 'e', 'c', 'u', 't', 'i', 'n', 'g', ' ', 's', 'e', 'q', 'u', 'e', 'n', 't', 'i', 'a', 'l', 'l', 'y', ' ', 'o', 'r', ' ', 'c', 'o', 'n', 'c', 'u', 'r', 'r', 'e', 'n', 't', 'l', 'y', ' ', 'w', 'h', 'e', 'n', ' ', 'c', 'a', 'l', 'l', 'i', 'n', 'g', ' ', 't', 'h', 'e', ' ', 's', 'a', 'm', 'e', ' ', 'r', 'e', 'm', 'o', 't', 'e', ' ', 'o', 'b', 'j', 'e', 'c', 't', '?', '\\t', 'V', 'a', 'r', 'i', 'a', 'b', 'l', 'e', '-', 's', 'i', 'z', 'e', ' ', 'b', 'u', 'f', 'f', 'e', 'r', ' ', 'f', 'o', 'r', ' ', 'r', 'e', 'c', 'e', 'i', 'v', 'i', 'n', 'g', ' ', 'U', 'D', 'P', ' ', 'p', 'a', 'c', 'k', 'e', 't', 's', '\\t', 'C', 'r', 'e', 'a', 't', 'e', 'S', 'q', 'l', 'Q', 'u', 'e', 'r', 'y', ' ', 'o', 'n', ' ', 'e', 'n', 't', 'i', 't', 'y', ' ', 'w', 'i', 't', 'h', ' ', 'f', 'o', 'r', 'm', 'u', 'l', 'a', ' ', 'p', 'r', 'o', 'p', 'e', 'r', 't', 'y', '\\t', 'D', 'a', 't', 'e', 'p', 'i', 'c', 'k', 'e', 'r', ' ', 'T', 'I', 'M', 'E', 'S', 'T', 'A', 'M', 'P', ' ', 'd', 'i', 'v', 'i', 'd', 'e', ' ', 'b', 'y', ' ', '1', '0', '0', '\\t', 'h', 'o', 'w', ' ', 't', 'o', ' ', 'p', 'r', 'i', 'n', 't', ' ', 'o', 'u', 't', ' ', 't', 'h', 'e', ' ', 'w', 'h', 'o', 'l', 'e', ' ', 't', 'a', 'b', 'l', 'e', ' ', 'u', 's', 'i', 'n', 'g', ' ', 'a', 'n', 'o', 'n', 'y', 'm', 'o', 'u', 's', ' ', 'b', 'l', 'o', 'c', 'k', ' ', 'i', 'n', ' ', 'p', 'l', ' ', 's', 'q', 'l', '?', '\\t', 'I', 'n', ' ', 'S', 'e', 'n', 't', 'o', 'r', 'a', ' ', 'i', ' ', 'w', 'i', 'l', 'l', ' ', 'n', 'e', 'e', 'd', ' ', 't', 'o', ' ', 'i', 'n', 't', 'e', 'g', 'r', 'a', 't', 'e', ' ', 'a', ' ', 'c', 'l', 'a', 'm', 'a', 'v', ' ', 'M', 'o', 'd', 'u', 'l', 'e', '\\t', 'h', 'o', 'w', ' ', 'd', 'o', ' ', 'i', ' ', 's', 'e', 't', ' ', 'a', ' ', 'v', 'a', 'l', 'u', 'e', ' ', 'o', 'f', ' ', 'a', ' ', 'm', 'u', 'l', 't', 'i', 'p', 'l', 'e', ' ', '<', 's', 'e', 'l', 'e', 'c', 't', '>', ' ', 't', 'a', 'g', ' ', 'f', 'r', 'o', 'm', ' ', 't', 'h', 'e', ' ', 'd', 'a', 't', 'a', 'b', 'a', 's', 'e', '\\t', 's', 'h', 'o', 'w', ' ', 'd', 'e', 'c', 'i', 'm', 'a', 'l', ' ', 'v', 'a', 'l', 'u', 'e', ' ', 'i', 'n', ' ', 'C', '#', '\\t', 'J', 'a', 'v', 'a', 's', 'c', 'r', 'i', 'p', 't', ':', ' ', 'h', 'o', 'w', ' ', 't', 'o', ' ', 'a', 'f', 'f', 'e', 'c', 't', ' ', 'o', 't', 'h', 'e', 'r', ' ', 'e', 'l', 'e', 'm', 'e', 'n', 't', ' ', 'w', 'h', 'e', 'n', ' ', 'h', 'o', 'v', 'e', 'r', 'i', 'n', 'g', '?', '\\t', 'C', 'r', 'e', 'a', 't', 'i', 'n', 'g', ' ', 'n', 'e', 'w', ' ', 'p', 'o', 'p', 'u', 'p', ' ', 'w', 'i', 'n', 'd', 'o', 'w', ' ', 'w', 'h', 'e', 'n', ' ', 'c', 'l', 'i', 'c', 'k', ' ', 'b', 'u', 't', 't', 'o', 'n', '\\t', 'H', 'o', 'w', ' ', 't', 'o', ' ', 'D', 'e', 'p', 'i', 'c', 't', ' ', 'E', 'i', 't', 'h', 'e', 'r', '/', 'O', 'r', ' ', 'I', 'n', 'h', 'e', 'r', 'i', 't', 'a', 'n', 'c', 'e', ' ', 'i', 'n', ' ', 'a', ' ', 'U', 'M', 'L', ' ', 'd', 'i', 'a', 'g', 'r', 'a', 'm', '?', '\\t', 'A', 'j', 'a', 'x', ' ', 'p', 'o', 's', 't', ' ', 's', 'u', 'c', 'c', 'e', 's', 's', ' ', 'd', 'a', 't', 'a', ':', ' ', 'C', 'a', 'n', ' ', 'y', 'o', 'u', ' ', 's', 'e', 'p', 'a', 'r', 'a', 't', 'e', ' ', 'r', 'e', 's', 'u', 'l', 't', 's', '?', '\\t', 'D', 'o', 'c', 'u', 'm', 'e', 'n', 't', '.', 'g', 'e', 't', 'E', 'l', 'e', 'm', 'e', 'n', 't', 'B', 'y', 'I', 'd', '(', ')', ' ', 'n', 'o', 't', ' ', 'a', 'v', 'a', 'i', 'l', 'a', 'b', 'l', 'e', ' ', 'f', 'o', 'r', ' ', 'C', 'h', 'r', 'o', 'm', 'i', 'u', 'm', 'W', 'e', 'b', 'B', 'r', 'o', 'w', 's', 'e', 'r', ' ', 'i', 'n', ' ', 'v', 'i', 's', 'u', 'a', 'l', ' ', 's', 't', 'u', 'd', 'i', 'o', '\\t', 't', 'a', 'r', 'g', 'e', 't', ' ', 'o', 'f', ' ', 'a', 's', 's', 'i', 'g', 'n', 'm', 'e', 'n', 't', ' ', 'e', 'x', 'p', 'a', 'n', 'd', 's', ' ', 't', 'o', ' ', 'n', 'o', 'n', '-', 'l', 'a', 'n', 'g', 'u', 'a', 'g', 'e', ' ', 'o', 'b', 'j', 'e', 'c', 't', '\\t', 'H', 'o', 'w', ' ', 'd', 'o', ' ', 'I', ' ', 'c', 'o', 'n', 'f', 'i', 'g', 'u', 'r', 'e', ' ', 'd', 'i', 's', 't', 'r', 'i', 'b', 'u', 't', 'e', 'd', ' ', 't', 'r', 'a', 'n', 's', 'a', 'c', 't', 'i', 'o', 'n', 's', ' ', 'f', 'o', 'r', ' ', 'N', 'S', 'e', 'r', 'v', 'i', 'c', 'e', 'B', 'u', 's', '\\t', 'H', 'o', 'w', ' ', 't', 'o', ' ', 'c', 'o', 'm', 'b', 'i', 'n', 'e', ' ', 'a', 'n', ' ', 'a', 'r', 'r', 'a', 'y', ' ', 'o', 'f', ' ', 'p', 'n', 'g', ' ', 'i', 'm', 'a', 'g', 'e', 's', ' ', 'l', 'i', 'k', 'e', ' ', 'l', 'a', 'y', 'e', 'r', 's', ' ', 'u', 's', 'i', 'n', 'g', ' ', 'C', '#', '?', '\\t', 'y', 'i', 'i', '2', ' ', 'g', 'i', 'i', ' ', 'C', 'R', 'U', 'D', ' ', 'G', 'e', 'n', 'e', 'r', 'a', 't', 'o', 'r', ' ', 'e', 'r', 'r', 'o', 'r', ' ', '-', ' ', 'C', 'l', 'a', 's', 's', ' ', \"'\", 'M', 'e', 's', 's', 'a', 'g', 'e', \"'\", ' ', 'd', 'o', 'e', 's', ' ', 'n', 'o', 't', ' ', 'e', 'x', 'i', 's', 't', ' ', 'o', 'r', ' ', 'h', 'a', 's', ' ', 's', 'y', 'n', 't', 'a', 'x', ' ', 'e', 'r', 'r', 'o', 'r', '\\t', 'G', 'e', 't', ' ', 'v', 'a', 'l', 'u', 'e', 's', ' ', 'o', 'f', ' ', 'c', 'h', 'e', 'c', 'k', 'b', 'o', 'x', ' ', 't', 'o', ' ', 'o', 't', 'h', 'e', 'r', ' ', 'p', 'a', 'g', 'e', '\\t', 'S', 'e', 's', 's', 'i', 'o', 'n', ' ', 'o', 'n', ' ', 's', 'u', 'b', 'd', 'o', 'm', 'a', 'i', 'n', 's', ' ', 's', 't', 'i', 'l', 'l', ' ', 'n', 'o', 't', ' ', 'w', 'o', 'r', 'k', 'i', 'n', 'g', '\\t', 'H', 'o', 'w', ' ', 'c', 'a', 'n', ' ', 'I', ' ', 't', 'u', 'r', 'n', ' ', 'o', 'f', 'f', ' ', 'h', 'o', 's', 't', ' ', 'n', 'a', 'm', 'e', ' ', 'r', 'e', 's', 'o', 'l', 'u', 't', 'i', 'o', 's', '?', '\\t', 's', 'y', 'n', 't', 'a', 'x', ' ', 'e', 'r', 'r', 'o', 'r', ',', ' ', 'u', 'n', 'e', 'x', 'p', 'e', 'c', 't', 'e', 'd', ' ', 'e', 'n', 'd', '-', 'o', 'f', '-', 'i', 'n', 'p', 'u', 't', '\\t', 'E', 'r', 'l', 'a', 'n', 'g', ':', ' ', '\"', 'e', 'x', 't', 'e', 'n', 'd', 'i', 'n', 'g', '\"', ' ', 'a', 'n', ' ', 'e', 'x', 'i', 's', 't', 'i', 'n', 'g', ' ', 'm', 'o', 'd', 'u', 'l', 'e', ' ', 'w', 'i', 't', 'h', ' ', 'n', 'e', 'w', ' ', 'f', 'u', 'n', 'c', 't', 'i', 'o', 'n', 's', '\\t', 't', 'c', 'l', ' ', 's', 't', 'r', 'i', 'n', 'g', ' ', 'r', 'e', 'p', 'l', 'a', 'c', 'e', 'm', 'e', 'n', 't', '\\t', 'h', 'o', 'w', ' ', 't', 'o', ' ', 'a', 'c', 'c', 'e', 's', 's', ' ', 'd', 'i', 'r', 'e', 'c', 't', 'o', 'r', 'y', ' ', 'i', 'n', ' ', 'p', 'l', 'e', 's', 'k', ' ', '(', 'c', 'o', 'n', 't', 'r', 'o', 'l', ' ', 'p', 'a', 'n', 'e', 'l', ' ', ')', '\\t', 'M', 'i', 'n', 'i', 'm', 'i', 'z', 'i', 'n', 'g', ' ', 't', 'h', 'e', ' ', 's', 'u', 'm', ' ', 'o', 'f', ' ', 'a', ' ', 's', 'p', 'e', 'c', 'i', 'a', 'l', ' ', 'f', 'u', 'n', 'c', 't', 'i', 'o', 'n', ' ', 'o', 'v', 'e', 'r', ' ', 'a', ' ', 'l', 'i', 's', 't', '\\t', 'V', 'B', '.', 'N', 'e', 't', ' ', '&', ' ', 'A', 'c', 'c', 'e', 's', 's', ' ', '-', ' ', 'S', 'e', 't', ' ', 't', 'w', 'o', ' ', 'f', 'o', 'r', 'e', 'i', 'g', 'n', ' ', 'k', 'e', 'y', 's', ',', ' ', 't', 'h', 'a', 't', ' ', 'r', 'e', 'f', 'e', 'r', ' ', 't', 'o', ' ', 't', 'h', 'e', ' ', 's', 'a', 'm', 'e', ' ', 't', 'a', 'b', 'l', 'e', '/', 'f', 'i', 'e', 'l', 'd', '\\t', 'M', 'e', 'm', 'o', 'r', 'y', ' ', 'M', 'o', 'n', 'i', 't', 'o', 'r', 'i', 'n', 'g', ' ', 'T', 'o', 'o', 'l', ' ', 'f', 'o', 'r', ' ', 'E', 'r', 'l', 'a', 'n', 'g', ' ', 'T', 'h', 'r', 'e', 'a', 'd', 's', '\\t', 'D', 'i', 's', 'a', 'b', 'l', 'e', ' ', 'S', 'p', 'r', 'i', 'n', 'g', ' ', 'B', 'o', 'o', 't', ' ', 'S', 'e', 'c', 'u', 'r', 'i', 't', 'y', ' ', '@', 'S', 'e', 'c', 'u', 'r', 'e', 'd', ' ', 'a', 't', ' ', 'r', 'u', 'n', 't', 'i', 'm', 'e', '\\t', 'J', 'o', 'i', 'n', ' ', 't', 'w', 'o', ' ', 't', 'a', 'b', 'l', 'e', 's', ' ', 'o', 'n', ' ', 't', 'h', 'e', ' ', 's', 'a', 'm', 'e', ' ', 'd', 'a', 't', 'e', ' ', 'o', 'r', ' ', 'c', 'l', 'o', 's', 'e', 's', 't', ' ', 'd', 'a', 't', 'e', ' ', '(', 'b', 'e', 'f', 'o', 'r', 'e', ' ', 'o', 'r', ' ', 'a', 'f', 't', 'e', 'r', ')', '\\t', 'P', 'o', 'w', 'e', 'r', ' ', 'P', 'o', 'i', 'n', 't', ' ', 'v', 'i', 'e', 'w', 'e', 'r', ' ', 'a', 's', 'p', '.', 'n', 'e', 't', ' ', 'm', 'v', 'c', '\\t', 'S', 'w', 'i', 'f', 't', ':', ' ', 'G', 'e', 't', ' ', 'a', 'n', ' ', 'e', 'l', 'e', 'm', 'e', 'n', 't', ' ', 'f', 'r', 'o', 'm', ' ', 'a', ' ', 't', 'u', 'p', 'l', 'e', '\\t', 'i', 'm', 'a', 'g', 'e', 's', ' ', 'r', 'o', 't', 'a', 't', 'i', 'o', 'n', ' ', 't', 'o', ' ', 't', 'h', 'e', ' ', 'r', 'i', 'g', 'h', 't', '\\t', 'C', 'a', 'n', ' ', 'I', ' ', 'a', 'c', 'c', 'e', 's', 's', ' ', 't', 'h', 'e', ' ', 'v', 'i', 's', 'u', 'a', 'l', ' ', 'v', 'o', 'i', 'c', 'e', 'm', 'a', 'i', 'l', ' ', 'f', 'i', 'l', 'e', 's', ' ', 'o', 'n', ' ', 't', 'h', 'e', ' ', 'i', 'p', 'h', 'o', 'n', 'e', ' ', 't', 'h', 'r', 'u', ' ', 't', 'h', 'e', ' ', 'S', 'D', 'K', '?', '\\t', 'P', 'r', 'o', 'x', 'i', 'm', 'i', 't', 'y', ' ', 'a', 'l', 'e', 'r', 't', ' ', 'f', 'o', 'r', ' ', 'l', 'o', 'c', 'a', 't', 'i', 'o', 'n', 's', ' ', 's', 'a', 'v', 'e', 'd', ' ', 'a', 't', ' ', 's', 'e', 'r', 'v', 'e', 'r', '\\t', 'T', 'a', 'b', 'l', 'e', 'v', 'i', 'e', 'w', 'c', 'e', 'l', 'l', ' ', 'b', 'u', 't', 't', 'o', 'n', '\\t', 'A', 'n', 'g', 'u', 'l', 'a', 'r', 'j', 's', ' ', 's', 'e', 'l', 'e', 'c', 't', ' ', 'd', 'o', 'e', 's', ' ', 'n', 'o', 't', ' ', 'm', 'a', 'r', 'k', ' ', 'm', 'a', 't', 'c', 'h', 'i', 'n', 'g', ' ', 'm', 'o', 'd', 'e', 'l', ' ', 'a', 's', ' ', 's', 'e', 'l', 'e', 'c', 't', 'e', 'd', '\\t', 'H', 'o', 'w', ' ', 'c', 'a', 'n', ' ', 'i', ' ', 'u', 's', 'e', ' ', 'i', 'd', ' ', 't', 'o', ' ', 'd', 'o', ' ', 'a', 'c', 't', 'i', 'o', 'n', ' ', 'o', 'n', ' ', 'a', 'n', ' ', 'o', 'b', 'j', 'e', 'c', 't', ' ', 'o', 'f', ' ', 'a', 'n', ' ', 'a', 'n', 'd', 'r', 'o', 'i', 'd', ' ', 'u', 's', 'i', 'n', 'g', ' ', 'R', 'o', 'b', 'o', 't', 'i', 'u', 'm', ' ', 't', 'o', 'o', 'l', '?', '\\t', 'H', 'o', 'w', ' ', 'c', 'a', 'n', ' ', 'i', ' ', 'p', 'a', 's', 's', ' ', 'a', ' ', 'v', 'a', 'l', 'u', 'e', ' ', 't', 'o', ' ', 'c', 'o', 'n', 's', 't', 'r', 'u', 'c', 't', 'o', 'r', 's', ' ', 'o', 'f', ' ', 'c', 'o', 'l', 'l', 'e', 'c', 't', 'i', 'o', 'n', ' ', 'o', 'f', ' ', 'i', 'n', 's', 't', 'a', 'n', 'c', 'e', 's', ' ', 'a', 't', ' ', 'r', 'u', 'n', 't', 'i', 'm', 'e', ' ', 'w', 'i', 't', 'h', ' ', 's', 'i', 'm', 'p', 'l', 'e', ' ', 'i', 'n', 'j', 'e', 'c', 't', 'o', 'r', '?', '\\t', 'L', 'a', 'r', 'g', 'e', ' ', 'b', 'i', 'n', 'a', 'r', 'y', ' ', 's', 'h', 'i', 'f', 't', 's', ' ', 'i', 'n', ' ', '8', '0', '8', '6', ' ', 'a', 's', 's', 'e', 'm', 'b', 'l', 'y', '?', '\\t', 'D', 'i', 'r', 'e', 'c', 't', 's', 'h', 'o', 'w', ',', ' ', 'f', 'o', 'r', 'm', 'a', 't', ' ', 't', 'y', 'p', 'e', ' ', 'c', 'h', 'a', 'n', 'g', 'e', ' ', 'f', 'i', 'l', 't', 'e', 'r', '\\t', 'H', 'o', 'w', ' ', 't', 'o', ' ', 'o', 'p', 'e', 'n', ' ', 'm', 'o', 'd', 'e', 'l', ' ', 'w', 'i', 'n', 'd', 'o', 'w', ' ', 'o', 'n', ' ', 'o', 'p', 't', 'i', 'o', 'n', ' ', 's', 'e', 'l', 'e', 'c', 't', 'i', 'o', 'n', '?', '\\t', 'U', 'p', 'd', 'a', 't', 'e', ' ', 'v', 'a', 'l', 'u', 'e', ' ', 'i', 'n', ' ', 's', 'q', 'l', 'i', 't', 'e', ' ', 'i', 'p', 'h', 'o', 'n', 'e', ' ', 's', 'd', 'k', '\\t', 'I', 'n', 's', 't', 'a', 'l', 'l', 'i', 'n', 'g', ' ', 'A', 'D', 'T', ' ', 'p', 'l', 'u', 'g', 'i', 'n', ' ', 'i', 'n', ' ', 'E', 'c', 'l', 'i', 'p', 's', 'e', ' ', 'f', 'o', 'r', ' ', 'A', 'n', 'd', 'r', 'o', 'i', 'd', ' ', 'd', 'e', 'v', 'e', 'l', 'o', 'p', 'm', 'e', 'n', 't', '\\t', 'A', 'u', 't', 'o', 'm', 'a', 't', 'i', 'n', 'g', ' ', 'a', ' ', 'C', 'o', 'n', 't', 'e', 'x', 't', 'M', 'e', 'n', 'u', ' ', 'w', 'i', 't', 'h', ' ', 'W', 'a', 't', 'i', 'n', '\\t', 'h', 'o', 'w', ' ', 't', 'o', ' ', 'e', 'v', 'a', 'l', 'u', 'a', 't', 'e', ' ', 't', 'h', 'e', ' ', 'p', 'e', 'r', 'f', 'o', 'r', 'm', 'a', 'n', 'c', 'e', ' ', 'o', 'f', ' ', 'a', 'n', 'y', ' ', 'c', 'r', 'y', 'p', 't', 'o', 'g', 'r', 'a', 'p', 'h', 'i', 'c', ' ', 'a', 'l', 'g', 'o', 'r', 'i', 't', 'h', 'm', ' ', '(', 's', 'a', 'y', ' ', 'e', 'l', 'l', 'i', 'p', 't', 'i', 'c', ' ', 'c', 'u', 'r', 'v', 'e', ')', '?', '\\t', 'N', 't', 'h', '-', 'c', 'h', 'i', 'l', 'd', ' ', 'S', 'e', 'l', 'e', 'c', 't', 'o', 'r', ' ', 'w', 'i', 't', 'h', ' ', 'P', 'r', 'o', 't', 'o', 't', 'y', 'p', 'e', '\\t', 'D', 'i', 'f', 'f', 'e', 'r', 'e', 'n', 'c', 'e', ' ', 'i', 'n', ' ', 'p', 'e', 'r', 'f', 'o', 'r', 'm', 'a', 'n', 'c', 'e', ' ', 'o', 'f', ' ', 'c', 'o', 'm', 'p', 'i', 'l', 'e', 'd', ' ', 'a', 'c', 'c', 'e', 'l', 'e', 'r', 'a', 't', 'e', ' ', 'c', 'o', 'd', 'e', ' ', 'r', 'a', 'n', ' ', 'f', 'r', 'o', 'm', ' ', 'g', 'h', 'c', 'i', ' ', 'a', 'n', 'd', ' ', 's', 'h', 'e', 'l', 'l', '\\t', 'D', 'a', 't', 'a', 'b', 'a', 's', 'e', ' ', 'd', 'e', 's', 'i', 'g', 'n', ' ', 'f', 'o', 'r', ' ', 'e', 'm', 'a', 'i', 'l', ' ', 'm', 'e', 's', 's', 'a', 'g', 'i', 'n', 'g', ' ', 's', 'y', 's', 't', 'e', 'm', '\\t', 'J', 'a', 'v', 'a', ' ', 'S', 'E', ' ', 'D', 'e', 'v', 'e', 'l', 'o', 'p', 'm', 'e', 'n', 't', ' ', 'K', 'i', 't', ' ', '8', 'u', '2', '0', ' ', 'I', 'n', 's', 't', 'a', 'l', 'l', ' ', 'O', 'p', 't', 'i', 'o', 'n', 's', '\\t', 'R', 'e', 'a', 'd', 'i', 'n', 'g', ' ', 'a', ' ', 'f', 'i', 'l', 'e', ' ', 'i', 'n', ' ', 'c', 'h', 'u', 'n', 'k', 's', '\\t', 'T', 'w', 'i', 't', 't', 'e', 'r', ' ', 's', 't', 'y', 'l', 'e', ' ', 'W', 'e', 'b', ' ', 'A', 'p', 'p', 'l', 'i', 'c', 'a', 't', 'i', 'o', 'n', ' ', 'b', 'a', 's', 'e', 'd', ' ', 'o', 'n', ' ', 'L', 'A', 'M', 'P', ',', ' ', 'S', 'y', 'm', 'f', 'o', 'n', 'y', '2', ',', ' ', 'B', 'a', 'c', 'k', 'b', 'o', 'n', 'e', ' ', ':', ' ', 'p', 'o', 's', 's', 'i', 'b', 'l', 'e', '?', '\\t', 'R', 'e', 'g', 'e', 'x', 'p', ' ', 'f', 'o', 'r', ' ', 'C', ' ', 'p', 'r', 'e', 'p', 'r', 'o', 'c', 'e', 's', 's', 'o', 'r', ' ', 'c', 'o', 'm', 'm', 'a', 'n', 'd', '\\t', 'C', 'm', 'p', 'o', 's', 'i', 't', 'i', 'o', 'n', ',', ' ', 'I', ' ', 'd', 'o', 'n', 't', ' ', 'q', 'u', 'i', 't', 'e', ' ', 'g', 'e', 't', ' ', 't', 'h', 'i', 's', '?', '\\t', 'C', 'a', 'k', 'e', 'P', 'H', 'P', ' ', 'f', 'o', 'r', 'm', ' ', 's', 'u', 'b', 'm', 'i', 't', 's', ' ', 't', 'h', 'e', ' ', '\"', 'a', 'r', 'r', 'a', 'y', '\"', '\\t', 'S', 't', 'o', 'r', 'e', ' ', 'f', 'e', 'e', 'd', ' ', 'f', 'o', 'r', 'w', 'a', 'r', 'd', ' ', 'n', 'e', 't', 'w', 'o', 'r', 'k', ' ', 'i', 'n', ' ', 'm', 'o', 'n', 'g', 'o', 'd', 'b', '\\t', 'b', 'a', 's', 'h', ' ', 'r', 'e', 'a', 'd', ' ', 's', 't', 'r', 'i', 'n', 'g', 's', ' ', 'a', 'n', 'd', ' ', 'o', 'u', 't', 'p', 'u', 't', ' ', 'a', 's', ' ', 'o', 'n', 'e', ' ', 'k', 'e', 'y', ' ', 'a', 'n', 'd', ' ', 'm', 'u', 'l', 't', 'i', 'p', 'l', 'e', ' ', 'v', 'a', 'l', 'u', 'e', 's', '\\t', 'h', 't', 't', 'p', ' ', 'c', 'l', 'i', 'e', 'n', 't', ' ', 'i', 'n', ' ', 'p', 'y', 't', 'h', 'o', 'n', ' ', 'f', 'a', 'i', 'l', 's', ' ', 't', 'o', ' ', 'r', 'e', 'c', 'i', 'v', 'e', '\\t', 'D', 'y', 'n', 'a', 'm', 'i', 'c', ' ', 'l', 'a', 'n', 'g', 'u', 'a', 'g', 'e', 's', ' ', '-', ' ', 'w', 'h', 'i', 'c', 'h', ' ', 'o', 'n', 'e', ' ', 's', 'h', 'o', 'u', 'l', 'd', ' ', 'I', ' ', 'c', 'h', 'o', 'o', 's', 'e', '?', '\\t', 'H', 'o', 'w', ' ', 't', 'o', ' ', 's', 't', 'a', 'r', 't', ' ', 'a', 'n', ' ', 'I', 'n', 't', 'e', 'n', 't', 'S', 'e', 'r', 'v', 'i', 'c', 'e', ' ', 'f', 'r', 'o', 'm', ' ', 'a', ' ', 'W', 'a', 'k', 'e', 'f', 'u', 'l', 'B', 'r', 'o', 'a', 'd', 'c', 'a', 's', 't', 'R', 'e', 'c', 'e', 'i', 'v', 'e', 'r', '\\t', 'C', '+', '+', ':', ' ', 'C', 'o', 'n', 'v', 'e', 'r', 't', 'i', 'n', 'g', ' ', 'w', 's', 't', 'r', 'i', 'n', 'g', ' ', 't', 'o', ' ', 'u', 'n', 's', 'i', 'g', 'n', 'e', 'd', ' ', 'c', 'h', 'a', 'r', '\\t', 'H', 'o', 'w', ' ', 't', 'o', ' ', 'm', 'a', 'k', 'e', ' ', 'e', 'c', 'h', 'o', ' ', 'i', 'n', 't', 'e', 'r', 'p', 'r', 'e', 't', ' ', 'b', 'a', 'c', 'k', 's', 'l', 'a', 's', 'h', ' ', 'e', 's', 'c', 'a', 'p', 'e', 's', ' ', 'a', 'n', 'd', ' ', 'n', 'o', 't', ' ', 'p', 'r', 'i', 'n', 't', ' ', 'a', ' ', 't', 'r', 'a', 'i', 'l', 'i', 'n', 'g', ' ', 'n', 'e', 'w', 'l', 'i', 'n', 'e', '?', '\\t', 'A', 'n', 'g', 'u', 'l', 'a', 'r', 'J', 'S', '.', '.', ' ', 'h', 't', 't', 'p', '.', 'g', 'e', 't', ' ', 'w', 'o', 'r', 'k', 'i', 'n', 'g', ',', ' ', 'w', 'h', 'e', 'n', ' ', 's', 'p', 'l', 'i', 't', 't', 'i', 'n', 'g', ' ', 'i', 'n', 't', 'o', ' ', 'i', 't', 's', ' ', 'o', 'w', 'n', ' ', 's', 'e', 'r', 'v', 'i', 'c', 'e', ' ', 'm', 'o', 'd', 'u', 'l', 'e', ' ', 'i', 't', 's', ' ', 'n', 'o', ' ', 'l', 'o', 'n', 'g', 'e', 'r', ' ', 'w', 'o', 'r', 'k', 'i', 'n', 'g', '\\t', 'H', 'o', 'w', ' ', 'd', 'o', ' ', 'I', ' ', 'd', 'e', 't', 'e', 'r', 'm', 'i', 'n', 'e', ' ', 't', 'h', 'e', ' ', 'n', 'u', 'm', 'b', 'e', 'r', ' ', 'o', 'f', ' ', 'e', 'l', 'e', 'm', 'e', 'n', 't', 's', ' ', 'i', 'n', ' ', 'a', 'n', ' ', 'a', 'r', 'r', 'a', 'y', ' ', 'r', 'e', 'f', 'e', 'r', 'e', 'n', 'c', 'e', '?', '\\t', '\"', 'T', 'y', 'p', 'e', 'E', 'r', 'r', 'o', 'r', ':', ' ', \"'\", 'N', 'o', 'n', 'e', 'T', 'y', 'p', 'e', \"'\", ' ', 'o', 'b', 'j', 'e', 'c', 't', ' ', 'i', 's', ' ', 'n', 'o', 't', ' ', 'i', 't', 'e', 'r', 'a', 'b', 'l', 'e', '\"', ' ', 'o', 'n', ' ', 'w', 'h', 'a', 't', ' ', 's', 'h', 'o', 'u', 'l', 'd', ' ', 'b', 'e', ' ', 'a', ' ', 'l', 'i', 's', 't', '\\t', 'R', 'e', 'p', 'l', 'a', 'c', 'e', ' ', 'r', 'a', 'n', 'd', 'o', 'm', ' ', 'i', 'm', 'a', 'g', 'e', ' ', 'o', 'n', ' ', 'w', 'e', 'b', 's', 'i', 't', 'e', '\\t', 'R', 'o', 't', 'a', 't', 'i', 'o', 'n', ' ', 'm', 'a', 't', 'r', 'i', 'x', ' ', 'b', 'e', 't', 'w', 'e', 'e', 'n', ' ', 't', 'w', 'o', ' ', 'c', 'a', 'm', 'e', 'r', 'a', ' ', 's', 'y', 's', 't', 'e', 'm', '\\t', 'A', 'n', 'i', 'm', 'a', 't', 'e', 'd', ' ', 'b', 'o', 'r', 'd', 'e', 'r', ' ', 'w', 'h', 'i', 'c', 'h', ' ', 'w', 'r', 'a', 'p', 's', ' ', 'a', 'r', 'o', 'u', 'n', 'd', '\\t', 'c', 'r', 'o', 'n', ' ', 'j', 'o', 'b', ' ', 'n', 'o', 't', ' ', 'p', 'i', 'c', 'k', 'i', 'n', 'g', ' ', 'u', 'p', ' ', 'o', 'r', 'a', 'c', 'l', 'e', ' ', 'q', 'u', 'e', 'r', 'y', ' ', 'r', 'e', 's', 'u', 'l', 't', '\\t', 'F', 'o', 'r', 'm', 'v', 'i', 'e', 'w', ' ', 'a', 'n', 'd', ' ', 'M', 'S', '-', 'A', 'j', 'a', 'x', ' ', 'U', 'p', 'd', 'a', 't', 'e', 'P', 'a', 'n', 'e', 'l', '\\t', 'H', 'o', 'w', ' ', 't', 'o', ' ', 'u', 'p', 'd', 'a', 't', 'e', ' ', 'd', 'a', 't', 'a', ' ', 'w', 'i', 't', 'h', ' ', 'T', 'r', 'e', 'e', 'S', 't', 'o', 'r', 'e', ' ', 'o', 'r', ' ', 'T', 'r', 'e', 'e', 'E', 'd', 'i', 't', 'o', 'r', ' ', 'c', 'o', 'm', 'p', 'o', 'n', 'e', 'n', 't', '?', '\\t', 'G', 'e', 't', ' ', 'k', 'w', 'a', 'r', 'g', 's', ' ', 'p', 'a', 's', 's', 'e', 'd', ' ', 't', 'o', ' ', 'u', 'r', 'l', '_', 'f', 'o', 'r', ' ', 'i', 'n', ' ', 'F', 'l', 'a', 's', 'k', ' ', 'v', 'i', 'e', 'w', '\\t', 'h', 'o', 'w', ' ', 't', 'o', ' ', 'r', 'e', 'l', 'o', 'a', 'd', ' ', 't', 'h', 'e', ' ', 't', 'e', 'm', 'p', 'l', 'a', 't', 'e', ' ', 'w', 'h', 'e', 'n', ' ', 'w', 'o', 'r', 'k', 'i', 'n', 'g', ' ', 'w', 'i', 't', 'h', ' ', 'e', 'n', 'l', 'i', 'v', 'e', ' ', 'w', 'i', 't', 'h', 'o', 'u', 't', ' ', 'r', 'e', 's', 't', 'a', 'r', '\\t', 'T', 'h', 'r', 'e', 'a', 'd', '-', 's', 'a', 'f', 'e', ' ', 'g', 'e', 't', ' ', '(', 'a', 'c', 'c', 'e', 's', 's', 'o', 'r', ' ', 'm', 'e', 't', 'h', 'o', 'd', ')', '\\t', 'H', 'o', 'w', ' ', 'c', 'a', 'n', ' ', 'I', ' ', 't', 'e', 'l', 'l', ' ', 'i', 'f', ' ', '\"', 'i', 'n', 'l', 'i', 'n', 'e', '\"', ' ', 'w', 'o', 'r', 'k', 'e', 'd', '?', '\\t', 'c', 'a', 'l', 'l', 'i', 'n', 'g', ' ', 's', 'o', 'm', 'e', ' ', 'l', 'o', 'g', 'i', 'c', ' ', 'b', 'e', 'f', 'o', 'r', 'e', ' ', 'u', 's', 'e', 'r', ' ', 'i', 's', ' ', 'l', 'o', 'g', 'g', 'e', 'd', ' ', 'o', 'u', 't', ' ', 'u', 's', 'i', 'n', 'g', ' ', 's', 'p', 'r', 'i', 'n', 'g', ' ', 's', 'e', 'c', 'u', 'r', 'i', 't', 'y', '?', '\\t', 'J', 'a', 'v', 'a', ' ', 'p', 'a', 't', 't', 'e', 'r', 'n', ' ', 't', 'o', ' ', 'f', 'i', 'n', 'd', ' ', 't', 'w', 'o', ' ', 'g', 'r', 'o', 'u', 'p', 's', ' ', 'o', 'f', ' ', 't', 'w', 'o', ' ', 'l', 'e', 't', 't', 'e', 'r', 's', ' ', 'i', 'n', ' ', '`', 'A', 'B', 'C', '`', '\\t', 'M', 'Y', 'S', 'Q', 'L', ' ', 'd', 'i', 's', 't', 'i', 'n', 'c', 's', ' ', 'e', 'n', 't', 'r', 'y', ' ', 'o', 'f', ' ', 't', 'w', 'o', ' ', 'c', 'o', 'l', 'u', 'm', 'n', 's', ' ', 'e', 'v', 'e', 'n', ' ', 'w', 'h', 'e', 'n', ' ', 's', 'w', 'i', 't', 'c', 'h', 'e', 'd', '\\t', 'H', 'o', 'w', ' ', 'A', 'n', 't', 'l', 'r', ' ', 'c', 'r', 'e', 'a', 't', 'e', 's', ' ', 't', 'o', 'k', 'e', 'n', 's', '\\t', 'P', 'l', 'a', 'y', ' ', 'F', 'r', 'a', 'm', 'e', 'w', 'o', 'r', 'k', ' ', '2', '.', '4', ' ', '-', ' ', 'J', 'a', 'v', 'a', ' ', '-', ' ', 'H', 't', 't', 'p', ' ', 'h', 'e', 'a', 'd', 'e', 'r', ' ', 'a', 'n', 'd', ' ', 'c', 'a', 'c', 'h', 'e', 'd', ' ', 'r', 'e', 's', 'p', 'o', 'n', 's', 'e', '\\t', 'L', 'i', 's', 't', ' ', 'o', 'f', ' ', 'S', 't', 'r', 'i', 'n', 'g', 's', ' ', 'i', 'n', ' ', 'a', ' ', 'G', 'r', 'a', 'i', 'l', 's', ' ', 'd', 'o', 'm', 'a', 'i', 'n', ' ', 'c', 'l', 'a', 's', 's', '\\t', 'I', 'n', 's', 'e', 'r', 't', ' ', 'i', 'n', 't', 'o', ' ', 'M', 'o', 'n', 'g', 'o', 'D', 'B', ' ', 'v', 'i', 'a', ' ', 'N', 'o', 'd', 'e', '.', 'j', 's', '\\t', 'H', 'o', 'w', ' ', 't', 'o', ' ', 's', 't', 'o', 'p', ' ', 'o', 'r', ' ', 'p', 'a', 'u', 's', 'e', ' ', 'P', 'a', 'n', 'd', 'o', 'r', 'a', ' ', 'a', 'n', 'd', ' ', 'S', 'p', 'o', 't', 'i', 'f', 'y', '\\t', 'O', 'r', 'a', 'c', 'l', 'e', ' ', 'F', 'u', 'n', 'c', 't', 'i', 'o', 'n', ':', ' ', 'R', 'e', 'p', 'l', 'i', 'c', 'a', 't', 'e', ' ', 'w', 'm', '_', 'c', 'o', 'n', 'c', 'a', 't', '\\t', 'R', 'e', 't', 'u', 'r', 'n', ' ', 'u', 's', 'e', 'r', ' ', 't', 'o', ' ', 'p', 'r', 'e', 'v', 'i', 'o', 'u', 's', ' ', 'p', 'a', 'g', 'e', ' ', 'a', 'f', 't', 'e', 'r', ' ', 'l', 'o', 'g', 'i', 'n', ' ', '(', 'R', 'a', 'i', 'l', 's', ')', '\\t', 'C', 'u', 's', 't', 'o', 'm', ' ', 'L', 'a', 'y', 'o', 'u', 't', ' ', 'M', 'a', 'n', 'a', 'g', 'e', 'r', ' ', 'u', 's', 'i', 'n', 'g', ' ', 'p', 'r', 'e', 'd', 'e', 'f', 'i', 'n', 'e', 'd', ' ', 'a', 'n', 'd', ' ', 'd', 'e', 'v', 'e', 'l', 'o', 'p', 'e', 'r', '-', 'd', 'e', 'f', 'i', 'n', 'e', 'd', ' ', 'c', 'h', 'i', 'l', 'd', ' ', 'v', 'i', 'e', 'w', '(', 's', ')', '\\t', 'I', 'n', ' ', 'R', 'u', 'b', 'y', ',', ' ', 'h', 'o', 'w', ' ', 'd', 'o', ' ', 'I', ' ', 's', 'p', 'e', 'c', 'i', 'f', 'y', ' ', 'a', ' ', 'f', 'i', 'l', 'e', ' ', 'i', 'n', ' ', 'a', 'n', 'o', 't', 'h', 'e', 'r', ' ', 'd', 'i', 'r', 'e', 'c', 't', 'o', 'r', 'y', ' ', 'a', 's', ' ', 'a', 'n', ' ', 'i', 'n', 'p', 'u', 't', '?', '\\t', 'U', 'n', 'a', 'b', 'l', 'e', ' ', 't', 'o', ' ', 'r', 'e', 'a', 'd', ' ', 'V', 'i', 'e', 'w', ' ', 'B', 'a', 'g', ' ', 'v', 'a', 'l', 'u', 'e', ' ', 'f', 'r', 'o', 'm', ' ', 'c', 'o', 'n', 't', 'r', 'o', 'l', 'l', 'e', 'r', ' ', 't', 'o', ' ', 'v', 'i', 'e', 'w', '\\t', 'P', 'a', 'r', 'a', 'm', 'e', 't', 'e', 'r', 's', ' ', 'o', 'n', ' ', 't', 'i', 'm', 'e', ' ', 's', 't', 'a', 'm', 'p', 's', ' ', 'i', 'n', ' ', 'o', 'r', 'a', 'c', 'l', 'e', ' ', 's', 'q', 'l', ' ', 'd', 'e', 'v', 'e', 'l', 'o', 'p', 'e', 'r', '\\t', 'm', 'e', 'a', 's', 'u', 'r', 'i', 'n', 'g', ' ', 't', 'h', 'e', ' ', 't', 'i', 'm', 'e', ' ', 't', 'o', ' ', 'l', 'o', 'a', 'd', ' ', 'a', ' ', 'p', 'a', 'g', 'e', ' ', '-', ' ', 'P', 'y', 't', 'h', 'o', 'n', '\\t', 'S', 'e', 't', ' ', 'h', 'e', 'i', 'g', 'h', 't', ' ', 'o', 'f', ' ', 'c', 'h', 'i', 'l', 'd', ' ', 't', 'o', ' ', 'h', 'e', 'i', 'g', 'h', 't', ' ', 'o', 'f', ' ', 'p', 'a', 'r', 'e', 'n', 't', '\\t', 'H', 'o', 'w', ' ', 'c', 'a', 'n', ' ', 'I', ' ', 'f', 'i', 'n', 'd', ' ', 't', 'h', 'e', ' ', 'e', 'l', 'e', 'm', 'e', 'n', 't', ' ', 't', 'h', 'a', 't', ' ', 'c', 'a', 'u', 's', 'e', 'd', ' ', 'a', 'n', 'o', 't', 'h', 'e', 'r', ' ', 'e', 'l', 'e', 'm', 'e', 'n', 't', ' ', 't', 'o', ' ', 'f', 'i', 'r', 'e', ' ', 't', 'h', 'e', ' ', 'f', 'o', 'c', 'u', 's', 'o', 'u', 't', ' ', 'e', 'v', 'e', 'n', 't', '?', '\\t', 'H', 'o', 'w', ' ', 't', 'o', ' ', 'g', 'e', 't', ' ', 't', 'h', 'e', ' ', 'l', 'a', 't', 'e', 's', 't', ' ', 'c', 'r', 'e', 'a', 't', 'e', 'd', ' ', 't', 'a', 'b', 'l', 'e', ' ', 'i', 'n', ' ', 'M', 'y', 'S', 'Q', 'L', '?', '\\t', 'B', 'e', 't', 't', 'e', 'r', ' ', 'w', 'a', 'y', ' ', 't', 'o', ' ', 'r', 'e', 'f', 'e', 'r', 'e', 'n', 'c', 'e', ' ', '$', 's', 'c', 'o', 'p', 'e', ' ', 'i', 'n', ' ', 'A', 'n', 'g', 'u', 'l', 'a', 'r', 'J', 'S', '\\t', 'S', 'h', 'a', 'r', 'i', 'n', 'g', ' ', 'd', 'a', 't', 'a', ' ', 'b', 'e', 't', 'w', 'e', 'e', 'n', ' ', 'E', 'l', 'a', 's', 't', 'i', 'c', ' ', 'B', 'e', 'a', 'n', 's', 't', 'a', 'l', 'k', ' ', 'w', 'e', 'b', ' ', 'a', 'n', 'd', ' ', 'w', 'o', 'r', 'k', 'e', 'r', ' ', 't', 'i', 'e', 'r', 's', '\\t', 'i', 'O', 'S', ' ', 'c', 'e', 'r', 't', 'i', 'f', 'i', 'c', 'a', 't', 'e', ' ', 'p', 'i', 'n', 'n', 'i', 'n', 'g', ' ', 'w', 'i', 't', 'h', ' ', 'S', 'w', 'i', 'f', 't', ' ', 'a', 'n', 'd', ' ', 'N', 'S', 'U', 'R', 'L', 'S', 'e', 's', 's', 'i', 'o', 'n', '\\t', 'S', 'h', 'a', 'r', 'i', 'n', 'g', ' ', 'U', 'D', 'P', ' ', 'D', 'a', 't', 'a', ' ', 'a', 'c', 'r', 'o', 's', 's', ' ', 'a', 'p', 'p', 's', ' ', '(', 'b', 'a', 'c', 'k', 'g', 'r', 'o', 'u', 'n', 'd', '/', 'f', 'o', 'r', 'e', 'g', 'r', 'o', 'u', 'n', 'd', ' ', 'o', 'r', ' ', 'S', 'p', 'l', 'i', 't', ' ', 's', 'c', 'r', 'e', 'e', 'n', ' ', 'm', 'u', 'l', 't', 'i', 't', 'a', 's', 'k', 'i', 'n', 'g', ')', ' ', 'i', 'n', ' ', 'i', 'O', 'S', '\\t', 'i', 'P', 'h', 'o', 'n', 'e', ':', ' ', 'F', 'a', 'c', 'e', 'b', 'o', 'o', 'k', ' ', 'l', 'o', 'g', 'o', 'u', 't', ' ', 'f', 'e', 'a', 't', 'u', 'r', 'e', ' ', 'd', 'o', 'e', 's', ' ', 'n', 'o', 't', ' ', 'w', 'o', 'r', 'k', 'i', 'n', 'g', '\\t', 'A', 'u', 't', 'o', 'H', 'o', 't', 'K', 'e', 'y', '.', ' ', 'H', 'o', 't', 's', 't', 'r', 'i', 'n', 'g', 's', ' ', 'a', 'n', 'd', ' ', 'A', 'u', 't', 'o', '-', 'r', 'e', 'p', 'l', 'a', 'c', 'e', ' ', 'n', 'o', 't', ' ', 'w', 'o', 'r', 'k', 'i', 'n', 'g', ' ', 'i', 'n', ' ', 'V', 'i', 's', 'u', 'a', 'l', ' ', 'S', 't', 'u', 'd', 'i', 'o', ' ', '2', '0', '0', '8', '\\t', 'I', 's', 's', 'u', 'e', ' ', 's', 'e', 't', 't', 'i', 'n', 'g', ' ', 'u', 'p', ' ', 'A', 'n', 'd', 'r', 'o', 'i', 'd', ' ', 'S', 'D', 'K', ' ', '-', ' ', 'F', 'a', 'i', 'l', 'e', 'd', ' ', 't', 'o', ' ', 'S', 't', 'a', 'r', 't', ' ', 'E', 'm', 'u', 'l', 'a', 't', 'o', 'r', '\\t', 'W', 'h', 'y', ' ', 'i', 's', ' ', 't', 'h', 'e', ' ', 'd', 'i', 's', 'm', 'i', 's', 's', 'a', 'b', 'l', 'e', ' ', 'a', 'l', 'e', 'r', 't', ' ', 'n', 'o', 't', ' ', 'b', 'e', 'i', 'n', 'g', ' ', 'd', 'i', 's', 'm', 'i', 's', 's', 'e', 'd', '?', '\\t', 'E', 'r', 'r', 'o', 'r', ' ', 'w', 'h', 'i', 'l', 'e', ' ', 'e', 'x', 'e', 'c', 'u', 't', 'i', 'n', 'g', ' ', 'c', 'h', 'a', 'n', 'g', 'e', ' ', 'd', 'a', 't', 'a', ' ', 'c', 'a', 'p', 't', 'u', 'r', 'e', ' ', 's', 'q', 'l', ' ', 'q', 'u', 'e', 'r', 'y', '\\t', 'm', 'u', 'l', 't', 'i', 'p', 'l', 'e', ' ', 'q', 'u', 'e', 'r', 'i', 'e', 's', ' ', '-', ' ', 'R', 'o', 'u', 't', 'e', '.', 'g', 'e', 't', '(', ')', ' ', 'r', 'e', 'q', 'u', 'i', 'r', 'e', 's', ' ', 'c', 'a', 'l', 'l', 'b', 'a', 'c', 'k', ' ', 'f', 'u', 'n', 'c', 't', 'i', 'o', 'n', 's', ' ', 'b', 'u', 't', ' ', 'g', 'o', 't', ' ', 'a', ' ', '[', 'o', 'b', 'j', 'e', 'c', 't', ' ', 'U', 'n', 'd', 'e', 'f', 'i', 'n', 'e', 'd', ']', '\\t', 'H', 'o', 'w', ' ', 't', 'o', ' ', 'a', 't', 't', 'a', 'c', 'h', ' ', 'c', 'u', 's', 't', 'o', 'm', ' ', 'e', 'l', 'e', 'm', 'e', 'n', 't', ' ', 't', 'o', ' ', 's', 'h', 'a', 'd', 'o', 'w', ' ', 'D', 'O', 'M', ' ', 'i', 'n', ' ', 'h', 't', 'm', 'l', ' ', 'w', 'e', 'b', ' ', 'c', 'o', 'm', 'p', 'o', 'n', 'e', 'n', 't', 's', ' ', 'i', 'n', ' ', 'a', ' ', 's', 'e', 'c', 'u', 'r', 'e', ' ', 'w', 'a', 'y', '?', '\\t', 'f', 'l', 'a', 's', 'h', ' ', 'j', 'a', 'v', 'a', 's', 'c', 'r', 'i', 'p', 't', ' ', 'd', 'o', 'n', \"'\", 't', ' ', 'w', 'o', 'r', 'k', ' ', '(', 'S', 'e', 'c', 'o', 'n', 'd', ' ', 't', 'r', 'y', ')', '\\t', 'H', 'o', 'w', ' ', 'd', 'o', ' ', 'E', 'G', 'i', 't', ' ', 'v', 'e', 'r', 's', 'i', 'o', 'n', 's', ' ', 'm', 'a', 'p', ' ', 't', 'o', ' ', 'G', 'i', 't', ' ', 'v', 'e', 'r', 's', 'i', 'o', 'n', 's', '\\t', 'H', 'o', 'w', ' ', 't', 'h', 'e', ' ', 'f', 't', 'p', ' ', 'u', 'p', 'l', 'o', 'a', 'd', 's', ' ', 'w', 'o', 'r', 'k', 's', ' ', 'i', 'n', ' ', 'P', 'H', 'P', '?', '\\t', 'S', 'q', 'l', ' ', 'X', 'M', 'L', ' ', 't', 'o', ' ', 'D', 'e', 'l', 'p', 'h', 'i', '\\t', 'L', 'o', 'o', 'k', 'u', 'p', ' ', 't', 'a', 'b', 'l', 'e', ' ', 'w', 'i', 't', 'h', ' ', 't', 'h', 'e', ' ', 'q', 'u', 'e', 'r', 'y', ' ', 'w', 'i', 't', 'h', ' ', 'a', 'r', 'b', 'i', 't', 'r', 'a', 'r', 'y', ' ', 'l', 'e', 'n', 'g', 't', 'h', ' ', 'w', 'i', 't', 'h', 'o', 'u', 't', ' ', 'u', 's', 'i', 'n', 'g', ' ', 'a', ' ', 'f', 'o', 'r', ' ', 'l', 'o', 'o', 'p', ' ', 'i', 'n', ' ', 'R', '\\t', 'C', '#', ' ', 'X', 'M', 'L', ' ', 'd', 'e', 's', 'e', 'r', 'i', 'a', 'l', 'i', 'z', 'a', 't', 'i', 'o', 'n', ' ', 'X', 'm', 'l', 'A', 't', 't', 'r', 'i', 'b', 'u', 't', 'e', '\\t', 'C', 'S', 'S', ',', ' ', 'J', 'Q', 'u', 'e', 'r', 'y', ':', ' ', 'A', 'n', 'i', 'm', 'a', 't', 'e', 'd', ' ', 't', 'r', 'a', 'n', 's', 'f', 'o', 'r', 'm', ' ', 'f', 'r', 'o', 'm', ' ', '3', ' ', 'l', 'i', 'n', 'e', 's', ' ', 'm', 'e', 'n', 'u', ' ', 't', 'o', ' ', 'c', 'r', 'o', 's', 's', '\\t', 'C', 'a', 'n', ' ', 'm', '2', 'e', ' ', 'i', 'n', 's', 't', 'a', 'l', 'l', ' ', 'a', 'n', ' ', 'e', 'x', 't', 'e', 'r', 'n', 'a', 'l', ' ', 'j', 'a', 'r', ' ', 'f', 'i', 'l', 'e', '?', ' ', 'O', 'r', ' ', 'd', 'o', ' ', 'I', ' ', 'n', 'e', 'e', 'd', ' ', 't', 'o', ' ', 'i', 'n', 's', 't', 'a', 'l', 'l', ' ', 't', 'h', 'e', ' ', 'm', 'a', 'v', 'e', 'n', ' ', 'c', 'o', 'm', 'm', 'a', 'n', 'd', ' ', 'l', 'i', 'n', 'e', ' ', 't', 'o', 'o', 'l', '?', '\\t', 'D', 'o', 'e', 's', ' ', 'g', 'S', 'O', 'A', 'P', ' ', 'R', 'E', 'S', 'T', 'f', 'u', 'l', ' ', 'i', 'm', 'p', 'l', 'e', 'm', 'e', 'n', 't', 'a', 't', 'i', 'o', 'n', ' ', 'r', 'e', 'q', 'u', 'i', 'r', 'e', ' ', 't', 'h', 'e', ' ', 'd', 'e', 'f', 'i', 'n', 'i', 't', 'i', 'o', 'n', ' ', 'o', 'f', ' ', 'a', ' ', 'W', 'S', 'D', 'L', '\\t', 'A', 'u', 't', 'o', 'm', 'a', 't', 'i', 'c', 'a', 'l', 'l', 'y', ' ', 'c', 'r', 'e', 'a', 't', 'e', ' ', 'a', 'n', ' ', 'a', 'p', 'p', 'o', 'i', 'n', 't', 'm', 'e', 'n', 't', ' ', 'i', 'n', ' ', 'O', 'u', 't', 'l', 'o', 'o', 'k', ' ', 'u', 's', 'i', 'n', 'g', ' ', 'm', 'e', 's', 's', 'a', 'g', 'e', ' ', 'c', 'o', 'n', 't', 'e', 'n', 't', '\\t', 'J', 'S', 'o', 'u', 'p', ' ', 'e', 'r', 'r', 'o', 'r', ':', ' ', 'j', 'a', 'v', 'a', '.', 'l', 'a', 'n', 'g', '.', 'I', 'l', 'l', 'e', 'g', 'a', 'l', 'A', 'r', 'g', 'u', 'm', 'e', 'n', 't', 'E', 'x', 'c', 'e', 'p', 't', 'i', 'o', 'n', '\\t', 'A', 'd', 'd', ' ', 'B', 'u', 't', 't', 'o', 'n', ' ', 't', 'o', ' ', 'C', 'M', 'S', '_', 'P', 'a', 'g', 'e', '_', 'E', 'd', 'i', 't', ' ', 'v', 'i', 'a', ' ', 'O', 'b', 's', 'e', 'r', 'v', 'e', 'r', '\\t', 'H', 'o', 'w', ' ', 't', 'o', ' ', 'd', 'o', ' ', 'a', 'n', ' ', 'X', 'O', 'R', ' ', 'o', 'f', ' ', 't', 'h', 'e', ' ', 'b', 'i', 'n', 'a', 'r', 'y', ' ', 'f', 'o', 'r', 'm', 's', ' ', 'o', 'f', ' ', 'a', 'l', 'l', ' ', 'i', 'n', 't', 'e', 'g', 'e', 'r', ' ', 'i', 't', 'e', 'm', 's', ' ', 'i', 'n', ' ', 'a', ' ', 'l', 'i', 's', 't', '\\t', 'H', 'o', 'w', ' ', 't', 'o', ' ', 'a', 'd', 'd', ' ', 'r', 'e', 'g', 'u', 'l', 'a', 'r', 'i', 'z', 'a', 't', 'i', 'o', 'n', ' ', 'i', 'n', ' ', 'S', 'c', 'i', 'p', 'y', ' ', 'L', 'i', 'n', 'e', 'a', 'r', ' ', 'P', 'r', 'o', 'g', 'r', 'a', 'm', 'm', 'i', 'n', 'g', ' ', '(', 'N', 'o', 'n', '-', 'n', 'e', 'g', 'a', 't', 'i', 'v', 'e', ' ', 'L', 'e', 'a', 's', 't', '-', 'S', 'q', 'u', 'a', 'r', 'e', 's', ')', '\\t', 'H', 'i', 'g', 'h', 'l', 'i', 'g', 'h', 't', ' ', 'b', 'a', 'c', 'k', 'g', 'r', 'o', 'u', 'n', 'g', ' ', 'c', 'o', 'l', 'o', 'r', 's', ' ', 'o', 'f', ' ', 's', 'o', 'm', 'e', ' ', 'w', 'o', 'r', 'd', 's', ' ', 'i', 'n', ' ', 'H', 'T', 'M', 'L', ' ', 'D', 'o', 'c', 'u', 'm', 'e', 'n', 't', ' ', 'i', 'n', ' ', 'j', 'a', 'v', 'a', '\\t', 'I', 's', ' ', 't', 'h', 'e', 'r', 'e', ' ', 'a', ' ', 'w', 'a', 'y', ' ', 't', 'o', ' ', 'r', 'e', 't', 'r', 'i', 'e', 'v', 'e', ' ', 'p', 'r', 'o', 'c', 'e', 's', 's', ' ', 's', 't', 'a', 't', 's', ' ', 'u', 's', 'i', 'n', 'g', ' ', 'P', 'e', 'r', 'l', ' ', 'o', 'r', ' ', 'P', 'y', 't', 'h', 'o', 'n', '?', '\\t', 'E', 'x', 'c', 'e', 'l', ' ', 'N', 'a', 'm', 'e', 'd', 'R', 'a', 'n', 'g', 'e', '.', 'F', 'i', 'n', 'd', ' ', 'M', 'e', 't', 'h', 'o', 'd', ' ', 'w', 'i', 't', 'h', ' ', 'R', 'e', 'g', 'e', 'x', ' ', 'p', 'a', 't', 't', 'e', 'r', 'n', ' ', 'm', 'a', 't', 'c', 'h', ' ', 'i', 'n', ' ', 'C', '#', '\\t', 'c', 'm', 'a', 'k', 'e', ' ', 'e', 'r', 'r', 'o', 'r', ' ', 'w', 'h', 'e', 'n', ' ', 'c', 'o', 'n', 'f', 'i', 'g', 'u', 'r', 'i', 'n', 'g', '\\t', 'H', 'o', 'w', ' ', 't', 'o', ' ', 's', 'e', 't', ' ', 'f', 'i', 'r', 's', 't', ' ', 'c', 'o', 'l', 'u', 'm', 'n', ' ', 't', 'o', ' ', 'a', ' ', 'c', 'o', 'n', 's', 't', 'a', 'n', 't', ' ', 'v', 'a', 'l', 'u', 'e', ' ', 'o', 'f', ' ', 'a', 'n', ' ', 'e', 'm', 'p', 't', 'y', ' ', 'n', 'p', '.', 'z', 'e', 'r', 'o', 's', ' ', 'n', 'u', 'm', 'P', 'y', ' ', 'm', 'a', 't', 'r', 'i', 'x', '?', '\\t', 'E', 'c', 'l', 'i', 'p', 's', 'e', ' ', 'P', 'l', 'u', 'g', 'i', 'n', ' ', '-', ' ', 'g', 'e', 't', ' ', 'L', 'a', 'u', 'n', 'c', 'h', ' ', 'C', 'o', 'n', 'f', 'i', 'g', 'u', 'r', 'a', 't', 'i', 'o', 'n', 's', ' ', 'T', 'r', 'e', 'e', ' ', 'L', 'i', 's', 't', ' ', 'i', 'n', ' ', 'a', ' ', 'D', 'i', 'a', 'l', 'o', 'g', '.', '\\t', 'W', 'h', 'a', 't', ' ', 'a', 'r', 'e', ' ', 't', 'h', 'e', ' ', 'R', 'E', 'S', 'T', 'f', 'u', 'l', ' ', 'b', 'e', 's', 't', ' ', 'p', 'r', 'a', 'c', 't', 'i', 'c', 'e', 's', ' ', 'o', 'n', ' ', 'd', 'e', 'f', 'i', 'n', 'i', 'n', 'g', ' ', 'a', ' ', 'q', 'u', 'e', 'r', 'y', ' ', 'p', 'a', 'r', 'a', 'm', 'e', 't', 'e', 'r', ' ', 'w', 'i', 't', 'h', ' ', 'a', 'n', ' ', 'o', 'r', ' ', 'c', 'o', 'n', 'd', 'i', 't', 'i', 'o', 'n', '?', '\\t', 'E', 'x', 't', 'r', 'a', 'c', 't', 'i', 'n', 'g', ' ', 't', 'e', 'x', 't', ' ', 'f', 'r', 'o', 'm', ' ', 't', 'h', 'e', ' ', 'i', 'n', 'p', 'u', 't', ' ', 'f', 'i', 'e', 'l', 'd', ' ', '-', ' ', 'u', 's', 'i', 'n', 'g', ' ', 'W', 'e', 'b', 'd', 'r', 'i', 'v', 'e', 'r', '\\t', 'O', 'n', 'e', ' ', '<', 'h', 'r', '>', ' ', 't', 'a', 'g', ' ', 'i', 's', ' ', 'w', 'o', 'r', 'k', 'i', 'n', 'g', ' ', 'b', 'u', 't', ' ', 'n', 'o', 't', ' ', 't', 'h', 'e', ' ', 'o', 't', 'h', 'e', 'r', ' ', 'i', 'n', ' ', 'F', 'i', 'r', 'e', 'f', 'o', 'x', '.', ' ', 'W', 'h', 'y', ' ', 'i', 's', ' ', 't', 'h', 'a', 't', '?', '\\t', 'a', 'j', 'a', 'x', ' ', 'r', 'e', 'q', 'u', 'e', 's', 't', ' ', 'x', 'm', 'l', ' ', 'f', 'r', 'o', 'm', ' ', 'p', 'h', 'p', '\\t', 'E', 'm', 'b', 'e', 'd', 'd', 'e', 'd', ' ', 'J', 'a', 'v', 'a', ' ', 's', 'e', 'r', 'v', 'e', 'r', ' ', 'u', 's', 'i', 'n', 'g', ' ', 'G', 'r', 'i', 'z', 'z', 'l', 'y', ':', ' ', 'H', 'o', 'w', ' ', 'd', 'o', ' ', 'y', 'o', 'u', ' ', 'e', 'n', 'a', 'b', 'l', 'e', ' ', 'h', 't', 't', 'p', '2', '\\t', 'F', 'i', 'n', 'd', 'i', 'n', 'g', ' ', 'M', 'i', 'n', 'i', 'm', 'u', 'm', ' ', 'C', 'o', 'm', 'p', 'l', 'e', 't', 'i', 'o', 'n', ' ', 'T', 'i', 'm', 'e', ' ', 'o', 'f', ' ', 'S', 'c', 'h', 'e', 'd', 'u', 'l', 'e', 'd', ' ', 'T', 'a', 's', 'k', 's', ' ', 'w', 'i', 't', 'h', ' ', 'T', 'o', 'p', 'o', 'l', 'o', 'g', 'i', 'c', 'a', 'l', ' ', 'S', 'o', 'r', 't', '\\t', 'H', 'o', 'w', ' ', 't', 'o', ' ', 's', 'e', 't', ' ', 'j', 'Q', 'u', 'e', 'r', 'y', ' ', 'd', 'r', 'a', 'g', 'g', 'a', 'b', 'l', 'e', ' ', 'm', 'i', 'n', '/', 'm', 'a', 'x', '-', 'l', 'e', 'f', 't', ' ', 'a', 'n', 'd', ' ', 'm', 'i', 'n', '/', 'm', 'a', 'x', '-', 'r', 'i', 'g', 'h', 't', '\\t', 's', 'e', 'm', 'a', 'n', 't', 'i', 'c', '-', 'u', 'i', ' ', 'm', 'o', 'd', 'a', 'l', ' ', 's', 'i', 'z', 'e', ' ', 'k', 'e', 'e', 'p', 's', ' ', 'e', 'x', 't', 'e', 'n', 'd', 'i', 'n', 'g', ' ', 't', 'o', ' ', 't', 'h', 'e', ' ', 'h', 'e', 'i', 'g', 'h', 't', ' ', 'o', 'f', ' ', 'a', ' ', 'p', 'a', 'g', 'e', '\\t', 'I', 's', ' ', 't', 'h', 'e', 'r', 'e', ' ', 'a', 'n', 'y', ' ', 'd', 'i', 'r', 'e', 'c', 't', ' ', 'g', 'i', 't', ' ', 'c', 'o', 'm', 'm', 'a', 'n', 'd', ' ', 't', 'o', ' ', 'p', 'u', 's', 'h', ' ', 'c', 'h', 'a', 'n', 'g', 'e', 's', ' ', 't', 'o', ' ', 'a', 'n', 'o', 't', 'h', 'e', 'r', ' ', 'b', 'r', 'a', 'n', 'c', 'h', '\\t', 'H', 'o', 'w', ' ', 'a', 'n', 'd', ' ', 'i', 's', ' ', 'i', 't', ' ', 'w', 'o', 'r', 't', 'h', ' ', 't', 'o', ' ', 'i', 'n', 't', 'e', 'g', 'r', 'a', 't', 'e', ' ', 'J', 'a', 'v', 'a', ' ', 'W', 'e', 'b', 'a', 'p', 'p', ' ', '+', ' ', 'd', 'r', 'o', 'o', 'l', 's', ' ', '+', ' ', 'G', 'u', 'v', 'n', 'o', 'r', '?', '\\t', 'H', 'o', 'w', ' ', 't', 'o', ' ', 'd', 'e', 'b', 'u', 'g', ' ', 'E', 'r', 'r', 'o', 'r', ' ', 'M', 'e', 's', 's', 's', 'a', 'g', 'e', ' ', 'i', 'n', ' ', 'O', 'd', 'o', 'o', '\\t', 'c', 'a', 'l', 'c', 'u', 'l', 'a', 't', 'e', ' ', 'd', 'i', 'f', 'f', 'e', 'r', 'e', 'n', 'c', 'e', 's', ' ', 'b', 'e', 't', 'w', 'e', 'e', 'n', ' ', 't', 'w', 'o', ' ', 'n', 'u', 'm', 'b', 'e', 'r', 's', '\\t', 'D', 'a', 't', 'a', ' ', 'c', 'o', 'n', 's', 't', 'r', 'u', 'c', 't', 'o', 'r', ' ', 'i', 'n', ' ', 't', 'e', 'm', 'p', 'l', 'a', 't', 'e', ' ', 'h', 'a', 's', 'k', 'e', 'l', 'l', '\\t', 'T', 'y', 'i', 'n', 'g', ' ', 'c', 'o', 'm', 'p', 'o', 's', 'e', 'r', '.', 'j', 's', 'o', 'n', ' ', 't', 'o', ' ', 'a', ' ', 's', 'p', 'e', 'c', 'i', 'f', 'i', 'c', ' ', 'L', 'a', 'r', 'a', 'v', 'e', 'l', ' ', '5', ' ', 'S', 'H', 'A', '\\t', 'D', 'j', 'a', 'n', 'g', 'o', ' ', '1', '.', '7', '.', '1', ' ', 'r', 'e', 'q', 'u', 'i', 'r', 'e', 's', ' ', 'a', ' ', 'D', 'e', 'f', 'a', 'u', 'l', 't', ' ', 'v', 'a', 'l', 'u', 'e', ' ', 'f', 'o', 'r', ' ', 'f', 'i', 'e', 'l', 'd', ' ', '-', ' ', 'b', 'u', 't', ' ', 'n', 'o', ' ', 'e', 'n', 't', 'r', 'y', ' ', 'i', 's', ' ', 'i', 'n', ' ', 'd', 'a', 't', 'a', 'b', 'a', 's', 'e', '.', ' ', 'W', 'h', 'y', '?', '\\t', 'a', 'd', 'd', 'E', 'n', 't', 'r', 'i', 'e', 's', 'F', 'r', 'o', 'm', 'D', 'i', 'c', 't', 'i', 'o', 'n', 'a', 'r', 'y', ':', ' ', 'a', ' ', 't', 'r', 'u', 'e', ' ', 'c', 'o', 'p', 'y', ' ', 'm', 'e', 't', 'h', 'o', 'd', '?', '\\t', 'S', 'p', 'r', 'i', 'n', 'g', ' ', 'B', 'o', 'o', 't', ' ', 'O', 'A', 'u', 't', 'h', '2', ' ', 'w', 'i', 't', 'h', ' ', 'e', 'n', 'c', 'r', 'y', 'p', 't', 'e', 'd', ' ', 'J', 'W', 'T', ' ', 'a', 'c', 'c', 'e', 's', 's', ' ', 't', 'o', 'k', 'e', 'n', '\\t', 'W', 'r', 'a', 'p', ' ', 't', 'e', 'x', 't', ' ', 'i', 'f', ' ', 'i', 't', ' ', 'i', 's', ' ', 'l', 'o', 'n', 'g', 'e', 'r', ' ', 't', 'h', 'a', 'n', ' ', 'm', 'a', 'x', '_', 'c', 'h', 'a', 'r', 'a', 'c', 't', 'e', 'r', 's', '\\t', 'i', 'p', 't', 'a', 'b', 'l', 'e', 's', ':', ' ', 'D', 'u', 'p', 'l', 'i', 'c', 'a', 't', 'i', 'n', 'g', '/', 'F', 'o', 'r', 'w', 'a', 'r', 'd', 'i', 'n', 'g', ' ', 'p', 'o', 'r', 't', 's', '\\t', 'M', 'u', 'l', 't', 'i', 'p', 'l', 'e', ' ', 'c', 'u', 's', 't', 'o', 'm', ' ', 'f', 'i', 'e', 'l', 'd', 's', ' ', 's', 't', 'o', 'r', 'e', 'd', ' ', 'a', 's', ' ', 'm', 'e', 't', 'a', '_', 'k', 'e', 'y', 's', ',', ' ', 'h', 'o', 'w', ' ', 't', 'o', ' ', 'c', 'o', 'n', 'n', 'e', 'c', 't', ' ', 'w', 'i', 't', 'h', ' ', 't', 'h', 'e', ' ', 'p', 'o', 's', 't', '?', '\\t', 'A', 'n', 'd', 'r', 'o', 'i', 'd', ' ', 'G', 'r', 'i', 'd', 'V', 'i', 'e', 'w', ' ', 'c', 'r', 'a', 's', 'h', 'e', 's', ' ', 'o', 'r', ' ', 'i', 's', ' ', 'v', 'e', 'r', 'y', ' ', 's', 'l', 'o', 'w', ' ', 'o', 'n', ' ', 's', 'o', 'm', 'e', ' ', 'd', 'e', 'v', 'i', 'c', 'e', 's', ' ', '(', 'S', 'a', 'm', 's', 'u', 'n', 'g', ' ', 'G', 'a', 'l', 'a', 'x', 'y', ' ', 'S', '4', ',', ' ', 'S', '3', ')', '\\t', 'H', 'T', 'M', 'L', '/', 'C', 'S', 'S', ':', ' ', 'I', 'n', 'p', 'u', 't', ' ', 'e', 'l', 'e', 'm', 'e', 'n', 't', ' ', 'w', 'e', 'i', 'r', 'd', ' ', 'i', 'n', 'd', 'e', 'n', 't', ' ', 'i', 'e', '7', '\\t', 'W', 'h', 'a', 't', ' ', 'e', 'x', 'a', 'c', 't', 'l', 'y', ' ', 'd', 'o', 'e', 's', ' ', 'D', 'o', 'u', 'b', 'l', 'e', ' ', 'm', 'e', 'a', 'n', ' ', 'i', 'n', ' ', 'j', 'a', 'v', 'a', '?', '\\t', 'M', 'o', 's', 't', ' ', 'e', 'f', 'f', 'e', 'c', 't', 'i', 'v', 'e', ' ', 'w', 'a', 'y', 's', ' ', 't', 'o', ' ', 'e', 'x', 't', 'r', 'a', 'c', 't', ' ', 'A', 'n', 'd', 'r', 'o', 'i', 'd', ' ', 'C', 'u', 'r', 's', 'o', 'r', ' ', '(', 's', 'q', 'l', 'i', 't', 'e', ')', ' ', 'i', 'n', 't', 'o', ' ', 'a', 'n', ' ', 'a', 'r', 'r', 'a', 'y', ' ', 't', 'o', ' ', 'b', 'e', ' ', 'u', 's', 'e', 'd', ' ', 'i', 'n', ' ', 'A', 'l', 'e', 'r', 't', 'D', 'i', 'a', 'l', 'o', 'g', '.', 'B', 'u', 'i', 'l', 'd', 'e', 'r', '?', '\\t', 'j', 'e', 'n', 'k', 'i', 'n', 's', ' ', 'c', 'a', 'n', ' ', 'n', 'o', 't', ' ', 'f', 'i', 'n', 'd', ' ', 'a', 'n', 'd', 'r', 'o', 'i', 'd', ' ', 'S', 'D', 'K', '\\t', 'C', 'a', 'n', ' ', 'I', ' ', 'o', 'p', 'e', 'n', ' ', 'a', ' ', 'n', 'e', 'w', ' ', 'w', 'i', 'n', 'd', 'o', 'w', ' ', 'a', 'n', 'd', ' ', 'c', 'h', 'a', 'n', 'g', 'e', ' ', 't', 'h', 'e', ' ', 'D', 'O', 'M', ' ', 'o', 'f', ' ', 't', 'h', 'e', ' ', 'c', 'a', 'l', 'l', 'i', 'n', 'g', ' ', 'w', 'i', 'n', 'd', 'o', 'w', ' ', 'i', 'n', ' ', 'J', 'a', 'v', 'a', 'S', 'c', 'r', 'i', 'p', 't', '?', '\\t', 'd', 'y', 'n', 'a', 'm', 'i', 'c', 'a', 'l', 'l', 'y', ' ', 'C', 'h', 'a', 'n', 'g', 'e', ' ', 'I', 't', 'e', 'm', 'i', 'z', 'e', 'd', ' ', 'o', 'v', 'e', 'r', 'l', 'a', 'y', ' ', 'd', 'r', 'a', 'w', ' ', 'c', 'i', 'r', 'c', 'l', 'e', ' ', 'u', 's', 'i', 'n', 'g', ' ', 's', 'e', 'e', 'k', ' ', 'b', 'a', 'r', ' ', 'p', 'r', 'o', 'g', 'r', 'e', 's', 's', '\\t', 'H', 'o', 'w', ' ', 'd', 'o', ' ', 'I', ' ', 'f', 'i', 'x', ' ', 'd', 'j', 'a', 'n', 'g', 'o', '.', 'd', 'b', '.', 'u', 't', 'i', 'l', 's', '.', 'I', 'n', 't', 'e', 'g', 'r', 'i', 't', 'y', 'E', 'r', 'r', 'o', 'r', ':', ' ', 'd', 'u', 'p', 'l', 'i', 'c', 'a', 't', 'e', ' ', 'k', 'e', 'y', ' ', 'v', 'a', 'l', 'u', 'e', ' ', 'v', 'i', 'o', 'l', 'a', 't', 'e', 's', ' ', 'u', 'n', 'i', 'q', 'u', 'e', ' ', 'c', 'o', 'n', 's', 't', 'r', 'a', 'i', 'n', 't', '?', '\\t', 'I', 'n', 'n', 'o', ' ', 'S', 'e', 't', 'u', 'p', ' ', 'n', 'o', 't', ' ', 'c', 'r', 'e', 'a', 't', 'i', 'n', 'g', ' ', 'r', 'e', 'g', 'i', 's', 't', 'r', 'y', ' ', 'e', 'n', 't', 'r', 'y', ' ', 'i', 'n', ' ', 'S', 'o', 'f', 't', 'w', 'a', 'r', 'e', '/', 'M', 'i', 'c', 'r', 'o', 's', 'o', 'f', 't', '/', 'W', 'i', 'n', 'd', 'o', 'w', 's', '/', 'C', 'u', 'r', 'r', 'e', 'n', 't', 'V', 'e', 'r', 's', 'i', 'o', 'n', '/', 'U', 'n', 'i', 'n', 's', 't', 'a', 'l', 'l', '\\t', 'b', 'u', 'i', 'l', 'd', ' ', 'f', 'r', 'o', 'm', ' ', 'h', 'a', 'd', 'o', 'o', 'p', ' ', 's', 'o', 'u', 'r', 'c', 'e', ' ', 'c', 'o', 'd', 'e', ' ', 'i', 'n', ' ', 'c', 'e', 'n', 't', 'o', 's', '\\t', 'C', '#', ' ', 'L', 'i', 'n', 'q', 'T', 'o', 'S', 'q', 'l', ' ', 'S', 'u', 'b', 'm', 'i', 't', 'C', 'h', 'a', 'n', 'g', 'e', 's', '(', ')', ' ', 'd', 'o', 'e', 's', ' ', 'n', 'o', 't', ' ', 'u', 'p', 'd', 'a', 't', 'e', ',', ' ', 'e', 'v', 'e', 'n', ' ', 't', 'h', 'o', 'u', 'g', 'h', ' ', 'P', 'K', ' ', 'i', 's', ' ', 's', 'e', 't', '\\t', 'H', 'o', 'w', ' ', 't', 'o', ' ', 'r', 'e', 'a', 'd', ' ', 'u', 't', 'f', '1', '6', ' ', 't', 'e', 'x', 't', ' ', 'f', 'i', 'l', 'e', ' ', 't', 'o', ' ', 's', 't', 'r', 'i', 'n', 'g', ' ', 'i', 'n', ' ', 'g', 'o', 'l', 'a', 'n', 'g', '?', '\\t', 'O', 'b', 'j', 'e', 'c', 't', 'i', 'v', 'e', ' ', 'C', ' ', 'e', 'P', 'u', 'b', ' ', 'f', 'r', 'a', 'm', 'e', 'w', 'o', 'r', 'k', '\\t', 'R', 'e', 'd', 'u', 'c', 'e', 'r', ' ', 'o', 'u', 't', 'p', 'u', 't', ' ', 't', 'o', ' ', 'd', 'i', 'f', 'f', 'e', 'r', 'e', 'n', 't', ' ', 'f', 'i', 'l', 'e', 's', ' ', 'b', 'a', 's', 'e', 'd', ' ', 'o', 'n', ' ', 'k', 'e', 'y', 's', '\\t', 'I', 's', ' ', 'i', 't', ' ', 'p', 'o', 's', 's', 'i', 'b', 'l', 'e', ' ', 'f', 'o', 'r', ' ', 'a', ' ', 'C', 'h', 'r', 'o', 'm', 'e', ' ', 'E', 'x', 't', 'e', 'n', 's', 'i', 'o', 'n', ' ', 't', 'o', ' ', 'g', 'e', 't', ' ', 'a', ' ', 'u', 's', 'e', 'r', \"'\", 's', ' ', 'f', 'u', 'l', 'l', ' ', 'b', 'r', 'o', 'w', 's', 'i', 'n', 'g', ' ', 'h', 'i', 's', 't', 'o', 'r', 'y', '?', '\\t', 'V', 'a', 'r', 'i', 'a', 'b', 'l', 'e', ' ', 'N', 'u', 'm', 'b', 'e', 'r', ' ', 'o', 'f', ' ', 'N', 'e', 's', 't', 'e', 'd', ' ', 'F', 'o', 'r', ' ', 'L', 'o', 'o', 'p', 's', '\\t', 'O', 'r', 'd', 'e', 'r', 'e', 'd', ' ', 'h', 't', 't', 'p', ' ', 'r', 'e', 'q', 'u', 'e', 's', 't', ' ', 'p', 'a', 'r', 'a', 'm', 'e', 't', 'e', 'r', 's', '\\t', 'T', 'e', 's', 't', 'i', 'n', 'g', ' ', 't', 'h', 'e', ' ', 'O', 'r', 'a', 'c', 'l', 'e', ' ', 't', 'o', '_', 'd', 'a', 't', 'e', ' ', 'f', 'u', 'n', 'c', 't', 'i', 'o', 'n', '\\t', 'G', 'e', 't', 't', 'i', 'n', 'g', ' ', 't', 'h', 'e', ' ', 'e', 'r', 'r', 'o', 'r', ' ', 'o', 'f', ' ', 'P', 'O', 'S', 'T', ' ', 'm', 'e', 't', 'h', 'o', 'd', ' ', 'f', 'r', 'o', 'm', ' ', 'a', 'n', 'o', 't', 'h', 'e', 'r', ' ', 'P', 'H', 'P', ' ', 'f', 'i', 'l', 'e', '\\t', 'M', 'u', 'l', 't', 'i', 'p', 'l', 'e', ' ', 's', 'e', 'l', 'e', 'c', 't', 'i', 'o', 'n', ' ', 'o', 'f', ' ', 'w', 'o', 'r', 'k', 's', 'h', 'e', 'e', 't', 's', ' ', 'i', 'n', 't', 'o', ' ', 'o', 'n', 'e', ' ', 'w', 'o', 'r', 'k', 'b', 'o', 'o', 'k', ' ', 'c', 'o', 'p', 'y', ' ', 'p', 'a', 's', 't', 'e', ' ', 'o', 'f', ' ', 'c', 'o', 'n', 't', 'e', 'n', 't', ' ', 'i', 'n', 't', 'o', ' ', 'o', 'n', 'e', ' ', 'm', 'a', 'i', 'n', ' ', 's', 'h', 'e', 'e', 't', '\\t', 'W', 'h', 'y', ' ', 'd', 'o', ' ', 'I', ' ', 'k', 'e', 'e', 'p', ' ', 'g', 'e', 't', 't', 'i', 'n', 'g', ' ', '\"', 'd', 'e', 'v', 'e', 'l', 'o', 'p', 'e', 'r', ' ', 'i', 'n', 'a', 'c', 't', 'i', 'v', 'e', '\"', ' ', 'e', 'r', 'r', 'o', 'r', 's', ' ', 'w', 'h', 'e', 'n', ' ', 'c', 'a', 'l', 'l', 'i', 'n', 'g', ' ', 't', 'h', 'e', ' ', 'B', 'e', 'a', 't', 's', ' ', 'M', 'u', 's', 'i', 'c', ' ', 'A', 'P', 'I', '?', '\\t', 'M', 'y', ' ', 's', 'e', 'l', 'e', 'c', 't', ' ', 'c', 'o', 'm', 'm', 'a', 'n', 'd', ' ', 'd', 'o', 'e', 's', 'n', \"'\", 't', ' ', 'w', 'o', 'r', 'k', '\\t', 'n', 'o', 'd', 'e', ' ', 'j', 's', ' ', 'r', 'e', 'a', 'd', ' ', 'f', 'i', 'l', 'e', 's', ' ', 'l', 'i', 'n', 'e', ' ', 'b', 'y', ' ', 'l', 'i', 'n', 'e', '\\t', 'P', 'H', 'P', 'S', 't', 'o', 'r', 'm', '/', 'W', 'e', 'b', 's', 't', 'o', 'r', 'm', ' ', 'i', 'n', 'c', 'r', 'e', 'a', 's', 'e', ' ', 'm', 'e', 'm', 'o', 'r', 'y', ' ', 't', 'o', ' ', 'm', 'o', 'r', 'e', ' ', 't', 'h', 'a', 'n', ' ', '5', '1', '2', 'M', 'B', '\\t', 'W', 'a', 'n', 't', ' ', 't', 'o', ' ', 'o', 'p', 'e', 'n', ' ', 'g', 'o', 'o', 'g', 'l', 'e', '.', 'c', 'o', 'm', ' ', 'a', 't', ' ', 's', 'p', 'e', 'c', 'i', 'f', 'i', 'c', ' ', 'l', 'o', 'c', 'a', 't', 'i', 'o', 'n', ' ', 'a', 'n', 'd', ' ', 'm', 'a', 'k', 'e', ' ', 'i', 't', ' ', 's', 'p', 'e', 'c', 'i', 'f', 'i', 'c', ' ', 'w', 'i', 'n', 'd', 'o', 'w', ' ', 's', 'i', 'z', 'e', '\\t', 'D', 'a', 't', 'a', 'b', 'a', 's', 'e', ' ', 'n', 'o', 't', ' ', 'u', 'p', 'd', 'a', 't', 'i', 'n', 'g', ' ', 'n', 'e', 'w', ' ', 'r', 'o', 'w', '\\t', 'S', 'p', 'r', 'i', 'n', 'g', ' ', 's', 'u', 'i', 't', 'e', ' ', 't', 'o', 'o', 'l', 's', ' ', 's', 't', 'a', 'r', 't', ' ', 'e', 'r', 'r', 'o', 'r', ' ', '-', ' ', 's', 'p', 'r', 'i', 'n', 'g', ' ', 'b', 'o', 'o', 't', '\\t', 'S', 'l', 'i', 'd', 'e', 'r', ' ', 'i', 'n', ' ', 'c', 'o', 'd', 'e', 'n', 'a', 'm', 'e', 'o', 'n', 'e', '\\t', 'I', 's', 's', 'u', 'e', ' ', 'w', 'i', 't', 'h', ' ', '$', '(', 't', 'h', 'i', 's', ')', ' ', 'a', 'n', 'd', ' ', 't', 'o', 'g', 'g', 'l', 'e', '(', ')', ' ', 'm', 'u', 'l', 't', 'i', 'p', 'l', 'e', ' ', 'c', 'l', 'a', 's', 's', 'e', 's', '\\t', 'H', 'o', 'w', ' ', 't', 'o', ' ', 'l', 'o', 'a', 'd', ' ', 'f', 'i', 'l', 'e', ' ', 'f', 'r', 'o', 'm', ' ', 'd', 'i', 'r', ' ', 'u', 's', 'i', 'n', 'g', ' ', 'R', 'a', 'c', 'k', 'e', 't', '?', '\\t', 'R', 'e', 'm', 'o', 'v', 'i', 'n', 'g', ' ', 'q', 'u', 'o', 't', 'a', 't', 'i', 'o', 'n', ' ', 'm', 'a', 'r', 'k', ' ', 'u', 's', 'i', 'n', 'g', ' ', 'j', 'a', 'v', 'a', 's', 'c', 'r', 'i', 'p', 't', ' ', 'd', 'o', 'e', 's', ' ', 'n', 'o', 't', ' ', 'r', 'e', 'm', 'o', 'v', 'e', ' ', 's', 'i', 'n', 'g', 'l', 'e', ' ', 'q', 'u', 'o', 't', 'a', 't', 'i', 'o', 'n', ' ', 'm', 'a', 'r', 'k', 's', '\\t', 'F', 'i', 'r', 'e', 'b', 'a', 's', 'e', ' ', 'A', 'n', 'd', 'r', 'o', 'i', 'd', ' ', 'C', 'h', 'i', 'l', 'd', 'E', 'v', 'e', 'n', 't', 'L', 'i', 's', 't', 'e', 'n', 'e', 'r', ' ', 'T', 'r', 'i', 'g', 'g', 'e', 'r', 'e', 'd', ' ', 'o', 'n', 'C', 'h', 'i', 'l', 'd', 'R', 'e', 'm', 'o', 'v', 'e', 'd', '(', ')', ' ', 'b', 'e', 'f', 'o', 'r', 'e', ' ', 'o', 'n', 'C', 'h', 'i', 'l', 'd', 'A', 'd', 'd', 'e', 'd', '(', ')', ' ', 'W', 'h', 'e', 'n', ' ', 'n', 'e', 'w', ' ', 'd', 'a', 't', 'a', ' ', 'a', 'd', 'd', 'e', 'd', '\\t', 'P', 'y', 't', 'h', 'o', 'n', '.', ' ', 'E', 'r', 'r', 'o', 'r', ' ', 'u', 's', 'i', 'n', 'g', ' ', 'a', 'n', 'i', 'm', 'a', 't', 'i', 'o', 'n', '.', 'F', 'u', 'n', 'c', 'A', 'n', 'i', 'm', 'a', 't', 'i', 'o', 'n', '\\t', 'H', 'o', 'w', ' ', 't', 'o', ' ', 'm', 'a', 'k', 'e', ' ', 'i', 'n', 'l', 'i', 'n', 'e', ' ', 'c', 'o', 'm', 'm', 'e', 'n', 't', 's', ' ', 'i', 'n', ' ', 'O', 'r', 'g', '-', 'm', 'o', 'd', 'e', '?', '\\t', 'F', 'i', 'n', 'd', ' ', 'y', 'e', 'a', 'r', 's', ' ', 'w', 'i', 't', 'h', ' ', 'd', 'i', 's', 't', 'i', 'n', 'c', 't', ' ', 'd', 'i', 'g', 'i', 't', 's', ' ', '-', ' ', 'C', 'C', 'C', ' ', '2', '0', '1', '3', '\\t', 'I', 'd', 'e', 'n', 't', 'i', 'f', 'y', ' ', 'c', 'u', 's', 't', 'o', 'm', 'e', 'r', ' ', 'v', 'i', 's', 'i', 't', 's', ' ', 'o', 'c', 'c', 'u', 'r', 'r', 'i', 'n', 'g', ' ', 'a', 'f', 't', 'e', 'r', ' ', 'a', ' ', 'g', 'i', 'v', 'e', 'n', ' ', 't', 'i', 'm', 'e', ' ', 'p', 'e', 'r', 'i', 'o', 'd', ' ', 'i', 'n', ' ', 'm', 'y', 's', 'q', 'l', '\\t', 'F', 'i', 'n', 'd', 'i', 'n', 'g', ' ', 't', 'h', 'e', ' ', 'd', 'i', 's', 't', 'i', 'n', 'c', 't', ' ', 'c', 'o', 'u', 'n', 't', ' ', 'f', 'r', 'o', 'm', ' ', 'a', ' ', 'c', 'a', 's', 's', 'a', 'n', 'd', 'r', 'a', ' ', 'c', 'o', 'l', 'u', 'm', 'n', ' ', 'u', 's', 'i', 'n', 'g', ' ', 'T', 'a', 'b', 'l', 'e', 'a', 'u', '\\t', 'P', 'r', 'i', 's', 'm', ' ', ':', ' ', 'C', 'h', 'a', 'n', 'g', 'e', ' ', 't', 'h', 'e', ' ', 'a', 'c', 't', 'i', 'v', 'e', ' ', 'v', 'i', 'e', 'w', '\\t', 'G', 'e', 't', ' ', 'C', 'o', 'l', 'o', 'r', ' ', 'f', 'r', 'o', 'm', ' ', 'i', 'n', 't', '\\t', 'D', 'y', 'n', 'a', 'm', 'i', 'c', ' ', 's', 'u', 'b', 'v', 'e', 'r', 's', 'i', 'o', 'n', ' ', 'r', 'e', 'p', 'o', 's', ' ', 'v', 'i', 'a', ' ', 's', 'u', 'b', 'd', 'o', 'm', 'a', 'i', 'n', 's', ' ', '(', 'i', 'n', ' ', 'A', 'p', 'a', 'c', 'h', 'e', ')', '\\t', 'H', 'o', 'w', ' ', 't', 'o', ' ', 'm', 'u', 'l', 't', 'i', 't', 'h', 'r', 'e', 'a', 'd', ' ', 'm', 'y', ' ', 'f', 'o', 'r', ' ', 'l', 'o', 'o', 'p', ' ', 'i', 'n', ' ', 'P', 'y', 't', 'h', 'o', 'n', '\\t', 'H', 'o', 'w', ' ', 't', 'o', ' ', 'g', 'e', 't', ' ', 'r', 'e', 'c', 'y', 'c', 'l', 'e', 'r', ' ', 'v', 'i', 'e', 'w', ' ', 'l', 'i', 's', 't', ' ', 'i', 't', 'e', 'm', ' ', 'c', 'o', 'u', 'n', 't', ' ', 'u', 's', 'i', 'n', 'g', ' ', 'E', 's', 'p', 'r', 'e', 's', 's', 'o', '\\t', 'H', 'o', 'w', ' ', 't', 'o', ' ', 'P', 'I', 'V', 'O', 'T', ' ', 'a', 'n', 'd', ' ', 'c', 'a', 'l', 'c', 'u', 'l', 'a', 't', 'i', 'n', 'g', ' ', 'c', 'o', 'l', 'u', 'm', 'n', ' ', 'a', 'v', 'e', 'r', 'a', 'g', 'e', '\\t', 'F', 'a', 's', 't', 'e', 's', 't', ' ', 'w', 'a', 'y', ' ', 't', 'o', ' ', 's', 'e', 'p', 'a', 'r', 'a', 't', 'e', ' ', 't', 'h', 'e', ' ', 'd', 'i', 'g', 'i', 't', 's', ' ', 'o', 'f', ' ', 'a', 'n', ' ', 'i', 'n', 't', ' ', 'i', 'n', 't', 'o', ' ', 'a', 'n', ' ', 'a', 'r', 'r', 'a', 'y', ' ', 'i', 'n', ' ', '.', 'N', 'E', 'T', '?', '\\t', 'E', 's', 'c', 'a', 'p', 'i', 'n', 'g', ' ', 's', 'p', 'e', 'c', 'i', 'a', 'l', ' ', 'c', 'h', 'a', 'r', 'a', 'c', 't', 'e', 'r', 's', ' ', 'i', 'n', ' ', 'S', 'p', 'h', 'i', 'n', 'x', 'S', 'E', '\\t', 'I', 'm', 'p', 'o', 'r', 't', 'i', 'n', 'g', ' ', 's', 'q', 'l', 'i', 't', 'e', ' ', 'f', 'i', 'l', 'e', ' ', 'i', 'n', 't', 'o', ' ', 'r', '\\t', 'S', 'o', 'r', 't', ' ', 'o', 'r', 'd', 'e', 'r', ' ', 'o', 'f', ' ', 'r', 'e', 'l', 'a', 't', 'e', 'd', ' ', 'p', 'r', 'o', 'd', 'u', 'c', 't', 's', ' ', 'n', 'o', 't', ' ', 'w', 'o', 'r', 'k', 'i', 'n', 'g', ' ', 'i', 'n', ' ', 'M', 'a', 'g', 'e', 'n', 't', 'o', ' ', '1', '.', '6', '\\t', 'D', 'i', 's', 'p', 'l', 'a', 'y', ' ', '4', '0', '4', ' ', 'n', 'o', 't', ' ', 'f', 'o', 'u', 'n', 'd', ' ', 't', 'e', 'm', 'p', 'l', 'a', 't', 'e', ' ', 'f', 'o', 'r', ' ', \"'\", 's', 'l', 'u', 'g', 's', \"'\", ' ', 'w', 'h', 'e', 'n', ' ', 'p', 'u', 'b', 'l', 'i', 'c', 'a', 't', 'i', 'o', 'n', ' ', 'r', 'e', 't', 'u', 'r', 'n', 's', ' ', 'e', 'm', 'p', 't', 'y', ' ', 'c', 'u', 'r', 's', 'o', 'r', ' ', '-', ' ', 'M', 'e', 't', 'e', 'o', 'r', ' ', '-', ' ', 'i', 'r', 'o', 'n', '-', 'r', 'o', 'u', 't', 'e', 'r', '\\t', 'I', 's', ' ', 't', 'h', 'e', 'r', 'e', ' ', 'a', ' ', 'w', 'a', 'y', ' ', 't', 'o', ' ', 't', 'e', 'l', 'l', ' ', 'i', 'f', ' ', 'a', 'n', ' ', 'o', 'b', 'j', 'e', 'c', 't', ' ', 'h', 'a', 's', ' ', 'i', 'm', 'p', 'l', 'e', 'm', 'e', 'n', 't', 'e', 'd', ' ', 'T', 'o', 'S', 't', 'r', 'i', 'n', 'g', ' ', 'e', 'x', 'p', 'l', 'i', 'c', 'i', 't', 'l', 'y', ' ', 'i', 'n', ' ', 'c', '#', '\\t', 'V', 'F', 'S', ':', ' ', 'f', 'i', 'l', 'e', '-', 'm', 'a', 'x', ' ', 'l', 'i', 'm', 'i', 't', ' ', '1', '2', '3', '1', '5', '8', '2', ' ', 'r', 'e', 'a', 'c', 'h', 'e', 'd', '\\t', 'P', 'l', 'a', 'y', ' ', '2', '.', '2', ' ', 'E', 's', 's', 'e', 'n', 't', 'i', 'a', 'l', 'A', 'c', 't', 'i', 'o', 'n', ' ', 'W', 'i', 't', 'h', ' ', 'F', 'u', 't', 'u', 'r', 'e', 's', '\\t', 'A', 'p', 'p', 'B', 'a', 'r', 'L', 'a', 'y', 'o', 'u', 't', ' ', '/', ' ', 'C', 'o', 'l', 'l', 'a', 'p', 's', 'i', 'n', 'g', 'T', 'o', 'o', 'l', 'b', 'a', 'r', 'L', 'a', 'y', 'o', 'u', 't', ' ', 'e', 'x', 'p', 'a', 'n', 'd', 's', ' ', 'i', 'n', 'd', 'e', 'f', 'i', 'n', 'i', 't', 'e', 'l', 'y', '\\t', 'h', 'o', 'w', ' ', 't', 'o', ' ', 'd', 'e', 's', 'e', 'l', 'e', 'c', 't', ' ', 'a', 'l', 'l', ' ', 'R', 'a', 'd', 'i', 'o', ' ', 'B', 'u', 't', 't', 'o', 'n', ' ', 'i', 'n', ' ', 'R', 'a', 'd', 'i', 'o', ' ', 'B', 'u', 't', 't', 'o', 'n', 'G', 'r', 'o', 'u', 'p', ' ', 'o', 'n', ' ', 'b', 'u', 't', 't', 'o', 'n', ' ', 'c', 'l', 'i', 'c', 'k', ' ', 'i', 'n', ' ', 'f', 'l', 'a', 's', 'h', ' ', 'a', 's', '3', '?', '\\t', 'n', 'u', 'm', 'p', 'y', ' ', 'a', 'r', 'r', 'a', 'y', ' ', 'c', 'r', 'e', 'a', 't', 'i', 'n', 'g', ' ', 'w', 'i', 't', 'h', ' ', 'a', ' ', 's', 'e', 'q', 'u', 'e', 'n', 'c', 'e', '\\t', 'S', 'e', 'd', ':', ' ', 'M', 'a', 't', 'c', 'h', 'i', 'n', 'g', ' ', 'w', 'o', 'r', 'd', 's', ' ', 'w', 'i', 't', 'h', ' ', 'a', 'n', 'y', ' ', 'p', 'e', 'r', 'm', 'u', 't', 'a', 't', 'i', 'o', 'n', ' ', 'o', 'f', ' ', 't', 'w', 'o', ' ', 'c', 'h', 'a', 'r', 'a', 'c', 't', 'e', 'r', 's', '\\t', 'M', 'a', 'k', 'e', ' ', 'C', 'h', 'i', 'l', 'd', ' ', 'e', 'l', 'e', 'm', 'e', 'n', 't', ' ', 'a', 'p', 'p', 'e', 'a', 'r', ' ', 'o', 'u', 't', 's', 'i', 'd', 'e', ' ', 'o', 'f', ' ', 'p', 'a', 'r', 'e', 'n', 't', '\\t', 'M', 'o', 'b', 'i', 'l', 'e', 'P', 'i', 'n', ' ', 'c', 'r', 'e', 'a', 't', 'e', 'u', 's', 'e', 'r', 'w', 'i', 'z', 'a', 'r', 'd', ' ', 'd', 'o', 'e', 's', 'n', \"'\", 't', ' ', 'w', 'o', 'r', 'k', '?', '\\t', 'F', 'i', 't', ' ', 'I', 'm', 'a', 'g', 'e', ' ', 'i', 'n', ' ', 'c', 'a', 'n', 'v', 'a', 's', ' ', 'u', 's', 'i', 'n', 'g', ' ', 'W', 'P', 'F', '\\t', 'A', 'd', 'd', 'i', 'n', 'g', ' ', 'a', ' ', 'f', 'o', 'n', 't', 'a', 'w', 'e', 's', 'o', 'm', 'e', ' ', 'i', 'c', 'o', 'n', ' ', 'w', 'i', 't', 'h', ' ', 'b', 'o', 'r', 'd', 'e', 'r', ' ', 'i', 'n', 't', 'o', ' ', 'f', 'o', 'r', 'm', ' ', 'i', 'n', 'p', 'u', 't', '\\t', 'f', 'i', 'n', 'd', 'i', 'n', 'g', ' ', 'p', 'i', 'x', 'e', 'l', ' ', 'l', 'o', 'c', 'a', 't', 'i', 'o', 'n', ' ', 'o', 'f', ' ', 'L', 'i', 's', 't', 'v', 'i', 'e', 'w', ' ', 'i', 't', 'e', 'm', ' ', 's', 'e', 'e', 'm', 's', ' ', 't', 'o', ' ', 'r', 'e', 't', 'u', 'r', 'n', ' ', 'w', 'r', 'o', 'n', 'g', ' ', 'v', 'a', 'l', 'u', 'e', '\\t', 's', 'a', 'i', 'l', 's', ' ', '0', '.', '9', '.', '8', ' ', 'n', 'o', 't', ' ', 'w', 'o', 'r', 'k', ',', ' ', 'w', 'h', 'e', 'n', ' ', 'c', 'r', 'e', 'a', 't', 'e', 'd', ' ', 'c', 'o', 'n', 't', 'r', 'o', 'l', 'l', 'e', 'r', ' ', 'a', 'n', 'd', ' ', 'l', 'i', 'f', 't', ' ', 'i', 't', '\\t', 'L', 'a', 'r', 'a', 'v', 'e', ' ', 'F', 'i', 'l', 'e', ' ', 'n', 'o', 't', ' ', 'f', 'o', 'u', 'n', 'd', ' ', 'a', 't', ' ', 'p', 'a', 't', 'h', ' ', 'b', 'u', 't', ' ', 'i', 't', ' ', 'd', 'o', 'e', 's', ' ', 'e', 'x', 'i', 's', 't', '\\t', 'R', 'e', 'q', 'u', 'i', 'r', 'e', 'd', 'F', 'i', 'e', 'l', 'd', 'V', 'a', 'l', 'i', 'd', 'a', 't', 'o', 'r', ' ', 'c', 'a', 'u', 's', 'e', 's', ' ', 'v', 'a', 'l', 'i', 'd', 'a', 't', 'i', 'o', 'n', ' ', 'o', 'n', ' ', 'S', 'e', 'r', 'v', 'e', 'r', ' ', 'e', 'v', 'e', 'n', ' ', 'i', 'f', ' ', 'v', 'a', 'l', 'i', 'd', 'a', 't', 'o', 'r', ' ', 'i', 's', ' ', 'd', 'i', 's', 'a', 'b', 'l', 'e', 'd', '(', 'C', 'a', 'u', 's', 'e', 's', 'V', 'a', 'l', 'i', 'd', 'a', 't', 'i', 'o', 'n', '=', '\"', 'f', 'a', 'l', 's', 'e', '\"', ')', '\\t', 'R', 'e', 't', 'r', 'i', 'e', 'v', 'i', 'n', 'g', ' ', 'H', 'T', 'M', 'L', ' ', 'c', 'o', 'n', 't', 'e', 'n', 't', ' ', 'f', 'r', 'o', 'm', ' ', 'a', ' ', 'p', 'a', 'g', 'e', ' ', 'r', 'e', 'q', 'u', 'i', 'r', 'i', 'n', 'g', ' ', 'a', 'u', 't', 'h', 'e', 'n', 't', 'i', 'c', 'a', 't', 'i', 'o', 'n', ' ', 'u', 's', 'i', 'n', 'g', ' ', 'P', 'H', 'P', '\\t', 'H', 'o', 'w', ' ', 't', 'o', ' ', 'g', 'e', 'n', 'e', 'r', 'a', 't', 'e', ' ', 'l', 'i', 'n', 'k', 'e', 'd', '-', 'a', 'x', 'i', 's', ' ', 'i', 'n', ' ', 'm', 'a', 't', 'p', 'l', 'o', 't', 'l', 'i', 'b', '\\t', 'P', 'r', 'i', 'n', 't', ' ', '%', ' ', 's', 'i', 'g', 'n', ' ', 'w', 'i', 't', 'h', ' ', 's', 't', 'r', 'i', 'n', 'g', ' ', 'f', 'o', 'r', 'm', 'a', 't', 't', 'i', 'n', 'g', '\\t', 'H', 'o', 'w', ' ', 't', 'o', ' ', 'c', 'a', 'l', 'c', 'u', 'l', 'a', 't', 'e', ' ', 't', 'h', 'e', ' ', 'd', 'i', 'm', 'e', 'n', 's', 'i', 'o', 'n', 's', ' ', 'o', 'f', ' ', 't', 'h', 'e', ' ', 'm', 'o', 'n', 'i', 't', 'o', 'r', ' ', 'i', 'n', ' ', 'P', 'y', 'Q', 't', '4', '/', 'W', 'i', 'n', 'd', 'o', 'w', 's', '/', 'L', 'i', 'n', 'u', 'x', '?', '\\t', 'V', 'B', 'A', ' ', 'O', 'u', 't', 'l', 'o', 'o', 'k', ' ', '2', '0', '1', '0', ' ', 'r', 'e', 't', 'r', 'i', 'e', 'v', 'i', 'n', 'g', ' ', 'i', 'n', 'f', 'o', 'r', 'm', 'a', 't', 'i', 'o', 'n', ' ', 'f', 'r', 'o', 'm', ' ', 'A', 'c', 't', 'i', 'v', 'e', ' ', 'D', 'i', 'r', 'e', 'c', 't', 'o', 'r', 'y', '\\t', 'M', 'o', 'd', 'i', 'f', 'y', 'i', 'n', 'g', ' ', 'b', 'o', 'o', 't', 's', 't', 'r', 'a', 'p', ' ', 't', 'h', 'u', 'm', 'b', 'n', 'a', 'i', 'l', 's', '\\t', 'A', 'S', 'P', '.', 'N', 'e', 't', ':', ' ', 'W', 'h', 'a', 't', \"'\", 's', ' ', 'k', 'e', 'e', 'p', 'i', 'n', 'g', ' ', 'o', 'l', 'd', ' ', 'A', 'p', 'p', 'D', 'o', 'm', 'a', 'i', 'n', 's', ' ', 'a', 'l', 'i', 'v', 'e', '?', '\\t', 'A', ' ', 'l', 'i', 'b', 'r', 'a', 'r', 'y', ' ', 'u', 's', 'e', 's', ' ', 't', 'h', 'e', ' ', 's', 'a', 'm', 'e', ' ', 'p', 'a', 'c', 'k', 'a', 'g', 'e', ' ', 'a', 's', ' ', 't', 'h', 'i', 's', ' ', 'p', 'r', 'o', 'j', 'e', 'c', 't', ' ', 'a', 'f', 't', 'e', 'r', ' ', 'i', 'm', 'p', 'o', 'r', 't', 'i', 'n', 'g', ' ', 'F', 'a', 'c', 'e', 'b', 'o', 'o', 'k', ' ', 'S', 'D', 'K', '\\t', 'U', 'n', 'a', 'b', 'l', 'e', ' ', 't', 'o', ' ', 'r', 'u', 'n', ' ', 'c', 'o', 'm', 'p', 'i', 'l', 'e', 'd', ' ', '.', 'c', 'l', 'a', 's', 's', 'e', 's', ' ', 'f', 'r', 'o', 'm', ' ', 't', 'h', 'e', ' ', 'c', 'o', 'm', 'm', 'a', 'n', 'd', ' ', 'l', 'i', 'n', 'e', '\\t', 'I', 's', ' ', 'i', 't', ' ', 'p', 'o', 's', 's', 'i', 'b', 'l', 'e', ' ', 't', 'o', ' ', 'p', 'a', 'r', 't', 'i', 'a', 'l', 'l', 'y', ' ', 'd', 'e', 'c', 'o', 'd', 'e', ' ', 'a', 'n', 'd', ' ', 'u', 'p', 'd', 'a', 't', 'e', ' ', 'J', 'S', 'O', 'N', '?', ' ', '(', 'g', 'o', ')', '\\t', 'H', 'o', 'w', ' ', 't', 'o', ' ', 'u', 's', 'e', ' ', 'A', 'p', 'a', 'c', 'h', 'e', '-', 'C', 'o', 'm', 'm', 'o', 'n', 's', ' ', 'D', 'B', 'C', 'P', ' ', 'w', 'i', 't', 'h', ' ', 'E', 'c', 'l', 'i', 'p', 's', 'e', 'L', 'i', 'n', 'k', ' ', 'J', 'P', 'A', ' ', 'a', 'n', 'd', ' ', 'T', 'o', 'm', 'c', 'a', 't', ' ', '7', '.', 'x', '\\t', 'H', 'o', 'w', ' ', 't', 'o', ' ', 'd', 'o', ' ', 'b', 'a', 't', 'c', 'h', ' ', 'g', 'e', 'o', 'c', 'o', 'd', 'i', 'n', 'g', ' ', 'u', 's', 'i', 'n', 'g', ' ', 'g', 'o', 'o', 'g', 'l', 'e', '-', 'm', 'a', 'p', 's', '-', 's', 'e', 'r', 'v', 'i', 'c', 'e', 's', '-', 'j', 'a', 'v', 'a', '\\t', 'I', 'n', 's', 'e', 'r', 't', 'i', 'n', 'g', ' ', 'a', 'n', ' ', 'i', 'm', 'g', ' ', 'i', 'n', 't', 'o', ' ', 'a', ' ', 't', 'e', 'x', 't', ' ', 'f', 'i', 'e', 'l', 'd', ' ', '(', 'h', 't', 'm', 'l', ',', ' ', 'c', 's', 's', ')', '\\t', 'N', 'o', 'C', 'l', 'a', 's', 's', 'D', 'e', 'f', 'F', 'o', 'u', 'n', 'd', 'E', 'r', 'r', 'o', 'r', ' ', 'd', 'u', 'r', 'i', 'n', 'g', ' ', 'T', 'o', 'm', 'c', 'a', 't', ' ', 'g', 'r', 'a', 'c', 'e', 'f', 'u', 'l', ' ', 's', 'h', 'u', 't', 'd', 'o', 'w', 'n', '\\t', 'I', 'n', 'd', 'e', 's', 'i', 'g', 'n', ' ', '(', 'I', 'D', 'M', 'L', ' ', 'f', 'i', 'l', 'e', ')', ' ', 'A', 'u', 't', 'o', 'm', 'a', 't', 'i', 'o', 'n', ' ', 'u', 's', 'i', 'n', 'g', ' ', 'H', 'T', 'M', 'L', '5', ' ', 'a', 'n', 'd', ' ', 'J', 'a', 'v', 'a', 's', 'c', 'r', 'i', 'p', 't', '\\t', 'W', 'r', 'i', 't', 'i', 'n', 'g', ' ', 't', 'o', ' ', 't', 'h', 'e', ' ', 'O', 'b', 'j', 'e', 'c', 't', 'O', 'u', 't', 'p', 'u', 't', 'S', 't', 'r', 'e', 'a', 'm', ' ', 'a', 'n', 'd', ' ', 'g', 'e', 't', 't', 'i', 'n', 'g', ' ', 'r', 'u', 'b', 'b', 'i', 's', 'h', ' ', 'b', 'a', 'c', 'k', '\\t', 'H', 'o', 'w', ' ', 'd', 'o', ' ', 'I', ' ', 's', 't', 'o', 'p', ' ', 'm', 'd', '-', 'c', 'a', 'r', 'd', 's', ' ', 'f', 'r', 'o', 'm', ' ', 's', 't', 'r', 'e', 't', 'c', 'h', 'i', 'n', 'g', ' ', 'i', 'm', 'a', 'g', 'e', 's', ' ', 't', 'o', ' ', 'f', 'u', 'l', 'l', ' ', 'v', 'e', 'r', 't', 'i', 'c', 'a', 'l', ' ', 'h', 'e', 'i', 'g', 'h', 't', '?', '\\t', 'S', 'Q', 'L', ',', ' ', 'm', 'i', 's', 's', 'i', 'n', 'g', ' ', 'e', 'n', 'd', ',', ' ', 'b', 'u', 't', ' ', 'w', 'h', 'y', '?', '\\t', 'S', 'E', 'D', ' ', '-', ' ', 'S', 'e', 'a', 'r', 'c', 'h', ' ', 't', 'w', 'o', ' ', 'p', 'a', 't', 't', 'e', 'r', 'n', ' ', 'i', 'n', ' ', 'a', ' ', 'l', 'i', 'n', 'e', ' ', 'a', 'n', 'd', ' ', 'i', 'n', 's', 'e', 'r', 't', ' ', 'f', 'e', 'w', ' ', 'w', 'o', 'r', 'd', ' ', 'a', 't', ' ', 't', 'h', 'e', ' ', 'e', 'n', 'd', ' ', 'o', 'f', ' ', 't', 'h', 'e', ' ', 'l', 'i', 'n', 'e', ' ', 'i', 'f', ' ', 'p', 'a', 't', 't', 'e', 'r', 'n', ' ', 'm', 'a', 't', 'c', 'h', ' ', 'i', 's', ' ', 'f', 'o', 'u', 'n', 'd', '\\t', 'H', 'o', 'w', ' ', 't', 'o', ' ', 'c', 'o', 'n', 'f', 'i', 'g', 'u', 'r', 'e', ' ', '&', ' ', 'r', 'u', 'n', ' ', 'm', 'u', 'l', 't', 'i', 'p', 'l', 'e', ' ', 'w', 'e', 'b', 's', 'i', 't', 'e', 's', ' ', 'w', 'i', 't', 'h', ' ', 'r', 'e', 's', 'p', 'e', 'c', 't', 'i', 'v', 'e', ' ', 'd', 'a', 't', 'a', 'b', 'a', 's', 'e', 's', ' ', 'w', 'i', 't', 'h', ' ', 's', 'i', 'n', 'g', 'l', 'e', ' ', 'L', 'a', 'r', 'a', 'v', 'e', 'l', ' ', 'c', 'o', 'd', 'e', ' ', 'i', 'n', 's', 't', 'a', 'n', 'c', 'e', '\\t', 't', 'h', 'r', 'e', 'e', '.', 'j', 's', ' ', 'C', 'a', 'n', 'v', 'a', 's', 'R', 'e', 'n', 'd', 'e', 'r', 'e', 'r', ' ', '-', ' ', 's', 'e', 't', 't', 'i', 'n', 'g', ' ', 'i', 'n', 'i', 't', 'i', 'a', 'l', ' ', 'c', 'o', 'l', 'o', 'r', ' ', 'f', 'o', 'r', ' ', 'o', 'b', 'j', 'e', 'c', 't', ' ', 't', 'o', 'g', 'e', 't', 'h', 'e', 'r', ' ', 'w', 'i', 't', 'h', ' ', 't', 'r', 'a', 'n', 's', 'p', 'a', 'r', 'e', 'n', 'c', 'y', ' ', 't', 'e', 'x', 't', 'u', 'r', 'e', 's', '\\t', 'I', 'H', 'T', 'M', 'L', 'D', 'o', 'c', 'u', 'm', 'e', 'n', 't', '2', ' ', '-', ' ', 'c', 'l', 'i', 'c', 'k', ' ', 'b', 'u', 't', 't', 'o', 'n', ' ', 'i', 'n', 's', 'i', 'd', 'e', ' ', 'i', 'f', 'r', 'a', 'm', 'e', '\\t', 'R', 'e', 's', 'o', 'u', 'r', 'c', 'e', ' ', '1', ' ', 'w', 'o', 'r', 'k', 's', ',', ' ', '2', ' ', 'd', 'o', 'e', 's', 'n', \"'\", 't', '\\t', 'h', 'o', 'w', ' ', 't', 'o', ' ', 's', 'h', 'o', 'w', ' ', 'a', 'n', ' ', 'i', 'm', 'a', 'g', 'e', ' ', 'i', 'n', ' ', 'a', 'n', ' ', 'i', 'm', 'a', 'g', 'e', ' ', 'f', 'i', 'e', 'l', 'd', ' ', 'b', 'y', ' ', 'a', ' ', 'b', 'u', 't', 't', 'o', 'n', ' ', 'c', 'l', 'i', 'c', 'k', ' ', 'e', 'v', 'e', 'n', 't', ' ', 'i', 'n', ' ', 'c', '#', ' ', 'a', 's', 'p', '.', 'n', 'e', 't', '\\t', 'H', 'o', 'w', ' ', 't', 'o', ' ', 'u', 's', 'e', ' ', 't', 'h', 'i', 's', ' ', 'f', 'o', 'r', ' ', 'k', 'i', 'l', 'l', 'i', 'n', 'g', ' ', 'a', 'r', 'r', 'a', 'y', ' ', 'o', 'f', ' ', 't', 'h', 'r', 'e', 'a', 'd', 's', '?', '\\t', 'M', 'V', 'C', ' ', 's', 'c', 'a', 'f', 'f', 'o', 'l', 'd', 'i', 'n', 'g', ' ', 'd', 'o', 'e', 's', ' ', 'n', 'o', 't', ' ', 's', 'u', 'p', 'p', 'o', 'r', 't', ' ', 'E', 'n', 't', 'i', 't', 'y', ' ', 'F', 'r', 'a', 'm', 'e', 'w', 'o', 'r', 'k', ' ', '6', ' ', 'o', 'r', ' ', 'l', 'a', 't', 'e', 'r', '\\t', 'P', 'a', 'r', 's', 'e', ' ', 'e', 'r', 'r', 'o', 'r', ' ', 'u', 's', 'i', 'n', 'g', ' ', 'R', 'e', 'm', 'o', 't', 'i', 'p', 'a', 'r', 't', '\\t', 'J', 'A', 'V', 'A', ' ', 'J', 'A', 'X', '-', 'W', 'S', ' ', 'D', 'e', 'p', 'l', 'o', 'y', 'm', 'e', 'n', 't', ' ', '(', 'J', 'A', 'V', 'A', ' ', 'E', 'c', 'l', 'i', 'p', 's', 'e', ' ', 'E', 'E', ' ', 'I', 'D', 'E', ')', '\\t', 'k', 'a', 'm', 'i', 'n', 'a', 'r', 'i', ' ', 'a', 'n', 'd', ' ', 'o', 'r', 'd', 'e', 'r', '_', 'b', 'y', '\\t', 'm', 'u', 'l', 't', 'i', 's', 'a', 'm', 'p', 'l', 'i', 'n', 'g', ' ', 'a', 'n', 'd', ' ', 'f', 'r', 'a', 'g', 'm', 'e', 'n', 't', ' ', 's', 'h', 'a', 'd', 'e', 'r', '\\t', 'C', ' ', 'p', 'r', 'o', 'g', 'r', 'a', 'm', '-', ' ', 'c', 'h', 'a', 'n', 'g', 'e', ' ', 'c', 'h', 'a', 'r', ' ', 'o', 'r', 'd', 'e', 'r', ' ', 'i', 'n', ' ', 's', 'e', 'n', 't', 'e', 'n', 'c', 'e', '\\t', 'H', 'o', 'w', ' ', 't', 'o', ' ', 'r', 'e', 'l', 'o', 'a', 'd', ' ', 'a', 'n', ' ', 'I', 'F', 'r', 'a', 'm', 'e', ' ', 'e', 'v', 'e', 'r', 'y', ' ', 'x', ' ', 's', 'e', 'c', 'o', 'n', 'd', 's', '?', '\\t', 'E', 'F', '6', ' ', 't', 'a', 'b', 'l', 'e', ' ', 'p', 'e', 'r', ' ', 'h', 'i', 'e', 'r', 'a', 'r', 'c', 'h', 'y', ',', ' ', 'w', 'i', 't', 'h', ' ', 'u', 'n', 'i', 'q', 'u', 'e', ' ', 'i', 'n', 'd', 'e', 'x', ' ', 'o', 'n', ' ', 'd', 'e', 'r', 'i', 'v', 'e', 'd', ' ', 'p', 'r', 'o', 'p', 'e', 'r', 't', 'y', '\\t', 'S', 'h', 'e', 'l', 'l', ' ', 'S', 'c', 'r', 'i', 'p', 't', ' ', 't', 'o', ' ', 'a', 'd', 'd', ' ', 'e', 'x', 't', 'e', 'n', 's', 'i', 'o', 'n', ' ', 'o', 'n', ' ', 'f', 'i', 'l', 'e', ' ', 'a', 'n', 'd', ' ', 'd', 'i', 'r', 'e', 'c', 't', 'o', 'r', 'y', '\\t', 'A', 'b', 's', 'o', 'l', 'u', 't', 'e', ' ', 'b', 'e', 'g', 'i', 'n', 'n', 'e', 'r', 's', ' ', 'g', 'u', 'i', 'd', 'e', ' ', 't', 'o', ' ', 'w', 'o', 'r', 'k', 'i', 'n', 'g', ' ', 'w', 'i', 't', 'h', ' ', 'a', 'u', 'd', 'i', 'o', ' ', 'i', 'n', ' ', 'C', '/', 'C', '+', '+', '?', '\\t', 'E', 'x', 't', 'r', 'a', 'c', 't', ' ', 'p', 'a', 'r', 't', ' ', 'o', 'f', ' ', 's', 't', 'r', 'i', 'n', 'g', '\\t', 's', 't', 'o', 'p', 'p', 'i', 'n', 'g', ' ', 't', 'o', 'a', 's', 't', ' ', 'a', 'n', 'd', 'r', 'o', 'i', 'd', ' ', 'i', 'n', ' ', 'o', 't', 'h', 'e', 'r', ' ', 'a', 'c', 't', 'v', 'i', 't', 'y', '\\t', 'C', 'l', 'i', 'e', 'n', 't', '-', 's', 'i', 'd', 'e', ' ', 'S', 'S', 'L', ' ', 'n', 'o', 't', ' ', 'w', 'o', 'r', 'k', 'i', 'n', 'g', ' ', 'w', 'i', 't', 'h', ' ', 'A', 'W', 'S', ' ', 'A', 'P', 'I', ' ', 'G', 'a', 't', 'e', 'w', 'a', 'y', '\\t', 'T', 'o', 'p', ' ', 'L', 'e', 'f', 't', ' ', 'M', 'e', 'n', 'u', ' ', 'B', 'a', 'r', ' ', 'I', 's', ' ', 'F', 'r', 'o', 'z', 'e', 'n', ' ', 'w', 'h', 'e', 'n', ' ', 'M', 'a', 'i', 'n', ' ', 'W', 'i', 'n', 'd', 'o', 'w', ' ', 'S', 'h', 'o', 'w', 's', ' ', 'U', 'p', '\\t', 'C', 'a', 't', 'e', 'g', 'o', 'r', 'y', ' ', 'A', 'x', 'i', 's', ' ', 'L', 'a', 'b', 'e', 'l', ' ', 'A', 'l', 'i', 'g', 'n', 'm', 'e', 'n', 't', ' ', 'f', 'o', 'r', ' ', 'M', 'u', 'l', 't', 'i', ' ', 'S', 'e', 'r', 'i', 'e', 's', ' ', 'b', 'a', 'r', ' ', 'c', 'h', 'a', 'r', 't', ' ', 'i', 'n', ' ', 'J', 'A', 's', 'p', 'e', 'r', '\\t', 'I', 'n', 'v', 'a', 'l', 'i', 'd', ' ', 'L', 'a', 'b', 'e', 'l', ' ', '-', ' ', 'j', 'Q', 'u', 'e', 'r', 'y', ' ', 'A', 'j', 'a', 'x', '/', 'J', 's', 'o', 'n', ' ', 'r', 'e', 'q', 'u', 'e', 's', 't', '\\t', 'O', 'p', 't', 'i', 'm', 'i', 'z', 'i', 'n', 'g', ' ', 'H', 'a', 's', 'k', 'e', 'l', 'l', ' ', 'R', 'e', 'c', 'u', 'r', 's', 'i', 'v', 'e', ' ', 'L', 'i', 's', 't', 's', '\\t', 'S', 'y', 'm', 'f', 'o', 'n', 'y', '3', ':', ' ', 'S', 'e', 'r', 'v', 'i', 'c', 'e', ' ', 'n', 'o', 't', ' ', 'a', 'b', 'l', 'e', ' ', 't', 'o', ' ', 'g', 'e', 't', ' ', 'a', 'r', 'g', 'u', 'm', 'e', 'n', 't', 's', '\\t', 'R', 'e', 'v', 'e', 'r', 's', 'e', ' ', 'G', 'e', 'o', 'c', 'o', 'd', 'i', 'n', 'g', ' ', 'n', 'o', 't', ' ', 'd', 'i', 's', 'p', 'l', 'a', 'y', 'i', 'n', 'g', ' ', 'i', 'n', 'f', 'o', ' ', 'w', 'i', 'n', 'd', 'o', 'w', ' ', 'o', 'n', ' ', 'm', 'a', 'r', 'k', 'e', 'r', 's', ' ', 'w', 'h', 'e', 'n', ' ', 'c', 'l', 'i', 'c', 'k', 'e', 'd', '\\t', 'H', 'o', 'w', ' ', 't', 'o', ' ', 'r', 'e', 's', 't', 'r', 'i', 'c', 't', ' ', 'b', 'a', 'c', 'k', 'g', 'r', 'o', 'u', 'n', 'd', ' ', 'c', 'l', 'i', 'c', 'k', ' ', 'i', 'n', ' ', 'I', 'o', 'n', 'i', 'c', ' ', 'c', 'o', 'n', 'f', 'i', 'r', 'm', 'a', 't', 'i', 'o', 'n', ' ', 'p', 'o', 'p', 'u', 'p', '\\t', 'h', 'o', 'w', ' ', 't', 'o', ' ', 'u', 's', 'e', ' ', 'C', 'S', 'P', 'A', 'R', 'Q', 'L', '-', 'R', 'e', 'a', 'd', 'y', 'T', 'o', 'G', 'o', 'P', 'a', 'c', 'k', '-', '0', '.', '9', ' ', 'i', 'n', ' ', 'a', ' ', 'S', 'B', 'T', ' ', 'p', 'r', 'o', 'j', 'e', 'c', 't', '\\t', 'H', 'o', 'w', ' ', 't', 'o', ' ', 's', 'o', 'r', 't', ' ', 'U', 'T', 'F', '-', '8', ' ', 'l', 'i', 'n', 'e', 's', ' ', 'i', 'n', ' ', 'V', 'i', 'm', '?', '\\t', 'H', 'o', 'w', ' ', 't', 'o', ' ', 'h', 'a', 'n', 'd', 'l', 'e', ' ', 'N', 'o', 't', 'F', 'o', 'u', 'n', 'd', 'E', 'x', 'c', 'e', 'p', 't', 'i', 'o', 'n', ' ', 'e', 'l', 'e', 'g', 'a', 'n', 't', 'l', 'y', ' ', 'i', 'n', ' ', 'N', 'e', 'o', '4', 'j', ' ', '2', '.', '0', '?', '\\t', 'D', 'o', 'w', 'n', 'l', 'o', 'a', 'd', ' ', 'm', 'u', 'l', 't', 'i', 'p', 'l', 'e', ' ', 'f', 'i', 'l', 'e', 's', ' ', 's', 'i', 'm', 'u', 'l', 't', 'a', 'n', 'e', 'o', 'u', 's', 'l', 'y', ' ', 'w', 'i', 't', 'h', ' ', 'P', 'H', 'P', ' ', '-', ' ', 'F', 'o', 'r', 'k', 'i', 'n', 'g', ',', ' ', 'S', 'o', 'c', 'k', 'e', 't', 's', '\\t', 'S', 'u', 'b', 'm', 'i', 't', ' ', 'f', 'o', 'r', 'm', ' ', 'o', 'n', ' ', 'o', 'n', 'e', ' ', 's', 'e', 'r', 'v', 'e', 'r', ',', ' ', 'p', 'r', 'o', 'c', 'e', 's', 's', ' ', 'i', 't', ' ', 'a', 'n', 'd', ' ', 't', 'h', 'e', 'n', ' ', 'p', 'o', 's', 't', ' ', 'r', 'e', 's', 'u', 'l', 't', 's', ' ', 't', 'o', ' ', 'a', 'n', 'o', 't', 'h', 'e', 'r', ' ', 'd', 'o', 'm', 'a', 'i', 'n', '\\t', 'F', 'l', 'y', 'w', 'a', 'y', ' ', 'M', 'y', 's', 'q', 'l', ' ', 'm', 'u', 'l', 't', 'i', 'l', 'i', 'n', 'e', ' ', 'c', 'o', 'm', 'm', 'e', 'n', 't', ' ', 'd', 'i', 'r', 'e', 'c', 't', 'i', 'v', 'e', ' ', 'n', 'o', 't', ' ', 'p', 'a', 'r', 's', 'e', 'd', '\\t', 'N', 'o', 'n', '-', 'B', 'l', 'o', 'c', 'k', 'i', 'n', 'g', ' ', 'F', 'i', 'l', 'e', ' ', 'R', 'e', 'a', 'd', 's', '\\t', 'O', 'R', 'A', 'C', 'L', 'E', ' ', 's', 'q', 'l', ' ', 'd', 'y', 'n', 'a', 'm', 'i', 'c', ' ', 'v', 'a', 'r', 'i', 'a', 'b', 'l', 'e', 's', ' ', 'i', 'n', ' ', 's', 't', 'o', 'r', 'e', 'd', ' ', 'p', 'r', 'o', 'c', 'e', 'd', 'u', 'r', 'e', '\\t', 'n', 'e', 's', 't', 'e', 'd', ' ', 'n', 'g', 'F', 'o', 'r', ' ', 'w', 'i', 't', 'h', ' ', 't', 'w', 'o', ' ', 'd', 'a', 't', 'a', ' ', 'c', 'l', 'a', 's', 's', 'e', 's', ' ', 'i', 'n', ' ', 'a', 'n', 'g', 'u', 'l', 'a', 'r', '2', '\\t', 'C', 'r', 'o', 's', 's', 'p', 'l', 'a', 't', 'f', 'o', 'r', 'm', ' ', 'w', 'e', 'b', 'v', 'i', 'e', 'w', ' ', 'i', 'n', ' ', 'Q', 't', '5', '.', '6', '\\t', 'S', 'e', 't', ' ', 't', 'h', 'e', ' ', 'd', 'e', 'f', 'a', 'u', 'l', 't', ' ', 'e', 'n', 'c', 'o', 'd', 'i', 'n', 'g', ' ', 't', 'o', ' ', 'U', 'T', 'F', '-', '8', ' ', 'f', 'o', 'r', ' ', 'a', 'l', 'l', ' ', 'J', 'S', 'P', 's', ' ', 'w', 'i', 't', 'h', 'o', 'u', 't', ' ', 'u', 's', 'i', 'n', 'g', ' ', '@', 'p', 'a', 'g', 'e', ' ', 'd', 'i', 'r', 'e', 'c', 't', 'i', 'v', 'e', 's', '\\t', 'X', 'S', 'L', 'T', ' ', 'c', 'r', 'e', 'a', 't', 'i', 'n', 'g', ' ', 'a', ' ', 't', 'a', 'b', 'l', 'e', ' ', 'w', 'i', 't', 'h', ' ', 'v', 'a', 'r', 'y', 'i', 'n', 'g', ' ', 'a', 'm', 'o', 'u', 'n', 't', ' ', 'o', 'f', ' ', 'c', 'o', 'l', 'u', 'm', 'n', 's', '\\t', 'h', 'o', 'w', ' ', 't', 'o', ' ', 's', 'e', 'n', 'd', ' ', 'e', 'm', 'a', 'i', 'l', ' ', 'w', 'i', 't', 'h', ' ', 'p', 'o', 'w', 'e', 'r', 's', 'h', 'e', 'l', 'l', '\\t', 'A', 's', 'y', 'n', 'c', 'h', 'r', 'o', 'n', 'o', 'u', 's', ' ', 'm', 'e', 't', 'h', 'o', 'd', ' ', 'u', 's', 'i', 'n', 'g', ' ', '.', 'R', 'e', 's', 'u', 'l', 't', '\\t', 'I', 's', ' ', 'J', 'E', 'N', 'K', 'I', 'N', 'S', ' ', 'E', 'x', 't', 'e', 'n', 's', 'i', 'b', 'l', 'e', ' ', 'C', 'h', 'o', 'i', 'c', 'e', ' ', 'P', 'a', 'r', 'a', 'm', 'e', 't', 'e', 'r', ' ', 'c', 'o', 'm', 'p', 'a', 't', 'i', 'b', 'l', 'e', ' ', 'w', 'i', 't', 'h', ' ', 'l', 'i', 'n', 'u', 'x', '?', '\\t', 'S', 't', 'a', 'r', 't', 'i', 'n', 'g', ' ', 'S', 'p', 'e', 'e', 'c', 'h', ' ', 'R', 'e', 'c', 'o', 'g', 'n', 'i', 't', 'i', 'o', 'n', ' ', 'w', 'i', 't', 'h', ' ', 'C', 'r', 'e', 'a', 't', 'e', 'P', 'r', 'o', 'c', 'e', 's', 's', '(', ')', ' ', 'i', 'n', ' ', 'C', '+', '+', '\\t', 'H', 'o', 'w', ' ', 'd', 'o', ' ', 'I', ' ', 'a', 'n', 'i', 'm', 'a', 't', 'e', ' ', 'a', 'd', 'd', 'i', 'n', 'g', ' ', 's', 'u', 'b', 'v', 'i', 'e', 'w', 's', '?', '\\t', 'H', 'o', 'w', ' ', 'c', 'a', 'n', ' ', 'I', ' ', 'c', 'h', 'a', 'n', 'g', 'e', ' ', 't', 'h', 'e', ' ', 'd', 'e', 'f', 'a', 'u', 'l', 't', ' ', 'f', 'o', 'n', 't', ' ', 'f', 'o', 'r', ' ', 'a', ' ', 'J', 'e', 'k', 'y', 'l', 'l', ' ', 'w', 'e', 'b', 's', 'i', 't', 'e', '\\t', 'I', 'm', 'p', 'o', 's', 's', 'i', 'b', 'l', 'e', ' ', 't', 'o', ' ', 'c', 'o', 'm', 'p', 'i', 'l', 'e', ' ', 'F', 'o', 'r', 't', 'r', 'a', 'n', ' ', 'c', 'o', 'd', 'e', ' ', 'w', 'i', 't', 'h', ' ', 'i', 'n', 'c', 'l', 'u', 'd', 'e', ' ', 's', 't', 'a', 't', 'e', 'm', 'e', 'n', 't', '\\t', 'L', 'a', 'z', 'y', ' ', 'l', 'o', 'a', 'd', 'i', 'n', 'g', ' ', 'i', 'm', 'a', 'g', 'e', 's', ' ', 'i', 'n', ' ', 'V', 'u', 'e', '/', 'L', 'a', 'r', 'a', 'v', 'e', 'l', '\\t', 'W', 'e', 'b', ' ', 'A', 'P', 'I', ' ', 'r', 'e', 'a', 'd', ' ', 'h', 'e', 'a', 'd', 'e', 'r', ' ', 'v', 'a', 'l', 'u', 'e', ' ', 'i', 'n', ' ', 'c', 'o', 'n', 't', 'r', 'o', 'l', 'l', 'e', 'r', ' ', 'c', 'o', 'n', 's', 't', 'r', 'u', 'c', 't', 'o', 'r', '\\t', 'A', 'n', 'd', 'r', 'o', 'i', 'd', ' ', 'w', 'e', 'a', 'r', ' ', 'W', 'e', 'a', 'r', 'a', 'b', 'l', 'e', 'L', 'i', 's', 't', 'V', 'i', 'e', 'w', ' ', 'I', 'm', 'a', 'g', 'e', 'V', 'i', 'e', 'w', ' ', 's', 'e', 'l', 'e', 'c', 't', 'o', 'r', '\\t', 'F', 'u', 'n', 'c', 't', 'i', 'o', 'n', ' ', 'p', 'a', 'c', 'k', '(', ')', ' ', 'r', 'e', 't', 'u', 'r', 'n', 's', ' ', '0', '\\t', 'I', 's', ' ', 'i', 't', ' ', 'p', 'o', 's', 's', 'i', 'b', 'l', 'e', ' ', 't', 'o', ' ', 'h', 'a', 'v', 'e', ' ', 'F', 'i', 'r', 'e', 'b', 'a', 's', 'e', ' ', 'a', 'u', 't', 'h', 'e', 'n', 't', 'i', 'c', 'a', 't', 'i', 'o', 'n', ' ', 'v', 'i', 'a', ' ', 'F', 'a', 'c', 'e', 'b', 'o', 'o', 'k', ' ', 'i', 'n', ' ', 'a', ' ', 'P', 'h', 'o', 'n', 'e', 'g', 'a', 'p', ' ', 'A', 'p', 'p', '?', '\\t', 'P', 'H', 'P', ' ', 'E', 'x', 'p', 'o', 'r', 't', ' ', 'M', 'y', 'S', 'Q', 'L', ' ', 't', 'o', ' ', 'C', 'S', 'V', ' ', '-', ' ', 'R', 'e', 's', 'u', 'l', 't', 's', ' ', 's', 'h', 'o', 'w', 'i', 'n', 'g', ' ', 'H', 'T', 'M', 'L', '\\t', 'H', 'o', 'w', ' ', 't', 'o', ' ', 'd', 'e', 't', 'e', 'c', 't', ' ', 'l', 'a', 'n', 'g', 'u', 'a', 'g', 'e', ' ', 'p', 'r', 'e', 'f', 'e', 'r', 'e', 'n', 'c', 'e', ' ', 'i', 'n', ' ', 'L', 'a', 'r', 'a', 'v', 'e', 'l', ' ', '5', '\\t', 'V', 'B', ' ', 'W', 'e', 'b', 'B', 'r', 'o', 'w', 's', 'e', 'r', ' ', 'c', 'l', 'i', 'c', 'k', ' ', 'b', 'u', 't', 't', 'o', 'n', '\\t', 'R', 'e', 'p', 'o', 'r', 't', 's', ' ', 'u', 's', 'i', 'n', 'g', ' ', 'j', 'a', 'v', 'a', ' ', 'c', 'o', 'l', 'l', 'e', 'c', 't', 'i', 'o', 'n', 's', '\\t', 'H', 'o', 'w', ' ', 't', 'o', ' ', 'w', 'r', 'i', 't', 'e', ' ', 'a', 'l', 'l', ' ', 'f', 'i', 'l', 'e', 's', ' ', 'C', 'o', 'n', 't', 'a', 'i', 'n', ' ', 'i', 'n', ' ', 't', 'h', 'e', ' ', 's', 'u', 'b', 'f', 'o', 'l', 'd', 'e', 'r', 's', ' ', 'a', 'n', 'd', ' ', 'i', 'n', ' ', 't', 'h', 'e', ' ', 'f', 'o', 'l', 'd', 'e', 'r', 's', ' ', 'i', 'n', ' ', 't', 'o', ' ', 'a', ' ', '.', 't', 'x', 't', ' ', 'f', 'i', 'l', 'e', '\\t', 'C', 'h', 'e', 'c', 'k', 'i', 'n', 'g', ' ', 'n', 'e', 'g', 'a', 't', 'i', 'v', 'e', ' ', 'v', 'a', 'l', 'u', 'e', 's', ' ', 'f', 'r', 'o', 'm', ' ', 'G', 'o', 'o', 'g', 'l', 'e', ' ', 'F', 'o', 'r', 'm', 's', '\\t', 'L', 'i', 'b', 'g', 'd', 'x', ' ', 'r', 'e', 'a', 'd', 'i', 'n', 'g', ' ', 'j', 's', 'o', 'n', ' ', 'a', 'r', 'r', 'a', 'y', ' ', 'v', 'a', 'l', 'u', 'e', 's', '\\t', 'C', 'u', 's', 't', 'o', 'm', ' ', 'B', 'u', 'd', 'd', 'y', 'p', 'r', 'e', 's', 's', ' ', 'N', 'o', 't', 'i', 'f', 'i', 'c', 'a', 't', 'i', 'o', 'n', ' ', 'o', 'n', ' ', 'P', 'o', 's', 't', ' ', 'S', 'a', 'v', 'e', '\\t', 'U', 'I', 'T', 'a', 'b', 'l', 'e', 'V', 'i', 'e', 'w', ' ', 'w', 'i', 't', 'h', ' ', 'U', 'I', 'T', 'e', 'x', 't', 'F', 'i', 'e', 'l', 'd', ' ', '-', ' ', 'k', 'e', 'e', 'p', ' ', 't', 'h', 'e', ' ', 'd', 'a', 't', 'a', ' ', 'e', 'v', 'e', 'n', ' ', 'a', 'f', 't', 'e', 'r', ' ', 'u', 's', 'e', 'r', ' ', 's', 'c', 'r', 'o', 'l', 'l', 's', '\\t', 'V', 'i', 's', 'u', 'a', 'l', ' ', 'S', 't', 'u', 'd', 'i', 'o', ' ', '2', '0', '1', '5', ' ', 'U', 'p', 'd', 'a', 't', 'e', ' ', '1', ' ', 'a', 'u', 't', 'o', 'm', 'a', 't', 'i', 'c', 'a', 'l', 'l', 'y', ' ', 'c', 'h', 'e', 'c', 'k', 's', ' ', 'i', 'n', ' ', 'f', 'i', 'l', 'e', 's', '\\t', 'M', 'o', 'b', 'i', 'l', 'e', 'f', 'i', 'r', 's', 't', ' ', 'F', 'a', 'i', 'l', 'e', 'd', ' ', 's', 'y', 'n', 'c', 'h', 'r', 'o', 'n', 'i', 'z', 'i', 'n', 'g', ' ', 'a', 'p', 'p', 'l', 'i', 'c', 'a', 't', 'i', 'o', 'n', ' ', 'f', 'r', 'o', 'm', ' ', 't', 'h', 'e', ' ', 'a', 'd', 'm', 'i', 'n', 'i', 's', 't', 'r', 'a', 't', 'i', 'o', 'n', ' ', 's', 'e', 'r', 'v', 'i', 'c', 'e', '\\t', 'C', 'a', 'n', 'n', 'o', 't', ' ', 'e', 'x', 'e', 'c', 'u', 't', 'e', ' ', 'f', 'o', 'r', ' ', 'l', 'o', 'o', 'p', ' ', 'i', 'n', ' ', 'v', 'u', 'e', '.', 'j', 's', '\\t', 'h', 'o', 'w', ' ', 't', 'o', ' ', 'p', 'r', 'e', 'v', 'e', 'n', 't', ' ', 'd', 'u', 'p', 'l', 'i', 'c', 'a', 't', 'e', ' ', 'i', 't', 'e', 'm', '\\t', 'J', 'a', 'v', 'a', ' ', 'A', 'p', 'a', 'c', 'h', 'e', ' ', 'C', 'L', 'I', ' ', 'O', 'p', 't', 'i', 'o', 'n', 'B', 'u', 'i', 'l', 'd', 'e', 'r', ' ', 'n', 'o', 't', ' ', 'w', 'o', 'r', 'k', 'i', 'n', 'g', ' ', 'a', 's', ' ', 'B', 'u', 'i', 'l', 'd', 'e', 'r', ' ', 'p', 'a', 't', 't', 'e', 'r', 'n', '\\t', 'W', 'h', 'a', 't', \"'\", 's', ' ', 'a', ' ', 'p', 'r', 'o', 'p', 'e', 'r', ' ', 'w', 'a', 'y', ' ', 't', 'o', ' ', 't', 'u', 'r', 'n', ' ', 'o', 'f', 'f', ' ', 'g', 'e', 'n', 'y', 'm', 'o', 't', 'i', 'o', 'n', ' ', 'e', 'm', 'u', 'l', 'a', 't', 'o', 'r', '?', '\\t', 'J', 'a', 'd', 'e', ' ', 's', 'e', 'l', 'e', 'c', 't', ' ', 'f', 'i', 'e', 'l', 'd', ' ', 'p', 'o', 'p', 'u', 'l', 'a', 't', 'i', 'n', 'g', ' ', 'd', 'a', 't', 'a', '\\t', 'W', 'h', 'y', ' ', 'i', 's', ' ', \"'\", ' ', '2', \"'\", ' ', '>', ' ', \"'\", '1', '0', \"'\", '?', '\\t', 'M', 'y', 's', 'q', 'l', ' ', 'd', 'u', 'm', 'p', ' ', 'c', 'o', 'm', 'm', 'e', 'n', 't', 's', ' ', 'd', 'i', 'r', 'e', 'c', 't', 'i', 'v', 'e', 's', ' ', 'a', 'n', 'd', ' ', 's', 'i', 'm', 'p', 'l', 'e', ' ', 'c', 'o', 'm', 'm', 'e', 'n', 't', 's', '\\t', 'C', 'r', 'o', 'p', 'p', 'i', 'n', 'g', ' ', 'l', 'i', 'b', 'r', 'a', 'r', 'y', ' ', 'n', 'o', 't', ' ', 'w', 'o', 'r', 'k', 'i', 'n', 'g', ' ', 'o', 'n', ' ', 'N', 'e', 'x', 'u', 's', ' ', 'S', '\\t', 'C', 'r', 'e', 'a', 't', 'e', ' ', 'a', ' ', 's', 'e', 'g', 'u', 'e', ' ', 'a', 'n', 'd', ' ', 'a', 't', 't', 'a', 'c', 'h', ' ', 'i', 't', ' ', 'b', 'e', 't', 'w', 'e', 'e', 'n', ' ', 't', 'w', 'o', ' ', 'v', 'i', 'e', 'w', ' ', 'c', 'o', 'n', 't', 'r', 'o', 'l', 'l', 'e', 'r', 's', ' ', 't', 'h', 'r', 'o', 'u', 'g', 'h', ' ', 'S', 'w', 'i', 'f', 't', '?', '\\t', 'F', 'u', 'n', 'c', 't', 'i', 'o', 'n', ' ', 't', 'o', ' ', 's', 'e', 'a', 'r', 'c', 'h', ' ', 'r', 'e', 'c', 'u', 'r', 's', 'i', 'v', 'e', 'l', 'y', ' ', 'f', 'o', 'r', ' ', 'p', 'a', 't', 't', 'e', 'r', 'n', 's', ' ', 'i', 'n', ' ', 'v', 'i', 'm', '\\t', 'I', 'n', 't', 'e', 'g', 'r', 'a', 't', 'i', 'n', 'g', ' ', 'w', 'o', 'r', 'd', 'p', 'r', 'e', 's', 's', ' ', 'a', 'n', 'd', ' ', 'l', 'a', 'r', 'a', 'v', 'e', 'l', ' ', 'u', 's', 'e', 'r', ' ', 'm', 'a', 'n', 'a', 'g', 'e', 'm', 'e', 'n', 't', '\\t', 'B', 'e', 'h', 'a', 'v', 'i', 'o', 'u', 'r', ' ', 'a', 'f', 't', 'e', 'r', ' ', 't', 'a', 'k', 'e', 'P', 'i', 'c', 't', 'u', 'r', 'e', '(', ')', ' ', 'd', 'i', 'f', 'f', 'e', 'r', 'e', 'n', 't', ' ', 'o', 'n', ' ', 'd', 'i', 'f', 'f', 'e', 'r', 'e', 'n', 't', ' ', 'd', 'e', 'v', 'i', 'c', 'e', 's', '/', 'A', 'n', 'd', 'r', 'o', 'i', 'd', ' ', 'v', 'e', 'r', 's', 'i', 'o', 'n', 's', '\\t', 'E', 'x', 'p', 'o', 'r', 't', 'i', 'n', 'g', ' ', 'P', 'l', 'o', 'n', 'e', ' ', 'c', 'o', 'n', 't', 'e', 'n', 't', ':', ' ', 'h', 'o', 'w', ' ', 't', 'o', ' ', 'g', 'e', 't', ' ', 't', 'h', 'e', ' ', 't', 'a', 'r', 'b', 'a', 'l', 'l', ' ', 'c', 'r', 'e', 'a', 't', 'e', 'd', ' ', 'b', 'y', ' ', 'q', 'u', 'i', 'n', 't', 'a', 'g', 'r', 'o', 'u', 'p', '.', 't', 'r', 'a', 'n', 's', 'm', 'o', 'g', 'r', 'i', 'f', 'i', 'e', 'r', '.', 'w', 'r', 'i', 't', 'e', 'r', '\\t', 'C', 'a', 's', 's', 'a', 'n', 'd', 'r', 'a', ' ', 't', 'o', ' ', 'H', 'i', 'v', 'e', ' ', 'u', 's', 'i', 'n', 'g', ' ', 'S', 'p', 'a', 'r', 'k', '\\t', 'R', 'u', 'b', 'y', ' ', 'o', 'n', ' ', 'R', 'a', 'i', 'l', 's', ' ', ':', 'b', 'e', 'f', 'o', 'r', 'e', '_', 'f', 'i', 'l', 't', 'e', 'r', ' ', '=', '>', ' ', ':', 'o', 'n', 'l', 'y', '_', 'w', 'h', 'e', 'n', '_', 'u', 's', 'e', 'r', '_', 'i', 's', '_', 'l', 'o', 'g', 'g', 'e', 'd', '_', 'i', 'n', '\\t', 'H', 'o', 'w', ' ', 'c', 'a', 'n', ' ', 'I', ' ', 'i', 'n', 't', 'e', 'g', 'r', 'a', 't', 'e', ' ', 'J', 'a', 'c', 'o', 'c', 'o', ' ', 'r', 'e', 'p', 'o', 'r', 't', 's', ' ', 'w', 'i', 't', 'h', ' ', 'S', 'o', 'n', 'a', 'r', 'Q', 'u', 'b', 'e', ' ', 'w', 'i', 't', 'h', 'o', 'u', 't', ' ', 'u', 's', 'i', 'n', 'g', ' ', 'm', 'a', 'v', 'e', 'n', '?', '\\t', 'C', 'a', 'n', ' ', 'I', ' ', 'u', 's', 'e', ' ', 'N', 'S', 'P', 'r', 'e', 'd', 'i', 'c', 'a', 't', 'e', ' ', 'a', 's', ' ', 'k', 'e', 'y', ' ', 'i', 'n', ' ', 'a', ' ', 'N', 'S', 'D', 'i', 'c', 't', 'i', 'o', 'n', 'a', 'r', 'y', '\\t', 'P', 'r', 'o', 'x', 'y', ' ', 'A', 'u', 't', 'h', 'e', 'n', 't', 'i', 'c', 'a', 't', 'i', 'o', 'n', ' ', 'F', 'a', 'i', 'l', 'e', 'd', ' ', 'e', 'r', 'r', 'o', 'r', '\\t', 'C', 'o', 'u', 'l', 'd', ' ', 's', 'o', 'm', 'e', 'o', 'n', 'e', ' ', 'e', 'x', 'p', 'l', 'a', 'i', 'n', ' ', 'h', 'o', 'w', ' ', 't', 'o', ' ', 'u', 's', 'e', ' ', 't', 'h', 'e', ' ', 'U', 'p', 'd', 'a', 't', 'e', 'M', 'a', 'n', 'a', 'g', 'e', 'r', ' ', 'i', 'n', ' ', 'T', 'i', 'd', 'e', 'S', 'D', 'K', ' ', '1', '.', '3', '.', '1', ' ', 'B', 'e', 't', 'a', '?', '\\t', 'P', 'r', 'o', 'p', 'e', 'r', 't', 'i', 'e', 's', ' ', '-', ' ', 'h', 'o', 'w', ' ', 't', 'o', ' ', 'a', 'v', 'o', 'i', 'd', ' ', 'c', 'o', 'd', 'e', ' ', 'r', 'e', 'p', 'e', 't', 'i', 't', 'i', 'o', 'n', '\\t', 'P', 'a', 'u', 's', 'e', '/', 'r', 'e', 's', 'u', 'm', 'e', ' ', 'v', 'i', 'd', 'e', 'o', ' ', 'r', 'e', 'c', 'o', 'r', 'd', 'i', 'n', 'g', ' ', 'u', 's', 'i', 'n', 'g', ' ', 'A', 'V', 'C', 'a', 'p', 't', 'u', 'r', 'e', 'M', 'o', 'v', 'i', 'e', 'F', 'i', 'l', 'e', 'O', 'u', 't', 'p', 'u', 't', '\\t', 'S', 'w', 'i', 'f', 't', ' ', 'e', 'n', 'u', 'm', ' ', 'r', 'e', 'c', 'u', 'r', 's', 'i', 'v', 'e', ' ', 'a', 's', 's', 'o', 'c', 'i', 'a', 't', 'e', 'd', ' ', 'v', 'a', 'l', 'u', 'e', '\\t', 'H', 'o', 'w', ' ', 't', 'o', ' ', 'g', 'r', 'e', 'p', ' ', 'p', 'a', 'r', 't', 'i', 'c', 'u', 'l', 'a', 'r', ' ', 's', 't', 'r', 'i', 'n', 'g', ' ', 'o', 'c', 'c', 'u', 'r', 'r', 'i', 'n', 'g', ' ', 'm', 'u', 'l', 't', 'i', 'p', 'l', 'e', ' ', 't', 'i', 'm', 'e', 's', '\\t', 'H', 'o', 'v', 'e', 'r', ' ', 'm', 'a', 'p', ' ', 'a', 'r', 'e', 'a', ' ', 's', 'p', 'r', 'i', 't', 'e', ' ', 'w', 'i', 't', 'h', ' ', 'j', 'q', 'u', 'e', 'r', 'y', '\\t', 'S', 'p', 'a', 'r', 'k', ' ', '`', 'L', 'i', 'v', 'e', 'L', 'i', 's', 't', 'e', 'n', 'e', 'r', 'B', 'u', 's', '`', ' ', 'E', 'x', 'c', 'e', 'p', 't', 'i', 'o', 'n', ' ', 'i', 's', ' ', 'f', 'r', 'e', 'a', 'k', 'i', 'n', 'g', ' ', 'm', 'e', ' ', 'o', 'u', 't', '\\t', 'h', 'o', 'w', ' ', 't', 'o', ' ', 'u', 's', 'e', ' ', 'p', 'y', 'p', 'l', 'o', 't', '.', 'a', 'r', 'r', 'o', 'w', ' ', 'o', 'r', ' ', 'p', 'a', 't', 'c', 'h', 'e', 's', '.', 'A', 'r', 'r', 'o', 'w', ' ', 'i', 'n', ' ', 'm', 'a', 't', 'p', 'l', 'o', 't', 'l', 'i', 'b', '?', '\\t', 'A', 'p', 'a', 'c', 'h', 'e', ' ', 'o', 'n', ' ', 'W', 'i', 'n', 'd', 'o', 'w', 's', ' ', 'a', 'n', 'd', ' ', 'F', 'i', 'd', 'd', 'l', 'e', 'r', '\\t', 'h', 'o', 'w', ' ', 't', 'o', ' ', 'p', 'a', 's', 's', ' ', 't', 'h', 'e', ' ', 'v', 'a', 'r', 'i', 'a', 'b', 'l', 'e', ' ', 'f', 'r', 'o', 'm', ' ', 'a', 'p', 'i', ' ', 'g', 'a', 't', 'e', 'w', 'a', 'y', ' ', 't', 'o', ' ', 't', 'h', 'e', ' ', 'u', 'r', 'l', ' ', 'o', 'f', ' ', 'a', 'n', 'o', 't', 'h', 'e', 'r', ' ', 's', 'e', 'r', 'v', 'i', 'c', 'e', ' ', 'r', 'u', 'n', 'n', 'i', 'n', 'g', ' ', 'o', 'n', ' ', 'E', 'C', '2', '\\t', 'O', 'p', 'e', 'n', ' ', 'l', 'i', 'n', 'k', ' ', 'w', 'h', 'e', 'n', ' ', 'd', 'o', 'u', 'b', 'l', 'e', 'c', 'l', 'i', 'c', 'k', 'i', 'n', 'g', ' ', 'o', 'n', ' ', 't', 'a', 'b', 'l', 'e', ' ', 'r', 'o', 'w', ' ', 'w', 'i', 't', 'h', ' ', 'j', 'Q', 'u', 'e', 'r', 'y', '\\t', 'W', 'g', 'e', 't', ' ', 's', 'p', 'a', 'n', ' ', 'h', 'o', 's', 't', ' ', 'o', 'n', 'l', 'y', ' ', 'f', 'o', 'r', ' ', 'i', 'm', 'a', 'g', 'e', 's', '/', 's', 't', 'y', 'l', 'e', 's', 'h', 'e', 'e', 't', 's', '/', 'j', 'a', 'v', 'a', 's', 'c', 'r', 'i', 'p', 't', ' ', 'b', 'u', 't', ' ', 'n', 'o', 't', ' ', 'l', 'i', 'n', 'k', 's', '\\t', 'I', ' ', 'a', 'm', ' ', 't', 'r', 'y', 'i', 'n', 'g', ' ', 't', 'o', ' ', 's', 'h', 'o', 'w', ' ', 'd', 'a', 't', 'a', ' ', 'u', 's', 'i', 'n', 'g', ' ', 'a', 'p', 'i', ' ', '.', ' ', 'b', 'u', 't', ' ', 'd', 'a', 't', 'a', ' ', 'i', 's', ' ', 'n', 'o', 't', ' ', 's', 'h', 'o', 'w', 'i', 'n', 'g', ' ', 'i', 'n', ' ', 'c', 'u', 's', 't', 'o', 'm', ' ', 'l', 'i', 's', 't', 'V', 'i', 'e', 'w', ' ', '.', ' ', 'l', 'i', 's', 't', ' ', 'i', 's', ' ', 'e', 'm', 'p', 't', 'y', '\\t', 'G', 'r', 'a', 'p', 'h', 'i', 'n', 'g', ' ', 's', 'b', 't', \"'\", 's', ' ', 'i', 'n', 'c', 'r', 'e', 'm', 'e', 'n', 't', 'a', 'l', ' ', 'c', 'o', 'm', 'p', 'i', 'l', 'a', 't', 'i', 'o', 'n', ' ', 'l', 'o', 'g', 'i', 'c', '\\t', 'h', 'o', 'w', ' ', 't', 'o', ' ', 'g', 'e', 't', ' ', 'f', 'u', 'n', 'c', 't', 'i', 'o', 'n', 'a', 'l', 'i', 't', 'y', ' ', 'o', 'f', ' ', 'L', 'o', 'n', 'g', ' ', 'P', 'r', 'e', 's', 's', ' ', 'g', 'e', 's', 't', 'u', 'r', 'e', ' ', 'i', 'n', ' ', 'i', 'o', 's', ' ', 'v', 'e', 'r', ' ', 'b', 'e', 'l', 'o', 'w', ' ', '3', '.', '2', '\\t', 'C', 'h', 'a', 'n', 'g', 'e', ' ', 'p', 'r', 'i', 'o', 'r', 'i', 't', 'y', ' ', 'h', 'e', 'a', 'd', 'i', 'n', 'g', 's', ' ', 'f', 'o', 'r', ' ', 'a', ' ', 't', 'a', 's', 'k', ' ', 'w', 'i', 't', 'h', ' ', 't', 'h', 'e', ' ', 'a', 'p', 'i', '\\t', 'G', 'e', 't', ' ', 'v', 'a', 'l', 'u', 'e', 's', ' ', 'o', 'n', ' ', 'a', ' ', 'r', 'o', 'w', ' ', 'b', 'a', 's', 'e', 'd', ' ', 'o', 'n', ' ', 't', 'w', 'o', ' ', 'o', 'r', ' ', 'm', 'o', 'r', 'e', ' ', 'r', 'o', 'w', 's', ' ', 'i', 'n', ' ', 'E', 'x', 'c', 'e', 'l', '\\t', 'I', 's', ' ', 'u', 's', 'i', 'n', 'g', ' ', 'S', 'i', 'l', 'v', 'e', 'r', 'l', 'i', 'g', 'h', 't', ' ', 'a', ' ', 'h', 'i', 'n', 'd', 'r', 'a', 'n', 'c', 'e', ' ', 'f', 'o', 'r', ' ', 'S', 't', 'a', 'r', 't', 'u', 'p', 's', '?', '\\t', 's', 'p', 'o', 't', 'i', 'f', 'y', ' ', 's', 'e', 's', 's', 'i', 'o', 'n', ' ', 'c', 'a', 'l', 'l', 'b', 'a', 'c', 'k', ' ', 'g', 'e', 't', '_', 'a', 'u', 'd', 'i', 'o', '_', 'b', 'u', 'f', 'f', 'e', 'r', '_', 's', 't', 'a', 't', 's', '\\t', 't', 'a', 'l', 'e', 'n', 'd', ' ', '-', ' ', 's', 'p', 'e', 'c', 'i', 'f', 'y', ' ', 'j', 'n', 'd', 'i', ' ', 'a', 's', ' ', 'd', 'a', 't', 'a', 's', 'o', 'u', 'r', 'c', 'e', '\\t', 'L', 'o', 'n', 'g', ' ', 'd', 'a', 't', 'a', ' ', 'l', 'o', 'a', 'd', ' ', 't', 'i', 'm', 'e', ' ', 'i', 'n', ' ', 'M', 'a', 't', 'l', 'a', 'b', '\\t', 'h', 'o', 'w', ' ', 'c', 'a', 'n', ' ', 'i', ' ', 'c', 'h', 'a', 'n', 'g', 'e', ' ', 'c', 'o', 'l', 'u', 'm', 'n', ' ', 'w', 'i', 'd', 't', 'h', ' ', 'i', 'n', ' ', 'b', 'a', 's', 'e', ' ', 't', 'o', ' ', 'c', 'o', 'n', 't', 'e', 'n', 't', ' ', 'w', 'i', 't', 'h', ' ', 'v', 'b', '.', 'n', 'e', 't', ' ', 'a', 'n', 'd', ' ', 'b', 'o', 'o', 't', 's', 't', 'r', 'a', 'p', '?', '\\t', 'A', 'l', 't', 'e', 'r', 'n', 'a', 't', 'i', 'v', 'e', ' ', 't', 'o', ' ', 'M', 'i', 'c', 'r', 'o', 's', 'o', 'f', 't', '.', 'P', 'r', 'a', 'c', 't', 'i', 'c', 'e', 's', '.', 'E', 'n', 't', 'e', 'r', 'p', 'r', 'i', 's', 'e', 'L', 'i', 'b', 'r', 'a', 'r', 'y', '.', 'D', 'a', 't', 'a', '\\t', 'H', 'o', 'w', ' ', 't', 'o', ' ', 'f', 'a', 'c', 'e', 't', '.', 'p', 'i', 'v', 'o', 't', ' ', 'w', 'i', 't', 'h', ' ', 's', 'p', 'r', 'i', 'n', 'g', '-', 'd', 'a', 't', 'a', '-', 's', 'o', 'l', 'r', '\\t', 'C', 'h', 'e', 'c', 'k', ' ', 'e', 'm', 'p', 't', 'y', ' ', 'o', 'u', 't', 'p', 'u', 't', ' ', 'f', 'r', 'o', 'm', ' ', 'f', 'i', 's', 'h', ' ', 'f', 'u', 'n', 'c', 't', 'i', 'o', 'n', '\\t', 'p', 'y', 's', 'o', 'l', 'r', ' ', 'u', 'p', 'd', 'a', 't', 'e', ' ', 'd', 'o', 'c', 'u', 'm', 'e', 'n', 't', ' ', 'w', 'i', 't', 'h', ' ', 'e', 'r', 'r', 'o', 'r', '\\t', 'H', 'o', 'w', ' ', 't', 'o', ' ', 'r', 'e', 't', 'r', 'i', 'e', 'v', 'e', ' ', 's', 'a', 'm', 'e', ' ', 'c', 'o', 'l', 'u', 'm', 'n', ' ', 't', 'w', 'i', 'c', 'e', ' ', 'w', 'i', 't', 'h', ' ', 'd', 'i', 'f', 'f', 'e', 'r', 'e', 'n', 't', ' ', 'v', 'a', 'l', 'u', 'e', 's', ' ', 'o', 'f', ' ', 'o', 't', 'h', 'e', 'r', ' ', 'c', 'o', 'l', 'u', 'm', 'n', ' ', 'i', 'n', ' ', 's', 'a', 'm', 'e', ' ', 't', 'a', 'b', 'l', 'e', '\\t', 'U', 'p', 'd', 'a', 't', 'e', 'd', ':', ' ', 'N', 'o', 'd', 'e', 'J', 'S', ' ', '-', ' ', 'c', 'o', 'n', 'n', 'e', 'c', 't', '-', 'k', 'e', 'y', 'c', 'l', 'o', 'a', 'k', ' ', 'm', 'i', 'd', 'd', 'l', 'e', 'w', 'a', 'r', 'e', ' ', 'e', 'm', 'p', 't', 'y', ' ', 'r', 'e', 's', 'p', 'o', 'n', 's', 'e', ' ', 'e', 'r', 'r', 'o', 'r', '\\t', 'A', 'c', 'c', 'o', 'r', 'd', 'i', 'o', 'n', ' ', 'o', 'p', 'e', 'n', ' ', 'w', 'h', 'e', 'n', ' ', 'p', 'a', 'g', 'e', ' ', 'l', 'o', 'a', 'd', 's', '\\t', 'A', 'c', 't', 'i', 'v', 'i', 't', 'y', ' ', 'd', 'o', 'e', 's', 'n', \"'\", 't', ' ', 'r', 'e', 'f', 'r', 'e', 's', 'h', ' ', 'a', 'f', 't', 'e', 'r', ' ', 'a', 's', 's', 'o', 'c', 'i', 'a', 't', 'e', 'd', ' ', 'B', 'r', 'o', 'a', 'd', 'c', 'a', 's', 't', ' ', 'R', 'e', 'c', 'e', 'i', 'v', 'e', 'r', \"'\", 's', ' ', 'o', 'n', 'R', 'e', 'c', 'e', 'i', 'v', 'e', ' ', 'g', 'e', 't', 's', ' ', 'c', 'a', 'l', 'l', 'e', 'd', '.', '\\t', 'H', 'o', 'w', ' ', 'd', 'o', ' ', 'y', 'o', 'u', ' ', 'd', 'e', 't', 'e', 'c', 't', ' ', 'D', 'O', 'C', 'T', 'Y', 'P', 'E', ' ', '(', 'T', 'r', 'a', 'n', 's', 'i', 't', 'i', 'o', 'n', 'a', 'l', ' ', 'o', 'r', ' ', 'S', 't', 'r', 'i', 'c', 't', ')', ' ', 's', 'e', 'r', 'v', 'e', 'r', '-', 's', 'i', 'd', 'e', ' ', 'i', 'n', ' ', 'A', 'S', 'P', '.', 'N', 'E', 'T', '?', '\\t', 'F', 'i', 'r', 'e', 'f', 'o', 'x', ' ', '9', '.', '0', '.', '1', ' ', 'B', 'r', 'o', 'k', 'e', ' ', 'I', 'n', 't', 'e', 'r', 'n', 'a', 'l', ' ', 'W', 'i', 'k', 'i', ' ', 'L', 'a', 'y', 'o', 'u', 't', '\\t', 'o', 'n', 'c', 'h', 'a', 'n', 'g', 'e', ' ', 'f', 'u', 'n', 'c', 't', 'i', 'o', 'n', ' ', 'i', 'n', ' ', 'd', 'r', 'o', 'p', 'D', 'o', 'w', 'n', 'L', 'i', 's', 't', ' ', 'y', 'i', 'i', '2', '\\t', 'p', 'l', 'a', 'y', ' ', 'm', 'p', '3', ' ', 'w', 'i', 't', 'h', 'o', 'u', 't', ' ', 'd', 'e', 'f', 'a', 'u', 'l', 't', ' ', 'p', 'l', 'a', 'y', 'e', 'r', '\\t', 'C', 'o', 'n', 'v', 'e', 'r', 't', ' ', 'S', 'V', 'G', ' ', 'D', 'a', 't', 'a', ' ', 't', 'o', ' ', 'S', 'V', 'G', ' ', 'F', 'i', 'l', 'e', ' ', 't', 'h', 'a', 't', ' ', 'c', 'a', 'n', ' ', 'b', 'e', ' ', 'u', 'p', 'l', 'o', 'a', 'd', 'e', 'd', '\\t', 'F', 'o', 'l', 'd', 'e', 'r', ' ', 'P', 'i', 'c', 'k', 'e', 'r', ' ', 'f', 'o', 'r', ' ', 'M', 'S', ' ', 'W', 'o', 'r', 'd', '\\t', 'C', 'a', 'n', \"'\", 't', ' ', 'h', 'i', 'd', 'e', ' ', 'o', 'r', ' ', 'c', 'l', 'o', 's', 'e', ' ', 'f', 'o', 'r', 'm', ' ', 'a', 'f', 't', 'e', 'r', ' ', 's', 'w', 'i', 't', 'c', 'h', 'i', 'n', 'g', ' ', 't', 'o', ' ', 'a', 'n', 'o', 't', 'h', 'e', 'r', ' ', 'f', 'o', 'r', 'm', '\\t', 'H', 'o', 'w', ' ', 't', 'o', ' ', 'S', 'h', 'e', 'l', 'l', 'C', 'o', 'd', 'e', ' ', 'i', 'n', ' ', 'l', 'i', 'n', 'u', 'x', ' ', 'w', 'i', 't', 'h', ' ', 'x', '6', '4', ' ', 'p', 'r', 'o', 'c', 'e', 's', 's', 'o', 'r', '.', '\\t', 'H', 'o', 'w', ' ', 't', 'o', ' ', 's', 'e', 't', ' ', 'a', ' ', 's', 'p', 'e', 'c', 'i', 'f', 'i', 'c', ' ', 't', 'i', 'm', 'e', 'z', 'o', 'n', 'e', ' ', 'f', 'o', 'r', ' ', 'w', 'i', 'n', 'd', 'o', 'w', 's', ' ', 'C', 'E', ' ', 'B', 'y', ' ', 'C', '#', '\\t', 'V', 'a', 'g', 'r', 'a', 'n', 't', ' ', 'e', 'n', 't', 'e', 'r', 's', ' ', 'a', 'b', 'o', 'r', 't', 'e', 'd', ' ', 's', 't', 'a', 't', 'e', ' ', 'd', 'u', 'r', 'i', 'n', 'g', ' ', 'a', 'p', 't', '-', 'g', 'e', 't', ' ', 'u', 'p', 'd', 'a', 't', 'e', '\\t', 'a', 't', 't', 'e', 'm', 'p', 't', 'i', 'n', 'g', ' ', 't', 'o', ' ', 'm', 'a', 'k', 'e', ' ', 'e', 'n', 't', 'e', 'r', ' ', 'b', 'u', 't', 't', 'o', 'n', ' ', \"'\", 'c', 'l', 'i', 'c', 'k', 'a', 'b', 'l', 'e', \"'\", '\\t', 'I', 'm', 'a', 'g', 'e', 'M', 'a', 'g', 'i', 'c', 'k', ' ', 'C', 'o', 'n', 'v', 'e', 'r', 't', ' ', 'n', 'o', 't', ' ', 'g', 'e', 'n', 'e', 'r', 'a', 't', 'i', 'n', 'g', ' ', 'c', 'o', 'r', 'r', 'e', 'c', 't', ' ', 'c', 'o', 'l', 'o', 'r', '\\t', 'M', 'y', 'b', 'a', 't', 'i', 's', ' ', 's', 'e', 'l', 'e', 'c', 't', ' ', 'w', 'i', 't', 'h', ' ', 'n', 'e', 's', 't', 'e', 'd', ' ', 'o', 'b', 'j', 'e', 'c', 't', 's', '\\t', 'M', 'y', ' ', 'c', 's', 's', ' ', 'h', 'e', 'i', 'g', 'h', 't', ' ', 'a', 'u', 't', 'o', ' ', 'd', 'o', 'e', 's', 'n', \"'\", 't', ' ', 'w', 'o', 'r', 'k', '\\t', 'D', '3', ' ', 'A', 'n', 'g', 'u', 'l', 'a', 'r', 'J', 's', ' ', 'F', 'o', 'r', 'c', 'e', ' ', 'D', 'i', 'r', 'e', 'c', 't', 'e', 'd', ' ', 'G', 'r', 'a', 'p', 'h', '\\t', 'I', ' ', 'w', 'a', 'n', 't', ' ', 't', 'o', ' ', 'a', 'd', 'd', ' ', '3', '0', ' ', 'd', 'a', 'y', 's', ' ', 't', 'o', ' ', 'm', 'y', 's', 'q', 'l', ' ', 'd', 'a', 't', 'e', ' ', 'r', 'o', 'w', '\\t', 'H', 'o', 'w', ' ', 'I', ' ', 'c', 'a', 'n', ' ', 'u', 's', 'e', ' ', 'F', 'l', 'e', 'x', 'y', 'P', 'o', 'o', 'l', ' ', 'w', 'i', 't', 'h', ' ', 'H', 'i', 'k', 'a', 'r', 'i', 'C', 'P', 'F', 'a', 'c', 't', 'o', 'r', 'y', '?', '\\t', 'W', 'i', 'x', ' ', 'i', 'n', 's', 't', 'a', 'l', 'l', 'e', 'r', ':', ' ', 'V', 'e', 'r', 'i', 'f', 'y', ' ', 't', 'h', 'a', 't', ' ', 'y', 'o', 'u', ' ', 'h', 'a', 'v', 'e', ' ', 's', 'u', 'f', 'f', 'i', 'c', 'i', 'e', 'n', 't', ' ', 'p', 'r', 'i', 'v', 'i', 'l', 'e', 'g', 'e', 's', ' ', 't', 'o', ' ', 's', 't', 'a', 'r', 't', ' ', 's', 'y', 's', 't', 'e', 'm', ' ', 's', 'e', 'r', 'v', 'i', 'c', 'e', 's', '\\t', 'r', ',', ' ', 't', 's', ' ', '-', ' ', 'e', 'r', 'r', 'o', 'r', ' ', 'i', 'n', ' ', 's', 't', 'l', ',', ' ', 's', 'e', 'r', 'i', 'e', 's', ' ', 'h', 'a', 's', ' ', 'l', 'e', 's', 's', ' ', 't', 'h', 'a', 'n', ' ', 't', 'w', 'o', ' ', 'p', 'e', 'r', 'i', 'o', 'd', 's', ' ', '(', 'e', 'r', 'r', 'o', 'n', 'e', 'o', 'u', 's', '?', ')', '\\t', 't', 'y', 'p', 'o', '3', ' ', '-', ' ', 'A', 'd', 'd', 'i', 'n', 'g', ' ', 'c', 'o', 'n', 't', 'e', 'n', 't', ' ', 't', 'o', ' ', 't', 'h', 'e', ' ', 'f', 'o', 'o', 't', 'e', 'r', '\\t', 'K', 'n', 'o', 'c', 'k', 'o', 'u', 't', ' ', 'r', 'e', ' ', 'r', 'e', 'n', 'd', 'e', 'r', ' ', 't', 'e', 'm', 'p', 'l', 'a', 't', 'e', ' ', 'w', 'i', 't', 'h', ' ', 'n', 'e', 'w', ' ', 'd', 'a', 't', 'a', ' ', 'm', 'o', 'd', 'e', 'l', ' ', 'o', 'n', ' ', 'c', 'h', 'a', 'n', 'g', 'e', ' ', 'e', 'v', 'e', 'n', 't', ' ', 'o', 'f', ' ', 'd', 'r', 'o', 'p', 'd', 'o', 'w', 'n', ' ', 'm', 'e', 'n', 'u', '\\t', '@', 'M', 'a', 'n', 'y', 'T', 'o', 'M', 'a', 'n', 'y', ' ', 'r', 'e', 'l', 'a', 't', 'i', 'o', 'n', ' ', 'n', 'o', 't', ' ', 's', 'a', 'v', 'e', '\\t', 'D', 'o', 'w', 'n', 's', 'a', 'm', 'p', 'l', 'i', 'n', 'g', ' ', 'o', 'f', ' ', 'f', 'M', 'R', 'I', ' ', 'i', 'm', 'a', 'g', 'e', ' ', 'w', 'i', 't', 'h', ' ', 'F', 'S', 'L', '\\t', 'H', 'o', 'w', ' ', 't', 'o', ' ', 'u', 's', 'e', ' ', 'A', 'n', 'd', 'r', 'o', 'i', 'd', ' ', 'A', 'u', 't', 'o', 'C', 'o', 'm', 'p', 'l', 'e', 't', 'e', 'T', 'e', 'x', 't', 'V', 'i', 'e', 'w', ' ', 'o', 'n', ' ', 'X', 'a', 'm', 'a', 'r', 'i', 'n', '.', 'F', 'o', 'r', 'm', 's', '\\t', 'W', 'h', 'y', ' ', 'f', 's', 't', 'r', 'e', 'a', 'm', ':', ':', 't', 'e', 'l', 'l', 'g', '(', ')', ' ', 'r', 'e', 't', 'u', 'r', 'n', ' ', 'v', 'a', 'l', 'u', 'e', ' ', 'i', 's', ' ', 'e', 'n', 'l', 'a', 'r', 'g', 'e', 'd', ' ', 'b', 'y', ' ', 't', 'h', 'e', ' ', 'n', 'u', 'm', 'b', 'e', 'r', ' ', 'o', 'f', ' ', 'n', 'e', 'w', 'l', 'i', 'n', 'e', 's', ' ', 'i', 'n', ' ', 't', 'h', 'e', ' ', 'i', 'n', 'p', 'u', 't', ' ', 't', 'e', 'x', 't', ' ', 'f', 'i', 'l', 'e', ',', ' ', 'w', 'h', 'e', 'n', ' ', 'f', 'i', 'l', 'e', ' ', 'i', 's', ' ', 'f', 'o', 'r', 'm', 'a', 't', 'e', 'd', ' ', 'f', 'o', 'r', ' ', 'W', 'i', 'n', 'd', 'o', 'w', 's', ' ', '(', '\\\\', 'r', '\\\\', 'n', ')', '?', '\\t', 'D', 'e', 't', 'e', 'r', 'm', 'i', 'n', 'e', ' ', 'I', 'f', ' ', 'T', 'w', 'o', ' ', 'P', 'o', 'i', 'n', 't', 's', ' ', 'A', 'r', 'e', ' ', 'N', 'e', 'a', 'r', '\\t', 'c', 'l', 'i', 'c', 'k', 'i', 'n', 'g', ' ', 'l', 'o', 'g', 'o', ' ', 'o', 'n', ' ', 'h', 'o', 'm', 'e', ' ', 'p', 'a', 'g', 'e', ' ', 'b', 'r', 'e', 'a', 'k', 's', ' ', 'n', 'a', 'v', 'i', 'g', 'a', 't', 'i', 'o', 'n', ' ', 'm', 'e', 'n', 'u', ' ', 'o', 'n', ' ', 'm', 'o', 'b', 'i', 'l', 'e', ' ', 's', 'i', 't', 'e', '\\t', 'U', 's', 'e', ' ', 'I', 'f', 'r', 'a', 'm', 'e', ' ', 't', 'o', ' ', 'e', 'm', 'b', 'e', 'd', ' ', 'c', 's', 'v', ' ', 'a', 'n', 'd', ' ', 'a', 'l', 'l', 'o', 'w', ' ', 'u', 's', 'e', 'r', ' ', 't', 'o', ' ', 's', 'e', 'a', 'r', 'c', 'h', ' ', 'f', 'r', 'o', 'm', ' ', 'i', 't', '\\t', 'I', 'n', 's', 't', 'a', 'l', 'l', ' ', 'C', 'h', 'r', 'o', 'm', 'e', ' ', 'e', 'x', 't', 'e', 'n', 's', 'i', 'o', 'n', ' ', 't', 'h', 'r', 'o', 'u', 'g', 'h', ' ', 'w', 'i', 'n', 'd', 'o', 'w', 's', ' ', 'r', 'e', 'g', 'i', 's', 't', 'r', 'y', '\\t', 'D', 'i', 's', 'p', 'l', 'a', 'y', ' ', 'm', 'e', 's', 's', 'a', 'g', 'e', ' ', 'o', 'n', ' ', 's', 'u', 'c', 'c', 'e', 's', 's', ' ', 'd', 'o', 'e', 's', ' ', 'n', 'o', 't', ' ', 'w', 'o', 'r', 'k', '\\t', 'j', 'Q', 'u', 'e', 'r', 'y', ' ', 'm', 'a', 's', 'k', 'e', 'd', ' ', 'i', 'n', 'p', 'u', 't', ' ', '-', ' ', 'f', 'o', 'r', 'm', 'a', 't', ' ', 'd', 'a', 't', 'e', ' ', 'a', 's', ' ', 'm', '/', 'd', '/', 'y', 'y', 'y', 'y', ' ', 'o', 'r', ' ', 'm', '/', 'd', 'd', '/', 'y', 'y', 'y', 'y', ' ', 'o', 'r', ' ', 'm', 'm', '/', 'd', 'd', '/', 'y', 'y', 'y', 'y', ' ', 'o', 'r', ' ', 'm', 'm', '/', 'd', '/', 'y', 'y', 'y', 'y', '\\t', 'H', 'o', 'w', ' ', 't', 'o', ' ', 'c', 'h', 'a', 'n', 'g', 'e', ' ', 's', 'p', 'r', 'i', 'n', 'g', ' ', 's', 'e', 's', 's', 'i', 'o', 'n', ' ', '(', 'r', 'e', 'd', 'i', 's', ')', ' ', 'c', 'o', 'o', 'k', 'i', 'e', ' ', 'n', 'a', 'm', 'e', '?', '\\t', 'A', 'n', 'y', ' ', 't', 'o', 'o', 'l', ' ', 't', 'o', ' ', 's', 'u', 'g', 'g', 'e', 's', 't', ' ', 'u', 'n', 'i', 't', ' ', 'r', 'e', 'f', 'e', 'r', 'e', 'n', 'c', 'e', ' ', 'a', 'u', 't', 'o', 'm', 'a', 't', 'i', 'c', 'a', 'l', 'l', 'y', ' ', 'f', 'o', 'r', ' ', 'D', 'e', 'l', 'p', 'h', 'i', ' ', '2', '0', '1', '0', '?', '\\t', 'W', 'h', 'y', ' ', 'd', 'o', 'e', 's', ' ', 'm', 'y', ' ', 'm', 'e', 't', 'h', 'o', 'd', ' ', 'r', 'e', 't', 'u', 'r', 'n', ' ', 'a', ' ', 'n', 'u', 'l', 'l', ' ', 'p', 'a', 's', 's', 'w', 'o', 'r', 'd', '?', '\\t', 'S', 'Q', 'L', ' ', 'S', 'c', 'r', 'i', 'p', 't', ' ', '-', ' ', 'm', 'a', 'n', 'i', 'p', 'u', 'l', 'a', 't', 'e', ' ', 'v', 'a', 'l', 'u', 'e', ' ', 'b', 'a', 's', 'e', 'd', ' ', 'o', 'n', ' ', 'p', 'r', 'e', 'v', 'i', 'o', 'u', 's', ' ', 'n', 'o', 'n', ' ', 'z', 'e', 'r', 'o', ' ', 'v', 'a', 'l', 'u', 'e', '\\t', 'r', 'o', 't', 'a', 't', 'e', ' ', 'i', 'm', 'a', 'g', 'e', ' ', 's', 'h', 'o', 'w', 's', ' ', '\"', 'O', 'u', 't', ' ', 'o', 'f', ' ', 'm', 'e', 'm', 'o', 'r', 'y', '\"', ' ', 'e', 'x', 'c', 'e', 'p', 't', 'i', 'o', 'n', '\\t', 'c', 'o', 'u', 'n', 't', ' ', 'b', 'u', 't', 't', 'o', 'n', ' ', 'c', 'l', 'i', 'c', 'k', 's', '\\t', 'J', 'o', 'o', 'm', 'l', 'a', ' ', 'C', 'u', 's', 't', 'o', 'm', ' ', 'C', 'o', 'm', 'p', 'o', 'm', 'e', 'n', 't', ' ', 'D', 'e', 'v', ' ', 'E', 'n', 'v', ' ', ':', ' ', 'H', 'o', 't', ' ', 'D', 'e', 'p', 'l', 'o', 'y', 'm', 'e', 'n', 't', '\\t', 'N', 'e', 'x', 'u', 's', ' ', '5', ' ', 'n', 'o', 't', ' ', 's', 'h', 'o', 'w', 'i', 'n', 'g', ' ', 'o', 'n', ' ', 'c', 'o', 'n', 'n', 'e', 'c', 't', 'e', 'd', ' ', 'd', 'e', 'v', 'i', 'c', 'e', 's', '\\t', 'H', 'o', 'w', ' ', 'w', 'o', 'r', 'k', ' ', 't', 'h', 'e', ' ', 'm', 'e', 't', 'h', 'o', 'd', ' ', 'T', 'r', 'u', 'e', 'F', 'o', 'r', 'A', 'l', 'l', '?', ' ', 'C', '#', ' ', 'L', 'I', 'N', 'Q', '\\t', 'P', 'H', 'P', ' ', '-', ' ', 'S', 'i', 'm', 'p', 'l', 'e', 's', 't', ' ', 'W', 'a', 'y', ' ', 't', 'o', ' ', 'P', 'o', 's', 't', ' ', '&', ' ', 'D', 'i', 's', 'p', 'l', 'a', 'y', '\\t', 'U', 'p', 'd', 'a', 't', 'e', ' ', 'T', 'e', 'm', 'p', ' ', 'T', 'a', 'b', 'l', 'e', ' ', 'w', 'i', 't', 'h', ' ', 'G', 'r', 'o', 'u', 'p', ' ', 'B', 'y', '\\t', 'H', 'o', 'w', ' ', 't', 'o', ' ', 'u', 's', 'e', ' ', 'P', 'a', 'r', 's', 'e', ' ', 'P', 'u', 's', 'h', ' ', 'w', 'i', 't', 'h', ' ', 'C', 'o', 'r', 'd', 'o', 'v', 'a', ',', ' ', 'A', 'p', 'p', 'c', 'e', 'l', 'e', 'r', 'a', 't', 'o', 'r', ',', ' ', 'e', 't', 'c', '\\t', 'A', 'S', '3', ' ', 'b', 'i', 't', 'm', 'a', 'p', 'd', 'a', 't', 'a', ' ', 's', 'e', 'n', 'd', ' ', 't', 'o', ' ', 's', 'e', 'r', 'v', 'e', 'r', ' ', 'p', 'i', 'c', 't', 'u', 'r', 'e', ' ', 'i', 's', ' ', 's', 'm', 'a', 'l', 'l', ' ', 'i', 'n', ' ', 'u', 'p', 'p', 'e', 'r', 'l', 'e', 'f', 't', ' ', 'c', 'o', 'r', 'n', 'e', 'r', '\\t', 'H', 'o', 'w', ' ', 't', 'o', ' ', 's', 'e', 't', ' ', 't', 'h', 'e', ' ', 'Z', ' ', 'o', 'r', 'd', 'e', 'r', ' ', 'i', 'n', 'd', 'e', 'x', ' ', 'f', 'o', 'r', ' ', 'a', 'd', 'o', 'r', 'n', 'e', 'r', ' ', 'i', 'n', ' ', 'W', 'P', 'F', '\\t', 'p', 'h', 'p', ' ', 'm', 'i', 'c', 'r', 'o', 's', 'e', 'c', 'o', 'n', 'd', 's', '\\t', 'C', 'r', 'e', 'a', 't', 'i', 'n', 'g', ' ', 'a', ' ', 'g', 'l', 'o', 'b', 'a', 'l', ' ', 'd', 'a', 't', 'a', 'b', 'a', 's', 'e', ' ', 'c', 'o', 'n', 'n', 'e', 'c', 't', 'i', 'o', 'n', ' ', 'o', 'n', ' ', 'a', 'n', ' ', 'm', 'd', 'i', ' ', 'f', 'o', 'r', 'm', '\\t', 'U', 'n', 'c', 'a', 'u', 'g', 'h', 't', ' ', 'R', 'e', 'f', 'e', 'r', 'e', 'n', 'c', 'e', 'E', 'r', 'r', 'o', 'r', ':', ' ', 'R', 'e', 'a', 'c', 't', ' ', 'i', 's', ' ', 'n', 'o', 't', ' ', 'd', 'e', 'f', 'i', 'n', 'e', 'd', '\\t', 'V', 'B', 'A', ' ', 's', 'e', 'a', 'r', 'c', 'h', ' ', 'c', 'o', 'l', 'u', 'm', 'n', ' ', 'f', 'o', 'r', ' ', 's', 't', 'r', 'i', 'n', 'g', 's', ' ', 'a', 'n', 'd', ' ', 'c', 'o', 'p', 'y', ' ', 'r', 'o', 'w', ' ', 't', 'o', ' ', 'n', 'e', 'w', ' ', 'w', 'o', 'r', 'k', 's', 'h', 'e', 'e', 't', '\\t', 'H', 'o', 'w', ' ', 'c', 'a', 'n', ' ', 'I', ' ', 'r', 'e', 'c', 'o', 'r', 'd', ' ', 'a', ' ', 't', 'e', 's', 't', ' ', 'u', 's', 'i', 'n', 'g', ' ', 'E', 's', 'p', 'r', 'e', 's', 's', 'o', ' ', 'w', 'i', 't', 'h', 'o', 'u', 't', ' ', 'd', 'o', 'i', 'n', 'g', ' ', 'a', ' ', 'c', 'l', 'e', 'a', 'n', ' ', 'i', 'n', 's', 't', 'a', 'l', 'l', '?', '\\t', 'H', 'o', 'w', ' ', 'c', 'a', 'n', ' ', 'I', ' ', 'c', 'h', 'a', 'r', ' ', 'a', 'r', 'r', 'a', 'y', ' ', 'i', 'n', ' ', 'r', 'e', 'v', 'e', 'r', 's', 'e', ' ', 'o', 'r', 'd', 'e', 'r', '?', '\\t', 'W', 'h', 'a', 't', ' ', 'k', 'i', 'n', 'd', ' ', 'o', 'f', ' ', 'S', 'C', 'T', 'P', ' ', 's', 'u', 'p', 'p', 'o', 'r', 't', ' ', 'i', 's', ' ', 't', 'h', 'e', 'r', 'e', ' ', 'o', 'n', ' ', 'v', 'a', 'r', 'i', 'o', 'u', 's', ' ', 'W', 'i', 'n', 'd', 'o', 'w', 's', ' ', 'v', 'e', 'r', 's', 'i', 'o', 'n', 's', '?', '\\t', 'S', 'a', 'v', 'i', 'n', 'g', ' ', 'c', 'h', 'a', 'n', 'g', 'e', 's', ' ', 't', 'o', ' ', 'a', 'n', ' ', 'E', 'C', '2', ' ', 'i', 'n', 's', 't', 'a', 'n', 'c', 'e', ' ', 'w', 'i', 't', 'h', 'o', 'u', 't', ' ', 'h', 'a', 'v', 'i', 'n', 'g', ' ', 't', 'o', ' ', 'r', 'e', 'g', 'i', 's', 't', 'e', 'r', ' ', 'a', 'n', ' ', 'A', 'M', 'I', ' ', 'e', 'a', 'c', 'h', ' ', 't', 'i', 'm', 'e', '?', '\\t', 'A', 'u', 't', 'o', ' ', 'r', 'u', 'n', ' ', 'J', 'e', 't', 't', 'y', ' ', 'o', 'n', ' ', 'b', 'o', 'o', 't', '\\t', 'H', 'o', 'w', ' ', 'T', 'o', ' ', 'C', 'a', 'c', 'h', 'e', ' ', 'j', 'Q', 'u', 'e', 'r', 'y', ' ', 'T', 'e', 'm', 'p', 'l', 'a', 't', 'e', ' ', 'I', 'n', ' ', 'B', 'a', 'c', 'k', 'b', 'o', 'n', 'e', ' ', 'V', 'i', 'e', 'w', ' ', 'v', 'i', 'a', ' ', 'A', 'j', 'a', 'x', '?', '\\t', 'D', 'o', 'e', 's', ' ', 't', 'h', 'i', 's', ' ', 'C', '+', '+', ' ', 's', 't', 'a', 't', 'i', 'c', ' ', 'a', 'n', 'a', 'l', 'y', 's', 'i', 's', ' ', 'r', 'u', 'l', 'e', ' ', 'm', 'a', 'k', 'e', ' ', 's', 'e', 'n', 's', 'e', ' ', 'a', 's', ' ', 'i', 's', '?', '\\t', 'S', 'a', 'm', 'e', ' ', 'R', 'i', 'p', 'p', 'l', 'e', ' ', 'd', 'r', 'a', 'w', 'a', 'b', 'l', 'e', '(', 'e', 'f', 'f', 'e', 'c', 't', ')', ' ', 'a', 'p', 'p', 'e', 'a', 'r', 'i', 'n', 'g', ' ', 'd', 'i', 'f', 'f', 'e', 'r', 'e', 'n', 't', 'l', 'y', ' ', 'o', 'n', ' ', 'L', 'i', 's', 't', 'V', 'i', 'e', 'w', ' ', 'a', 'n', 'd', ' ', 'R', 'e', 'c', 'y', 'c', 'l', 'e', 'r', 'V', 'i', 'e', 'w', '\\t', 'R', ' ', 'g', 'g', 'p', 'l', 'o', 't', '2', ' ', 'a', 's', 's', 'i', 'g', 'n', 'i', 'n', 'g', ' ', 'c', 'o', 'l', 'o', 'u', 'r', 's', ' ', 't', 'o', ' ', 'a', ' ', 'f', 'a', 'c', 't', 'o', 'r', '\\t', 'V', 'e', 'r', 'i', 'f', 'y', 'i', 'n', 'g', ' ', 'a', ' ', 'm', 'e', 't', 'h', 'o', 'd', ' ', 'w', 'a', 's', ' ', 'c', 'a', 'l', 'l', 'e', 'd', ' ', 'w', 'i', 't', 'h', 'o', 'u', 't', ' ', 'u', 's', 'i', 'n', 'g', ' ', 'I', 'o', 'C', '\\t', 'W', 'h', 'a', 't', ' ', 'i', 's', ' ', \"'\", 's', 'e', 'g', ' ', 'c', 's', \"'\", ' ', 'i', 'n', ' ', 'b', 'o', 'o', 't', 's', 'e', 'c', 't', '.', 's', '\\t', 's', 'e', 't', 'T', 'i', 'm', 'e', 'o', 'u', 't', ' ', 'k', 'e', 'e', 'p', 's', ' ', 'f', 'i', 'r', 'i', 'n', 'g', '\\t', 'F', 'o', 'r', 'm', 'a', 't', 't', 'i', 'n', 'g', ' ', 't', 'h', 'e', ' ', 'w', 'a', 'y', ' ', 'a', ' ', 's', 't', 'r', 'i', 'n', 'g', ' ', 'i', 's', ' ', 'e', 'n', 't', 'e', 'r', 'e', 'd', ' ', 'i', 'n', 't', 'o', ' ', 'm', 'y', ' ', 'd', 'a', 't', 'a', 'b', 'a', 's', 'e', '\\t', 'C', 'r', 'e', 'a', 't', 'i', 'n', 'g', ' ', 'J', 'e', 'n', 'k', 'i', 'n', 's', ' ', 'J', 'o', 'b', ' ', 'u', 's', 'i', 'n', 'g', ' ', 'p', 'y', 't', 'h', 'o', 'n', ' ', 'A', 'P', 'I', '\\t', 'p', 'y', 't', 'h', 'o', 'n', ' ', 'c', 'r', 'e', 'a', 't', 'e', ' ', 's', 'i', 'n', 'g', 'l', 'e', ' ', 't', 'h', 'r', 'e', 'a', 'd', ' ', 't', 'o', ' ', 'd', 'o', ' ', 'o', 'n', 'e', ' ', 't', 'a', 's', 'k', ' ', 't', 'h', 'e', 'n', ' ', 'q', 'u', 'i', 't', '\\t', 'z', ' ', 'o', 'r', 'd', 'e', 'r', ' ', 'i', 'n', ' ', 'i', 's', 's', 'u', 'e', ' ', 'i', 'n', ' ', 'C', 'o', 'n', 's', 't', 'r', 'a', 'i', 'n', 't', 'L', 'a', 'y', 'o', 'u', 't', ' ', 'A', 'n', 'd', 'r', 'o', 'i', 'd', '\\t', 'C', 'a', 'n', ' ', 'I', ' ', 'd', 'e', 'r', 'i', 'v', 'e', ' ', 'f', 'r', 'o', 'm', ' ', 'a', ' ', 'c', 'l', 'a', 's', 's', ' ', 't', 'h', 'a', 't', ' ', 'c', 'a', 'n', ' ', 'o', 'n', 'l', 'y', ' ', 'b', 'e', ' ', 'c', 'r', 'e', 'a', 't', 'e', 'd', ' ', 'b', 'y', ' ', 'a', ' ', '\"', 'f', 'a', 'c', 't', 'o', 'r', 'y', '\"', '?', '\\t', 'P', 'H', 'P', ' ', 'O', 'O', 'P', ' ', ':', ':', ' ', 'p', 'a', 's', 's', 'i', 'n', 'g', ' ', 's', 'e', 's', 's', 'i', 'o', 'n', ' ', 'k', 'e', 'y', ' ', 'b', 'e', 't', 'w', 'e', 'e', 'n', ' ', 'c', 'l', 'a', 's', 's', 'e', 's', '\\t', 'A', 'S', 'P', '.', 'N', 'E', 'T', ' ', 'M', 'V', 'C', ' ', '3', ',', ' ', 'S', 'Q', 'L', ' ', 'S', 'e', 'r', 'v', 'e', 'r', '\\t', 'R', 'e', 'c', 'r', 'e', 'a', 't', 'i', 'n', 'g', ' ', 'o', 'r', ' ', 'd', 'e', 'l', 'e', 't', 'i', 'n', 'g', ' ', 'g', 'o', 'o', 'g', 'l', 'e', ' ', 's', 'e', 'r', 'v', 'i', 'c', 'e', 's', ' ', 'j', 's', 'o', 'n', '\\t', 'P', 'r', 'o', 'b', 'e', ' ', 'p', 'r', 'o', 'b', 'l', 'e', 'm', ' ', 'w', 'h', 'e', 'n', ' ', 'w', 'r', 'i', 't', 'i', 'n', 'g', ' ', 'a', ' ', 'I', '2', 'C', ' ', 'd', 'e', 'v', 'i', 'c', 'e', ' ', 'd', 'r', 'i', 'v', 'e', 'r', '\\t', 'J', 'e', 'r', 's', 'e', 'y', ' ', 'p', 'r', 'o', 'd', 'u', 'c', 'e', ' ', 'd', 'u', 'p', 'l', 'i', 'c', 'a', 't', 'e', ' ', 'l', 'o', 'g', ' ', 'm', 'e', 's', 's', 'a', 'g', 'e', 's', '\\t', 'E', 'x', 'i', 't', ' ', '/', ' ', 's', 't', 'o', 'p', ' ', 'A', 'r', 'r', 'a', 'y', '2', 'D', '.', 'i', 'n', 'i', 't', 'B', 'a', 's', 'e', 'd', ' ', 'e', 'a', 'r', 'l', 'y', '\\t', 'h', 'o', 'w', ' ', 't', 'o', ' ', 's', 'e', 't', ' ', 'a', 'r', 'r', 'a', 'y', ' ', 'o', 'f', ' ', 'd', 'a', 't', 'e', ' ', 't', 'o', ' ', 'f', 'i', 'r', 'e', 'D', 'a', 't', 'e', ' ', 'i', 'n', ' ', 'l', 'o', 'c', 'a', 'l', ' ', 'n', 'o', 't', 'i', 'f', 'i', 'c', 'a', 't', 'i', 'o', 'n', ' ', 'a', 't', ' ', 'a', ' ', 't', 'i', 'm', 'e', '\\t', 'a', 'l', 't', 'e', 'r', 'n', 'a', 't', 'i', 'v', 'e', ' ', 't', 'o', ' ', 'a', 's', 'y', 'n', 'c', ':', ' ', 'f', 'a', 'l', 's', 'e', ' ', 'a', 'j', 'a', 'x', '\\t', 'O', 'r', 'a', 'c', 'l', 'e', ':', ' ', 'h', 'o', 'w', ' ', 't', 'o', ' ', 'g', 'e', 't', ' ', 'p', 'e', 'r', 'c', 'e', 'n', 't', ' ', 'o', 'f', ' ', 't', 'o', 't', 'a', 'l', ' ', 'b', 'y', ' ', 'a', ' ', 'q', 'u', 'e', 'r', 'y', '?', '\\t', 'H', 'o', 'w', ' ', 't', 'o', ' ', 'm', 'a', 't', 'c', 'h', ' ', 't', 'h', 'e', ' ', 'r', 'e', 'c', 'u', 'r', 's', 'i', 'v', 'e', ' ', 'p', 'a', 't', 't', 'e', 'r', 'n', ' ', '`', 'a', '(', '?', 'R', ')', 'b', '`', ' ', 'i', 'n', 'c', 'l', 'u', 'd', 'i', 'n', 'g', ' ', 'a', 'n', 'o', 't', 'h', 'e', 'r', ' ', 's', 't', 'r', 'i', 'n', 'g', ' ', 'e', '.', 'g', '.', ' ', '\"', 't', 'e', 's', 't', '{', 'a', 'a', 'a', 'b', 'b', 'b', '}', '\"', '?', ' ', '(', 'R', 'e', 'g', 'e', 'x', ')', '\\t', 'H', 'o', 'w', ' ', 't', 'o', ' ', 'd', 'i', 's', 'a', 'b', 'l', 'e', ' ', 'G', 'e', 's', 't', 'u', 'r', 'e', 'L', 'i', 's', 't', 'e', 'n', 'e', 'r', '?', '\\t', 'H', 'o', 'w', ' ', 't', 'o', ' ', 's', 'p', 'e', 'c', 'i', 'f', 'y', ' ', 'C', 'o', 'd', 'e', ' ', 'S', 't', 'y', 'l', 'e', ' ', 's', 'e', 't', 't', 'i', 'n', 'g', 's', ' ', 'i', 'n', ' ', 'a', ' ', 'Q', 't', ' ', 'C', 'r', 'e', 'a', 't', 'o', 'r', ' ', '`', '.', 'p', 'r', 'o', '.', 's', 'h', 'a', 'r', 'e', 'd', '`', ' ', 'f', 'i', 'l', 'e', '?', '\\t', 'c', 'a', 'l', ' ', 'e', 'x', 't', 'e', 'n', 's', 'i', 'o', 'n', ' ', 't', 'e', 'm', 'p', 'l', 'a', 't', 'e', ' ', 'm', 'o', 'd', 'i', 'f', 'i', 'c', 'a', 't', 'i', 'o', 'n', ' ', 'w', 'i', 't', 'h', ' ', '.', 't', 'm', 'p', 'l', '\\t', 'G', 'e', 't', 't', 'i', 'n', 'g', ' ', 's', 't', 'a', 'r', 't', 'e', 'd', ' ', 'w', 'i', 't', 'h', ' ', 'G', 'r', 'o', 'o', 'v', 'y', '/', 'G', 'r', 'a', 'i', 'l', 's', '?', '\\t', 'O', 'p', 'e', 'n', 'i', 'n', 'g', ' ', 'a', ' ', 'R', 'u', 'b', 'y', ' ', 'p', 'r', 'o', 'g', 'r', 'a', 'm', \"'\", 's', ' ', 's', 'o', 'u', 'r', 'c', 'e', ' ', 'f', 'i', 'l', 'e', ' ', 'i', 'n', ' ', 't', 'h', 'e', ' ', 'd', 'e', 'f', 'a', 'u', 'l', 't', ' ', 'e', 'd', 'i', 't', 'o', 'r', '\\t', 'H', 'o', 'w', ' ', 'c', 'a', 'n', ' ', 'I', ' ', 'p', 'a', 's', 's', ' ', 'a', 'n', ' ', 'a', 'r', 'r', 'a', 'y', ' ', 'o', 'f', ' ', 'G', 'u', 'i', 'd', ' ', 'v', 'i', 'a', ' ', 'W', 'e', 'b', ' ', 'A', 'P', 'I', '?', '\\t', 'B', 'a', 'c', 'k', 'b', 'o', 'n', 'e', '-', 'R', 'e', 'l', 'a', 't', 'i', 'o', 'n', 'a', 'l', ' ', 'f', 'i', 'n', 'd', ' ', 'o', 'r', ' ', 'l', 'o', 'a', 'd', '?', '\\t', 'w', 'h', 'a', 't', \"'\", 's', ' ', 't', 'h', 'e', ' ', 'b', 'e', 's', 't', ' ', 'w', 'a', 'y', ' ', 't', 'o', ' ', 'f', 'o', 'r', 'm', 'a', 't', ' ', 'a', 'n', ' ', 'x', 'm', 'l', ' ', 's', 't', 'r', 'i', 'n', 'g', ' ', 'i', 'n', ' ', 'r', 'u', 'b', 'y', '?', '\\t', 'P', 'a', 'r', 't', 'i', 'a', 'l', ' ', 'c', 'l', 'a', 's', 's', 'e', 's', ' ', 'i', 'n', ' ', 'G', 'o', 'o', 'g', 'l', 'e', ' ', 'C', 'l', 'o', 's', 'u', 'r', 'e', '?', '\\t', 'A', 'd', 'd', ' ', 'a', ' ', 'r', 'e', 'p', 'o', 's', 'i', 't', 'o', 'r', 'y', ' ', 'i', 'n', ' ', 'A', 'c', 'c', 'o', 'u', 'n', 't', 'C', 'o', 'n', 't', 'r', 'o', 'l', 'l', 'e', 'r', '\\t', 'W', 'i', 'k', 'i', 'p', 'e', 'd', 'i', 'a', ' ', 'A', 'P', 'I', ' ', 'A', 'u', 't', 'o', 'c', 'o', 'm', 'p', 'l', 'e', 't', 'e', ' ', 'w', 'i', 't', 'h', ' ', 'J', 's', 'o', 'n', '\\t', 'A', 'p', 'a', 'c', 'h', 'e', ' ', 'P', 'i', 'g', ':', ' ', 'u', 'n', 'a', 'b', 'l', 'e', ' ', 't', 'o', ' ', 'r', 'u', 'n', ' ', 'm', 'y', ' ', 'o', 'w', 'n', ' ', 'p', 'i', 'g', '.', 'j', 'a', 'r', ' ', 'a', 'n', 'd', ' ', 'p', 'i', 'g', '-', 'w', 'i', 't', 'h', 'o', 'u', 't', 'h', 'a', 'd', 'o', 'o', 'p', '.', 'j', 'a', 'r', '\\t', 'O', 'p', 't', 'i', 'm', 'i', 'z', 'i', 'n', 'g', ' ', 'l', 'i', 's', 't', ' ', 'c', 'o', 'm', 'p', 'r', 'e', 'h', 'e', 'n', 's', 'i', 'o', 'n', ' ', 't', 'o', ' ', 'f', 'i', 'n', 'd', ' ', 'p', 'a', 'i', 'r', 's', ' ', 'o', 'f', ' ', 'c', 'o', '-', 'p', 'r', 'i', 'm', 'e', ' ', 'n', 'u', 'm', 'b', 'e', 'r', 's', '\\t', 'k', 'i', 'v', 'y', ' ', 'a', 'c', 'c', 'e', 's', 's', ' ', 'c', 'h', 'i', 'l', 'd', ' ', 'i', 'd', '\\t', 'S', 't', 'u', 'c', 't', 'u', 'r', 'e', ' ', 'v', 'a', 'l', 'u', 'e', 's', ' ', 'n', 'o', 't', ' ', 's', 't', 'a', 'y', 'i', 'n', 'g', ',', ' ', 'v', 'a', 'l', 'u', 'e', 's', ' ', 'c', 'h', 'a', 'n', 'g', 'e', 'd', ' ', 't', 'o', ' ', '-', '8', '5', '8', '9', '9', '3', '4', '6', '0', '\\t', 'S', 'e', 't', ' ', 't', 'o', 'o', 'l', 'b', 'a', 'r', ' ', 't', 'i', 't', 'l', 'e', '\\t', 'H', 'o', 'w', ' ', 't', 'o', ' ', 'a', 'd', 'd', ' ', 'a', ' ', 'r', 'o', 'w', ' ', 't', 'o', ' ', 'a', ' ', 't', 'a', 'b', 'l', 'e', ' ', 'u', 's', 'i', 'n', 'g', ' ', 's', 'w', 't', '\\t', 'j', 'Q', 'u', 'e', 'r', 'y', ' ', 'u', 'i', ' ', 's', 'e', 'l', 'e', 'c', 't', 'm', 'e', 'n', 'u', ' ', 'v', 'e', 'r', 't', 'i', 'c', 'a', 'l', ' ', 'p', 'o', 's', 'i', 't', 'i', 'o', 'n', ' ', 'o', 'f', 'f', 's', 'e', 't', ' ', '(', 'r', 'e', 'l', 'a', 't', 'i', 'v', 'e', 'l', 'y', ' ', 't', 'o', ' ', 'b', 'u', 't', 't', 'o', 'n', 's', ' ', 'i', 'n', ' ', 't', 'h', 'i', 's', ' ', 'l', 'i', 'n', 'e', ')', '\\t', 'S', 'S', 'I', 'S', ' ', ':', ' ', 'W', 'a', 'r', 'n', 'i', 'n', 'g', ':', ' ', 'F', 'a', 'i', 'l', 'e', 'd', ' ', 't', 'o', ' ', 'd', 'e', 'c', 'r', 'y', 'p', 't', ' ', 'a', 'n', ' ', 'e', 'n', 'c', 'r', 'y', 'p', 't', 'e', 'd', ' ', 'X', 'M', 'L', ' ', 'n', 'o', 'd', 'e', '\\t', 'g', 'p', 's', ' ', 'n', 'o', 't', ' ', 'g', 'e', 't', 't', 'i', 'n', 'g', ' ', 'u', 's', 'e', 'r', ' ', 'l', 'o', 'c', 'a', 't', 'i', 'o', 'n', '\\t', 'E', 'x', 'p', 'o', 'r', 't', 'i', 'n', 'g', ' ', 'a', ' ', 's', 'i', 'm', 'p', 'l', 'e', ' ', 'm', 'o', 'd', 'e', 'l', ' ', 'w', 'i', 't', 'h', ' ', 't', 'e', 'x', 't', 'u', 'r', 'e', ' ', 'f', 'r', 'o', 'm', ' ', 'B', 'l', 'e', 'n', 'd', 'e', 'r', ' ', 't', 'o', ' ', 't', 'h', 'r', 'e', 'e', '.', 'j', 's', '\\t', 'P', 'o', 's', 't', 'm', 'a', 'n', ' ', '-', ' ', 'R', 'e', 'q', 'u', 'i', 'r', 'e', 'd', ' ', 'M', 'u', 'l', 't', 'i', 'p', 'a', 'r', 't', 'F', 'i', 'l', 'e', ' ', 'p', 'a', 'r', 'a', 'm', 'e', 't', 'e', 'r', ' ', 'i', 's', ' ', 'n', 'o', 't', ' ', 'p', 'r', 'e', 's', 'e', 'n', 't', ' ', '-', ' ', 'S', 'p', 'r', 'i', 'n', 'g', ',', ' ', 'J', 'a', 'v', 'a', '\\t', 'P', 'r', 'e', 'v', 'e', 'n', 't', ' ', 'a', 'k', 'k', 'a', ' ', 'a', 'c', 't', 'o', 'r', ' ', 'f', 'r', 'o', 'm', ' ', 'r', 'e', 's', 't', 'a', 'r', 't', 'i', 'n', 'g', ' ', 'c', 'h', 'i', 'l', 'd', ' ', 'a', 'c', 't', 'o', 'r', '\\t', 'U', 'I', 'T', 'a', 'b', 'l', 'e', 'V', 'i', 'e', 'w', ' ', 'n', 'o', 't', ' ', 'l', 'o', 'a', 'd', 'e', 'd', '\\t', 'N', 'T', 'F', 'S', ' ', 'p', 'e', 'r', 'm', 'i', 's', 's', 'i', 'o', 'n', ' ', 'w', 'i', 't', 'h', ' ', 'm', 'o', 'd', 'i', 'f', 'y', ' ', 'd', 'a', 't', 'e', '\\t', 'Q', 'T', 'r', 'e', 'e', 'V', 'i', 'e', 'w', ' ', '-', ' ', 'h', 'o', 'w', ' ', 't', 'o', ' ', 't', 'e', 'l', 'l', ' ', 'i', 'f', ' ', 'a', ' ', 'd', 'r', 'a', 'g', '/', 'd', 'r', 'o', 'p', ' ', 'e', 'v', 'e', 'n', 't', ' ', 'i', 's', ' ', 'a', ' ', 'r', 'e', 'o', 'r', 'd', 'e', 'r', ' ', 'o', 'r', ' ', 'a', ' ', 'm', 'o', 'v', 'e', ' ', 'b', 'e', 't', 'w', 'e', 'e', 'n', ' ', 'p', 'a', 'r', 'e', 'n', 't', 's', '?', '\\t', 'P', 'r', 'e', 'v', 'e', 'n', 't', ' ', 'X', 'U', 'L', ' ', 'n', 'o', 't', 'i', 'f', 'i', 'c', 'a', 't', 'i', 'o', 'n', 'B', 'o', 'x', ' ', 'f', 'r', 'o', 'm', ' ', 'c', 'l', 'o', 's', 'i', 'n', 'g', ' ', 'w', 'h', 'e', 'n', ' ', 'b', 'u', 't', 't', 'o', 'n', ' ', 'i', 's', ' ', 'h', 'i', 't', '\\t', 'C', 'o', 'd', 'e', ' ', 'n', 'o', 't', ' ', 'w', 'o', 'r', 'k', 'i', 'n', 'g', '.', ' ', 'N', 'o', 't', 'i', 'f', 'i', 'c', 'a', 't', 'i', 'o', 'n', ' ', 't', 'h', 'a', 't', ' ', 's', 'h', 'o', 'u', 'l', 'd', ' ', 'g', 'o', ' ', 'o', 'f', 'f', ' ', 'o', 'n', 'c', 'e', ' ', 'a', ' ', 'd', 'a', 'y', '\\t', 'A', 'n', 'd', 'r', 'o', 'i', 'd', ' ', 'A', 'c', 't', 'i', 'o', 'n', ' ', 'B', 'a', 'r', ' ', 'B', 'u', 't', 't', 'o', 'n', ' ', 'd', 'o', 'e', 's', ' ', 'n', 'o', 't', ' ', 's', 'h', 'o', 'w', ' ', 'u', 'p', '\\t', '$', '.', 'w', 'i', 'd', 'g', 'e', 't', ' ', 'i', 's', ' ', 'n', 'o', 't', ' ', 'a', ' ', 'f', 'u', 'n', 'c', 't', 'i', 'o', 'n', '\\t', 'j', 'q', 'u', 'e', 'r', 'y', ' ', 'h', 'i', 'd', 'e', ' ', 'n', 'o', 't', ' ', 't', 'a', 'k', 'i', 'n', 'g', ' ', 'p', 'a', 'r', 'a', 'm', 'e', 't', 'e', 'r', '\\t', 'H', 'o', 'w', ' ', 'c', 'a', 'n', ' ', 'i', ' ', 'u', 's', 'e', ' ', 'a', ' ', 'o', 'n', 'e', ' ', 'f', 'o', 'r', 'm', '/', 't', 'a', 'b', 'l', 'e', ' ', 'f', 'o', 'r', ' ', 'm', 'u', 'l', 't', 'i', 'p', 'l', 'e', ' ', 'M', 'V', 'C', \"'\", 's', '?', '\\t', 'M', 'S', 'T', 'e', 's', 't', ':', ' ', 'e', 'x', 'e', 'c', 'u', 't', 'i', 'o', 'n', ' ', 'o', 'r', 'd', 'e', 'r', ' ', 'o', 'f', ' ', 't', 'e', 's', 't', 's', ' ', 'w', 'i', 't', 'h', 'i', 'n', ' ', 't', 'h', 'e', ' ', 's', 'a', 'm', 'e', ' ', 'T', 'e', 's', 't', 'C', 'l', 'a', 's', 's', '\\t', 'H', 'o', 'w', ' ', 't', 'o', ' ', 'c', 'a', 'l', 'l', ' ', 'j', 'Q', 'u', 'e', 'r', 'y', ' ', 'f', 'u', 'n', 'c', 't', 'i', 'o', 'n', ' ', 'i', 'n', ' ', 'H', 'T', 'M', 'L', ' ', 'r', 'e', 't', 'u', 'r', 'n', 'e', 'd', ' ', 'b', 'y', ' ', 'A', 'J', 'A', 'X', '\\t', 'O', 'A', 'u', 't', 'h', '2', ' ', 's', 'e', 'c', 'u', 'r', 'i', 't', 'y', ' ', 'c', 'o', 'n', 's', 'i', 'd', 'e', 'r', 'a', 't', 'i', 'o', 'n', 's', ' ', 'f', 'o', 'r', ' ', 'c', 'l', 'i', 'e', 'n', 't', '_', 'i', 'd', '\\t', 'G', 'o', 'o', 'g', 'l', 'e', ' ', 'C', 'o', 'm', 'p', 'u', 't', 'e', ' ', 'I', 'n', 's', 't', 'a', 'n', 'c', 'e', ' ', '1', '0', '0', '%', ' ', 'C', 'P', 'U', ' ', 'U', 't', 'i', 'l', 'i', 's', 'a', 't', 'i', 'o', 'n', '\\t', 'I', 'n', 'c', 'o', 'm', 'p', 'a', 't', 'i', 'b', 'l', 'e', ' ', 'b', 'l', 'o', 'c', 'k', ' ', 'p', 'o', 'i', 'n', 't', 'e', 'r', ' ', 't', 'y', 'p', 'e', ' ', 'w', 'h', 'e', 'n', ' ', 'r', 'e', 't', 'u', 'r', 'n', 'i', 'n', 'g', ' ', 'a', 'r', 'r', 'a', 'y', '?', '\\t', 'C', 'a', 'l', 'l', 'i', 'n', 'g', ' ', 'a', ' ', 'R', 'E', 'S', 'T', ' ', 'a', 'p', 'i', ' ', 'w', 'i', 't', 'h', ' ', 'a', 'n', ' ', 'e', 'n', 'c', 'r', 'y', 'p', 't', 'e', 'd', ' ', 'P', 'E', 'M', ' ', 'c', 'l', 'i', 'e', 'n', 't', ' ', 'c', 'e', 'r', 't', 'i', 'f', 'i', 'c', 'a', 't', 'e', '\\t', 'S', 'e', 'l', 'e', 'c', 't', ' ', 'a', 'l', 'l', ' ', 'o', 'b', 'j', 'e', 'c', 't', 's', ' ', 'i', 'n', ' ', 'a', ' ', 'l', 'i', 's', 't', '\\t', 'D', 'r', 'a', 'g', ' ', 'a', 'n', 'd', ' ', 'i', 'n', 's', 'e', 'r', 't', ' ', 'd', 'i', 'v', ' ', 'i', 'n', 't', 'o', ' ', 'a', 'n', 'o', 't', 'h', 'e', 'r', ' ', 'd', 'i', 'v', '\\t', 'H', 'o', 'w', ' ', 't', 'o', ' ', 'p', 'r', 'e', 'v', 'e', 'n', 't', ' ', 'f', 'i', 'r', 'e', 'f', 'o', 'x', ' ', 'f', 'r', 'o', 'm', ' ', 's', 'c', 'r', 'o', 'l', 'l', 'i', 'n', 'g', ' ', 't', 'o', ' ', 't', 'h', 'e', ' ', 'b', 'o', 't', 't', 'o', 'm', ' ', 'o', 'f', ' ', 't', 'h', 'e', ' ', 'p', 'a', 'g', 'e', ' ', 'w', 'h', 'e', 'n', ' ', 'a', ' ', 'l', 'a', 'r', 'g', 'e', ' ', 'p', 'o', 'p', 'u', 'p', ' ', 'i', 's', ' ', 'o', 'p', 'e', 'n', 'e', 'd', '\\t', 'H', 'o', 'w', ' ', 't', 'o', ' ', 'h', 'a', 'n', 'd', 'l', 'e', ' ', '(', '(', 'L', 'i', 's', 't', '<', 's', 't', 'r', 'i', 'n', 'g', '>', ')', 'S', 'e', 's', 's', 'i', 'o', 'n', '.', 'A', 'd', 'd', '(', '\"', '\"', ')', '\\t', 'm', 'y', 's', 'q', 'l', ' ', 'i', 'n', 's', 'e', 'r', 't', 'i', 'n', 'g', ' ', 'i', 'n', 't', 'o', ' ', '2', ' ', 't', 'a', 'b', 'l', 'e', 's', ' ', 'a', 't', ' ', 'o', 'n', 'c', 'e', ' ', 't', 'h', 'a', 't', ' ', 'h', 'a', 'v', 'e', ' ', 'p', 'r', 'i', 'm', 'a', 'r', 'y', ' ', 'k', 'e', 'y', ' ', 'a', 'n', 'd', ' ', 'f', 'o', 'r', 'e', 'i', 'g', 'n', ' ', 'k', 'e', 'y', '\\t', 'W', 'h', 'a', 't', \"'\", 's', ' ', 't', 'h', 'e', ' ', 'r', 'i', 'g', 'h', 't', ' ', 'w', 'a', 'y', ' ', 't', 'o', ' ', 'r', 'e', 'm', 'o', 'v', 'e', ' ', 'm', 'u', 'l', 't', 'i', 'p', 'l', 'e', ' ', 'i', 't', 'e', 'm', 's', ' ', 'f', 'r', 'o', 'm', ' ', 'a', ' ', 'Q', 'T', 'a', 'b', 'l', 'e', 'W', 'i', 'd', 'g', 'e', 't', '?', '\\t', 'W', 'h', 'e', 'n', ' ', 'M', 'S', 'T', 'e', 's', 't', ' ', 'f', 'a', 'i', 'l', 's', ' ', 'i', 'n', ' ', 'T', 'e', 's', 't', 'I', 'n', 'i', 't', 'i', 'a', 'l', 'i', 'z', 'e', ',', ' ', 'w', 'h', 'y', ' ', 'd', 'o', 'e', 's', 'n', \"'\", 't', ' ', 'T', 'e', 's', 't', 'C', 'l', 'e', 'a', 'n', 'u', 'p', ' ', 'g', 'e', 't', ' ', 'e', 'x', 'e', 'c', 'u', 't', 'e', 'd', '?', '\\t', 'P', 'H', 'P', ' ', 'C', 'o', 'd', 'e', 'I', 'g', 'n', 'i', 't', 'e', 'r', ' ', 'a', 'p', 'p', 'l', 'i', 'c', 'a', 't', 'i', 'o', 'n', ' ', 'n', 'o', 't', ' ', 'o', 'p', 'e', 'n', 'i', 'n', 'g', ' ', 'a', 'n', 'y', ' ', 'p', 'a', 'g', 'e', ' ', 'e', 'x', 'c', 'e', 'p', 't', ' ', 'd', 'e', 'f', 'a', 'u', 'l', 't', ' ', 'c', 'o', 'n', 't', 'r', 'o', 'l', 'l', 'e', 'r', '\\t', 'P', 'a', 'r', 's', 'i', 'n', 'g', ' ', 'J', 'S', 'O', 'N', ' ', 'd', 'a', 't', 'a', ' ', 'w', 'i', 't', 'h', 'o', 'u', 't', ' ', 'q', 'u', 'o', 't', 'e', 's', ' ', 'w', 'i', 't', 'h', ' ', 'j', 'Q', 'u', 'e', 'r', 'y', '\\t', 'R', 'e', 'w', 'r', 'i', 't', 'e', ' ', 'u', 'r', 'l', ' ', 'i', 'n', ' ', '.', 'h', 't', 'a', 'c', 'c', 'e', 's', 's', '\\t', 'I', '/', 'O', ' ', 'e', 'r', 'r', 'o', 'r', '(', 's', 'o', 'c', 'k', 'e', 't', ' ', 'e', 'r', 'r', 'o', 'r', ')', ':', ' ', '[', 'E', 'r', 'r', 'n', 'o', ' ', '1', '1', '1', ']', ' ', 'C', 'o', 'n', 'n', 'e', 'c', 't', 'i', 'o', 'n', ' ', 'r', 'e', 'f', 'u', 's', 'e', 'd', '\\t', 'G', 'i', 't', ' ', 'E', 'r', 'r', 'o', 'r', ';', ' ', 'R', 'P', 'C', ' ', 'f', 'a', 'i', 'l', 'e', 'd', ';', ' ', 'r', 'e', 's', 'u', 'l', 't', '=', '2', '2', ',', ' ', 'H', 'T', 'T', 'P', ' ', 'c', 'o', 'd', 'e', ' ', '=', ' ', '4', '0', '1', '\\t', 'T', 'F', 'S', ' ', '2', '0', '1', '0', ' ', '-', ' ', 'S', 'e', 't', ' ', 't', 'h', 'e', ' ', 'S', 't', 'a', 't', 'e', ' ', 'f', 'i', 'e', 'l', 'd', ' ', 't', 'o', ' ', 'a', ' ', 'c', 'e', 'r', 't', 'a', 'i', 'n', ' ', 'v', 'a', 'l', 'u', 'e', '\\t', 'A', 'c', 't', 'i', 'o', 'n', 'S', 'c', 'r', 'i', 'p', 't', ' ', '3', '.', '0', ' ', 'H', 'o', 'w', ' ', 't', 'o', ' ', 'c', 'r', 'e', 'a', 't', 'e', ' ', 'P', 'r', 'o', 'g', 'r', 'e', 's', 's', 'E', 'v', 'e', 'n', 't', ' ', 'i', 'n', 's', 't', 'a', 'n', 'c', 'e', 's', ' ', 'i', 'n', ' ', 'f', 'o', 'r', ' ', 'l', 'o', 'o', 'p', ' ', 'w', 'i', 't', 'h', ' ', 'm', 'u', 'l', 't', 'i', 'p', 'l', 'e', ' ', 'f', 'i', 'l', 'e', 's', ' ', 'l', 'o', 'a', 'd', 'e', 'd', ' ', 'f', 'r', 'o', 'm', ' ', 'X', 'M', 'L', '\\t', 'h', 'o', 'w', ' ', 'c', 'a', 'n', ' ', 'i', ' ', 'e', 'x', 't', 'r', 'a', 'c', 't', ' ', 'm', 'y', ' ', 'q', 'u', 'e', 'r', 'y', ' ', 't', 'o', ' ', 'f', 'i', 'n', 'd', ' ', 'a', 'v', 'e', 'r', 'a', 'g', 'e', '\\t', 'C', '#', ' ', 'W', 'i', 'n', 'd', 'o', 'w', 's', ' ', 'S', 'e', 'r', 'v', 'i', 'c', 'e', ' ', '-', ' ', 'D', 'e', 'f', 'a', 'u', 'l', 't', ' ', 'A', 'r', 'g', 'u', 'm', 'e', 'n', 't', 's', ' ', 'o', 'n', ' ', 'I', 'n', 's', 't', 'a', 'l', 'l', '\\t', 'U', 'p', 'l', 'o', 'a', 'd', ' ', 'l', 'a', 'r', 'g', 'e', ' ', 'f', 'i', 'l', 'e', 's', ' ', 'w', 'i', 't', 'h', ' ', 'n', 'o', 'd', 'e', ' ', 'j', 's', '\\t', 'C', 'h', 'a', 'n', 'g', 'i', 'n', 'g', ' ', 't', 'a', 'b', 'l', 'e', ' ', 'h', 'e', 'a', 'd', 'e', 'r', 's', ' ', 'i', 'n', ' ', 'c', 'a', 'k', 'e', 'p', 'h', 'p', '\\t', 'h', 'e', 'l', 'l', 'o', ' ', 'w', 'o', 'r', 'l', 'd', ' ', 'w', 'i', 't', 'h', ' ', 'J', 'M', 'S', ' ', 'o', 'n', ' ', 'G', 'l', 'a', 's', 's', 'f', 'i', 's', 'h', '\\t', 'C', 'o', 'u', 'n', 't', 'd', 'o', 'w', 'n', ' ', 't', 'i', 'm', 'e', 'r', ' ', 'u', 's', 'i', 'n', 'g', ' ', 'D', 'a', 't', 'e', 'T', 'i', 'm', 'e', '.', 'P', 'a', 'r', 's', 'e', ' ', 'w', 'i', 't', 'h', 'o', 'u', 't', ' ', 'd', 'e', 'f', 'i', 'n', 'e', 'd', ' ', 'd', 'a', 't', 'e', '\\t', 'I', 'm', 'a', 'g', 'e', 's', ' ', 'i', 'n', ' ', 't', 'h', 'e', ' ', \"'\", 'd', 'r', 'a', 'w', 'a', 'b', 'l', 'e', \"'\", ' ', 'f', 'o', 'l', 'd', 'e', 'r', ' ', 'a', 'r', 'e', ' ', 'r', 'e', 's', 'i', 'z', 'e', 'd', ' ', 'a', 'u', 't', 'o', 'm', 'a', 't', 'i', 'c', 'a', 'l', 'l', 'y', '?', '\\t', 'F', 'i', 'n', 'd', ' ', 'f', 'i', 'l', 'e', 's', ' ', 'w', 'i', 't', 'h', ' ', 't', 'h', 'e', ' ', 's', 'a', 'm', 'e', ' ', 's', 'i', 'z', 'e', ' ', 'a', 'n', 'd', ' ', 'd', 'e', 'l', 'l', 'e', 't', 'e', ' ', 'a', 'l', 'l', ' ', 'd', 'u', 'p', 'l', 'i', 'c', 'a', 't', 'e', 's', ' ', 'e', 'x', 'c', 'e', 'p', 't', ' ', 't', 'h', 'e', ' ', 'o', 'n', 'e', ' ', 'h', 'a', 's', ' ', 't', 'h', 'e', ' ', 's', 'h', 'o', 'r', 't', 'e', 's', 't', ' ', 'n', 'a', 'm', 'e', ' ', 'u', 's', 'i', 'n', 'g', ' ', 's', 'h', 'e', 'l', 'l', ' ', 's', 'c', 'r', 'i', 'p', 't', '\\t', 'W', 'r', 'i', 't', 'i', 'n', 'g', ' ', 'R', 'u', 'l', 'e', 's', ' ', 'b', 'o', 't', 'h', ' ', 'i', 'n', ' ', 'F', 'i', 'r', 'e', 'b', 'a', 's', 'e', ' ', 'a', 'n', 'd', ' ', 'i', 'n', ' ', 'y', 'o', 'u', 'r', ' ', 'C', 'o', 'd', 'e', '\\t', 'S', 'e', 'a', 'r', 'c', 'h', ' ', 'f', 'o', 'r', ' ', 'w', 'o', 'r', 'd', 's', ' ', 'w', 'i', 't', 'h', ' ', 's', 'p', 'e', 'c', 'i', 'f', 'i', 'c', ' ', 's', 't', 'a', 'r', 't', 's', ' ', 'a', 'n', 'd', ' ', 'e', 'n', 'd', 'i', 'n', 'g', 's', '\\t', 'I', 'n', 's', 't', 'a', 'l', 'l', ' ', 'N', 'e', 'o', '4', 'j', ' ', '3', '.', '0', '+', ' ', 'a', 's', ' ', 'a', ' ', 'w', 'i', 'n', 'd', 'o', 'w', 's', ' ', 's', 'e', 'r', 'v', 'i', 'c', 'e', '\\t', 'P', 'H', 'P', ' ', 'c', 'o', 'n', 'v', 'e', 'r', 't', ' ', '2', ' ', 'd', 'i', 'g', 'i', 't', ' ', 'y', 'e', 'a', 'r', ' ', 't', 'o', ' ', 'a', ' ', '4', ' ', 'd', 'i', 'g', 'i', 't', ' ', 'y', 'e', 'a', 'r', '\\t', 'J', 'S', 'D', 'o', 'c', ' ', 'a', 'u', 't', 'o', '-', 'c', 'o', 'm', 'p', 'l', 'e', 't', 'e', ' ', 'd', 'o', 'c', 'u', 'm', 'e', 'n', 't', 'a', 't', 'i', 'o', 'n', ' ', 'i', 'n', ' ', 'E', 'c', 'l', 'i', 'p', 's', 'e', ' ', 'i', 's', ' ', 'n', 'o', 't', ' ', 'w', 'o', 'r', 'k', 'i', 'n', 'g', ' ', 'f', 'o', 'r', ' ', 'C', 'l', 'a', 's', 's', '.', 'c', 'r', 'e', 'a', 't', 'e', '(', ')', '\\t', 'S', 'p', 'l', 'i', 't', ' ', 'a', ' ', 'i', 'n', 'f', 'i', 'x', ' ', 'S', 't', 'r', 'i', 'n', 'g', ' ', 't', 'o', ' ', 'a', 'n', ' ', 'a', 'r', 'r', 'a', 'y', ' ', 'o', 'f', ' ', 'S', 't', 'r', 'i', 'n', 'g', ' ', 'i', 'n', ' ', 'j', 'a', 'v', 'a', '\\t', 'F', 'o', 'l', 'd', 'e', 'r', ' ', 'p', 'e', 'r', 'm', 'i', 's', 's', 'i', 'o', 'n', 's', ' ', 'i', 'n', ' ', 'A', 'z', 'u', 'r', 'e', ' ', 'w', 'e', 'b', ' ', 's', 'i', 't', 'e', 's', '\\t', 'O', 'n', 'l', 'y', ' ', 'h', 'a', 'v', 'e', ' ', 's', 'e', 'p', 'a', 'r', 'a', 't', 'o', 'r', 's', ' ', 'b', 'e', 't', 'w', 'e', 'e', 'n', ' ', 'U', 'I', 'T', 'a', 'b', 'l', 'e', 'V', 'i', 'e', 'w', 'C', 'e', 'l', 'l', 's', '\\t', 'U', 'n', 'c', 'a', 'u', 'g', 'h', 't', ' ', 'S', 'y', 'n', 't', 'a', 'x', ' ', 'e', 'r', 'r', 'o', 'r', ',', ' ', 'u', 'n', 'r', 'e', 'c', 'o', 'g', 'n', 'i', 'z', 'e', 'd', ' ', 'e', 'x', 'p', 'r', 'e', 's', 's', 'i', 'o', 'n', ':', ' ', '[', 'o', 'b', 'j', 'e', 'c', 't', ' ', 'O', 'b', 'j', 'e', 'c', 't', ']', '\\t', 'N', 'e', 'e', 'd', ' ', 'h', 't', 'a', 'c', 'c', 'e', 's', 's', ' ', 'r', 'e', 'd', 'i', 'r', 'e', 'c', 't', 'i', 'o', 'n', '\\t', 'H', 'o', 'w', ' ', 't', 'o', ' ', 'c', 'r', 'e', 'a', 't', 'e', ' ', 't', 'h', 'i', 's', ' ', 'b', 'o', 'o', 't', 's', 't', 'r', 'a', 'p', ' ', 'c', 'a', 'r', 'o', 'u', 's', 'e', 'l', ' ', 'o', 'f', ' ', 'i', 'f', 'r', 'a', 'm', 'e', 's', '?', '\\t', 'D', 'o', 'c', 't', 'r', 'i', 'n', 'e', '2', ' ', '-', ' ', 'G', 'e', 't', ' ', 'e', 'n', 't', 'i', 't', 'y', ' ', 'I', 'D', ' ', 'b', 'e', 'f', 'o', 'r', 'e', ' ', 'f', 'l', 'u', 's', 'h', '\\t', 'X', 'q', 'u', 'e', 'r', 'y', ' ', 'h', 'e', 'l', 'p', ' ', 's', 'o', 'r', 't', 'e', 'd', ' ', 'p', 'a', 'r', 'e', 'n', 't', ' ', 'c', 'h', 'i', 'l', 'd', ' ', 'r', 'e', 'l', 'a', 't', 'i', 'o', 'n', 's', 'h', 'i', 'p', '\\t', 'H', 'o', 'w', ' ', 'T', 'o', ' ', 'L', 'o', 'a', 'd', ' ', 'S', 'e', 'p', 'a', 'r', 'a', 't', 'e', ' ', 'P', 'a', 'g', 'e', 's', ' ', 'I', 'n', ' ', 'A', 'n', 'd', 'r', 'o', 'i', 'd', ' ', 'G', 'r', 'i', 'd', 'v', 'i', 'e', 'w', ' ', 'W', 'h', 'i', 'l', 'e', ' ', 'C', 'l', 'i', 'c', 'k', 'i', 'n', 'g', ' ', 'B', 'l', 'o', 'c', 'k', 's', ' ', 'o', 'r', ' ', 'I', 't', 'e', 'm', 's', '?', '\\t', 'k', 'i', 'n', 'e', 't', 'i', 'c', 'j', 's', ' ', 'r', 'e', 'c', 't', ' ', 'f', 'i', 'l', 'l', 'T', 'e', 'x', 't', '\\t', 'i', 's', ' ', 'a', ' ', 'q', 'u', 'e', 'r', 'y', ' ', 's', 't', 'r', 'i', 'n', 'g', ' ', 'w', 'i', 't', 'h', ' ', 'a', ' ', '/', ' ', 'i', 'n', ' ', 'i', 't', ' ', 'v', 'a', 'l', 'i', 'd', '?', '\\t', 'H', 'o', 'w', ' ', 't', 'o', ' ', 'c', 'o', 'n', 'v', 'e', 'r', 't', ' ', 't', 'h', 'e', ' ', 'B', 'Y', 'T', 'E', 'A', 'R', 'R', 'A', 'Y', 'S', ' ', 't', 'o', ' ', 'N', 'S', 'S', 't', 'r', 'i', 'n', 'g', ' ', 'i', 'n', ' ', 'o', 'b', 'j', 'e', 'c', 't', 'i', 'v', 'e', ' ', '-', 'c', '\\t', 'w', 'h', 'y', ' ', 'i', 's', ' ', 's', 't', 'd', ':', ':', 'c', 'h', 'r', 'o', 'n', 'o', ':', ':', 'd', 'u', 'r', 'a', 't', 'i', 'o', 'n', ' ', 'b', 'a', 's', 'e', 'd', ' ', 'o', 'n', ' ', 's', 'e', 'c', 'o', 'n', 'd', 's', '\\t', 'W', 'C', 'F', ' ', 'R', 'E', 'S', 'T', ' ', 'C', 'l', 'i', 'e', 'n', 't', ' ', 'E', 'x', 'c', 'e', 'p', 't', 'i', 'o', 'n', '\\t', 'U', 's', 'i', 'n', 'g', ' ', 'U', 'I', 'B', 'i', 'n', 'd', 'e', 'r', ' ', 't', 'o', ' ', 'c', 'r', 'e', 'a', 't', 'e', ' ', 'a', ' ', 'W', 'i', 'd', 'g', 'e', 't', ' ', 't', 'o', ' ', 'g', 'o', ' ', 'i', 'n', 't', 'o', ' ', 'a', ' ', 'D', 'i', 'a', 'l', 'o', 'g', '\\t', 'O', 'n', 'e', 'D', 'r', 'i', 'v', 'e', ' ', 'f', 'o', 'r', ' ', 'B', 'u', 's', 'i', 'n', 'e', 's', 's', ' ', ':', '\"', 'i', 'n', 'v', 'a', 'l', 'i', 'd', '_', 'r', 'e', 'q', 'u', 'e', 's', 't', '\"', ',', '\"', 'e', 'r', 'r', 'o', 'r', '_', 'd', 'e', 's', 'c', 'r', 'i', 'p', 't', 'i', 'o', 'n', '\"', ':', '\"', 'A', 'A', 'D', 'S', 'T', 'S', '9', '0', '0', '1', '4', ':', ' ', 'T', 'h', 'e', ' ', 'r', 'e', 'q', 'u', 'e', 's', 't', ' ', 'b', 'o', 'd', 'y', ' ', 'm', 'u', 's', 't', ' ', 'c', 'o', 'n', 't', 'a', 'i', 'n', ' ', 't', 'h', 'e', ' ', 'f', 'o', 'l', 'l', 'o', 'w', 'i', 'n', 'g', ' ', 'p', 'a', 'r', 'a', 'm', 'e', 't', 'e', 'r', ':', ' ', \"'\", 'g', 'r', 'a', 'n', 't', '_', 't', 'y', 'p', 'e', '\\t', 'A', 'r', 'e', ' ', 't', 'h', 'e', ' ', 'a', 'n', 'y', ' ', 'o', 'p', 't', 'i', 'o', 'n', 's', ' ', 'f', 'o', 'r', ' ', 'i', 'n', 't', 'e', 'r', 'f', 'a', 'c', 'i', 'n', 'g', ' ', 'w', 'i', 't', 'h', ' ', 't', 'h', 'e', ' ', 'c', 'o', 'm', 'm', 'a', 'n', 'd', ' ', 'p', 'r', 'o', 'm', 'p', 't', ' ', 'p', 'r', 'o', 'c', 'e', 's', 's', ' ', 'f', 'r', 'o', 'm', ' ', 'a', ' ', '.', 'N', 'E', 'T', ' ', 'a', 'p', 'p', 'l', 'i', 'c', 'a', 't', 'i', 'o', 'n', ' ', 'o', 't', 'h', 'e', 'r', ' ', 't', 'h', 'a', 'n', ' ', 't', 'h', 'e', ' ', 's', 't', 'a', 'n', 'd', 'a', 'r', 'd', ' ', 'I', 'O', '?', '\\t', 'A', 'd', 'd', 'i', 'n', 'g', ' ', 'd', 'a', 't', 'a', ' ', 'i', 'n', ' ', 't', 'h', 'e', ' ', 'd', 'a', 't', 'a', 'b', 'a', 's', 'e', ' ', 'u', 's', 'i', 'n', 'g', ' ', 'm', 'i', 'c', 'r', 'o', 's', 'o', 'f', 't', ' ', 'a', 'c', 'c', 'e', 's', 's', ' ', 'a', 'n', 'd', ' ', 'O', 'l', 'e', 'D', 'b', ' ', 'i', 'n', ' ', 'C', '#', '\\t', 'j', 'Q', 'u', 'e', 'r', 'y', ' ', 'A', 'j', 'a', 'x', ' ', 'h', 'e', 'a', 'd', 'e', 'r', ' ', 'n', 'o', 't', ' ', 'b', 'e', 'i', 'n', 'g', ' ', 'p', 'a', 's', 's', 'e', 'd', '\\t', 'A', 'n', 'g', 'u', 'l', 'a', 'r', 'J', 'S', ':', ' ', 'M', 'u', 'l', 't', 'i', 'p', 'l', 'e', ' ', 'v', 'i', 'e', 'w', 's', ' ', 'w', 'i', 't', 'h', ' ', 'r', 'o', 'u', 't', 'i', 'n', 'g', ' ', 'w', 'i', 't', 'h', 'o', 'u', 't', ' ', 'l', 'o', 's', 'i', 'n', 'g', ' ', 's', 'c', 'o', 'p', 'e', '\\t', 'B', 'a', 'c', 'k', 'b', 'o', 'n', 'e', 'J', 'S', ' ', 'H', 'o', 'w', ' ', 't', 'o', ' ', 'm', 'e', 'r', 'g', 'e', ' ', 'c', 'o', 'l', 'l', 'e', 'c', 't', 'i', 'o', 'n', 's', '\\t', 'S', 'p', 'e', 'c', 'f', 'l', 'o', 'w', ' ', ':', 'C', 'o', 'u', 'l', 'd', ' ', 'n', 'o', 't', ' ', 'l', 'o', 'a', 'd', ' ', 'f', 'i', 'l', 'e', ' ', 'o', 'r', ' ', 'a', 's', 's', 'e', 'm', 'b', 'l', 'y', ' ', 'T', 'e', 'c', 'h', 'T', 'a', 'l', 'k', '.', 'S', 'p', 'e', 'c', 'F', 'l', 'o', 'w', ',', ' ', 'V', 'e', 'r', 's', 'i', 'o', 'n', '=', '2', '.', '2', '.', '0', '.', '0', '\\t', 'M', 'a', 'x', ' ', 'b', 'y', 't', 'e', ' ', 'c', 'a', 'l', 'c', 'u', 'l', 'a', 't', 'e', 'd', ' ', 'b', 'y', ' ', 'S', 'y', 's', 't', 'e', 'm', '.', 'R', 'u', 'n', 't', 'i', 'm', 'e', '.', 'I', 'n', 't', 'e', 'r', 'o', 'p', 'S', 'e', 'r', 'v', 'i', 'c', 'e', 's', '.', 'M', 'a', 'r', 's', 'h', 'a', 'l', '.', 'S', 'i', 'z', 'e', 'O', 'f', '(', ')', '\\t', 'H', 'o', 'w', ' ', 'c', 'a', 'n', ' ', 'm', 'y', ' ', 'a', 'p', 'p', 'l', 'i', 'c', 'a', 't', 'i', 'o', 'n', ' ', 'r', 'e', 't', 'r', 'i', 'e', 'v', 'e', ' ', 'c', 'u', 's', 't', 'o', 'm', ' ', 'f', 'i', 'e', 'l', 'd', 's', ' ', 'f', 'r', 'o', 'm', ' ', 'a', ' ', 'D', 'o', 'c', 'u', 'S', 'i', 'g', 'n', ' ', 't', 'r', 'a', 'n', 's', 'a', 'c', 't', 'i', 'o', 'n', '?', '\\t', 'a', 'd', 'd', ' ', 'a', 'c', 't', 'i', 'v', 'e', ' ', 's', 't', 'a', 't', 'e', ' ', 't', 'o', ' ', 'b', 'u', 't', 't', 'o', 'n', ' ', 'i', 'n', ' ', 'a', ' ', 'b', 'u', 't', 't', 'o', 'n', ' ', 'g', 'r', 'o', 'u', 'p', '\\t', 'H', 'o', 'w', ' ', 't', 'o', ' ', 'd', 'e', 'f', 'i', 'n', 'e', ' ', 'c', 'l', 'e', 'a', 'r', ' ', 'r', 'a', 'n', 'g', 'e', ' ', 'f', 'o', 'r', ' ', 'p', 'i', 'x', 'e', 'l', ' ', 'c', 'o', 'l', 'o', 'r', '\\t', 'R', 'o', 's', 'l', 'y', 'n', ' ', 'V', 'i', 's', 'u', 'a', 'l', 'B', 'a', 's', 'i', 'c', '.', 'S', 'c', 'r', 'i', 'p', 't', 'E', 'n', 'g', 'i', 'n', 'e', ' ', 'd', 'o', 'e', 's', 'n', 't', ' ', 'r', 'e', 'c', 'o', 'g', 'n', 'i', 'z', 'e', ' ', 'h', 'o', 's', 't', 'O', 'b', 'j', 'e', 'c', 't', ' ', 'w', 'r', 'i', 't', 't', 'e', 'n', ' ', 'o', 'n', ' ', 'C', '#', '\\t', 'N', 'e', 'i', 't', 'h', 'e', 'r', ' ', 'B', 'i', 'n', 'd', 'i', 'n', 'g', 'R', 'e', 's', 'u', 'l', 't', ' ', 'n', 'o', 'r', ' ', 'p', 'l', 'a', 'i', 'n', ' ', 't', 'a', 'r', 'g', 'e', 't', ' ', 'o', 'b', 'j', 'e', 'c', 't', ' ', 'f', 'o', 'r', ' ', 'b', 'e', 'a', 'n', ' ', 'n', 'a', 'm', 'e', ' ', \"'\", 'c', 'a', 't', 'e', 'g', 'o', 'r', 'y', 'O', 'p', 't', 'i', 'o', 'n', 's', \"'\", ' ', 'a', 'v', 'a', 'i', 'l', 'a', 'b', 'l', 'e', ' ', 'a', 's', ' ', 'r', 'e', 'q', 'u', 'e', 's', 't', ' ', 'a', 't', 't', 'r', 'i', 'b', 'u', 't', 'e', '\\t', 'H', 'o', 'w', ' ', 't', 'o', ' ', 'c', 'h', 'a', 'n', 'g', 'e', ' ', 'W', 'i', 'c', 'k', 'e', 't', ' ', 'b', 'e', 'h', 'a', 'v', 'i', 'o', 'u', 'r', ' ', 'o', 'n', ' ', 'P', 'a', 'g', 'e', ' ', 'E', 'x', 'p', 'i', 'r', 'e', 'd', '\\t', 'P', 'H', 'P', 'U', 'n', 'i', 't', ' ', 'c', 'o', 'd', 'e', ' ', 'c', 'o', 'v', 'e', 'r', 'a', 'g', 'e', ' ', 's', 'h', 'o', 'w', ' ', '0', '%', ' ', 'c', 'o', 'v', 'e', 'r', 'a', 'g', 'e', '\\t', 'H', 'o', 'w', ' ', 't', 'o', ' ', 'p', 'r', 'o', 'v', 'e', ' ', 'c', 'o', 'd', 'e', ' ', 'c', 'o', 'r', 'r', 'e', 'c', 't', 'n', 'e', 's', 's', ' ', 'l', 'e', 'm', 'm', 'a', 's', ' ', 'w', 'i', 't', 'h', ' ', 't', 'h', 'e', ' ', '\"', 'u', 'n', 'd', 'e', 'f', 'i', 'n', 'e', 'd', '\"', ' ', 'c', 'o', 'n', 's', 't', 'a', 'n', 't', '\\t', 'V', 'i', 's', 'u', 'a', 'l', ' ', 'S', 't', 'u', 'd', 'i', 'o', ' ', 'h', 'a', 's', ' ', 'i', 'n', 's', 'u', 'f', 'f', 'i', 'c', 'i', 'e', 'n', 't', ' ', 'p', 'r', 'i', 'v', 'i', 'l', 'e', 'g', 'e', 's', ' ', 't', 'o', ' ', 'd', 'e', 'b', 'u', 'g', ' ', 't', 'h', 'i', 's', ' ', 'p', 'r', 'o', 'c', 'e', 's', 's', '.', ' ', 'T', 'o', ' ', 'd', 'e', 'b', 'u', 'g', ' ', 't', 'h', 'i', 's', ' ', 'p', 'r', 'o', 'c', 'e', 's', 's', ',', ' ', 'V', 'i', 's', 'u', 'a', 'l', ' ', 'S', 't', 'u', 'd', 'i', 'o', ' ', 'm', 'u', 's', 't', ' ', 'b', 'e', ' ', 'r', 'u', 'n', ' ', 'a', 's', ' ', 'a', 'n', ' ', 'a', 'd', 'm', 'i', 'n', 'i', 's', 't', 'r', 'a', 't', 'o', 'r', '\\t', 'W', 'e', 'b', 'A', 'p', 'i', ' ', 'E', 'n', 't', 'i', 't', 'y', 'S', 'e', 't', 'C', 'o', 'n', 't', 'r', 'o', 'l', 'l', 'e', 'r', ' ', 'u', 's', 'i', 'n', 'g', ' ', 'c', 'o', 'm', 'p', 'o', 's', 'i', 't', 'e', ' ', 'k', 'e', 'y', 's', '\\t', 'H', 'o', 'w', ' ', 'd', 'o', ' ', 'I', ' ', 's', 'e', 't', ' ', 'u', 'p', ' ', 'a', 'n', ' ', 'O', 'p', 'e', 'n', 'G', 'L', ' ', 'p', 'r', 'o', 'j', 'e', 'c', 't', ' ', 'u', 's', 'i', 'n', 'g', ' ', 'X', 'C', 'o', 'd', 'e', ' ', '4', '.', '2', ' ', 'i', 'n', ' ', 'C', '+', '+', '?', '\\t', 'I', 'n', 'i', 't', 'i', 'a', 'l', 'i', 'z', 'e', ' ', 's', 't', 'a', 't', 'i', 'c', ' ', 'N', 'S', 'S', 't', 'r', 'i', 'n', 'g', ' ', 'a', 't', ' ', 'c', 'l', 'a', 's', 's', ' ', 'l', 'e', 'v', 'e', 'l', '\\t', 'R', 'i', 'c', 'h', ' ', 'T', 'e', 'x', 't', ' ', 'E', 'd', 'i', 't', 'o', 'r', ' ', 'i', 'n', 's', 'i', 'd', 'e', ' ', 'F', 'l', 'u', 'x', ' ', 'F', 'o', 'r', 'm', '\\t', 'S', 'e', 't', 't', 'i', 'n', 'g', ' ', '$', 'P', 'A', 'T', 'H', ' ', 'i', 'n', ' ', 'x', 'a', 'm', 'p', 'p', ' ', 'o', 's', 'x', '\\t', 'H', 'o', 'w', ' ', 't', 'o', ' ', 'e', 'x', 't', 'r', 'a', 'c', 't', ' ', 'd', 'a', 't', 'a', ' ', 'f', 'r', 'o', 'm', ' ', 'h', 't', 'm', 'l', ' ', 'u', 's', 'i', 'n', 'g', ' ', 'P', 'H', 'P', '\\t', 'H', 'o', 'w', ' ', 't', 'o', ' ', 'g', 'e', 't', ' ', 'C', 'u', 'r', 'r', 'e', 'n', 't', ' ', 'l', 'o', 'c', 'a', 't', 'i', 'o', 'n', ' ', 'u', 's', 'i', 'n', 'g', ' ', 'M', 'a', 'p', 'M', 'o', 'd', 'u', 'l', 'e', '?', '\\t', 'E', 'x', 'c', 'e', 'l', ' ', 'V', 'B', 'A', ' ', 'S', 'y', 'n', 't', 'a', 'x', ' ', 'E', 'r', 'r', 'o', 'r', 's', ' ', '&', ' ', 'C', 'o', 'm', 'p', 'i', 'l', 'i', 'n', 'g', ' ', 'I', 's', 's', 'u', 'e', 's', '\\t', 'H', 'o', 'w', ' ', 't', 'o', ' ', 'r', 'e', 'a', 'd', ' ', 'L', 'o', 'g', 'b', 'a', 'c', 'k', ' ', 'c', 'o', 'n', 'f', 'i', 'g', 'u', 'r', 'a', 't', 'i', 'o', 'n', ' ', 'f', 'i', 'l', 'e', ' ', 'f', 'r', 'o', 'm', ' ', 'p', 'a', 't', 'h', ' ', 'o', 'u', 't', 's', 'i', 'd', 'e', ' ', 't', 'h', 'e', ' ', 'w', 'a', 'r', ' ', 'f', 'i', 'l', 'e', '?', '\\t', 'j', 'Q', 'u', 'e', 'r', 'y', ' ', 'a', 'j', 'a', 'x', ' ', 'n', 'o', 't', ' ', 'g', 'e', 't', 't', 'i', 'n', 'g', ' ', 'e', 'v', 'e', 'r', 'y', ' ', 'd', 'i', 'v', ' ', 'e', 'l', 'e', 'm', 'e', 'n', 't', 's', '\\t', 'T', 'C', 'P', ' ', 'S', 'o', 'c', 'k', 'e', 't', ' ', 'o', 'n', ' ', 'J', 'A', 'V', 'A', ' ', '-', ' ', 'A', 'n', 'y', ' ', 'b', 'y', 't', 'e', ' ', '>', '=', ' ', '1', '2', '8', ' ', 'i', 's', ' ', 'r', 'e', 'c', 'e', 'i', 'v', 'e', 'd', ' ', 'a', 's', ' ', '6', '5', '5', '3', '3', '\\t', 'S', 'q', 'l', 'B', 'u', 'l', 'k', 'C', 'o', 'p', 'y', ' ', 'k', 'e', 'e', 'p', 's', ' ', 'o', 'n', ' ', 't', 'h', 'r', 'o', 'w', 'i', 'n', 'g', ' ', 'c', 'o', 'n', 'n', 'e', 'c', 't', 'i', 'o', 'n', ' ', 'f', 'o', 'r', 'c', 'i', 'b', 'l', 'y', ' ', 'c', 'l', 'o', 's', 'e', 'd', ' ', 'e', 'x', 'c', 'e', 'p', 't', 'i', 'o', 'n', '\\t', 'E', 'r', 'r', 'o', 'r', ' ', 's', 'e', 'n', 'd', 'i', 'n', 'g', ' ', 't', 'o', ' ', 't', 'h', 'e', ' ', 'f', 'o', 'l', 'l', 'o', 'w', 'i', 'n', 'g', ' ', 'V', 'A', 'L', 'I', 'D', ' ', 'a', 'd', 'd', 'r', 'e', 's', 's', 'e', 's', ' ', 'J', 'e', 'n', 'k', 'i', 'n', 's', '\\t', 'H', 'o', 'w', ' ', 't', 'o', ' ', 'd', 'e', 't', 'e', 'r', 'm', 'i', 'n', 'e', ' ', 'i', 'f', ' ', 'a', ' ', 't', 'e', 'x', 't', ' ', 'h', 'a', 's', ' ', 'b', 'a', 'l', 'a', 'n', 'c', 'e', 'd', ' ', 'd', 'e', 'l', 'i', 'm', 'i', 't', 'e', 'r', 's', '?', '\\t', 'H', 'o', 'w', ' ', 't', 'o', ' ', 'f', 'l', 'i', 'c', 'k', ' ', 't', 'h', 'r', 'o', 'u', 'g', 'h', ' ', 'a', ' ', 'd', 'e', 'c', 'k', ' ', 'o', 'f', ' ', 'c', 'a', 'r', 'd', 's', '?', '\\t', 'S', 'e', 'l', 'e', 'c', 't', 'i', 'n', 'g', ' ', 'i', 'n', ' ', 'S', 'Q', 'L', 'i', 't', 'e', ' ', 'D', 'a', 't', 'a', 'b', 'a', 's', 'e', ' ', 'A', 'n', 'd', 'r', 'o', 'i', 'd', '\\t', 'T', 'S', 'Q', 'L', ' ', 'm', 'e', 'r', 'g', 'e', ' ', 'I', 'n', 'c', 'o', 'r', 'r', 'e', 'c', 't', ' ', 's', 'y', 'n', 't', 'a', 'x', ' ', 'n', 'e', 'a', 'r', ' ', \"'\", ',', \"'\", '\\t', 'B', 'u', 'i', 'l', 'd', 'i', 'n', 'g', ' ', 'P', 'o', 'c', 'k', 'e', 't', 's', 'p', 'h', 'i', 'n', 'x', ' ', 'O', 'n', ' ', 'A', 'n', 'd', 'r', 'o', 'i', 'd', ' ', 'o', 'n', ' ', 'W', 'i', 'n', 'd', 'o', 'w', 's', '\\t', 'A', 'd', 'd', ' ', 'b', 'a', 'c', 'k', 'g', 'r', 'o', 'u', 'n', 'd', ' ', 'i', 'm', 'a', 'g', 'e', ' ', 'i', 'n', ' ', 'a', ' ', 'd', 'i', 'v', ' ', 'w', 'i', 't', 'h', 'o', 'u', 't', ' ', 'e', 'm', 'p', 't', 'y', ' ', 's', 'p', 'a', 'c', 'e', ' ', 'b', 'e', 't', 'w', 'e', 'e', 'n', ' ', 'd', 'i', 'v', ' ', 'a', 'n', 'd', ' ', 'f', 'o', 'o', 't', 'e', 'r', '\\t', 'I', 'n', 'c', 'l', 'u', 'd', 'e', ' ', 'g', 'i', 't', 'h', 'u', 'b', ' ', 'p', 'r', 'o', 'j', 'e', 'c', 't', ' ', 'i', 'n', 't', 'o', ' ', 'w', 'o', 'r', 'd', 'p', 'r', 'e', 's', 's', ' ', 'p', 'l', 'u', 'g', 'i', 'n', '\\t', 'd', 'j', 'a', 'n', 'g', 'o', ' ', 'm', 'u', 'l', 't', 'i', 'v', 'a', 'l', 'u', 'e', 'f', 'i', 'e', 'l', 'd', ' ', '&', ' ', 'm', 'u', 'l', 't', 'i', 'w', 'i', 'd', 'g', 'e', 't', ' ', '-', ' ', 'c', 'o', 'm', 'p', 'r', 'e', 's', 's', ' ', 'a', 'n', 'd', '/', 'o', 'r', ' ', 'd', 'e', 'c', 'o', 'm', 'p', 'r', 'e', 's', 's', ' ', 'n', 'o', 't', ' ', 'w', 'o', 'r', 'k', 'i', 'n', 'g', '\\t', 'A', 'n', 'd', 'r', 'o', 'i', 'd', ' ', ':', ' ', 'C', 'a', 'n', ' ', 'i', ' ', 'c', 'a', 'l', 'l', ' ', 'm', 'y', ' ', 'o', 'n', 'r', 'e', 's', 'u', 'm', 'e', '(', ')', ' ', 'i', 'n', 's', 'i', 'd', 'e', ' ', 'o', 'n', 'p', 'a', 'u', 's', 'e', '(', ')', '.', '?', '\\t', 'H', 'o', 'w', ' ', 't', 'o', ' ', 'f', 'i', 't', ' ', 'p', 'i', 'c', 't', 'u', 'r', 'e', ' ', 't', 'o', ' ', 'a', 'b', 's', 'o', 'l', 'u', 't', 'e', ' ', 'p', 'o', 's', 'i', 't', 'i', 'o', 'n', 'i', 'n', 'g', ' ', 'm', 'o', 'd', 'a', 'l', ' ', 'w', 'i', 'n', 'd', 'o', 'w', '?', '\\t', 'R', 'e', 'd', 'i', 'r', 'e', 'c', 't', ' ', 'U', 'R', 'L', ' ', 't', 'o', ' ', 'P', 'H', 'P', ' ', 'o', 'n', 'l', 'y', ' ', 'i', 'f', ' ', 'f', 'i', 'l', 'e', ' ', 'd', 'o', 'e', 's', ' ', 'n', 'o', 't', ' ', 'e', 'x', 'i', 's', 't', ' ', 'w', 'i', 't', 'h', ' ', 'N', 'g', 'i', 'n', 'x', '\\t', 'L', 'a', 'r', 'a', 'v', 'e', 'l', ' ', '4', ' ', 'E', 'x', 'c', 'e', 'p', 't', 'i', 'o', 'n', ':', ' ', 'N', 'o', 't', 'F', 'o', 'u', 'n', 'd', 'H', 't', 't', 'p', 'E', 'x', 'c', 'e', 'p', 't', 'i', 'o', 'n', '\\t', 'H', 'o', 'w', ' ', 'T', 'o', ' ', 'S', 't', 'a', 'r', 't', ' ', 'U', 's', 'i', 'n', 'g', ' ', 'K', 'o', 's', 't', 'a', 'c', 'h', 'e', '?', '\\t', 'A', 's', 's', 'i', 'g', 'n', 'e', 'd', ' ', 'a', 'c', 'c', 'e', 's', 's', ' ', 'a', 'p', 'p', 'l', 'i', 'c', 'a', 't', 'i', 'o', 'n', ' ', 'e', 'x', 'i', 't', 's', ' ', 'w', 'h', 'e', 'n', ' ', 'C', 't', 'r', 'l', ' ', '+', ' ', 'A', 'l', 't', ' ', '+', ' ', 'D', 'e', 'l', 'e', 't', 'e', ' ', 'i', 's', ' ', 'p', 'r', 'e', 's', 's', 'e', 'd', '.', '\\t', 'C', 'i', 'r', 'c', 'u', 'l', 'a', 'r', ' ', 'd', 'e', 'p', 'e', 'n', 'd', 'e', 'n', 'c', 'y', ' ', 'e', 'r', 'r', 'o', 'r', ' ', 'w', 'h', 'e', 'n', ' ', 'r', 'u', 'n', 'n', 'i', 'n', 'g', ' ', 'm', 'i', 'g', 'r', 'a', 't', 'i', 'o', 'n', 's', ' ', 'i', 'n', ' ', 'D', 'j', 'a', 'n', 'g', 'o', ' ', '1', '.', '7', 'c', '2', '\\t', 'J', 'a', 'v', 'a', 'F', 'X', ' ', 's', 'e', 't', 'O', 'n', 'S', 'h', 'o', 'w', 'n', ' ', 'f', 'i', 'r', 'e', 's', ' ', 'b', 'e', 'f', 'o', 'r', 'e', ' ', 'w', 'i', 'n', 'd', 'o', 'w', ' ', 'i', 's', ' ', 'v', 'i', 's', 'i', 'b', 'l', 'e', '\\t', 'F', 'l', 'a', 's', 'h', ' ', 'D', 'e', 'v', 'e', 'l', 'o', 'p', ' ', '-', ' ', 'P', 'u', 'b', 'l', 'i', 's', 'h', 'i', 'n', 'g', '\\t', 'I', ' ', 'w', 'a', 'n', 't', ' ', 't', 'o', ' ', 'u', 's', 'e', ' ', 't', 'h', 'e', ' ', 'v', 'a', 'r', 'i', 'a', 'b', 'l', 'e', ' ', 'I', ' ', 'd', 'e', 'c', 'l', 'a', 'r', 'e', 'd', ' ', 's', 'o', 'm', 'e', 'w', 'h', 'e', 'r', 'e', ' ', 'e', 'l', 's', 'e', ' ', 'b', 'u', 't', ' ', 'I', ' ', 'c', 'a', 'n', 'n', 'o', 't', ' ', '(', 's', 'i', 'm', 'p', 'l', 'e', ' ', 's', 'q', 'l', ' ', 'q', 'u', 'e', 'r', 'y', ')', '\\t', 'b', 'u', 't', 't', 'o', 'n', 's', ' ', 'a', 'r', 'e', ' ', 'n', 'o', 't', ' ', 'd', 'i', 's', 'p', 'l', 'a', 'y', 'e', 'd', '\\t', 'P', 'r', 'e', 'v', 'e', 'n', 't', ' ', 'T', 'w', 'i', 't', 't', 'e', 'r', ' ', 'r', 'e', 's', 'p', 'o', 'n', 's', 'i', 'v', 'e', ' ', 'l', 'a', 'y', 'o', 'u', 't', ' ', 'f', 'r', 'o', 'm', ' ', 'c', 'o', 'l', 'l', 'a', 'p', 's', 'i', 'n', 'g', ' ', 'w', 'h', 'e', 'n', ' ', 'w', 'i', 'd', 't', 'h', ' ', '<', ' ', '3', '2', '0', 'p', 'x', '\\t', 'S', 'h', 'o', 'w', ' ', 'a', 'z', 'u', 'r', 'e', ' ', 'c', 'o', 's', 't', ' ', 'a', 'n', 'a', 'l', 'y', 's', 'i', 's', ' ', 'd', 'a', 't', 'a', ' ', 'u', 's', 'i', 'n', 'g', ' ', 'A', 'z', 'u', 'r', 'e', ' ', 'b', 'i', 'l', 'l', 'i', 'n', 'g', ' ', 'A', 'P', 'I', '/', 'S', 'D', 'K', '\\t', 'f', 'i', 'n', 'd', ' ', 't', 'h', 'e', ' ', 'f', 'i', 'e', 'l', 'd', ' ', 'n', 'a', 'm', 'e', 's', ' ', 'f', 'r', 'o', 'm', ' ', 'a', ' ', 's', 'e', 'a', 'r', 'c', 'h', ' ', 'q', 'u', 'e', 'r', 'y', '\\t', 'O', 'A', 'u', 't', 'h', ' ', '2', '.', '0', ' ', 'O', 'p', 'e', 'n', 'I', 'D', ' ', 'C', 'o', 'n', 'n', 'e', 'c', 't', ' ', 'L', 'o', 'o', 'p', 'b', 'a', 'c', 'k', ' ', 'a', 'n', 'd', ' ', 'K', 'e', 'y', 'c', 'l', 'o', 'a', 'k', '\\t', 'W', 'i', 'n', 'd', 'o', 'w', 's', ' ', 'P', 'h', 'o', 'n', 'e', ':', ' ', 'H', 'o', 'w', ' ', 't', 'o', ' ', 'r', 'e', 't', 'r', 'i', 'e', 'v', 'e', ' ', 't', 'h', 'e', ' ', 's', 'a', 'm', 'e', ' ', 'p', 'h', 'o', 't', 'o', ' ', 'f', 'r', 'o', 'm', ' ', 'm', 'e', 'd', 'i', 'a', ' ', 'l', 'i', 'b', 'r', 'a', 'r', 'y', ' ', 'b', 'e', 't', 'w', 'e', 'e', 'n', ' ', 'a', 'p', 'p', 'l', 'i', 'c', 'a', 't', 'i', 'o', 'n', ' ', 'i', 'n', 's', 't', 'a', 'n', 'c', 'e', 's', '\\t', 'S', 'y', 'm', 'f', 'o', 'n', 'y', '2', ':', ' ', 'd', 'e', 't', 'e', 'r', 'm', 'i', 'n', 'e', ' ', 'i', 'f', ' ', 'a', ' ', 'c', 'o', 'n', 't', 'r', 'o', 'l', 'l', 'e', 'r', ' ', 'i', 's', ' ', 'c', 'a', 'l', 'l', 'e', 'd', ' ', 'f', 'r', 'o', 'm', ' ', 'a', ' ', 'd', 'e', 'v', 'e', 'l', 'o', 'p', 'm', 'e', 'n', 't', ' ', 'e', 'n', 'v', 'i', 'r', 'o', 'n', 'm', 'e', 'n', 't', ' ', 'o', 'r', ' ', 'f', 'r', 'o', 'm', ' ', 'a', ' ', 'p', 'r', 'o', 'd', 'u', 'c', 't', 'i', 'o', 'n', ' ', 'e', 'n', 'v', 'i', 'r', 'o', 'n', 'm', 'e', 'n', 't', '\\t', 'W', 'h', 'e', 'n', ' ', 'U', 'I', 'T', 'a', 'b', 'l', 'e', 'V', 'i', 'e', 'w', ' ', 'i', 's', ' ', 'f', 'u', 'l', 'l', 'y', ' ', 'r', 'e', 'l', 'o', 'a', 'd', 'e', 'd', '\\t', 'h', 't', 't', 'p', '.', 'p', 'o', 's', 't', '(', 'u', 'r', 'l', ',', ' ', 'p', 'o', 's', 't', 'D', 'a', 't', 'a', ',', ' ', 'o', 'p', 't', 'i', 'o', 'n', 's', ')', ' ', 'd', 'o', 'e', 's', ' ', 'n', 'o', 't', ' ', 's', 'e', 't', ' ', 'h', 'e', 'a', 'd', 'e', 'r', '\\t', 'J', 'S', 'O', 'N', ' ', 's', 't', 'r', 'i', 'n', 'g', 'i', 'f', 'y', ' ', 'o', 'u', 't', 'p', 'u', 't', 's', ' ', 'e', 'm', 'p', 't', 'y', ' ', 'o', 'b', 'j', 'e', 'c', 't', ' ', 'f', 'o', 'r', ' ', 'n', 'o', 't', ' ', 'e', 'm', 'p', 't', 'y', ' ', 'o', 'b', 'j', 'e', 'c', 't', '\\t', 'D', 'i', 's', 'p', 'l', 'a', 'y', '.', 's', 'y', 'n', 'c', 'E', 'x', 'e', 'c', ' ', 'n', 'o', 't', ' ', 'w', 'o', 'r', 'k', 'i', 'n', 'g', ' ', 'i', 'n', 's', 'i', 'd', 'e', ' ', 'C', 'a', 'l', 'l', 'a', 'b', 'l', 'e', '\\t', 'X', 'P', 'a', 't', 'h', ' ', 't', 'o', ' ', 'f', 'i', 'r', 's', 't', ' ', 'o', 'c', 'c', 'u', 'r', 'r', 'e', 'n', 'c', 'e', ' ', 'o', 'f', ' ', 'e', 'l', 'e', 'm', 'e', 'n', 't', ' ', 'w', 'i', 't', 'h', ' ', 't', 'e', 'x', 't', ' ', 'l', 'e', 'n', 'g', 't', 'h', ' ', '>', '=', ' ', '2', '0', '0', ' ', 'c', 'h', 'a', 'r', 'a', 'c', 't', 'e', 'r', 's', '\\t', 'U', 'n', 'a', 'b', 'l', 'e', ' ', 't', 'o', ' ', 'p', 'u', 's', 'h', ' ', 'a', ' ', 'd', 'o', 'c', 'k', 'e', 'r', ' ', 'i', 'm', 'a', 'g', 'e', ' ', 't', 'o', ' ', 'l', 'o', 'c', 'a', 'l', ' ', 'O', 'p', 'e', 'n', 'S', 'h', 'i', 'f', 't', ' ', 'O', 'r', 'i', 'g', 'i', 'n', ' ', 'r', 'e', 'g', 'i', 's', 't', 'r', 'y', '\\t', 'S', 'l', 'i', 'd', 'e', 'D', 'o', 'w', 'n', '(', ')', ' ', 'u', 's', 'i', 'n', 'g', ' ', 'J', 'a', 'v', 'a', 'S', 'c', 'r', 'i', 'p', 't', ' ', 'n', 'o', 't', ' ', 'w', 'o', 'r', 'k', 'i', 'n', 'g', ' ', 'a', 's', ' ', 'i', 'n', 't', 'e', 'n', 'd', 'e', 'd', '\\t', 'T', 'h', 'r', 'e', 'a', 'd', 'i', 'n', 'g', '.', 'T', 'a', 's', 'k', 's', ' ', 'D', 'i', 's', 'p', 'o', 's', 'e', ' ', 'm', 'e', 'a', 'n', 'i', 'n', 'g', ' ', 'i', 's', 's', 'u', 'e', '\\t', 'V', 'A', 'L', '(', ')', ' ', 'f', 'u', 'n', 'c', 't', 'i', 'o', 'n', ' ', 'i', 'n', ' ', 'J', 'a', 'v', 'a', 'S', 'c', 'r', 'i', 'p', 't', '\\t', 'U', 's', 'i', 'n', 'g', ' ', 'p', 'h', 'p', ' ', 't', 'o', ' ', 's', 'e', 'n', 'd', ' ', 'f', 'o', 'r', 'm', ' ', 't', 'o', ' ', 'm', 'y', ' ', 'e', 'm', 'a', 'i', 'l', '.', '.', 'H', 'a', 'v', 'i', 'n', 'g', ' ', 'a', 'n', ' ', 'i', 's', 's', 'u', 'e', ' ', 'w', 'i', 't', 'h', ' ', '4', '0', '5', ' ', 'N', 'o', 't', ' ', 'A', 'l', 'l', 'o', 'w', 'e', 'd', ' ', 'w', 'h', 'e', 'n', ' ', 'f', 'o', 'r', 'm', ' ', 'i', 's', ' ', 's', 'u', 'b', 'm', 'i', 't', 't', 'e', 'd', '\\t', 'N', 'e', 't', 't', 'y', ' ', 'c', 'l', 'o', 's', 'e', 'F', 'u', 't', 'u', 'r', 'e', '(', ')', '.', 's', 'y', 'n', 'c', '(', ')', '.', 'c', 'h', 'a', 'n', 'n', 'e', 'l', '(', ')', ';', ' ', 'b', 'l', 'o', 'c', 'k', 's', ' ', 'r', 'e', 's', 't', ' ', 'a', 'p', 'i', '\\t', 'H', 'o', 'w', ' ', 't', 'o', ' ', 'c', 'h', 'e', 'c', 'k', ' ', 'i', 'f', ' ', 'a', ' ', 's', 'p', 'e', 'c', 'i', 'f', 'i', 'c', ' ', 'b', 'u', 't', 't', 'o', 'n', ' ', 'e', 'x', 'i', 's', 't', 's', ' ', 'i', 'n', ' ', 'S', 'c', 'r', 'a', 'p', 'y', '?', '\\t', 'R', 'e', 'm', 'o', 'v', 'e', ' ', 'l', 'o', 'g', 's', ' ', 'f', 'r', 'o', 'm', ' ', 'O', 'R', 'M', 'L', 'i', 't', 'e', ' ', 'A', 'n', 'd', 'r', 'o', 'i', 'd', '\\t', 'L', 'a', 'n', 'g', 'u', 'a', 'g', 'e', ' ', 'd', 'e', 't', 'e', 'c', 't', 'i', 'o', 'n', ' ', 'A', 'P', 'I', '/', 'L', 'i', 'b', 'r', 'a', 'r', 'y', '\\t', 'S', 'h', 'o', 'u', 'l', 'd', ' ', 'I', ' ', 'm', 'a', 'k', 'e', ' ', '1', ' ', 'f', 'o', 'r', 'm', ' ', 'f', 'o', 'r', ' ', 'e', 'a', 'c', 'h', ' ', 'u', 'p', 'v', 'o', 't', 'e', ' ', 'b', 'u', 't', 't', 'o', 'n', ' ', 'o', 'r', ' ', '1', ' ', 'f', 'o', 'r', 'm', ' ', 'f', 'o', 'r', ' ', 'a', 'l', 'l', ' ', 't', 'h', 'e', ' ', 'b', 'u', 't', 't', 'o', 'n', 's', '?', '\\t', 'E', 'c', 'l', 'i', 'p', 's', 'e', ' ', 'G', 'A', 'E', ' ', 'J', 'D', 'O', ' ', '3', '.', '0', '\\t', 'd', 'j', 'a', 'n', 'g', 'o', '-', 'c', 'm', 's', ' ', 'e', 'd', 'i', 't', 'o', 'r', 's', ' ', 'a', 'n', 'd', ' ', 'H', 'T', 'M', 'L', ' ', 'd', 'a', 't', 'a', ' ', 'a', 't', 't', 'r', 'i', 'b', 'u', 't', 'e', ' ', 'c', 'l', 'e', 'a', 'n', 'e', 'd', ' ', 'u', 'p', '\\t', 'X', 'c', 'o', 'd', 'e', ' ', 'b', 'u', 'i', 'l', 'd', ' ', 'e', 'r', 'r', 'o', 'r', ' ', 'c', 'l', 'a', 'n', 'g', ' ', 'f', 'a', 'i', 'l', 'e', 'd', '\\t', 's', 'e', 't', 'T', 'i', 'm', 'e', 'o', 'u', 't', ' ', 'f', 'r', 'o', 'm', ' ', 'a', ' ', 'w', 'e', 'b', ' ', 'w', 'o', 'r', 'k', 'e', 'r', '\\t', 'C', '#', ' ', 'P', 'o', 'p', 'u', 'l', 'a', 't', 'i', 'n', 'g', ' ', 'a', ' ', 'l', 'i', 's', 't', 'v', 'i', 'e', 'w', ' ', 'f', 'r', 'o', 'm', ' ', 'a', ' ', 'L', 'i', 's', 't', '\\t', 'J', 'a', 'v', 'a', 's', 'c', 'r', 'i', 'p', 't', ' ', 'n', 'o', 't', ' ', 'w', 'o', 'r', 'k', 'i', 'n', 'g', ' ', 'i', 'n', ' ', 'd', 'j', 'a', 'n', 'g', 'o', ' ', 'i', 'n', 'l', 'i', 'n', 'e', ' ', 'f', 'o', 'r', 'm', 's', 'e', 't', ' ', 'u', 's', 'i', 'n', 'g', ' ', 'u', 'r', 'l', 'i', 'f', 'y', '.', 'j', 's', '\\t', 'P', 'H', 'P', ' ', 'm', 'u', 'l', 't', 'i', ' ', 'c', 'U', 'R', 'L', ' ', 'p', 'e', 'r', 'f', 'o', 'r', 'm', 'a', 'n', 'c', 'e', ' ', 'w', 'o', 'r', 's', 'e', ' ', 't', 'h', 'a', 'n', ' ', 's', 'e', 'q', 'u', 'e', 'n', 't', 'i', 'a', 'l', ' ', 'f', 'i', 'l', 'e', '_', 'g', 'e', 't', '_', 'c', 'o', 'n', 't', 'e', 'n', 't', 's', '\\t', 'C', 'o', 'n', 'v', 'e', 'r', 't', 'i', 'n', 'g', ' ', 'P', 'H', 'P', ' ', 'C', 'o', 'n', 't', 'a', 'c', 't', ' ', 'F', 'o', 'r', 'm', ' ', 't', 'o', ' ', 'S', 'M', 'T', 'P', '\\t', 'H', 'o', 'w', ' ', 'd', 'o', ' ', 'I', ' ', 'p', 'r', 'e', 'v', 'e', 'n', 't', ' ', 't', 'h', 'e', ' ', 'o', 'r', 'i', 'g', 'i', 'n', 'a', 'l', ' ', 'm', 'e', 't', 'h', 'o', 'd', ' ', 'b', 'e', 'i', 'n', 'g', ' ', 'c', 'a', 'l', 'l', 'e', 'd', ' ', 'w', 'h', 'e', 'n', ' ', 'm', 'o', 'c', 'k', 'i', 'n', 'g', ' ', 'a', ' ', 'c', 'l', 'a', 's', 's', ' ', 'w', 'i', 't', 'h', ' ', 'P', 'H', 'P', 'U', 'n', 'i', 't', '?', '\\t', 'E', 'n', 's', 'u', 'r', 'e', ' ', 'f', 'o', 'o', 't', 'e', 'r', ' ', 'w', 'i', 'l', 'l', ' ', 's', 't', 'i', 'c', 'k', ' ', 't', 'o', ' ', 'b', 'o', 't', 't', 'o', 'm', ' ', 'o', 'f', ' ', 'p', 'a', 'g', 'e', ' ', 'a', 'n', 'd', ' ', 'f', 'l', 'e', 'x', ' ', 'w', 'i', 't', 'h', ' ', 'c', 'o', 'n', 't', 'e', 'n', 't', '\\t', 'H', 'o', 'w', ' ', 't', 'o', ' ', 's', 'h', 'a', 'r', 'e', ' ', 'f', 'i', 'l', 'e', 's', ' ', 'f', 'r', 'o', 'm', ' ', 'a', 'n', 'y', ' ', 'p', 'a', 't', 'h', ' ', 'u', 's', 'i', 'n', 'g', ' ', 'a', ' ', 'F', 'i', 'l', 'e', 'P', 'r', 'o', 'v', 'i', 'd', 'e', 'r', '?', '\\t', 'R', ':', ' ', 'H', 'o', 'w', ' ', 't', 'o', ' ', 'b', 'u', 'i', 'l', 'd', ' ', 's', 'u', 'm', ' ', 'o', 'f', ' ', 'a', 'r', 'r', 'a', 'y', 's', ' ', 't', 'h', 'i', 'r', 'd', ' ', 'd', 'i', 'm', 'e', 'n', 's', 'i', 'o', 'n', ' ', 'c', 'o', 'n', 't', 'a', 'i', 'n', 'i', 'n', 'g', ' ', 'N', 'A', 's', ' ', 'a', 'n', 'd', ' ', 'r', 'e', 't', 'u', 'r', 'n', 'i', 'n', 'g', ' ', 'a', ' ', 'l', 'i', 's', 't', '?', '\\t', 'S', 'p', 'e', 'e', 'd', 'i', 'n', 'g', ' ', 'u', 'p', ' ', 'a', ' ', 's', 't', 'r', 'a', 'n', 'g', 'e', 'l', 'y', ' ', 's', 'l', 'o', 'w', ' ', 'R', 'c', 'p', 'p', ' ', 'f', 'u', 'n', 'c', 't', 'i', 'o', 'n', '\\t', 'H', 'o', 'w', ' ', 't', 'o', ' ', 'c', 'r', 'e', 'a', 't', 'e', ' ', 'a', ' ', 's', 'e', 'r', 'v', 'i', 'c', 'e', ' ', 't', 'h', 'a', 't', ' ', 's', 'e', 'n', 'd', 's', '/', 'r', 'e', 'c', 'e', 'i', 'v', 'e', 's', ' ', 'U', 'D', 'P', ' ', 'b', 'r', 'o', 'a', 'd', 'c', 'a', 's', 't', 's', ' ', 'o', 'n', ' ', 'm', 'u', 'l', 't', 'i', 'p', 'l', 'e', ' ', 'i', 'n', 't', 'e', 'r', 'f', 'a', 'c', 'e', 's', '\\t', 'C', 'a', 'n', ' ', 's', 'o', 'm', 'e', 'o', 'n', 'e', ' ', 't', 'e', 'l', 'l', ' ', 'm', 'e', ' ', 'h', 'o', 'w', ' ', 't', 'o', ' ', 'r', 'e', 'p', 'l', 'a', 'c', 'e', ' ', 't', 'h', 'e', ' ', 'f', 'o', 'l', 'l', 'o', 'w', 'i', 'n', 'g', ' ', 'j', 'a', 'v', 'a', 's', 'c', 'r', 'i', 'p', 't', ' ', 'c', 'o', 'd', 'e', ' ', 'w', 'i', 't', 'h', ' ', 'a', ' ', 'l', 'o', 'o', 'p', '?', '\\t', 'U', 'I', 'I', 'm', 'a', 'g', 'e', 'V', 'i', 'e', 'w', ' ', 'l', 'a', 'y', 'e', 'r', ' ', 'b', 'o', 'r', 'd', 'e', 'r', ' ', 'i', 's', 's', 'u', 'e', '\\t', 'C', 'O', 'M', ' ', 'o', 'b', 'j', 'e', 'c', 't', ' ', 'c', 'r', 'e', 'a', 't', 'e', 'd', ' ', 'b', 'y', ' ', 'C', 'C', 'o', 'm', 'O', 'b', 'j', 'e', 'c', 't', ':', ':', 'C', 'r', 'e', 'a', 't', 'e', 'I', 'n', 's', 't', 'a', 'n', 'c', 'e', ' ', 'n', 'o', 't', ' ', 'd', 'e', 's', 't', 'r', 'o', 'y', 'e', 'd', ' ', 'w', 'h', 'e', 'n', ' ', 'p', 'o', 'i', 'n', 't', 'e', 'r', ' ', 'g', 'o', 'e', 's', ' ', 'o', 'u', 't', ' ', 'o', 'f', ' ', 's', 'c', 'o', 'p', 'e', '\\t', 'R', 'u', 'n', ' ', '2', ' ', 's', 'q', 'l', ' ', 'q', 'u', 'e', 'r', 'y', ' ', 'w', 'i', 't', 'h', ' ', '1', ' ', 'q', 'u', 'e', 'r', 'y', ' ', 'f', 'o', 'r', ' ', 's', 'a', 'v', 'e', ' ', 'q', 'u', 'e', 'r', 'y', ' ', 'r', 'e', 's', 'u', 'l', 't', ' ', 'a', 's', ' ', '.', 'c', 's', 'v', ' ', 'f', 'o', 'r', 'm', 'a', 't', '\\t', 'A', 'W', 'S', ' ', 'E', 'l', 'a', 's', 't', 'i', 'c', ' ', 'B', 'e', 'a', 'n', 's', 't', 'a', 'l', 'k', ' ', 'V', 's', ' ', 'E', 'C', '2', ' ', 'C', 'o', 'n', 't', 'a', 'i', 'n', 'e', 'r', ' ', 'S', 'e', 'r', 'v', 'i', 'c', 'e', ' ', '(', 'E', 'C', 'S', ')', ' ', '-', ' ', 'D', 'o', 'c', 'k', 'e', 'r', '\\t', 'C', 'o', 'n', 'n', 'e', 'c', 't', ' ', 't', 'o', ' ', 'r', 'e', 'm', 'o', 't', 'e', ' ', 'M', 'o', 'n', 'g', 'o', 'D', 'B', ' ', 'i', 'n', 's', 't', 'a', 'n', 'c', 'e', ' ', 'f', 'r', 'o', 'm', ' ', 'A', 'S', 'P', '.', 'N', 'E', 'T', '\\t', 'C', 'o', 'p', 'y', 'i', 'n', 'g', ' ', 'f', 'i', 'l', 'e', 's', ' ', 'w', 'i', 't', 'h', ' ', 'u', 'n', 'i', 'c', 'o', 'd', 'e', ' ', 'n', 'a', 'm', 'e', 's', '\\t', 'A', 'S', 'P', '.', 'N', 'E', 'T', ' ', 'W', 'e', 'b', ' ', 'a', 'p', 'p', 'l', 'i', 'c', 'a', 't', 'i', 'o', 'n', ' ', 'd', 'o', 'e', 's', 'n', \"'\", 't', ' ', 'u', 'n', 'l', 'o', 'a', 'd', ' ', 'A', 'p', 'p', 'D', 'o', 'm', 'a', 'i', 'n', 's', ' ', 'a', 'f', 't', 'e', 'r', ' ', 'd', 'e', 'p', 'l', 'o', 'y', '\\t', 'G', 'e', 't', 't', 'i', 'n', 'g', ' ', 'Y', 'o', 'u', 'T', 'u', 'b', 'e', ' ', 'l', 'i', 'v', 'e', 's', 't', 'r', 'e', 'a', 'm', ' ', 'U', 'R', 'L', '\\t', 'C', 'a', 'n', \"'\", 't', ' ', 'u', 's', 'e', ' ', 'T', 'o', 'S', 't', 'r', 'i', 'n', 'g', '(', ')', ' ', 'i', 'n', ' ', 'L', 'I', 'N', 'Q', ' ', 't', 'o', ' ', 'E', 'n', 't', 'i', 't', 'i', 'e', 's', ' ', 'q', 'u', 'e', 'r', 'y', '\\t', 'l', 'i', 's', 't', ' ', 'c', 'o', 'm', 'p', 'r', 'e', 'h', 'e', 'n', 's', 'i', 'o', 'n', ' ', 't', 'o', ' ', 'c', 'r', 'e', 'a', 't', 'e', ' ', 'l', 'i', 's', 't', ' ', 'a', 'n', 'd', ' ', 'f', 'o', 'r', ' ', 'n', 'o', '-', 'd', 'a', 't', 'a', ' ', 'v', 'a', 'l', 'u', 'e', ' ', 'f', 'e', 'e', 'd', ' ', 'd', 'e', 'f', 'a', 'u', 'l', 't', ' ', 'v', 'a', 'l', 'u', 'e', '\\t', 'J', 'S', 'X', ' ', 'e', 'l', 'e', 'm', 'e', 'n', 't', ' ', 't', 'y', 'p', 'e', ' ', \"'\", 'X', 'X', 'X', \"'\", ' ', 'd', 'o', 'e', 's', ' ', 'n', 'o', 't', ' ', 'h', 'a', 'v', 'e', ' ', 'a', 'n', 'y', ' ', 'c', 'o', 'n', 's', 't', 'r', 'u', 'c', 't', ' ', 'o', 'r', ' ', 'c', 'a', 'l', 'l', ' ', 's', 'i', 'g', 'n', 'a', 't', 'u', 'r', 'e', 's', '\\t', 'S', 'u', 'b', 'r', 'o', 'u', 't', 'i', 'n', 'e', ' ', 'u', 'n', 'e', 'x', 'p', 'e', 'c', 't', 'e', 'd', 'l', 'y', ' ', 'e', 'n', 'd', 's', ' ', 'w', 'h', 'e', 'n', ' ', 'a', ' ', 'W', 'o', 'r', 'k', 'b', 'o', 'o', 'k', ' ', 'i', 's', ' ', 'c', 'l', 'o', 's', 'e', 'd', '\\t', 'C', 'r', 'e', 'a', 't', 'i', 'n', 'g', ' ', 'a', ' ', 'r', 'e', 's', 'u', 'l', 't', ' ', 's', 'e', 't', ' ', '(', 'u', 's', 'i', 'n', 'g', ' ', 'a', ' ', 's', 'e', 'l', 'e', 'c', 't', ' ', 's', 't', 'a', 't', 'e', 'm', 'e', 'n', 't', ' ', ')', ' ', 'w', 'i', 't', 'h', 'i', 'n', ' ', 'a', ' ', 'l', 'o', 'o', 'p', '\\t', 'L', 'a', 'r', 'a', 'v', 'e', 'l', ' ', '4', '.', '2', ' ', '-', ' ', 'E', 'n', 'v', 'i', 'r', 'o', 'n', 'm', 'e', 'n', 't', ' ', 'd', 'e', 't', 'e', 'c', 't', 'i', 'o', 'n', ' ', '-', ' ', 'h', 'o', 'm', 'e', 's', 't', 'e', 'a', 'd', '.', 'y', 'a', 'm', 'l', ' ', 'v', 's', '.', ' ', 's', 't', 'a', 'r', 't', '.', 'p', 'h', 'p', '\\t', 'D', 'e', 'p', 'l', 'o', 'y', ' ', 'a', ' ', 's', 'h', 'e', 'l', 'l', ' ', 's', 'c', 'r', 'i', 'p', 't', ' ', 'w', 'i', 't', 'h', ' ', 'R', 'u', 'b', 'y', ' ', 'g', 'e', 'm', ' ', 'a', 'n', 'd', ' ', 'i', 'n', 's', 't', 'a', 'l', 'l', ' ', 'i', 'n', ' ', 'b', 'i', 'n', ' ', 'd', 'i', 'r', 'e', 'c', 't', 'o', 'r', 'y', '\\t', 'C', 'h', 'a', 'n', 'g', 'e', ' ', 'a', ' ', 's', 't', 'r', 'i', 'n', 'g', ' ', 'i', 'n', 't', 'o', ' ', 'a', 'n', ' ', 'i', 'n', 't', '\\t', 'H', 'o', 'w', ' ', 'd', 'o', ' ', 'I', ' ', 's', 't', 'o', 'p', ' ', 'a', ' ', 'M', 'y', 'S', 'Q', 'L', ' ', 'd', 'e', 'c', 'i', 'm', 'a', 'l', ' ', 'f', 'i', 'e', 'l', 'd', ' ', 'f', 'r', 'o', 'm', ' ', 'b', 'e', 'i', 'n', 'g', ' ', 'r', 'o', 'u', 'n', 'd', 'e', 'd', '?', '\\t', 'R', 'e', 's', 'p', 'e', 'c', 't', 'i', 'n', 'g', ' ', 'a', 'r', 'g', 'p', 'a', 'r', 's', 'e', \"'\", 's', ' ', 'p', 'r', 'i', 'v', 'a', 'c', 'y', ',', ' ', 'v', 's', '.', ' ', 'u', 's', 'a', 'b', 'i', 'l', 'i', 't', 'y', '\\t', 'V', 'e', 'r', 'y', ' ', 's', 'i', 'm', 'p', 'l', 'e', ' ', 'W', 'e', 'b', ' ', 'S', 'e', 'r', 'v', 'i', 'c', 'e', ' ', 'i', 'n', ' ', 'P', 'y', 't', 'h', 'o', 'n', '\\t', 'E', 'm', 'o', 'j', 'i', ' ', 'a', 'n', 'd', ' ', 'U', 'I', 'W', 'e', 'b', 'V', 'i', 'e', 'w', ' ', 'i', 'n', ' ', 'i', 'O', 'S', ' ', '5', '\\t', 'G', 'e', 't', 't', 'i', 'n', 'g', ' ', 'I', 'O', 'E', 'r', 'r', 'o', 'r', ':', ' ', '[', 'E', 'r', 'r', 'n', 'o', ' ', 'I', 'n', 'v', 'a', 'l', 'i', 'd', ' ', 'n', 'u', 'm', 'b', 'e', 'r', ' ', 'o', 'f', ' ', 'c', 'h', 'a', 'n', 'n', 'e', 'l', 's', ']', ' ', '-', '9', '9', '9', '8', ' ', 'w', 'h', 'e', 'n', ' ', 'u', 's', 'i', 'n', 'g', ' ', 'm', 'i', 'c', ' ', 'w', 'i', 't', 'h', ' ', 'P', 'y', 'A', 'u', 'd', 'i', 'o', ' ', 'o', 'n', ' ', 'R', 'a', 's', 'p', 'b', 'e', 'r', 'r', 'y', ' ', 'P', 'i', '\\t', 'M', 'o', 'n', 'o', ' ', 'o', 'n', ' ', 'M', 'a', 'c', ' ', 'O', 'S', ' ', 'X', ' ', '-', ' ', 'P', 'a', 'r', 'a', 'l', 'l', 'e', 'l', ' ', 'H', 'T', 'T', 'P', ' ', 'D', 'o', 'w', 'n', 'l', 'o', 'a', 'd', 's', ' ', 'l', 'i', 'm', 'i', 't', 'e', 'd', ' ', 't', 'o', ' ', '2', '\\t', 'D', 'e', 'l', 'e', 't', 'e', ' ', 'f', 'i', 'l', 'e', 's', ',', ' ', 'd', 'i', 'r', 'e', 'c', 't', 'o', 'r', 'i', 'e', 's', ' ', 'a', 'n', 'd', ' ', 'b', 'u', 'c', 'k', 'e', 't', 's', ' ', 'i', 'n', ' ', 'a', 'm', 'a', 'z', 'o', 'n', ' ', 's', '3', ' ', 'j', 'a', 'v', 'a', '\\t', 'A', 'n', 'd', 'r', 'o', 'i', 'd', ':', ' ', 'S', 'a', 'v', 'i', 'n', 'g', ' ', 'f', 'o', 'r', 'm', ' ', 'd', 'a', 't', 'a', ' ', 'o', 'n', ' ', 'a', ' ', 's', 'w', 'i', 'p', 'e', ' ', 'r', 'a', 't', 'h', 'e', 'r', ' ', 't', 'h', 'a', 'n', ' ', 'f', 'r', 'o', 'm', ' ', 'a', ' ', 'b', 'u', 't', 't', 'o', 'n', '\\t', 'N', 'o', ' ', 'd', 'e', 's', 'c', 'r', 'i', 'p', 't', 'i', 'o', 'n', ' ', 'o', 'r', ' ', 'i', 't', 'e', 'm', ' ', 'n', 'a', 'm', 'e', ' ', 'o', 'n', ' ', 'P', 'a', 'y', 'P', 'a', 'l', ' ', 'P', 'a', 'y', 'm', 'e', 'n', 't', ' ', 'R', 'e', 'c', 'e', 'i', 'v', 'e', 'd', ' ', 'e', 'm', 'a', 'i', 'l', '\\t', 'C', 'o', 'd', 'e', ' ', 'i', 'g', 'n', 'i', 't', 'e', 'r', ' ', 'w', 'i', 't', 'h', ' ', 'd', 'a', 't', 'a', ' ', 'm', 'a', 'p', 'p', 'e', 'r', ' ', 'g', 'i', 'v', 'i', 'n', 'g', ' ', 'i', 'n', ' ', 'v', 'a', 'l', 'i', 'd', ' ', 'j', 's', 'o', 'n', '\\t', 'W', 'h', 'e', 'r', 'e', ' ', 'c', 'a', 'n', ' ', 'I', ' ', 'f', 'i', 'n', 'd', ' ', 'o', 'f', 'f', 'i', 'c', 'i', 'a', 'l', ' ', '/', ' ', 'c', 'a', 'n', 'o', 'n', 'i', 'c', 'a', 'l', ' ', 'd', 'o', 'c', 'u', 'm', 'e', 'n', 't', 'a', 't', 'i', 'o', 'n', ' ', 'f', 'o', 'r', ' ', 'u', 's', 'i', 'n', 'g', ' ', 'J', 'a', 'v', 'a', 'S', 'c', 'r', 'i', 'p', 't', ' ', 'w', 'i', 't', 'h', ' ', '\"', 'c', 'l', 'a', 's', 's', 'i', 'c', '\"', ' ', 'A', 'S', 'P', '?', '\\t', 'B', 'r', 'o', 'a', 'd', 'c', 'a', 's', 't', 'R', 'e', 'c', 'e', 'i', 'v', 'e', 'r', ' ', 'i', 's', 'n', \"'\", 't', ' ', 'w', 'o', 'r', 'k', 'i', 'n', 'g', '\\t', 'A', 'r', 'r', 'a', 'y', ' ', 'c', 'o', 'm', 'p', 'a', 'r', 'e', ' ', 'a', 'n', 'd', ' ', 'c', 'o', 'u', 'n', 't', ' ', 'w', 'h', 'i', 'c', 'h', ' ', 'h', 'a', 's', ' ', 's', 'i', 'm', 'i', 'l', 'a', 'r', ' ', 'v', 'a', 'l', 'u', 'e', 's', ' ', 'a', 'n', 'd', ' ', 'w', 'h', 'i', 'c', 'h', ' ', 'n', 'o', 't', '\\t', 'H', 'o', 'w', ' ', 't', 'o', ' ', 'c', 'a', 'n', 'c', 'e', 'l', ' ', \"'\", 'v', 'i', 'e', 'w', 'W', 'i', 'l', 'l', 'A', 'p', 'p', 'e', 'a', 'r', \"'\", ' ', 'a', 'f', 't', 'e', 'r', ' ', 'U', 'I', 'I', 'm', 'a', 'g', 'e', 'P', 'i', 'c', 'k', 'e', 'r', 'C', 'o', 'n', 't', 'r', 'o', 'l', 'l', 'e', 'r', ' ', 'i', 's', ' ', 'd', 'i', 's', 'm', 'i', 's', 's', 'e', 'd', '\\t', 'I', 'n', ' ', 'S', 'c', 'a', 'l', 'a', ',', ' ', 'i', 's', ' ', 'i', 't', ' ', 'p', 'o', 's', 's', 'i', 'b', 'l', 'e', ' ', 't', 'o', ' ', 'w', 'r', 'i', 't', 'e', ' ', 'a', ' ', 's', 'c', 'r', 'i', 'p', 't', ' ', 'w', 'h', 'i', 'c', 'h', ' ', 'r', 'e', 'f', 'e', 'r', 's', ' ', 't', 'o', ' ', 'a', 'n', 'o', 't', 'h', 'e', 'r', ' ', 's', 'c', 'r', 'i', 'p', 't', '\\t', 'a', 'f', 't', 'e', 'r', ' ', 'r', 'e', 'l', 'o', 'a', 'd', ' ', 'p', 'a', 'g', 'e', ' ', 'I', 'E', ' ', 'i', 's', ' ', 'n', 'o', 't', ' ', 'r', 'e', 't', 'a', 'i', 'n', 'i', 'n', 'g', ' ', 'i', 't', \"'\", 's', ' ', 's', 'c', 'r', 'o', 'l', 'l', ' ', 'p', 'o', 's', 'i', 't', 'i', 'o', 'n', '\\t', 'S', 'p', 'r', 'i', 'n', 'g', 'B', 'o', 'o', 't', ' ', 'm', 'u', 'l', 't', 'i', 'p', 'l', 'e', ' ', 'a', 'u', 't', 'h', 'e', 'n', 't', 'i', 'c', 'a', 't', 'i', 'o', 'n', ' ', 'a', 'd', 'a', 'p', 't', 'e', 'r', '\\t', 'S', 'M', 'T', 'P', ' ', 'C', 'o', 'n', 't', 'a', 'c', 't', ' ', 'F', 'o', 'r', 'm', ' ', 'b', 'l', 'a', 'n', 'k', ' ', 's', 'c', 'r', 'e', 'e', 'n', ' ', 'o', 'n', ' ', 'S', 'u', 'b', 'm', 'i', 't', '\\t', 'D', 'e', 's', 't', 'r', 'o', 'y', ' ', 'a', 'l', 'l', ' ', 's', 'e', 's', 's', 'i', 'o', 'n', 's', ' ', 'b', 'u', 't', ' ', 'o', 'n', 'e', '\\t', 'C', '#', ' ', 'W', 'I', 'n', 'd', 'o', 'w', 's', ' ', 'C', 'E', ' ', 'C', 'o', 'm', 'p', 'a', 'c', 't', ' ', 'F', 'r', 'a', 'm', 'e', 'w', 'o', 'r', 'k', ' ', '2', '.', '0', ' ', 'S', 'e', 't', ' ', 'S', 'y', 's', 't', 'e', 'm', ' ', 'T', 'i', 'm', 'e', 'z', 'o', 'n', 'e', '\\t', 'A', 'p', 'p', 'r', 'o', 'p', 'r', 'i', 'a', 't', 'e', ' ', 'r', 'e', 'p', 'r', 'e', 's', 'e', 'n', 't', 'a', 't', 'i', 'o', 'n', ' ', 'o', 'f', ' ', 'a', ' ', '2', 'D', ' ', 'g', 'a', 'm', 'e', ' ', 'b', 'o', 'a', 'r', 'd', ' ', 'i', 'n', ' ', 'C', 'l', 'o', 'j', 'u', 'r', 'e', '\\t', 'I', 'o', 'n', 'i', 'c', ' ', 'e', 'm', 'u', 'l', 'a', 't', 'e', ' ', 'i', 'o', 's', ' ', 's', 'h', 'o', 'w', 's', ' ', 'b', 'l', 'a', 'c', 'k', ' ', 's', 'c', 'r', 'e', 'e', 'n', '\\t', 'H', 'o', 'w', ' ', 'u', 'p', 'd', 'a', 't', 'e', ' ', 'A', 'P', 'i', ' ', 'w', 'i', 't', 'h', ' ', 'A', 'n', 'g', 'u', 'l', 'a', 'r', 'J', 'S', '?', '\\t', 'J', 'a', 'v', 'a', 's', 'c', 'r', 'i', 'p', 't', ' ', 'b', 'a', 's', 'e', 'd', ' ', 'r', 'e', 'd', 'i', 'r', 'e', 'c', 't', ':', ' ', 'w', 'i', 'l', 'l', ' ', 'i', 't', ' ', 'h', 'u', 'r', 't', ' ', 'S', 'E', 'O', '?', '\\t', 'W', 'h', 'a', 't', ' ', 'i', 's', ' ', 't', 'h', 'e', ' ', 'd', 'i', 'f', 'f', 'e', 'r', 'e', 'n', 'c', 'e', ' ', 'b', 'e', 't', 'w', 'e', 'e', 'n', ' ', 't', 'h', 'e', 's', 'e', ' ', 't', 'w', 'o', ' ', 'S', 'O', 'A', 'P', ' ', 'r', 'e', 'q', 'u', 'e', 's', 't', 's', '?', '\\t', 'M', 'i', 'c', 'r', 'o', 's', 'o', 'f', 't', ' ', 'A', 'c', 'c', 'e', 's', 's', ' ', 'R', 'e', 'p', 'o', 'r', 't', ' ', '-', ' ', 'H', 'o', 'w', ' ', 't', 'o', ' ', 'c', 'y', 'c', 'l', 'e', ' ', 't', 'h', 'r', 'o', 'u', 'g', 'h', ' ', 'a', 'l', 'l', ' ', 'p', 'a', 'g', 'e', 's', ' ', 'o', 'f', ' ', 'a', ' ', 'r', 'e', 'p', 'o', 'r', 't', ' ', 'i', 'n', ' ', 'p', 'r', 'i', 'n', 't', ' ', 'v', 'i', 'e', 'w', '?', '\\t', 'W', 'h', 'a', 't', ' ', 'd', 'o', 'e', 's', ' ', 'A', 'c', 't', 'o', 'r', '[', 'a', 'k', 'k', 'a', ':', '\\\\', '\\\\', 'p', 'l', 'a', 'y', '\\\\', 'd', 'e', 'a', 'd', 'L', 'e', 't', 't', 'e', 'r', 's', ']', '.', 't', 'e', 'l', 'l', '(', ')', ' ', 'm', 'e', 'a', 'n', ' ', 'i', 'n', ' ', 'a', ' ', 'N', 'e', 'w', ' ', 'R', 'e', 'l', 'i', 'c', \"'\", 's', ' ', 't', 'r', 'a', 'c', 'e', ' ', 'o', 'f', ' ', 'a', ' ', 'P', 'l', 'a', 'y', ' ', 'F', 'r', 'a', 'm', 'e', 'w', 'o', 'r', 'k', ' ', '2', '.', '0', ' ', 'w', 'e', 'b', ' ', 't', 'r', 'a', 'n', 's', 'a', 'c', 't', 'i', 'o', 'n', '?', '\\t', 'J', 'R', 'u', 'b', 'y', ' ', '1', '.', '7', '.', '0', ' ', 'w', 'i', 'l', 'l', ' ', 'n', 'o', 't', ' ', 'i', 'n', 's', 't', 'a', 'l', 'l', ' ', 'b', 'u', 'n', 'd', 'l', 'e', 'r', ' ', 'g', 'i', 'v', 'e', 'n', ' ', 'p', 'l', 'e', 'n', 't', 'y', ' ', 'o', 'f', ' ', 'm', 'e', 'm', 'o', 'r', 'y', '\\t', 's', 'o', 'l', 'r', ' ', 'm', 'u', 'l', 't', 'i', 'p', 'l', 'e', ' ', 't', 'o', 'k', 'e', 'n', 'i', 'z', 'e', 'r', 's', ' ', 'f', 'o', 'r', ' ', 'q', 'u', 'e', 'r', 'y', '\\t', 'I', 's', ' ', 'i', 't', ' ', 'p', 'o', 's', 's', 'i', 'b', 'l', 'e', ' ', 't', 'o', ' ', 'p', 'a', 's', 's', ' ', 'a', 'n', ' ', 'E', 'J', 'S', ' ', 'v', 'a', 'r', 'i', 'a', 'b', 'l', 'e', ' ', 't', 'o', ' ', 'a', 'n', ' ', 'A', 'n', 'g', 'u', 'l', 'a', 'r', ' ', 'n', 'g', '-', 'r', 'e', 'p', 'e', 'a', 't', ' ', 'f', 'i', 'l', 't', 'e', 'r', '?', '\\t', 'H', 'o', 'w', ' ', 'T', 'o', ' ', 'R', 'e', 'a', 'd', ' ', 'D', 'a', 't', 'a', ' ', 'u', 's', 'i', 'n', 'g', ' ', 'I', 'p', ' ', 'A', 'd', 'd', 'r', 'e', 's', 's', '\\t', 'S', 'S', 'I', 'S', ' ', 'X', 'M', 'L', ' ', 'D', 'e', 'c', 'r', 'y', 'p', 't', 'i', 'o', 'n', ' ', 'M', 'e', 's', 's', 'a', 'g', 'e', '\\t', 'D', 'e', 't', 'e', 'c', 't', 'i', 'n', 'g', ' ', 's', 'e', 'l', 'e', 'c', 't', 'i', 'o', 'n', ' ', 'c', 'h', 'a', 'n', 'g', 'e', ' ', 'o', 'n', ' ', 'a', ' ', 'U', 'I', 'T', 'e', 'x', 't', 'V', 'i', 'e', 'w', '?', '\\t', 'D', 'i', 'f', 'f', 'e', 'r', 'e', 'n', 't', ' ', 'C', 'S', 'S', ' ', 'b', 'a', 'c', 'k', 'g', 'r', 'o', 'u', 'n', 'd', '-', 'i', 'm', 'a', 'g', 'e', ' ', 'd', 'e', 'p', 'e', 'n', 'd', 'i', 'n', 'g', ' ', 'o', 'n', ' ', 'm', 'o', 'n', 't', 'h', ' ', 'a', 'n', 'd', ' ', 'y', 'e', 'a', 'r', '\\t', 'W', 'h', 'a', 't', \"'\", 's', ' ', 't', 'h', 'e', ' ', 'e', 'q', 'u', 'i', 'v', 'a', 'l', 'e', 'n', 't', ' ', 'a', 'v', 'e', 'r', 'a', 'g', 'e', 'i', 'f', 's', ' ', 'f', 'o', 'r', ' ', 's', 't', 'a', 'n', 'd', 'a', 'r', 'd', ' ', 'd', 'e', 'v', 'i', 'a', 't', 'i', 'o', 'n', '?', '\\t', 'S', 'e', 'g', 'm', 'e', 'n', 't', 'a', 't', 'i', 'o', 'n', ' ', 'f', 'a', 'u', 'l', 't', 's', ' ', 'u', 's', 'i', 'n', 'g', ' ', 'f', '2', 'p', 'y', '\\t', 'E', 'c', 'l', 'i', 'p', 's', 'e', ':', ' ', 'M', 'o', 's', 't', ' ', 'u', 's', 'e', 'f', 'u', 'l', ' ', 'r', 'e', 'f', 'a', 'c', 't', 'o', 'r', 'i', 'n', 'g', 's', '\\n']\n"
          ]
        },
        {
          "output_type": "error",
          "ename": "ValueError",
          "evalue": "ignored",
          "traceback": [
            "\u001b[0;31m---------------------------------------------------------------------------\u001b[0m",
            "\u001b[0;31mValueError\u001b[0m                                Traceback (most recent call last)",
            "\u001b[0;32m<ipython-input-133-42b4daabb7b7>\u001b[0m in \u001b[0;36m<cell line: 3>\u001b[0;34m()\u001b[0m\n\u001b[1;32m      7\u001b[0m     \u001b[0mprint\u001b[0m\u001b[0;34m(\u001b[0m\u001b[0mex\u001b[0m\u001b[0;34m)\u001b[0m\u001b[0;34m\u001b[0m\u001b[0;34m\u001b[0m\u001b[0m\n\u001b[1;32m      8\u001b[0m     \u001b[0mranks\u001b[0m \u001b[0;34m=\u001b[0m \u001b[0mrank_candidates\u001b[0m\u001b[0;34m(\u001b[0m\u001b[0mq\u001b[0m\u001b[0;34m,\u001b[0m \u001b[0mex\u001b[0m\u001b[0;34m,\u001b[0m \u001b[0mwv_embeddings\u001b[0m\u001b[0;34m,\u001b[0m \u001b[0mtokenizer\u001b[0m\u001b[0;34m)\u001b[0m\u001b[0;34m\u001b[0m\u001b[0;34m\u001b[0m\u001b[0m\n\u001b[0;32m----> 9\u001b[0;31m     \u001b[0mwv_ranking\u001b[0m\u001b[0;34m.\u001b[0m\u001b[0mappend\u001b[0m\u001b[0;34m(\u001b[0m\u001b[0;34m[\u001b[0m\u001b[0mr\u001b[0m\u001b[0;34m[\u001b[0m\u001b[0;36m0\u001b[0m\u001b[0;34m]\u001b[0m \u001b[0;32mfor\u001b[0m \u001b[0mr\u001b[0m \u001b[0;32min\u001b[0m \u001b[0mranks\u001b[0m\u001b[0;34m]\u001b[0m\u001b[0;34m.\u001b[0m\u001b[0mindex\u001b[0m\u001b[0;34m(\u001b[0m\u001b[0;34m'0'\u001b[0m\u001b[0;34m)\u001b[0m \u001b[0;34m+\u001b[0m \u001b[0;36m1\u001b[0m\u001b[0;34m)\u001b[0m\u001b[0;34m\u001b[0m\u001b[0;34m\u001b[0m\u001b[0m\n\u001b[0m",
            "\u001b[0;31mValueError\u001b[0m: '0' is not in list"
          ]
        }
      ],
      "source": [
        "wv_ranking = []\n",
        "max_validation_examples = 1000\n",
        "for i, line in enumerate(tqdm(validation_data)):\n",
        "    if i == max_validation_examples:\n",
        "        break\n",
        "    q, *ex = line\n",
        "    print(ex)\n",
        "    ranks = rank_candidates(q, ex, wv_embeddings, tokenizer)\n",
        "    wv_ranking.append([r[0] for r in ranks].index('0') + 1)"
      ]
    },
    {
      "cell_type": "code",
      "execution_count": null,
      "metadata": {
        "id": "gDtS520v6j35",
        "scrolled": true
      },
      "outputs": [],
      "source": [
        "for k in tqdm([1, 5, 10, 100, 500, 1000]):\n",
        "    print(\"DCG@%4d: %.3f | Hits@%4d: %.3f\" % (k, dcg_score(wv_ranking, k), k, hits_count(wv_ranking, k)))"
      ]
    },
    {
      "cell_type": "markdown",
      "metadata": {
        "id": "LL6_Rjg3InL8"
      },
      "source": [
        "### Эмбеддинги, обученные на корпусе похожих вопросов"
      ]
    },
    {
      "cell_type": "code",
      "execution_count": null,
      "metadata": {
        "id": "iNvbpR5gJIPz"
      },
      "outputs": [],
      "source": [
        "train_data = read_corpus('./data/train.tsv')"
      ]
    },
    {
      "cell_type": "markdown",
      "metadata": {
        "id": "Nr281ZyEJfjT"
      },
      "source": [
        "Улучшите качество модели.<br>Склеим вопросы в пары и обучим на них модель Word2Vec из gensim. Выберите размер window. Объясните свой выбор."
      ]
    },
    {
      "cell_type": "code",
      "execution_count": null,
      "metadata": {
        "id": "f6Y46SSQMTL0"
      },
      "outputs": [],
      "source": [
        "'''your code'''"
      ]
    },
    {
      "cell_type": "code",
      "execution_count": null,
      "metadata": {
        "id": "QuJzAM0cI-UH"
      },
      "outputs": [],
      "source": [
        "from gensim.models import Word2Vec\n",
        "embeddings_trained = Word2Vec(words, # data for model to train on\n",
        "                 size=200,                 # embedding vector size\n",
        "                 min_count='''your code''',             # consider words that occured at least 5 times\n",
        "                 window='''your code''').wv"
      ]
    },
    {
      "cell_type": "code",
      "execution_count": null,
      "metadata": {
        "id": "OQonbm4nMenD"
      },
      "outputs": [],
      "source": [
        "wv_ranking = []\n",
        "max_validation_examples = 1000\n",
        "for i, line in enumerate(tqdm(validation_data)):\n",
        "    if i == max_validation_examples:\n",
        "        break\n",
        "    q, *ex = line\n",
        "    ranks = rank_candidates(q, ex, embeddings_trained, tokenizer)\n",
        "    wv_ranking.append([r[0] for r in ranks].index('0') + 1)"
      ]
    },
    {
      "cell_type": "code",
      "execution_count": null,
      "metadata": {
        "id": "3kahBUPGMgGR"
      },
      "outputs": [],
      "source": [
        "for k in tqdm([1, 5, 10, 100, 500, 1000]):\n",
        "    print(\"DCG@%4d: %.3f | Hits@%4d: %.3f\" % (k, dcg_score(wv_ranking, k), k, hits_count(wv_ranking, k)))"
      ]
    },
    {
      "cell_type": "markdown",
      "metadata": {
        "id": "tY8PxB0j-ThG"
      },
      "source": [
        "### Замечание:\n",
        "Решить эту задачу с помощью обучения полноценной нейронной сети будет вам предложено, как часть задания в одной из домашних работ по теме \"Диалоговые системы\"."
      ]
    },
    {
      "cell_type": "markdown",
      "metadata": {
        "id": "vymVj8IxO2PO"
      },
      "source": [
        "Напишите свой вывод о полученных результатах.\n",
        "* Какой принцип токенизации даёт качество лучше и почему?\n",
        "* Помогает ли нормализация слов?\n",
        "* Какие эмбеддинги лучше справляются с задачей и почему?\n",
        "* Почему получилось плохое качество решения задачи?\n",
        "* Предложите свой подход к решению задачи.\n",
        "\n",
        "## Вывод:\n"
      ]
    },
    {
      "cell_type": "markdown",
      "metadata": {
        "id": "emODHztAQUQz"
      },
      "source": []
    }
  ],
  "metadata": {
    "colab": {
      "collapsed_sections": [
        "BIWqBuEa6j0b",
        "uS9FwWNd5a3S",
        "MQk_rolFwT_h",
        "ai48-5vv6j1d",
        "Y60z4t6W6j16",
        "0sUSxk866j1_",
        "J5xWOORI6j2F",
        "tHZqgDTo6j0i",
        "ySQQp0oQt1Ep",
        "LL6_Rjg3InL8"
      ],
      "name": "[homework]simple_embeddings.ipynb",
      "provenance": []
    },
    "kernelspec": {
      "display_name": "Python 3",
      "language": "python",
      "name": "python3"
    },
    "language_info": {
      "codemirror_mode": {
        "name": "ipython",
        "version": 3
      },
      "file_extension": ".py",
      "mimetype": "text/x-python",
      "name": "python",
      "nbconvert_exporter": "python",
      "pygments_lexer": "ipython3",
      "version": "3.9.13"
    },
    "widgets": {
      "application/vnd.jupyter.widget-state+json": {
        "2c01d3e0aa654aaa85bc7e7cf509b985": {
          "model_module": "@jupyter-widgets/controls",
          "model_name": "HBoxModel",
          "model_module_version": "1.5.0",
          "state": {
            "_dom_classes": [],
            "_model_module": "@jupyter-widgets/controls",
            "_model_module_version": "1.5.0",
            "_model_name": "HBoxModel",
            "_view_count": null,
            "_view_module": "@jupyter-widgets/controls",
            "_view_module_version": "1.5.0",
            "_view_name": "HBoxView",
            "box_style": "",
            "children": [
              "IPY_MODEL_4a7d5be74ae94620974b516f62b21883",
              "IPY_MODEL_63032e7f111f4ad3be20c523e663629e",
              "IPY_MODEL_d46059c4517a4b7a8c071ddbeab45794"
            ],
            "layout": "IPY_MODEL_03ab303dcfbc4504be6f3ff2297106e7"
          }
        },
        "4a7d5be74ae94620974b516f62b21883": {
          "model_module": "@jupyter-widgets/controls",
          "model_name": "HTMLModel",
          "model_module_version": "1.5.0",
          "state": {
            "_dom_classes": [],
            "_model_module": "@jupyter-widgets/controls",
            "_model_module_version": "1.5.0",
            "_model_name": "HTMLModel",
            "_view_count": null,
            "_view_module": "@jupyter-widgets/controls",
            "_view_module_version": "1.5.0",
            "_view_name": "HTMLView",
            "description": "",
            "description_tooltip": null,
            "layout": "IPY_MODEL_72763859a14847f7b1e293c9168af5e8",
            "placeholder": "​",
            "style": "IPY_MODEL_10043e8411924db0bdaca35504f1dea4",
            "value": "  0%"
          }
        },
        "63032e7f111f4ad3be20c523e663629e": {
          "model_module": "@jupyter-widgets/controls",
          "model_name": "FloatProgressModel",
          "model_module_version": "1.5.0",
          "state": {
            "_dom_classes": [],
            "_model_module": "@jupyter-widgets/controls",
            "_model_module_version": "1.5.0",
            "_model_name": "FloatProgressModel",
            "_view_count": null,
            "_view_module": "@jupyter-widgets/controls",
            "_view_module_version": "1.5.0",
            "_view_name": "ProgressView",
            "bar_style": "danger",
            "description": "",
            "description_tooltip": null,
            "layout": "IPY_MODEL_74ff78f7543a482fa4815b9066c5ebaa",
            "max": 3760,
            "min": 0,
            "orientation": "horizontal",
            "style": "IPY_MODEL_80e453d4feba43669295031820988359",
            "value": 0
          }
        },
        "d46059c4517a4b7a8c071ddbeab45794": {
          "model_module": "@jupyter-widgets/controls",
          "model_name": "HTMLModel",
          "model_module_version": "1.5.0",
          "state": {
            "_dom_classes": [],
            "_model_module": "@jupyter-widgets/controls",
            "_model_module_version": "1.5.0",
            "_model_name": "HTMLModel",
            "_view_count": null,
            "_view_module": "@jupyter-widgets/controls",
            "_view_module_version": "1.5.0",
            "_view_name": "HTMLView",
            "description": "",
            "description_tooltip": null,
            "layout": "IPY_MODEL_1029d4c1f6824012b0ad5bf0f3370025",
            "placeholder": "​",
            "style": "IPY_MODEL_131ca593e0004b6dbe176e8d452994a3",
            "value": " 0/3760 [00:17&lt;?, ?it/s]"
          }
        },
        "03ab303dcfbc4504be6f3ff2297106e7": {
          "model_module": "@jupyter-widgets/base",
          "model_name": "LayoutModel",
          "model_module_version": "1.2.0",
          "state": {
            "_model_module": "@jupyter-widgets/base",
            "_model_module_version": "1.2.0",
            "_model_name": "LayoutModel",
            "_view_count": null,
            "_view_module": "@jupyter-widgets/base",
            "_view_module_version": "1.2.0",
            "_view_name": "LayoutView",
            "align_content": null,
            "align_items": null,
            "align_self": null,
            "border": null,
            "bottom": null,
            "display": null,
            "flex": null,
            "flex_flow": null,
            "grid_area": null,
            "grid_auto_columns": null,
            "grid_auto_flow": null,
            "grid_auto_rows": null,
            "grid_column": null,
            "grid_gap": null,
            "grid_row": null,
            "grid_template_areas": null,
            "grid_template_columns": null,
            "grid_template_rows": null,
            "height": null,
            "justify_content": null,
            "justify_items": null,
            "left": null,
            "margin": null,
            "max_height": null,
            "max_width": null,
            "min_height": null,
            "min_width": null,
            "object_fit": null,
            "object_position": null,
            "order": null,
            "overflow": null,
            "overflow_x": null,
            "overflow_y": null,
            "padding": null,
            "right": null,
            "top": null,
            "visibility": null,
            "width": null
          }
        },
        "72763859a14847f7b1e293c9168af5e8": {
          "model_module": "@jupyter-widgets/base",
          "model_name": "LayoutModel",
          "model_module_version": "1.2.0",
          "state": {
            "_model_module": "@jupyter-widgets/base",
            "_model_module_version": "1.2.0",
            "_model_name": "LayoutModel",
            "_view_count": null,
            "_view_module": "@jupyter-widgets/base",
            "_view_module_version": "1.2.0",
            "_view_name": "LayoutView",
            "align_content": null,
            "align_items": null,
            "align_self": null,
            "border": null,
            "bottom": null,
            "display": null,
            "flex": null,
            "flex_flow": null,
            "grid_area": null,
            "grid_auto_columns": null,
            "grid_auto_flow": null,
            "grid_auto_rows": null,
            "grid_column": null,
            "grid_gap": null,
            "grid_row": null,
            "grid_template_areas": null,
            "grid_template_columns": null,
            "grid_template_rows": null,
            "height": null,
            "justify_content": null,
            "justify_items": null,
            "left": null,
            "margin": null,
            "max_height": null,
            "max_width": null,
            "min_height": null,
            "min_width": null,
            "object_fit": null,
            "object_position": null,
            "order": null,
            "overflow": null,
            "overflow_x": null,
            "overflow_y": null,
            "padding": null,
            "right": null,
            "top": null,
            "visibility": null,
            "width": null
          }
        },
        "10043e8411924db0bdaca35504f1dea4": {
          "model_module": "@jupyter-widgets/controls",
          "model_name": "DescriptionStyleModel",
          "model_module_version": "1.5.0",
          "state": {
            "_model_module": "@jupyter-widgets/controls",
            "_model_module_version": "1.5.0",
            "_model_name": "DescriptionStyleModel",
            "_view_count": null,
            "_view_module": "@jupyter-widgets/base",
            "_view_module_version": "1.2.0",
            "_view_name": "StyleView",
            "description_width": ""
          }
        },
        "74ff78f7543a482fa4815b9066c5ebaa": {
          "model_module": "@jupyter-widgets/base",
          "model_name": "LayoutModel",
          "model_module_version": "1.2.0",
          "state": {
            "_model_module": "@jupyter-widgets/base",
            "_model_module_version": "1.2.0",
            "_model_name": "LayoutModel",
            "_view_count": null,
            "_view_module": "@jupyter-widgets/base",
            "_view_module_version": "1.2.0",
            "_view_name": "LayoutView",
            "align_content": null,
            "align_items": null,
            "align_self": null,
            "border": null,
            "bottom": null,
            "display": null,
            "flex": null,
            "flex_flow": null,
            "grid_area": null,
            "grid_auto_columns": null,
            "grid_auto_flow": null,
            "grid_auto_rows": null,
            "grid_column": null,
            "grid_gap": null,
            "grid_row": null,
            "grid_template_areas": null,
            "grid_template_columns": null,
            "grid_template_rows": null,
            "height": null,
            "justify_content": null,
            "justify_items": null,
            "left": null,
            "margin": null,
            "max_height": null,
            "max_width": null,
            "min_height": null,
            "min_width": null,
            "object_fit": null,
            "object_position": null,
            "order": null,
            "overflow": null,
            "overflow_x": null,
            "overflow_y": null,
            "padding": null,
            "right": null,
            "top": null,
            "visibility": null,
            "width": null
          }
        },
        "80e453d4feba43669295031820988359": {
          "model_module": "@jupyter-widgets/controls",
          "model_name": "ProgressStyleModel",
          "model_module_version": "1.5.0",
          "state": {
            "_model_module": "@jupyter-widgets/controls",
            "_model_module_version": "1.5.0",
            "_model_name": "ProgressStyleModel",
            "_view_count": null,
            "_view_module": "@jupyter-widgets/base",
            "_view_module_version": "1.2.0",
            "_view_name": "StyleView",
            "bar_color": null,
            "description_width": ""
          }
        },
        "1029d4c1f6824012b0ad5bf0f3370025": {
          "model_module": "@jupyter-widgets/base",
          "model_name": "LayoutModel",
          "model_module_version": "1.2.0",
          "state": {
            "_model_module": "@jupyter-widgets/base",
            "_model_module_version": "1.2.0",
            "_model_name": "LayoutModel",
            "_view_count": null,
            "_view_module": "@jupyter-widgets/base",
            "_view_module_version": "1.2.0",
            "_view_name": "LayoutView",
            "align_content": null,
            "align_items": null,
            "align_self": null,
            "border": null,
            "bottom": null,
            "display": null,
            "flex": null,
            "flex_flow": null,
            "grid_area": null,
            "grid_auto_columns": null,
            "grid_auto_flow": null,
            "grid_auto_rows": null,
            "grid_column": null,
            "grid_gap": null,
            "grid_row": null,
            "grid_template_areas": null,
            "grid_template_columns": null,
            "grid_template_rows": null,
            "height": null,
            "justify_content": null,
            "justify_items": null,
            "left": null,
            "margin": null,
            "max_height": null,
            "max_width": null,
            "min_height": null,
            "min_width": null,
            "object_fit": null,
            "object_position": null,
            "order": null,
            "overflow": null,
            "overflow_x": null,
            "overflow_y": null,
            "padding": null,
            "right": null,
            "top": null,
            "visibility": null,
            "width": null
          }
        },
        "131ca593e0004b6dbe176e8d452994a3": {
          "model_module": "@jupyter-widgets/controls",
          "model_name": "DescriptionStyleModel",
          "model_module_version": "1.5.0",
          "state": {
            "_model_module": "@jupyter-widgets/controls",
            "_model_module_version": "1.5.0",
            "_model_name": "DescriptionStyleModel",
            "_view_count": null,
            "_view_module": "@jupyter-widgets/base",
            "_view_module_version": "1.2.0",
            "_view_name": "StyleView",
            "description_width": ""
          }
        }
      }
    }
  },
  "nbformat": 4,
  "nbformat_minor": 0
}