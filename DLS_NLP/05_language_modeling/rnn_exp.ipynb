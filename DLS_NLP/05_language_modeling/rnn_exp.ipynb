{
  "nbformat": 4,
  "nbformat_minor": 0,
  "metadata": {
    "colab": {
      "provenance": []
    },
    "kernelspec": {
      "name": "python3",
      "display_name": "Python 3"
    },
    "language_info": {
      "name": "python"
    },
    "widgets": {
      "application/vnd.jupyter.widget-state+json": {
        "02b81dfd3c4040dabc494db1db7130ef": {
          "model_module": "@jupyter-widgets/controls",
          "model_name": "HBoxModel",
          "model_module_version": "1.5.0",
          "state": {
            "_dom_classes": [],
            "_model_module": "@jupyter-widgets/controls",
            "_model_module_version": "1.5.0",
            "_model_name": "HBoxModel",
            "_view_count": null,
            "_view_module": "@jupyter-widgets/controls",
            "_view_module_version": "1.5.0",
            "_view_name": "HBoxView",
            "box_style": "",
            "children": [
              "IPY_MODEL_0bcd8e1d05284c1d840b3c17e62b084f",
              "IPY_MODEL_e46f55fffd4540408e4b1f547b27da23",
              "IPY_MODEL_809e4afaa7c94965841df862d6710c13"
            ],
            "layout": "IPY_MODEL_eecb7652e7714974baa3248cd2deb724"
          }
        },
        "0bcd8e1d05284c1d840b3c17e62b084f": {
          "model_module": "@jupyter-widgets/controls",
          "model_name": "HTMLModel",
          "model_module_version": "1.5.0",
          "state": {
            "_dom_classes": [],
            "_model_module": "@jupyter-widgets/controls",
            "_model_module_version": "1.5.0",
            "_model_name": "HTMLModel",
            "_view_count": null,
            "_view_module": "@jupyter-widgets/controls",
            "_view_module_version": "1.5.0",
            "_view_name": "HTMLView",
            "description": "",
            "description_tooltip": null,
            "layout": "IPY_MODEL_ea388d5615f54589a8ac2feef622a84f",
            "placeholder": "​",
            "style": "IPY_MODEL_07d048e763c04de780a5edc8c661771b",
            "value": "Epoch 19: 100%"
          }
        },
        "e46f55fffd4540408e4b1f547b27da23": {
          "model_module": "@jupyter-widgets/controls",
          "model_name": "FloatProgressModel",
          "model_module_version": "1.5.0",
          "state": {
            "_dom_classes": [],
            "_model_module": "@jupyter-widgets/controls",
            "_model_module_version": "1.5.0",
            "_model_name": "FloatProgressModel",
            "_view_count": null,
            "_view_module": "@jupyter-widgets/controls",
            "_view_module_version": "1.5.0",
            "_view_name": "ProgressView",
            "bar_style": "success",
            "description": "",
            "description_tooltip": null,
            "layout": "IPY_MODEL_5cd9370dccde4fb68cab01380b038699",
            "max": 30,
            "min": 0,
            "orientation": "horizontal",
            "style": "IPY_MODEL_6be8c269582e4b8e94fae62cc9e650ac",
            "value": 30
          }
        },
        "809e4afaa7c94965841df862d6710c13": {
          "model_module": "@jupyter-widgets/controls",
          "model_name": "HTMLModel",
          "model_module_version": "1.5.0",
          "state": {
            "_dom_classes": [],
            "_model_module": "@jupyter-widgets/controls",
            "_model_module_version": "1.5.0",
            "_model_name": "HTMLModel",
            "_view_count": null,
            "_view_module": "@jupyter-widgets/controls",
            "_view_module_version": "1.5.0",
            "_view_name": "HTMLView",
            "description": "",
            "description_tooltip": null,
            "layout": "IPY_MODEL_cf369b8f1ef341b4ad784b6bac019764",
            "placeholder": "​",
            "style": "IPY_MODEL_cc2224b9ff124463b2b1100cd2378d33",
            "value": " 30/30 [00:00&lt;00:00, 80.57it/s, v_num=54, train_loss=0.00036]"
          }
        },
        "eecb7652e7714974baa3248cd2deb724": {
          "model_module": "@jupyter-widgets/base",
          "model_name": "LayoutModel",
          "model_module_version": "1.2.0",
          "state": {
            "_model_module": "@jupyter-widgets/base",
            "_model_module_version": "1.2.0",
            "_model_name": "LayoutModel",
            "_view_count": null,
            "_view_module": "@jupyter-widgets/base",
            "_view_module_version": "1.2.0",
            "_view_name": "LayoutView",
            "align_content": null,
            "align_items": null,
            "align_self": null,
            "border": null,
            "bottom": null,
            "display": "inline-flex",
            "flex": null,
            "flex_flow": "row wrap",
            "grid_area": null,
            "grid_auto_columns": null,
            "grid_auto_flow": null,
            "grid_auto_rows": null,
            "grid_column": null,
            "grid_gap": null,
            "grid_row": null,
            "grid_template_areas": null,
            "grid_template_columns": null,
            "grid_template_rows": null,
            "height": null,
            "justify_content": null,
            "justify_items": null,
            "left": null,
            "margin": null,
            "max_height": null,
            "max_width": null,
            "min_height": null,
            "min_width": null,
            "object_fit": null,
            "object_position": null,
            "order": null,
            "overflow": null,
            "overflow_x": null,
            "overflow_y": null,
            "padding": null,
            "right": null,
            "top": null,
            "visibility": null,
            "width": "100%"
          }
        },
        "ea388d5615f54589a8ac2feef622a84f": {
          "model_module": "@jupyter-widgets/base",
          "model_name": "LayoutModel",
          "model_module_version": "1.2.0",
          "state": {
            "_model_module": "@jupyter-widgets/base",
            "_model_module_version": "1.2.0",
            "_model_name": "LayoutModel",
            "_view_count": null,
            "_view_module": "@jupyter-widgets/base",
            "_view_module_version": "1.2.0",
            "_view_name": "LayoutView",
            "align_content": null,
            "align_items": null,
            "align_self": null,
            "border": null,
            "bottom": null,
            "display": null,
            "flex": null,
            "flex_flow": null,
            "grid_area": null,
            "grid_auto_columns": null,
            "grid_auto_flow": null,
            "grid_auto_rows": null,
            "grid_column": null,
            "grid_gap": null,
            "grid_row": null,
            "grid_template_areas": null,
            "grid_template_columns": null,
            "grid_template_rows": null,
            "height": null,
            "justify_content": null,
            "justify_items": null,
            "left": null,
            "margin": null,
            "max_height": null,
            "max_width": null,
            "min_height": null,
            "min_width": null,
            "object_fit": null,
            "object_position": null,
            "order": null,
            "overflow": null,
            "overflow_x": null,
            "overflow_y": null,
            "padding": null,
            "right": null,
            "top": null,
            "visibility": null,
            "width": null
          }
        },
        "07d048e763c04de780a5edc8c661771b": {
          "model_module": "@jupyter-widgets/controls",
          "model_name": "DescriptionStyleModel",
          "model_module_version": "1.5.0",
          "state": {
            "_model_module": "@jupyter-widgets/controls",
            "_model_module_version": "1.5.0",
            "_model_name": "DescriptionStyleModel",
            "_view_count": null,
            "_view_module": "@jupyter-widgets/base",
            "_view_module_version": "1.2.0",
            "_view_name": "StyleView",
            "description_width": ""
          }
        },
        "5cd9370dccde4fb68cab01380b038699": {
          "model_module": "@jupyter-widgets/base",
          "model_name": "LayoutModel",
          "model_module_version": "1.2.0",
          "state": {
            "_model_module": "@jupyter-widgets/base",
            "_model_module_version": "1.2.0",
            "_model_name": "LayoutModel",
            "_view_count": null,
            "_view_module": "@jupyter-widgets/base",
            "_view_module_version": "1.2.0",
            "_view_name": "LayoutView",
            "align_content": null,
            "align_items": null,
            "align_self": null,
            "border": null,
            "bottom": null,
            "display": null,
            "flex": "2",
            "flex_flow": null,
            "grid_area": null,
            "grid_auto_columns": null,
            "grid_auto_flow": null,
            "grid_auto_rows": null,
            "grid_column": null,
            "grid_gap": null,
            "grid_row": null,
            "grid_template_areas": null,
            "grid_template_columns": null,
            "grid_template_rows": null,
            "height": null,
            "justify_content": null,
            "justify_items": null,
            "left": null,
            "margin": null,
            "max_height": null,
            "max_width": null,
            "min_height": null,
            "min_width": null,
            "object_fit": null,
            "object_position": null,
            "order": null,
            "overflow": null,
            "overflow_x": null,
            "overflow_y": null,
            "padding": null,
            "right": null,
            "top": null,
            "visibility": null,
            "width": null
          }
        },
        "6be8c269582e4b8e94fae62cc9e650ac": {
          "model_module": "@jupyter-widgets/controls",
          "model_name": "ProgressStyleModel",
          "model_module_version": "1.5.0",
          "state": {
            "_model_module": "@jupyter-widgets/controls",
            "_model_module_version": "1.5.0",
            "_model_name": "ProgressStyleModel",
            "_view_count": null,
            "_view_module": "@jupyter-widgets/base",
            "_view_module_version": "1.2.0",
            "_view_name": "StyleView",
            "bar_color": null,
            "description_width": ""
          }
        },
        "cf369b8f1ef341b4ad784b6bac019764": {
          "model_module": "@jupyter-widgets/base",
          "model_name": "LayoutModel",
          "model_module_version": "1.2.0",
          "state": {
            "_model_module": "@jupyter-widgets/base",
            "_model_module_version": "1.2.0",
            "_model_name": "LayoutModel",
            "_view_count": null,
            "_view_module": "@jupyter-widgets/base",
            "_view_module_version": "1.2.0",
            "_view_name": "LayoutView",
            "align_content": null,
            "align_items": null,
            "align_self": null,
            "border": null,
            "bottom": null,
            "display": null,
            "flex": null,
            "flex_flow": null,
            "grid_area": null,
            "grid_auto_columns": null,
            "grid_auto_flow": null,
            "grid_auto_rows": null,
            "grid_column": null,
            "grid_gap": null,
            "grid_row": null,
            "grid_template_areas": null,
            "grid_template_columns": null,
            "grid_template_rows": null,
            "height": null,
            "justify_content": null,
            "justify_items": null,
            "left": null,
            "margin": null,
            "max_height": null,
            "max_width": null,
            "min_height": null,
            "min_width": null,
            "object_fit": null,
            "object_position": null,
            "order": null,
            "overflow": null,
            "overflow_x": null,
            "overflow_y": null,
            "padding": null,
            "right": null,
            "top": null,
            "visibility": null,
            "width": null
          }
        },
        "cc2224b9ff124463b2b1100cd2378d33": {
          "model_module": "@jupyter-widgets/controls",
          "model_name": "DescriptionStyleModel",
          "model_module_version": "1.5.0",
          "state": {
            "_model_module": "@jupyter-widgets/controls",
            "_model_module_version": "1.5.0",
            "_model_name": "DescriptionStyleModel",
            "_view_count": null,
            "_view_module": "@jupyter-widgets/base",
            "_view_module_version": "1.2.0",
            "_view_name": "StyleView",
            "description_width": ""
          }
        },
        "d2cf1ff8447a4a729df031770170f0f7": {
          "model_module": "@jupyter-widgets/controls",
          "model_name": "HBoxModel",
          "model_module_version": "1.5.0",
          "state": {
            "_dom_classes": [],
            "_model_module": "@jupyter-widgets/controls",
            "_model_module_version": "1.5.0",
            "_model_name": "HBoxModel",
            "_view_count": null,
            "_view_module": "@jupyter-widgets/controls",
            "_view_module_version": "1.5.0",
            "_view_name": "HBoxView",
            "box_style": "",
            "children": [
              "IPY_MODEL_220b3fb8304b4808bf06af9d1754bf39",
              "IPY_MODEL_0e49a9b1ca6e4475a7a4c7ced130147f",
              "IPY_MODEL_f3d237a93a1b47efba39bfb6d013b39c"
            ],
            "layout": "IPY_MODEL_90a4320ff1824967b43e8e0d6e62b872"
          }
        },
        "220b3fb8304b4808bf06af9d1754bf39": {
          "model_module": "@jupyter-widgets/controls",
          "model_name": "HTMLModel",
          "model_module_version": "1.5.0",
          "state": {
            "_dom_classes": [],
            "_model_module": "@jupyter-widgets/controls",
            "_model_module_version": "1.5.0",
            "_model_name": "HTMLModel",
            "_view_count": null,
            "_view_module": "@jupyter-widgets/controls",
            "_view_module_version": "1.5.0",
            "_view_name": "HTMLView",
            "description": "",
            "description_tooltip": null,
            "layout": "IPY_MODEL_5c7e1503f8d84b898f78e3b0bb53dcbd",
            "placeholder": "​",
            "style": "IPY_MODEL_6cde2c0c9c394f60b08d800f082a4afe",
            "value": "Epoch 19: 100%"
          }
        },
        "0e49a9b1ca6e4475a7a4c7ced130147f": {
          "model_module": "@jupyter-widgets/controls",
          "model_name": "FloatProgressModel",
          "model_module_version": "1.5.0",
          "state": {
            "_dom_classes": [],
            "_model_module": "@jupyter-widgets/controls",
            "_model_module_version": "1.5.0",
            "_model_name": "FloatProgressModel",
            "_view_count": null,
            "_view_module": "@jupyter-widgets/controls",
            "_view_module_version": "1.5.0",
            "_view_name": "ProgressView",
            "bar_style": "success",
            "description": "",
            "description_tooltip": null,
            "layout": "IPY_MODEL_48c6f856b4024f2798ff9d74b6a43ac3",
            "max": 30,
            "min": 0,
            "orientation": "horizontal",
            "style": "IPY_MODEL_1509446ec65a4b2bb0f9767fdaaa10b6",
            "value": 30
          }
        },
        "f3d237a93a1b47efba39bfb6d013b39c": {
          "model_module": "@jupyter-widgets/controls",
          "model_name": "HTMLModel",
          "model_module_version": "1.5.0",
          "state": {
            "_dom_classes": [],
            "_model_module": "@jupyter-widgets/controls",
            "_model_module_version": "1.5.0",
            "_model_name": "HTMLModel",
            "_view_count": null,
            "_view_module": "@jupyter-widgets/controls",
            "_view_module_version": "1.5.0",
            "_view_name": "HTMLView",
            "description": "",
            "description_tooltip": null,
            "layout": "IPY_MODEL_1d62237c422244fc84ae582c742225bc",
            "placeholder": "​",
            "style": "IPY_MODEL_5daf8d4082d34b17b2f8f9d25c806524",
            "value": " 30/30 [00:00&lt;00:00, 73.56it/s, v_num=55, train_loss=0.000131]"
          }
        },
        "90a4320ff1824967b43e8e0d6e62b872": {
          "model_module": "@jupyter-widgets/base",
          "model_name": "LayoutModel",
          "model_module_version": "1.2.0",
          "state": {
            "_model_module": "@jupyter-widgets/base",
            "_model_module_version": "1.2.0",
            "_model_name": "LayoutModel",
            "_view_count": null,
            "_view_module": "@jupyter-widgets/base",
            "_view_module_version": "1.2.0",
            "_view_name": "LayoutView",
            "align_content": null,
            "align_items": null,
            "align_self": null,
            "border": null,
            "bottom": null,
            "display": "inline-flex",
            "flex": null,
            "flex_flow": "row wrap",
            "grid_area": null,
            "grid_auto_columns": null,
            "grid_auto_flow": null,
            "grid_auto_rows": null,
            "grid_column": null,
            "grid_gap": null,
            "grid_row": null,
            "grid_template_areas": null,
            "grid_template_columns": null,
            "grid_template_rows": null,
            "height": null,
            "justify_content": null,
            "justify_items": null,
            "left": null,
            "margin": null,
            "max_height": null,
            "max_width": null,
            "min_height": null,
            "min_width": null,
            "object_fit": null,
            "object_position": null,
            "order": null,
            "overflow": null,
            "overflow_x": null,
            "overflow_y": null,
            "padding": null,
            "right": null,
            "top": null,
            "visibility": null,
            "width": "100%"
          }
        },
        "5c7e1503f8d84b898f78e3b0bb53dcbd": {
          "model_module": "@jupyter-widgets/base",
          "model_name": "LayoutModel",
          "model_module_version": "1.2.0",
          "state": {
            "_model_module": "@jupyter-widgets/base",
            "_model_module_version": "1.2.0",
            "_model_name": "LayoutModel",
            "_view_count": null,
            "_view_module": "@jupyter-widgets/base",
            "_view_module_version": "1.2.0",
            "_view_name": "LayoutView",
            "align_content": null,
            "align_items": null,
            "align_self": null,
            "border": null,
            "bottom": null,
            "display": null,
            "flex": null,
            "flex_flow": null,
            "grid_area": null,
            "grid_auto_columns": null,
            "grid_auto_flow": null,
            "grid_auto_rows": null,
            "grid_column": null,
            "grid_gap": null,
            "grid_row": null,
            "grid_template_areas": null,
            "grid_template_columns": null,
            "grid_template_rows": null,
            "height": null,
            "justify_content": null,
            "justify_items": null,
            "left": null,
            "margin": null,
            "max_height": null,
            "max_width": null,
            "min_height": null,
            "min_width": null,
            "object_fit": null,
            "object_position": null,
            "order": null,
            "overflow": null,
            "overflow_x": null,
            "overflow_y": null,
            "padding": null,
            "right": null,
            "top": null,
            "visibility": null,
            "width": null
          }
        },
        "6cde2c0c9c394f60b08d800f082a4afe": {
          "model_module": "@jupyter-widgets/controls",
          "model_name": "DescriptionStyleModel",
          "model_module_version": "1.5.0",
          "state": {
            "_model_module": "@jupyter-widgets/controls",
            "_model_module_version": "1.5.0",
            "_model_name": "DescriptionStyleModel",
            "_view_count": null,
            "_view_module": "@jupyter-widgets/base",
            "_view_module_version": "1.2.0",
            "_view_name": "StyleView",
            "description_width": ""
          }
        },
        "48c6f856b4024f2798ff9d74b6a43ac3": {
          "model_module": "@jupyter-widgets/base",
          "model_name": "LayoutModel",
          "model_module_version": "1.2.0",
          "state": {
            "_model_module": "@jupyter-widgets/base",
            "_model_module_version": "1.2.0",
            "_model_name": "LayoutModel",
            "_view_count": null,
            "_view_module": "@jupyter-widgets/base",
            "_view_module_version": "1.2.0",
            "_view_name": "LayoutView",
            "align_content": null,
            "align_items": null,
            "align_self": null,
            "border": null,
            "bottom": null,
            "display": null,
            "flex": "2",
            "flex_flow": null,
            "grid_area": null,
            "grid_auto_columns": null,
            "grid_auto_flow": null,
            "grid_auto_rows": null,
            "grid_column": null,
            "grid_gap": null,
            "grid_row": null,
            "grid_template_areas": null,
            "grid_template_columns": null,
            "grid_template_rows": null,
            "height": null,
            "justify_content": null,
            "justify_items": null,
            "left": null,
            "margin": null,
            "max_height": null,
            "max_width": null,
            "min_height": null,
            "min_width": null,
            "object_fit": null,
            "object_position": null,
            "order": null,
            "overflow": null,
            "overflow_x": null,
            "overflow_y": null,
            "padding": null,
            "right": null,
            "top": null,
            "visibility": null,
            "width": null
          }
        },
        "1509446ec65a4b2bb0f9767fdaaa10b6": {
          "model_module": "@jupyter-widgets/controls",
          "model_name": "ProgressStyleModel",
          "model_module_version": "1.5.0",
          "state": {
            "_model_module": "@jupyter-widgets/controls",
            "_model_module_version": "1.5.0",
            "_model_name": "ProgressStyleModel",
            "_view_count": null,
            "_view_module": "@jupyter-widgets/base",
            "_view_module_version": "1.2.0",
            "_view_name": "StyleView",
            "bar_color": null,
            "description_width": ""
          }
        },
        "1d62237c422244fc84ae582c742225bc": {
          "model_module": "@jupyter-widgets/base",
          "model_name": "LayoutModel",
          "model_module_version": "1.2.0",
          "state": {
            "_model_module": "@jupyter-widgets/base",
            "_model_module_version": "1.2.0",
            "_model_name": "LayoutModel",
            "_view_count": null,
            "_view_module": "@jupyter-widgets/base",
            "_view_module_version": "1.2.0",
            "_view_name": "LayoutView",
            "align_content": null,
            "align_items": null,
            "align_self": null,
            "border": null,
            "bottom": null,
            "display": null,
            "flex": null,
            "flex_flow": null,
            "grid_area": null,
            "grid_auto_columns": null,
            "grid_auto_flow": null,
            "grid_auto_rows": null,
            "grid_column": null,
            "grid_gap": null,
            "grid_row": null,
            "grid_template_areas": null,
            "grid_template_columns": null,
            "grid_template_rows": null,
            "height": null,
            "justify_content": null,
            "justify_items": null,
            "left": null,
            "margin": null,
            "max_height": null,
            "max_width": null,
            "min_height": null,
            "min_width": null,
            "object_fit": null,
            "object_position": null,
            "order": null,
            "overflow": null,
            "overflow_x": null,
            "overflow_y": null,
            "padding": null,
            "right": null,
            "top": null,
            "visibility": null,
            "width": null
          }
        },
        "5daf8d4082d34b17b2f8f9d25c806524": {
          "model_module": "@jupyter-widgets/controls",
          "model_name": "DescriptionStyleModel",
          "model_module_version": "1.5.0",
          "state": {
            "_model_module": "@jupyter-widgets/controls",
            "_model_module_version": "1.5.0",
            "_model_name": "DescriptionStyleModel",
            "_view_count": null,
            "_view_module": "@jupyter-widgets/base",
            "_view_module_version": "1.2.0",
            "_view_name": "StyleView",
            "description_width": ""
          }
        },
        "eb0de7171eb64f86a9b653412f45cc78": {
          "model_module": "@jupyter-widgets/controls",
          "model_name": "HBoxModel",
          "model_module_version": "1.5.0",
          "state": {
            "_dom_classes": [],
            "_model_module": "@jupyter-widgets/controls",
            "_model_module_version": "1.5.0",
            "_model_name": "HBoxModel",
            "_view_count": null,
            "_view_module": "@jupyter-widgets/controls",
            "_view_module_version": "1.5.0",
            "_view_name": "HBoxView",
            "box_style": "",
            "children": [
              "IPY_MODEL_4ccaf89fc1104593a1804bc0273461a6",
              "IPY_MODEL_9696580223f1495c8ace108d94a87e39",
              "IPY_MODEL_7f42aac00be44d229ab746bc4567a01d"
            ],
            "layout": "IPY_MODEL_6522939dc89e499895ae1bff46706288"
          }
        },
        "4ccaf89fc1104593a1804bc0273461a6": {
          "model_module": "@jupyter-widgets/controls",
          "model_name": "HTMLModel",
          "model_module_version": "1.5.0",
          "state": {
            "_dom_classes": [],
            "_model_module": "@jupyter-widgets/controls",
            "_model_module_version": "1.5.0",
            "_model_name": "HTMLModel",
            "_view_count": null,
            "_view_module": "@jupyter-widgets/controls",
            "_view_module_version": "1.5.0",
            "_view_name": "HTMLView",
            "description": "",
            "description_tooltip": null,
            "layout": "IPY_MODEL_7f037de56718490b9884c62dd673036d",
            "placeholder": "​",
            "style": "IPY_MODEL_7cb86cb58b604253a56e540f1e12e266",
            "value": "Epoch 19: 100%"
          }
        },
        "9696580223f1495c8ace108d94a87e39": {
          "model_module": "@jupyter-widgets/controls",
          "model_name": "FloatProgressModel",
          "model_module_version": "1.5.0",
          "state": {
            "_dom_classes": [],
            "_model_module": "@jupyter-widgets/controls",
            "_model_module_version": "1.5.0",
            "_model_name": "FloatProgressModel",
            "_view_count": null,
            "_view_module": "@jupyter-widgets/controls",
            "_view_module_version": "1.5.0",
            "_view_name": "ProgressView",
            "bar_style": "success",
            "description": "",
            "description_tooltip": null,
            "layout": "IPY_MODEL_03bbfe49a785404eb522ee677405eecf",
            "max": 30,
            "min": 0,
            "orientation": "horizontal",
            "style": "IPY_MODEL_05f771e7e165435ea0fc438b6ece687d",
            "value": 30
          }
        },
        "7f42aac00be44d229ab746bc4567a01d": {
          "model_module": "@jupyter-widgets/controls",
          "model_name": "HTMLModel",
          "model_module_version": "1.5.0",
          "state": {
            "_dom_classes": [],
            "_model_module": "@jupyter-widgets/controls",
            "_model_module_version": "1.5.0",
            "_model_name": "HTMLModel",
            "_view_count": null,
            "_view_module": "@jupyter-widgets/controls",
            "_view_module_version": "1.5.0",
            "_view_name": "HTMLView",
            "description": "",
            "description_tooltip": null,
            "layout": "IPY_MODEL_3e1d4ac98ff64d30b432a7370f7a9ebe",
            "placeholder": "​",
            "style": "IPY_MODEL_6ff2c915ea4740da944c42187b4cb96f",
            "value": " 30/30 [00:00&lt;00:00, 97.34it/s, v_num=56, train_loss=0.000415]"
          }
        },
        "6522939dc89e499895ae1bff46706288": {
          "model_module": "@jupyter-widgets/base",
          "model_name": "LayoutModel",
          "model_module_version": "1.2.0",
          "state": {
            "_model_module": "@jupyter-widgets/base",
            "_model_module_version": "1.2.0",
            "_model_name": "LayoutModel",
            "_view_count": null,
            "_view_module": "@jupyter-widgets/base",
            "_view_module_version": "1.2.0",
            "_view_name": "LayoutView",
            "align_content": null,
            "align_items": null,
            "align_self": null,
            "border": null,
            "bottom": null,
            "display": "inline-flex",
            "flex": null,
            "flex_flow": "row wrap",
            "grid_area": null,
            "grid_auto_columns": null,
            "grid_auto_flow": null,
            "grid_auto_rows": null,
            "grid_column": null,
            "grid_gap": null,
            "grid_row": null,
            "grid_template_areas": null,
            "grid_template_columns": null,
            "grid_template_rows": null,
            "height": null,
            "justify_content": null,
            "justify_items": null,
            "left": null,
            "margin": null,
            "max_height": null,
            "max_width": null,
            "min_height": null,
            "min_width": null,
            "object_fit": null,
            "object_position": null,
            "order": null,
            "overflow": null,
            "overflow_x": null,
            "overflow_y": null,
            "padding": null,
            "right": null,
            "top": null,
            "visibility": null,
            "width": "100%"
          }
        },
        "7f037de56718490b9884c62dd673036d": {
          "model_module": "@jupyter-widgets/base",
          "model_name": "LayoutModel",
          "model_module_version": "1.2.0",
          "state": {
            "_model_module": "@jupyter-widgets/base",
            "_model_module_version": "1.2.0",
            "_model_name": "LayoutModel",
            "_view_count": null,
            "_view_module": "@jupyter-widgets/base",
            "_view_module_version": "1.2.0",
            "_view_name": "LayoutView",
            "align_content": null,
            "align_items": null,
            "align_self": null,
            "border": null,
            "bottom": null,
            "display": null,
            "flex": null,
            "flex_flow": null,
            "grid_area": null,
            "grid_auto_columns": null,
            "grid_auto_flow": null,
            "grid_auto_rows": null,
            "grid_column": null,
            "grid_gap": null,
            "grid_row": null,
            "grid_template_areas": null,
            "grid_template_columns": null,
            "grid_template_rows": null,
            "height": null,
            "justify_content": null,
            "justify_items": null,
            "left": null,
            "margin": null,
            "max_height": null,
            "max_width": null,
            "min_height": null,
            "min_width": null,
            "object_fit": null,
            "object_position": null,
            "order": null,
            "overflow": null,
            "overflow_x": null,
            "overflow_y": null,
            "padding": null,
            "right": null,
            "top": null,
            "visibility": null,
            "width": null
          }
        },
        "7cb86cb58b604253a56e540f1e12e266": {
          "model_module": "@jupyter-widgets/controls",
          "model_name": "DescriptionStyleModel",
          "model_module_version": "1.5.0",
          "state": {
            "_model_module": "@jupyter-widgets/controls",
            "_model_module_version": "1.5.0",
            "_model_name": "DescriptionStyleModel",
            "_view_count": null,
            "_view_module": "@jupyter-widgets/base",
            "_view_module_version": "1.2.0",
            "_view_name": "StyleView",
            "description_width": ""
          }
        },
        "03bbfe49a785404eb522ee677405eecf": {
          "model_module": "@jupyter-widgets/base",
          "model_name": "LayoutModel",
          "model_module_version": "1.2.0",
          "state": {
            "_model_module": "@jupyter-widgets/base",
            "_model_module_version": "1.2.0",
            "_model_name": "LayoutModel",
            "_view_count": null,
            "_view_module": "@jupyter-widgets/base",
            "_view_module_version": "1.2.0",
            "_view_name": "LayoutView",
            "align_content": null,
            "align_items": null,
            "align_self": null,
            "border": null,
            "bottom": null,
            "display": null,
            "flex": "2",
            "flex_flow": null,
            "grid_area": null,
            "grid_auto_columns": null,
            "grid_auto_flow": null,
            "grid_auto_rows": null,
            "grid_column": null,
            "grid_gap": null,
            "grid_row": null,
            "grid_template_areas": null,
            "grid_template_columns": null,
            "grid_template_rows": null,
            "height": null,
            "justify_content": null,
            "justify_items": null,
            "left": null,
            "margin": null,
            "max_height": null,
            "max_width": null,
            "min_height": null,
            "min_width": null,
            "object_fit": null,
            "object_position": null,
            "order": null,
            "overflow": null,
            "overflow_x": null,
            "overflow_y": null,
            "padding": null,
            "right": null,
            "top": null,
            "visibility": null,
            "width": null
          }
        },
        "05f771e7e165435ea0fc438b6ece687d": {
          "model_module": "@jupyter-widgets/controls",
          "model_name": "ProgressStyleModel",
          "model_module_version": "1.5.0",
          "state": {
            "_model_module": "@jupyter-widgets/controls",
            "_model_module_version": "1.5.0",
            "_model_name": "ProgressStyleModel",
            "_view_count": null,
            "_view_module": "@jupyter-widgets/base",
            "_view_module_version": "1.2.0",
            "_view_name": "StyleView",
            "bar_color": null,
            "description_width": ""
          }
        },
        "3e1d4ac98ff64d30b432a7370f7a9ebe": {
          "model_module": "@jupyter-widgets/base",
          "model_name": "LayoutModel",
          "model_module_version": "1.2.0",
          "state": {
            "_model_module": "@jupyter-widgets/base",
            "_model_module_version": "1.2.0",
            "_model_name": "LayoutModel",
            "_view_count": null,
            "_view_module": "@jupyter-widgets/base",
            "_view_module_version": "1.2.0",
            "_view_name": "LayoutView",
            "align_content": null,
            "align_items": null,
            "align_self": null,
            "border": null,
            "bottom": null,
            "display": null,
            "flex": null,
            "flex_flow": null,
            "grid_area": null,
            "grid_auto_columns": null,
            "grid_auto_flow": null,
            "grid_auto_rows": null,
            "grid_column": null,
            "grid_gap": null,
            "grid_row": null,
            "grid_template_areas": null,
            "grid_template_columns": null,
            "grid_template_rows": null,
            "height": null,
            "justify_content": null,
            "justify_items": null,
            "left": null,
            "margin": null,
            "max_height": null,
            "max_width": null,
            "min_height": null,
            "min_width": null,
            "object_fit": null,
            "object_position": null,
            "order": null,
            "overflow": null,
            "overflow_x": null,
            "overflow_y": null,
            "padding": null,
            "right": null,
            "top": null,
            "visibility": null,
            "width": null
          }
        },
        "6ff2c915ea4740da944c42187b4cb96f": {
          "model_module": "@jupyter-widgets/controls",
          "model_name": "DescriptionStyleModel",
          "model_module_version": "1.5.0",
          "state": {
            "_model_module": "@jupyter-widgets/controls",
            "_model_module_version": "1.5.0",
            "_model_name": "DescriptionStyleModel",
            "_view_count": null,
            "_view_module": "@jupyter-widgets/base",
            "_view_module_version": "1.2.0",
            "_view_name": "StyleView",
            "description_width": ""
          }
        },
        "5419de51114e49879e181f3d31ac0116": {
          "model_module": "@jupyter-widgets/controls",
          "model_name": "HBoxModel",
          "model_module_version": "1.5.0",
          "state": {
            "_dom_classes": [],
            "_model_module": "@jupyter-widgets/controls",
            "_model_module_version": "1.5.0",
            "_model_name": "HBoxModel",
            "_view_count": null,
            "_view_module": "@jupyter-widgets/controls",
            "_view_module_version": "1.5.0",
            "_view_name": "HBoxView",
            "box_style": "",
            "children": [
              "IPY_MODEL_7b71f124b57c4e20835cc2aedb4aecb5",
              "IPY_MODEL_ca326da78804426187203d1e7e7d922e",
              "IPY_MODEL_602a07c1a2f54c558425cbc8e8676daf"
            ],
            "layout": "IPY_MODEL_50ec8dbbca6845729e0a17d106eb2c10"
          }
        },
        "7b71f124b57c4e20835cc2aedb4aecb5": {
          "model_module": "@jupyter-widgets/controls",
          "model_name": "HTMLModel",
          "model_module_version": "1.5.0",
          "state": {
            "_dom_classes": [],
            "_model_module": "@jupyter-widgets/controls",
            "_model_module_version": "1.5.0",
            "_model_name": "HTMLModel",
            "_view_count": null,
            "_view_module": "@jupyter-widgets/controls",
            "_view_module_version": "1.5.0",
            "_view_name": "HTMLView",
            "description": "",
            "description_tooltip": null,
            "layout": "IPY_MODEL_47376810bb6b47df9159ace1dfec9f9e",
            "placeholder": "​",
            "style": "IPY_MODEL_e61cb03c1ad74c88be8b8686afc14d69",
            "value": "Epoch 19: 100%"
          }
        },
        "ca326da78804426187203d1e7e7d922e": {
          "model_module": "@jupyter-widgets/controls",
          "model_name": "FloatProgressModel",
          "model_module_version": "1.5.0",
          "state": {
            "_dom_classes": [],
            "_model_module": "@jupyter-widgets/controls",
            "_model_module_version": "1.5.0",
            "_model_name": "FloatProgressModel",
            "_view_count": null,
            "_view_module": "@jupyter-widgets/controls",
            "_view_module_version": "1.5.0",
            "_view_name": "ProgressView",
            "bar_style": "success",
            "description": "",
            "description_tooltip": null,
            "layout": "IPY_MODEL_95abd08ce66a403f8d0c8a85ade3f139",
            "max": 30,
            "min": 0,
            "orientation": "horizontal",
            "style": "IPY_MODEL_c84bc2ece2d74dd09237c06530bc1379",
            "value": 30
          }
        },
        "602a07c1a2f54c558425cbc8e8676daf": {
          "model_module": "@jupyter-widgets/controls",
          "model_name": "HTMLModel",
          "model_module_version": "1.5.0",
          "state": {
            "_dom_classes": [],
            "_model_module": "@jupyter-widgets/controls",
            "_model_module_version": "1.5.0",
            "_model_name": "HTMLModel",
            "_view_count": null,
            "_view_module": "@jupyter-widgets/controls",
            "_view_module_version": "1.5.0",
            "_view_name": "HTMLView",
            "description": "",
            "description_tooltip": null,
            "layout": "IPY_MODEL_3cde597860a2412a9dec8c379e55eff9",
            "placeholder": "​",
            "style": "IPY_MODEL_0bb3e1df496143a1a16085901ff9c2ec",
            "value": " 30/30 [00:00&lt;00:00, 57.68it/s, v_num=57, train_loss=0.000114]"
          }
        },
        "50ec8dbbca6845729e0a17d106eb2c10": {
          "model_module": "@jupyter-widgets/base",
          "model_name": "LayoutModel",
          "model_module_version": "1.2.0",
          "state": {
            "_model_module": "@jupyter-widgets/base",
            "_model_module_version": "1.2.0",
            "_model_name": "LayoutModel",
            "_view_count": null,
            "_view_module": "@jupyter-widgets/base",
            "_view_module_version": "1.2.0",
            "_view_name": "LayoutView",
            "align_content": null,
            "align_items": null,
            "align_self": null,
            "border": null,
            "bottom": null,
            "display": "inline-flex",
            "flex": null,
            "flex_flow": "row wrap",
            "grid_area": null,
            "grid_auto_columns": null,
            "grid_auto_flow": null,
            "grid_auto_rows": null,
            "grid_column": null,
            "grid_gap": null,
            "grid_row": null,
            "grid_template_areas": null,
            "grid_template_columns": null,
            "grid_template_rows": null,
            "height": null,
            "justify_content": null,
            "justify_items": null,
            "left": null,
            "margin": null,
            "max_height": null,
            "max_width": null,
            "min_height": null,
            "min_width": null,
            "object_fit": null,
            "object_position": null,
            "order": null,
            "overflow": null,
            "overflow_x": null,
            "overflow_y": null,
            "padding": null,
            "right": null,
            "top": null,
            "visibility": null,
            "width": "100%"
          }
        },
        "47376810bb6b47df9159ace1dfec9f9e": {
          "model_module": "@jupyter-widgets/base",
          "model_name": "LayoutModel",
          "model_module_version": "1.2.0",
          "state": {
            "_model_module": "@jupyter-widgets/base",
            "_model_module_version": "1.2.0",
            "_model_name": "LayoutModel",
            "_view_count": null,
            "_view_module": "@jupyter-widgets/base",
            "_view_module_version": "1.2.0",
            "_view_name": "LayoutView",
            "align_content": null,
            "align_items": null,
            "align_self": null,
            "border": null,
            "bottom": null,
            "display": null,
            "flex": null,
            "flex_flow": null,
            "grid_area": null,
            "grid_auto_columns": null,
            "grid_auto_flow": null,
            "grid_auto_rows": null,
            "grid_column": null,
            "grid_gap": null,
            "grid_row": null,
            "grid_template_areas": null,
            "grid_template_columns": null,
            "grid_template_rows": null,
            "height": null,
            "justify_content": null,
            "justify_items": null,
            "left": null,
            "margin": null,
            "max_height": null,
            "max_width": null,
            "min_height": null,
            "min_width": null,
            "object_fit": null,
            "object_position": null,
            "order": null,
            "overflow": null,
            "overflow_x": null,
            "overflow_y": null,
            "padding": null,
            "right": null,
            "top": null,
            "visibility": null,
            "width": null
          }
        },
        "e61cb03c1ad74c88be8b8686afc14d69": {
          "model_module": "@jupyter-widgets/controls",
          "model_name": "DescriptionStyleModel",
          "model_module_version": "1.5.0",
          "state": {
            "_model_module": "@jupyter-widgets/controls",
            "_model_module_version": "1.5.0",
            "_model_name": "DescriptionStyleModel",
            "_view_count": null,
            "_view_module": "@jupyter-widgets/base",
            "_view_module_version": "1.2.0",
            "_view_name": "StyleView",
            "description_width": ""
          }
        },
        "95abd08ce66a403f8d0c8a85ade3f139": {
          "model_module": "@jupyter-widgets/base",
          "model_name": "LayoutModel",
          "model_module_version": "1.2.0",
          "state": {
            "_model_module": "@jupyter-widgets/base",
            "_model_module_version": "1.2.0",
            "_model_name": "LayoutModel",
            "_view_count": null,
            "_view_module": "@jupyter-widgets/base",
            "_view_module_version": "1.2.0",
            "_view_name": "LayoutView",
            "align_content": null,
            "align_items": null,
            "align_self": null,
            "border": null,
            "bottom": null,
            "display": null,
            "flex": "2",
            "flex_flow": null,
            "grid_area": null,
            "grid_auto_columns": null,
            "grid_auto_flow": null,
            "grid_auto_rows": null,
            "grid_column": null,
            "grid_gap": null,
            "grid_row": null,
            "grid_template_areas": null,
            "grid_template_columns": null,
            "grid_template_rows": null,
            "height": null,
            "justify_content": null,
            "justify_items": null,
            "left": null,
            "margin": null,
            "max_height": null,
            "max_width": null,
            "min_height": null,
            "min_width": null,
            "object_fit": null,
            "object_position": null,
            "order": null,
            "overflow": null,
            "overflow_x": null,
            "overflow_y": null,
            "padding": null,
            "right": null,
            "top": null,
            "visibility": null,
            "width": null
          }
        },
        "c84bc2ece2d74dd09237c06530bc1379": {
          "model_module": "@jupyter-widgets/controls",
          "model_name": "ProgressStyleModel",
          "model_module_version": "1.5.0",
          "state": {
            "_model_module": "@jupyter-widgets/controls",
            "_model_module_version": "1.5.0",
            "_model_name": "ProgressStyleModel",
            "_view_count": null,
            "_view_module": "@jupyter-widgets/base",
            "_view_module_version": "1.2.0",
            "_view_name": "StyleView",
            "bar_color": null,
            "description_width": ""
          }
        },
        "3cde597860a2412a9dec8c379e55eff9": {
          "model_module": "@jupyter-widgets/base",
          "model_name": "LayoutModel",
          "model_module_version": "1.2.0",
          "state": {
            "_model_module": "@jupyter-widgets/base",
            "_model_module_version": "1.2.0",
            "_model_name": "LayoutModel",
            "_view_count": null,
            "_view_module": "@jupyter-widgets/base",
            "_view_module_version": "1.2.0",
            "_view_name": "LayoutView",
            "align_content": null,
            "align_items": null,
            "align_self": null,
            "border": null,
            "bottom": null,
            "display": null,
            "flex": null,
            "flex_flow": null,
            "grid_area": null,
            "grid_auto_columns": null,
            "grid_auto_flow": null,
            "grid_auto_rows": null,
            "grid_column": null,
            "grid_gap": null,
            "grid_row": null,
            "grid_template_areas": null,
            "grid_template_columns": null,
            "grid_template_rows": null,
            "height": null,
            "justify_content": null,
            "justify_items": null,
            "left": null,
            "margin": null,
            "max_height": null,
            "max_width": null,
            "min_height": null,
            "min_width": null,
            "object_fit": null,
            "object_position": null,
            "order": null,
            "overflow": null,
            "overflow_x": null,
            "overflow_y": null,
            "padding": null,
            "right": null,
            "top": null,
            "visibility": null,
            "width": null
          }
        },
        "0bb3e1df496143a1a16085901ff9c2ec": {
          "model_module": "@jupyter-widgets/controls",
          "model_name": "DescriptionStyleModel",
          "model_module_version": "1.5.0",
          "state": {
            "_model_module": "@jupyter-widgets/controls",
            "_model_module_version": "1.5.0",
            "_model_name": "DescriptionStyleModel",
            "_view_count": null,
            "_view_module": "@jupyter-widgets/base",
            "_view_module_version": "1.2.0",
            "_view_name": "StyleView",
            "description_width": ""
          }
        }
      }
    }
  },
  "cells": [
    {
      "cell_type": "code",
      "source": [
        "! pip install lightning --quiet"
      ],
      "metadata": {
        "id": "fP5Pv-v6___0"
      },
      "execution_count": null,
      "outputs": []
    },
    {
      "cell_type": "code",
      "execution_count": null,
      "metadata": {
        "id": "9jrngB-KfU6E"
      },
      "outputs": [],
      "source": [
        "import torch\n",
        "import torch.nn as nn\n",
        "\n",
        "from torch.utils.data import Dataset\n",
        "from torch.utils.data import DataLoader\n",
        "\n",
        "from torch.optim import AdamW\n",
        "\n",
        "import lightning as L\n",
        "\n",
        "import plotly.express as px"
      ]
    },
    {
      "cell_type": "code",
      "source": [
        "time_series = torch.sin(torch.arange(0, 100, 0.1))"
      ],
      "metadata": {
        "id": "WvmuKzOwfXih"
      },
      "execution_count": null,
      "outputs": []
    },
    {
      "cell_type": "code",
      "source": [
        "fig = px.line(time_series, template='plotly_dark', markers=True)\n",
        "fig.show()"
      ],
      "metadata": {
        "colab": {
          "base_uri": "https://localhost:8080/",
          "height": 542
        },
        "id": "KQ58DqNc-suC",
        "outputId": "3c0369d2-cd67-4970-cf6b-7aeb9092752d"
      },
      "execution_count": null,
      "outputs": [
        {
          "output_type": "display_data",
          "data": {
            "text/html": [
              "<html>\n",
              "<head><meta charset=\"utf-8\" /></head>\n",
              "<body>\n",
              "    <div>            <script src=\"https://cdnjs.cloudflare.com/ajax/libs/mathjax/2.7.5/MathJax.js?config=TeX-AMS-MML_SVG\"></script><script type=\"text/javascript\">if (window.MathJax && window.MathJax.Hub && window.MathJax.Hub.Config) {window.MathJax.Hub.Config({SVG: {font: \"STIX-Web\"}});}</script>                <script type=\"text/javascript\">window.PlotlyConfig = {MathJaxConfig: 'local'};</script>\n",
              "        <script src=\"https://cdn.plot.ly/plotly-2.18.2.min.js\"></script>                <div id=\"a945cd6f-1fec-445b-a25b-00bf318e2e3b\" class=\"plotly-graph-div\" style=\"height:525px; width:100%;\"></div>            <script type=\"text/javascript\">                                    window.PLOTLYENV=window.PLOTLYENV || {};                                    if (document.getElementById(\"a945cd6f-1fec-445b-a25b-00bf318e2e3b\")) {                    Plotly.newPlot(                        \"a945cd6f-1fec-445b-a25b-00bf318e2e3b\",                        [{\"hovertemplate\":\"variable=0<br>index=%{x}<br>value=%{y}<extra></extra>\",\"legendgroup\":\"0\",\"line\":{\"color\":\"#636efa\",\"dash\":\"solid\"},\"marker\":{\"symbol\":\"circle\"},\"mode\":\"lines+markers\",\"name\":\"0\",\"orientation\":\"v\",\"showlegend\":true,\"x\":[0,1,2,3,4,5,6,7,8,9,10,11,12,13,14,15,16,17,18,19,20,21,22,23,24,25,26,27,28,29,30,31,32,33,34,35,36,37,38,39,40,41,42,43,44,45,46,47,48,49,50,51,52,53,54,55,56,57,58,59,60,61,62,63,64,65,66,67,68,69,70,71,72,73,74,75,76,77,78,79,80,81,82,83,84,85,86,87,88,89,90,91,92,93,94,95,96,97,98,99,100,101,102,103,104,105,106,107,108,109,110,111,112,113,114,115,116,117,118,119,120,121,122,123,124,125,126,127,128,129,130,131,132,133,134,135,136,137,138,139,140,141,142,143,144,145,146,147,148,149,150,151,152,153,154,155,156,157,158,159,160,161,162,163,164,165,166,167,168,169,170,171,172,173,174,175,176,177,178,179,180,181,182,183,184,185,186,187,188,189,190,191,192,193,194,195,196,197,198,199,200,201,202,203,204,205,206,207,208,209,210,211,212,213,214,215,216,217,218,219,220,221,222,223,224,225,226,227,228,229,230,231,232,233,234,235,236,237,238,239,240,241,242,243,244,245,246,247,248,249,250,251,252,253,254,255,256,257,258,259,260,261,262,263,264,265,266,267,268,269,270,271,272,273,274,275,276,277,278,279,280,281,282,283,284,285,286,287,288,289,290,291,292,293,294,295,296,297,298,299,300,301,302,303,304,305,306,307,308,309,310,311,312,313,314,315,316,317,318,319,320,321,322,323,324,325,326,327,328,329,330,331,332,333,334,335,336,337,338,339,340,341,342,343,344,345,346,347,348,349,350,351,352,353,354,355,356,357,358,359,360,361,362,363,364,365,366,367,368,369,370,371,372,373,374,375,376,377,378,379,380,381,382,383,384,385,386,387,388,389,390,391,392,393,394,395,396,397,398,399,400,401,402,403,404,405,406,407,408,409,410,411,412,413,414,415,416,417,418,419,420,421,422,423,424,425,426,427,428,429,430,431,432,433,434,435,436,437,438,439,440,441,442,443,444,445,446,447,448,449,450,451,452,453,454,455,456,457,458,459,460,461,462,463,464,465,466,467,468,469,470,471,472,473,474,475,476,477,478,479,480,481,482,483,484,485,486,487,488,489,490,491,492,493,494,495,496,497,498,499,500,501,502,503,504,505,506,507,508,509,510,511,512,513,514,515,516,517,518,519,520,521,522,523,524,525,526,527,528,529,530,531,532,533,534,535,536,537,538,539,540,541,542,543,544,545,546,547,548,549,550,551,552,553,554,555,556,557,558,559,560,561,562,563,564,565,566,567,568,569,570,571,572,573,574,575,576,577,578,579,580,581,582,583,584,585,586,587,588,589,590,591,592,593,594,595,596,597,598,599,600,601,602,603,604,605,606,607,608,609,610,611,612,613,614,615,616,617,618,619,620,621,622,623,624,625,626,627,628,629,630,631,632,633,634,635,636,637,638,639,640,641,642,643,644,645,646,647,648,649,650,651,652,653,654,655,656,657,658,659,660,661,662,663,664,665,666,667,668,669,670,671,672,673,674,675,676,677,678,679,680,681,682,683,684,685,686,687,688,689,690,691,692,693,694,695,696,697,698,699,700,701,702,703,704,705,706,707,708,709,710,711,712,713,714,715,716,717,718,719,720,721,722,723,724,725,726,727,728,729,730,731,732,733,734,735,736,737,738,739,740,741,742,743,744,745,746,747,748,749,750,751,752,753,754,755,756,757,758,759,760,761,762,763,764,765,766,767,768,769,770,771,772,773,774,775,776,777,778,779,780,781,782,783,784,785,786,787,788,789,790,791,792,793,794,795,796,797,798,799,800,801,802,803,804,805,806,807,808,809,810,811,812,813,814,815,816,817,818,819,820,821,822,823,824,825,826,827,828,829,830,831,832,833,834,835,836,837,838,839,840,841,842,843,844,845,846,847,848,849,850,851,852,853,854,855,856,857,858,859,860,861,862,863,864,865,866,867,868,869,870,871,872,873,874,875,876,877,878,879,880,881,882,883,884,885,886,887,888,889,890,891,892,893,894,895,896,897,898,899,900,901,902,903,904,905,906,907,908,909,910,911,912,913,914,915,916,917,918,919,920,921,922,923,924,925,926,927,928,929,930,931,932,933,934,935,936,937,938,939,940,941,942,943,944,945,946,947,948,949,950,951,952,953,954,955,956,957,958,959,960,961,962,963,964,965,966,967,968,969,970,971,972,973,974,975,976,977,978,979,980,981,982,983,984,985,986,987,988,989,990,991,992,993,994,995,996,997,998,999],\"xaxis\":\"x\",\"y\":[0.0,0.0998334214091301,0.19866932928562164,0.29552021622657776,0.389418363571167,0.4794255495071411,0.5646424889564514,0.6442176699638367,0.7173560857772827,0.7833269238471985,0.8414709568023682,0.8912073969841003,0.9320390820503235,0.9635581970214844,0.9854497313499451,0.9974949955940247,0.9995735883712769,0.9916648268699646,0.9738476276397705,0.9463000893592834,0.9092974066734314,0.8632094264030457,0.808496356010437,0.745705246925354,0.675463080406189,0.5984721183776855,0.5155012607574463,0.427379846572876,0.33498796820640564,0.23924924433231354,0.14112000167369843,0.04158052057027817,-0.05837419256567955,-0.15774564445018768,-0.25554120540618896,-0.35078322887420654,-0.4425205886363983,-0.5298361778259277,-0.6118578314781189,-0.6877662539482117,-0.756802499294281,-0.8182770609855652,-0.871575653553009,-0.9161660075187683,-0.9516021013259888,-0.9775301218032837,-0.9936909675598145,-0.9999232292175293,-0.9961645603179932,-0.9824525713920593,-0.9589242935180664,-0.9258145689964294,-0.8834545016288757,-0.8322673439979553,-0.7727644443511963,-0.7055402994155884,-0.631266713142395,-0.550685703754425,-0.46460244059562683,-0.37387657165527344,-0.279415488243103,-0.1821625977754593,-0.08308959007263184,0.0168136153370142,0.1165492981672287,0.21511998772621155,0.31154128909111023,0.40485018491744995,0.4941135048866272,0.5784398317337036,0.6569865942001343,0.7289689779281616,0.793667733669281,0.8504364490509033,0.898707926273346,0.937999963760376,0.967919647693634,0.9881681799888611,0.9985433220863342,0.9989413619041443,0.9893582463264465,0.9698897004127502,0.940730631351471,0.9021717309951782,0.854599118232727,0.79848712682724,0.7343968152999878,0.6629693508148193,0.5849170684814453,0.5010203719139099,0.41211849451065063,0.31909799575805664,0.22289009392261505,0.12445423752069473,0.024774853140115738,-0.07515112310647964,-0.17432714998722076,-0.27176135778427124,-0.3664793074131012,-0.45753639936447144,-0.5440211296081543,-0.6250709295272827,-0.6998752355575562,-0.7676859498023987,-0.8278262615203857,-0.8796957731246948,-0.9227752089500427,-0.9566349387168884,-0.9809361100196838,-0.9954361915588379,-0.9999902248382568,-0.9945526719093323,-0.9791777729988098,-0.9540191888809204,-0.9193286895751953,-0.8754521608352661,-0.8228288888931274,-0.7619836926460266,-0.693524956703186,-0.6181374192237854,-0.5365729331970215,-0.44964712858200073,-0.35822945833206177,-0.2632316052913666,-0.16560454666614532,-0.06632189452648163,0.03362342715263367,0.13323184847831726,0.2315100133419037,0.327474981546402,0.4201670289039612,0.5086618065834045,0.592073380947113,0.6695699095726013,0.7403762936592102,0.8037844300270081,0.8591620326042175,0.9059550762176514,0.9436957240104675,0.9720076322555542,0.9906073808670044,0.9993094205856323,0.9980266094207764,0.9867719411849976,0.9656578898429871,0.9348950386047363,0.8947914242744446,0.8457469344139099,0.7882525324821472,0.7228816151618958,0.6502878665924072,0.5711973309516907,0.486398845911026,0.3967404067516327,0.3031187355518341,0.20646747946739197,0.10775422304868698,0.007963374257087708,-0.09190703928470612,-0.19085820019245148,-0.2879033088684082,-0.38207176327705383,-0.47242265939712524,-0.5580516457557678,-0.6381064057350159,-0.7117853164672852,-0.7783523201942444,-0.8371421694755554,-0.8875666856765747,-0.9291238784790039,-0.9613974690437317,-0.9840647578239441,-0.9968999624252319,-0.9997744560241699,-0.9926594495773315,-0.9756259918212891,-0.9488443732261658,-0.9125821590423584,-0.8672016263008118,-0.813157320022583,-0.7509872317314148,-0.6813135147094727,-0.6048322319984436,-0.5223076343536377,-0.4345659613609314,-0.3424806296825409,-0.24697329103946686,-0.1490001529455185,-0.04953640326857567,0.0504223071038723,0.14987720549106598,0.24783457815647125,0.34331566095352173,0.4353663921356201,0.523067057132721,0.605539858341217,0.6819639205932617,0.751573920249939,0.8136743903160095,0.8676448464393616,0.9129452705383301,0.9491246938705444,0.9758206605911255,0.9927663207054138,0.9997928738594055,0.9968298077583313,0.983906626701355,0.9611524939537048,0.9287955164909363,0.887157678604126,0.8366556167602539,0.777795135974884,0.7111620306968689,0.6374231576919556,0.5573153495788574,0.4716390073299408,0.38125014305114746,0.2870519161224365,0.18998555839061737,0.0910227969288826,-0.008851309306919575,-0.10863697528839111,-0.2073371708393097,-0.30396568775177,-0.39755532145500183,-0.48717451095581055,-0.5719259977340698,-0.6509614586830139,-0.7234942317008972,-0.7887980341911316,-0.8462203741073608,-0.8951875567436218,-0.9352101683616638,-0.9658884406089783,-0.9869158267974854,-0.9980820417404175,-0.9992759823799133,-0.990485429763794,-0.9717981815338135,-0.9434009790420532,-0.9055783748626709,-0.8587068319320679,-0.8032552599906921,-0.7397791147232056,-0.6689100861549377,-0.5913575291633606,-0.5078962445259094,-0.4193602204322815,-0.32663583755493164,-0.2306460738182068,-0.13235175609588623,-0.03273690491914749,0.06720693409442902,0.16647924482822418,0.26408815383911133,0.35905835032463074,0.4504409432411194,0.5373228192329407,0.6188359260559082,0.6941643953323364,0.7625584602355957,0.823333203792572,0.8758814334869385,0.9196780920028687,0.9542849659919739,0.9793576598167419,0.994644820690155,0.9999937415122986,0.9953511953353882,0.98076331615448,0.9563759565353394,0.9224326610565186,0.8792726993560791,0.8273272514343262,0.7671153545379639,0.6992400288581848,0.6243768334388733,0.5432750582695007,0.4567449688911438,0.3656511902809143,0.2709057927131653,0.17345178127288818,0.07426468282938004,-0.025662537664175034,-0.12533524632453918,-0.2237556427717209,-0.31994032859802246,-0.4129282534122467,-0.5017886161804199,-0.5856370329856873,-0.6636338829994202,-0.7349985837936401,-0.7990207672119141,-0.8550593852996826,-0.902554452419281,-0.9410313963890076,-0.9701058268547058,-0.9894871711730957,-0.9989818334579468,-0.9984950423240662,-0.9880316257476807,-0.9676960706710815,-0.9376914501190186,-0.8983177542686462,-0.8499692678451538,-0.7931272387504578,-0.7283604741096497,-0.6563175916671753,-0.5777156949043274,-0.493341326713562,-0.4040376543998718,-0.31069692969322205,-0.2142518013715744,-0.11566592007875443,-0.01592433638870716,0.0839744582772255,0.18303610384464264,0.28026890754699707,0.3747013211250305,0.46538981795310974,0.5514267086982727,0.6319540143013,0.7061700224876404,0.7733274102210999,0.8327603340148926,0.8838704228401184,0.9261494278907776,0.9591760635375977,0.9826177358627319,0.9962417483329773,0.9999118447303772,0.9935911893844604,0.9773423671722412,0.9513289928436279,0.9158105254173279,0.8711400032043457,0.8177671432495117,0.7562236785888672,0.6871216893196106,0.6111569404602051,0.529082715511322,0.4417251646518707,0.349954217672348,0.25468307733535767,0.15686708688735962,0.057487476617097855,-0.04247032105922699,-0.1419999748468399,-0.24011455476284027,-0.3358263075351715,-0.4281826615333557,-0.5162642002105713,-0.5991840362548828,-0.6761173009872437,-0.7462977170944214,-0.8090187907218933,-0.8636585474014282,-0.9096670150756836,-0.9465866088867188,-0.9740493893623352,-0.9917788505554199,-0.9995990991592407,-0.9974316954612732,-0.9852985143661499,-0.9633198380470276,-0.9317169189453125,-0.8908048272132874,-0.8409903645515442,-0.7827749848365784,-0.7167386412620544,-0.6435381174087524,-0.5639104843139648,-0.4786452651023865,-0.3886008560657501,-0.2946738004684448,-0.19779880344867706,-0.09895117580890656,0.0008851050515659153,0.10071633756160736,0.199537456035614,0.2963685691356659,0.3902348279953003,0.4802021086215973,0.5653746724128723,0.6448978781700134,0.7179746031761169,0.7838801145553589,0.8419509530067444,0.8916112780570984,0.9323611259460449,0.9637953639030457,0.9856007099151611,0.9975574612617493,0.9995473027229309,0.9915497899055481,0.9736454486846924,0.9460118412971497,0.9089271426200867,0.8627610206604004,0.8079724907875061,0.7451131343841553,0.6748090982437134,0.5977597832679749,0.5147407650947571,0.42657536268234253,0.33415117859840393,0.23838835954666138,0.1402399241924286,0.04069402068853378,-0.05925847962498665,-0.15862266719341278,-0.25639820098876953,-0.3516155183315277,-0.4433160424232483,-0.5305872559547424,-0.6125601530075073,-0.6884095072746277,-0.7573807239532471,-0.8187868595123291,-0.8720097541809082,-0.9165215492248535,-0.9518741965293884,-0.977716326713562,-0.9937901496887207,-0.9999338984489441,-0.9960864782333374,-0.9822861552238464,-0.9586717486381531,-0.9254774451255798,-0.8830374479293823,-0.8317747116088867,-0.7721990346908569,-0.7049100995063782,-0.6305781602859497,-0.549942672252655,-0.46381551027297974,-0.37305065989494324,-0.27856186032295227,-0.1812898814678192,-0.08220276236534119,0.017701925709843636,0.11742974817752838,0.21598801016807556,0.3123844861984253,0.40566328167915344,0.49488532543182373,0.5791627764701843,0.6576564908027649,0.7295762300491333,0.794206440448761,0.8509035110473633,0.8990965485572815,0.9383077621459961,0.9681422710418701,0.9883037209510803,0.998590886592865,0.9989001750946045,0.9892290830612183,0.9696733355522156,0.9404297471046448,0.9017883539199829,0.8541381359100342,0.7979539632797241,0.7337945103645325,0.6623029112815857,0.5841965675354004,0.5002500414848328,0.4113084077835083,0.31825360655784607,0.22202251851558685,0.12357312440872192,0.023885242640972137,-0.07603749632835388,-0.17520052194595337,-0.2726167142391205,-0.36730533838272095,-0.4583275020122528,-0.5447667837142944,-0.6257630586624146,-0.7005099058151245,-0.7682546377182007,-0.8283235430717468,-0.8801181316375732,-0.9231169819831848,-0.956893801689148,-0.9811084270477295,-0.9955204725265503,-0.9999858736991882,-0.9944596886634827,-0.978997528553009,-0.9537526369094849,-0.918979287147522,-0.8750222325325012,-0.8223239779472351,-0.76140958070755,-0.6928849816322327,-0.6174399256706238,-0.535825788974762,-0.4488546550273895,-0.3574020564556122,-0.2623748481273651,-0.16472972929477692,-0.06543871760368347,0.03450992703437805,0.13411374390125275,0.23237375915050507,0.3283156454563141,0.4209735095500946,0.5094285607337952,0.5927902460098267,0.6702291965484619,0.7409741282463074,0.8043129444122314,0.8596155643463135,0.9063310623168945,0.943989098072052,0.9722163081169128,0.990728497505188,0.9993419647216797,0.9979704022407532,0.9866275787353516,0.965427041053772,0.9345791935920715,0.8943946361541748,0.8452717661857605,0.7877052426338196,0.7222684025764465,0.649612307548523,0.5704682469367981,0.4856244921684265,0.3959251642227173,0.30227333307266235,0.2055976390838623,0.10687138140201569,0.007077340967953205,-0.09279121458530426,-0.1917288452386856,-0.2887508273124695,-0.38289132714271545,-0.47320258617401123,-0.558789074420929,-0.6387891173362732,-0.7124067544937134,-0.778908908367157,-0.8376280665397644,-0.887975811958313,-0.9294528961181641,-0.9616417288780212,-0.9842230677604675,-0.9969696402549744,-0.9997551441192627,-0.9925512671470642,-0.9754305481910706,-0.9485639333724976,-0.9122183322906494,-0.8667595982551575,-0.812638521194458,-0.7504000067710876,-0.6806639432907104,-0.6041240692138672,-0.5215510129928589,-0.4337669312953949,-0.34164533019065857,-0.24611365795135498,-0.14811921119689941,-0.04864855483174324,0.05130816996097565,0.15075603127479553,0.2486938238143921,0.34414681792259216,0.4361647665500641,0.523821234703064,0.606247067451477,0.6826123595237732,0.75215744972229,0.8141897320747375,0.8680845499038696,0.9133061170578003,0.9494036436080933,0.9760137796401978,0.9928726553916931,0.9998105764389038,0.9967589974403381,0.9837477207183838,0.9609068036079407,0.928465723991394,0.8867462873458862,0.8361684083938599,0.7772337198257446,0.71053546667099,0.6367380023002625,0.5565754771232605,0.4708549678325653,0.3804299831390381,0.28620028495788574,0.18911461532115936,0.09013563394546509,-0.009740190580487251,-0.10951869189739227,-0.2082066833972931,-0.30481061339378357,-0.39836907386779785,-0.4879506230354309,-0.5726533532142639,-0.6516374349594116,-0.724107563495636,-0.7893429398536682,-0.8466936945915222,-0.8955824971199036,-0.9355232119560242,-0.966117799282074,-0.9870581030845642,-0.9981366395950317,-0.999241828918457,-0.9903632402420044,-0.9715886116027832,-0.9431070685386658,-0.9052025675773621,-0.8582519292831421,-0.8027277588844299,-0.7391806840896606,-0.6682505011558533,-0.5906435251235962,-0.5071319937705994,-0.41855308413505554,-0.32579556107521057,-0.2297791838645935,-0.13147059082984924,-0.03184463456273079,0.06809571385383606,0.1673557013273239,0.2649472653865814,0.35988786816596985,0.4512327015399933,0.5380722880363464,0.6195324659347534,0.6948053240776062,0.7631332278251648,0.8238363265991211,0.8763100504875183,0.9200260639190674,0.9545497298240662,0.9795361757278442,0.9947364926338196,0.9999964833259583,0.9952651858329773,0.9805898070335388,0.9561169743537903,0.9220883250236511,0.8788489103317261,0.82682865858078,0.766542375087738,0.6986015439033508,0.6236807703971863,0.542528510093689,0.4559556841850281,0.3648272454738617,0.2700536847114563,0.17258189618587494,0.07337819039821625,-0.026551153510808945,-0.12621521949768066,-0.22461821138858795,-0.32077696919441223,-0.4137376844882965,-0.5025573372840881,-0.5863558053970337,-0.6643014550209045,-0.7356036305427551,-0.7995561361312866,-0.8555199503898621,-0.9029360413551331,-0.9413304924964905,-0.9703198075294495,-0.9896142482757568,-0.9990214705467224,-0.998445987701416,-0.9878947138786316,-0.9674729704856873,-0.9373849034309387,-0.8979277014732361,-0.8495016098022461,-0.7925878167152405,-0.7277498245239258,-0.6556452512741089,-0.5769898891448975,-0.49256956577301025,-0.403227835893631,-0.3098500669002533,-0.21338343620300293,-0.11478481441736221,-0.015031709335744381,0.08486400544643402,0.18391181528568268,0.281122088432312,0.37552356719970703,0.46617305278778076,0.5521648526191711,0.6326397657394409,0.7067990899085999,0.7738906741142273,0.8332500457763672,0.8842840790748596,0.9264829158782959,0.9594270586967468,0.9827823638916016,0.9963183403015137,0.9998996257781982,0.9934898614883423,0.9771538376808167,0.9510546326637268,0.9154531359672546,0.8707050681114197,0.8172574043273926,0.7556442022323608,0.6864755749702454,0.6104531288146973,0.5283313989639282,0.44093093276023865,0.3491249680519104,0.2538233697414398,0.15599288046360016,0.0566038154065609,-0.04335842281579971,-0.14287982881069183,-0.24097368121147156,-0.33665987849235535,-0.42898237705230713,-0.5170252919197083,-0.5998954772949219,-0.6767719388008118,-0.7468916177749634,-0.8095431923866272,-0.864106297492981,-0.9100358486175537,-0.946872889995575,-0.9742493629455566,-0.9918917417526245,-0.9996237754821777,-0.9973676204681396,-0.9851462841033936,-0.9630818963050842,-0.9313950538635254,-0.8904023170471191,-0.8405090570449829,-0.7822214961051941,-0.7161184549331665,-0.6428545713424683,-0.5631729960441589,-0.4778645932674408,-0.38778164982795715,-0.2938242256641388,-0.19693110883235931,-0.09807037562131882,0.0017702094046398997,0.10160069912672043,0.2004084289073944,0.2972137928009033,0.3910496234893799,0.4809782803058624,0.5661076307296753,0.6455740928649902,0.7185903787612915,0.7844317555427551,0.8424302339553833,0.8920117020606995,0.9326807260513306,0.9640310406684875,0.9857506155967712,0.9976191520690918,0.9995201826095581,0.9914335608482361,0.973441481590271,0.9457233548164368,0.9085561633110046,0.8623112440109253,0.8074506521224976,0.7445225715637207,0.6741556525230408,0.5970469117164612,0.5139784812927246,0.4257746636867523,0.333316832780838,0.23752866685390472,0.1393597424030304,0.039805818349123,-0.06014581397175789,-0.15950404107570648,-0.2572609782218933,-0.3524475395679474,-0.4441126585006714,-0.531340479850769,-0.613259494304657,-0.6890512108802795,-0.7579584121704102,-0.8192968964576721,-0.8724445104598999,-0.9168752431869507,-0.9521450996398926,-0.9779017567634583,-0.9938886761665344,-0.9999436736106873,-0.9960078597068787,-0.9821192026138306,-0.9584184885025024,-0.9251418113708496,-0.8826217651367188,-0.8312830924987793,-0.7716339230537415,-0.7042793035507202,-0.6298879981040955,-0.5491968393325806,-0.46302443742752075,-0.3722257614135742,-0.2777080237865448,-0.18041563034057617,-0.081320621073246,0.018586885184049606,0.11830868571996689,0.21685586869716644,0.3132287859916687,0.4064721167087555,0.49565425515174866,0.5798841118812561,0.6583258509635925,0.7301838397979736,0.7947462797164917,0.8513721823692322,0.8994870185852051,0.9386147856712341,0.9683644771575928,0.9884389042854309,0.9986374378204346,0.9988582730293274,0.9890991449356079,0.9694556593894958,0.9401271343231201,0.9014054536819458,0.85367751121521,0.7974201440811157,0.7331902980804443,0.6616395115852356,0.5834779739379883,0.49948012828826904,0.4104979932308197,0.31741440296173096,0.221159428358078,0.12269475311040878,0.02299656718969345,-0.07692380994558334,-0.17607562243938446,-0.2734755277633667,-0.368135541677475,-0.4591173529624939,-0.5455119609832764,-0.6264562010765076,-0.7011412382125854,-0.7688209414482117,-0.8288190960884094,-0.8805397748947144,-0.923458456993103,-0.9571505188941956,-0.9812793135643005,-0.9956037402153015,-0.9999807476997375,-0.9943658709526062,-0.9788159132003784,-0.9534839391708374,-0.9186269044876099,-0.8745915293693542,-0.8218178153038025,-0.7608330249786377,-0.6922464966773987,-0.6167434453964233,-0.5350782871246338,-0.44806015491485596,-0.3565717339515686,-0.261520653963089,-0.163856640458107,-0.06455548107624054,0.03539830446243286,0.13499079644680023,0.23323455452919006,0.32915517687797546,0.42177966237068176,0.5101900100708008,0.5935028791427612,0.6708858013153076,0.741570770740509,0.8048408031463623,0.8600693941116333,0.9067079424858093,0.9442833065986633,0.9724240303039551,0.9908488988876343,0.9993737936019897,0.997913658618927,0.9864829182624817,0.9651959538459778,0.9342625737190247,0.8939966559410095,0.8447985053062439,0.7871596217155457,0.7216559648513794,0.6489362120628357,0.56973797082901,0.48484721779823303,0.3951052129268646,0.30142223834991455,0.20472761988639832,0.10598751157522202,0.006188440602272749,-0.09367246180772781,-0.19259744882583618,-0.28959813714027405,-0.3837123513221741,-0.473985493183136,-0.5595228672027588,-0.6394698023796082,-0.7130275964736938,-0.7794660925865173,-0.8381112217903137,-0.8883825540542603,-0.9297804832458496,-0.9618851542472839,-0.9843792915344238,-0.9970381259918213,-0.9997351765632629,-0.9924426078796387,-0.97523432970047,-0.9482821226119995,-0.9118521809577942,-0.8663139939308167,-0.8121201395988464,-0.749812126159668,-0.6800124645233154,-0.6034185290336609,-0.5207955837249756,-0.43296924233436584,-0.34080976247787476,-0.24525198340415955,-0.14724381268024445,-0.047764480113983154,0.052192091941833496,0.15163473784923553,0.24955470860004425,0.34498131275177,0.4369679391384125,0.5245814919471741,0.6069537401199341,0.6832616925239563,0.7527429461479187,0.8147032856941223,0.8685235977172852,0.9136661887168884,0.9496824145317078,0.97620689868927,0.9929777383804321,0.9998273849487305,0.9966873526573181,0.9835877418518066,0.9606613516807556,0.9281366467475891,0.886335015296936,0.8356805443763733,0.7766764760017395,0.7099123597145081,0.6360552906990051,0.5558367371559143,0.47007057070732117,0.3796077370643616,0.28534477949142456,0.18823792040348053,0.08925029635429382,-0.010629064403474331,-0.11040222644805908,-0.2090723216533661,-0.30565348267555237,-0.3991807699203491,-0.48872634768486023,-0.5733819007873535,-0.6523085236549377,-0.7247177362442017,-0.7898860573768616,-0.8471663594245911,-0.8959776163101196,-0.935836911201477,-0.9663478136062622,-0.987200915813446,-0.9981905221939087,-0.9992068409919739,-0.9902397394180298,-0.971378743648529,-0.9428098797798157,-0.904822826385498,-0.8577953577041626,-0.8021973371505737,-0.7385842800140381,-0.667586088180542,-0.5899229049682617],\"yaxis\":\"y\",\"type\":\"scatter\"}],                        {\"template\":{\"data\":{\"barpolar\":[{\"marker\":{\"line\":{\"color\":\"rgb(17,17,17)\",\"width\":0.5},\"pattern\":{\"fillmode\":\"overlay\",\"size\":10,\"solidity\":0.2}},\"type\":\"barpolar\"}],\"bar\":[{\"error_x\":{\"color\":\"#f2f5fa\"},\"error_y\":{\"color\":\"#f2f5fa\"},\"marker\":{\"line\":{\"color\":\"rgb(17,17,17)\",\"width\":0.5},\"pattern\":{\"fillmode\":\"overlay\",\"size\":10,\"solidity\":0.2}},\"type\":\"bar\"}],\"carpet\":[{\"aaxis\":{\"endlinecolor\":\"#A2B1C6\",\"gridcolor\":\"#506784\",\"linecolor\":\"#506784\",\"minorgridcolor\":\"#506784\",\"startlinecolor\":\"#A2B1C6\"},\"baxis\":{\"endlinecolor\":\"#A2B1C6\",\"gridcolor\":\"#506784\",\"linecolor\":\"#506784\",\"minorgridcolor\":\"#506784\",\"startlinecolor\":\"#A2B1C6\"},\"type\":\"carpet\"}],\"choropleth\":[{\"colorbar\":{\"outlinewidth\":0,\"ticks\":\"\"},\"type\":\"choropleth\"}],\"contourcarpet\":[{\"colorbar\":{\"outlinewidth\":0,\"ticks\":\"\"},\"type\":\"contourcarpet\"}],\"contour\":[{\"colorbar\":{\"outlinewidth\":0,\"ticks\":\"\"},\"colorscale\":[[0.0,\"#0d0887\"],[0.1111111111111111,\"#46039f\"],[0.2222222222222222,\"#7201a8\"],[0.3333333333333333,\"#9c179e\"],[0.4444444444444444,\"#bd3786\"],[0.5555555555555556,\"#d8576b\"],[0.6666666666666666,\"#ed7953\"],[0.7777777777777778,\"#fb9f3a\"],[0.8888888888888888,\"#fdca26\"],[1.0,\"#f0f921\"]],\"type\":\"contour\"}],\"heatmapgl\":[{\"colorbar\":{\"outlinewidth\":0,\"ticks\":\"\"},\"colorscale\":[[0.0,\"#0d0887\"],[0.1111111111111111,\"#46039f\"],[0.2222222222222222,\"#7201a8\"],[0.3333333333333333,\"#9c179e\"],[0.4444444444444444,\"#bd3786\"],[0.5555555555555556,\"#d8576b\"],[0.6666666666666666,\"#ed7953\"],[0.7777777777777778,\"#fb9f3a\"],[0.8888888888888888,\"#fdca26\"],[1.0,\"#f0f921\"]],\"type\":\"heatmapgl\"}],\"heatmap\":[{\"colorbar\":{\"outlinewidth\":0,\"ticks\":\"\"},\"colorscale\":[[0.0,\"#0d0887\"],[0.1111111111111111,\"#46039f\"],[0.2222222222222222,\"#7201a8\"],[0.3333333333333333,\"#9c179e\"],[0.4444444444444444,\"#bd3786\"],[0.5555555555555556,\"#d8576b\"],[0.6666666666666666,\"#ed7953\"],[0.7777777777777778,\"#fb9f3a\"],[0.8888888888888888,\"#fdca26\"],[1.0,\"#f0f921\"]],\"type\":\"heatmap\"}],\"histogram2dcontour\":[{\"colorbar\":{\"outlinewidth\":0,\"ticks\":\"\"},\"colorscale\":[[0.0,\"#0d0887\"],[0.1111111111111111,\"#46039f\"],[0.2222222222222222,\"#7201a8\"],[0.3333333333333333,\"#9c179e\"],[0.4444444444444444,\"#bd3786\"],[0.5555555555555556,\"#d8576b\"],[0.6666666666666666,\"#ed7953\"],[0.7777777777777778,\"#fb9f3a\"],[0.8888888888888888,\"#fdca26\"],[1.0,\"#f0f921\"]],\"type\":\"histogram2dcontour\"}],\"histogram2d\":[{\"colorbar\":{\"outlinewidth\":0,\"ticks\":\"\"},\"colorscale\":[[0.0,\"#0d0887\"],[0.1111111111111111,\"#46039f\"],[0.2222222222222222,\"#7201a8\"],[0.3333333333333333,\"#9c179e\"],[0.4444444444444444,\"#bd3786\"],[0.5555555555555556,\"#d8576b\"],[0.6666666666666666,\"#ed7953\"],[0.7777777777777778,\"#fb9f3a\"],[0.8888888888888888,\"#fdca26\"],[1.0,\"#f0f921\"]],\"type\":\"histogram2d\"}],\"histogram\":[{\"marker\":{\"pattern\":{\"fillmode\":\"overlay\",\"size\":10,\"solidity\":0.2}},\"type\":\"histogram\"}],\"mesh3d\":[{\"colorbar\":{\"outlinewidth\":0,\"ticks\":\"\"},\"type\":\"mesh3d\"}],\"parcoords\":[{\"line\":{\"colorbar\":{\"outlinewidth\":0,\"ticks\":\"\"}},\"type\":\"parcoords\"}],\"pie\":[{\"automargin\":true,\"type\":\"pie\"}],\"scatter3d\":[{\"line\":{\"colorbar\":{\"outlinewidth\":0,\"ticks\":\"\"}},\"marker\":{\"colorbar\":{\"outlinewidth\":0,\"ticks\":\"\"}},\"type\":\"scatter3d\"}],\"scattercarpet\":[{\"marker\":{\"colorbar\":{\"outlinewidth\":0,\"ticks\":\"\"}},\"type\":\"scattercarpet\"}],\"scattergeo\":[{\"marker\":{\"colorbar\":{\"outlinewidth\":0,\"ticks\":\"\"}},\"type\":\"scattergeo\"}],\"scattergl\":[{\"marker\":{\"line\":{\"color\":\"#283442\"}},\"type\":\"scattergl\"}],\"scattermapbox\":[{\"marker\":{\"colorbar\":{\"outlinewidth\":0,\"ticks\":\"\"}},\"type\":\"scattermapbox\"}],\"scatterpolargl\":[{\"marker\":{\"colorbar\":{\"outlinewidth\":0,\"ticks\":\"\"}},\"type\":\"scatterpolargl\"}],\"scatterpolar\":[{\"marker\":{\"colorbar\":{\"outlinewidth\":0,\"ticks\":\"\"}},\"type\":\"scatterpolar\"}],\"scatter\":[{\"marker\":{\"line\":{\"color\":\"#283442\"}},\"type\":\"scatter\"}],\"scatterternary\":[{\"marker\":{\"colorbar\":{\"outlinewidth\":0,\"ticks\":\"\"}},\"type\":\"scatterternary\"}],\"surface\":[{\"colorbar\":{\"outlinewidth\":0,\"ticks\":\"\"},\"colorscale\":[[0.0,\"#0d0887\"],[0.1111111111111111,\"#46039f\"],[0.2222222222222222,\"#7201a8\"],[0.3333333333333333,\"#9c179e\"],[0.4444444444444444,\"#bd3786\"],[0.5555555555555556,\"#d8576b\"],[0.6666666666666666,\"#ed7953\"],[0.7777777777777778,\"#fb9f3a\"],[0.8888888888888888,\"#fdca26\"],[1.0,\"#f0f921\"]],\"type\":\"surface\"}],\"table\":[{\"cells\":{\"fill\":{\"color\":\"#506784\"},\"line\":{\"color\":\"rgb(17,17,17)\"}},\"header\":{\"fill\":{\"color\":\"#2a3f5f\"},\"line\":{\"color\":\"rgb(17,17,17)\"}},\"type\":\"table\"}]},\"layout\":{\"annotationdefaults\":{\"arrowcolor\":\"#f2f5fa\",\"arrowhead\":0,\"arrowwidth\":1},\"autotypenumbers\":\"strict\",\"coloraxis\":{\"colorbar\":{\"outlinewidth\":0,\"ticks\":\"\"}},\"colorscale\":{\"diverging\":[[0,\"#8e0152\"],[0.1,\"#c51b7d\"],[0.2,\"#de77ae\"],[0.3,\"#f1b6da\"],[0.4,\"#fde0ef\"],[0.5,\"#f7f7f7\"],[0.6,\"#e6f5d0\"],[0.7,\"#b8e186\"],[0.8,\"#7fbc41\"],[0.9,\"#4d9221\"],[1,\"#276419\"]],\"sequential\":[[0.0,\"#0d0887\"],[0.1111111111111111,\"#46039f\"],[0.2222222222222222,\"#7201a8\"],[0.3333333333333333,\"#9c179e\"],[0.4444444444444444,\"#bd3786\"],[0.5555555555555556,\"#d8576b\"],[0.6666666666666666,\"#ed7953\"],[0.7777777777777778,\"#fb9f3a\"],[0.8888888888888888,\"#fdca26\"],[1.0,\"#f0f921\"]],\"sequentialminus\":[[0.0,\"#0d0887\"],[0.1111111111111111,\"#46039f\"],[0.2222222222222222,\"#7201a8\"],[0.3333333333333333,\"#9c179e\"],[0.4444444444444444,\"#bd3786\"],[0.5555555555555556,\"#d8576b\"],[0.6666666666666666,\"#ed7953\"],[0.7777777777777778,\"#fb9f3a\"],[0.8888888888888888,\"#fdca26\"],[1.0,\"#f0f921\"]]},\"colorway\":[\"#636efa\",\"#EF553B\",\"#00cc96\",\"#ab63fa\",\"#FFA15A\",\"#19d3f3\",\"#FF6692\",\"#B6E880\",\"#FF97FF\",\"#FECB52\"],\"font\":{\"color\":\"#f2f5fa\"},\"geo\":{\"bgcolor\":\"rgb(17,17,17)\",\"lakecolor\":\"rgb(17,17,17)\",\"landcolor\":\"rgb(17,17,17)\",\"showlakes\":true,\"showland\":true,\"subunitcolor\":\"#506784\"},\"hoverlabel\":{\"align\":\"left\"},\"hovermode\":\"closest\",\"mapbox\":{\"style\":\"dark\"},\"paper_bgcolor\":\"rgb(17,17,17)\",\"plot_bgcolor\":\"rgb(17,17,17)\",\"polar\":{\"angularaxis\":{\"gridcolor\":\"#506784\",\"linecolor\":\"#506784\",\"ticks\":\"\"},\"bgcolor\":\"rgb(17,17,17)\",\"radialaxis\":{\"gridcolor\":\"#506784\",\"linecolor\":\"#506784\",\"ticks\":\"\"}},\"scene\":{\"xaxis\":{\"backgroundcolor\":\"rgb(17,17,17)\",\"gridcolor\":\"#506784\",\"gridwidth\":2,\"linecolor\":\"#506784\",\"showbackground\":true,\"ticks\":\"\",\"zerolinecolor\":\"#C8D4E3\"},\"yaxis\":{\"backgroundcolor\":\"rgb(17,17,17)\",\"gridcolor\":\"#506784\",\"gridwidth\":2,\"linecolor\":\"#506784\",\"showbackground\":true,\"ticks\":\"\",\"zerolinecolor\":\"#C8D4E3\"},\"zaxis\":{\"backgroundcolor\":\"rgb(17,17,17)\",\"gridcolor\":\"#506784\",\"gridwidth\":2,\"linecolor\":\"#506784\",\"showbackground\":true,\"ticks\":\"\",\"zerolinecolor\":\"#C8D4E3\"}},\"shapedefaults\":{\"line\":{\"color\":\"#f2f5fa\"}},\"sliderdefaults\":{\"bgcolor\":\"#C8D4E3\",\"bordercolor\":\"rgb(17,17,17)\",\"borderwidth\":1,\"tickwidth\":0},\"ternary\":{\"aaxis\":{\"gridcolor\":\"#506784\",\"linecolor\":\"#506784\",\"ticks\":\"\"},\"baxis\":{\"gridcolor\":\"#506784\",\"linecolor\":\"#506784\",\"ticks\":\"\"},\"bgcolor\":\"rgb(17,17,17)\",\"caxis\":{\"gridcolor\":\"#506784\",\"linecolor\":\"#506784\",\"ticks\":\"\"}},\"title\":{\"x\":0.05},\"updatemenudefaults\":{\"bgcolor\":\"#506784\",\"borderwidth\":0},\"xaxis\":{\"automargin\":true,\"gridcolor\":\"#283442\",\"linecolor\":\"#506784\",\"ticks\":\"\",\"title\":{\"standoff\":15},\"zerolinecolor\":\"#283442\",\"zerolinewidth\":2},\"yaxis\":{\"automargin\":true,\"gridcolor\":\"#283442\",\"linecolor\":\"#506784\",\"ticks\":\"\",\"title\":{\"standoff\":15},\"zerolinecolor\":\"#283442\",\"zerolinewidth\":2}}},\"xaxis\":{\"anchor\":\"y\",\"domain\":[0.0,1.0],\"title\":{\"text\":\"index\"}},\"yaxis\":{\"anchor\":\"x\",\"domain\":[0.0,1.0],\"title\":{\"text\":\"value\"}},\"legend\":{\"title\":{\"text\":\"variable\"},\"tracegroupgap\":0},\"margin\":{\"t\":60}},                        {\"responsive\": true}                    ).then(function(){\n",
              "                            \n",
              "var gd = document.getElementById('a945cd6f-1fec-445b-a25b-00bf318e2e3b');\n",
              "var x = new MutationObserver(function (mutations, observer) {{\n",
              "        var display = window.getComputedStyle(gd).display;\n",
              "        if (!display || display === 'none') {{\n",
              "            console.log([gd, 'removed!']);\n",
              "            Plotly.purge(gd);\n",
              "            observer.disconnect();\n",
              "        }}\n",
              "}});\n",
              "\n",
              "// Listen for the removal of the full notebook cells\n",
              "var notebookContainer = gd.closest('#notebook-container');\n",
              "if (notebookContainer) {{\n",
              "    x.observe(notebookContainer, {childList: true});\n",
              "}}\n",
              "\n",
              "// Listen for the clearing of the current output cell\n",
              "var outputEl = gd.closest('.output');\n",
              "if (outputEl) {{\n",
              "    x.observe(outputEl, {childList: true});\n",
              "}}\n",
              "\n",
              "                        })                };                            </script>        </div>\n",
              "</body>\n",
              "</html>"
            ]
          },
          "metadata": {}
        }
      ]
    },
    {
      "cell_type": "code",
      "source": [
        "class MyDataset(Dataset):\n",
        "    def __init__(self, time_series, window_size: int = 20):\n",
        "        self.time_series = time_series\n",
        "        self.window_size = window_size\n",
        "    \n",
        "    def __len__(self):\n",
        "        return len(time_series) - self.window_size\n",
        "\n",
        "    def __getitem__(self, idx):\n",
        "        return self.time_series[idx:idx+self.window_size], self.time_series[idx+self.window_size]"
      ],
      "metadata": {
        "id": "rUq7Uf7A6MIQ"
      },
      "execution_count": null,
      "outputs": []
    },
    {
      "cell_type": "code",
      "source": [
        "class TSDataModuleNoShuffle(L.LightningDataModule):\n",
        "    def __init__(self, time_series, batch_size: int = 32):\n",
        "        super().__init__()\n",
        "        self.time_series = time_series\n",
        "        self.batch_size = batch_size\n",
        "\n",
        "    def setup(self, stage: str):\n",
        "        self.test_dataset = MyDataset(self.time_series)\n",
        "\n",
        "    def train_dataloader(self):\n",
        "        return DataLoader(self.test_dataset, batch_size=self.batch_size, drop_last=True, shuffle=False)"
      ],
      "metadata": {
        "id": "O-pDOtv4AUJL"
      },
      "execution_count": null,
      "outputs": []
    },
    {
      "cell_type": "code",
      "source": [
        "data_module = TSDataModuleNoShuffle(time_series=time_series)"
      ],
      "metadata": {
        "id": "1NJVoZ9V8UFW"
      },
      "execution_count": null,
      "outputs": []
    },
    {
      "cell_type": "code",
      "source": [
        "class MyRnn(L.LightningModule):\n",
        "    def __init__(self, bidirectional: bool = False):\n",
        "        super().__init__()\n",
        "        self.loss = nn.MSELoss()\n",
        "        self.bidirectional = bidirectional\n",
        "\n",
        "        self.rnn = nn.RNN(input_size=1, hidden_size=16, \n",
        "                          bidirectional=bidirectional, batch_first=True)\n",
        "        if bidirectional:\n",
        "            self.linear = nn.Linear(32, 1)\n",
        "        else:\n",
        "            self.linear = nn.Linear(16, 1)\n",
        "        \n",
        "    \n",
        "    def forward(self, input):\n",
        "        output, _ = self.rnn(input)\n",
        "        output = self.linear(output[:, -1, :])\n",
        "        return output\n",
        "    \n",
        "    def configure_optimizers(self):\n",
        "        optimizer = AdamW(self.parameters())\n",
        "        return optimizer\n",
        "    \n",
        "    def training_step(self, batch, batch_idx):\n",
        "        X, y = batch\n",
        "        output = self.forward(X.unsqueeze(2))\n",
        "        loss = self.loss(output.flatten(), y)\n",
        "        self.log('train_loss', loss, prog_bar=True)\n",
        "        return {'loss': loss}\n",
        "    \n"
      ],
      "metadata": {
        "id": "ow7rfmdj_4ux"
      },
      "execution_count": null,
      "outputs": []
    },
    {
      "cell_type": "code",
      "source": [
        "model = MyRnn()"
      ],
      "metadata": {
        "id": "v5O-3F2LDfH9"
      },
      "execution_count": null,
      "outputs": []
    },
    {
      "cell_type": "code",
      "source": [
        "trainer = L.Trainer(max_epochs=20)"
      ],
      "metadata": {
        "colab": {
          "base_uri": "https://localhost:8080/"
        },
        "id": "43ueXaSkDU5f",
        "outputId": "b5d1912c-1c6e-4355-e685-bc92360bb465"
      },
      "execution_count": null,
      "outputs": [
        {
          "output_type": "stream",
          "name": "stderr",
          "text": [
            "INFO: GPU available: False, used: False\n",
            "INFO:lightning.pytorch.utilities.rank_zero:GPU available: False, used: False\n",
            "INFO: TPU available: False, using: 0 TPU cores\n",
            "INFO:lightning.pytorch.utilities.rank_zero:TPU available: False, using: 0 TPU cores\n",
            "INFO: IPU available: False, using: 0 IPUs\n",
            "INFO:lightning.pytorch.utilities.rank_zero:IPU available: False, using: 0 IPUs\n",
            "INFO: HPU available: False, using: 0 HPUs\n",
            "INFO:lightning.pytorch.utilities.rank_zero:HPU available: False, using: 0 HPUs\n"
          ]
        }
      ]
    },
    {
      "cell_type": "code",
      "source": [
        "trainer.fit(model, data_module)"
      ],
      "metadata": {
        "colab": {
          "base_uri": "https://localhost:8080/",
          "height": 549,
          "referenced_widgets": [
            "02b81dfd3c4040dabc494db1db7130ef",
            "0bcd8e1d05284c1d840b3c17e62b084f",
            "e46f55fffd4540408e4b1f547b27da23",
            "809e4afaa7c94965841df862d6710c13",
            "eecb7652e7714974baa3248cd2deb724",
            "ea388d5615f54589a8ac2feef622a84f",
            "07d048e763c04de780a5edc8c661771b",
            "5cd9370dccde4fb68cab01380b038699",
            "6be8c269582e4b8e94fae62cc9e650ac",
            "cf369b8f1ef341b4ad784b6bac019764",
            "cc2224b9ff124463b2b1100cd2378d33"
          ]
        },
        "id": "MhyD4TBDDc2l",
        "outputId": "287c9e89-3ae2-4637-ea38-c1281866dcc8"
      },
      "execution_count": null,
      "outputs": [
        {
          "output_type": "stream",
          "name": "stderr",
          "text": [
            "INFO: \n",
            "  | Name   | Type    | Params\n",
            "-----------------------------------\n",
            "0 | loss   | MSELoss | 0     \n",
            "1 | rnn    | RNN     | 304   \n",
            "2 | linear | Linear  | 17    \n",
            "-----------------------------------\n",
            "321       Trainable params\n",
            "0         Non-trainable params\n",
            "321       Total params\n",
            "0.001     Total estimated model params size (MB)\n",
            "INFO:lightning.pytorch.callbacks.model_summary:\n",
            "  | Name   | Type    | Params\n",
            "-----------------------------------\n",
            "0 | loss   | MSELoss | 0     \n",
            "1 | rnn    | RNN     | 304   \n",
            "2 | linear | Linear  | 17    \n",
            "-----------------------------------\n",
            "321       Trainable params\n",
            "0         Non-trainable params\n",
            "321       Total params\n",
            "0.001     Total estimated model params size (MB)\n",
            "/usr/local/lib/python3.10/dist-packages/lightning/pytorch/loops/fit_loop.py:280: PossibleUserWarning:\n",
            "\n",
            "The number of training batches (30) is smaller than the logging interval Trainer(log_every_n_steps=50). Set a lower value for log_every_n_steps if you want to see logs for the training epoch.\n",
            "\n"
          ]
        },
        {
          "output_type": "display_data",
          "data": {
            "text/plain": [
              "Training: 0it [00:00, ?it/s]"
            ],
            "application/vnd.jupyter.widget-view+json": {
              "version_major": 2,
              "version_minor": 0,
              "model_id": "02b81dfd3c4040dabc494db1db7130ef"
            }
          },
          "metadata": {}
        },
        {
          "output_type": "stream",
          "name": "stderr",
          "text": [
            "INFO: `Trainer.fit` stopped: `max_epochs=20` reached.\n",
            "INFO:lightning.pytorch.utilities.rank_zero:`Trainer.fit` stopped: `max_epochs=20` reached.\n"
          ]
        }
      ]
    },
    {
      "cell_type": "code",
      "source": [
        "X_test = torch.sin(torch.arange(1000, 1002, 0.1))"
      ],
      "metadata": {
        "id": "zWC7qsUYEl6y"
      },
      "execution_count": null,
      "outputs": []
    },
    {
      "cell_type": "code",
      "source": [
        "model(X_test.unsqueeze(0).unsqueeze(2))"
      ],
      "metadata": {
        "colab": {
          "base_uri": "https://localhost:8080/"
        },
        "id": "yOGoTZ-EFB_x",
        "outputId": "72e02639-eaa6-4fb0-ec3b-ff3291549787"
      },
      "execution_count": null,
      "outputs": [
        {
          "output_type": "execute_result",
          "data": {
            "text/plain": [
              "tensor([[0.1555]], grad_fn=<AddmmBackward0>)"
            ]
          },
          "metadata": {},
          "execution_count": 402
        }
      ]
    },
    {
      "cell_type": "code",
      "source": [
        "torch.sin(torch.tensor(1002))"
      ],
      "metadata": {
        "colab": {
          "base_uri": "https://localhost:8080/"
        },
        "id": "XMRE3DwQFZ0I",
        "outputId": "a426d938-4996-4d81-f011-f75b683e7415"
      },
      "execution_count": null,
      "outputs": [
        {
          "output_type": "execute_result",
          "data": {
            "text/plain": [
              "tensor(0.1673)"
            ]
          },
          "metadata": {},
          "execution_count": 403
        }
      ]
    },
    {
      "cell_type": "code",
      "source": [
        "model = MyRnn(bidirectional=True)"
      ],
      "metadata": {
        "id": "bL8KoJUQL52Z"
      },
      "execution_count": null,
      "outputs": []
    },
    {
      "cell_type": "code",
      "source": [
        "trainer = L.Trainer(max_epochs=20)"
      ],
      "metadata": {
        "colab": {
          "base_uri": "https://localhost:8080/"
        },
        "id": "ENQUt0b0MO_F",
        "outputId": "64c24231-5ec3-40f3-acbe-1c9c6693ffe9"
      },
      "execution_count": null,
      "outputs": [
        {
          "output_type": "stream",
          "name": "stderr",
          "text": [
            "INFO: GPU available: False, used: False\n",
            "INFO:lightning.pytorch.utilities.rank_zero:GPU available: False, used: False\n",
            "INFO: TPU available: False, using: 0 TPU cores\n",
            "INFO:lightning.pytorch.utilities.rank_zero:TPU available: False, using: 0 TPU cores\n",
            "INFO: IPU available: False, using: 0 IPUs\n",
            "INFO:lightning.pytorch.utilities.rank_zero:IPU available: False, using: 0 IPUs\n",
            "INFO: HPU available: False, using: 0 HPUs\n",
            "INFO:lightning.pytorch.utilities.rank_zero:HPU available: False, using: 0 HPUs\n"
          ]
        }
      ]
    },
    {
      "cell_type": "code",
      "source": [
        "trainer.fit(model, data_module)"
      ],
      "metadata": {
        "colab": {
          "base_uri": "https://localhost:8080/",
          "height": 478,
          "referenced_widgets": [
            "d2cf1ff8447a4a729df031770170f0f7",
            "220b3fb8304b4808bf06af9d1754bf39",
            "0e49a9b1ca6e4475a7a4c7ced130147f",
            "f3d237a93a1b47efba39bfb6d013b39c",
            "90a4320ff1824967b43e8e0d6e62b872",
            "5c7e1503f8d84b898f78e3b0bb53dcbd",
            "6cde2c0c9c394f60b08d800f082a4afe",
            "48c6f856b4024f2798ff9d74b6a43ac3",
            "1509446ec65a4b2bb0f9767fdaaa10b6",
            "1d62237c422244fc84ae582c742225bc",
            "5daf8d4082d34b17b2f8f9d25c806524"
          ]
        },
        "id": "u8f8bwdzMRm4",
        "outputId": "d650f4fd-a766-4444-9649-592354c8c131"
      },
      "execution_count": null,
      "outputs": [
        {
          "output_type": "stream",
          "name": "stderr",
          "text": [
            "INFO: \n",
            "  | Name   | Type    | Params\n",
            "-----------------------------------\n",
            "0 | loss   | MSELoss | 0     \n",
            "1 | rnn    | RNN     | 608   \n",
            "2 | linear | Linear  | 33    \n",
            "-----------------------------------\n",
            "641       Trainable params\n",
            "0         Non-trainable params\n",
            "641       Total params\n",
            "0.003     Total estimated model params size (MB)\n",
            "INFO:lightning.pytorch.callbacks.model_summary:\n",
            "  | Name   | Type    | Params\n",
            "-----------------------------------\n",
            "0 | loss   | MSELoss | 0     \n",
            "1 | rnn    | RNN     | 608   \n",
            "2 | linear | Linear  | 33    \n",
            "-----------------------------------\n",
            "641       Trainable params\n",
            "0         Non-trainable params\n",
            "641       Total params\n",
            "0.003     Total estimated model params size (MB)\n"
          ]
        },
        {
          "output_type": "display_data",
          "data": {
            "text/plain": [
              "Training: 0it [00:00, ?it/s]"
            ],
            "application/vnd.jupyter.widget-view+json": {
              "version_major": 2,
              "version_minor": 0,
              "model_id": "d2cf1ff8447a4a729df031770170f0f7"
            }
          },
          "metadata": {}
        },
        {
          "output_type": "stream",
          "name": "stderr",
          "text": [
            "INFO: `Trainer.fit` stopped: `max_epochs=20` reached.\n",
            "INFO:lightning.pytorch.utilities.rank_zero:`Trainer.fit` stopped: `max_epochs=20` reached.\n"
          ]
        }
      ]
    },
    {
      "cell_type": "code",
      "source": [
        "model(X_test.unsqueeze(0).unsqueeze(2))"
      ],
      "metadata": {
        "colab": {
          "base_uri": "https://localhost:8080/"
        },
        "id": "eRPNtHQlQ9Wq",
        "outputId": "8503eb03-91c6-499b-98f1-68e6d7d12219"
      },
      "execution_count": null,
      "outputs": [
        {
          "output_type": "execute_result",
          "data": {
            "text/plain": [
              "tensor([[0.1544]], grad_fn=<AddmmBackward0>)"
            ]
          },
          "metadata": {},
          "execution_count": 407
        }
      ]
    },
    {
      "cell_type": "code",
      "source": [
        "torch.sin(torch.tensor(1002))"
      ],
      "metadata": {
        "colab": {
          "base_uri": "https://localhost:8080/"
        },
        "id": "VM4BkNKKRG-H",
        "outputId": "d1e71efa-6995-4939-f573-0913038cd2ed"
      },
      "execution_count": null,
      "outputs": [
        {
          "output_type": "execute_result",
          "data": {
            "text/plain": [
              "tensor(0.1673)"
            ]
          },
          "metadata": {},
          "execution_count": 408
        }
      ]
    },
    {
      "cell_type": "code",
      "source": [
        "class TSDataModuleShuffle(L.LightningDataModule):\n",
        "    def __init__(self, time_series, batch_size: int = 32):\n",
        "        super().__init__()\n",
        "        self.time_series = time_series\n",
        "        self.batch_size = batch_size\n",
        "\n",
        "    def setup(self, stage: str):\n",
        "        self.test_dataset = MyDataset(self.time_series)\n",
        "\n",
        "    def train_dataloader(self):\n",
        "        return DataLoader(self.test_dataset, batch_size=self.batch_size, drop_last=True, shuffle=True)"
      ],
      "metadata": {
        "id": "PftQsGBIRH4p"
      },
      "execution_count": null,
      "outputs": []
    },
    {
      "cell_type": "code",
      "source": [
        "data_module = TSDataModuleShuffle(time_series=time_series)"
      ],
      "metadata": {
        "id": "A9E0LancU7Zh"
      },
      "execution_count": null,
      "outputs": []
    },
    {
      "cell_type": "code",
      "source": [
        "model = MyRnn()"
      ],
      "metadata": {
        "id": "rHFViFE1VElm"
      },
      "execution_count": null,
      "outputs": []
    },
    {
      "cell_type": "code",
      "source": [
        "trainer = L.Trainer(max_epochs=20)"
      ],
      "metadata": {
        "colab": {
          "base_uri": "https://localhost:8080/"
        },
        "outputId": "9847aca8-cf03-4109-d12d-c8d5b442dc2d",
        "id": "ZP7WQyjnVElo"
      },
      "execution_count": null,
      "outputs": [
        {
          "output_type": "stream",
          "name": "stderr",
          "text": [
            "INFO: GPU available: False, used: False\n",
            "INFO:lightning.pytorch.utilities.rank_zero:GPU available: False, used: False\n",
            "INFO: TPU available: False, using: 0 TPU cores\n",
            "INFO:lightning.pytorch.utilities.rank_zero:TPU available: False, using: 0 TPU cores\n",
            "INFO: IPU available: False, using: 0 IPUs\n",
            "INFO:lightning.pytorch.utilities.rank_zero:IPU available: False, using: 0 IPUs\n",
            "INFO: HPU available: False, using: 0 HPUs\n",
            "INFO:lightning.pytorch.utilities.rank_zero:HPU available: False, using: 0 HPUs\n"
          ]
        }
      ]
    },
    {
      "cell_type": "code",
      "source": [
        "trainer.fit(model, data_module)"
      ],
      "metadata": {
        "colab": {
          "base_uri": "https://localhost:8080/",
          "height": 478,
          "referenced_widgets": [
            "eb0de7171eb64f86a9b653412f45cc78",
            "4ccaf89fc1104593a1804bc0273461a6",
            "9696580223f1495c8ace108d94a87e39",
            "7f42aac00be44d229ab746bc4567a01d",
            "6522939dc89e499895ae1bff46706288",
            "7f037de56718490b9884c62dd673036d",
            "7cb86cb58b604253a56e540f1e12e266",
            "03bbfe49a785404eb522ee677405eecf",
            "05f771e7e165435ea0fc438b6ece687d",
            "3e1d4ac98ff64d30b432a7370f7a9ebe",
            "6ff2c915ea4740da944c42187b4cb96f"
          ]
        },
        "outputId": "f7f3aa98-70ca-40ec-efa4-7a9b6aa626e2",
        "id": "Z41qu3eSVElq"
      },
      "execution_count": null,
      "outputs": [
        {
          "output_type": "stream",
          "name": "stderr",
          "text": [
            "INFO: \n",
            "  | Name   | Type    | Params\n",
            "-----------------------------------\n",
            "0 | loss   | MSELoss | 0     \n",
            "1 | rnn    | RNN     | 304   \n",
            "2 | linear | Linear  | 17    \n",
            "-----------------------------------\n",
            "321       Trainable params\n",
            "0         Non-trainable params\n",
            "321       Total params\n",
            "0.001     Total estimated model params size (MB)\n",
            "INFO:lightning.pytorch.callbacks.model_summary:\n",
            "  | Name   | Type    | Params\n",
            "-----------------------------------\n",
            "0 | loss   | MSELoss | 0     \n",
            "1 | rnn    | RNN     | 304   \n",
            "2 | linear | Linear  | 17    \n",
            "-----------------------------------\n",
            "321       Trainable params\n",
            "0         Non-trainable params\n",
            "321       Total params\n",
            "0.001     Total estimated model params size (MB)\n"
          ]
        },
        {
          "output_type": "display_data",
          "data": {
            "text/plain": [
              "Training: 0it [00:00, ?it/s]"
            ],
            "application/vnd.jupyter.widget-view+json": {
              "version_major": 2,
              "version_minor": 0,
              "model_id": "eb0de7171eb64f86a9b653412f45cc78"
            }
          },
          "metadata": {}
        },
        {
          "output_type": "stream",
          "name": "stderr",
          "text": [
            "INFO: `Trainer.fit` stopped: `max_epochs=20` reached.\n",
            "INFO:lightning.pytorch.utilities.rank_zero:`Trainer.fit` stopped: `max_epochs=20` reached.\n"
          ]
        }
      ]
    },
    {
      "cell_type": "code",
      "source": [
        "X_test = torch.sin(torch.arange(1000, 1002, 0.1))"
      ],
      "metadata": {
        "id": "I7htIxkUVElr"
      },
      "execution_count": null,
      "outputs": []
    },
    {
      "cell_type": "code",
      "source": [
        "model(X_test.unsqueeze(0).unsqueeze(2))"
      ],
      "metadata": {
        "colab": {
          "base_uri": "https://localhost:8080/"
        },
        "outputId": "b4f615ae-087c-4f8b-8312-6a679a70606b",
        "id": "X2qBJhe3VEls"
      },
      "execution_count": null,
      "outputs": [
        {
          "output_type": "execute_result",
          "data": {
            "text/plain": [
              "tensor([[0.1739]], grad_fn=<AddmmBackward0>)"
            ]
          },
          "metadata": {},
          "execution_count": 415
        }
      ]
    },
    {
      "cell_type": "code",
      "source": [
        "torch.sin(torch.tensor(1002))"
      ],
      "metadata": {
        "colab": {
          "base_uri": "https://localhost:8080/"
        },
        "outputId": "0c5fdcbb-c4dc-4121-f361-4039d3dd1515",
        "id": "dEpBiVRdVElu"
      },
      "execution_count": null,
      "outputs": [
        {
          "output_type": "execute_result",
          "data": {
            "text/plain": [
              "tensor(0.1673)"
            ]
          },
          "metadata": {},
          "execution_count": 416
        }
      ]
    },
    {
      "cell_type": "code",
      "source": [
        "model = MyRnn(bidirectional=True)"
      ],
      "metadata": {
        "id": "aruO1Qw-VElv"
      },
      "execution_count": null,
      "outputs": []
    },
    {
      "cell_type": "code",
      "source": [
        "trainer = L.Trainer(max_epochs=20)"
      ],
      "metadata": {
        "colab": {
          "base_uri": "https://localhost:8080/"
        },
        "outputId": "a643605e-f326-409e-b083-00c1b9a966ee",
        "id": "wRFdB3pEVElx"
      },
      "execution_count": null,
      "outputs": [
        {
          "output_type": "stream",
          "name": "stderr",
          "text": [
            "INFO: GPU available: False, used: False\n",
            "INFO:lightning.pytorch.utilities.rank_zero:GPU available: False, used: False\n",
            "INFO: TPU available: False, using: 0 TPU cores\n",
            "INFO:lightning.pytorch.utilities.rank_zero:TPU available: False, using: 0 TPU cores\n",
            "INFO: IPU available: False, using: 0 IPUs\n",
            "INFO:lightning.pytorch.utilities.rank_zero:IPU available: False, using: 0 IPUs\n",
            "INFO: HPU available: False, using: 0 HPUs\n",
            "INFO:lightning.pytorch.utilities.rank_zero:HPU available: False, using: 0 HPUs\n"
          ]
        }
      ]
    },
    {
      "cell_type": "code",
      "source": [
        "trainer.fit(model, data_module)"
      ],
      "metadata": {
        "colab": {
          "base_uri": "https://localhost:8080/",
          "height": 478,
          "referenced_widgets": [
            "5419de51114e49879e181f3d31ac0116",
            "7b71f124b57c4e20835cc2aedb4aecb5",
            "ca326da78804426187203d1e7e7d922e",
            "602a07c1a2f54c558425cbc8e8676daf",
            "50ec8dbbca6845729e0a17d106eb2c10",
            "47376810bb6b47df9159ace1dfec9f9e",
            "e61cb03c1ad74c88be8b8686afc14d69",
            "95abd08ce66a403f8d0c8a85ade3f139",
            "c84bc2ece2d74dd09237c06530bc1379",
            "3cde597860a2412a9dec8c379e55eff9",
            "0bb3e1df496143a1a16085901ff9c2ec"
          ]
        },
        "outputId": "6a9ca5fa-9b21-4e69-eba5-43b3c5855c94",
        "id": "pRy4ig8HVElz"
      },
      "execution_count": null,
      "outputs": [
        {
          "output_type": "stream",
          "name": "stderr",
          "text": [
            "INFO: \n",
            "  | Name   | Type    | Params\n",
            "-----------------------------------\n",
            "0 | loss   | MSELoss | 0     \n",
            "1 | rnn    | RNN     | 608   \n",
            "2 | linear | Linear  | 33    \n",
            "-----------------------------------\n",
            "641       Trainable params\n",
            "0         Non-trainable params\n",
            "641       Total params\n",
            "0.003     Total estimated model params size (MB)\n",
            "INFO:lightning.pytorch.callbacks.model_summary:\n",
            "  | Name   | Type    | Params\n",
            "-----------------------------------\n",
            "0 | loss   | MSELoss | 0     \n",
            "1 | rnn    | RNN     | 608   \n",
            "2 | linear | Linear  | 33    \n",
            "-----------------------------------\n",
            "641       Trainable params\n",
            "0         Non-trainable params\n",
            "641       Total params\n",
            "0.003     Total estimated model params size (MB)\n"
          ]
        },
        {
          "output_type": "display_data",
          "data": {
            "text/plain": [
              "Training: 0it [00:00, ?it/s]"
            ],
            "application/vnd.jupyter.widget-view+json": {
              "version_major": 2,
              "version_minor": 0,
              "model_id": "5419de51114e49879e181f3d31ac0116"
            }
          },
          "metadata": {}
        },
        {
          "output_type": "stream",
          "name": "stderr",
          "text": [
            "INFO: `Trainer.fit` stopped: `max_epochs=20` reached.\n",
            "INFO:lightning.pytorch.utilities.rank_zero:`Trainer.fit` stopped: `max_epochs=20` reached.\n"
          ]
        }
      ]
    },
    {
      "cell_type": "code",
      "source": [
        "model(X_test.unsqueeze(0).unsqueeze(2))"
      ],
      "metadata": {
        "colab": {
          "base_uri": "https://localhost:8080/"
        },
        "outputId": "d905db1f-46f1-4956-8c7a-ab61367da191",
        "id": "-yXTpfGzVEl0"
      },
      "execution_count": null,
      "outputs": [
        {
          "output_type": "execute_result",
          "data": {
            "text/plain": [
              "tensor([[0.1603]], grad_fn=<AddmmBackward0>)"
            ]
          },
          "metadata": {},
          "execution_count": 420
        }
      ]
    },
    {
      "cell_type": "code",
      "source": [
        "torch.sin(torch.tensor(1002))"
      ],
      "metadata": {
        "colab": {
          "base_uri": "https://localhost:8080/"
        },
        "outputId": "d59fddd2-bc9b-468c-8a3f-2f77b821d757",
        "id": "iHCqZjZTVEl0"
      },
      "execution_count": null,
      "outputs": [
        {
          "output_type": "execute_result",
          "data": {
            "text/plain": [
              "tensor(0.1673)"
            ]
          },
          "metadata": {},
          "execution_count": 421
        }
      ]
    }
  ]
}