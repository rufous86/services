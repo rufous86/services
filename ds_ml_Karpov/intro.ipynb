{
  "nbformat": 4,
  "nbformat_minor": 0,
  "metadata": {
    "colab": {
      "provenance": [],
      "authorship_tag": "ABX9TyMYN3HeT2sdvJ8UjsADcasM"
    },
    "kernelspec": {
      "name": "python3",
      "display_name": "Python 3"
    },
    "language_info": {
      "name": "python"
    }
  },
  "cells": [
    {
      "cell_type": "markdown",
      "source": [
        "# 1.4 Pandas, Dataframes, нет, панды тут ни при чем"
      ],
      "metadata": {
        "id": "38LxQqDaLg4F"
      }
    },
    {
      "cell_type": "code",
      "execution_count": 9,
      "metadata": {
        "colab": {
          "base_uri": "https://localhost:8080/"
        },
        "id": "14p5xCRb707R",
        "outputId": "1d907473-4821-4a49-94ad-f1363f4d3e02"
      },
      "outputs": [
        {
          "output_type": "stream",
          "name": "stdout",
          "text": [
            "--2022-10-17 09:03:59--  https://raw.githubusercontent.com/rufous86/studies/main/ds_ml_Karpov/data/StudentsPerformance.csv\n",
            "Resolving raw.githubusercontent.com (raw.githubusercontent.com)... 185.199.108.133, 185.199.109.133, 185.199.110.133, ...\n",
            "Connecting to raw.githubusercontent.com (raw.githubusercontent.com)|185.199.108.133|:443... connected.\n",
            "HTTP request sent, awaiting response... 200 OK\n",
            "Length: 72036 (70K) [text/plain]\n",
            "Saving to: ‘StudentsPerformance.csv.1’\n",
            "\n",
            "\r          StudentsP   0%[                    ]       0  --.-KB/s               \rStudentsPerformance 100%[===================>]  70.35K  --.-KB/s    in 0.02s   \n",
            "\n",
            "2022-10-17 09:04:00 (4.10 MB/s) - ‘StudentsPerformance.csv.1’ saved [72036/72036]\n",
            "\n"
          ]
        }
      ],
      "source": [
        "! wget https://raw.githubusercontent.com/rufous86/studies/main/ds_ml_Karpov/data/StudentsPerformance.csv\n",
        "! ls"
      ]
    },
    {
      "cell_type": "code",
      "source": [
        "! rm StudentsPerformance.csv"
      ],
      "metadata": {
        "id": "acuDeluZL3Ew"
      },
      "execution_count": 11,
      "outputs": []
    }
  ]
}