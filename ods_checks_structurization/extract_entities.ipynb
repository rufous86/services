{
  "cells": [
    {
      "cell_type": "markdown",
      "metadata": {
        "id": "qOFJ6YfiJehP"
      },
      "source": [
        "https://colab.research.google.com/github/rufous86/studies/blob/main/ods_checks_structurization/extract_entities.ipynb"
      ]
    },
    {
      "cell_type": "code",
      "source": [
        "from google.colab import drive\n",
        "drive.mount('/content/drive')\n",
        "!cp /content/drive/MyDrive/Study/courses/ods_checks_data/train_supervised_dataset.csv ."
      ],
      "metadata": {
        "id": "eNY8CfiXMNj9",
        "outputId": "cd1552bd-1958-495a-ed49-b0c100a60f3a",
        "colab": {
          "base_uri": "https://localhost:8080/"
        }
      },
      "execution_count": 1,
      "outputs": [
        {
          "output_type": "stream",
          "name": "stdout",
          "text": [
            "Mounted at /content/drive\n"
          ]
        }
      ]
    },
    {
      "cell_type": "code",
      "execution_count": 2,
      "metadata": {
        "id": "AwXmxZbtQA8T",
        "outputId": "b5d5d173-d92f-4568-a612-eec3e90bf1cb",
        "colab": {
          "base_uri": "https://localhost:8080/"
        }
      },
      "outputs": [
        {
          "output_type": "stream",
          "name": "stdout",
          "text": [
            "\u001b[2K     \u001b[90m━━━━━━━━━━━━━━━━━━━━━━━━━━━━━━━━━━━━━━━━\u001b[0m \u001b[32m34.4/34.4 MB\u001b[0m \u001b[31m32.0 MB/s\u001b[0m eta \u001b[36m0:00:00\u001b[0m\n",
            "\u001b[2K     \u001b[90m━━━━━━━━━━━━━━━━━━━━━━━━━━━━━━━━━━━━━━━━\u001b[0m \u001b[32m55.5/55.5 kB\u001b[0m \u001b[31m5.5 MB/s\u001b[0m eta \u001b[36m0:00:00\u001b[0m\n",
            "\u001b[2K     \u001b[90m━━━━━━━━━━━━━━━━━━━━━━━━━━━━━━━━━━━━━━━━\u001b[0m \u001b[32m46.7/46.7 kB\u001b[0m \u001b[31m4.5 MB/s\u001b[0m eta \u001b[36m0:00:00\u001b[0m\n",
            "\u001b[?25h  Preparing metadata (setup.py) ... \u001b[?25l\u001b[?25hdone\n",
            "\u001b[2K     \u001b[90m━━━━━━━━━━━━━━━━━━━━━━━━━━━━━━━━━━━━━━━━\u001b[0m \u001b[32m8.2/8.2 MB\u001b[0m \u001b[31m79.5 MB/s\u001b[0m eta \u001b[36m0:00:00\u001b[0m\n",
            "\u001b[?25h  Preparing metadata (setup.py) ... \u001b[?25l\u001b[?25hdone\n",
            "  Building wheel for docopt (setup.py) ... \u001b[?25l\u001b[?25hdone\n",
            "  Building wheel for intervaltree (setup.py) ... \u001b[?25l\u001b[?25hdone\n"
          ]
        }
      ],
      "source": [
        "!pip install natasha -q"
      ]
    },
    {
      "cell_type": "code",
      "source": [
        "import pandas as pd\n",
        "\n",
        "df_train = pd.read_csv('train_supervised_dataset.csv')\n",
        "df_train"
      ],
      "metadata": {
        "id": "RLFzMUTtNLyl",
        "outputId": "71e02951-414d-4862-eb5c-b95d5fcee317",
        "colab": {
          "base_uri": "https://localhost:8080/",
          "height": 424
        }
      },
      "execution_count": 3,
      "outputs": [
        {
          "output_type": "execute_result",
          "data": {
            "text/plain": [
              "          id                                               name        good  \\\n",
              "0          0            Petmax Бантик леопард с красн розой 2шт      бантик   \n",
              "1          1                   87191 Бусы для елки шарики_87191        бусы   \n",
              "2          2                 Футболка Piazza Italia WR011446881    футболка   \n",
              "3          3     7) YI572-03X-ONE ЗАКОЛКА ДЛЯ ВОЛОС ДЛЯ ДЕВОЧКИ     заколка   \n",
              "4          4                                  Одежда (вес) 1500      одежда   \n",
              "...      ...                                                ...         ...   \n",
              "24995  24995                            Вода \"Саирме\" с/г 500мл        вода   \n",
              "24996  24996                       Моя Семя . 0.175л и ассортим         NaN   \n",
              "24997  24997           Рулет бисквитн.Яшкино клубничный со слив       рулет   \n",
              "24998  24998  460075794371 Почвогрунт Цветочное счастье  Фас...  почвогрунт   \n",
              "24999  24999        Семечки жар 80г Крутой Окер с солью Гринвич     семечки   \n",
              "\n",
              "               brand  \n",
              "0             petmax  \n",
              "1                NaN  \n",
              "2      piazza italia  \n",
              "3                NaN  \n",
              "4                NaN  \n",
              "...              ...  \n",
              "24995         sairme  \n",
              "24996      моя семья  \n",
              "24997         яшкино  \n",
              "24998          фаско  \n",
              "24999    крутой окер  \n",
              "\n",
              "[25000 rows x 4 columns]"
            ],
            "text/html": [
              "\n",
              "  <div id=\"df-cb2e63b9-e6a1-47c9-af38-afc4c1cd9453\">\n",
              "    <div class=\"colab-df-container\">\n",
              "      <div>\n",
              "<style scoped>\n",
              "    .dataframe tbody tr th:only-of-type {\n",
              "        vertical-align: middle;\n",
              "    }\n",
              "\n",
              "    .dataframe tbody tr th {\n",
              "        vertical-align: top;\n",
              "    }\n",
              "\n",
              "    .dataframe thead th {\n",
              "        text-align: right;\n",
              "    }\n",
              "</style>\n",
              "<table border=\"1\" class=\"dataframe\">\n",
              "  <thead>\n",
              "    <tr style=\"text-align: right;\">\n",
              "      <th></th>\n",
              "      <th>id</th>\n",
              "      <th>name</th>\n",
              "      <th>good</th>\n",
              "      <th>brand</th>\n",
              "    </tr>\n",
              "  </thead>\n",
              "  <tbody>\n",
              "    <tr>\n",
              "      <th>0</th>\n",
              "      <td>0</td>\n",
              "      <td>Petmax Бантик леопард с красн розой 2шт</td>\n",
              "      <td>бантик</td>\n",
              "      <td>petmax</td>\n",
              "    </tr>\n",
              "    <tr>\n",
              "      <th>1</th>\n",
              "      <td>1</td>\n",
              "      <td>87191 Бусы для елки шарики_87191</td>\n",
              "      <td>бусы</td>\n",
              "      <td>NaN</td>\n",
              "    </tr>\n",
              "    <tr>\n",
              "      <th>2</th>\n",
              "      <td>2</td>\n",
              "      <td>Футболка Piazza Italia WR011446881</td>\n",
              "      <td>футболка</td>\n",
              "      <td>piazza italia</td>\n",
              "    </tr>\n",
              "    <tr>\n",
              "      <th>3</th>\n",
              "      <td>3</td>\n",
              "      <td>7) YI572-03X-ONE ЗАКОЛКА ДЛЯ ВОЛОС ДЛЯ ДЕВОЧКИ</td>\n",
              "      <td>заколка</td>\n",
              "      <td>NaN</td>\n",
              "    </tr>\n",
              "    <tr>\n",
              "      <th>4</th>\n",
              "      <td>4</td>\n",
              "      <td>Одежда (вес) 1500</td>\n",
              "      <td>одежда</td>\n",
              "      <td>NaN</td>\n",
              "    </tr>\n",
              "    <tr>\n",
              "      <th>...</th>\n",
              "      <td>...</td>\n",
              "      <td>...</td>\n",
              "      <td>...</td>\n",
              "      <td>...</td>\n",
              "    </tr>\n",
              "    <tr>\n",
              "      <th>24995</th>\n",
              "      <td>24995</td>\n",
              "      <td>Вода \"Саирме\" с/г 500мл</td>\n",
              "      <td>вода</td>\n",
              "      <td>sairme</td>\n",
              "    </tr>\n",
              "    <tr>\n",
              "      <th>24996</th>\n",
              "      <td>24996</td>\n",
              "      <td>Моя Семя . 0.175л и ассортим</td>\n",
              "      <td>NaN</td>\n",
              "      <td>моя семья</td>\n",
              "    </tr>\n",
              "    <tr>\n",
              "      <th>24997</th>\n",
              "      <td>24997</td>\n",
              "      <td>Рулет бисквитн.Яшкино клубничный со слив</td>\n",
              "      <td>рулет</td>\n",
              "      <td>яшкино</td>\n",
              "    </tr>\n",
              "    <tr>\n",
              "      <th>24998</th>\n",
              "      <td>24998</td>\n",
              "      <td>460075794371 Почвогрунт Цветочное счастье  Фас...</td>\n",
              "      <td>почвогрунт</td>\n",
              "      <td>фаско</td>\n",
              "    </tr>\n",
              "    <tr>\n",
              "      <th>24999</th>\n",
              "      <td>24999</td>\n",
              "      <td>Семечки жар 80г Крутой Окер с солью Гринвич</td>\n",
              "      <td>семечки</td>\n",
              "      <td>крутой окер</td>\n",
              "    </tr>\n",
              "  </tbody>\n",
              "</table>\n",
              "<p>25000 rows × 4 columns</p>\n",
              "</div>\n",
              "      <button class=\"colab-df-convert\" onclick=\"convertToInteractive('df-cb2e63b9-e6a1-47c9-af38-afc4c1cd9453')\"\n",
              "              title=\"Convert this dataframe to an interactive table.\"\n",
              "              style=\"display:none;\">\n",
              "        \n",
              "  <svg xmlns=\"http://www.w3.org/2000/svg\" height=\"24px\"viewBox=\"0 0 24 24\"\n",
              "       width=\"24px\">\n",
              "    <path d=\"M0 0h24v24H0V0z\" fill=\"none\"/>\n",
              "    <path d=\"M18.56 5.44l.94 2.06.94-2.06 2.06-.94-2.06-.94-.94-2.06-.94 2.06-2.06.94zm-11 1L8.5 8.5l.94-2.06 2.06-.94-2.06-.94L8.5 2.5l-.94 2.06-2.06.94zm10 10l.94 2.06.94-2.06 2.06-.94-2.06-.94-.94-2.06-.94 2.06-2.06.94z\"/><path d=\"M17.41 7.96l-1.37-1.37c-.4-.4-.92-.59-1.43-.59-.52 0-1.04.2-1.43.59L10.3 9.45l-7.72 7.72c-.78.78-.78 2.05 0 2.83L4 21.41c.39.39.9.59 1.41.59.51 0 1.02-.2 1.41-.59l7.78-7.78 2.81-2.81c.8-.78.8-2.07 0-2.86zM5.41 20L4 18.59l7.72-7.72 1.47 1.35L5.41 20z\"/>\n",
              "  </svg>\n",
              "      </button>\n",
              "      \n",
              "  <style>\n",
              "    .colab-df-container {\n",
              "      display:flex;\n",
              "      flex-wrap:wrap;\n",
              "      gap: 12px;\n",
              "    }\n",
              "\n",
              "    .colab-df-convert {\n",
              "      background-color: #E8F0FE;\n",
              "      border: none;\n",
              "      border-radius: 50%;\n",
              "      cursor: pointer;\n",
              "      display: none;\n",
              "      fill: #1967D2;\n",
              "      height: 32px;\n",
              "      padding: 0 0 0 0;\n",
              "      width: 32px;\n",
              "    }\n",
              "\n",
              "    .colab-df-convert:hover {\n",
              "      background-color: #E2EBFA;\n",
              "      box-shadow: 0px 1px 2px rgba(60, 64, 67, 0.3), 0px 1px 3px 1px rgba(60, 64, 67, 0.15);\n",
              "      fill: #174EA6;\n",
              "    }\n",
              "\n",
              "    [theme=dark] .colab-df-convert {\n",
              "      background-color: #3B4455;\n",
              "      fill: #D2E3FC;\n",
              "    }\n",
              "\n",
              "    [theme=dark] .colab-df-convert:hover {\n",
              "      background-color: #434B5C;\n",
              "      box-shadow: 0px 1px 3px 1px rgba(0, 0, 0, 0.15);\n",
              "      filter: drop-shadow(0px 1px 2px rgba(0, 0, 0, 0.3));\n",
              "      fill: #FFFFFF;\n",
              "    }\n",
              "  </style>\n",
              "\n",
              "      <script>\n",
              "        const buttonEl =\n",
              "          document.querySelector('#df-cb2e63b9-e6a1-47c9-af38-afc4c1cd9453 button.colab-df-convert');\n",
              "        buttonEl.style.display =\n",
              "          google.colab.kernel.accessAllowed ? 'block' : 'none';\n",
              "\n",
              "        async function convertToInteractive(key) {\n",
              "          const element = document.querySelector('#df-cb2e63b9-e6a1-47c9-af38-afc4c1cd9453');\n",
              "          const dataTable =\n",
              "            await google.colab.kernel.invokeFunction('convertToInteractive',\n",
              "                                                     [key], {});\n",
              "          if (!dataTable) return;\n",
              "\n",
              "          const docLinkHtml = 'Like what you see? Visit the ' +\n",
              "            '<a target=\"_blank\" href=https://colab.research.google.com/notebooks/data_table.ipynb>data table notebook</a>'\n",
              "            + ' to learn more about interactive tables.';\n",
              "          element.innerHTML = '';\n",
              "          dataTable['output_type'] = 'display_data';\n",
              "          await google.colab.output.renderOutput(dataTable, element);\n",
              "          const docLink = document.createElement('div');\n",
              "          docLink.innerHTML = docLinkHtml;\n",
              "          element.appendChild(docLink);\n",
              "        }\n",
              "      </script>\n",
              "    </div>\n",
              "  </div>\n",
              "  "
            ]
          },
          "metadata": {},
          "execution_count": 3
        }
      ]
    },
    {
      "cell_type": "code",
      "execution_count": 7,
      "metadata": {
        "id": "zbwMe6bURSSr"
      },
      "outputs": [],
      "source": [
        "text_list = [\n",
        "    'Petmax Бантик леопард с красн розой 2шт',\n",
        "    '87191 Бусы для елки шарики_87191',\n",
        "    'Футболка Piazza Italia WR011446881',\n",
        "    'YI572-03X-ONE ЗАКОЛКА ДЛЯ ВОЛОС ДЛЯ ДЕВОЧКИ',\n",
        "    'Вода \"Саирме\" с/г 500мл',\n",
        "             ]"
      ]
    },
    {
      "cell_type": "code",
      "execution_count": 8,
      "metadata": {
        "colab": {
          "base_uri": "https://localhost:8080/"
        },
        "id": "h-jnlP5POm0x",
        "outputId": "3ba9c200-2851-42b8-8f8a-9fc209d7a225"
      },
      "outputs": [
        {
          "output_type": "stream",
          "name": "stdout",
          "text": [
            "{'87191 Бусы для елки шарики_87191': [],\n",
            " 'Petmax Бантик леопард с красн розой 2шт': ['Petmax'],\n",
            " 'YI572-03X-ONE ЗАКОЛКА ДЛЯ ВОЛОС ДЛЯ ДЕВОЧКИ': ['ДЕВОЧКИ'],\n",
            " 'Вода \"Саирме\" с/г 500мл': [],\n",
            " 'Футболка Piazza Italia WR011446881': []}\n",
            "{'87191 бусы для елки шарики_87191': ['бусы', 'елка', 'шарики_87191'],\n",
            " 'petmax бантик леопард с красн розой 2шт': ['леопард', 'роза', 'шт'],\n",
            " 'yi572-03x-one заколка для волос для девочки': ['заколка', 'волос', 'девочка'],\n",
            " 'вода \"саирме\" с/г 500мл': ['вода', 'саирма', 'г', 'мл'],\n",
            " 'футболка piazza italia wr011446881': ['футболка']}\n"
          ]
        }
      ],
      "source": [
        "from pprint import pprint\n",
        "\n",
        "import natasha as ntsh\n",
        "from natasha import (\n",
        "    Segmenter,\n",
        "    NewsEmbedding,\n",
        "    NewsNERTagger,\n",
        "    MorphVocab,\n",
        "    NewsMorphTagger,\n",
        "    Doc\n",
        ")\n",
        "\n",
        "segmenter = Segmenter()\n",
        "emb = NewsEmbedding()\n",
        "ner_tagger = NewsNERTagger(emb)\n",
        "morph_tagger = NewsMorphTagger(emb)\n",
        "morph_vocab = MorphVocab()\n",
        "\n",
        "def extract_brands(text_list: list):\n",
        "    \"\"\"\n",
        "    Функция для извлечения названий брендов из текста\n",
        "    \"\"\"\n",
        "    res = {}\n",
        "    for sent in text_list:\n",
        "        res[sent] = []\n",
        "        doc = Doc(sent)\n",
        "        doc.segment(segmenter)\n",
        "        doc.tag_ner(ner_tagger)\n",
        "        for span in doc.spans:\n",
        "            # print(span, span.type)\n",
        "            if span.type == 'ORG':\n",
        "                res[sent].append(span.text)\n",
        "    return res\n",
        "\n",
        "def extract_nouns(text_list: list):\n",
        "    \"\"\"\n",
        "    Функция для извлечения только существительных из текста\n",
        "    \"\"\"\n",
        "    res = {}\n",
        "    for sent in text_list:\n",
        "        sent = sent.lower()\n",
        "        res[sent] = []\n",
        "        doc = Doc(sent)\n",
        "        doc.segment(segmenter)\n",
        "        doc.tag_morph(morph_tagger)\n",
        "        for token in doc.tokens:\n",
        "            token.lemmatize(morph_vocab)\n",
        "            if token.pos == 'NOUN':\n",
        "                res[sent].append(token.lemma)\n",
        "    return res\n",
        "\n",
        "pprint(extract_brands(text_list))\n",
        "pprint(extract_nouns(text_list))"
      ]
    },
    {
      "cell_type": "code",
      "source": [],
      "metadata": {
        "id": "_twlMbRyQLIC"
      },
      "execution_count": null,
      "outputs": []
    }
  ],
  "metadata": {
    "colab": {
      "provenance": []
    },
    "kernelspec": {
      "display_name": "Python 3 (ipykernel)",
      "language": "python",
      "name": "python3"
    },
    "language_info": {
      "codemirror_mode": {
        "name": "ipython",
        "version": 3
      },
      "file_extension": ".py",
      "mimetype": "text/x-python",
      "name": "python",
      "nbconvert_exporter": "python",
      "pygments_lexer": "ipython3",
      "version": "3.9.13"
    }
  },
  "nbformat": 4,
  "nbformat_minor": 0
}