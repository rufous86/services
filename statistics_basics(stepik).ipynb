{
  "cells": [
    {
      "cell_type": "markdown",
      "metadata": {
        "id": "yxh4oszeg9nH"
      },
      "source": [
        "# Введение"
      ]
    },
    {
      "cell_type": "markdown",
      "metadata": {
        "id": "1ApuO8AohEqb"
      },
      "source": [
        "## меры изменчивости"
      ]
    },
    {
      "cell_type": "code",
      "execution_count": null,
      "metadata": {
        "colab": {
          "base_uri": "https://localhost:8080/"
        },
        "id": "25XLibp5eT_9",
        "outputId": "2805acf2-40d6-4a03-8e02-01fc60ec9c31"
      },
      "outputs": [
        {
          "name": "stdout",
          "output_type": "stream",
          "text": [
            "std=3.16\n"
          ]
        }
      ],
      "source": [
        "# standard deviation\n",
        "import numpy as np\n",
        "\n",
        "a = np.array([1, 5, 2, 7, 1, 9, 3, 8, 5, 9])\n",
        "n = len(a)\n",
        "mu = sum(a) / n\n",
        "D = sum((a - mu)**2) / (n-1)\n",
        "std = D**(1/2)\n",
        "print(f'std={std:0.2f}') # standard deviation"
      ]
    },
    {
      "cell_type": "markdown",
      "metadata": {
        "id": "HOnHhSdjlf9z"
      },
      "source": [
        "## квартили распределения, график box-plot"
      ]
    },
    {
      "cell_type": "code",
      "execution_count": null,
      "metadata": {
        "colab": {
          "base_uri": "https://localhost:8080/",
          "height": 282
        },
        "id": "HBelpvB4lr6L",
        "outputId": "9c3b63df-e0d4-4ee8-b0a0-963ddcf310e4"
      },
      "outputs": [
        {
          "name": "stdout",
          "output_type": "stream",
          "text": [
            "mean=170.4, median=170.5\n"
          ]
        },
        {
          "data": {
            "image/png": "[encoded data removed]",
            "text/plain": [
              "<Figure size 432x288 with 1 Axes>"
            ]
          },
          "metadata": {
            "needs_background": "light"
          },
          "output_type": "display_data"
        }
      ],
      "source": [
        "import matplotlib.pyplot as plt\n",
        "import numpy as np\n",
        "\n",
        "x = np.array([157, 159, 161, 164, 165, 166, 167, 167,\n",
        "167, 168, 169, 169, 170, 170, 170, 171, 171, 172, 172,\n",
        "172, 172, 173, 173, 175, 175, 177, 178, 178, 179, 185])\n",
        "print(f'mean={np.mean(x)}, median={np.median(x)}')\n",
        "\n",
        "plt.boxplot(x)\n",
        "plt.show()"
      ]
    },
    {
      "cell_type": "markdown",
      "metadata": {
        "id": "NFObPQBAtWjB"
      },
      "source": [
        "## Нормальное распределение (Normal distribution)"
      ]
    },
    {
      "cell_type": "code",
      "execution_count": null,
      "metadata": {
        "colab": {
          "base_uri": "https://localhost:8080/",
          "height": 565
        },
        "id": "SVD-HFDStaEI",
        "outputId": "fc28f0b4-2026-4df9-f610-c77385a59ff6"
      },
      "outputs": [
        {
          "name": "stdout",
          "output_type": "stream",
          "text": [
            "mean=170.4, median=170.5\n"
          ]
        },
        {
          "data": {
            "image/png": "[encoded data removed]",
            "text/plain": [
              "<Figure size 432x288 with 1 Axes>"
            ]
          },
          "metadata": {
            "needs_background": "light"
          },
          "output_type": "display_data"
        },
        {
          "name": "stdout",
          "output_type": "stream",
          "text": [
            "after standartization\n",
            "mean=-0.00, median=0.02\n"
          ]
        },
        {
          "data": {
            "image/png": "[encoded data removed]",
            "text/plain": [
              "<Figure size 432x288 with 1 Axes>"
            ]
          },
          "metadata": {
            "needs_background": "light"
          },
          "output_type": "display_data"
        }
      ],
      "source": [
        "import matplotlib.pyplot as plt\n",
        "import numpy as np\n",
        "\n",
        "x = np.array([157, 159, 161, 164, 165, 166, 167, 167,\n",
        "167, 168, 169, 169, 170, 170, 170, 171, 171, 172, 172,\n",
        "172, 172, 173, 173, 175, 175, 177, 178, 178, 179, 185])\n",
        "print(f'mean={np.mean(x)}, median={np.median(x)}')\n",
        "plt.hist(x)\n",
        "plt.show()\n",
        "\n",
        "#Стандартизация (z-преобразование)\n",
        "print('after standartization')\n",
        "x = (x - np.mean(x)) / np.std(x)\n",
        "print(f'mean={np.mean(x):0.2f}, median={np.median(x):0.2f}')\n",
        "plt.hist(x)\n",
        "plt.show()"
      ]
    },
    {
      "cell_type": "markdown",
      "metadata": {
        "id": "i7Ic4Hl82Llk"
      },
      "source": [
        "## Центральная предельная теорема (Central limit theorem)"
      ]
    },
    {
      "cell_type": "markdown",
      "metadata": {
        "id": "To925QjnoswD"
      },
      "source": [
        "Рассчитайте стандартную ошибку среднего, если выборочное среднее равняется 10, дисперсия 4, при N = 100"
      ]
    },
    {
      "cell_type": "code",
      "execution_count": null,
      "metadata": {
        "id": "kGeGiA0MoswE",
        "outputId": "fc8638fa-a9dd-42d5-98e9-88f5fec0b2df"
      },
      "outputs": [
        {
          "name": "stdout",
          "output_type": "stream",
          "text": [
            "se=0.2\n"
          ]
        }
      ],
      "source": [
        "from math import sqrt\n",
        "\n",
        "D = 4\n",
        "n = 100\n",
        "\n",
        "se = sqrt(D) / sqrt(n)\n",
        "print(f'se={se}')"
      ]
    },
    {
      "cell_type": "markdown",
      "metadata": {
        "id": "mmuRbed8oswG"
      },
      "source": [
        "## Доверительные интервалы для среднего (confidence interval)"
      ]
    },
    {
      "cell_type": "markdown",
      "metadata": {
        "id": "BuLaZXAroswG"
      },
      "source": [
        "Если бы мы многократно извлекали выборки одинакового размера из генеральной совокупности, в каждой выборке рассчитывали среднее значение и для него свой 95%-ный доверительный интервал (т.е. mu+-1.96se), то в 95% всех случаев такой интервал включал бы в себя среднее значение генеральной совокупности\n",
        "mu - среднее выборки\n",
        "se - стандарная ошибка среднего (standard error)\n",
        "Рассчитаем доверительный интервал для наших выборочных данных:"
      ]
    },
    {
      "cell_type": "code",
      "execution_count": null,
      "metadata": {
        "id": "vwP9M4hOoswH",
        "outputId": "cec97f67-35d5-47b5-a471-fa2d051e7939"
      },
      "outputs": [
        {
          "data": {
            "image/png": "[encoded data removed]",
            "text/plain": [
              "<Figure size 432x288 with 1 Axes>"
            ]
          },
          "metadata": {
            "needs_background": "light"
          },
          "output_type": "display_data"
        },
        {
          "name": "stdout",
          "output_type": "stream",
          "text": [
            "se=0.5\n",
            "95%-ный доверительный интервал=(99.02, 100.98)\n"
          ]
        }
      ],
      "source": [
        "import numpy as np\n",
        "import matplotlib.pyplot as plt\n",
        "from math import sqrt\n",
        "\n",
        "mu, std, n = 100, 4, 64\n",
        "x = np.random.normal(mu, std, n)\n",
        "plt.hist(x)\n",
        "plt.show() \n",
        "\n",
        "se = std /  sqrt(n)\n",
        "print(f'se={se}')\n",
        "print(f'95%-ный доверительный интервал={mu - 1.96 * se, mu + 1.96 * se}')"
      ]
    },
    {
      "cell_type": "markdown",
      "metadata": {
        "id": "WWAXYATKoswI"
      },
      "source": [
        "99% всех наблюдений лежит в диапазоне mu+-2.58sigma (se - для рассчета доверительных интервалов выборочных данных)"
      ]
    },
    {
      "cell_type": "code",
      "execution_count": null,
      "metadata": {
        "id": "AZkOlbXRoswJ",
        "outputId": "897baa4f-30b6-4cb0-fdbc-335784290e0b"
      },
      "outputs": [
        {
          "data": {
            "image/png": "[encoded data removed]",
            "text/plain": [
              "<Figure size 432x288 with 1 Axes>"
            ]
          },
          "metadata": {
            "needs_background": "light"
          },
          "output_type": "display_data"
        },
        {
          "name": "stdout",
          "output_type": "stream",
          "text": [
            "se=0.5\n",
            "99%-ный доверительный интервал=(8.71, 11.29)\n"
          ]
        }
      ],
      "source": [
        "import numpy as np\n",
        "import matplotlib.pyplot as plt\n",
        "from math import sqrt\n",
        "\n",
        "mu, std, n = 10, 5, 100\n",
        "x = np.random.normal(mu, std, n)\n",
        "plt.hist(x)\n",
        "plt.show() \n",
        "\n",
        "se = std /  sqrt(n)\n",
        "print(f'se={se}')\n",
        "print(f'99%-ный доверительный интервал={mu - 2.58 * se, mu + 2.58 * se}')"
      ]
    },
    {
      "cell_type": "markdown",
      "metadata": {
        "id": "ghbA-JWBoswK"
      },
      "source": [
        "## Идея статистического вывода, p-уровень значимости (p-value)"
      ]
    },
    {
      "cell_type": "markdown",
      "metadata": {
        "id": "pb1nFOoMoven"
      },
      "source": [
        "Идея статистического вывода\n",
        "Предположим, что для выздоровления от некоторого заболевания в среднем требуется 20 дней. Однако мы разработали препарат и хотим проверить, можно ли сократить этот срок. Мы набрали группу пациентов из 64 человек и опробовали на них новый метод лечения. Оказалось, что средний срок выздоровления сократился до 18,5 дней при стандартном отклонении 4. Нужно определить: это влияние нового препарата или случайность?\n",
        "\n",
        "Давайте введём две конкурирующих гипотезы:\n",
        "Нулевая гипотеза H0 будет говорить о том, что никакого влияния препарат не оказывает и среднее M=20\n",
        "Альтернативная гипотеза H1 утверждает, что препарат сокращает время выздоровления и среднее M=18,5 дней\n",
        "\n",
        "Предположим, что верна нулевая гипотеза. Тогда в соответствии с центральной предельной теоремой, если бы мы многократно повторяли наши исследования, то выборочные средние распределились нормальным образом вокруг среднего генеральной совокупности со стандартной ошибкой среднего se = std / sqrt(n)"
      ]
    },
    {
      "cell_type": "code",
      "execution_count": null,
      "metadata": {
        "id": "uYW6i1g6q128",
        "outputId": "faf16ff5-eef0-4103-81d6-ea5eb84b033a"
      },
      "outputs": [
        {
          "name": "stdout",
          "output_type": "stream",
          "text": [
            "se=0.5\n"
          ]
        }
      ],
      "source": [
        "from math import sqrt\n",
        "\n",
        "M, n, mu, std = 20, 64, 18.5, 4\n",
        "\n",
        "se = std / sqrt(n)\n",
        "print(f\"se={se}\")"
      ]
    },
    {
      "cell_type": "markdown",
      "metadata": {
        "id": "cV5Q1qUNa5J-"
      },
      "source": [
        "Ответим на вопрос: на сколько наше выборочное среднее отклонилось от предполагаемого среднего генеральной совокупности в единицах стандартного отклонения (sigma)?\n",
        "Для этого сделаем z-преобразование"
      ]
    },
    {
      "cell_type": "code",
      "execution_count": null,
      "metadata": {
        "id": "mdhWv8xia5J_",
        "outputId": "7502a0ed-4ee3-4580-992e-d0ce5f2f59df"
      },
      "outputs": [
        {
          "name": "stdout",
          "output_type": "stream",
          "text": [
            "z=-3.0\n"
          ]
        }
      ],
      "source": [
        "z = (mu - M) / se\n",
        "print(f\"z={z}\")"
      ]
    },
    {
      "cell_type": "markdown",
      "metadata": {
        "id": "w9AY5x6ga5J_"
      },
      "source": [
        "Это означает, что, если бы среднее ген совокупности (M) равнялось 20, то наше выборочное среднее (mu) отклонилось от M на -3*sigma\n",
        "\n",
        "Воспользовавшись сервисом https://gallery.shinyapps.io/dist_calc/\n",
        "установив \n",
        "mean=0, \n",
        "standard deviation = 1\n",
        "both tails: a = -3, b = 3\n",
        "\n",
        "Получим, что вероятность получить такое отклонение (3*sigma в обе стороны) P = 0.0027\n",
        "\n",
        "Подведем итоги: на первом этапе мы предположили, что верно нулевая гипотеза. Если это так, то все выборочные средние распределились бы нормальным образом вокруг среднего ген совокупности (M=20). Но при этом вероятность получить наше выборочное среднее оказалась равно примерно 0.003.\n",
        "Таким образом, основная идея статистического вывода заключается в следующем:\n",
        "\n",
        "Сначала мы допускаем, что верна нулевая гипотеза (т.е. никаких различий и взаимосвязей в генеральной совокупности нет). После этого мы сможем рассчитывать, что мы получили такие или ещё более выраженные различия абсолютно случайно. Эта вероятность в статистике называется p-уровень значимости. С помощью этого показателя можно выбрать более состоятельную гипотезу. Чем меньше p-уровень значимости, тем больше у исследователя оснований отклонить нулевую гипотезу. Считается, если p<0.05, можно смело принимать альтернативную гипотезу. Однако, если p>0.05, считается, что у нас недостаточно оснований отклонить нулевую гипотезу"
      ]
    },
    {
      "cell_type": "markdown",
      "metadata": {
        "id": "dqMn8ofpcCtF"
      },
      "source": [
        "## Идея статистического вывода с помощью доверительных интервалов (p-value vs confidence interval)"
      ]
    },
    {
      "cell_type": "markdown",
      "metadata": {
        "id": "9Sqc5wAzcEkK"
      },
      "source": [
        "Использование доверительных интервалов зачастую рассматривают, как альтернативный способ проверки гипотез. В нашем случае, если значение 20 (предполагаемое среднее значение в генеральной совокупности) не будет принадлежать 95% доверительному интервалу, рассчитанному по выборочным данным, у нас будет достаточно оснований отклонить нулевую гипотезу. Проверьте согласуются ли результаты двух этих подходов: рассчитайте 95% доверительный интервал для среднего значения, на примере с тестированием нового препарата.\n",
        "\n",
        "n = 64,  sd = 4,   M = 18.5"
      ]
    },
    {
      "cell_type": "code",
      "execution_count": null,
      "metadata": {
        "colab": {
          "base_uri": "https://localhost:8080/"
        },
        "id": "USVS0HLicvn5",
        "outputId": "85935b98-3a4f-403e-b3be-bd344374dc21"
      },
      "outputs": [
        {
          "name": "stdout",
          "output_type": "stream",
          "text": [
            "se=0.5\n",
            "95%-ный доверительный интервал=(17.52, 19.48)\n"
          ]
        }
      ],
      "source": [
        "from math import sqrt\n",
        "\n",
        "mu, std, n = 18.5, 4, 64\n",
        "\n",
        "se = std /  sqrt(n)\n",
        "print(f'se={se}')\n",
        "print(f'95%-ный доверительный интервал={mu - 1.96 * se, mu + 1.96 * se}')"
      ]
    },
    {
      "cell_type": "markdown",
      "metadata": {
        "id": "ykWheoradP83"
      },
      "source": [
        "20 не принадлежит доверительному интервалу - отклоняем H0"
      ]
    },
    {
      "cell_type": "markdown",
      "metadata": {
        "id": "ggYnrFJOCDmu"
      },
      "source": [
        "# Сравнение средних"
      ]
    },
    {
      "cell_type": "markdown",
      "metadata": {
        "id": "Roh8CJZaatsT"
      },
      "source": [
        "---\n",
        "**ВАЖНАЯ ЗАМЕТКА:**\n",
        "\n",
        "Если число наблюдений меньше 30, \n",
        "z-преобразование заменяется на t-преобразование.\n",
        "Чем выше число наблюдений, тем ближе форма t-распределения к нормальному\n",
        "\n",
        "---"
      ]
    },
    {
      "cell_type": "markdown",
      "metadata": {
        "id": "ygx_72IsCTHu"
      },
      "source": [
        "## сравнение двух средних, t-критерий Стьюдента (Student's t-test)"
      ]
    },
    {
      "cell_type": "markdown",
      "metadata": {
        "id": "oGoeKsrzCdoj"
      },
      "source": [
        "Процесс денатурации ДНК представляет разрушение водородных связей между двумя цепями этой молекулы и очень сильно зависит от воздействующей на них температуры.\n",
        "\n",
        "При сравнении двух видов были получены следующие значения температуры плавления образца:"
      ]
    },
    {
      "cell_type": "code",
      "execution_count": null,
      "metadata": {
        "id": "L8nALA2VD2cQ"
      },
      "outputs": [],
      "source": [
        "mu_1, std_1, n_1 = 89.9, 11.3, 20\n",
        "mu_2, std_2, n_2 = 80.7, 11.7, 20"
      ]
    },
    {
      "cell_type": "markdown",
      "metadata": {
        "id": "2Hj_i7zsZa5Q"
      },
      "source": [
        "Предположим 2 гипотезы:\n",
        "\n",
        "H0 - М1=М2, оба вида принадлежат одной генеральной совокупности\n",
        "\n",
        "H1 - М1!=М2, оба вида принадлежат разным генеральным совокупностям\n",
        "\n",
        "Проверяем H0: разница M0-M1 должна распределиться нормально с средним в нуле\n",
        "\n",
        "Определим на сколько сигма отклоняется разница наших выборочных средних от разницы средних генеральных совокупностей (0):"
      ]
    },
    {
      "cell_type": "code",
      "execution_count": null,
      "metadata": {
        "colab": {
          "base_uri": "https://localhost:8080/"
        },
        "id": "54mij_xUaqEg",
        "outputId": "8176f354-860b-46b4-c046-0c0f29f48481"
      },
      "outputs": [
        {
          "name": "stdout",
          "output_type": "stream",
          "text": [
            "se = 3.6\n",
            "t = 2.5\n",
            "Degrees of freedom=38\n"
          ]
        }
      ],
      "source": [
        "from math import sqrt\n",
        "\n",
        "se = sqrt((std_1**2) / n_1 + (std_2**2) / n_2)\n",
        "print(f'se = {se:.01f}')\n",
        "\n",
        "t = (mu_1 - mu_2) / se\n",
        "print(f't = {t:.01f}')\n",
        "print(f'Degrees of freedom={n_1 + n_2 - 2}')"
      ]
    },
    {
      "cell_type": "markdown",
      "metadata": {
        "id": "jHVdYDknj4fk"
      },
      "source": [
        "Воспользовавшись сервисом https://gallery.shinyapps.io/dist_calc/ выбрав t-распределение и установив Degrees of freedom=38, both tails: a = -2.5, b = 2.5\n",
        "\n",
        "получим p-value: P(X < -2.5 or X > 2.5) = 0.0169, что меньше 0,05"
      ]
    },
    {
      "cell_type": "code",
      "execution_count": null,
      "metadata": {
        "colab": {
          "base_uri": "https://localhost:8080/",
          "height": 300
        },
        "id": "B9Qgjim_lH0O",
        "outputId": "e4416a14-979a-4ae3-d62f-56ef31cebd1e"
      },
      "outputs": [
        {
          "name": "stdout",
          "output_type": "stream",
          "text": [
            "Ttest_indResult(statistic=6.04781958789892, pvalue=4.894702897415829e-07)\n",
            "H0 can be rejected, means aren't statistically equal, factor impacts\n"
          ]
        },
        {
          "data": {
            "image/png": "[encoded data removed]",
            "text/plain": [
              "<Figure size 432x288 with 1 Axes>"
            ]
          },
          "metadata": {
            "needs_background": "light"
          },
          "output_type": "display_data"
        }
      ],
      "source": [
        "# вариант с помощью scipy\n",
        "from scipy import stats\n",
        "import matplotlib.pyplot as plt\n",
        "\n",
        "sample_1 = [84.7, 105, 98.9, 97.9, 108.7, 81.3, 99.4, 89.4 , 93, 119.3, 99.2, 99.4, 97.1, 112.4, 99.8, 94.7, 114, 95.1, 115.5, 111.5]\n",
        "sample_2 = [57.2, 68.6, 104.4, 95.1, 89.9, 70.8, 83.5, 60.1, 75.7, 102, 69, 79.6, 68.9, 98.6, 76, 74.8, 56, 55.6, 69.4, 59.5]\n",
        "\n",
        "res = stats.ttest_ind(sample_1, sample_2)\n",
        "print(res)\n",
        "if res[1] >= 0.05:\n",
        "    print(\"H0 can't be rejected, means are statistically equal, no factor impact\")\n",
        "else:\n",
        "    print(\"H0 can be rejected, means aren't statistically equal, factor impacts\")\n",
        "\n",
        "plt.boxplot([sample_1, sample_2], showmeans=True, whis=True)\n",
        "plt.show()"
      ]
    },
    {
      "cell_type": "markdown",
      "metadata": {
        "id": "8_PNCS9RYCQD"
      },
      "source": [
        "## Confidence interval and Student's t-test (2.2 step 12)"
      ]
    },
    {
      "cell_type": "markdown",
      "metadata": {
        "id": "z1n0rSczYSe8"
      },
      "source": [
        "Знание t-распределения поможет нам корректно рассчитать границы доверительного интервала, особенно в тех случаях, если число наблюдений меньше 30. Ранее при расчете 95% доверительного интервала мы использовали формулу mu +- 1.96 * std / sqrt(n)\n",
        "\n",
        "Однако 95% всех наблюдений в случае t-распределения могут лежать в более широком диапазоне. \n",
        "\n",
        "Рассчитайте доверительный интервал основываясь на знании t - распределения для среднего значения температуры плавления ДНК у первого вида:\n",
        "\n",
        "mu=89,9 sd=11,3 n=20 \n",
        "\n",
        "Для этого определите, в каком диапазоне находится 95 % наблюдений у соответствующего t - распределения (df = n -1) и используйте это значение вместо коэффициента 1,96. \n",
        "\n",
        "Давайте воспользуемся таблицей критических значений для t - распределения для нахождения нужного t - значения ﻿:\n",
        "\n",
        "http://www.medcalc.org/manual/t-distribution.php\n",
        "\n",
        "В этой таблице нас интересует столбец, где A=0,95 (область под кривой). На пересечении этого столбца и строки с нужным числом степеней свободы и находится интересующее нас значение.\n",
        "\n",
        "В соответствии с таблицей это число 2.093"
      ]
    },
    {
      "cell_type": "code",
      "execution_count": null,
      "metadata": {
        "colab": {
          "base_uri": "https://localhost:8080/"
        },
        "id": "MoDEbCzeYo5d",
        "outputId": "5bd5b1b4-a059-4b87-d4bf-3166276f55cb"
      },
      "outputs": [
        {
          "name": "stdout",
          "output_type": "stream",
          "text": [
            "se=2.53\n",
            "95%-ный доверительный интервал=[84.61; 95.19]\n"
          ]
        }
      ],
      "source": [
        "from math import sqrt\n",
        "\n",
        "mu, std, n = 89.9, 11.3, 20\n",
        "t = 2.093\n",
        "\n",
        "se = std /  sqrt(n)\n",
        "print(f'se={se:.2f}')\n",
        "print(f'95%-ный доверительный интервал=[{mu - t * se:.2f}; {mu + t * se:.2f}]')"
      ]
    },
    {
      "cell_type": "markdown",
      "metadata": {
        "id": "7z4p1Kl1grOT"
      },
      "source": [
        "## QQ-Plot"
      ]
    },
    {
      "cell_type": "code",
      "execution_count": null,
      "metadata": {
        "id": "noQu36-5gzJq",
        "outputId": "8d7a7d49-455f-4c55-a968-28233fbf5021"
      },
      "outputs": [
        {
          "data": {
            "image/png": "[encoded data removed]",
            "text/plain": [
              "<Figure size 432x288 with 1 Axes>"
            ]
          },
          "metadata": {
            "needs_background": "light"
          },
          "output_type": "display_data"
        },
        {
          "data": {
            "image/png": "[encoded data removed]",
            "text/plain": [
              "<Figure size 432x288 with 1 Axes>"
            ]
          },
          "metadata": {
            "needs_background": "light"
          },
          "output_type": "display_data"
        },
        {
          "data": {
            "image/png": "[encoded data removed]",
            "text/plain": [
              "<Figure size 432x288 with 1 Axes>"
            ]
          },
          "metadata": {
            "needs_background": "light"
          },
          "output_type": "display_data"
        },
        {
          "data": {
            "image/png": "[encoded data removed]",
            "text/plain": [
              "<Figure size 432x288 with 1 Axes>"
            ]
          },
          "metadata": {
            "needs_background": "light"
          },
          "output_type": "display_data"
        }
      ],
      "source": [
        "import statsmodels.api as sm\n",
        "import matplotlib.pyplot as plt\n",
        "import numpy as np\n",
        "\n",
        "sample_1 = np.array([84.7, 105, 98.9, 97.9, 108.7, 81.3, 99.4, 89.4 , 93, 119.3, 99.2, 99.4, 97.1, 112.4, 99.8, 94.7, 114, 95.1, 115.5, 111.5])\n",
        "sample_2 = np.array([57.2, 68.6, 104.4, 95.1, 89.9, 70.8, 83.5, 60.1, 75.7, 102, 69, 79.6, 68.9, 98.6, 76, 74.8, 56, 55.6, 69.4, 59.5])\n",
        "\n",
        "for data in (sample_1, sample_2):\n",
        "    data = (data - np.mean(data)) / np.std(data) # don't forget about standartization!!!\n",
        "    plt.hist(data)\n",
        "    fig = sm.qqplot(data, line='45')\n",
        "    plt.show()"
      ]
    },
    {
      "cell_type": "markdown",
      "metadata": {
        "id": "unFA2TUqMyDd"
      },
      "source": [
        "## Однофакторный дисперсионный анализ (One-way analysis of variance)"
      ]
    },
    {
      "cell_type": "markdown",
      "metadata": {
        "id": "a_osyvBMM6Ab"
      },
      "source": [
        "Возьмем 3 наблюдения\n",
        "Определим 2 гипотезы:\n",
        "\n",
        "H0: M1=M2=M3\n",
        "\n",
        "H1: M1!=M2 or M2!=M3 or M1!=M3"
      ]
    },
    {
      "cell_type": "code",
      "execution_count": 3,
      "metadata": {
        "id": "Xgu0U848M1z4"
      },
      "outputs": [
        {
          "ename": "ModuleNotFoundError",
          "evalue": "No module named 'numpy'",
          "output_type": "error",
          "traceback": [
            "\u001b[0;31m---------------------------------------------------------------------------\u001b[0m",
            "\u001b[0;31mModuleNotFoundError\u001b[0m                       Traceback (most recent call last)",
            "\u001b[1;32m/home/andrei/jupyterNBs/studies/statistics_basics(stepik).ipynb Cell 42\u001b[0m in \u001b[0;36m<cell line: 1>\u001b[0;34m()\u001b[0m\n\u001b[0;32m----> <a href='vscode-notebook-cell:/home/andrei/jupyterNBs/studies/statistics_basics%28stepik%29.ipynb#ch0000041?line=0'>1</a>\u001b[0m \u001b[39mimport\u001b[39;00m \u001b[39mnumpy\u001b[39;00m \u001b[39mas\u001b[39;00m \u001b[39mnp\u001b[39;00m\n\u001b[1;32m      <a href='vscode-notebook-cell:/home/andrei/jupyterNBs/studies/statistics_basics%28stepik%29.ipynb#ch0000041?line=2'>3</a>\u001b[0m sample_1 \u001b[39m=\u001b[39m np\u001b[39m.\u001b[39marray([\u001b[39m3\u001b[39m, \u001b[39m1\u001b[39m, \u001b[39m2\u001b[39m])\n\u001b[1;32m      <a href='vscode-notebook-cell:/home/andrei/jupyterNBs/studies/statistics_basics%28stepik%29.ipynb#ch0000041?line=3'>4</a>\u001b[0m sample_2 \u001b[39m=\u001b[39m np\u001b[39m.\u001b[39marray([\u001b[39m5\u001b[39m, \u001b[39m3\u001b[39m, \u001b[39m4\u001b[39m])\n",
            "\u001b[0;31mModuleNotFoundError\u001b[0m: No module named 'numpy'"
          ]
        }
      ],
      "source": [
        "import numpy as np\n",
        "\n",
        "sample_1 = np.array([3, 1, 2])\n",
        "sample_2 = np.array([5, 3, 4])\n",
        "sample_3 = np.array([7, 6, 5])"
      ]
    },
    {
      "cell_type": "code",
      "execution_count": null,
      "metadata": {
        "colab": {
          "base_uri": "https://localhost:8080/"
        },
        "id": "40m0lpRXOKcz",
        "outputId": "119e99d8-1c7f-4665-ec3b-ed6fbc5048f9"
      },
      "outputs": [
        {
          "name": "stdout",
          "output_type": "stream",
          "text": [
            "mean_all=4.0\n",
            "SST=30.0\n",
            "df=8\n"
          ]
        }
      ],
      "source": [
        "# Рассчитаем среднее по всем выборкам\n",
        "all_samples = np.append(sample_1, np.append(sample_2, sample_3))\n",
        "n = len(all_samples)\n",
        "m = 3 #num of groups\n",
        "mean_all = np.mean(all_samples)\n",
        "print(f\"mean_all={mean_all}\")\n",
        "\n",
        "# SST - Total Sum of Squares (общая сумма квадратов): базовое понятие дисперсионного анализа\n",
        "# Показывает, насколько высока изменчивость наших данных без учета разделения их на группы\n",
        "SST = sum((all_samples-mean_all)**2)\n",
        "print(f\"SST={SST}\")\n",
        "\n",
        "# Число степеней свободы\n",
        "df = n - 1\n",
        "print(f\"df={df}\")"
      ]
    },
    {
      "cell_type": "code",
      "execution_count": 34,
      "metadata": {
        "colab": {
          "base_uri": "https://localhost:8080/"
        },
        "id": "MvwzP5VjWHoo",
        "outputId": "5448a56c-3226-4352-f5b3-33dcbd109b02"
      },
      "outputs": [
        {
          "name": "stdout",
          "output_type": "stream",
          "text": [
            "SSW=6.0\n",
            "df=6\n",
            "SSB=24.0\n",
            "df=2\n"
          ]
        }
      ],
      "source": [
        "\"\"\"\n",
        " На SST влияют два параметра:\n",
        " 1. SSB (sum of squares between groups)\n",
        " 2. SSW (sum of squares within group)\n",
        "\"\"\"\n",
        "def SSW_in_group(sample):\n",
        "    return sum((sample - np.mean(sample))**2)\n",
        "\n",
        "SSW = SSW_in_group(sample_1) + SSW_in_group(sample_2) + SSW_in_group(sample_3)\n",
        "print(f\"SSW={SSW}\")\n",
        "df = n - m\n",
        "print(f\"df={df}\")\n",
        "\n",
        "n_1, n_2, n_3 = len(sample_1), len(sample_2), len(sample_3)\n",
        "SSB = n_1*(np.mean(sample_1) - mean_all)**2 + n_2*(np.mean(sample_2) - mean_all)**2 + n_3*(np.mean(sample_3) - mean_all)**2\n",
        "print(f\"SSB={SSB}\")\n",
        "df = m - 1\n",
        "print(f\"df={df}\")"
      ]
    },
    {
      "cell_type": "markdown",
      "metadata": {
        "id": "QTiUK0piuq2h"
      },
      "source": [
        "Получаем\n",
        "\n",
        "SST = 30\n",
        "\n",
        "SSB = 24\n",
        "\n",
        "SSW = 6\n",
        "\n",
        "Вывод: если большая часть нашей общей изменчивости обеспечивается именно благодаря сумме квадратов междугрпповых, это означает, что наши группы значительно различаются между собой\n",
        "\n",
        "Рассчитает основной статистический показатель дисперсионного анализа, F-значение"
      ]
    },
    {
      "cell_type": "code",
      "execution_count": 2,
      "metadata": {
        "colab": {
          "base_uri": "https://localhost:8080/"
        },
        "id": "_AuBqMakvDeU",
        "outputId": "3d57a60d-1357-405c-a683-18efb71a3c16"
      },
      "outputs": [
        {
          "ename": "NameError",
          "evalue": "name 'SSB' is not defined",
          "output_type": "error",
          "traceback": [
            "\u001b[0;31m---------------------------------------------------------------------------\u001b[0m",
            "\u001b[0;31mNameError\u001b[0m                                 Traceback (most recent call last)",
            "\u001b[1;32m/home/andrei/jupyterNBs/studies/statistics_basics(stepik).ipynb Cell 46\u001b[0m in \u001b[0;36m<cell line: 1>\u001b[0;34m()\u001b[0m\n\u001b[0;32m----> <a href='vscode-notebook-cell:/home/andrei/jupyterNBs/studies/statistics_basics%28stepik%29.ipynb#ch0000045?line=0'>1</a>\u001b[0m f_value \u001b[39m=\u001b[39m (SSB \u001b[39m/\u001b[39m (m\u001b[39m-\u001b[39m\u001b[39m1\u001b[39m)) \u001b[39m/\u001b[39m (SSW \u001b[39m/\u001b[39m (n\u001b[39m-\u001b[39mm))\n\u001b[1;32m      <a href='vscode-notebook-cell:/home/andrei/jupyterNBs/studies/statistics_basics%28stepik%29.ipynb#ch0000045?line=1'>2</a>\u001b[0m \u001b[39mprint\u001b[39m(\u001b[39mf\u001b[39m\u001b[39m\"\u001b[39m\u001b[39mf_value=\u001b[39m\u001b[39m{\u001b[39;00mf_value\u001b[39m}\u001b[39;00m\u001b[39m\"\u001b[39m)\n",
            "\u001b[0;31mNameError\u001b[0m: name 'SSB' is not defined"
          ]
        }
      ],
      "source": [
        "f_value = (SSB / (m-1)) / (SSW / (n-m))\n",
        "print(f\"f_value={f_value}\")"
      ]
    },
    {
      "cell_type": "markdown",
      "metadata": {
        "id": "H07EeEMtxd40"
      },
      "source": [
        "Воспользовавшись сайтом https://gallery.shinyapps.io/dist_calc/ выясняем(выбераем F distribution, Degrees of freedom=2, Degrees of freedom (2)=6, a=12), что вероятность получить такие или более выраженные различия равны (p-уровень значимости) P(X > 12) = 0.008"
      ]
    },
    {
      "cell_type": "markdown",
      "metadata": {},
      "source": [
        "### Пример"
      ]
    },
    {
      "cell_type": "code",
      "execution_count": 1,
      "metadata": {},
      "outputs": [
        {
          "data": {
            "text/html": [
              "<div>\n",
              "<style scoped>\n",
              "    .dataframe tbody tr th:only-of-type {\n",
              "        vertical-align: middle;\n",
              "    }\n",
              "\n",
              "    .dataframe tbody tr th {\n",
              "        vertical-align: top;\n",
              "    }\n",
              "\n",
              "    .dataframe thead th {\n",
              "        text-align: right;\n",
              "    }\n",
              "</style>\n",
              "<table border=\"1\" class=\"dataframe\">\n",
              "  <thead>\n",
              "    <tr style=\"text-align: right;\">\n",
              "      <th></th>\n",
              "      <th>expr</th>\n",
              "      <th>Therapy</th>\n",
              "    </tr>\n",
              "  </thead>\n",
              "  <tbody>\n",
              "    <tr>\n",
              "      <th>0</th>\n",
              "      <td>100</td>\n",
              "      <td>A</td>\n",
              "    </tr>\n",
              "    <tr>\n",
              "      <th>1</th>\n",
              "      <td>96</td>\n",
              "      <td>A</td>\n",
              "    </tr>\n",
              "    <tr>\n",
              "      <th>2</th>\n",
              "      <td>101</td>\n",
              "      <td>A</td>\n",
              "    </tr>\n",
              "    <tr>\n",
              "      <th>3</th>\n",
              "      <td>95</td>\n",
              "      <td>A</td>\n",
              "    </tr>\n",
              "    <tr>\n",
              "      <th>4</th>\n",
              "      <td>103</td>\n",
              "      <td>A</td>\n",
              "    </tr>\n",
              "  </tbody>\n",
              "</table>\n",
              "</div>"
            ],
            "text/plain": [
              "   expr Therapy\n",
              "0   100       A\n",
              "1    96       A\n",
              "2   101       A\n",
              "3    95       A\n",
              "4   103       A"
            ]
          },
          "execution_count": 1,
          "metadata": {},
          "output_type": "execute_result"
        }
      ],
      "source": [
        "from scipy import stats\n",
        "import pandas as pd\n",
        "\n",
        "data = pd.read_csv(\"genetherapy.csv\")\n",
        "data.head()"
      ]
    }
  ],
  "metadata": {
    "colab": {
      "name": "statistics_basics(stepik).ipynb",
      "provenance": []
    },
    "kernelspec": {
      "display_name": "Python 3.9.12 ('base')",
      "language": "python",
      "name": "python3"
    },
    "language_info": {
      "codemirror_mode": {
        "name": "ipython",
        "version": 3
      },
      "file_extension": ".py",
      "mimetype": "text/x-python",
      "name": "python",
      "nbconvert_exporter": "python",
      "pygments_lexer": "ipython3",
      "version": "3.9.12"
    },
    "vscode": {
      "interpreter": {
        "hash": "c9f85a49a774e89aef9a12c10c27d86197139bab5c2fb9d43c737ab52e1d2267"
      }
    }
  },
  "nbformat": 4,
  "nbformat_minor": 0
}
