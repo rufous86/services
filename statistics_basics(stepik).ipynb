{
  "cells": [
    {
      "cell_type": "markdown",
      "metadata": {
        "id": "yxh4oszeg9nH"
      },
      "source": [
        "# Введение"
      ]
    },
    {
      "cell_type": "markdown",
      "metadata": {
        "id": "1ApuO8AohEqb"
      },
      "source": [
        "## меры изменчивости"
      ]
    },
    {
      "cell_type": "code",
      "execution_count": null,
      "metadata": {
        "colab": {
          "base_uri": "https://localhost:8080/"
        },
        "id": "25XLibp5eT_9",
        "outputId": "2805acf2-40d6-4a03-8e02-01fc60ec9c31"
      },
      "outputs": [
        {
          "name": "stdout",
          "output_type": "stream",
          "text": [
            "std=3.16\n"
          ]
        }
      ],
      "source": [
        "# standard deviation\n",
        "import numpy as np\n",
        "\n",
        "a = np.array([1, 5, 2, 7, 1, 9, 3, 8, 5, 9])\n",
        "n = len(a)\n",
        "mu = sum(a) / n\n",
        "D = sum((a - mu)**2) / (n-1)\n",
        "std = D**(1/2)\n",
        "print(f'std={std:0.2f}') # standard deviation"
      ]
    },
    {
      "cell_type": "markdown",
      "metadata": {
        "id": "HOnHhSdjlf9z"
      },
      "source": [
        "## квартили распределения, график box-plot"
      ]
    },
    {
      "cell_type": "code",
      "execution_count": null,
      "metadata": {
        "colab": {
          "base_uri": "https://localhost:8080/",
          "height": 282
        },
        "id": "HBelpvB4lr6L",
        "outputId": "9c3b63df-e0d4-4ee8-b0a0-963ddcf310e4"
      },
      "outputs": [
        {
          "name": "stdout",
          "output_type": "stream",
          "text": [
            "mean=170.4, median=170.5\n"
          ]
        },
        {
          "data": {
            "image/png": "[encoded data removed]",
            "text/plain": [
              "<Figure size 432x288 with 1 Axes>"
            ]
          },
          "metadata": {
            "needs_background": "light"
          },
          "output_type": "display_data"
        }
      ],
      "source": [
        "import matplotlib.pyplot as plt\n",
        "import numpy as np\n",
        "\n",
        "x = np.array([157, 159, 161, 164, 165, 166, 167, 167,\n",
        "167, 168, 169, 169, 170, 170, 170, 171, 171, 172, 172,\n",
        "172, 172, 173, 173, 175, 175, 177, 178, 178, 179, 185])\n",
        "print(f'mean={np.mean(x)}, median={np.median(x)}')\n",
        "\n",
        "plt.boxplot(x)\n",
        "plt.show()"
      ]
    },
    {
      "cell_type": "markdown",
      "metadata": {
        "id": "NFObPQBAtWjB"
      },
      "source": [
        "## Нормальное распределение (Normal distribution)"
      ]
    },
    {
      "cell_type": "code",
      "execution_count": null,
      "metadata": {
        "colab": {
          "base_uri": "https://localhost:8080/",
          "height": 565
        },
        "id": "SVD-HFDStaEI",
        "outputId": "fc28f0b4-2026-4df9-f610-c77385a59ff6"
      },
      "outputs": [
        {
          "name": "stdout",
          "output_type": "stream",
          "text": [
            "mean=170.4, median=170.5\n"
          ]
        },
        {
          "data": {
            "image/png": "[encoded data removed]",
            "text/plain": [
              "<Figure size 432x288 with 1 Axes>"
            ]
          },
          "metadata": {
            "needs_background": "light"
          },
          "output_type": "display_data"
        },
        {
          "name": "stdout",
          "output_type": "stream",
          "text": [
            "after standartization\n",
            "mean=-0.00, median=0.02\n"
          ]
        },
        {
          "data": {
            "image/png": "[encoded data removed]",
            "text/plain": [
              "<Figure size 432x288 with 1 Axes>"
            ]
          },
          "metadata": {
            "needs_background": "light"
          },
          "output_type": "display_data"
        }
      ],
      "source": [
        "import matplotlib.pyplot as plt\n",
        "import numpy as np\n",
        "\n",
        "x = np.array([157, 159, 161, 164, 165, 166, 167, 167,\n",
        "167, 168, 169, 169, 170, 170, 170, 171, 171, 172, 172,\n",
        "172, 172, 173, 173, 175, 175, 177, 178, 178, 179, 185])\n",
        "print(f'mean={np.mean(x)}, median={np.median(x)}')\n",
        "plt.hist(x)\n",
        "plt.show()\n",
        "\n",
        "#Стандартизация (z-преобразование)\n",
        "print('after standartization')\n",
        "x = (x - np.mean(x)) / np.std(x)\n",
        "print(f'mean={np.mean(x):0.2f}, median={np.median(x):0.2f}')\n",
        "plt.hist(x)\n",
        "plt.show()"
      ]
    },
    {
      "cell_type": "markdown",
      "metadata": {
        "id": "i7Ic4Hl82Llk"
      },
      "source": [
        "## Центральная предельная теорема (Central limit theorem)"
      ]
    },
    {
      "cell_type": "markdown",
      "metadata": {
        "id": "To925QjnoswD"
      },
      "source": [
        "Рассчитайте стандартную ошибку среднего, если выборочное среднее равняется 10, дисперсия 4, при N = 100"
      ]
    },
    {
      "cell_type": "code",
      "execution_count": null,
      "metadata": {
        "id": "kGeGiA0MoswE",
        "outputId": "fc8638fa-a9dd-42d5-98e9-88f5fec0b2df"
      },
      "outputs": [
        {
          "name": "stdout",
          "output_type": "stream",
          "text": [
            "se=0.2\n"
          ]
        }
      ],
      "source": [
        "from math import sqrt\n",
        "\n",
        "D = 4\n",
        "n = 100\n",
        "\n",
        "se = sqrt(D) / sqrt(n)\n",
        "print(f'se={se}')"
      ]
    },
    {
      "cell_type": "markdown",
      "metadata": {
        "id": "mmuRbed8oswG"
      },
      "source": [
        "## Доверительные интервалы для среднего (confidence interval)"
      ]
    },
    {
      "cell_type": "markdown",
      "metadata": {
        "id": "BuLaZXAroswG"
      },
      "source": [
        "Если бы мы многократно извлекали выборки одинакового размера из генеральной совокупности, в каждой выборке рассчитывали среднее значение и для него свой 95%-ный доверительный интервал (т.е. mu+-1.96se), то в 95% всех случаев такой интервал включал бы в себя среднее значение генеральной совокупности\n",
        "mu - среднее выборки\n",
        "se - стандарная ошибка среднего (standard error)\n",
        "Рассчитаем доверительный интервал для наших выборочных данных:"
      ]
    },
    {
      "cell_type": "code",
      "execution_count": null,
      "metadata": {
        "id": "vwP9M4hOoswH",
        "outputId": "cec97f67-35d5-47b5-a471-fa2d051e7939"
      },
      "outputs": [
        {
          "data": {
            "image/png": "[encoded data removed]",
            "text/plain": [
              "<Figure size 432x288 with 1 Axes>"
            ]
          },
          "metadata": {
            "needs_background": "light"
          },
          "output_type": "display_data"
        },
        {
          "name": "stdout",
          "output_type": "stream",
          "text": [
            "se=0.5\n",
            "95%-ный доверительный интервал=(99.02, 100.98)\n"
          ]
        }
      ],
      "source": [
        "import numpy as np\n",
        "import matplotlib.pyplot as plt\n",
        "from math import sqrt\n",
        "\n",
        "mu, std, n = 100, 4, 64\n",
        "x = np.random.normal(mu, std, n)\n",
        "plt.hist(x)\n",
        "plt.show() \n",
        "\n",
        "se = std /  sqrt(n)\n",
        "print(f'se={se}')\n",
        "print(f'95%-ный доверительный интервал={mu - 1.96 * se, mu + 1.96 * se}')"
      ]
    },
    {
      "cell_type": "markdown",
      "metadata": {
        "id": "WWAXYATKoswI"
      },
      "source": [
        "99% всех наблюдений лежит в диапазоне mu+-2.58sigma (se - для рассчета доверительных интервалов выборочных данных)"
      ]
    },
    {
      "cell_type": "code",
      "execution_count": null,
      "metadata": {
        "id": "AZkOlbXRoswJ",
        "outputId": "897baa4f-30b6-4cb0-fdbc-335784290e0b"
      },
      "outputs": [
        {
          "data": {
            "image/png": "[encoded data removed]",
            "text/plain": [
              "<Figure size 432x288 with 1 Axes>"
            ]
          },
          "metadata": {
            "needs_background": "light"
          },
          "output_type": "display_data"
        },
        {
          "name": "stdout",
          "output_type": "stream",
          "text": [
            "se=0.5\n",
            "99%-ный доверительный интервал=(8.71, 11.29)\n"
          ]
        }
      ],
      "source": [
        "import numpy as np\n",
        "import matplotlib.pyplot as plt\n",
        "from math import sqrt\n",
        "\n",
        "mu, std, n = 10, 5, 100\n",
        "x = np.random.normal(mu, std, n)\n",
        "plt.hist(x)\n",
        "plt.show() \n",
        "\n",
        "se = std /  sqrt(n)\n",
        "print(f'se={se}')\n",
        "print(f'99%-ный доверительный интервал={mu - 2.58 * se, mu + 2.58 * se}')"
      ]
    },
    {
      "cell_type": "markdown",
      "metadata": {
        "id": "ghbA-JWBoswK"
      },
      "source": [
        "## Идея статистического вывода, p-уровень значимости (p-value)"
      ]
    },
    {
      "cell_type": "markdown",
      "metadata": {
        "id": "pb1nFOoMoven"
      },
      "source": [
        "Идея статистического вывода\n",
        "Предположим, что для выздоровления от некоторого заболевания в среднем требуется 20 дней. Однако мы разработали препарат и хотим проверить, можно ли сократить этот срок. Мы набрали группу пациентов из 64 человек и опробовали на них новый метод лечения. Оказалось, что средний срок выздоровления сократился до 18,5 дней при стандартном отклонении 4. Нужно определить: это влияние нового препарата или случайность?\n",
        "\n",
        "Давайте введём две конкурирующих гипотезы:\n",
        "Нулевая гипотеза H0 будет говорить о том, что никакого влияния препарат не оказывает и среднее M=20\n",
        "Альтернативная гипотеза H1 утверждает, что препарат сокращает время выздоровления и среднее M=18,5 дней\n",
        "\n",
        "Предположим, что верна нулевая гипотеза. Тогда в соответствии с центральной предельной теоремой, если бы мы многократно повторяли наши исследования, то выборочные средние распределились нормальным образом вокруг среднего генеральной совокупности со стандартной ошибкой среднего se = std / sqrt(n)"
      ]
    },
    {
      "cell_type": "code",
      "execution_count": null,
      "metadata": {
        "id": "uYW6i1g6q128",
        "outputId": "faf16ff5-eef0-4103-81d6-ea5eb84b033a"
      },
      "outputs": [
        {
          "name": "stdout",
          "output_type": "stream",
          "text": [
            "se=0.5\n"
          ]
        }
      ],
      "source": [
        "from math import sqrt\n",
        "\n",
        "M, n, mu, std = 20, 64, 18.5, 4\n",
        "\n",
        "se = std / sqrt(n)\n",
        "print(f\"se={se}\")"
      ]
    },
    {
      "cell_type": "markdown",
      "metadata": {
        "id": "cV5Q1qUNa5J-"
      },
      "source": [
        "Ответим на вопрос: на сколько наше выборочное среднее отклонилось от предполагаемого среднего генеральной совокупности в единицах стандартного отклонения (sigma)?\n",
        "Для этого сделаем z-преобразование"
      ]
    },
    {
      "cell_type": "code",
      "execution_count": null,
      "metadata": {
        "id": "mdhWv8xia5J_",
        "outputId": "7502a0ed-4ee3-4580-992e-d0ce5f2f59df"
      },
      "outputs": [
        {
          "name": "stdout",
          "output_type": "stream",
          "text": [
            "z=-3.0\n"
          ]
        }
      ],
      "source": [
        "z = (mu - M) / se\n",
        "print(f\"z={z}\")"
      ]
    },
    {
      "cell_type": "markdown",
      "metadata": {
        "id": "w9AY5x6ga5J_"
      },
      "source": [
        "Это означает, что, если бы среднее ген совокупности (M) равнялось 20, то наше выборочное среднее (mu) отклонилось от M на -3*sigma\n",
        "\n",
        "Воспользовавшись сервисом https://gallery.shinyapps.io/dist_calc/\n",
        "установив \n",
        "mean=0, \n",
        "standard deviation = 1\n",
        "both tails: a = -3, b = 3\n",
        "\n",
        "Получим, что вероятность получить такое отклонение (3*sigma в обе стороны) P = 0.0027\n",
        "\n",
        "Подведем итоги: на первом этапе мы предположили, что верно нулевая гипотеза. Если это так, то все выборочные средние распределились бы нормальным образом вокруг среднего ген совокупности (M=20). Но при этом вероятность получить наше выборочное среднее оказалась равно примерно 0.003.\n",
        "Таким образом, основная идея статистического вывода заключается в следующем:\n",
        "\n",
        "Сначала мы допускаем, что верна нулевая гипотеза (т.е. никаких различий и взаимосвязей в генеральной совокупности нет). После этого мы сможем рассчитывать, что мы получили такие или ещё более выраженные различия абсолютно случайно. Эта вероятность в статистике называется p-уровень значимости. С помощью этого показателя можно выбрать более состоятельную гипотезу. Чем меньше p-уровень значимости, тем больше у исследователя оснований отклонить нулевую гипотезу. Считается, если p<0.05, можно смело принимать альтернативную гипотезу. Однако, если p>0.05, считается, что у нас недостаточно оснований отклонить нулевую гипотезу"
      ]
    },
    {
      "cell_type": "markdown",
      "source": [
        "## Идея статистического вывода с помощью доверительных интервалов (p-value vs confidence interval)"
      ],
      "metadata": {
        "id": "dqMn8ofpcCtF"
      }
    },
    {
      "cell_type": "markdown",
      "source": [
        "Использование доверительных интервалов зачастую рассматривают, как альтернативный способ проверки гипотез. В нашем случае, если значение 20 (предполагаемое среднее значение в генеральной совокупности) не будет принадлежать 95% доверительному интервалу, рассчитанному по выборочным данным, у нас будет достаточно оснований отклонить нулевую гипотезу. Проверьте согласуются ли результаты двух этих подходов: рассчитайте 95% доверительный интервал для среднего значения, на примере с тестированием нового препарата.\n",
        "\n",
        "n = 64,  sd = 4,   M = 18.5"
      ],
      "metadata": {
        "id": "9Sqc5wAzcEkK"
      }
    },
    {
      "cell_type": "code",
      "source": [
        "from math import sqrt\n",
        "\n",
        "mu, std, n = 18.5, 4, 64\n",
        "\n",
        "se = std /  sqrt(n)\n",
        "print(f'se={se}')\n",
        "print(f'95%-ный доверительный интервал={mu - 1.96 * se, mu + 1.96 * se}')"
      ],
      "metadata": {
        "id": "USVS0HLicvn5",
        "outputId": "85935b98-3a4f-403e-b3be-bd344374dc21",
        "colab": {
          "base_uri": "https://localhost:8080/"
        }
      },
      "execution_count": null,
      "outputs": [
        {
          "output_type": "stream",
          "name": "stdout",
          "text": [
            "se=0.5\n",
            "95%-ный доверительный интервал=(17.52, 19.48)\n"
          ]
        }
      ]
    },
    {
      "cell_type": "markdown",
      "source": [
        "20 не принадлежит доверительному интервалу - отклоняем H0"
      ],
      "metadata": {
        "id": "ykWheoradP83"
      }
    },
    {
      "cell_type": "markdown",
      "source": [
        "# Сравнение средних"
      ],
      "metadata": {
        "id": "ggYnrFJOCDmu"
      }
    },
    {
      "cell_type": "markdown",
      "source": [
        "## сравнение двух средних, t-критерий Стьюдента (Student's t-test)"
      ],
      "metadata": {
        "id": "ygx_72IsCTHu"
      }
    },
    {
      "cell_type": "markdown",
      "source": [
        "Процесс денатурации ДНК представляет разрушение водородных связей между двумя цепями этой молекулы и очень сильно зависит от воздействующей на них температуры.\n",
        "\n",
        "При сравнении двух видов были получены следующие значения температуры плавления образца:"
      ],
      "metadata": {
        "id": "oGoeKsrzCdoj"
      }
    },
    {
      "cell_type": "code",
      "source": [
        "mu_1, std_1, n_1 = 89.9, 11.3, 20\n",
        "mu_2, std_2, n_2 = 80.7, 11.7, 20"
      ],
      "metadata": {
        "id": "L8nALA2VD2cQ"
      },
      "execution_count": 40,
      "outputs": []
    },
    {
      "cell_type": "markdown",
      "source": [
        "Предположим 2 гипотезы:\n",
        "\n",
        "H0 - М1=М2, оба вида принадлежат одной генеральной совокупности\n",
        "\n",
        "H1 - М1!=М2, оба вида принадлежат разным генеральным совокупностям\n",
        "\n",
        "Проверяем H0: разница M0-M1 должна распределиться нормально с средним в нуле\n",
        "\n",
        "Определим на сколько сигма отклоняется разница наших выборочных средних от разницы средних генеральных совокупностей (0):"
      ],
      "metadata": {
        "id": "2Hj_i7zsZa5Q"
      }
    },
    {
      "cell_type": "code",
      "source": [
        "from math import sqrt\n",
        "\n",
        "se = sqrt((std_1**2) / n_1 + (std_2**2) / n_2)\n",
        "print(f'se = {se:.01f}')\n",
        "\n",
        "t = (mu_1 - mu_2) / se\n",
        "print(f't = {t:.01f}')\n",
        "print(f'Degrees of freedom={n_1 + n_2 - 2}')"
      ],
      "metadata": {
        "id": "54mij_xUaqEg",
        "outputId": "8176f354-860b-46b4-c046-0c0f29f48481",
        "colab": {
          "base_uri": "https://localhost:8080/"
        }
      },
      "execution_count": 47,
      "outputs": [
        {
          "output_type": "stream",
          "name": "stdout",
          "text": [
            "se = 3.6\n",
            "t = 2.5\n",
            "Degrees of freedom=38\n"
          ]
        }
      ]
    },
    {
      "cell_type": "markdown",
      "source": [
        "Воспользовавшись сервисом https://gallery.shinyapps.io/dist_calc/ выбрав t-распределение и установив Degrees of freedom=38, both tails: a = -2.5, b = 2.5\n",
        "\n",
        "получим p-value: P(X < -2.5 or X > 2.5) = 0.0169, что меньше 0,05"
      ],
      "metadata": {
        "id": "jHVdYDknj4fk"
      }
    },
    {
      "cell_type": "code",
      "source": [
        ""
      ],
      "metadata": {
        "id": "B9Qgjim_lH0O"
      },
      "execution_count": null,
      "outputs": []
    }
  ],
  "metadata": {
    "colab": {
      "name": "statistics_basics(stepik).ipynb",
      "provenance": []
    },
    "kernelspec": {
      "display_name": "Python 3.9.12 ('base')",
      "language": "python",
      "name": "python3"
    },
    "language_info": {
      "codemirror_mode": {
        "name": "ipython",
        "version": 3
      },
      "file_extension": ".py",
      "mimetype": "text/x-python",
      "name": "python",
      "nbconvert_exporter": "python",
      "pygments_lexer": "ipython3",
      "version": "3.9.12"
    },
    "vscode": {
      "interpreter": {
        "hash": "c9f85a49a774e89aef9a12c10c27d86197139bab5c2fb9d43c737ab52e1d2267"
      }
    }
  },
  "nbformat": 4,
  "nbformat_minor": 0
}