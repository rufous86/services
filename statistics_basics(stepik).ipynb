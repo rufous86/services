{
  "nbformat": 4,
  "nbformat_minor": 0,
  "metadata": {
    "colab": {
      "name": "statistics_basics(stepik).ipynb",
      "provenance": [],
      "authorship_tag": "ABX9TyPlkcUiW4dvWlb214gyIYc2"
    },
    "kernelspec": {
      "name": "python3",
      "display_name": "Python 3"
    },
    "language_info": {
      "name": "python"
    }
  },
  "cells": [
    {
      "cell_type": "markdown",
      "source": [
        "# Введение"
      ],
      "metadata": {
        "id": "yxh4oszeg9nH"
      }
    },
    {
      "cell_type": "markdown",
      "source": [
        "## меры изменчивости"
      ],
      "metadata": {
        "id": "1ApuO8AohEqb"
      }
    },
    {
      "cell_type": "code",
      "execution_count": null,
      "metadata": {
        "colab": {
          "base_uri": "https://localhost:8080/"
        },
        "id": "25XLibp5eT_9",
        "outputId": "2805acf2-40d6-4a03-8e02-01fc60ec9c31"
      },
      "outputs": [
        {
          "output_type": "stream",
          "name": "stdout",
          "text": [
            "3.1622776601683795\n"
          ]
        }
      ],
      "source": [
        "# standard deviation\n",
        "import numpy as np\n",
        "\n",
        "a = np.array([1, 5, 2, 7, 1, 9, 3, 8, 5, 9])\n",
        "n = len(a)\n",
        "mu = sum(a) / n\n",
        "D = sum((a - mu)**2) / (n-1)\n",
        "std = D**(1/2)\n",
        "print(std) # standard deviation"
      ]
    }
  ]
}