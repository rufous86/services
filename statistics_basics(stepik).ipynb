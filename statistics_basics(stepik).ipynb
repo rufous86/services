{
  "cells": [
    {
      "cell_type": "markdown",
      "metadata": {
        "id": "yxh4oszeg9nH"
      },
      "source": [
        "# Введение"
      ]
    },
    {
      "cell_type": "markdown",
      "metadata": {
        "id": "1ApuO8AohEqb"
      },
      "source": [
        "## меры изменчивости"
      ]
    },
    {
      "cell_type": "code",
      "execution_count": null,
      "metadata": {
        "colab": {
          "base_uri": "https://localhost:8080/"
        },
        "id": "25XLibp5eT_9",
        "outputId": "2805acf2-40d6-4a03-8e02-01fc60ec9c31"
      },
      "outputs": [
        {
          "name": "stdout",
          "output_type": "stream",
          "text": [
            "std=3.16\n"
          ]
        }
      ],
      "source": [
        "# standard deviation\n",
        "import numpy as np\n",
        "\n",
        "a = np.array([1, 5, 2, 7, 1, 9, 3, 8, 5, 9])\n",
        "n = len(a)\n",
        "mu = sum(a) / n\n",
        "D = sum((a - mu)**2) / (n-1)\n",
        "std = D**(1/2)\n",
        "print(f'std={std:0.2f}') # standard deviation"
      ]
    },
    {
      "cell_type": "markdown",
      "metadata": {
        "id": "HOnHhSdjlf9z"
      },
      "source": [
        "## квартили распределения, график box-plot"
      ]
    },
    {
      "cell_type": "code",
      "execution_count": 1,
      "metadata": {
        "id": "HBelpvB4lr6L",
        "outputId": "9c3b63df-e0d4-4ee8-b0a0-963ddcf310e4",
        "colab": {
          "base_uri": "https://localhost:8080/",
          "height": 282
        }
      },
      "outputs": [
        {
          "output_type": "stream",
          "name": "stdout",
          "text": [
            "mean=170.4, median=170.5\n"
          ]
        },
        {
          "output_type": "display_data",
          "data": {
            "text/plain": [
              "<Figure size 432x288 with 1 Axes>"
            ],
            "image/png": "[encoded data removed]"
          },
          "metadata": {
            "needs_background": "light"
          }
        }
      ],
      "source": [
        "import matplotlib.pyplot as plt\n",
        "import numpy as np\n",
        "\n",
        "x = np.array([157, 159, 161, 164, 165, 166, 167, 167,\n",
        "167, 168, 169, 169, 170, 170, 170, 171, 171, 172, 172,\n",
        "172, 172, 173, 173, 175, 175, 177, 178, 178, 179, 185])\n",
        "print(f'mean={np.mean(x)}, median={np.median(x)}')\n",
        "\n",
        "plt.boxplot(x)\n",
        "plt.show()"
      ]
    },
    {
      "cell_type": "markdown",
      "metadata": {
        "id": "NFObPQBAtWjB"
      },
      "source": [
        "## Нормальное распределение (Normal distribution)"
      ]
    },
    {
      "cell_type": "code",
      "source": [
        "import matplotlib.pyplot as plt\n",
        "import numpy as np\n",
        "\n",
        "x = np.array([157, 159, 161, 164, 165, 166, 167, 167,\n",
        "167, 168, 169, 169, 170, 170, 170, 171, 171, 172, 172,\n",
        "172, 172, 173, 173, 175, 175, 177, 178, 178, 179, 185])\n",
        "\n",
        "x = x - \n",
        "print(f'mean={np.mean(x)}, median={np.median(x)}')"
      ],
      "metadata": {
        "id": "SVD-HFDStaEI"
      },
      "execution_count": null,
      "outputs": []
    }
  ],
  "metadata": {
    "colab": {
      "name": "statistics_basics(stepik).ipynb",
      "provenance": []
    },
    "kernelspec": {
      "display_name": "Python 3.9.12 ('base')",
      "language": "python",
      "name": "python3"
    },
    "language_info": {
      "codemirror_mode": {
        "name": "ipython",
        "version": 3
      },
      "file_extension": ".py",
      "mimetype": "text/x-python",
      "name": "python",
      "nbconvert_exporter": "python",
      "pygments_lexer": "ipython3",
      "version": "3.9.12"
    },
    "vscode": {
      "interpreter": {
        "hash": "c9f85a49a774e89aef9a12c10c27d86197139bab5c2fb9d43c737ab52e1d2267"
      }
    }
  },
  "nbformat": 4,
  "nbformat_minor": 0
}