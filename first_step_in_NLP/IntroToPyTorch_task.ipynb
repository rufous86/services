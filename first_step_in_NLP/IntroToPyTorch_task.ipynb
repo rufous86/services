{
  "cells": [
    {
      "cell_type": "markdown",
      "source": [
        "# Знакомство с PyTorch"
      ],
      "metadata": {
        "id": "r_a9kwC_ISKE"
      }
    },
    {
      "cell_type": "markdown",
      "metadata": {
        "id": "i1hv5i-PkRLO"
      },
      "source": [
        "Сейчас мы познакомимся с библиотекой *PyTorch*. Он очень похож на *NumPy*, и сейчас вы в этом убедитесь!\n",
        "\n",
        "А почему именно *PyTorch*? Почитать можно [здесь](https://habr.com/ru/post/334380/)."
      ]
    },
    {
      "cell_type": "markdown",
      "source": [
        "## Вспоминаем *NumPy* и сравниваем операции в *PyTorch*"
      ],
      "metadata": {
        "id": "A7GbQRcUIkT4"
      }
    },
    {
      "cell_type": "markdown",
      "metadata": {
        "id": "9Y0oUAuhkRLX"
      },
      "source": [
        "Мы можем создавать матрицы, перемножать их, складывать, транспонировать и в целом совершать любые матричные операции"
      ]
    },
    {
      "cell_type": "code",
      "execution_count": null,
      "metadata": {
        "id": "3m6fDtKlkRLZ"
      },
      "outputs": [],
      "source": [
        "import numpy as np \n",
        "\n",
        "import torch\n",
        "import torchvision\n",
        "\n",
        "import torch.nn as nn\n",
        "import torch.nn.functional as F\n",
        "\n",
        "import matplotlib.pyplot as plt"
      ]
    },
    {
      "cell_type": "code",
      "execution_count": null,
      "metadata": {
        "colab": {
          "base_uri": "https://localhost:8080/"
        },
        "id": "nKJ_eIf9kRLc",
        "outputId": "0f520e93-9272-4482-8e82-07fb0f2af982"
      },
      "outputs": [
        {
          "output_type": "execute_result",
          "data": {
            "text/plain": [
              "array([[0.37454012, 0.95071431, 0.73199394],\n",
              "       [0.59865848, 0.15601864, 0.15599452],\n",
              "       [0.05808361, 0.86617615, 0.60111501],\n",
              "       [0.70807258, 0.02058449, 0.96990985],\n",
              "       [0.83244264, 0.21233911, 0.18182497]])"
            ]
          },
          "metadata": {},
          "execution_count": 2
        }
      ],
      "source": [
        "np.random.seed(42)\n",
        "\n",
        "a = np.random.rand(5, 3) # создали случайную матрицу \n",
        "a"
      ]
    },
    {
      "cell_type": "code",
      "execution_count": null,
      "metadata": {
        "colab": {
          "base_uri": "https://localhost:8080/"
        },
        "id": "m7QzfmpNkRLd",
        "outputId": "fe3306f4-42da-4291-fab0-6f27c8890cda"
      },
      "outputs": [
        {
          "output_type": "stream",
          "name": "stdout",
          "text": [
            "Проверили размеры : (5, 3)\n",
            "\n"
          ]
        }
      ],
      "source": [
        "print(\"Проверили размеры : %s\\n\" % (a.shape,))"
      ]
    },
    {
      "cell_type": "code",
      "execution_count": null,
      "metadata": {
        "colab": {
          "base_uri": "https://localhost:8080/"
        },
        "id": "iSH48GyMkRLe",
        "outputId": "299fe457-6ce4-47cc-ece0-459184ae0079"
      },
      "outputs": [
        {
          "output_type": "stream",
          "name": "stdout",
          "text": [
            "Добавили 5 :\n",
            "[[5.37454012 5.95071431 5.73199394]\n",
            " [5.59865848 5.15601864 5.15599452]\n",
            " [5.05808361 5.86617615 5.60111501]\n",
            " [5.70807258 5.02058449 5.96990985]\n",
            " [5.83244264 5.21233911 5.18182497]]\n",
            "\n"
          ]
        }
      ],
      "source": [
        "print(\"Добавили 5 :\\n%s\\n\" % (a + 5))"
      ]
    },
    {
      "cell_type": "markdown",
      "source": [
        "## Задание"
      ],
      "metadata": {
        "id": "5PQpPyl-eNWC"
      }
    },
    {
      "cell_type": "markdown",
      "source": [
        "Умножьте матрицу `а` на транспонированную матрицу `а`.  \n",
        "\n",
        "Чему равен самый первый элемент результата?  \n",
        "Ответ округлите до сотых."
      ],
      "metadata": {
        "id": "Q-Xs6jUiJUqc"
      }
    },
    {
      "cell_type": "code",
      "execution_count": null,
      "metadata": {
        "id": "3PH52x_pkRLf"
      },
      "outputs": [],
      "source": [
        "# your code here"
      ]
    },
    {
      "cell_type": "code",
      "execution_count": null,
      "metadata": {
        "colab": {
          "base_uri": "https://localhost:8080/"
        },
        "id": "NdmpOlEZkRLg",
        "outputId": "b2e2bd76-9d43-466b-e9f3-b026855bbeb5"
      },
      "outputs": [
        {
          "output_type": "stream",
          "name": "stdout",
          "text": [
            "Среднее по колонкам :\n",
            "[0.68574946 0.30355721 0.50845826 0.56618897 0.40886891]\n",
            "\n"
          ]
        }
      ],
      "source": [
        "print(\"Среднее по колонкам :\\n%s\\n\" % (a.mean(axis=-1)))"
      ]
    },
    {
      "cell_type": "code",
      "execution_count": null,
      "metadata": {
        "colab": {
          "base_uri": "https://localhost:8080/"
        },
        "id": "4jbmtVfLkRLh",
        "outputId": "6684a52d-0060-4677-93fc-c52a78481f95"
      },
      "outputs": [
        {
          "output_type": "stream",
          "name": "stdout",
          "text": [
            "Изменили размеры :\n",
            "(3, 5)\n",
            "\n"
          ]
        }
      ],
      "source": [
        "print(\"Изменили размеры :\\n%s\\n\" % (a.reshape(3, 5).shape,))"
      ]
    },
    {
      "cell_type": "markdown",
      "metadata": {
        "id": "gOccPs9wkRLi"
      },
      "source": [
        "## Задание\n",
        "\n",
        "При помощи *NumPy* посчитайте сумму квадратов натуральных чисел от 1 до 10000."
      ]
    },
    {
      "cell_type": "code",
      "execution_count": null,
      "metadata": {
        "id": "AXxc0OADkRLi"
      },
      "outputs": [],
      "source": [
        "# your code here"
      ]
    },
    {
      "cell_type": "markdown",
      "metadata": {
        "id": "e0k_uiiokRLj"
      },
      "source": [
        "Аналогичные операции в *PyTorch* выглядят следующим образом, синтаксис отличается, но совсем немного:"
      ]
    },
    {
      "cell_type": "code",
      "execution_count": null,
      "metadata": {
        "colab": {
          "base_uri": "https://localhost:8080/"
        },
        "id": "PWv2AHRykRLk",
        "outputId": "7bf4835a-5ddc-4c7c-fc16-347af4f22241"
      },
      "outputs": [
        {
          "output_type": "execute_result",
          "data": {
            "text/plain": [
              "tensor([[7.3177e-01, 2.5917e-01, 9.9112e-01],\n",
              "        [3.8936e-01, 4.0239e-01, 3.5546e-01],\n",
              "        [8.3254e-01, 2.9720e-01, 5.2920e-01],\n",
              "        [3.9288e-01, 2.0885e-04, 9.4136e-02],\n",
              "        [4.3311e-01, 6.4902e-01, 4.8439e-02]])"
            ]
          },
          "metadata": {},
          "execution_count": 9
        }
      ],
      "source": [
        "x = torch.rand(5, 3)\n",
        "x"
      ]
    },
    {
      "cell_type": "code",
      "execution_count": null,
      "metadata": {
        "colab": {
          "base_uri": "https://localhost:8080/"
        },
        "id": "fjNGDbtPkRLk",
        "outputId": "bad22419-49ef-4e6d-c604-f7b036e3a57a"
      },
      "outputs": [
        {
          "output_type": "stream",
          "name": "stdout",
          "text": [
            "Проверили размеры : torch.Size([5, 3])\n",
            "\n"
          ]
        }
      ],
      "source": [
        "print(\"Проверили размеры : %s\\n\" % (x.shape,))"
      ]
    },
    {
      "cell_type": "code",
      "execution_count": null,
      "metadata": {
        "colab": {
          "base_uri": "https://localhost:8080/"
        },
        "id": "DALGo7QHkRLl",
        "outputId": "8a4f0f5f-c30a-48dc-d13d-93aec2bcb166"
      },
      "outputs": [
        {
          "output_type": "stream",
          "name": "stdout",
          "text": [
            "Добавили 5 :\n",
            "tensor([[5.7318, 5.2592, 5.9911],\n",
            "        [5.3894, 5.4024, 5.3555],\n",
            "        [5.8325, 5.2972, 5.5292],\n",
            "        [5.3929, 5.0002, 5.0941],\n",
            "        [5.4331, 5.6490, 5.0484]])\n",
            "\n"
          ]
        }
      ],
      "source": [
        "print(\"Добавили 5 :\\n%s\\n\" % (x + 5))"
      ]
    },
    {
      "cell_type": "code",
      "execution_count": null,
      "metadata": {
        "colab": {
          "base_uri": "https://localhost:8080/"
        },
        "id": "gm7QOaAQkRLm",
        "outputId": "04916544-d5b3-49c0-d448-464b78f36651"
      },
      "outputs": [
        {
          "output_type": "stream",
          "name": "stdout",
          "text": [
            "X*X^T  (1):\n",
            "tensor([[1.5850, 0.7415, 1.2107, 0.3809, 0.5332],\n",
            "        [0.7415, 0.4399, 0.6319, 0.1865, 0.4470],\n",
            "        [1.2107, 0.6319, 1.0615, 0.3770, 0.5791],\n",
            "        [0.3809, 0.1865, 0.3770, 0.1632, 0.1749],\n",
            "        [0.5332, 0.4470, 0.5791, 0.1749, 0.6112]])\n",
            "\n",
            "X*X^T  (2):\n",
            "tensor([[1.5850, 0.7415, 1.2107, 0.3809, 0.5332],\n",
            "        [0.7415, 0.4399, 0.6319, 0.1865, 0.4470],\n",
            "        [1.2107, 0.6319, 1.0615, 0.3770, 0.5791],\n",
            "        [0.3809, 0.1865, 0.3770, 0.1632, 0.1749],\n",
            "        [0.5332, 0.4470, 0.5791, 0.1749, 0.6112]])\n",
            "\n"
          ]
        }
      ],
      "source": [
        "print(\"X*X^T  (1):\\n%s\\n\" % (torch.matmul(x, x.transpose(1, 0))))\n",
        "print(\"X*X^T  (2):\\n%s\\n\" % (x.mm(x.t())))"
      ]
    },
    {
      "cell_type": "code",
      "execution_count": null,
      "metadata": {
        "colab": {
          "base_uri": "https://localhost:8080/"
        },
        "id": "9MlA4NnokRLm",
        "outputId": "87e81400-ae87-41ca-e166-c057561f9bd6"
      },
      "outputs": [
        {
          "output_type": "stream",
          "name": "stdout",
          "text": [
            "Среднее по колонкам :\n",
            "tensor([0.6607, 0.3824, 0.5530, 0.1624, 0.3769])\n",
            "\n"
          ]
        }
      ],
      "source": [
        "print(\"Среднее по колонкам :\\n%s\\n\" % (x.mean(dim=-1)))"
      ]
    },
    {
      "cell_type": "code",
      "execution_count": null,
      "metadata": {
        "colab": {
          "base_uri": "https://localhost:8080/"
        },
        "id": "1wqQTDpOkRLn",
        "outputId": "d3e04dd1-ae6c-4dd8-ea2b-09dda44b4542"
      },
      "outputs": [
        {
          "output_type": "stream",
          "name": "stdout",
          "text": [
            "Изменили размеры :\n",
            "torch.Size([3, 5])\n",
            "\n",
            "Изменили размеры :\n",
            "torch.Size([3, 5])\n",
            "\n"
          ]
        }
      ],
      "source": [
        "print(\"Изменили размеры :\\n%s\\n\" % (x.view([3, 5]).shape,))\n",
        "print(\"Изменили размеры :\\n%s\\n\" % (x.view_as(x.t()).shape,))"
      ]
    },
    {
      "cell_type": "markdown",
      "metadata": {
        "id": "EtnLnIxPkRLn"
      },
      "source": [
        "Небольшой пример того, как меняются операции:\n",
        "\n",
        "* `x.reshape([1,2,8]) -> x.view(1,2,8)`\n",
        "\n",
        "* `x.sum(axis=-1) -> x.sum(dim=-1)`\n",
        "\n",
        "* `x.astype('int64') -> x.type(torch.LongTensor)`\n",
        "\n",
        "Для помощи вам есть [таблица](https://github.com/torch/torch7/wiki/Torch-for-Numpy-users), которая поможет вам найти аналог операции в *NumPy*.\n"
      ]
    },
    {
      "cell_type": "markdown",
      "metadata": {
        "id": "V-QMteahkRLo"
      },
      "source": [
        "При помощи *PyTorch* посчитаем сумму квадратов натуральных чисел от 1 до 10000."
      ]
    },
    {
      "cell_type": "code",
      "execution_count": null,
      "metadata": {
        "colab": {
          "base_uri": "https://localhost:8080/"
        },
        "id": "rHzmts5AkRLo",
        "outputId": "29a48bf1-9175-4d2b-85b7-81c7cb7305ba"
      },
      "outputs": [
        {
          "output_type": "stream",
          "name": "stderr",
          "text": [
            "<ipython-input-15-b9d129fd8adb>:1: UserWarning: torch.range is deprecated and will be removed in a future release because its behavior is inconsistent with Python's range builtin. Instead, use torch.arange, which produces values in [start, end).\n",
            "  torch.sum(torch.range(1, 10000) ** 2)\n"
          ]
        },
        {
          "output_type": "execute_result",
          "data": {
            "text/plain": [
              "tensor(3.3338e+11)"
            ]
          },
          "metadata": {},
          "execution_count": 15
        }
      ],
      "source": [
        "torch.sum(torch.range(1, 10000) ** 2)"
      ]
    },
    {
      "cell_type": "markdown",
      "metadata": {
        "id": "-ebxkKPikRLp"
      },
      "source": [
        "Создаем тензоры в *PyTorch* и снова изучаем базовые операции"
      ]
    },
    {
      "cell_type": "code",
      "execution_count": null,
      "metadata": {
        "colab": {
          "base_uri": "https://localhost:8080/"
        },
        "id": "lnxk_oJZkRLq",
        "outputId": "b8e02bcc-3e17-4c89-f222-263979176792"
      },
      "outputs": [
        {
          "output_type": "stream",
          "name": "stdout",
          "text": [
            "tensor([[7.0251e-34, 0.0000e+00, 3.5032e-44],\n",
            "        [0.0000e+00,        nan, 2.3694e-38],\n",
            "        [1.1578e+27, 7.1463e+22, 4.6241e+30],\n",
            "        [1.0552e+24, 5.5757e-02, 1.8728e+31],\n",
            "        [5.9571e-02, 7.0374e+22, 3.4548e-09]])\n"
          ]
        }
      ],
      "source": [
        "x = torch.empty(5, 3) # пустой тензор\n",
        "print(x)"
      ]
    },
    {
      "cell_type": "code",
      "execution_count": null,
      "metadata": {
        "colab": {
          "base_uri": "https://localhost:8080/"
        },
        "id": "fKAtmLU1kRLr",
        "outputId": "53537c39-a947-4d4f-e4b0-237a318df957"
      },
      "outputs": [
        {
          "output_type": "stream",
          "name": "stdout",
          "text": [
            "tensor([[0.6397, 0.0819, 0.0936],\n",
            "        [0.3876, 0.8394, 0.1254],\n",
            "        [0.4246, 0.2452, 0.7437],\n",
            "        [0.6118, 0.9102, 0.8507],\n",
            "        [0.8313, 0.8549, 0.7527]])\n"
          ]
        }
      ],
      "source": [
        "x = torch.rand(5, 3) # тензор со случайными числами\n",
        "print(x)"
      ]
    },
    {
      "cell_type": "code",
      "execution_count": null,
      "metadata": {
        "colab": {
          "base_uri": "https://localhost:8080/"
        },
        "id": "xSMg9XO5kRLr",
        "outputId": "891c8a49-eff5-4bc6-e748-9b828baffa07"
      },
      "outputs": [
        {
          "output_type": "stream",
          "name": "stdout",
          "text": [
            "tensor([[0, 0, 0],\n",
            "        [0, 0, 0],\n",
            "        [0, 0, 0],\n",
            "        [0, 0, 0],\n",
            "        [0, 0, 0]])\n"
          ]
        }
      ],
      "source": [
        "x = torch.zeros(5, 3, dtype=torch.long) # тензор с нулями и указанием типов чисел\n",
        "print(x)"
      ]
    },
    {
      "cell_type": "code",
      "execution_count": null,
      "metadata": {
        "colab": {
          "base_uri": "https://localhost:8080/"
        },
        "id": "FQlyXpO1kRLs",
        "outputId": "dcb1f50e-cd92-46bc-bfda-95224eedc6f5"
      },
      "outputs": [
        {
          "output_type": "stream",
          "name": "stdout",
          "text": [
            "tensor([5.5000, 3.0000])\n"
          ]
        }
      ],
      "source": [
        "x = torch.tensor([5.5, 3]) # конструируем тензор из питоновского листа\n",
        "print(x)"
      ]
    },
    {
      "cell_type": "code",
      "execution_count": null,
      "metadata": {
        "colab": {
          "base_uri": "https://localhost:8080/"
        },
        "id": "9upBvFU3kRLs",
        "outputId": "2e364966-8c30-4579-fc56-f041f3657277"
      },
      "outputs": [
        {
          "output_type": "stream",
          "name": "stdout",
          "text": [
            "tensor([[1., 1., 1.],\n",
            "        [1., 1., 1.],\n",
            "        [1., 1., 1.],\n",
            "        [1., 1., 1.],\n",
            "        [1., 1., 1.]], dtype=torch.float64) torch.Size([5, 3])\n"
          ]
        }
      ],
      "source": [
        "x = x.new_ones(5, 3, dtype=torch.double) # используем уже созданный тензор для создания тензора из единичек\n",
        "print(x, x.size()) "
      ]
    },
    {
      "cell_type": "code",
      "execution_count": null,
      "metadata": {
        "colab": {
          "base_uri": "https://localhost:8080/"
        },
        "id": "_u-h30lYkRLt",
        "outputId": "91f3a359-1e5f-4328-c2ce-6683c8b292c1"
      },
      "outputs": [
        {
          "output_type": "stream",
          "name": "stdout",
          "text": [
            "tensor([[ 0.4919,  1.2069,  0.9834],\n",
            "        [ 2.4226, -0.9138,  1.8904],\n",
            "        [-0.4267, -1.5911, -1.0336],\n",
            "        [ 1.5065,  1.1856,  0.0405],\n",
            "        [-0.4549,  0.1618, -1.0552]]) torch.Size([5, 3])\n"
          ]
        }
      ],
      "source": [
        "x = torch.randn_like(x, dtype=torch.float) # создаем матрицу с размерами как у x\n",
        "print(x, x.size())"
      ]
    },
    {
      "cell_type": "markdown",
      "source": [
        "## Задание"
      ],
      "metadata": {
        "id": "nct86OE6Lzdt"
      }
    },
    {
      "cell_type": "markdown",
      "source": [
        "Сгенерируйте два тензора: `x` и `y` размера 5 на 3 со случайными числами.\n",
        "Вычислите сумму тензоров `x` и `y`.\n",
        "\n",
        "В ответе напишите значение первой координаты в полученной суммы, округленной до сотых."
      ],
      "metadata": {
        "id": "VdZOcgoafJdK"
      }
    },
    {
      "cell_type": "code",
      "execution_count": null,
      "metadata": {
        "colab": {
          "base_uri": "https://localhost:8080/"
        },
        "id": "f-zCf-MhkRLt",
        "outputId": "7cbacd8f-995a-4e36-c046-9adaa1562ae3"
      },
      "outputs": [
        {
          "output_type": "execute_result",
          "data": {
            "text/plain": [
              "<torch._C.Generator at 0x7f32951bc410>"
            ]
          },
          "metadata": {},
          "execution_count": 22
        }
      ],
      "source": [
        "torch.manual_seed(42)\n",
        "\n",
        "# your code here"
      ]
    },
    {
      "cell_type": "code",
      "execution_count": null,
      "metadata": {
        "id": "fwOv0PQykRLw"
      },
      "outputs": [],
      "source": [
        "print(x * y) # поэлементное умножение"
      ]
    },
    {
      "cell_type": "markdown",
      "source": [
        "## Задание"
      ],
      "metadata": {
        "id": "95pa8_HnL7r0"
      }
    },
    {
      "cell_type": "markdown",
      "source": [
        "Умножьте матрицу `x` на транспонированную матрицу `y`.\n",
        "\n",
        "В ответ напишите последний элемент (правый нижний) полученной матрицы.  \n",
        "Ответ округлите до сотых."
      ],
      "metadata": {
        "id": "lmF9KzEtgGOa"
      }
    },
    {
      "cell_type": "code",
      "execution_count": null,
      "metadata": {
        "id": "8CeulY3jkRLx"
      },
      "outputs": [],
      "source": [
        "# your code here"
      ]
    },
    {
      "cell_type": "code",
      "execution_count": null,
      "metadata": {
        "colab": {
          "base_uri": "https://localhost:8080/"
        },
        "id": "JfIqJz8EkRLy",
        "outputId": "47f940f1-46d2-46fd-bd6e-4541f65d79d1"
      },
      "outputs": [
        {
          "output_type": "stream",
          "name": "stdout",
          "text": [
            "torch.Size([1, 5, 3])\n"
          ]
        }
      ],
      "source": [
        "print(x.unsqueeze(0).shape) # добавили измерение в начало, аналог броадкастинга "
      ]
    },
    {
      "cell_type": "code",
      "execution_count": null,
      "metadata": {
        "colab": {
          "base_uri": "https://localhost:8080/"
        },
        "id": "WlGFxytDkRLz",
        "outputId": "5dafb85e-16ee-4d9f-8803-79750e8a7435"
      },
      "outputs": [
        {
          "output_type": "stream",
          "name": "stdout",
          "text": [
            "torch.Size([5, 3])\n"
          ]
        }
      ],
      "source": [
        "print(x.unsqueeze(0).squeeze(0).shape) # убрали измерение в начале, аналог броадкастинга "
      ]
    },
    {
      "cell_type": "code",
      "source": [
        "a = torch.rand((1,3))\n",
        "a"
      ],
      "metadata": {
        "colab": {
          "base_uri": "https://localhost:8080/"
        },
        "id": "CDlNQv5hNb8S",
        "outputId": "333707ef-335c-471c-af4b-9a8c217693aa"
      },
      "execution_count": null,
      "outputs": [
        {
          "output_type": "execute_result",
          "data": {
            "text/plain": [
              "tensor([[0.8823, 0.9150, 0.3829]])"
            ]
          },
          "metadata": {},
          "execution_count": 27
        }
      ]
    },
    {
      "cell_type": "code",
      "source": [
        "a.squeeze(0)"
      ],
      "metadata": {
        "colab": {
          "base_uri": "https://localhost:8080/"
        },
        "id": "qzPXu8k4Nb_X",
        "outputId": "276fc68a-c6ff-4e57-c9dc-a9241c89cf24"
      },
      "execution_count": null,
      "outputs": [
        {
          "output_type": "execute_result",
          "data": {
            "text/plain": [
              "tensor([0.8823, 0.9150, 0.3829])"
            ]
          },
          "metadata": {},
          "execution_count": 28
        }
      ]
    },
    {
      "cell_type": "markdown",
      "metadata": {
        "id": "hVtkNSS8kRLz"
      },
      "source": [
        "Мы также можем делать обычные срезы и переводить матрицы назад в *NumPy*:"
      ]
    },
    {
      "cell_type": "code",
      "execution_count": null,
      "metadata": {
        "colab": {
          "base_uri": "https://localhost:8080/"
        },
        "id": "6Jv3jZimkRLz",
        "outputId": "769ab5b4-2e1e-4284-fe1f-39113344792a"
      },
      "outputs": [
        {
          "output_type": "stream",
          "name": "stdout",
          "text": [
            "True\n",
            "True\n"
          ]
        }
      ],
      "source": [
        "a = np.ones((3, 5))\n",
        "x = torch.ones((3, 5))\n",
        "print(np.allclose(x.numpy(), a))\n",
        "print(np.allclose(x.numpy()[:, 1], a[:, 1]))"
      ]
    },
    {
      "cell_type": "code",
      "source": [
        "a = np.array([1,2,3,4])\n",
        "b = np.array([[5],[6],[7],[8]])\n",
        "\n",
        "a.shape, b.shape"
      ],
      "metadata": {
        "colab": {
          "base_uri": "https://localhost:8080/"
        },
        "id": "5jCXz5cakiw5",
        "outputId": "369f255a-5144-476d-fe2a-09a527c704ef"
      },
      "execution_count": null,
      "outputs": [
        {
          "output_type": "execute_result",
          "data": {
            "text/plain": [
              "((4,), (4, 1))"
            ]
          },
          "metadata": {},
          "execution_count": 34
        }
      ]
    },
    {
      "cell_type": "code",
      "source": [
        "a @ b"
      ],
      "metadata": {
        "colab": {
          "base_uri": "https://localhost:8080/"
        },
        "id": "KtEUqtkZkp6-",
        "outputId": "c3fbc569-dfc0-4bd1-cd89-b235f1dcc66f"
      },
      "execution_count": null,
      "outputs": [
        {
          "output_type": "execute_result",
          "data": {
            "text/plain": [
              "array([70])"
            ]
          },
          "metadata": {},
          "execution_count": 32
        }
      ]
    },
    {
      "cell_type": "code",
      "source": [
        "b @ a"
      ],
      "metadata": {
        "colab": {
          "base_uri": "https://localhost:8080/",
          "height": 164
        },
        "id": "rYIcV16ukw3_",
        "outputId": "7903aabc-c2f4-4605-e1a8-985b1942814c"
      },
      "execution_count": null,
      "outputs": [
        {
          "output_type": "error",
          "ename": "ValueError",
          "evalue": "ignored",
          "traceback": [
            "\u001b[0;31m---------------------------------------------------------------------------\u001b[0m",
            "\u001b[0;31mValueError\u001b[0m                                Traceback (most recent call last)",
            "\u001b[0;32m<ipython-input-33-6948e4cb9803>\u001b[0m in \u001b[0;36m<module>\u001b[0;34m\u001b[0m\n\u001b[0;32m----> 1\u001b[0;31m \u001b[0mb\u001b[0m \u001b[0;34m@\u001b[0m \u001b[0ma\u001b[0m\u001b[0;34m\u001b[0m\u001b[0;34m\u001b[0m\u001b[0m\n\u001b[0m",
            "\u001b[0;31mValueError\u001b[0m: matmul: Input operand 1 has a mismatch in its core dimension 0, with gufunc signature (n?,k),(k,m?)->(n?,m?) (size 4 is different from 1)"
          ]
        }
      ]
    }
  ],
  "metadata": {
    "colab": {
      "provenance": []
    },
    "kernelspec": {
      "display_name": "Python 3",
      "language": "python",
      "name": "python3"
    },
    "language_info": {
      "codemirror_mode": {
        "name": "ipython",
        "version": 3
      },
      "file_extension": ".py",
      "mimetype": "text/x-python",
      "name": "python",
      "nbconvert_exporter": "python",
      "pygments_lexer": "ipython3",
      "version": "3.6.9"
    },
    "accelerator": "GPU",
    "gpuClass": "standard"
  },
  "nbformat": 4,
  "nbformat_minor": 0
}