{
  "cells": [
    {
      "cell_type": "markdown",
      "source": [
        "# Знакомство с PyTorch"
      ],
      "metadata": {
        "id": "r_a9kwC_ISKE"
      }
    },
    {
      "cell_type": "markdown",
      "metadata": {
        "id": "i1hv5i-PkRLO"
      },
      "source": [
        "Сейчас мы познакомимся с библиотекой *PyTorch*. Он очень похож на *NumPy*, и сейчас вы в этом убедитесь!\n",
        "\n",
        "А почему именно *PyTorch*? Почитать можно [здесь](https://habr.com/ru/post/334380/)."
      ]
    },
    {
      "cell_type": "markdown",
      "source": [
        "## Вспоминаем *NumPy* и сравниваем операции в *PyTorch*"
      ],
      "metadata": {
        "id": "A7GbQRcUIkT4"
      }
    },
    {
      "cell_type": "markdown",
      "metadata": {
        "id": "9Y0oUAuhkRLX"
      },
      "source": [
        "Мы можем создавать матрицы, перемножать их, складывать, транспонировать и в целом совершать любые матричные операции"
      ]
    },
    {
      "cell_type": "code",
      "execution_count": 1,
      "metadata": {
        "id": "3m6fDtKlkRLZ"
      },
      "outputs": [],
      "source": [
        "import numpy as np \n",
        "\n",
        "import torch\n",
        "import torchvision\n",
        "\n",
        "import torch.nn as nn\n",
        "import torch.nn.functional as F\n",
        "\n",
        "import matplotlib.pyplot as plt"
      ]
    },
    {
      "cell_type": "code",
      "execution_count": 2,
      "metadata": {
        "id": "nKJ_eIf9kRLc"
      },
      "outputs": [],
      "source": [
        "np.random.seed(42)\n",
        "\n",
        "a = np.random.rand(5, 3) # создали случайную матрицу "
      ]
    },
    {
      "cell_type": "code",
      "execution_count": 3,
      "metadata": {
        "colab": {
          "base_uri": "https://localhost:8080/"
        },
        "id": "m7QzfmpNkRLd",
        "outputId": "2e4dab79-b7b8-4634-9d59-b5d5dd2399a0"
      },
      "outputs": [
        {
          "output_type": "stream",
          "name": "stdout",
          "text": [
            "Проверили размеры : (5, 3)\n",
            "\n"
          ]
        }
      ],
      "source": [
        "print(\"Проверили размеры : %s\\n\" % (a.shape,))"
      ]
    },
    {
      "cell_type": "code",
      "execution_count": 4,
      "metadata": {
        "colab": {
          "base_uri": "https://localhost:8080/"
        },
        "id": "iSH48GyMkRLe",
        "outputId": "b271c95f-21c6-462e-bfa6-b7cf631e6c5e"
      },
      "outputs": [
        {
          "output_type": "stream",
          "name": "stdout",
          "text": [
            "Добавили 5 :\n",
            "[[5.37454012 5.95071431 5.73199394]\n",
            " [5.59865848 5.15601864 5.15599452]\n",
            " [5.05808361 5.86617615 5.60111501]\n",
            " [5.70807258 5.02058449 5.96990985]\n",
            " [5.83244264 5.21233911 5.18182497]]\n",
            "\n"
          ]
        }
      ],
      "source": [
        "print(\"Добавили 5 :\\n%s\\n\" % (a + 5))"
      ]
    },
    {
      "cell_type": "markdown",
      "source": [
        "## Задание"
      ],
      "metadata": {
        "id": "5PQpPyl-eNWC"
      }
    },
    {
      "cell_type": "markdown",
      "source": [
        "Умножьте матрицу `а` на транспонированную матрицу `а`.  \n",
        "\n",
        "Чему равен самый первый элемент результата?  \n",
        "Ответ округлите до сотых."
      ],
      "metadata": {
        "id": "Q-Xs6jUiJUqc"
      }
    },
    {
      "cell_type": "code",
      "execution_count": 5,
      "metadata": {
        "id": "3PH52x_pkRLf",
        "outputId": "78c1a7c4-739f-4d4f-ccf4-828e769c9c05",
        "colab": {
          "base_uri": "https://localhost:8080/"
        }
      },
      "outputs": [
        {
          "output_type": "execute_result",
          "data": {
            "text/plain": [
              "1.58"
            ]
          },
          "metadata": {},
          "execution_count": 5
        }
      ],
      "source": [
        "# your code here\n",
        "round((a @ a.T)[0, 0], 2)"
      ]
    },
    {
      "cell_type": "code",
      "execution_count": 6,
      "metadata": {
        "colab": {
          "base_uri": "https://localhost:8080/"
        },
        "id": "NdmpOlEZkRLg",
        "outputId": "b760065b-a100-4d2a-dddf-b1dc7bbaceac"
      },
      "outputs": [
        {
          "output_type": "stream",
          "name": "stdout",
          "text": [
            "Среднее по колонкам :\n",
            "[0.68574946 0.30355721 0.50845826 0.56618897 0.40886891]\n",
            "\n"
          ]
        }
      ],
      "source": [
        "print(\"Среднее по колонкам :\\n%s\\n\" % (a.mean(axis=-1)))"
      ]
    },
    {
      "cell_type": "code",
      "execution_count": 7,
      "metadata": {
        "colab": {
          "base_uri": "https://localhost:8080/"
        },
        "id": "4jbmtVfLkRLh",
        "outputId": "9d033abe-4f5c-4b88-c502-7a1924279892"
      },
      "outputs": [
        {
          "output_type": "stream",
          "name": "stdout",
          "text": [
            "Изменили размеры :\n",
            "(3, 5)\n",
            "\n"
          ]
        }
      ],
      "source": [
        "print(\"Изменили размеры :\\n%s\\n\" % (a.reshape(3, 5).shape,))"
      ]
    },
    {
      "cell_type": "markdown",
      "metadata": {
        "id": "gOccPs9wkRLi"
      },
      "source": [
        "## Задание\n",
        "\n",
        "При помощи *NumPy* посчитайте сумму квадратов натуральных чисел от 1 до 10000."
      ]
    },
    {
      "cell_type": "code",
      "execution_count": 8,
      "metadata": {
        "id": "AXxc0OADkRLi",
        "outputId": "e5ecaf8b-bc31-4428-9617-adfb6159be4f",
        "colab": {
          "base_uri": "https://localhost:8080/"
        }
      },
      "outputs": [
        {
          "output_type": "execute_result",
          "data": {
            "text/plain": [
              "333383335000.0"
            ]
          },
          "metadata": {},
          "execution_count": 8
        }
      ],
      "source": [
        "# your code here\n",
        "a = np.linspace(1, 10_000, 10_000)\n",
        "np.sum(a*a)"
      ]
    },
    {
      "cell_type": "markdown",
      "metadata": {
        "id": "e0k_uiiokRLj"
      },
      "source": [
        "Аналогичные операции в *PyTorch* выглядят следующим образом, синтаксис отличается, но совсем немного:"
      ]
    },
    {
      "cell_type": "code",
      "execution_count": 9,
      "metadata": {
        "colab": {
          "base_uri": "https://localhost:8080/"
        },
        "id": "PWv2AHRykRLk",
        "outputId": "87e97abe-604d-4a88-9c29-032701383dc9"
      },
      "outputs": [
        {
          "output_type": "execute_result",
          "data": {
            "text/plain": [
              "tensor([[0.3579, 0.0989, 0.3684],\n",
              "        [0.9048, 0.1367, 0.6982],\n",
              "        [0.7470, 0.3136, 0.2804],\n",
              "        [0.5586, 0.8997, 0.3720],\n",
              "        [0.8816, 0.3273, 0.3681]])"
            ]
          },
          "metadata": {},
          "execution_count": 9
        }
      ],
      "source": [
        "x = torch.rand(5, 3)\n",
        "x"
      ]
    },
    {
      "cell_type": "code",
      "execution_count": 10,
      "metadata": {
        "colab": {
          "base_uri": "https://localhost:8080/"
        },
        "id": "fjNGDbtPkRLk",
        "outputId": "2937ce86-e8e4-4e70-a3e9-034bb6f6d4f5"
      },
      "outputs": [
        {
          "output_type": "stream",
          "name": "stdout",
          "text": [
            "Проверили размеры : torch.Size([5, 3])\n",
            "\n"
          ]
        }
      ],
      "source": [
        "print(\"Проверили размеры : %s\\n\" % (x.shape,))"
      ]
    },
    {
      "cell_type": "code",
      "execution_count": 11,
      "metadata": {
        "colab": {
          "base_uri": "https://localhost:8080/"
        },
        "id": "DALGo7QHkRLl",
        "outputId": "2552dc71-3c60-444e-f1fd-29994c8ecbf3"
      },
      "outputs": [
        {
          "output_type": "stream",
          "name": "stdout",
          "text": [
            "Добавили 5 :\n",
            "tensor([[5.3579, 5.0989, 5.3684],\n",
            "        [5.9048, 5.1367, 5.6982],\n",
            "        [5.7470, 5.3136, 5.2804],\n",
            "        [5.5586, 5.8997, 5.3720],\n",
            "        [5.8816, 5.3273, 5.3681]])\n",
            "\n"
          ]
        }
      ],
      "source": [
        "print(\"Добавили 5 :\\n%s\\n\" % (x + 5))"
      ]
    },
    {
      "cell_type": "code",
      "execution_count": 12,
      "metadata": {
        "colab": {
          "base_uri": "https://localhost:8080/"
        },
        "id": "gm7QOaAQkRLm",
        "outputId": "cadd0734-8fc1-4546-8707-3fc2691b6337"
      },
      "outputs": [
        {
          "output_type": "stream",
          "name": "stdout",
          "text": [
            "X*X^T  (1):\n",
            "tensor([[0.2736, 0.5946, 0.4017, 0.4259, 0.4835],\n",
            "        [0.5946, 1.3249, 0.9146, 0.8882, 1.0995],\n",
            "        [0.4017, 0.9146, 0.7350, 0.8038, 0.8644],\n",
            "        [0.4259, 0.8882, 0.8038, 1.2599, 0.9239],\n",
            "        [0.4835, 1.0995, 0.8644, 0.9239, 1.0198]])\n",
            "\n",
            "X*X^T  (2):\n",
            "tensor([[0.2736, 0.5946, 0.4017, 0.4259, 0.4835],\n",
            "        [0.5946, 1.3249, 0.9146, 0.8882, 1.0995],\n",
            "        [0.4017, 0.9146, 0.7350, 0.8038, 0.8644],\n",
            "        [0.4259, 0.8882, 0.8038, 1.2599, 0.9239],\n",
            "        [0.4835, 1.0995, 0.8644, 0.9239, 1.0198]])\n",
            "\n"
          ]
        }
      ],
      "source": [
        "print(\"X*X^T  (1):\\n%s\\n\" % (torch.matmul(x, x.transpose(1, 0))))\n",
        "print(\"X*X^T  (2):\\n%s\\n\" % (x.mm(x.t())))"
      ]
    },
    {
      "cell_type": "code",
      "execution_count": 13,
      "metadata": {
        "colab": {
          "base_uri": "https://localhost:8080/"
        },
        "id": "9MlA4NnokRLm",
        "outputId": "cf158c29-92b9-4ad8-d5f8-812dd4ad071f"
      },
      "outputs": [
        {
          "output_type": "stream",
          "name": "stdout",
          "text": [
            "Среднее по колонкам :\n",
            "tensor([0.2751, 0.5799, 0.4470, 0.6101, 0.5257])\n",
            "\n"
          ]
        }
      ],
      "source": [
        "print(\"Среднее по колонкам :\\n%s\\n\" % (x.mean(dim=-1)))"
      ]
    },
    {
      "cell_type": "code",
      "execution_count": 14,
      "metadata": {
        "colab": {
          "base_uri": "https://localhost:8080/"
        },
        "id": "1wqQTDpOkRLn",
        "outputId": "9c5458ba-ada4-42bb-ccbb-a65093714459"
      },
      "outputs": [
        {
          "output_type": "stream",
          "name": "stdout",
          "text": [
            "Изменили размеры :\n",
            "torch.Size([3, 5])\n",
            "\n",
            "Изменили размеры :\n",
            "torch.Size([3, 5])\n",
            "\n"
          ]
        }
      ],
      "source": [
        "print(\"Изменили размеры :\\n%s\\n\" % (x.view([3, 5]).shape,))\n",
        "print(\"Изменили размеры :\\n%s\\n\" % (x.view_as(x.t()).shape,))"
      ]
    },
    {
      "cell_type": "markdown",
      "metadata": {
        "id": "EtnLnIxPkRLn"
      },
      "source": [
        "Небольшой пример того, как меняются операции:\n",
        "\n",
        "* `x.reshape([1,2,8]) -> x.view(1,2,8)`\n",
        "\n",
        "* `x.sum(axis=-1) -> x.sum(dim=-1)`\n",
        "\n",
        "* `x.astype('int64') -> x.type(torch.LongTensor)`\n",
        "\n",
        "Для помощи вам есть [таблица](https://github.com/torch/torch7/wiki/Torch-for-Numpy-users), которая поможет вам найти аналог операции в *NumPy*.\n"
      ]
    },
    {
      "cell_type": "markdown",
      "metadata": {
        "id": "V-QMteahkRLo"
      },
      "source": [
        "При помощи *PyTorch* посчитаем сумму квадратов натуральных чисел от 1 до 10000."
      ]
    },
    {
      "cell_type": "code",
      "execution_count": 15,
      "metadata": {
        "colab": {
          "base_uri": "https://localhost:8080/"
        },
        "id": "rHzmts5AkRLo",
        "outputId": "d91ee1ed-2a2a-4cce-f7f1-8ec59e36c447"
      },
      "outputs": [
        {
          "output_type": "stream",
          "name": "stderr",
          "text": [
            "<ipython-input-15-b9d129fd8adb>:1: UserWarning: torch.range is deprecated and will be removed in a future release because its behavior is inconsistent with Python's range builtin. Instead, use torch.arange, which produces values in [start, end).\n",
            "  torch.sum(torch.range(1, 10000) ** 2)\n"
          ]
        },
        {
          "output_type": "execute_result",
          "data": {
            "text/plain": [
              "tensor(3.3338e+11)"
            ]
          },
          "metadata": {},
          "execution_count": 15
        }
      ],
      "source": [
        "torch.sum(torch.range(1, 10000) ** 2)"
      ]
    },
    {
      "cell_type": "markdown",
      "metadata": {
        "id": "-ebxkKPikRLp"
      },
      "source": [
        "Создаем тензоры в *PyTorch* и снова изучаем базовые операции"
      ]
    },
    {
      "cell_type": "code",
      "execution_count": 16,
      "metadata": {
        "colab": {
          "base_uri": "https://localhost:8080/"
        },
        "id": "lnxk_oJZkRLq",
        "outputId": "20f6a332-eae8-46ed-9106-1495eae41ecd"
      },
      "outputs": [
        {
          "output_type": "stream",
          "name": "stdout",
          "text": [
            "tensor([[2.1917e+27, 4.5747e-41, 1.3516e-34],\n",
            "        [0.0000e+00, 0.0000e+00, 0.0000e+00],\n",
            "        [0.0000e+00, 0.0000e+00, 0.0000e+00],\n",
            "        [0.0000e+00, 7.7052e+31, 7.2148e+22],\n",
            "        [1.5766e-19, 1.0256e-08, 1.0255e-08]])\n"
          ]
        }
      ],
      "source": [
        "x = torch.empty(5, 3) # пустой тензор\n",
        "print(x)"
      ]
    },
    {
      "cell_type": "code",
      "execution_count": 17,
      "metadata": {
        "colab": {
          "base_uri": "https://localhost:8080/"
        },
        "id": "fKAtmLU1kRLr",
        "outputId": "7fc2892b-178f-46d0-c753-d760865599c1"
      },
      "outputs": [
        {
          "output_type": "stream",
          "name": "stdout",
          "text": [
            "tensor([[0.1212, 0.2491, 0.0079],\n",
            "        [0.0436, 0.5557, 0.1318],\n",
            "        [0.7109, 0.0437, 0.4114],\n",
            "        [0.1925, 0.1125, 0.9011],\n",
            "        [0.5026, 0.4141, 0.4882]])\n"
          ]
        }
      ],
      "source": [
        "x = torch.rand(5, 3) # тензор со случайными числами\n",
        "print(x)"
      ]
    },
    {
      "cell_type": "code",
      "execution_count": 18,
      "metadata": {
        "colab": {
          "base_uri": "https://localhost:8080/"
        },
        "id": "xSMg9XO5kRLr",
        "outputId": "6eb0f917-73b4-42fd-870b-c0a3c5dea579"
      },
      "outputs": [
        {
          "output_type": "stream",
          "name": "stdout",
          "text": [
            "tensor([[0, 0, 0],\n",
            "        [0, 0, 0],\n",
            "        [0, 0, 0],\n",
            "        [0, 0, 0],\n",
            "        [0, 0, 0]])\n"
          ]
        }
      ],
      "source": [
        "x = torch.zeros(5, 3, dtype=torch.long) # тензор с нулями и указанием типов чисел\n",
        "print(x)"
      ]
    },
    {
      "cell_type": "code",
      "execution_count": 19,
      "metadata": {
        "colab": {
          "base_uri": "https://localhost:8080/"
        },
        "id": "FQlyXpO1kRLs",
        "outputId": "5880d3a3-4a6f-4b70-e466-eab9b05a6452"
      },
      "outputs": [
        {
          "output_type": "stream",
          "name": "stdout",
          "text": [
            "tensor([5.5000, 3.0000])\n"
          ]
        }
      ],
      "source": [
        "x = torch.tensor([5.5, 3]) # конструируем тензор из питоновского листа\n",
        "print(x)"
      ]
    },
    {
      "cell_type": "code",
      "execution_count": 20,
      "metadata": {
        "colab": {
          "base_uri": "https://localhost:8080/"
        },
        "id": "9upBvFU3kRLs",
        "outputId": "289728c6-bb0b-432e-eb70-a281977434d5"
      },
      "outputs": [
        {
          "output_type": "stream",
          "name": "stdout",
          "text": [
            "tensor([[1., 1., 1.],\n",
            "        [1., 1., 1.],\n",
            "        [1., 1., 1.],\n",
            "        [1., 1., 1.],\n",
            "        [1., 1., 1.]], dtype=torch.float64) torch.Size([5, 3])\n"
          ]
        }
      ],
      "source": [
        "x = x.new_ones(5, 3, dtype=torch.double) # используем уже созданный тензор для создания тензора из единичек\n",
        "print(x, x.size()) "
      ]
    },
    {
      "cell_type": "code",
      "execution_count": 21,
      "metadata": {
        "colab": {
          "base_uri": "https://localhost:8080/"
        },
        "id": "_u-h30lYkRLt",
        "outputId": "cc74e1ad-c0c4-4e2d-a361-e1e00cb19541"
      },
      "outputs": [
        {
          "output_type": "stream",
          "name": "stdout",
          "text": [
            "tensor([[-1.6983,  0.0249, -2.1670],\n",
            "        [ 1.2955,  0.3561,  0.4395],\n",
            "        [ 0.5696,  0.3200, -1.0478],\n",
            "        [ 0.3721,  1.1459,  0.7173],\n",
            "        [-1.5992,  0.9534, -0.3797]]) torch.Size([5, 3])\n"
          ]
        }
      ],
      "source": [
        "x = torch.randn_like(x, dtype=torch.float) # создаем матрицу с размерами как у x\n",
        "print(x, x.size())"
      ]
    },
    {
      "cell_type": "markdown",
      "source": [
        "## Задание"
      ],
      "metadata": {
        "id": "nct86OE6Lzdt"
      }
    },
    {
      "cell_type": "markdown",
      "source": [
        "Сгенерируйте два тензора: `x` и `y` размера 5 на 3 со случайными числами.\n",
        "Вычислите сумму тензоров `x` и `y`.\n",
        "\n",
        "В ответе напишите значение первой координаты в полученной суммы, округленной до сотых."
      ],
      "metadata": {
        "id": "VdZOcgoafJdK"
      }
    },
    {
      "cell_type": "code",
      "execution_count": 24,
      "metadata": {
        "id": "f-zCf-MhkRLt"
      },
      "outputs": [],
      "source": [
        "torch.manual_seed(42)\n",
        "\n",
        "# your code here\n",
        "x = torch.rand(5, 3)\n",
        "y = torch.rand(5, 3)"
      ]
    },
    {
      "cell_type": "code",
      "execution_count": 27,
      "metadata": {
        "id": "fwOv0PQykRLw",
        "outputId": "635f49f6-f6e3-45c4-a232-355b7c0f7f73",
        "colab": {
          "base_uri": "https://localhost:8080/"
        }
      },
      "outputs": [
        {
          "output_type": "stream",
          "name": "stdout",
          "text": [
            "tensor([[1.3117, 1.8004, 0.9568],\n",
            "        [1.2259, 1.0179, 0.8705],\n",
            "        [0.6979, 1.0906, 1.7725],\n",
            "        [0.2385, 1.2041, 0.9524],\n",
            "        [1.0688, 1.1149, 0.7473]])\n"
          ]
        }
      ],
      "source": [
        "# print(x * y) # поэлементное умножение\n",
        "print(x + y)"
      ]
    },
    {
      "cell_type": "markdown",
      "source": [
        "## Задание"
      ],
      "metadata": {
        "id": "95pa8_HnL7r0"
      }
    },
    {
      "cell_type": "markdown",
      "source": [
        "Умножьте матрицу `x` на транспонированную матрицу `y`.\n",
        "\n",
        "В ответ напишите последний элемент (правый нижний) полученной матрицы.  \n",
        "Ответ округлите до сотых."
      ],
      "metadata": {
        "id": "lmF9KzEtgGOa"
      }
    },
    {
      "cell_type": "code",
      "execution_count": 39,
      "metadata": {
        "id": "8CeulY3jkRLx",
        "outputId": "647cce70-2707-49f5-d777-2ccbd6cc205e",
        "colab": {
          "base_uri": "https://localhost:8080/"
        }
      },
      "outputs": [
        {
          "output_type": "execute_result",
          "data": {
            "text/plain": [
              "tensor(0.4900)"
            ]
          },
          "metadata": {},
          "execution_count": 39
        }
      ],
      "source": [
        "# your code here\n",
        "res = x @ y.T\n",
        "torch.round(res[res.shape[0]-1, res.shape[1]-1], decimals=2)"
      ]
    },
    {
      "cell_type": "code",
      "execution_count": 40,
      "metadata": {
        "colab": {
          "base_uri": "https://localhost:8080/"
        },
        "id": "JfIqJz8EkRLy",
        "outputId": "ba01f8ea-b24b-44b6-c36b-cf60241d9af1"
      },
      "outputs": [
        {
          "output_type": "stream",
          "name": "stdout",
          "text": [
            "torch.Size([1, 5, 3])\n"
          ]
        }
      ],
      "source": [
        "print(x.unsqueeze(0).shape) # добавили измерение в начало, аналог броадкастинга "
      ]
    },
    {
      "cell_type": "code",
      "execution_count": 41,
      "metadata": {
        "colab": {
          "base_uri": "https://localhost:8080/"
        },
        "id": "WlGFxytDkRLz",
        "outputId": "0097d62a-de09-47ac-b380-82cb98a1d953"
      },
      "outputs": [
        {
          "output_type": "stream",
          "name": "stdout",
          "text": [
            "torch.Size([5, 3])\n"
          ]
        }
      ],
      "source": [
        "print(x.unsqueeze(0).squeeze(0).shape) # убрали измерение в начале, аналог броадкастинга "
      ]
    },
    {
      "cell_type": "code",
      "source": [
        "a = torch.rand((1,3))\n",
        "a"
      ],
      "metadata": {
        "colab": {
          "base_uri": "https://localhost:8080/"
        },
        "id": "CDlNQv5hNb8S",
        "outputId": "d28cb57e-f7da-435b-e936-d91f0513cc33"
      },
      "execution_count": 42,
      "outputs": [
        {
          "output_type": "execute_result",
          "data": {
            "text/plain": [
              "tensor([[0.9516, 0.0753, 0.8860]])"
            ]
          },
          "metadata": {},
          "execution_count": 42
        }
      ]
    },
    {
      "cell_type": "code",
      "source": [
        "a.squeeze(0)"
      ],
      "metadata": {
        "colab": {
          "base_uri": "https://localhost:8080/"
        },
        "id": "qzPXu8k4Nb_X",
        "outputId": "60e21533-56a0-4f3f-cace-9028b372bcd6"
      },
      "execution_count": 43,
      "outputs": [
        {
          "output_type": "execute_result",
          "data": {
            "text/plain": [
              "tensor([0.9516, 0.0753, 0.8860])"
            ]
          },
          "metadata": {},
          "execution_count": 43
        }
      ]
    },
    {
      "cell_type": "markdown",
      "metadata": {
        "id": "hVtkNSS8kRLz"
      },
      "source": [
        "Мы также можем делать обычные срезы и переводить матрицы назад в *NumPy*:"
      ]
    },
    {
      "cell_type": "code",
      "execution_count": 44,
      "metadata": {
        "colab": {
          "base_uri": "https://localhost:8080/"
        },
        "id": "6Jv3jZimkRLz",
        "outputId": "0fd9d66a-53f4-46cb-a55c-abd98e340ea8"
      },
      "outputs": [
        {
          "output_type": "stream",
          "name": "stdout",
          "text": [
            "True\n",
            "True\n"
          ]
        }
      ],
      "source": [
        "a = np.ones((3, 5))\n",
        "x = torch.ones((3, 5))\n",
        "print(np.allclose(x.numpy(), a))\n",
        "print(np.allclose(x.numpy()[:, 1], a[:, 1]))"
      ]
    },
    {
      "cell_type": "code",
      "source": [
        "a = np.array([1,2,3,4])\n",
        "b = np.array([[5],[6],[7],[8]])\n",
        "\n",
        "a.shape, b.shape"
      ],
      "metadata": {
        "colab": {
          "base_uri": "https://localhost:8080/"
        },
        "id": "5jCXz5cakiw5",
        "outputId": "cf63d0ce-3ee2-491f-f321-823c3d900496"
      },
      "execution_count": 45,
      "outputs": [
        {
          "output_type": "execute_result",
          "data": {
            "text/plain": [
              "((4,), (4, 1))"
            ]
          },
          "metadata": {},
          "execution_count": 45
        }
      ]
    },
    {
      "cell_type": "code",
      "source": [
        "a @ b"
      ],
      "metadata": {
        "colab": {
          "base_uri": "https://localhost:8080/"
        },
        "id": "KtEUqtkZkp6-",
        "outputId": "2bb620a5-5fd6-46f6-cfe0-4bb5ef41ffd4"
      },
      "execution_count": 46,
      "outputs": [
        {
          "output_type": "execute_result",
          "data": {
            "text/plain": [
              "array([70])"
            ]
          },
          "metadata": {},
          "execution_count": 46
        }
      ]
    },
    {
      "cell_type": "code",
      "source": [
        "# b @ a\n",
        "# Error"
      ],
      "metadata": {
        "id": "rYIcV16ukw3_"
      },
      "execution_count": 48,
      "outputs": []
    }
  ],
  "metadata": {
    "colab": {
      "provenance": []
    },
    "kernelspec": {
      "display_name": "Python 3",
      "language": "python",
      "name": "python3"
    },
    "language_info": {
      "codemirror_mode": {
        "name": "ipython",
        "version": 3
      },
      "file_extension": ".py",
      "mimetype": "text/x-python",
      "name": "python",
      "nbconvert_exporter": "python",
      "pygments_lexer": "ipython3",
      "version": "3.6.9"
    },
    "accelerator": "GPU",
    "gpuClass": "standard"
  },
  "nbformat": 4,
  "nbformat_minor": 0
}